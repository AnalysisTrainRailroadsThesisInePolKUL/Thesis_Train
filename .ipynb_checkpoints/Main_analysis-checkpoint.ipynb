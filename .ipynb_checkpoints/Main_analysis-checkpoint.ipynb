{
 "cells": [
  {
   "cell_type": "markdown",
   "metadata": {
    "id": "o9mOZQ0mOtxI"
   },
   "source": [
    "# Import of packages"
   ]
  },
  {
   "cell_type": "code",
   "execution_count": null,
   "metadata": {
    "colab": {
     "base_uri": "https://localhost:8080/",
     "height": 1000
    },
    "executionInfo": {
     "elapsed": 42534,
     "status": "ok",
     "timestamp": 1617437215275,
     "user": {
      "displayName": "Ine Winters",
      "photoUrl": "",
      "userId": "11267554535649979995"
     },
     "user_tz": -120
    },
    "id": "XeE0n9L1OtyO",
    "outputId": "ed3f5aa5-e4b0-4018-b166-88f7429fd482",
    "scrolled": true
   },
   "outputs": [],
   "source": [
    "'''To install the required packages that are not included in Colaboratory.'''\n",
    "#Installation of packages that are not included in Colaboratory\n",
    "!pip install kneed\n",
    "!pip install osmnx\n",
    "\n",
    "'''To install a specific version of the matplotlib package.'''\n",
    "!pip install matplotlib==3.1.3\n",
    "\n",
    "'''To import the required packages.'''\n",
    "import pandas as pd\n",
    "import numpy as np\n",
    "import networkx as nx\n",
    "import collections\n",
    "import matplotlib.pyplot as plt\n",
    "import math\n",
    "from geopy.geocoders import Nominatim\n",
    "from geopy.extra.rate_limiter import RateLimiter\n",
    "import os\n",
    "import matplotlib.image as mpimg\n",
    "\n",
    "from kneed import KneeLocator\n",
    "import seaborn as sns\n",
    "from sklearn.cluster import KMeans\n",
    "from scipy.spatial import distance\n",
    "from sklearn.neighbors.nearest_centroid import NearestCentroid\n",
    "from sklearn.preprocessing import StandardScaler\n",
    "from sklearn.pipeline import Pipeline\n",
    "from sklearn.preprocessing import LabelEncoder, MinMaxScaler\n",
    "from sklearn.decomposition import PCA\n",
    "\n",
    "import osmnx as ox"
   ]
  },
  {
   "cell_type": "markdown",
   "metadata": {
    "id": "3XrxuJtuOtyT"
   },
   "source": [
    "# Settings"
   ]
  },
  {
   "cell_type": "code",
   "execution_count": null,
   "metadata": {
    "executionInfo": {
     "elapsed": 40444,
     "status": "ok",
     "timestamp": 1617437215281,
     "user": {
      "displayName": "Ine Winters",
      "photoUrl": "",
      "userId": "11267554535649979995"
     },
     "user_tz": -120
    },
    "id": "FjSmD84JOtyU"
   },
   "outputs": [],
   "source": [
    "'''To display all output results of a Jupyter cell.'''\n",
    "from IPython.core.interactiveshell import InteractiveShell\n",
    "InteractiveShell.ast_node_interactivity = \"all\""
   ]
  },
  {
   "cell_type": "code",
   "execution_count": null,
   "metadata": {
    "colab": {
     "base_uri": "https://localhost:8080/",
     "height": 35
    },
    "executionInfo": {
     "elapsed": 40358,
     "status": "ok",
     "timestamp": 1617437215285,
     "user": {
      "displayName": "Ine Winters",
      "photoUrl": "",
      "userId": "11267554535649979995"
     },
     "user_tz": -120
    },
    "id": "bGFkJGl6OtyW",
    "outputId": "d5343843-bfb0-4377-a7ca-54189af0fb35"
   },
   "outputs": [],
   "source": [
    "'''To ensure that the output results of extensive output results are not truncated.'''\n",
    "#pd.options.display.max_rows = 4000"
   ]
  },
  {
   "cell_type": "markdown",
   "metadata": {},
   "source": [
    "# File locations\n"
   ]
  },
  {
   "cell_type": "code",
   "execution_count": null,
   "metadata": {},
   "outputs": [],
   "source": [
    "'''If your computer is a Windows and that you are using the file locally (repository_loc == os.getcwd()) put True, False otherwise'''\n",
    "windows_locally = False "
   ]
  },
  {
   "cell_type": "code",
   "execution_count": null,
   "metadata": {},
   "outputs": [],
   "source": [
    "'''Register the GitHub link or the file relative location'''\n",
    "#the Github link\n",
    "#repository_loc = \"https://raw.githubusercontent.com/polkuleuven/Thesis_Train/main\"\n",
    "#the local link\n",
    "repository_loc = os.getcwd()"
   ]
  },
  {
   "cell_type": "code",
   "execution_count": null,
   "metadata": {},
   "outputs": [],
   "source": [
    "'''Get the other folder locations'''\n",
    "\n",
    "stops_cleaned_loc = repository_loc + '/stops_cleaned/'\n",
    "df_for_edges_loc = repository_loc + '/df_for_edges/'\n",
    "routes_loc = repository_loc + '/routes/'\n",
    "coutries_train_networks_loc = repository_loc + '/countries_train_networks'\n",
    "images_loc = repository_loc + '/images/'\n",
    "\n",
    "if windows_locally:\n",
    "    stops_cleaned_loc = stops_cleaned_loc.replace('/', \" \\\\\\ \").replace(' ', \"\")\n",
    "    df_for_edges_loc = df_for_edges_loc.replace('/', \" \\\\\\ \").replace(' ', \"\")\n",
    "    routes_loc = routes_loc.replace('/', \" \\\\\\ \").replace(' ', \"\")    \n",
    "    coutries_train_networks_loc = coutries_train_networks_loc.replace('/', \"\\\\\\ \").replace(' ', \"\") \n",
    "    images_loc = images_loc.replace('/', \"\\\\\\ \").replace(' ', \"\") "
   ]
  },
  {
   "cell_type": "markdown",
   "metadata": {
    "id": "adRGa184Otyd"
   },
   "source": [
    "# Import of the DataFrames"
   ]
  },
  {
   "cell_type": "code",
   "execution_count": null,
   "metadata": {
    "colab": {
     "base_uri": "https://localhost:8080/",
     "height": 35
    },
    "executionInfo": {
     "elapsed": 40953,
     "status": "ok",
     "timestamp": 1617437215961,
     "user": {
      "displayName": "Ine Winters",
      "photoUrl": "",
      "userId": "11267554535649979995"
     },
     "user_tz": -120
    },
    "id": "x35Xmh9pOtye",
    "outputId": "dcdf0d7c-f5b5-46cc-a772-8abaca5b1045"
   },
   "outputs": [],
   "source": [
    "''' To import the df_for_edges dfs of Belgium and the Netherlands'''\n",
    "df_for_edges_Belgium = pd.read_csv( df_for_edges_loc + 'df_for_edges_Belgium.csv', sep=\",\")\n",
    "df_for_edges_Netherlands = pd.read_csv(df_for_edges_loc + 'df_for_edges_Netherlands.csv', sep=\",\")\n",
    "df_for_edges_Switzerland = pd.read_csv(df_for_edges_loc + 'df_for_edges_Switzerland.csv', sep=\",\")"
   ]
  },
  {
   "cell_type": "code",
   "execution_count": null,
   "metadata": {
    "colab": {
     "base_uri": "https://localhost:8080/",
     "height": 35
    },
    "executionInfo": {
     "elapsed": 41245,
     "status": "ok",
     "timestamp": 1617437216275,
     "user": {
      "displayName": "Ine Winters",
      "photoUrl": "",
      "userId": "11267554535649979995"
     },
     "user_tz": -120
    },
    "id": "YABsdIlrOtyh",
    "outputId": "1da5244c-977a-4902-9c5a-dfc14d4c345f"
   },
   "outputs": [],
   "source": [
    "''' To import the stops_cleaned df for Belgium and the Netherlands'''\n",
    "stops_cleaned_Belgium = pd.read_csv(stops_cleaned_loc + 'stops_cleaned_Belgium.csv', sep=\",\")\n",
    "stops_cleaned_Netherlands = pd.read_csv(stops_cleaned_loc + 'stops_cleaned_Netherlands.csv', sep=\",\")\n",
    "stops_cleaned_Switzerland = pd.read_csv(stops_cleaned_loc + 'stops_cleaned_Switzerland.csv', sep=\",\")"
   ]
  },
  {
   "cell_type": "code",
   "execution_count": null,
   "metadata": {
    "colab": {
     "base_uri": "https://localhost:8080/",
     "height": 35
    },
    "executionInfo": {
     "elapsed": 42279,
     "status": "ok",
     "timestamp": 1617437217397,
     "user": {
      "displayName": "Ine Winters",
      "photoUrl": "",
      "userId": "11267554535649979995"
     },
     "user_tz": -120
    },
    "id": "v4MACWPEOtyi",
    "outputId": "da578a24-09df-4842-d9cf-84124ee2e268"
   },
   "outputs": [],
   "source": [
    "''' To import the belgian_routes_Belgium and the dutch_routes_Netherlands csvs'''\n",
    "belgian_routes_Belgium = pd.read_csv(routes_loc + 'belgian_routes_Belgium.csv', sep=\",\")\n",
    "dutch_routes_Netherlands = pd.read_csv(routes_loc + 'dutch_routes_Netherlands.csv', sep=\",\")\n",
    "swiss_routes_Switzerland = pd.read_csv(routes_loc + 'swiss_routes_Switzerland.csv', sep=\",\")"
   ]
  },
  {
   "cell_type": "markdown",
   "metadata": {
    "id": "m8i9vNY1Otyk"
   },
   "source": [
    "# Research question 1: How similar are railway systems in terms of their global network metrics? Comparison of the Belgian and the Dutch railway system in L-space representation"
   ]
  },
  {
   "cell_type": "markdown",
   "metadata": {},
   "source": [
    "## Functions"
   ]
  },
  {
   "cell_type": "code",
   "execution_count": null,
   "metadata": {
    "colab": {
     "base_uri": "https://localhost:8080/",
     "height": 35
    },
    "executionInfo": {
     "elapsed": 42241,
     "status": "ok",
     "timestamp": 1617437217399,
     "user": {
      "displayName": "Ine Winters",
      "photoUrl": "",
      "userId": "11267554535649979995"
     },
     "user_tz": -120
    },
    "id": "n24eNEICOtzM",
    "outputId": "79eb79b4-e5f6-4ae8-ad13-a17a07caf773"
   },
   "outputs": [],
   "source": [
    "''' To construct the network graph for the country '''\n",
    "def create_graph(df_for_edges):\n",
    "    G = nx.Graph()\n",
    "    G = nx.from_pandas_edgelist(df_for_edges, 'stop_name_1', 'stop_name_2')\n",
    "    return G"
   ]
  },
  {
   "cell_type": "code",
   "execution_count": null,
   "metadata": {
    "colab": {
     "base_uri": "https://localhost:8080/",
     "height": 35
    },
    "executionInfo": {
     "elapsed": 42210,
     "status": "ok",
     "timestamp": 1617437217408,
     "user": {
      "displayName": "Ine Winters",
      "photoUrl": "",
      "userId": "11267554535649979995"
     },
     "user_tz": -120
    },
    "id": "03YeXt4IOtzN",
    "outputId": "edcc9f9d-4c10-4cfd-9691-2d5fbe13606a"
   },
   "outputs": [],
   "source": [
    "''' To assign weights to the network graph for the country'''\n",
    "def assign_weights (G, df_for_edges, stops_cleaned):\n",
    "    # To assign node weights to graph\n",
    "    for i in range(len(stops_cleaned)):\n",
    "        for n, d in G.nodes(data=True):\n",
    "            if stops_cleaned.stop_name[i] == n:\n",
    "                G.nodes[n]['id']=stops_cleaned.stop_id[i]\n",
    "                G.nodes[n]['latitude']=stops_cleaned.stop_lat[i]\n",
    "                G.nodes[n]['longitude']=stops_cleaned.stop_lon[i]\n",
    "                G.nodes[n]['country']=stops_cleaned.country[i]\n",
    "\n",
    "    # To assign edge weights to the graph: the edge weight represents a list that contains all route_ids that cover that edge\n",
    "    routes_on_edge = {}\n",
    "    for node1,node2, edgeData in G.edges(data = True):\n",
    "        if (node1, node2) not in routes_on_edge:\n",
    "                routes_on_edge[(node1, node2)] = set()\n",
    "        route_id_node1_node2= df_for_edges[(df_for_edges['stop_name_1'] == node1 ) & (df_for_edges['stop_name_2'] == node2 )]['route_id']\n",
    "        route_id_node2_node1= df_for_edges[(df_for_edges['stop_name_1'] == node2 ) & (df_for_edges['stop_name_2'] == node1 )]['route_id']\n",
    "        for route_id in pd.concat([route_id_node1_node2, route_id_node2_node1]):\n",
    "            routes_on_edge[(node1, node2)].add(route_id)\n",
    "        edgeData['route_id'] = routes_on_edge[(node1, node2)] \n",
    "\n",
    "    return G"
   ]
  },
  {
   "cell_type": "code",
   "execution_count": null,
   "metadata": {
    "colab": {
     "base_uri": "https://localhost:8080/",
     "height": 35
    },
    "executionInfo": {
     "elapsed": 42136,
     "status": "ok",
     "timestamp": 1617437217412,
     "user": {
      "displayName": "Ine Winters",
      "photoUrl": "",
      "userId": "11267554535649979995"
     },
     "user_tz": -120
    },
    "id": "WEjL6Wb8OtzQ",
    "outputId": "abf3e8c4-87a6-480d-8451-4dc9550179ad"
   },
   "outputs": [],
   "source": [
    "'''Calculates the average degree'''\n",
    "def avg_degree(G):\n",
    "    sum_degrees = 0\n",
    "    for n in G.nodes():\n",
    "        sum_degrees += G.degree[n]\n",
    "    return (sum_degrees/len(G.nodes()))"
   ]
  },
  {
   "cell_type": "code",
   "execution_count": null,
   "metadata": {
    "colab": {
     "base_uri": "https://localhost:8080/",
     "height": 35
    },
    "executionInfo": {
     "elapsed": 41990,
     "status": "ok",
     "timestamp": 1617437217431,
     "user": {
      "displayName": "Ine Winters",
      "photoUrl": "",
      "userId": "11267554535649979995"
     },
     "user_tz": -120
    },
    "id": "ZLWfzh0mOtzU",
    "outputId": "da6a2184-25cd-4899-cb7c-18f2689ff727"
   },
   "outputs": [],
   "source": [
    "'''Calculates the gamma index'''\n",
    "def gamma_index(G):\n",
    "    return len(G.edges()) / (3*(len(G.nodes()) - 2))"
   ]
  },
  {
   "cell_type": "code",
   "execution_count": null,
   "metadata": {
    "colab": {
     "base_uri": "https://localhost:8080/",
     "height": 35
    },
    "executionInfo": {
     "elapsed": 41811,
     "status": "ok",
     "timestamp": 1617437217436,
     "user": {
      "displayName": "Ine Winters",
      "photoUrl": "",
      "userId": "11267554535649979995"
     },
     "user_tz": -120
    },
    "id": "6XHooVCBOtza",
    "outputId": "e68634b4-9af0-4c2d-aede-2c1a937a262b"
   },
   "outputs": [],
   "source": [
    "''' The degree distribution of the country railway system'''\n",
    "def degree_distribution(G):\n",
    "\n",
    "    #Sort degree values\n",
    "    degree_sequence=sorted([d for n, d in G.degree()], reverse=True)\n",
    "\n",
    "    #Count number of frequences of degree values\n",
    "    degreeCount=collections.Counter(degree_sequence)\n",
    "\n",
    "    #Define variables deg and cnt and probability\n",
    "    deg, cnt = zip(*degreeCount.items())\n",
    "    probability = []\n",
    "    for v in cnt:\n",
    "        pv= v/len(G.nodes())\n",
    "        probability.append(pv)\n",
    "\n",
    "    #plot degree probability histogram\n",
    "    fig, ax = plt.subplots(figsize=(5, 5))\n",
    "    plt.bar(deg, probability, width=0.95, color='lightgrey')\n",
    "\n",
    "    #plot degree distribution\n",
    "    plt.plot(deg, probability, color=\"b\")\n",
    "\n",
    "    #graph settings\n",
    "    plt.title(\"Degree distribution\")\n",
    "    plt.ylabel(\"P (k)\")\n",
    "    plt.xlabel(\"k\")\n",
    "    ax.set_xticks([d for d in deg])\n",
    "    ax.set_xticklabels(deg)\n",
    "\n",
    "    #count\n",
    "    fig, ax = plt.subplots(figsize=(5, 5))\n",
    "    plt.bar(deg, cnt, width=0.95, color='lightgrey')\n",
    "\n",
    "    plt.plot(deg, cnt, color=\"b\")\n",
    "\n",
    "    #graph settings\n",
    "    plt.title(\"Degree count\")\n",
    "    plt.ylabel(\"Count\")\n",
    "    plt.xlabel(\"k\")\n",
    "    ax.set_xticks([d for d in deg])\n",
    "    ax.set_xticklabels(deg)\n",
    "\n",
    "    plt.show()"
   ]
  },
  {
   "cell_type": "code",
   "execution_count": null,
   "metadata": {},
   "outputs": [],
   "source": [
    "'''Creates the railway network (using the self-made Networkx graph) of the country on the country map in red. \n",
    "The white on that map is the actual railway network given by OpenStreetmaps'''\n",
    "\n",
    "import matplotlib.pyplot as plt\n",
    "import networkx as nx\n",
    "import osmnx as ox\n",
    "\n",
    "def plot_given_Networkx_on_country_map(country_Networkx, country_name, country_names, dic_country_networks, dic_country_names):\n",
    "    \n",
    "    train_network = dic_country_networks[country_names[0]]\n",
    "    country_shape = ox.geocode_to_gdf(dic_country_names[country_names[0]])\n",
    "    for country in country_names[1:]:\n",
    "        country_shape = pd.concat([country_shape, ox.geocode_to_gdf(dic_country_names[country])])\n",
    "        train_network = nx.compose(train_network, dic_country_networks[country])\n",
    "\n",
    "    #create an empty list of edges\n",
    "    list_edges = []\n",
    "    \n",
    "    #add each edge to the list, by finding both of its nodes in the given OpenStreetMaps network and highlighting them\n",
    "    #and finding the shortest routes between each pair of edges to highlight that route as well\n",
    "    for node1,node2 in country_Networkx.edges():\n",
    "        orig = ox.get_nearest_node(train_network, (country_Networkx.nodes[node1]['latitude'], country_Networkx.nodes[node1]['longitude']))\n",
    "        dest = ox.get_nearest_node(train_network, (country_Networkx.nodes[node2]['latitude'], country_Networkx.nodes[node2]['longitude']))\n",
    "        try:\n",
    "            list_edges.append(nx.shortest_path(train_network, orig, dest))\n",
    "        except nx.NetworkXNoPath:\n",
    "            print(f'No path between {node1} and {node2}')\n",
    "            continue\n",
    "\n",
    "    #put the self-made railway network as a graph in red\n",
    "    fig, ax = ox.plot_graph_routes(train_network, list_edges, route_color = 'r', route_linewidth = 1, show=False, close=False, edge_color='#111111', node_color='#111111', node_size=0.2, bgcolor='w')\n",
    "\n",
    "    #plot the country on the top of the self-made railway network\n",
    "    country_shape.plot(ax=ax, color='#111111', alpha=0.4)\n",
    "\n",
    "    plt.savefig(f'{images_loc}{country_name}_Network.png') \n",
    "    plt.show()"
   ]
  },
  {
   "cell_type": "markdown",
   "metadata": {},
   "source": [
    "## Download the train networks of all the counties of interest"
   ]
  },
  {
   "cell_type": "markdown",
   "metadata": {},
   "source": [
    "### Functions"
   ]
  },
  {
   "cell_type": "code",
   "execution_count": null,
   "metadata": {},
   "outputs": [],
   "source": [
    "'''Download all the countries train networks and store it as .gpickles files'''\n",
    "\n",
    "def download_countries_train_Networks(dic_country_names, coutries_train_networks_loc):\n",
    "    for country, osm_request in dic_country_names.items():\n",
    "        train_country = ox.graph_from_place(osm_request,\n",
    "                                            retain_all=False, truncate_by_edge=True, simplify=True,\n",
    "                                            custom_filter='[\"railway\"~\"rail\"]')\n",
    "        nx.write_gpickle(train_country, f'{coutries_train_networks_loc}/train_{country}.gpickle')\n",
    "    "
   ]
  },
  {
   "cell_type": "code",
   "execution_count": null,
   "metadata": {},
   "outputs": [],
   "source": [
    "'''Retrieve all the countries train networks and put it in the dic_country_networks dictionnary'''\n",
    "\n",
    "def retrieve_countries_train_Networks(dic_country_names, coutries_train_networks_loc):\n",
    "    dic_country_networks = {}\n",
    "    for country in dic_country_names:\n",
    "        train_country = nx.read_gpickle(f'{coutries_train_networks_loc}/train_{country}.gpickle')\n",
    "        dic_country_networks[country] = train_country\n",
    "    return dic_country_networks\n",
    "    "
   ]
  },
  {
   "cell_type": "markdown",
   "metadata": {},
   "source": [
    "### Acutal download"
   ]
  },
  {
   "cell_type": "code",
   "execution_count": null,
   "metadata": {},
   "outputs": [],
   "source": [
    "'''Create a dictionary with all the countries of interest'''\n",
    "dic_country_names = {'Netherlands' : ['South Holland, Netherlands',{'state':'Utrecht', 'country':'Netherlands'},'North Brabant, Netherlands', 'Limburg, Netherlands','Gelderland, Netherlands', 'Overijssel, Netherlands','Drenthe, Netherlands', 'Groningen, Netherlands', 'Friesland, Netherlands', 'Flevoland, Netherlands', 'North Holland, Netherlands'],\n",
    "                    'Belgium': ['Belgium'], 'Switzerland': ['Switzerland'], 'France': ['Metropolitan France'],\n",
    "                    'Luxembourg': ['Luxembourg'], 'Germany': ['Germany'], 'Austria': ['Austria'], 'Italy': ['Italy'],\n",
    "                    'Liechtenstein': ['Liechtenstein'], 'United_Kingdom': ['United Kingdom']}"
   ]
  },
  {
   "cell_type": "code",
   "execution_count": null,
   "metadata": {},
   "outputs": [],
   "source": [
    "#THE FOLLOWING LINE MIGHT BE RUNNED IF WANTED TO DOWNLOAD THE COUNTRIES TRAIN NETWORKS FROM OSM, BUT IT TAKES A LONG TIME\n",
    "#download_countries_train_Networks(dic_country_names, coutries_train_networks_loc)"
   ]
  },
  {
   "cell_type": "code",
   "execution_count": null,
   "metadata": {},
   "outputs": [],
   "source": [
    "dic_country_networks = retrieve_countries_train_Networks(dic_country_names, coutries_train_networks_loc)"
   ]
  },
  {
   "cell_type": "markdown",
   "metadata": {
    "id": "--VmvAqzOtze"
   },
   "source": [
    "## Acutal calculation of the global characteristics of the railway systems in the space-of-stops representation"
   ]
  },
  {
   "cell_type": "markdown",
   "metadata": {},
   "source": [
    "### Belgium"
   ]
  },
  {
   "cell_type": "code",
   "execution_count": null,
   "metadata": {
    "executionInfo": {
     "elapsed": 48828,
     "status": "ok",
     "timestamp": 1617437224461,
     "user": {
      "displayName": "Ine Winters",
      "photoUrl": "",
      "userId": "11267554535649979995"
     },
     "user_tz": -120
    },
    "id": "LbeExvw-Otzh"
   },
   "outputs": [],
   "source": [
    "B = create_graph(df_for_edges_Belgium)\n",
    "B = assign_weights (B, df_for_edges_Belgium, stops_cleaned_Belgium)"
   ]
  },
  {
   "cell_type": "code",
   "execution_count": null,
   "metadata": {},
   "outputs": [],
   "source": [
    "'''Calculates the subgraph that contains only stops into Belgium iteself (removes all the stop outside the country)'''\n",
    "belgian_stops = [n for n,v in B.nodes(data=True) if v['country'] == 'Belgium']\n",
    "B_belgian_stops = B.subgraph(belgian_stops)"
   ]
  },
  {
   "cell_type": "code",
   "execution_count": null,
   "metadata": {},
   "outputs": [],
   "source": [
    "'''Show the country train network that was created by create_graph() on the map'''\n",
    "country_name = 'Belgium'\n",
    "country_names = ['France', 'Belgium', 'Netherlands', 'Luxembourg', 'Germany']\n",
    "#THE FOLLOWING LINE MIGHT BE RUNNED IF WANTED TO RECALCULATE AND SHOW THE ROUTE CREATED ON THE MAP, BUT IT TAKES A LONG TIME\n",
    "plot_given_Networkx_on_country_map(B, country_name, country_names, dic_country_networks, dic_country_names)\n",
    "#img = mpimg.imread(f'{images_loc}{country_name}_Network.png')\n",
    "#imgplot = plt.imshow(img)\n",
    "#plt.show()"
   ]
  },
  {
   "cell_type": "code",
   "execution_count": null,
   "metadata": {},
   "outputs": [],
   "source": [
    "'''Show the country train network subgraph that was created by create_graph() and then filtered on the country stops on the map'''\n",
    "country_name = 'Belgium_only'\n",
    "country_names = ['Belgium']\n",
    "#THE FOLLOWING LINE MIGHT BE RUNNED IF WANTED TO RECALCULATE AND SHOW THE ROUTE CREATED ON THE MAP, BUT IT TAKES A LONG TIME\n",
    "plot_given_Networkx_on_country_map(B_belgian_stops, country_name, country_names, dic_country_networks, dic_country_names)\n",
    "#img = mpimg.imread(f'{images_loc}{country_name}_Network.png')\n",
    "#imgplot = plt.imshow(img)\n",
    "#plt.show()"
   ]
  },
  {
   "cell_type": "code",
   "execution_count": null,
   "metadata": {},
   "outputs": [],
   "source": [
    "B.edges(data=True)"
   ]
  },
  {
   "cell_type": "code",
   "execution_count": null,
   "metadata": {
    "colab": {
     "base_uri": "https://localhost:8080/",
     "height": 803
    },
    "executionInfo": {
     "elapsed": 48864,
     "status": "ok",
     "timestamp": 1617437224537,
     "user": {
      "displayName": "Ine Winters",
      "photoUrl": "",
      "userId": "11267554535649979995"
     },
     "user_tz": -120
    },
    "id": "C5Ajgl70Otzi",
    "outputId": "c7cb75b1-86b0-4766-cfed-26b11f702740"
   },
   "outputs": [],
   "source": [
    "''' The number of nodes in the Belgian railway system '''\n",
    "# The number of total nodes in the Belgian railway system that consists of all routes that contain at least one node in Belgium\n",
    "len(B.nodes())\n",
    "\n",
    "# The number of belgian nodes in the Belgian railway system that consists of all routes that contain at least one node in Belgium\n",
    "len(B_belgian_stops.nodes())"
   ]
  },
  {
   "cell_type": "code",
   "execution_count": null,
   "metadata": {
    "colab": {
     "base_uri": "https://localhost:8080/"
    },
    "executionInfo": {
     "elapsed": 48720,
     "status": "ok",
     "timestamp": 1617437224542,
     "user": {
      "displayName": "Ine Winters",
      "photoUrl": "",
      "userId": "11267554535649979995"
     },
     "user_tz": -120
    },
    "id": "_eVdbvNaOtzk",
    "outputId": "dc7f814f-cb35-41cd-8ec1-a1843b11cdbf",
    "scrolled": true
   },
   "outputs": [],
   "source": [
    "''' The degrees of the nodes in the Belgian railway system considering only stops in Belgium'''\n",
    "B_belgian_stops.degree()"
   ]
  },
  {
   "cell_type": "code",
   "execution_count": null,
   "metadata": {
    "colab": {
     "base_uri": "https://localhost:8080/",
     "height": 1000
    },
    "executionInfo": {
     "elapsed": 48625,
     "status": "ok",
     "timestamp": 1617437224561,
     "user": {
      "displayName": "Ine Winters",
      "photoUrl": "",
      "userId": "11267554535649979995"
     },
     "user_tz": -120
    },
    "id": "Twu6GlXKOtzl",
    "outputId": "47fa4d11-405b-4715-8d2f-3c74d45c3cdd"
   },
   "outputs": [],
   "source": [
    "''' The average degree of the nodes in the Belgian railway system indicating the number of directions \n",
    "a commuter can take from that given station.'''\n",
    "# The average degree of all the nodes in the Belgian railway system that consists of all routes that cover at least one belgian station\n",
    "print(avg_degree(B))\n",
    "\n",
    "# The average degree of all the nodes in the Belgian railway system if only the belgian stations are considered\n",
    "print(avg_degree(B_belgian_stops))"
   ]
  },
  {
   "cell_type": "code",
   "execution_count": null,
   "metadata": {
    "colab": {
     "base_uri": "https://localhost:8080/",
     "height": 803
    },
    "executionInfo": {
     "elapsed": 48588,
     "status": "ok",
     "timestamp": 1617437224562,
     "user": {
      "displayName": "Ine Winters",
      "photoUrl": "",
      "userId": "11267554535649979995"
     },
     "user_tz": -120
    },
    "id": "ZUHzCPU_Otzm",
    "outputId": "43d8a237-8dfb-4c61-d487-d8f0e6530f61"
   },
   "outputs": [],
   "source": [
    "''' The number of edges in the Belgian railway system considering only stops in Belgium '''\n",
    "len(B.edges())"
   ]
  },
  {
   "cell_type": "code",
   "execution_count": null,
   "metadata": {
    "colab": {
     "base_uri": "https://localhost:8080/",
     "height": 735
    },
    "executionInfo": {
     "elapsed": 48536,
     "status": "ok",
     "timestamp": 1617437224564,
     "user": {
      "displayName": "Ine Winters",
      "photoUrl": "",
      "userId": "11267554535649979995"
     },
     "user_tz": -120
    },
    "id": "IeKWhTvrOtzn",
    "outputId": "42eff595-abbe-4a9d-ad82-096bb5d44b7e"
   },
   "outputs": [],
   "source": [
    "''' The gamma index of the Belgian railway system considering only stops in Belgium'''\n",
    "print(gamma_index(B))"
   ]
  },
  {
   "cell_type": "code",
   "execution_count": null,
   "metadata": {
    "colab": {
     "base_uri": "https://localhost:8080/",
     "height": 1000
    },
    "executionInfo": {
     "elapsed": 48480,
     "status": "ok",
     "timestamp": 1617437224570,
     "user": {
      "displayName": "Ine Winters",
      "photoUrl": "",
      "userId": "11267554535649979995"
     },
     "user_tz": -120
    },
    "id": "JZhwMyBbOtzp",
    "outputId": "5b4469bc-12bc-4e26-b32f-9d74ba2f1910"
   },
   "outputs": [],
   "source": [
    "''' The mean clustering coefficient of the Belgian railway system considering only stops in Belgium'''\n",
    "#The mean clustering coefficient indicates for a random station the estimation of the division of the number of neighbouring stations of a station that are connected \n",
    "# divided by the possible number of connections between the neighbours of that station\n",
    "print (\"mean clustering coefficient:\", nx.average_clustering(B))"
   ]
  },
  {
   "cell_type": "code",
   "execution_count": null,
   "metadata": {
    "colab": {
     "base_uri": "https://localhost:8080/",
     "height": 683
    },
    "executionInfo": {
     "elapsed": 48970,
     "status": "ok",
     "timestamp": 1617437225192,
     "user": {
      "displayName": "Ine Winters",
      "photoUrl": "",
      "userId": "11267554535649979995"
     },
     "user_tz": -120
    },
    "id": "1NFojC5fOtzq",
    "outputId": "dc409ac7-e4e3-4e73-8a02-fcd7ced9f5af"
   },
   "outputs": [],
   "source": [
    "''' The degree distribution of the Belgian railway system considering only stops in Belgian'''\n",
    "degree_distribution(B_belgian_stops)"
   ]
  },
  {
   "cell_type": "code",
   "execution_count": null,
   "metadata": {
    "colab": {
     "base_uri": "https://localhost:8080/",
     "height": 89
    },
    "executionInfo": {
     "elapsed": 48896,
     "status": "ok",
     "timestamp": 1617437225200,
     "user": {
      "displayName": "Ine Winters",
      "photoUrl": "",
      "userId": "11267554535649979995"
     },
     "user_tz": -120
    },
    "id": "zXaMAq3zOtzr",
    "outputId": "cb916411-427e-4c38-eb45-9a8cc35ccf5e"
   },
   "outputs": [],
   "source": [
    "''' Detection of the scale-free property in the Belgian railway system:\n",
    "A PTN with the scale-free property consists of a large number of vertices \n",
    "that exhibit low degree and a few number of vertices that exhibit very high degree. '''\n",
    "print(\"The scale-free property is present in the Belgian railway network because the majority of nodes exhibit a low degree value equal to 2 and almost none of the nodes exhibit a degree value equal to 5 or higher\")"
   ]
  },
  {
   "cell_type": "code",
   "execution_count": null,
   "metadata": {
    "colab": {
     "base_uri": "https://localhost:8080/",
     "height": 52
    },
    "executionInfo": {
     "elapsed": 49133,
     "status": "ok",
     "timestamp": 1617437225474,
     "user": {
      "displayName": "Ine Winters",
      "photoUrl": "",
      "userId": "11267554535649979995"
     },
     "user_tz": -120
    },
    "id": "7AMZkyANOtzt",
    "outputId": "dd5669c5-c6cb-4038-c98a-71a6bcdb1565"
   },
   "outputs": [],
   "source": [
    "''' The average path length of the Belgian railway system considering only stops in Belgium:\n",
    "The average path length represents in the space_of_stops the average of all the shortest paths \n",
    "to be transversed between all public transport stop pairs\n",
    "which can be reached by means of one or multiple routes.'''\n",
    "print(nx.average_shortest_path_length(B))"
   ]
  },
  {
   "cell_type": "code",
   "execution_count": null,
   "metadata": {
    "colab": {
     "base_uri": "https://localhost:8080/",
     "height": 69
    },
    "executionInfo": {
     "elapsed": 49137,
     "status": "ok",
     "timestamp": 1617437225498,
     "user": {
      "displayName": "Ine Winters",
      "photoUrl": "",
      "userId": "11267554535649979995"
     },
     "user_tz": -120
    },
    "id": "Czdb_ZqNOtzu",
    "outputId": "96968309-fccb-4590-b0c4-15053c9547a2"
   },
   "outputs": [],
   "source": [
    "''' The assortativity of the Belgian railway system considering only stops in Belgium:\n",
    "In an assortative network, high-degree vertices tend to be connected and low-degree vertices tend to stick together as well. \n",
    "In a disassortative network conversely, high-degree and low-degree vertices tend to be connected \n",
    "to each other instead of being connected to vertices of the same kind.'''\n",
    "print(nx.degree_pearson_correlation_coefficient(B_belgian_stops))"
   ]
  },
  {
   "cell_type": "markdown",
   "metadata": {
    "id": "pFrXK59jOtzz"
   },
   "source": [
    "### Netherlands"
   ]
  },
  {
   "cell_type": "code",
   "execution_count": null,
   "metadata": {
    "executionInfo": {
     "elapsed": 53869,
     "status": "ok",
     "timestamp": 1617437230234,
     "user": {
      "displayName": "Ine Winters",
      "photoUrl": "",
      "userId": "11267554535649979995"
     },
     "user_tz": -120
    },
    "id": "w4ca2IXwOtz3"
   },
   "outputs": [],
   "source": [
    "N = create_graph(df_for_edges_Netherlands)\n",
    "N = assign_weights(N, df_for_edges_Netherlands, stops_cleaned_Netherlands)"
   ]
  },
  {
   "cell_type": "code",
   "execution_count": null,
   "metadata": {},
   "outputs": [],
   "source": [
    "'''Calculates the subgraph that contains only stops into Netherlands iteself (removes all the stop outside the country)'''\n",
    "dutch_stops = [n for n,v in N.nodes(data=True) if v['country'] == 'Netherlands']\n",
    "N_dutch_stops = N.subgraph(dutch_stops)"
   ]
  },
  {
   "cell_type": "code",
   "execution_count": null,
   "metadata": {},
   "outputs": [],
   "source": [
    "'''Show the country train network that was created by create_graph() on the map'''\n",
    "country_name = 'Netherlands'\n",
    "country_names = ['France', 'Belgium', 'Netherlands', 'United_Kingdom', 'Germany', 'Austria', 'Switzerland']\n",
    "#THE FOLLOWING LINE MIGHT BE RUNNED IF WANTED TO RECALCULATE AND SHOW THE ROUTE CREATED ON THE MAP, BUT IT TAKES A LONG TIME\n",
    "plot_given_Networkx_on_country_map(N, country_name, country_names, dic_country_networks, dic_country_names)\n",
    "#img = mpimg.imread(f'{images_loc}{country_name}_Network.png')\n",
    "#imgplot = plt.imshow(img)\n",
    "#plt.show()"
   ]
  },
  {
   "cell_type": "code",
   "execution_count": null,
   "metadata": {},
   "outputs": [],
   "source": [
    "'''Show the country train network subgraph that was created by create_graph() and then filtered on the country stops on the map'''\n",
    "country_name = 'Netherlands_only'\n",
    "country_names = ['Netherlands']\n",
    "#THE FOLLOWING LINE MIGHT BE RUNNED IF WANTED TO RECALCULATE AND SHOW THE ROUTE CREATED ON THE MAP, BUT IT TAKES A LONG TIME\n",
    "plot_given_Networkx_on_country_map(N_dutch_stops, country_name, country_names, dic_country_networks, dic_country_names)\n",
    "#img = mpimg.imread(f'{images_loc}{country_name}_Network.png')\n",
    "#imgplot = plt.imshow(img)\n",
    "#plt.show()"
   ]
  },
  {
   "cell_type": "code",
   "execution_count": null,
   "metadata": {
    "colab": {
     "base_uri": "https://localhost:8080/"
    },
    "executionInfo": {
     "elapsed": 53855,
     "status": "ok",
     "timestamp": 1617437230235,
     "user": {
      "displayName": "Ine Winters",
      "photoUrl": "",
      "userId": "11267554535649979995"
     },
     "user_tz": -120
    },
    "id": "Z6v6RaniOtz4",
    "outputId": "2d76306d-24d0-459d-cfc0-9d37b38a3fea"
   },
   "outputs": [],
   "source": [
    "N.edges(data=True)"
   ]
  },
  {
   "cell_type": "code",
   "execution_count": null,
   "metadata": {
    "colab": {
     "base_uri": "https://localhost:8080/",
     "height": 0
    },
    "executionInfo": {
     "elapsed": 53834,
     "status": "ok",
     "timestamp": 1617437230236,
     "user": {
      "displayName": "Ine Winters",
      "photoUrl": "",
      "userId": "11267554535649979995"
     },
     "user_tz": -120
    },
    "id": "k8k5kIQHOtz5",
    "outputId": "9a5d38e6-d85d-4237-ce20-07514d7ffa35"
   },
   "outputs": [],
   "source": [
    "''' The number of nodes in the Dutch railway system '''\n",
    "# The number of total nodes in the Dutch railway system that consists of all routes that contain at least one node in the Netherlands\n",
    "len(N.nodes())\n",
    "\n",
    "# The number of dutch nodes in the Dutch railway system that consists of all routes that contain at least one node in the Netherlands\n",
    "print(len(N_dutch_stops.nodes()))"
   ]
  },
  {
   "cell_type": "code",
   "execution_count": null,
   "metadata": {
    "colab": {
     "base_uri": "https://localhost:8080/",
     "height": 0
    },
    "executionInfo": {
     "elapsed": 53818,
     "status": "ok",
     "timestamp": 1617437230239,
     "user": {
      "displayName": "Ine Winters",
      "photoUrl": "",
      "userId": "11267554535649979995"
     },
     "user_tz": -120
    },
    "id": "JysXj4kBOtz6",
    "outputId": "0ec3a572-4ab3-4776-e08b-ff1a0d9c4939",
    "scrolled": true
   },
   "outputs": [],
   "source": [
    "''' The degrees of the nodes in the Dutch railway system considering only stops in Netherlands'''\n",
    "N_dutch_stops.degree()"
   ]
  },
  {
   "cell_type": "code",
   "execution_count": null,
   "metadata": {
    "colab": {
     "base_uri": "https://localhost:8080/",
     "height": 0
    },
    "executionInfo": {
     "elapsed": 53802,
     "status": "ok",
     "timestamp": 1617437230246,
     "user": {
      "displayName": "Ine Winters",
      "photoUrl": "",
      "userId": "11267554535649979995"
     },
     "user_tz": -120
    },
    "id": "IJGXbZS-Ot0B",
    "outputId": "b0343493-e5d1-4042-f837-ea2d1a485748"
   },
   "outputs": [],
   "source": [
    "''' The average degree of the nodes in the Dutch railway system indicating the number of directions \n",
    "a commuter can take from that given station.'''\n",
    "# The average degree of all the nodes in the Dutch railway system that consists of all routes that cover at least one dutch station\n",
    "print(avg_degree(N))\n",
    "\n",
    "# The average degree of all the nodes in the Dutch railway system if only the dutch stations are considered\n",
    "print(avg_degree(N_dutch_stops))"
   ]
  },
  {
   "cell_type": "code",
   "execution_count": null,
   "metadata": {
    "colab": {
     "base_uri": "https://localhost:8080/",
     "height": 35
    },
    "executionInfo": {
     "elapsed": 54072,
     "status": "ok",
     "timestamp": 1617437230540,
     "user": {
      "displayName": "Ine Winters",
      "photoUrl": "",
      "userId": "11267554535649979995"
     },
     "user_tz": -120
    },
    "id": "poA48V2OOt0C",
    "outputId": "a51e5f81-3245-41dd-cd2e-f9f496eeb6c4"
   },
   "outputs": [],
   "source": [
    "''' The number of edges in the Dutch railway system considering only the stops in Netherlands'''\n",
    "len(N.edges())"
   ]
  },
  {
   "cell_type": "code",
   "execution_count": null,
   "metadata": {
    "colab": {
     "base_uri": "https://localhost:8080/",
     "height": 35
    },
    "executionInfo": {
     "elapsed": 54050,
     "status": "ok",
     "timestamp": 1617437230542,
     "user": {
      "displayName": "Ine Winters",
      "photoUrl": "",
      "userId": "11267554535649979995"
     },
     "user_tz": -120
    },
    "id": "BDIxWOwhOt0D",
    "outputId": "ed1eedc5-7600-4f16-e517-f8b3c5a9015e"
   },
   "outputs": [],
   "source": [
    "''' The gamma index of the Dutch railway system considering only the stops in Netherlands'''\n",
    "print(gamma_index(N))"
   ]
  },
  {
   "cell_type": "code",
   "execution_count": null,
   "metadata": {
    "colab": {
     "base_uri": "https://localhost:8080/",
     "height": 35
    },
    "executionInfo": {
     "elapsed": 54031,
     "status": "ok",
     "timestamp": 1617437230544,
     "user": {
      "displayName": "Ine Winters",
      "photoUrl": "",
      "userId": "11267554535649979995"
     },
     "user_tz": -120
    },
    "id": "unLzeBCNOt0F",
    "outputId": "06f46ded-9ee1-45bb-e5d8-6130c22e8540"
   },
   "outputs": [],
   "source": [
    "''' The mean clustering coefficient of the Dutch railway system considering only the stops in Netherlands'''\n",
    "#The mean clustering coefficient indicates for a random station the estimation of the division of the number of neighbouring stations of a station that are connected \n",
    "# divided by the possible number of connections between the neighbours of that station\n",
    "print (\"mean clustering coefficient:\", nx.average_clustering(N))"
   ]
  },
  {
   "cell_type": "code",
   "execution_count": null,
   "metadata": {
    "colab": {
     "base_uri": "https://localhost:8080/",
     "height": 683
    },
    "executionInfo": {
     "elapsed": 54337,
     "status": "ok",
     "timestamp": 1617437230877,
     "user": {
      "displayName": "Ine Winters",
      "photoUrl": "",
      "userId": "11267554535649979995"
     },
     "user_tz": -120
    },
    "id": "9MCHmv4POt0G",
    "outputId": "c262e2ef-c589-467f-9471-89e1a886670b"
   },
   "outputs": [],
   "source": [
    "''' The degree distribution of the Dutch railway system considering only stops in Netherlands'''\n",
    "degree_distribution(N_dutch_stops)"
   ]
  },
  {
   "cell_type": "code",
   "execution_count": null,
   "metadata": {
    "colab": {
     "base_uri": "https://localhost:8080/",
     "height": 89
    },
    "executionInfo": {
     "elapsed": 54317,
     "status": "ok",
     "timestamp": 1617437230879,
     "user": {
      "displayName": "Ine Winters",
      "photoUrl": "",
      "userId": "11267554535649979995"
     },
     "user_tz": -120
    },
    "id": "AzZQ1fF3Ot0H",
    "outputId": "eaf29662-1a7c-4cec-f1eb-6d51234b9ef5"
   },
   "outputs": [],
   "source": [
    "''' Detection of the scale-free property in the Dutch railway system:\n",
    "A PTN with the scale-free property consists of a large number of vertices that exhibit low degree and a few number of vertices that exhibit very high degree. '''\n",
    "print(\"The scale-free property is present in the Dutch railway network because the majority of nodes exhibit a low degree value equal to 2 and almost none of the nodes exhibit a degree value equal to 6 or higher\")"
   ]
  },
  {
   "cell_type": "code",
   "execution_count": null,
   "metadata": {
    "colab": {
     "base_uri": "https://localhost:8080/",
     "height": 52
    },
    "executionInfo": {
     "elapsed": 54772,
     "status": "ok",
     "timestamp": 1617437231355,
     "user": {
      "displayName": "Ine Winters",
      "photoUrl": "",
      "userId": "11267554535649979995"
     },
     "user_tz": -120
    },
    "id": "113jBoxSOt0J",
    "outputId": "667ec374-f27e-4ae6-f353-6c6a6f3c7aa1"
   },
   "outputs": [],
   "source": [
    "''' The average path length of the Dutch railway system considering only the stops in Netherlands:\n",
    "The average path length represents in the space-of-stops the average of all the shortest paths \n",
    "to be transversed between all public transport stop pairs\n",
    "which can be reached by means of one or multiple routes.'''\n",
    "print(nx.average_shortest_path_length(N))"
   ]
  },
  {
   "cell_type": "code",
   "execution_count": null,
   "metadata": {
    "colab": {
     "base_uri": "https://localhost:8080/",
     "height": 69
    },
    "executionInfo": {
     "elapsed": 54752,
     "status": "ok",
     "timestamp": 1617437231358,
     "user": {
      "displayName": "Ine Winters",
      "photoUrl": "",
      "userId": "11267554535649979995"
     },
     "user_tz": -120
    },
    "id": "cuOP1ohrOt0K",
    "outputId": "53d916c4-ff79-4334-a05e-c10955e5213c"
   },
   "outputs": [],
   "source": [
    "''' The assortativity of the Dutch railway system considering only the stops in Netherlands:\n",
    "In an assortative network, high-degree vertices tend to be connected and low-degree vertices tend to stick together as well. \n",
    "In a disassortative network conversely, high-degree and low-degree vertices tend to be connected \n",
    "to each other instead of being connected to vertices of the same kind.'''\n",
    "print(nx.degree_pearson_correlation_coefficient(N_dutch_stops))"
   ]
  },
  {
   "cell_type": "markdown",
   "metadata": {
    "id": "QdVH7lGKOt0L"
   },
   "source": [
    "### Switzerland"
   ]
  },
  {
   "cell_type": "code",
   "execution_count": null,
   "metadata": {
    "executionInfo": {
     "elapsed": 120235,
     "status": "ok",
     "timestamp": 1617437296846,
     "user": {
      "displayName": "Ine Winters",
      "photoUrl": "",
      "userId": "11267554535649979995"
     },
     "user_tz": -120
    },
    "id": "6ck3W0wgOt0M"
   },
   "outputs": [],
   "source": [
    "S = create_graph(df_for_edges_Switzerland)\n",
    "S = assign_weights(S, df_for_edges_Switzerland, stops_cleaned_Switzerland)"
   ]
  },
  {
   "cell_type": "code",
   "execution_count": null,
   "metadata": {},
   "outputs": [],
   "source": [
    "'''Calculates the subgraph that contains only stops into Switzerland iteself (removes all the stop outside the country)'''\n",
    "swiss_stops = [n for n,v in S.nodes(data=True) if v['country'] == 'Switzerland']\n",
    "S_swiss_stops = S.subgraph(swiss_stops)"
   ]
  },
  {
   "cell_type": "code",
   "execution_count": null,
   "metadata": {},
   "outputs": [],
   "source": [
    "'''Show the country train network that was created by create_graph() on the map'''\n",
    "country_name = 'Switzerland'\n",
    "country_names = ['France', 'Germany', 'Austria', 'Switzerland', 'Italy', 'Liechtenstein']\n",
    "#THE FOLLOWING LINE MIGHT BE RUNNED IF WANTED TO RECALCULATE AND SHOW THE ROUTE CREATED ON THE MAP, BUT IT TAKES A LONG TIME\n",
    "plot_given_Networkx_on_country_map(S, country_name, country_names, dic_country_networks, dic_country_names)\n",
    "#img = mpimg.imread(f'{images_loc}{country_name}_Network.png')\n",
    "#imgplot = plt.imshow(img)\n",
    "#plt.show()"
   ]
  },
  {
   "cell_type": "code",
   "execution_count": null,
   "metadata": {},
   "outputs": [],
   "source": [
    "'''Show the country train network subgraph that was created by create_graph() and then filtered on the country stops on the map'''\n",
    "country_name = 'Switzerland_only'\n",
    "country_names = ['Switzerland']\n",
    "#THE FOLLOWING LINE MIGHT BE RUNNED IF WANTED TO RECALCULATE AND SHOW THE ROUTE CREATED ON THE MAP, BUT IT TAKES A LONG TIME\n",
    "plot_given_Networkx_on_country_map(S_swiss_stops, country_name, country_names, dic_country_networks, dic_country_names)\n",
    "#img = mpimg.imread(f'{images_loc}{country_name}_Network.png')\n",
    "#imgplot = plt.imshow(img)\n",
    "#plt.show()"
   ]
  },
  {
   "cell_type": "code",
   "execution_count": null,
   "metadata": {
    "colab": {
     "base_uri": "https://localhost:8080/"
    },
    "executionInfo": {
     "elapsed": 121107,
     "status": "ok",
     "timestamp": 1617437297739,
     "user": {
      "displayName": "Ine Winters",
      "photoUrl": "",
      "userId": "11267554535649979995"
     },
     "user_tz": -120
    },
    "id": "eELGwWjjOt0N",
    "outputId": "63ca3dce-0763-4612-f529-529ec28936d5"
   },
   "outputs": [],
   "source": [
    "S.edges(data=True)"
   ]
  },
  {
   "cell_type": "code",
   "execution_count": null,
   "metadata": {
    "colab": {
     "base_uri": "https://localhost:8080/",
     "height": 35
    },
    "executionInfo": {
     "elapsed": 121078,
     "status": "ok",
     "timestamp": 1617437297743,
     "user": {
      "displayName": "Ine Winters",
      "photoUrl": "",
      "userId": "11267554535649979995"
     },
     "user_tz": -120
    },
    "id": "6N5WQxHlOt0P",
    "outputId": "44a0c9b4-7732-485a-a4e7-ea8be7b548f7"
   },
   "outputs": [],
   "source": [
    "''' The number of nodes in the Swiss railway system '''\n",
    "# The number of total nodes in the Swiss railway system that consists of all routes that contain at least one node in the Netherlands\n",
    "len(S.nodes())\n",
    "\n",
    "# The number of swiss nodes in the Swiss railway system that consists of all routes that contain at least one node in the Netherlands\n",
    "print(len(S_swiss_stops.nodes()))"
   ]
  },
  {
   "cell_type": "code",
   "execution_count": null,
   "metadata": {
    "colab": {
     "base_uri": "https://localhost:8080/",
     "height": 72
    },
    "executionInfo": {
     "elapsed": 121057,
     "status": "ok",
     "timestamp": 1617437297745,
     "user": {
      "displayName": "Ine Winters",
      "photoUrl": "",
      "userId": "11267554535649979995"
     },
     "user_tz": -120
    },
    "id": "X7ubt6wFOt0R",
    "outputId": "cab07f8e-d219-4620-9943-1b7d54648c07"
   },
   "outputs": [],
   "source": [
    "''' The degrees of the nodes in the Swiss railway system considering only stops in Switzerland'''\n",
    "S_swiss_stops.degree()"
   ]
  },
  {
   "cell_type": "code",
   "execution_count": null,
   "metadata": {
    "colab": {
     "base_uri": "https://localhost:8080/",
     "height": 69
    },
    "executionInfo": {
     "elapsed": 121039,
     "status": "ok",
     "timestamp": 1617437297748,
     "user": {
      "displayName": "Ine Winters",
      "photoUrl": "",
      "userId": "11267554535649979995"
     },
     "user_tz": -120
    },
    "id": "EQhs-7QiOt0S",
    "outputId": "3687f149-8a18-4c84-b2fe-b8442c166ea1"
   },
   "outputs": [],
   "source": [
    "''' The average degree of the nodes in the Swiss railway system indicating the number of directions \n",
    "a commuter can take from that given station.'''\n",
    "# The average degree of all the nodes in the Swiss railway system that consists of all routes that cover at least one Swiss station\n",
    "print(avg_degree(S))\n",
    "\n",
    "# The average degree of all the nodes in the Swiss railway system if only the Swiss stations are considered\n",
    "print(avg_degree(S_swiss_stops))"
   ]
  },
  {
   "cell_type": "code",
   "execution_count": null,
   "metadata": {
    "colab": {
     "base_uri": "https://localhost:8080/",
     "height": 35
    },
    "executionInfo": {
     "elapsed": 121017,
     "status": "ok",
     "timestamp": 1617437297750,
     "user": {
      "displayName": "Ine Winters",
      "photoUrl": "",
      "userId": "11267554535649979995"
     },
     "user_tz": -120
    },
    "id": "nDZdDdrVOt0T",
    "outputId": "60a2a93e-d32a-4076-f29b-74917206c704"
   },
   "outputs": [],
   "source": [
    "''' The number of edges in the Swiss railway system considering only stops in Switzerland'''\n",
    "len(S.edges())"
   ]
  },
  {
   "cell_type": "code",
   "execution_count": null,
   "metadata": {
    "colab": {
     "base_uri": "https://localhost:8080/",
     "height": 35
    },
    "executionInfo": {
     "elapsed": 120997,
     "status": "ok",
     "timestamp": 1617437297753,
     "user": {
      "displayName": "Ine Winters",
      "photoUrl": "",
      "userId": "11267554535649979995"
     },
     "user_tz": -120
    },
    "id": "U3eT7CZ7Ot1d",
    "outputId": "77d399c3-7abf-4b49-edbf-c070bd0fe16a"
   },
   "outputs": [],
   "source": [
    "''' The gamma index of the Swiss railway system considering only stops in Switzerland'''\n",
    "print(gamma_index(S))"
   ]
  },
  {
   "cell_type": "code",
   "execution_count": null,
   "metadata": {
    "colab": {
     "base_uri": "https://localhost:8080/",
     "height": 35
    },
    "executionInfo": {
     "elapsed": 120989,
     "status": "ok",
     "timestamp": 1617437297769,
     "user": {
      "displayName": "Ine Winters",
      "photoUrl": "",
      "userId": "11267554535649979995"
     },
     "user_tz": -120
    },
    "id": "Mro2ujWmOt1e",
    "outputId": "d6fc7d6d-b13f-4b76-b881-e65b821d6354"
   },
   "outputs": [],
   "source": [
    "''' The mean clustering coefficient of the Swiss railway system considering only stops in Switzerland'''\n",
    "#The mean clustering coefficient indicates for a random station the estimation of the division of the number of neighbouring stations of a station that are connected \n",
    "# divided by the possible number of connections between the neighbours of that station\n",
    "print (\"mean clustering coefficient:\", nx.average_clustering(S))"
   ]
  },
  {
   "cell_type": "code",
   "execution_count": null,
   "metadata": {
    "colab": {
     "base_uri": "https://localhost:8080/",
     "height": 701
    },
    "executionInfo": {
     "elapsed": 121816,
     "status": "ok",
     "timestamp": 1617437298618,
     "user": {
      "displayName": "Ine Winters",
      "photoUrl": "",
      "userId": "11267554535649979995"
     },
     "user_tz": -120
    },
    "id": "PQvfPKizOt1f",
    "outputId": "0385ecbd-7f74-43df-e299-ad4cb1c085be"
   },
   "outputs": [],
   "source": [
    "''' The degree distribution of the Swiss railway system considering only stops in Switzerland'''\n",
    "degree_distribution(S_swiss_stops)"
   ]
  },
  {
   "cell_type": "code",
   "execution_count": null,
   "metadata": {
    "colab": {
     "base_uri": "https://localhost:8080/",
     "height": 89
    },
    "executionInfo": {
     "elapsed": 121801,
     "status": "ok",
     "timestamp": 1617437298622,
     "user": {
      "displayName": "Ine Winters",
      "photoUrl": "",
      "userId": "11267554535649979995"
     },
     "user_tz": -120
    },
    "id": "OQVpke-mOt1g",
    "outputId": "13926345-a3fa-4f71-ad60-bd974ce41508"
   },
   "outputs": [],
   "source": [
    "''' Detection of the scale-free property in the Swiss railway system:\n",
    "A PTN with the scale-free property consists of a large number of vertices \n",
    "that exhibit low degree and a few number of vertices that exhibit very high degree. '''\n",
    "print(\"The scale-free property is present in the Swiss railway network because the majority of nodes exhibit a low degree value equal to 2 and almost none of the nodes exhibit a degree value equal to 5 or higher\")"
   ]
  },
  {
   "cell_type": "code",
   "execution_count": null,
   "metadata": {},
   "outputs": [],
   "source": [
    "'''Separate all the connected subgraphs of Switzerland. And see what we lose by only taking the largest one.'''\n",
    "all_connected_graphs = nx.connected_components(S)\n",
    "largest_component = max(nx.connected_components(S), key=len)\n",
    "largest_connected_subgraph = S.subgraph(largest_component)\n",
    "lost_number_nodes = len(S.nodes()) - len(largest_connected_subgraph)\n",
    "print(f'lost number of nodes: {lost_number_nodes}')\n",
    "list_subgraphs_except_max = []\n",
    "for sg in all_connected_graphs:\n",
    "    if sg != largest_component:\n",
    "        list_subgraphs_except_max.append(sg)\n",
    "\n",
    "set_deleted_routes = set()\n",
    "for sg in list_subgraphs_except_max:\n",
    "    for n1, n2, edge_data in S.subgraph(sg).edges(data=True):\n",
    "        set_deleted_routes.update(edge_data['route_id'])\n",
    "        \n",
    "print(f'lost number of routes: {len(set_deleted_routes)}')"
   ]
  },
  {
   "cell_type": "code",
   "execution_count": null,
   "metadata": {
    "colab": {
     "base_uri": "https://localhost:8080/",
     "height": 52
    },
    "executionInfo": {
     "elapsed": 121781,
     "status": "ok",
     "timestamp": 1617437298623,
     "user": {
      "displayName": "Ine Winters",
      "photoUrl": "",
      "userId": "11267554535649979995"
     },
     "user_tz": -120
    },
    "id": "bDnZgAnzOt1l",
    "outputId": "2f509ee9-980c-4cd1-aad0-d02fc4a38d8c"
   },
   "outputs": [],
   "source": [
    "''' The average path length of the Swiss railway system considering only stops in Switzerland:\n",
    "The average path length represents in the space-of-stops the average of all the shortest paths \n",
    "to be transversed between all public transport stop pairs\n",
    "which can be reached by means of one or multiple routes.'''\n",
    "print(nx.average_shortest_path_length(largest_connected_subgraph))"
   ]
  },
  {
   "cell_type": "code",
   "execution_count": null,
   "metadata": {
    "colab": {
     "base_uri": "https://localhost:8080/",
     "height": 69
    },
    "executionInfo": {
     "elapsed": 121760,
     "status": "ok",
     "timestamp": 1617437298627,
     "user": {
      "displayName": "Ine Winters",
      "photoUrl": "",
      "userId": "11267554535649979995"
     },
     "user_tz": -120
    },
    "id": "xtQOzs-NOt1m",
    "outputId": "9f066c94-e829-4310-9ec5-e7a8e14b7193"
   },
   "outputs": [],
   "source": [
    "''' The assortativity of the Swiss railway system considering only stops in Switzerland:\n",
    "In an assortative network, high-degree vertices tend to be connected and low-degree vertices tend to stick together as well. \n",
    "In a disassortative network conversely, high-degree and low-degree vertices tend to be connected to each other instead of being connected to vertices of the same kind.'''\n",
    "print(nx.degree_pearson_correlation_coefficient(S_swiss_stops))"
   ]
  },
  {
   "cell_type": "markdown",
   "metadata": {
    "id": "UMXNqOdIOt1o"
   },
   "source": [
    "# RQ2"
   ]
  },
  {
   "cell_type": "markdown",
   "metadata": {},
   "source": [
    "## Clustering preparation"
   ]
  },
  {
   "cell_type": "markdown",
   "metadata": {},
   "source": [
    "### Functions"
   ]
  },
  {
   "cell_type": "code",
   "execution_count": null,
   "metadata": {
    "colab": {
     "base_uri": "https://localhost:8080/",
     "height": 35
    },
    "executionInfo": {
     "elapsed": 121738,
     "status": "ok",
     "timestamp": 1617437298630,
     "user": {
      "displayName": "Ine Winters",
      "photoUrl": "",
      "userId": "11267554535649979995"
     },
     "user_tz": -120
    },
    "id": "8hX5d_mZOt1o",
    "outputId": "c768f2f3-7d18-4492-bbf5-284daf483280"
   },
   "outputs": [],
   "source": [
    "''' To put all the unique route_ids of the df_for_edges in df route_characteristics_Belgium'''\n",
    "def create_route_characteristics(df_for_edges):\n",
    "    # To create a list of all unique route_ids in the df_for_edges dataset\n",
    "    routes_list = list(df_for_edges['route_id'].unique())\n",
    "    routes_list.sort()\n",
    "\n",
    "    # To create a dataframe that contains the values in the route_characteristics_Belgium_dic as the values in the first column'''\n",
    "    route_characteristics = pd.DataFrame(routes_list, columns=['route_id'])\n",
    "    return route_characteristics"
   ]
  },
  {
   "cell_type": "code",
   "execution_count": null,
   "metadata": {
    "colab": {
     "base_uri": "https://localhost:8080/",
     "height": 35
    },
    "executionInfo": {
     "elapsed": 121718,
     "status": "ok",
     "timestamp": 1617437298631,
     "user": {
      "displayName": "Ine Winters",
      "photoUrl": "",
      "userId": "11267554535649979995"
     },
     "user_tz": -120
    },
    "id": "RMYApWoDOt1p",
    "outputId": "2cce624d-1ac0-40f5-cb3f-b89c3b926dd6"
   },
   "outputs": [],
   "source": [
    "''' To put the stations per route_id in df route_characteristics_Belgium'''\n",
    "def put_stations_route_characteristics(G, route_characteristics):\n",
    "    # To construct a new column of the route_characteristics_Belgium dataset that has for every column value an empty set\n",
    "    route_characteristics['nodes'] = [set() for _ in range(len(route_characteristics))]\n",
    "\n",
    "    # To put the two nodes of an edge in the nodes column of the route_characteristics_Belgium dataset if the route_id of the corresponding row \n",
    "    # is present in the set of the list values of the corresponding edge that contains all route_ids that contain the edge\n",
    "    for node1, node2 in G.edges():\n",
    "        route_characteristics[['route_id','nodes']].apply(lambda x: x['nodes'].update((node1, node2)) if x['route_id'] in set(G.get_edge_data(node1, node2)['route_id']) else x, axis = 1)\n",
    "    return route_characteristics"
   ]
  },
  {
   "cell_type": "code",
   "execution_count": null,
   "metadata": {
    "colab": {
     "base_uri": "https://localhost:8080/",
     "height": 35
    },
    "executionInfo": {
     "elapsed": 121702,
     "status": "ok",
     "timestamp": 1617437298643,
     "user": {
      "displayName": "Ine Winters",
      "photoUrl": "",
      "userId": "11267554535649979995"
     },
     "user_tz": -120
    },
    "id": "neKpEnc0s-Ve",
    "outputId": "e6f0a120-7ab4-489f-d081-ea940962223e"
   },
   "outputs": [],
   "source": [
    "'''Deletes every empty route (useful after a inside contry filter)'''\n",
    "def deletes_empty_routes(route_characteristics):\n",
    "    index_empty_routes = route_characteristics_Belgium_belgian_nodes[route_characteristics_Belgium_belgian_nodes['nodes'].map(lambda d: len(d)) == 0].index\n",
    "    return route_characteristics.drop(index_empty_routes)"
   ]
  },
  {
   "cell_type": "code",
   "execution_count": null,
   "metadata": {
    "colab": {
     "base_uri": "https://localhost:8080/",
     "height": 35
    },
    "executionInfo": {
     "elapsed": 121680,
     "status": "ok",
     "timestamp": 1617437298644,
     "user": {
      "displayName": "Ine Winters",
      "photoUrl": "",
      "userId": "11267554535649979995"
     },
     "user_tz": -120
    },
    "id": "sK0yLnZYOt1q",
    "outputId": "ae923385-bdf2-4b64-e80e-e2fd424206e3"
   },
   "outputs": [],
   "source": [
    "''' Definitions to calculate route topological metrics'''\n",
    "\n",
    "# The inputs of the get_metric_list function are a dictionary that contains for all node keys the corresponding metric values and a specific route_id of a column of \n",
    "# the route_characteristics dataset\n",
    "# A new empty list metric_list is created for these inputs\n",
    "# For the nodes that are in the route_characteristics dataset corresponding to this route_id, the corresponding metric values from the dictionary get appended to metric_list\n",
    "\n",
    "from statistics import mean\n",
    "def get_metric_list(route_characteristics, metric_dic, route_id):\n",
    "    \"\"\"this is a sub function that is used in calculate_metric_route_per_node\"\"\"\n",
    "    metric_list = []\n",
    "    for nodes in route_characteristics[route_characteristics['route_id'] == route_id]['nodes']:\n",
    "        for node in nodes:\n",
    "            metric_list.append(metric_dic[node])\n",
    "    return metric_list\n",
    "\n",
    "# For the metric, a new column is created in route_characteristics, where every column value consists of an empty list\n",
    "# The values in the column of the df are determined by giving the metric_dic and the route_id of the row where that value is placed to the get_metric_list function\n",
    "# The metric_list ultimately contains the metric values for a specific metric for all the stations corresponding to that route\n",
    "\n",
    "def calculate_metric_route_per_node(route_characteristics, metric_dic, metric_name):\n",
    "    \"\"\"puts the metrics of each node of a route in a list in the route_characteristics df\"\"\"\n",
    "    route_characteristics[metric_name] = [list for _ in range(len(route_characteristics))]\n",
    "    route_characteristics[metric_name] = route_characteristics.apply(lambda x: get_metric_list(route_characteristics, metric_dic, x['route_id']) , axis = 1)\n",
    "    \n",
    "# The function starts from the metric_name, the original_metric_name and the aggregation_method inputs\n",
    "# A new column named with the metric_name is created: initially it contains all NaN values\n",
    "# Thereafter the aggregation_method is taken into account. The avg aggregation method returns for all column values the mean of the values in the corresponding row\n",
    "# of the original_metric_name list. The max aggregation method returns for all column values the max of the values in the corresponding row of the original_metric_name list.\n",
    "\n",
    "def calculate_metric_aggregation_route(route_characteristics, metric_name, original_metric_name, aggregation_method):\n",
    "    '''calculate the metric aggregation of the routes, only avg and max are supported as string values for aggregation method\n",
    "    metric_name is the aggregation column name and original_metric_name is the node metric column name'''\n",
    "    route_characteristics[metric_name] = np.nan\n",
    "    if aggregation_method == 'avg':\n",
    "        route_characteristics[metric_name] = route_characteristics.apply(lambda x: mean(x[original_metric_name]) , axis = 1)\n",
    "    elif aggregation_method == 'max':\n",
    "        route_characteristics[metric_name] = route_characteristics.apply(lambda x: max(x[original_metric_name]) , axis = 1)"
   ]
  },
  {
   "cell_type": "code",
   "execution_count": null,
   "metadata": {
    "colab": {
     "base_uri": "https://localhost:8080/",
     "height": 35
    },
    "executionInfo": {
     "elapsed": 121672,
     "status": "ok",
     "timestamp": 1617437298656,
     "user": {
      "displayName": "Ine Winters",
      "photoUrl": "",
      "userId": "11267554535649979995"
     },
     "user_tz": -120
    },
    "id": "qkv4iM9LOt1r",
    "outputId": "a328bba2-957e-4257-da85-30f1ab548e5c"
   },
   "outputs": [],
   "source": [
    "'''Calculate the metrics of the route_characteristics df'''\n",
    "def calculate_characteristics (G, route_characteristics):\n",
    "    calculate_metric_route_per_node(route_characteristics, dict(G.degree()), 'node_degree')\n",
    "    calculate_metric_aggregation_route(route_characteristics, 'avg_degree', 'node_degree', 'avg')\n",
    "    calculate_metric_aggregation_route(route_characteristics, 'max_degree', 'node_degree', 'max')\n",
    "    calculate_metric_route_per_node(route_characteristics, dict(nx.clustering(G)), 'node_clustering')\n",
    "    calculate_metric_aggregation_route(route_characteristics, 'avg_clustering', 'node_clustering', 'avg')\n",
    "    calculate_metric_aggregation_route(route_characteristics, 'max_clustering', 'node_clustering', 'max')\n",
    "    calculate_metric_route_per_node(route_characteristics, dict(nx.closeness_centrality(G)), 'node_closeness_centrality')\n",
    "    calculate_metric_aggregation_route(route_characteristics, 'avg_closeness_centrality', 'node_closeness_centrality', 'avg')\n",
    "    calculate_metric_aggregation_route(route_characteristics, 'max_closeness_centrality', 'node_closeness_centrality', 'max')\n",
    "    calculate_metric_route_per_node(route_characteristics, dict(nx.betweenness_centrality(G)), 'node_betweenness_centrality')\n",
    "    calculate_metric_aggregation_route(route_characteristics, 'avg_betweenness_centrality', 'node_betweenness_centrality', 'avg')\n",
    "    calculate_metric_aggregation_route(route_characteristics, 'max_betweenness_centrality', 'node_betweenness_centrality', 'max')\n",
    "    return route_characteristics"
   ]
  },
  {
   "cell_type": "code",
   "execution_count": null,
   "metadata": {
    "colab": {
     "base_uri": "https://localhost:8080/",
     "height": 35
    },
    "executionInfo": {
     "elapsed": 121647,
     "status": "ok",
     "timestamp": 1617437298658,
     "user": {
      "displayName": "Ine Winters",
      "photoUrl": "",
      "userId": "11267554535649979995"
     },
     "user_tz": -120
    },
    "id": "5VsAFCLgOt1r",
    "outputId": "89fe8ee9-90d0-4cae-cf5f-fe1133c653fa"
   },
   "outputs": [],
   "source": [
    "''' To add the number of stations present in the stop sequence of a route_id'''\n",
    "def add_number_stations(route_characteristics):\n",
    "    number_stations = []\n",
    "    for number_stops in route_characteristics['nodes']:\n",
    "        number_stations.append(len(number_stops))\n",
    "\n",
    "    route_characteristics['len_stop_sequence'] = number_stations\n",
    "    return route_characteristics"
   ]
  },
  {
   "cell_type": "code",
   "execution_count": null,
   "metadata": {
    "colab": {
     "base_uri": "https://localhost:8080/",
     "height": 35
    },
    "executionInfo": {
     "elapsed": 121632,
     "status": "ok",
     "timestamp": 1617437298663,
     "user": {
      "displayName": "Ine Winters",
      "photoUrl": "",
      "userId": "11267554535649979995"
     },
     "user_tz": -120
    },
    "id": "WUdOvecyOt1t",
    "outputId": "9e3fa699-6481-4261-ba2a-618d521c4bf1"
   },
   "outputs": [],
   "source": [
    "''' To add the absolute distances between the starting and the ending station of all routes, and waiting and travel time'''\n",
    "\n",
    "def add_absolute_distance_tt_wt(route_characteristics, routes_country):\n",
    "\n",
    "    route_characteristics = route_characteristics.merge(routes_country[['route_id', 'distance','travel_time', 'waiting_time']], on='route_id')\n",
    "    route_characteristics = route_characteristics.rename(columns = {'distance': 'absolute_distance'})\n",
    "    return route_characteristics"
   ]
  },
  {
   "cell_type": "code",
   "execution_count": null,
   "metadata": {
    "colab": {
     "base_uri": "https://localhost:8080/",
     "height": 35
    },
    "executionInfo": {
     "elapsed": 121609,
     "status": "ok",
     "timestamp": 1617437298664,
     "user": {
      "displayName": "Ine Winters",
      "photoUrl": "",
      "userId": "11267554535649979995"
     },
     "user_tz": -120
    },
    "id": "URPLc0xEOt1u",
    "outputId": "64596ec5-0950-4bd7-9cd8-e828a47a936b"
   },
   "outputs": [],
   "source": [
    "''' To calculate the relative distance of the stop sequence of the route by only taking the starting and the ending station into account'''\n",
    "\n",
    "def add_relative_distance (route_characteristics):\n",
    "    # The relative distance of a route is the distance of the route divided by the distance of the route with the longest distance\n",
    "    relative_distance = []\n",
    "\n",
    "    # To calculate the route which stop sequence has the greatest absolute distance\n",
    "    max_distance = route_characteristics['absolute_distance'].max()\n",
    "\n",
    "    # To calculate the relative distance of each route\n",
    "    for abs_distance in route_characteristics['absolute_distance']:\n",
    "        rel_distance = abs_distance / max_distance\n",
    "        relative_distance.append(rel_distance)\n",
    "\n",
    "    # To add the relative_distance list as a column to the route_characteristics dataset\n",
    "    route_characteristics['relative_distance'] = relative_distance\n",
    "    return route_characteristics"
   ]
  },
  {
   "cell_type": "code",
   "execution_count": null,
   "metadata": {},
   "outputs": [],
   "source": [
    "''' To add the absolute distances between the starting and the ending station of all routes'''\n",
    "\n",
    "# Remember that geographical locations that are located further away to the right of the Prime Meridian Greenwich instead of another location that is closer\n",
    "# (but still to the right) of this Meridian Greenwich, have a greater longitute value.\n",
    "# Remember that geographical locations that are higher above the Equator than other geographical locations (that are also above the Equator), have a \n",
    "# higher latitude value\n",
    "\n",
    "def add_absolute_distance_begin_end(route_characteristics, df_for_edges, stops_cleaned):\n",
    "\n",
    "    absolute_distance = []\n",
    "    for route in route_characteristics['route_id']:\n",
    "        subdf_stop_sequence = df_for_edges[df_for_edges['route_id'] == route]\n",
    "        number_of_rows = len(subdf_stop_sequence.index)\n",
    "\n",
    "        # To get the starting station and the ending_station of the stop sequence of a route\n",
    "        starting_station = subdf_stop_sequence['stop_name_1'].iloc[0]\n",
    "        ending_station = subdf_stop_sequence['stop_name_2'].iloc[number_of_rows - 1]\n",
    "\n",
    "        # The radius of the earth\n",
    "        R = 6373.0\n",
    "\n",
    "        # To convert the coordinates in radians \n",
    "        lat_starting_station = math.radians(stops_cleaned[stops_cleaned['stop_name'] == starting_station]['stop_lat'].iloc[0])\n",
    "        lon_starting_station = math.radians(stops_cleaned[stops_cleaned['stop_name'] == starting_station]['stop_lon'].iloc[0])\n",
    "        lat_ending_station = math.radians(stops_cleaned[stops_cleaned['stop_name'] == ending_station]['stop_lat'].iloc[0])\n",
    "        lon_ending_station = math.radians(stops_cleaned[stops_cleaned['stop_name'] == ending_station]['stop_lon'].iloc[0])\n",
    "\n",
    "        # To calculate the change in coordinates\n",
    "        dlon = lon_ending_station - lon_starting_station\n",
    "        dlat = lat_ending_station - lat_starting_station\n",
    "\n",
    "        # To use the Haversine formula to get the distance in kilometers between the starting_station and the ending_station\n",
    "        a = math.sin(dlat / 2)**2 + math.cos(lat_starting_station) * math.cos(lat_ending_station) * math.sin(dlon / 2)**2\n",
    "        c = 2 * math.atan2(math.sqrt(a), math.sqrt(1 - a))\n",
    "\n",
    "        # To calculate the distance\n",
    "        distance = R * c\n",
    "\n",
    "        # To add the distance in the absolute_distance list\n",
    "        absolute_distance.append(distance)\n",
    "\n",
    "    # To add the absolute_distance list as a column to the route_characteristics dataset\n",
    "    route_characteristics['absolute_distance_begin_end'] = absolute_distance\n",
    "    return route_characteristics"
   ]
  },
  {
   "cell_type": "markdown",
   "metadata": {
    "id": "7QKrw5qkOt1v"
   },
   "source": [
    "### Actual clustering preparation"
   ]
  },
  {
   "cell_type": "markdown",
   "metadata": {},
   "source": [
    "#### Belgium"
   ]
  },
  {
   "cell_type": "code",
   "execution_count": null,
   "metadata": {
    "executionInfo": {
     "elapsed": 121608,
     "status": "ok",
     "timestamp": 1617437298666,
     "user": {
      "displayName": "Ine Winters",
      "photoUrl": "",
      "userId": "11267554535649979995"
     },
     "user_tz": -120
    },
    "id": "885GUpJKtLv1"
   },
   "outputs": [],
   "source": [
    "'''Calculates the subgraph that contains only stops into Belgium iteself (removes all the stop outside the country)'''\n",
    "belgian_stops = [n for n,v in B.nodes(data=True) if v['country'] == 'Belgium']\n",
    "B_belgian_stops = B.subgraph(belgian_stops)"
   ]
  },
  {
   "cell_type": "code",
   "execution_count": null,
   "metadata": {
    "executionInfo": {
     "elapsed": 152282,
     "status": "ok",
     "timestamp": 1617437329343,
     "user": {
      "displayName": "Ine Winters",
      "photoUrl": "",
      "userId": "11267554535649979995"
     },
     "user_tz": -120
    },
    "id": "dtU8EppuOt2K"
   },
   "outputs": [],
   "source": [
    "route_characteristics_Belgium = create_route_characteristics(df_for_edges_Belgium)\n",
    "route_characteristics_Belgium = put_stations_route_characteristics(B, route_characteristics_Belgium)\n",
    "route_characteristics_Belgium = calculate_characteristics(B, route_characteristics_Belgium)\n",
    "route_characteristics_Belgium = add_number_stations(route_characteristics_Belgium)\n",
    "route_characteristics_Belgium = add_absolute_distance_tt_wt(route_characteristics_Belgium, belgian_routes_Belgium)\n",
    "route_characteristics_Belgium = add_relative_distance (route_characteristics_Belgium)\n",
    "route_characteristics_Belgium = add_absolute_distance_begin_end(route_characteristics_Belgium, df_for_edges_Belgium, stops_cleaned_Belgium)"
   ]
  },
  {
   "cell_type": "code",
   "execution_count": null,
   "metadata": {
    "colab": {
     "base_uri": "https://localhost:8080/",
     "height": 1000
    },
    "executionInfo": {
     "elapsed": 152258,
     "status": "ok",
     "timestamp": 1617437329357,
     "user": {
      "displayName": "Ine Winters",
      "photoUrl": "",
      "userId": "11267554535649979995"
     },
     "user_tz": -120
    },
    "id": "xULOC3DrOt2L",
    "outputId": "c87f1267-6009-4b66-a2c4-2b939ff44e60"
   },
   "outputs": [],
   "source": [
    "route_characteristics_Belgium"
   ]
  },
  {
   "cell_type": "markdown",
   "metadata": {
    "id": "thZ_r9QOOt2P"
   },
   "source": [
    "#### Netherlands"
   ]
  },
  {
   "cell_type": "code",
   "execution_count": null,
   "metadata": {
    "executionInfo": {
     "elapsed": 152261,
     "status": "ok",
     "timestamp": 1617437329363,
     "user": {
      "displayName": "Ine Winters",
      "photoUrl": "",
      "userId": "11267554535649979995"
     },
     "user_tz": -120
    },
    "id": "eEBASbREtTxW"
   },
   "outputs": [],
   "source": [
    "'''Calculates the subgraph that contains only stops into Netherlands iteself (removes all the stop outside the country)'''\n",
    "dutch_stops = [n for n,v in N.nodes(data=True) if v['country'] == 'Netherlands']\n",
    "N_dutch_stops = N.subgraph(dutch_stops)"
   ]
  },
  {
   "cell_type": "code",
   "execution_count": null,
   "metadata": {
    "executionInfo": {
     "elapsed": 165745,
     "status": "ok",
     "timestamp": 1617437342852,
     "user": {
      "displayName": "Ine Winters",
      "photoUrl": "",
      "userId": "11267554535649979995"
     },
     "user_tz": -120
    },
    "id": "BnGEbtmwOt2Q"
   },
   "outputs": [],
   "source": [
    "route_characteristics_Netherlands = create_route_characteristics(df_for_edges_Netherlands)\n",
    "route_characteristics_Netherlands = put_stations_route_characteristics(N, route_characteristics_Netherlands)\n",
    "route_characteristics_Netherlands = calculate_characteristics(N, route_characteristics_Netherlands)\n",
    "route_characteristics_Netherlands = add_number_stations(route_characteristics_Netherlands)\n",
    "route_characteristics_Netherlands = add_absolute_distance_tt_wt(route_characteristics_Netherlands, dutch_routes_Netherlands)\n",
    "route_characteristics_Netherlands = add_relative_distance (route_characteristics_Netherlands)\n",
    "route_characteristics_Netherlands = add_absolute_distance_begin_end(route_characteristics_Netherlands, df_for_edges_Netherlands, stops_cleaned_Netherlands)"
   ]
  },
  {
   "cell_type": "code",
   "execution_count": null,
   "metadata": {
    "colab": {
     "base_uri": "https://localhost:8080/",
     "height": 1000
    },
    "executionInfo": {
     "elapsed": 165760,
     "status": "ok",
     "timestamp": 1617437342895,
     "user": {
      "displayName": "Ine Winters",
      "photoUrl": "",
      "userId": "11267554535649979995"
     },
     "user_tz": -120
    },
    "id": "JjnNPy44Ot2R",
    "outputId": "1e15f2f8-c472-4419-99e9-a793f162f24a",
    "scrolled": true
   },
   "outputs": [],
   "source": [
    "route_characteristics_Netherlands"
   ]
  },
  {
   "cell_type": "markdown",
   "metadata": {
    "id": "EHGe50UgOt2T"
   },
   "source": [
    "#### Switzerland"
   ]
  },
  {
   "cell_type": "code",
   "execution_count": null,
   "metadata": {
    "colab": {
     "base_uri": "https://localhost:8080/"
    },
    "executionInfo": {
     "elapsed": 165748,
     "status": "ok",
     "timestamp": 1617437342901,
     "user": {
      "displayName": "Ine Winters",
      "photoUrl": "",
      "userId": "11267554535649979995"
     },
     "user_tz": -120
    },
    "id": "PzbsJJEySkCw",
    "outputId": "d491a8c3-6a60-42c7-825c-e719f89e26d9"
   },
   "outputs": [],
   "source": [
    "len(df_for_edges_Belgium['route_id'].unique())"
   ]
  },
  {
   "cell_type": "code",
   "execution_count": null,
   "metadata": {
    "colab": {
     "base_uri": "https://localhost:8080/"
    },
    "executionInfo": {
     "elapsed": 165736,
     "status": "ok",
     "timestamp": 1617437342904,
     "user": {
      "displayName": "Ine Winters",
      "photoUrl": "",
      "userId": "11267554535649979995"
     },
     "user_tz": -120
    },
    "id": "I-Xx5UCnS1sk",
    "outputId": "a8ddfb46-a1d2-4fab-9936-8a907a46aa2c"
   },
   "outputs": [],
   "source": [
    "len(df_for_edges_Netherlands['route_id'].unique())"
   ]
  },
  {
   "cell_type": "code",
   "execution_count": null,
   "metadata": {
    "colab": {
     "base_uri": "https://localhost:8080/"
    },
    "executionInfo": {
     "elapsed": 165728,
     "status": "ok",
     "timestamp": 1617437342912,
     "user": {
      "displayName": "Ine Winters",
      "photoUrl": "",
      "userId": "11267554535649979995"
     },
     "user_tz": -120
    },
    "id": "YGEU375ZS3j3",
    "outputId": "b9317c0e-4f29-4cd7-dbc9-29dfc148695e"
   },
   "outputs": [],
   "source": [
    "len(df_for_edges_Switzerland['route_id'].unique())"
   ]
  },
  {
   "cell_type": "code",
   "execution_count": null,
   "metadata": {
    "executionInfo": {
     "elapsed": 165736,
     "status": "ok",
     "timestamp": 1617437342922,
     "user": {
      "displayName": "Ine Winters",
      "photoUrl": "",
      "userId": "11267554535649979995"
     },
     "user_tz": -120
    },
    "id": "XSj_OUKBtdSG"
   },
   "outputs": [],
   "source": [
    "'''Calculates the subgraph that contains only stops into Switzerland iteself (removes all the stop outside the country)'''\n",
    "swiss_stops = [n for n,v in S.nodes(data=True) if v['country'] == 'Switzerland']\n",
    "S_swiss_stops = S.subgraph(swiss_stops)"
   ]
  },
  {
   "cell_type": "code",
   "execution_count": null,
   "metadata": {
    "executionInfo": {
     "elapsed": 554010,
     "status": "ok",
     "timestamp": 1617437731199,
     "user": {
      "displayName": "Ine Winters",
      "photoUrl": "",
      "userId": "11267554535649979995"
     },
     "user_tz": -120
    },
    "id": "fIgT7ZM2Ot2V"
   },
   "outputs": [],
   "source": [
    "route_characteristics_Switzerland = create_route_characteristics(df_for_edges_Switzerland)\n",
    "route_characteristics_Switzerland = put_stations_route_characteristics(S, route_characteristics_Switzerland)\n",
    "route_characteristics_Switzerland = calculate_characteristics(S, route_characteristics_Switzerland)\n",
    "route_characteristics_Switzerland = add_number_stations(route_characteristics_Switzerland)\n",
    "route_characteristics_Switzerland = add_absolute_distance_tt_wt(route_characteristics_Switzerland, swiss_routes_Switzerland)\n",
    "route_characteristics_Switzerland = add_relative_distance (route_characteristics_Switzerland)\n",
    "route_characteristics_Switzerland = add_absolute_distance_begin_end(route_characteristics_Switzerland, df_for_edges_Switzerland, stops_cleaned_Switzerland)"
   ]
  },
  {
   "cell_type": "code",
   "execution_count": null,
   "metadata": {
    "colab": {
     "base_uri": "https://localhost:8080/",
     "height": 0
    },
    "executionInfo": {
     "elapsed": 553994,
     "status": "ok",
     "timestamp": 1617437731202,
     "user": {
      "displayName": "Ine Winters",
      "photoUrl": "",
      "userId": "11267554535649979995"
     },
     "user_tz": -120
    },
    "id": "M4u3OBPqOt2W",
    "outputId": "ae664801-d788-4529-ac3b-153733048f99"
   },
   "outputs": [],
   "source": [
    "route_characteristics_Switzerland"
   ]
  },
  {
   "cell_type": "markdown",
   "metadata": {
    "id": "qOU8mVP7XdCv"
   },
   "source": [
    "## Route clustering"
   ]
  },
  {
   "cell_type": "markdown",
   "metadata": {
    "id": "x6aWWvj0gt3c"
   },
   "source": [
    "The route_id is an identifying but not an explanatory variable and therefore not interesting.\n",
    "\n",
    "The max_degree attribute is chosen because a route that contains a station from which there are many directions of travel may have a longer transfer time at this stop and thus a relatively higher travel_time of the route ceteris paribus.\n",
    "\n",
    "The clustering attribute is not interesting in the context of route clustering. Stations with a high clustering value have immediate neighboring stations that share a link between them. This may indicate that a station is sometimes skipped on this trajectory. However, from the clustering coefficient, it is not possible to tell whether the route represents the route with many or few intermediate stops.\n",
    "\n",
    "The closeness centrality is interesting because stations that have smaller shortests paths lengths to all  other stations are more connected and therefore often more important stations. These important stations have a higher transfer time.\n",
    "\n",
    "The betweenness centrality is interesting because stations that lie more often on the paths between other stations are more connected and therefore often more important stations. These important stations have a higher transfer time.\n",
    "\n",
    "The len_stop_sequence attribute is interesting because a higher number of stops results in a higher total transfer time ceteris paribus.\n",
    "\n",
    "The absolute distance is interesting because trajectories that have a longer length will also typically take more time to travel.\n",
    "\n",
    "The relative distance is not interesting as the scaled absolute distance is the same as the relative distance."
   ]
  },
  {
   "cell_type": "markdown",
   "metadata": {},
   "source": [
    "### Functions"
   ]
  },
  {
   "cell_type": "code",
   "execution_count": null,
   "metadata": {
    "colab": {
     "base_uri": "https://localhost:8080/",
     "height": 0
    },
    "executionInfo": {
     "elapsed": 553969,
     "status": "ok",
     "timestamp": 1617437731203,
     "user": {
      "displayName": "Ine Winters",
      "photoUrl": "",
      "userId": "11267554535649979995"
     },
     "user_tz": -120
    },
    "id": "QbapVa0IrRCe",
    "outputId": "da21c1aa-9110-4bf7-be36-650773d8e86a"
   },
   "outputs": [],
   "source": [
    "''' To select the interesting attributes for the clustering '''\n",
    "def select_clustering_attributes(route_characteristics):\n",
    "    clustering_df = route_characteristics[['max_degree', 'max_closeness_centrality', 'max_betweenness_centrality','len_stop_sequence', 'absolute_distance']]\n",
    "\n",
    "    return clustering_df"
   ]
  },
  {
   "cell_type": "code",
   "execution_count": null,
   "metadata": {
    "colab": {
     "base_uri": "https://localhost:8080/",
     "height": 0
    },
    "executionInfo": {
     "elapsed": 553950,
     "status": "ok",
     "timestamp": 1617437731204,
     "user": {
      "displayName": "Ine Winters",
      "photoUrl": "",
      "userId": "11267554535649979995"
     },
     "user_tz": -120
    },
    "id": "e0nB88EMtLqF",
    "outputId": "53eb5b2c-640f-4b0c-e53d-d5406606298d"
   },
   "outputs": [],
   "source": [
    "''' To scale all attributes such that their values are between 0 and 1 and save the result in a dataframe'''\n",
    "\n",
    "def scale_clustering_attributes_to_df(clustering_df):\n",
    "    scaled_clustering_df = clustering_df.copy()\n",
    "    scaler = MinMaxScaler()\n",
    "\n",
    "    # To scale the max_degree\n",
    "    scaler.fit(scaled_clustering_df[['max_degree']])\n",
    "    scaled_clustering_df['max_degree'] = scaler.transform(scaled_clustering_df[['max_degree']])\n",
    "\n",
    "    # To scale the max_closeness_centrality\n",
    "    scaler.fit(scaled_clustering_df[['max_closeness_centrality']])\n",
    "    scaled_clustering_df['max_closeness_centrality'] = scaler.transform(scaled_clustering_df[['max_closeness_centrality']])\n",
    "\n",
    "    # To scale the max_betweenness_centrality\n",
    "    scaler.fit(scaled_clustering_df[['max_betweenness_centrality']])\n",
    "    scaled_clustering_df['max_betweenness_centrality'] = scaler.transform(scaled_clustering_df[['max_betweenness_centrality']])\n",
    "\n",
    "    # To scale the len_stop_sequence\n",
    "    scaler.fit(scaled_clustering_df[['len_stop_sequence']])\n",
    "    scaled_clustering_df['len_stop_sequence'] = scaler.transform(scaled_clustering_df[['len_stop_sequence']])\n",
    "\n",
    "    # To scale the absolute distance\n",
    "    scaler.fit(scaled_clustering_df[['absolute_distance']])\n",
    "    scaled_clustering_df['absolute_distance'] = scaler.transform(scaled_clustering_df[['absolute_distance']])\n",
    "\n",
    "    # To verify the ranges of the attributes\n",
    "    scaled_clustering_df.describe()\n",
    "\n",
    "    return scaled_clustering_df"
   ]
  },
  {
   "cell_type": "code",
   "execution_count": null,
   "metadata": {
    "colab": {
     "base_uri": "https://localhost:8080/",
     "height": 0
    },
    "executionInfo": {
     "elapsed": 554390,
     "status": "ok",
     "timestamp": 1617437731669,
     "user": {
      "displayName": "Ine Winters",
      "photoUrl": "",
      "userId": "11267554535649979995"
     },
     "user_tz": -120
    },
    "id": "01vxr_-RunkB",
    "outputId": "bcb71582-6ea7-45d2-dfce-1d05636239ac"
   },
   "outputs": [],
   "source": [
    "''' To scale all attributes such that their values are between 0 and 1 and save the result in an array'''\n",
    "\n",
    "def scale_clustering_attributes_to_arr(clustering_df):\n",
    "\n",
    "    scaler = MinMaxScaler()\n",
    "    # To scale all attributes\n",
    "    scaler.fit(clustering_df)\n",
    "    scaled_clustering_arr = scaler.transform(clustering_df)\n",
    "\n",
    "    return scaled_clustering_arr"
   ]
  },
  {
   "cell_type": "code",
   "execution_count": null,
   "metadata": {
    "colab": {
     "base_uri": "https://localhost:8080/",
     "height": 0
    },
    "executionInfo": {
     "elapsed": 554370,
     "status": "ok",
     "timestamp": 1617437731672,
     "user": {
      "displayName": "Ine Winters",
      "photoUrl": "",
      "userId": "11267554535649979995"
     },
     "user_tz": -120
    },
    "id": "VxGZDU2xStpI",
    "outputId": "8cb465e6-88f8-4248-8f34-74903c1d3881"
   },
   "outputs": [],
   "source": [
    "''' To create a reduced array with two components '''\n",
    "def create_array_two_components(scaled_arr):\n",
    "    # To create the array with the specified amount of desired components from the scaled_clustering_arr\n",
    "    pca = PCA(n_components=2)\n",
    "    pca.fit(scaled_arr)\n",
    "    x_pca = pca.transform(scaled_arr)\n",
    "\n",
    "    return x_pca"
   ]
  },
  {
   "cell_type": "code",
   "execution_count": null,
   "metadata": {
    "colab": {
     "base_uri": "https://localhost:8080/",
     "height": 0
    },
    "executionInfo": {
     "elapsed": 554347,
     "status": "ok",
     "timestamp": 1617437731673,
     "user": {
      "displayName": "Ine Winters",
      "photoUrl": "",
      "userId": "11267554535649979995"
     },
     "user_tz": -120
    },
    "id": "7dtyaoJQTnG4",
    "outputId": "ae9d587c-0196-4196-f25d-28883d34e437"
   },
   "outputs": [],
   "source": [
    "''' To create a PCA plot'''\n",
    "def create_PCA_plot_one_argument(x_pca):\n",
    "    plt.figure(figsize=(8,6))\n",
    "    plt.scatter(x_pca[:,0], x_pca[:,1])\n",
    "    plt.xlabel(\"First principle component\")\n",
    "    plt.ylabel(\"Second principle component\")"
   ]
  },
  {
   "cell_type": "code",
   "execution_count": null,
   "metadata": {
    "colab": {
     "base_uri": "https://localhost:8080/",
     "height": 0
    },
    "executionInfo": {
     "elapsed": 554296,
     "status": "ok",
     "timestamp": 1617437731676,
     "user": {
      "displayName": "Ine Winters",
      "photoUrl": "",
      "userId": "11267554535649979995"
     },
     "user_tz": -120
    },
    "id": "zBwADPVQYQgM",
    "outputId": "51bf3fe5-4c92-4334-9b3c-2757e885b35f"
   },
   "outputs": [],
   "source": [
    "''' To find the optimal number of clusters'''\n",
    "def optimal_number_clusters(scaled_clustering_df):\n",
    "    # The elbow method starts with a certain k and computes the sum of squared errors (sum of the squared distances of points from their cluster centroids).\n",
    "    # Thereafter the elbow method computes this sum of squared errors also for other values of k.\n",
    "    # The optimal k is indicated by the elow on the elbow plot.\n",
    "\n",
    "    # To specify the k range\n",
    "    k_range = range(1,50)\n",
    "\n",
    "    # To introduce the array that will contain the sum of squared errors of all models\n",
    "    sse = []\n",
    "\n",
    "    # For each iteration, a new model is created with the number of clusters equal to k\n",
    "    # The sum of squared error is given by the inertia parameter\n",
    "    for k in k_range:\n",
    "    km = KMeans(n_clusters=k)\n",
    "    km.fit(scaled_clustering_df)\n",
    "    sse.append(km.inertia_)\n",
    "\n",
    "    # To plot the elbow plot\n",
    "    plt.xlabel('k')\n",
    "    plt.ylabel('Sum of squared error')\n",
    "    plt.plot(k_range, sse)\n",
    "\n",
    "    # To calculate the optimal number of clusters\n",
    "    kl = KneeLocator(range(1, 50), sse, curve=\"convex\", direction=\"decreasing\")\n",
    "\n",
    "    return kl.elbow"
   ]
  },
  {
   "cell_type": "code",
   "execution_count": null,
   "metadata": {
    "colab": {
     "base_uri": "https://localhost:8080/",
     "height": 0
    },
    "executionInfo": {
     "elapsed": 554272,
     "status": "ok",
     "timestamp": 1617437731683,
     "user": {
      "displayName": "Ine Winters",
      "photoUrl": "",
      "userId": "11267554535649979995"
     },
     "user_tz": -120
    },
    "id": "a0wzm2grcixJ",
    "outputId": "14762abf-79fa-46b4-a3e1-478ad94033de"
   },
   "outputs": [],
   "source": [
    "''' To add the cluster group to the scaled_clustering_dfs and the clustering_dfs '''\n",
    "def assign_cluster_group(optimal_number_clusters, clustering_df, scaled_clustering_df, x_pca_clustering_df):\n",
    "    # To apply the clustering prediction\n",
    "    km = KMeans(n_clusters=optimal_number_clusters)\n",
    "    cluster_predicted = km.fit_predict(scaled_clustering_df)\n",
    "\n",
    "    # To add the labels to the dfs\n",
    "    clustering_cluster_groups_df = clustering_df.copy()\n",
    "    clustering_cluster_groups_df['cluster_group'] = cluster_predicted\n",
    "\n",
    "    scaled_clustering_cluster_groups_df = scaled_clustering_df.copy()\n",
    "    scaled_clustering_cluster_groups_df['cluster_group'] = cluster_predicted\n",
    "\n",
    "    x_pca_clustering_cluster_groups_df = x_pca_clustering_df.copy()\n",
    "    x_pca_clustering_cluster_groups_df['cluster_group'] = cluster_predicted\n",
    "\n",
    "    return km, clustering_cluster_groups_df, scaled_clustering_cluster_groups_df, x_pca_clustering_cluster_groups_df"
   ]
  },
  {
   "cell_type": "code",
   "execution_count": null,
   "metadata": {
    "colab": {
     "base_uri": "https://localhost:8080/",
     "height": 0
    },
    "executionInfo": {
     "elapsed": 554251,
     "status": "ok",
     "timestamp": 1617437731693,
     "user": {
      "displayName": "Ine Winters",
      "photoUrl": "",
      "userId": "11267554535649979995"
     },
     "user_tz": -120
    },
    "id": "lFtz83tMcuSd",
    "outputId": "088d0f46-efae-4101-f9a2-505098e8c12f"
   },
   "outputs": [],
   "source": [
    "''' To get the cluster centroids '''\n",
    "def find_cluster_centroids_in_5D(scaled_clustering_cluster_groups):\n",
    "    # To retrieve the scaled attributes and to put them in an array\n",
    "    X_df = scaled_clustering_cluster_groups.drop('cluster_group', axis=1)\n",
    "    X = X_df.to_numpy()\n",
    "\n",
    "    # To retrieve the labels and to put them in an array\n",
    "    Y_df = scaled_clustering_cluster_groups['cluster_group']\n",
    "    Y = Y_df.to_numpy()\n",
    "\n",
    "    clf = NearestCentroid()\n",
    "    clf.fit(X,Y)\n",
    "\n",
    "    return clf.centroids_"
   ]
  },
  {
   "cell_type": "code",
   "execution_count": null,
   "metadata": {
    "colab": {
     "base_uri": "https://localhost:8080/",
     "height": 0
    },
    "executionInfo": {
     "elapsed": 554205,
     "status": "ok",
     "timestamp": 1617437731695,
     "user": {
      "displayName": "Ine Winters",
      "photoUrl": "",
      "userId": "11267554535649979995"
     },
     "user_tz": -120
    },
    "id": "dsg5DjELcvdD",
    "outputId": "4553c8cb-c224-4175-a290-b78ea0eace38"
   },
   "outputs": [],
   "source": [
    "''' To get the cluster centroids '''\n",
    "def find_cluster_centroids_in_2D(scaled_clustering_cluster_groups):\n",
    "    # To retrieve the scaled attributes and to put them in an array\n",
    "    X_df = scaled_clustering_cluster_groups[['Principal component 1', 'Principal component 2']]\n",
    "    X = X_df.to_numpy()\n",
    "\n",
    "    # To retrieve the labels and to put them in an array\n",
    "    Y_df = scaled_clustering_cluster_groups['cluster_group']\n",
    "    Y = Y_df.to_numpy()\n",
    "\n",
    "    clf = NearestCentroid()\n",
    "    clf.fit(X,Y)\n",
    "\n",
    "    return clf.centroids_"
   ]
  },
  {
   "cell_type": "code",
   "execution_count": null,
   "metadata": {
    "executionInfo": {
     "elapsed": 554207,
     "status": "ok",
     "timestamp": 1617437731702,
     "user": {
      "displayName": "Ine Winters",
      "photoUrl": "",
      "userId": "11267554535649979995"
     },
     "user_tz": -120
    },
    "id": "wydltuxuega1"
   },
   "outputs": [],
   "source": [
    "def get_cluster_centroids(km):\n",
    "    return km.cluster_centers_"
   ]
  },
  {
   "cell_type": "code",
   "execution_count": null,
   "metadata": {
    "executionInfo": {
     "elapsed": 554203,
     "status": "ok",
     "timestamp": 1617437731704,
     "user": {
      "displayName": "Ine Winters",
      "photoUrl": "",
      "userId": "11267554535649979995"
     },
     "user_tz": -120
    },
    "id": "vC71SK79g_h3"
   },
   "outputs": [],
   "source": [
    "def create_PCA_plot(x_pca, x_pca_centroids, scaled_clustering_cluster_groups_df):\n",
    "    plt.figure(figsize=(8,6))\n",
    "    plt.scatter(x_pca[:,0], x_pca[:,1], c=scaled_clustering_cluster_groups_df['cluster_group'])\n",
    "    plt.scatter(x_pca_centroids[:,0], x_pca_centroids[:,1], color = 'red', marker='*', s=200)\n",
    "    plt.xlabel(\"First principle component\")\n",
    "    plt.ylabel(\"Second principle component\")"
   ]
  },
  {
   "cell_type": "markdown",
   "metadata": {
    "id": "j088bYyrhBH5"
   },
   "source": [
    "### Acutal clustering of Belgium and the Netherlands"
   ]
  },
  {
   "cell_type": "code",
   "execution_count": null,
   "metadata": {
    "colab": {
     "base_uri": "https://localhost:8080/",
     "height": 659
    },
    "executionInfo": {
     "elapsed": 554287,
     "status": "ok",
     "timestamp": 1617437731937,
     "user": {
      "displayName": "Ine Winters",
      "photoUrl": "",
      "userId": "11267554535649979995"
     },
     "user_tz": -120
    },
    "id": "Iy4MzGW5rGcU",
    "outputId": "b675b060-9984-4940-da71-c18cdd09fb54"
   },
   "outputs": [],
   "source": [
    "''' To create the clustering_dfs that contain the interesting attributes for clustering'''\n",
    "clustering_df_Belgium = select_clustering_attributes(route_characteristics_Belgium)\n",
    "clustering_df_Netherlands = select_clustering_attributes(route_characteristics_Netherlands)\n",
    "\n",
    "''' To add a country attribute to the clustering_dfs'''\n",
    "clustering_df_Belgium.loc[:,'country'] = 'Belgium'\n",
    "clustering_df_Netherlands.loc[:,'country'] = 'Netherlands'\n",
    "\n",
    "''' To merge the two clustering_dfs'''\n",
    "clustering_Belgium_Netherlands_df = clustering_df_Belgium.append(clustering_df_Netherlands)\n",
    "\n",
    "# To reset the index\n",
    "clustering_Belgium_Netherlands_df = clustering_Belgium_Netherlands_df.reset_index(drop=True)\n",
    "clustering_Belgium_Netherlands_df"
   ]
  },
  {
   "cell_type": "code",
   "execution_count": null,
   "metadata": {
    "colab": {
     "base_uri": "https://localhost:8080/",
     "height": 1000
    },
    "executionInfo": {
     "elapsed": 554601,
     "status": "ok",
     "timestamp": 1617437732330,
     "user": {
      "displayName": "Ine Winters",
      "photoUrl": "",
      "userId": "11267554535649979995"
     },
     "user_tz": -120
    },
    "id": "yFcWflWws5b0",
    "outputId": "47e4418b-9cc0-4c99-f192-156a147482b2"
   },
   "outputs": [],
   "source": [
    "''' To rescale all numerical attributes of the clustering_Belgium_Netherlands_df '''\n",
    "scaled_clustering_Belgium_Netherlands_df = scale_clustering_attributes_to_df(clustering_Belgium_Netherlands_df)\n",
    "scaled_clustering_Belgium_Netherlands_arr = scale_clustering_attributes_to_arr(clustering_Belgium_Netherlands_df.drop('country', axis=1))\n",
    "scaled_clustering_Belgium_Netherlands_df\n",
    "scaled_clustering_Belgium_Netherlands_arr\n",
    "\n",
    "''' To apply PCA and to go from an array of 5 dimensions to an array of 2 dimensions'''\n",
    "x_pca_clustering_Belgium_Netherlands_arr = create_array_two_components(scaled_clustering_Belgium_Netherlands_arr)\n",
    "x_pca_clustering_Belgium_Netherlands_arr\n",
    "\n",
    "''' To creata a PCA plot from x_pca_clustering_merged'''\n",
    "PCA_plot_before_clustering_Belgium_Netherlands = create_PCA_plot_one_argument(x_pca_clustering_Belgium_Netherlands_arr)\n",
    "PCA_plot_before_clustering_Belgium_Netherlands"
   ]
  },
  {
   "cell_type": "code",
   "execution_count": null,
   "metadata": {
    "colab": {
     "base_uri": "https://localhost:8080/",
     "height": 1000
    },
    "executionInfo": {
     "elapsed": 554985,
     "status": "ok",
     "timestamp": 1617437732734,
     "user": {
      "displayName": "Ine Winters",
      "photoUrl": "",
      "userId": "11267554535649979995"
     },
     "user_tz": -120
    },
    "id": "ARBX3niHSVGh",
    "outputId": "68f0ff04-f548-4e46-ccf8-e4c3bc05789b"
   },
   "outputs": [],
   "source": [
    "''' To split the scaled_clustering_Belgium_Netherlands_df '''\n",
    "scaled_clustering_df_Belgium_from_Belgium_Netherlands = scaled_clustering_Belgium_Netherlands_df[scaled_clustering_Belgium_Netherlands_df['country'] == 'Belgium']\n",
    "scaled_clustering_df_Netherlands_from_Belgium_Netherlands = scaled_clustering_Belgium_Netherlands_df[scaled_clustering_Belgium_Netherlands_df['country'] == 'Netherlands']\n",
    "\n",
    "scaled_clustering_df_Belgium_from_Belgium_Netherlands\n",
    "scaled_clustering_df_Netherlands_from_Belgium_Netherlands\n",
    "\n",
    "''' To convert the x_pca_clustering_merged array to a df and to add the country attribute'''\n",
    "# To convert the x_pca_clustering_merged array to a df\n",
    "x_pca_clustering_Belgium_Netherlands_df = pd.DataFrame({'Principal component 1': x_pca_clustering_Belgium_Netherlands_arr[:, 0], 'Principal component 2': x_pca_clustering_Belgium_Netherlands_arr[:, 1]})\n",
    "\n",
    "# To add the country attribute\n",
    "x_pca_clustering_Belgium_Netherlands_df['country'] = scaled_clustering_Belgium_Netherlands_df['country']\n",
    "x_pca_clustering_Belgium_Netherlands_df\n",
    "\n",
    "''' To split the x_pca_clustering_Belgium_Netherlands_df df into two for both the countries '''\n",
    "x_pca_clustering_df_Belgium_from_Belgium_Netherlands = x_pca_clustering_Belgium_Netherlands_df[x_pca_clustering_Belgium_Netherlands_df['country'] == 'Belgium']\n",
    "x_pca_clustering_df_Netherlands_from_Belgium_Netherlands = x_pca_clustering_Belgium_Netherlands_df[x_pca_clustering_Belgium_Netherlands_df['country'] == 'Netherlands']\n",
    "x_pca_clustering_df_Belgium_from_Belgium_Netherlands\n",
    "x_pca_clustering_df_Netherlands_from_Belgium_Netherlands\n",
    "\n",
    "''' To drop the country attribute and to convert the x_pca_clustering dfs of both countries to an array'''\n",
    "# To drop the country attribute\n",
    "x_pca_clustering_df_Belgium_from_Belgium_Netherlands = x_pca_clustering_df_Belgium_from_Belgium_Netherlands.drop('country', axis=1)\n",
    "x_pca_clustering_df_Netherlands_from_Belgium_Netherlands = x_pca_clustering_df_Netherlands_from_Belgium_Netherlands.drop('country', axis=1)\n",
    "\n",
    "# To convert the x_pca_clustering dfs of both countries to an array\n",
    "x_pca_clustering_arr_Belgium_from_Belgium_Netherlands = x_pca_clustering_df_Belgium_from_Belgium_Netherlands.to_numpy()\n",
    "x_pca_clustering_arr_Netherlands_from_Belgium_Netherlands = x_pca_clustering_df_Netherlands_from_Belgium_Netherlands.to_numpy()\n",
    "\n",
    "x_pca_clustering_arr_Belgium_from_Belgium_Netherlands\n",
    "x_pca_clustering_arr_Netherlands_from_Belgium_Netherlands"
   ]
  },
  {
   "cell_type": "code",
   "execution_count": null,
   "metadata": {
    "colab": {
     "base_uri": "https://localhost:8080/",
     "height": 297
    },
    "executionInfo": {
     "elapsed": 573298,
     "status": "ok",
     "timestamp": 1617437751118,
     "user": {
      "displayName": "Ine Winters",
      "photoUrl": "",
      "userId": "11267554535649979995"
     },
     "user_tz": -120
    },
    "id": "Epu0O5zPXzR4",
    "outputId": "e1a037b0-ffe4-48cf-86ff-bd7bf5d95616"
   },
   "outputs": [],
   "source": [
    "''' To apply the elbow method to get the optimal number of clusters of routes in each railway system'''\n",
    "optimal_number_clusters_Belgium_from_Belgium_Netherlands = optimal_number_clusters(scaled_clustering_df_Belgium_from_Belgium_Netherlands.drop('country', axis=1))\n",
    "optimal_number_clusters_Netherlands_from_Belgium_Netherlands = optimal_number_clusters(scaled_clustering_df_Netherlands_from_Belgium_Netherlands.drop('country', axis=1))\n",
    "\n",
    "optimal_number_clusters_Belgium_from_Belgium_Netherlands\n",
    "optimal_number_clusters_Netherlands_from_Belgium_Netherlands"
   ]
  },
  {
   "cell_type": "code",
   "execution_count": null,
   "metadata": {
    "colab": {
     "base_uri": "https://localhost:8080/",
     "height": 1000
    },
    "executionInfo": {
     "elapsed": 573734,
     "status": "ok",
     "timestamp": 1617437751557,
     "user": {
      "displayName": "Ine Winters",
      "photoUrl": "",
      "userId": "11267554535649979995"
     },
     "user_tz": -120
    },
    "id": "uMRbn4LpVES3",
    "outputId": "1510af31-fcfe-4357-adc6-df4c68969b74"
   },
   "outputs": [],
   "source": [
    "''' To assign the cluster group labels to the non_scaled_5D_df, the scaled_5D_df and the scaled_2D_df'''\n",
    "km_5D_Belgium_from_Belgium_Netherlands, clustering_cluster_groups_5D_Belgium_from_Belgium_Netherlands, scaled_clustering_cluster_groups_5D_Belgium_from_Belgium_Netherlands, scaled_clustering_cluster_groups_2D_Belgium_from_Belgium_Netherlands = assign_cluster_group(optimal_number_clusters_Belgium_from_Belgium_Netherlands, clustering_df_Belgium.drop('country', axis=1), scaled_clustering_df_Belgium_from_Belgium_Netherlands.drop('country', axis=1), x_pca_clustering_df_Belgium_from_Belgium_Netherlands)\n",
    "km_5D_Netherlands_from_Belgium_Netherlands, clustering_cluster_groups_5D_Netherlands_from_Belgium_Netherlands, scaled_clustering_cluster_groups_5D_Netherlands_from_Belgium_Netherlands, scaled_clustering_cluster_groups_2D_Netherlands_from_Belgium_Netherlands = assign_cluster_group(optimal_number_clusters_Netherlands_from_Belgium_Netherlands, clustering_df_Netherlands.drop('country', axis=1), scaled_clustering_df_Netherlands_from_Belgium_Netherlands.drop('country', axis=1), x_pca_clustering_df_Netherlands_from_Belgium_Netherlands)\n",
    "\n",
    "clustering_cluster_groups_5D_Belgium_from_Belgium_Netherlands\n",
    "scaled_clustering_cluster_groups_5D_Belgium_from_Belgium_Netherlands\n",
    "scaled_clustering_cluster_groups_2D_Belgium_from_Belgium_Netherlands\n",
    "clustering_cluster_groups_5D_Netherlands_from_Belgium_Netherlands\n",
    "scaled_clustering_cluster_groups_5D_Netherlands_from_Belgium_Netherlands\n",
    "scaled_clustering_cluster_groups_2D_Netherlands_from_Belgium_Netherlands"
   ]
  },
  {
   "cell_type": "code",
   "execution_count": null,
   "metadata": {
    "colab": {
     "base_uri": "https://localhost:8080/",
     "height": 375
    },
    "executionInfo": {
     "elapsed": 573732,
     "status": "ok",
     "timestamp": 1617437751559,
     "user": {
      "displayName": "Ine Winters",
      "photoUrl": "",
      "userId": "11267554535649979995"
     },
     "user_tz": -120
    },
    "id": "hnHNkBw_YH9o",
    "outputId": "dac694be-450f-4b5e-8b4b-4bc3736837bf"
   },
   "outputs": [],
   "source": [
    "''' To calculate the cluster centroids of the scaled_5D_df and the scaled_2D_df '''\n",
    "cluster_centroids_5D_Belgium_from_Belgium_Netherlands = find_cluster_centroids_in_5D(scaled_clustering_cluster_groups_5D_Belgium_from_Belgium_Netherlands)\n",
    "cluster_centroids_5D_Netherlands_from_Belgium_Netherlands = find_cluster_centroids_in_5D(scaled_clustering_cluster_groups_5D_Netherlands_from_Belgium_Netherlands)\n",
    "cluster_centroids_2D_Belgium_from_Belgium_Netherlands = find_cluster_centroids_in_2D(scaled_clustering_cluster_groups_2D_Belgium_from_Belgium_Netherlands)\n",
    "cluster_centroids_2D_Netherlands_from_Belgium_Netherlands = find_cluster_centroids_in_2D(scaled_clustering_cluster_groups_2D_Netherlands_from_Belgium_Netherlands)\n",
    "\n",
    "cluster_centroids_5D_Belgium_from_Belgium_Netherlands\n",
    "cluster_centroids_5D_Netherlands_from_Belgium_Netherlands\n",
    "cluster_centroids_2D_Belgium_from_Belgium_Netherlands\n",
    "cluster_centroids_2D_Netherlands_from_Belgium_Netherlands\n",
    "\n",
    "# To compare the 5D centroids of the get_cluster_centroids definition to the 5D centroids of the find_cluster_centroids_in_5D definition\n",
    "# These centroids values are almost equal. \n",
    "#centroidtest_5D_scaled = get_cluster_centroids(km_5D_Belgium_from_Belgium_Netherlands)\n",
    "#centroidtest_5D_scaled"
   ]
  },
  {
   "cell_type": "code",
   "execution_count": null,
   "metadata": {
    "colab": {
     "base_uri": "https://localhost:8080/",
     "height": 777
    },
    "executionInfo": {
     "elapsed": 574621,
     "status": "ok",
     "timestamp": 1617437752533,
     "user": {
      "displayName": "Ine Winters",
      "photoUrl": "",
      "userId": "11267554535649979995"
     },
     "user_tz": -120
    },
    "id": "GZcsOLGWhNTR",
    "outputId": "e847acdf-5178-47e8-eafa-24ab7e279f11"
   },
   "outputs": [],
   "source": [
    "''' To make the 2D PCA plot of Belgium with the Belgian cluster centroids'''\n",
    "PCA_plot_clustering_Belgium_from_Belgium_Netherlands_belgian_centroids = create_PCA_plot(x_pca_clustering_arr_Belgium_from_Belgium_Netherlands, cluster_centroids_2D_Belgium_from_Belgium_Netherlands, scaled_clustering_cluster_groups_5D_Belgium_from_Belgium_Netherlands)\n",
    "PCA_plot_clustering_Belgium_from_Belgium_Netherlands_belgian_centroids\n",
    "\n",
    "''' To make the 2D PCA plot of Netherlands with the Dutch cluster centroids'''\n",
    "PCA_plot_clustering_Netherlands_from_Belgium_Netherlands_dutch_centroids = create_PCA_plot(x_pca_clustering_arr_Netherlands_from_Belgium_Netherlands, cluster_centroids_2D_Netherlands_from_Belgium_Netherlands, scaled_clustering_cluster_groups_5D_Netherlands_from_Belgium_Netherlands)\n",
    "PCA_plot_clustering_Netherlands_from_Belgium_Netherlands_dutch_centroids"
   ]
  },
  {
   "cell_type": "code",
   "execution_count": null,
   "metadata": {
    "colab": {
     "base_uri": "https://localhost:8080/",
     "height": 777
    },
    "executionInfo": {
     "elapsed": 574994,
     "status": "ok",
     "timestamp": 1617437752960,
     "user": {
      "displayName": "Ine Winters",
      "photoUrl": "",
      "userId": "11267554535649979995"
     },
     "user_tz": -120
    },
    "id": "elEDeWwee4W1",
    "outputId": "1f60fd81-f42a-4414-a270-ddf4ce97dd23"
   },
   "outputs": [],
   "source": [
    "''' To make the 2D PCA plot of Belgium with the Dutch cluster centroids'''\n",
    "PCA_plot_clustering_Belgium_from_Belgium_Netherlands_dutch_centroids = create_PCA_plot(x_pca_clustering_arr_Belgium_from_Belgium_Netherlands, cluster_centroids_2D_Netherlands_from_Belgium_Netherlands, scaled_clustering_cluster_groups_5D_Belgium_from_Belgium_Netherlands)\n",
    "PCA_plot_clustering_Belgium_from_Belgium_Netherlands_dutch_centroids\n",
    "\n",
    "''' To make the 2D PCA plot of Netherlands with the Belgian cluster centroids'''\n",
    "PCA_plot_clustering_Netherlands_from_Belgium_Netherlands_belgian_centroids = create_PCA_plot(x_pca_clustering_arr_Netherlands_from_Belgium_Netherlands, cluster_centroids_2D_Belgium_from_Belgium_Netherlands, scaled_clustering_cluster_groups_5D_Netherlands_from_Belgium_Netherlands)\n",
    "PCA_plot_clustering_Netherlands_from_Belgium_Netherlands_belgian_centroids"
   ]
  },
  {
   "cell_type": "markdown",
   "metadata": {
    "id": "ZpKkQVWYWfYZ"
   },
   "source": [
    "### Actual clustering of Belgium and Switzerland"
   ]
  },
  {
   "cell_type": "code",
   "execution_count": null,
   "metadata": {
    "colab": {
     "base_uri": "https://localhost:8080/",
     "height": 659
    },
    "executionInfo": {
     "elapsed": 574883,
     "status": "ok",
     "timestamp": 1617437752964,
     "user": {
      "displayName": "Ine Winters",
      "photoUrl": "",
      "userId": "11267554535649979995"
     },
     "user_tz": -120
    },
    "id": "EJAARS12Whbl",
    "outputId": "1f3666a8-fa67-49fb-9ef3-aa3ebc778007"
   },
   "outputs": [],
   "source": [
    "''' To create the clustering_dfs that contain the interesting attributes for clustering'''\n",
    "clustering_df_Belgium = select_clustering_attributes(route_characteristics_Belgium)\n",
    "clustering_df_Switzerland = select_clustering_attributes(route_characteristics_Switzerland)\n",
    "\n",
    "''' To add a country attribute to the clustering_dfs'''\n",
    "clustering_df_Belgium.loc[:,'country'] = 'Belgium'\n",
    "clustering_df_Switzerland.loc[:,'country'] = 'Switzerland'\n",
    "\n",
    "''' To merge the two clustering_dfs'''\n",
    "clustering_Belgium_Switzerland_df = clustering_df_Belgium.append(clustering_df_Switzerland)\n",
    "\n",
    "# To reset the index\n",
    "clustering_Belgium_Switzerland_df = clustering_Belgium_Switzerland_df.reset_index(drop=True)\n",
    "clustering_Belgium_Switzerland_df"
   ]
  },
  {
   "cell_type": "code",
   "execution_count": null,
   "metadata": {
    "colab": {
     "base_uri": "https://localhost:8080/",
     "height": 1000
    },
    "executionInfo": {
     "elapsed": 575398,
     "status": "ok",
     "timestamp": 1617437753502,
     "user": {
      "displayName": "Ine Winters",
      "photoUrl": "",
      "userId": "11267554535649979995"
     },
     "user_tz": -120
    },
    "id": "l8YZSPF0W-8s",
    "outputId": "c1e55972-605c-4ae2-b803-7b0c2128dd5e"
   },
   "outputs": [],
   "source": [
    "''' To rescale all numerical attributes of the clustering_Belgium_Switzerland_df '''\n",
    "scaled_clustering_Belgium_Switzerland_df = scale_clustering_attributes_to_df(clustering_Belgium_Switzerland_df)\n",
    "scaled_clustering_Belgium_Switzerland_arr = scale_clustering_attributes_to_arr(clustering_Belgium_Switzerland_df.drop('country', axis=1))\n",
    "scaled_clustering_Belgium_Switzerland_df\n",
    "scaled_clustering_Belgium_Switzerland_arr\n",
    "\n",
    "''' To apply PCA and to go from an array of 5 dimensions to an array of 2 dimensions'''\n",
    "x_pca_clustering_Belgium_Switzerland_arr = create_array_two_components(scaled_clustering_Belgium_Switzerland_arr)\n",
    "x_pca_clustering_Belgium_Switzerland_arr\n",
    "\n",
    "''' To creata a PCA plot from x_pca_clustering_merged'''\n",
    "PCA_plot_before_clustering_Belgium_Switzerland = create_PCA_plot_one_argument(x_pca_clustering_Belgium_Switzerland_arr)\n",
    "PCA_plot_before_clustering_Belgium_Switzerland"
   ]
  },
  {
   "cell_type": "code",
   "execution_count": null,
   "metadata": {
    "colab": {
     "base_uri": "https://localhost:8080/",
     "height": 1000
    },
    "executionInfo": {
     "elapsed": 575308,
     "status": "ok",
     "timestamp": 1617437753509,
     "user": {
      "displayName": "Ine Winters",
      "photoUrl": "",
      "userId": "11267554535649979995"
     },
     "user_tz": -120
    },
    "id": "WmR5scwFXv9K",
    "outputId": "0f168578-b9f1-4791-de9a-7343a3b48ed0"
   },
   "outputs": [],
   "source": [
    "''' To split the scaled_clustering_Belgium_Switzerland_df '''\n",
    "scaled_clustering_df_Belgium_from_Belgium_Switzerland = scaled_clustering_Belgium_Switzerland_df[scaled_clustering_Belgium_Switzerland_df['country'] == 'Belgium']\n",
    "scaled_clustering_df_Switzerland_from_Belgium_Switzerland = scaled_clustering_Belgium_Switzerland_df[scaled_clustering_Belgium_Switzerland_df['country'] == 'Switzerland']\n",
    "\n",
    "scaled_clustering_df_Belgium_from_Belgium_Switzerland\n",
    "scaled_clustering_df_Switzerland_from_Belgium_Switzerland\n",
    "\n",
    "''' To convert the x_pca_clustering_merged array to a df and to add the country attribute'''\n",
    "# To convert the x_pca_clustering_merged array to a df\n",
    "x_pca_clustering_Belgium_Switzerland_df = pd.DataFrame({'Principal component 1': x_pca_clustering_Belgium_Switzerland_arr[:, 0], 'Principal component 2': x_pca_clustering_Belgium_Switzerland_arr[:, 1]})\n",
    "\n",
    "# To add the country attribute\n",
    "x_pca_clustering_Belgium_Switzerland_df['country'] = scaled_clustering_Belgium_Switzerland_df['country']\n",
    "x_pca_clustering_Belgium_Switzerland_df\n",
    "\n",
    "''' To split the x_pca_clustering_Belgium_Switzerland_df df into two for both the countries '''\n",
    "x_pca_clustering_df_Belgium_from_Belgium_Switzerland = x_pca_clustering_Belgium_Switzerland_df[x_pca_clustering_Belgium_Switzerland_df['country'] == 'Belgium']\n",
    "x_pca_clustering_df_Switzerland_from_Belgium_Switzerland = x_pca_clustering_Belgium_Switzerland_df[x_pca_clustering_Belgium_Switzerland_df['country'] == 'Switzerland']\n",
    "x_pca_clustering_df_Belgium_from_Belgium_Switzerland\n",
    "x_pca_clustering_df_Switzerland_from_Belgium_Switzerland\n",
    "\n",
    "''' To drop the country attribute and to convert the x_pca_clustering dfs of both countries to an array'''\n",
    "# To drop the country attribute\n",
    "x_pca_clustering_df_Belgium_from_Belgium_Switzerland = x_pca_clustering_df_Belgium_from_Belgium_Switzerland.drop('country', axis=1)\n",
    "x_pca_clustering_df_Switzerland_from_Belgium_Switzerland = x_pca_clustering_df_Switzerland_from_Belgium_Switzerland.drop('country', axis=1)\n",
    "\n",
    "# To convert the x_pca_clustering dfs of both countries to an array\n",
    "x_pca_clustering_arr_Belgium_from_Belgium_Switzerland = x_pca_clustering_df_Belgium_from_Belgium_Switzerland.to_numpy()\n",
    "x_pca_clustering_arr_Switzerland_from_Belgium_Switzerland = x_pca_clustering_df_Switzerland_from_Belgium_Switzerland.to_numpy()\n",
    "\n",
    "x_pca_clustering_arr_Belgium_from_Belgium_Switzerland\n",
    "x_pca_clustering_arr_Switzerland_from_Belgium_Switzerland"
   ]
  },
  {
   "cell_type": "code",
   "execution_count": null,
   "metadata": {
    "colab": {
     "base_uri": "https://localhost:8080/",
     "height": 297
    },
    "executionInfo": {
     "elapsed": 602459,
     "status": "ok",
     "timestamp": 1617437780749,
     "user": {
      "displayName": "Ine Winters",
      "photoUrl": "",
      "userId": "11267554535649979995"
     },
     "user_tz": -120
    },
    "id": "idbmuyt7ZfCL",
    "outputId": "db36a52a-c9e0-4cc8-9bee-b1457ee2ff41"
   },
   "outputs": [],
   "source": [
    "''' To apply the elbow method to get the optimal number of clusters of routes in each railway system'''\n",
    "optimal_number_clusters_Belgium_from_Belgium_Switzerland = optimal_number_clusters(scaled_clustering_df_Belgium_from_Belgium_Switzerland.drop('country', axis=1))\n",
    "optimal_number_clusters_Switzerland_from_Belgium_Switzerland = optimal_number_clusters(scaled_clustering_df_Switzerland_from_Belgium_Switzerland.drop('country', axis=1))\n",
    "\n",
    "optimal_number_clusters_Belgium_from_Belgium_Switzerland\n",
    "optimal_number_clusters_Switzerland_from_Belgium_Switzerland"
   ]
  },
  {
   "cell_type": "code",
   "execution_count": null,
   "metadata": {
    "colab": {
     "base_uri": "https://localhost:8080/",
     "height": 1000
    },
    "executionInfo": {
     "elapsed": 602875,
     "status": "ok",
     "timestamp": 1617437781169,
     "user": {
      "displayName": "Ine Winters",
      "photoUrl": "",
      "userId": "11267554535649979995"
     },
     "user_tz": -120
    },
    "id": "wVOq6wg7amIx",
    "outputId": "dfbd235a-7eb2-4e0a-e2c0-7b9b811a89dd"
   },
   "outputs": [],
   "source": [
    "''' To assign the cluster group labels to the non_scaled_5D_df, the scaled_5D_df and the scaled_2D_df'''\n",
    "km_5D_Belgium_from_Belgium_Switzerland, clustering_cluster_groups_5D_Belgium_from_Belgium_Switzerland, scaled_clustering_cluster_groups_5D_Belgium_from_Belgium_Switzerland, scaled_clustering_cluster_groups_2D_Belgium_from_Belgium_Switzerland = assign_cluster_group(optimal_number_clusters_Belgium_from_Belgium_Switzerland, clustering_df_Belgium.drop('country', axis=1), scaled_clustering_df_Belgium_from_Belgium_Switzerland.drop('country', axis=1), x_pca_clustering_df_Belgium_from_Belgium_Switzerland)\n",
    "km_5D_Switzerland_from_Belgium_Switzerland, clustering_cluster_groups_5D_Switzerland_from_Belgium_Switzerland, scaled_clustering_cluster_groups_5D_Switzerland_from_Belgium_Switzerland, scaled_clustering_cluster_groups_2D_Switzerland_from_Belgium_Switzerland = assign_cluster_group(optimal_number_clusters_Switzerland_from_Belgium_Switzerland, clustering_df_Switzerland.drop('country', axis=1), scaled_clustering_df_Switzerland_from_Belgium_Switzerland.drop('country', axis=1), x_pca_clustering_df_Switzerland_from_Belgium_Switzerland)\n",
    "\n",
    "clustering_cluster_groups_5D_Belgium_from_Belgium_Switzerland\n",
    "scaled_clustering_cluster_groups_5D_Belgium_from_Belgium_Switzerland\n",
    "scaled_clustering_cluster_groups_2D_Belgium_from_Belgium_Switzerland\n",
    "clustering_cluster_groups_5D_Switzerland_from_Belgium_Switzerland\n",
    "scaled_clustering_cluster_groups_5D_Switzerland_from_Belgium_Switzerland\n",
    "scaled_clustering_cluster_groups_2D_Switzerland_from_Belgium_Switzerland"
   ]
  },
  {
   "cell_type": "code",
   "execution_count": null,
   "metadata": {
    "colab": {
     "base_uri": "https://localhost:8080/",
     "height": 341
    },
    "executionInfo": {
     "elapsed": 602855,
     "status": "ok",
     "timestamp": 1617437781179,
     "user": {
      "displayName": "Ine Winters",
      "photoUrl": "",
      "userId": "11267554535649979995"
     },
     "user_tz": -120
    },
    "id": "qvnngWPuc_uT",
    "outputId": "44e84542-705d-4378-803a-3371a2458ea2"
   },
   "outputs": [],
   "source": [
    "''' To calculate the cluster centroids of the scaled_5D_df and the scaled_2D_df '''\n",
    "cluster_centroids_5D_Belgium_from_Belgium_Switzerland = find_cluster_centroids_in_5D(scaled_clustering_cluster_groups_5D_Belgium_from_Belgium_Switzerland)\n",
    "cluster_centroids_5D_Switzerland_from_Belgium_Switzerland = find_cluster_centroids_in_5D(scaled_clustering_cluster_groups_5D_Switzerland_from_Belgium_Switzerland)\n",
    "cluster_centroids_2D_Belgium_from_Belgium_Switzerland = find_cluster_centroids_in_2D(scaled_clustering_cluster_groups_2D_Belgium_from_Belgium_Switzerland)\n",
    "cluster_centroids_2D_Switzerland_from_Belgium_Switzerland = find_cluster_centroids_in_2D(scaled_clustering_cluster_groups_2D_Switzerland_from_Belgium_Switzerland)\n",
    "\n",
    "cluster_centroids_5D_Belgium_from_Belgium_Switzerland\n",
    "cluster_centroids_5D_Switzerland_from_Belgium_Switzerland\n",
    "cluster_centroids_2D_Belgium_from_Belgium_Switzerland\n",
    "cluster_centroids_2D_Switzerland_from_Belgium_Switzerland\n",
    "\n",
    "# To compare the 5D centroids of the get_cluster_centroids definition to the 5D centroids of the find_cluster_centroids_in_5D definition\n",
    "# These centroids values are almost equal. \n",
    "#centroidtest_5D_scaled = get_cluster_centroids(km_5D_Belgium_from_Belgium_Switzerland)\n",
    "#centroidtest_5D_scaled"
   ]
  },
  {
   "cell_type": "code",
   "execution_count": null,
   "metadata": {
    "colab": {
     "base_uri": "https://localhost:8080/",
     "height": 779
    },
    "executionInfo": {
     "elapsed": 603695,
     "status": "ok",
     "timestamp": 1617437782026,
     "user": {
      "displayName": "Ine Winters",
      "photoUrl": "",
      "userId": "11267554535649979995"
     },
     "user_tz": -120
    },
    "id": "Vems4-FidcAU",
    "outputId": "f0f99582-8352-4554-d5d0-6d9d59fd8c1f"
   },
   "outputs": [],
   "source": [
    "''' To make the 2D PCA plot of Belgium with the Belgian cluster centroids'''\n",
    "PCA_plot_clustering_Belgium_from_Belgium_Switzerland_belgian_centroids = create_PCA_plot(x_pca_clustering_arr_Belgium_from_Belgium_Switzerland, cluster_centroids_2D_Belgium_from_Belgium_Switzerland, scaled_clustering_cluster_groups_5D_Belgium_from_Belgium_Switzerland)\n",
    "PCA_plot_clustering_Belgium_from_Belgium_Switzerland_belgian_centroids\n",
    "\n",
    "''' To make the 2D PCA plot of Switzerland with the Swiss cluster centroids'''\n",
    "PCA_plot_clustering_Switzerland_from_Belgium_Switzerland_swiss_centroids = create_PCA_plot(x_pca_clustering_arr_Switzerland_from_Belgium_Switzerland, cluster_centroids_2D_Switzerland_from_Belgium_Switzerland, scaled_clustering_cluster_groups_5D_Switzerland_from_Belgium_Switzerland)\n",
    "PCA_plot_clustering_Switzerland_from_Belgium_Switzerland_swiss_centroids"
   ]
  },
  {
   "cell_type": "code",
   "execution_count": null,
   "metadata": {
    "colab": {
     "base_uri": "https://localhost:8080/",
     "height": 777
    },
    "executionInfo": {
     "elapsed": 604220,
     "status": "ok",
     "timestamp": 1617437782556,
     "user": {
      "displayName": "Ine Winters",
      "photoUrl": "",
      "userId": "11267554535649979995"
     },
     "user_tz": -120
    },
    "id": "VXSOCJd7eEeX",
    "outputId": "16efa4be-6fb5-43eb-b031-db58b41b5f21"
   },
   "outputs": [],
   "source": [
    "''' To make the 2D PCA plot of Belgium with the Swiss cluster centroids'''\n",
    "PCA_plot_clustering_Belgium_from_Belgium_Switzerland_swiss_centroids = create_PCA_plot(x_pca_clustering_arr_Belgium_from_Belgium_Switzerland, cluster_centroids_2D_Switzerland_from_Belgium_Switzerland, scaled_clustering_cluster_groups_5D_Belgium_from_Belgium_Switzerland)\n",
    "PCA_plot_clustering_Belgium_from_Belgium_Switzerland_swiss_centroids\n",
    "\n",
    "''' To make the 2D PCA plot of Switzerland with the Belgian cluster centroids'''\n",
    "PCA_plot_clustering_Switzerland_from_Belgium_Switzerland_belgian_centroids = create_PCA_plot(x_pca_clustering_arr_Switzerland_from_Belgium_Switzerland, cluster_centroids_2D_Belgium_from_Belgium_Switzerland, scaled_clustering_cluster_groups_5D_Switzerland_from_Belgium_Switzerland)\n",
    "PCA_plot_clustering_Switzerland_from_Belgium_Switzerland_belgian_centroids"
   ]
  },
  {
   "cell_type": "markdown",
   "metadata": {
    "id": "Ea3L_LbQetph"
   },
   "source": [
    "### Actual clustering of the Netherlands and Switzerland"
   ]
  },
  {
   "cell_type": "code",
   "execution_count": null,
   "metadata": {
    "colab": {
     "base_uri": "https://localhost:8080/",
     "height": 659
    },
    "executionInfo": {
     "elapsed": 604222,
     "status": "ok",
     "timestamp": 1617437782562,
     "user": {
      "displayName": "Ine Winters",
      "photoUrl": "",
      "userId": "11267554535649979995"
     },
     "user_tz": -120
    },
    "id": "mYdSKczmevxM",
    "outputId": "66b17fc6-b18c-4f14-f122-536c8f615c23"
   },
   "outputs": [],
   "source": [
    "''' To create the clustering_dfs that contain the interesting attributes for clustering'''\n",
    "clustering_df_Netherlands = select_clustering_attributes(route_characteristics_Netherlands)\n",
    "clustering_df_Switzerland = select_clustering_attributes(route_characteristics_Switzerland)\n",
    "\n",
    "''' To add a country attribute to the clustering_dfs'''\n",
    "clustering_df_Netherlands.loc[:,'country'] = 'Netherlands'\n",
    "clustering_df_Switzerland.loc[:,'country'] = 'Switzerland'\n",
    "\n",
    "''' To merge the two clustering_dfs'''\n",
    "clustering_Netherlands_Switzerland_df = clustering_df_Netherlands.append(clustering_df_Switzerland)\n",
    "\n",
    "# To reset the index\n",
    "clustering_Netherlands_Switzerland_df = clustering_Netherlands_Switzerland_df.reset_index(drop=True)\n",
    "clustering_Netherlands_Switzerland_df"
   ]
  },
  {
   "cell_type": "code",
   "execution_count": null,
   "metadata": {
    "colab": {
     "base_uri": "https://localhost:8080/",
     "height": 0
    },
    "executionInfo": {
     "elapsed": 604644,
     "status": "ok",
     "timestamp": 1617437782989,
     "user": {
      "displayName": "Ine Winters",
      "photoUrl": "",
      "userId": "11267554535649979995"
     },
     "user_tz": -120
    },
    "id": "t3jgV_93gdi1",
    "outputId": "969ddb6d-970b-457e-9c6c-f92d073cb050"
   },
   "outputs": [],
   "source": [
    "''' To rescale all numerical attributes of the clustering_Netherlands_Switzerland_df '''\n",
    "scaled_clustering_Netherlands_Switzerland_df = scale_clustering_attributes_to_df(clustering_Netherlands_Switzerland_df)\n",
    "scaled_clustering_Netherlands_Switzerland_arr = scale_clustering_attributes_to_arr(clustering_Netherlands_Switzerland_df.drop('country', axis=1))\n",
    "scaled_clustering_Netherlands_Switzerland_df\n",
    "scaled_clustering_Netherlands_Switzerland_arr\n",
    "\n",
    "''' To apply PCA and to go from an array of 5 dimensions to an array of 2 dimensions'''\n",
    "x_pca_clustering_Netherlands_Switzerland_arr = create_array_two_components(scaled_clustering_Netherlands_Switzerland_arr)\n",
    "x_pca_clustering_Netherlands_Switzerland_arr\n",
    "\n",
    "''' To creata a PCA plot from x_pca_clustering_merged'''\n",
    "PCA_plot_before_clustering_Netherlands_Switzerland = create_PCA_plot_one_argument(x_pca_clustering_Netherlands_Switzerland_arr)\n",
    "PCA_plot_before_clustering_Netherlands_Switzerland"
   ]
  },
  {
   "cell_type": "code",
   "execution_count": null,
   "metadata": {
    "colab": {
     "base_uri": "https://localhost:8080/",
     "height": 1000
    },
    "executionInfo": {
     "elapsed": 604643,
     "status": "ok",
     "timestamp": 1617437782992,
     "user": {
      "displayName": "Ine Winters",
      "photoUrl": "",
      "userId": "11267554535649979995"
     },
     "user_tz": -120
    },
    "id": "DBoiIhnvg3vD",
    "outputId": "4bc9ff0e-6bc0-4c15-bfd6-0ed16f359881"
   },
   "outputs": [],
   "source": [
    "''' To split the scaled_clustering_Netherlands_Switzerland_df '''\n",
    "scaled_clustering_df_Netherlands_from_Netherlands_Switzerland = scaled_clustering_Netherlands_Switzerland_df[scaled_clustering_Netherlands_Switzerland_df['country'] == 'Netherlands']\n",
    "scaled_clustering_df_Switzerland_from_Netherlands_Switzerland = scaled_clustering_Netherlands_Switzerland_df[scaled_clustering_Netherlands_Switzerland_df['country'] == 'Switzerland']\n",
    "\n",
    "scaled_clustering_df_Netherlands_from_Netherlands_Switzerland\n",
    "scaled_clustering_df_Switzerland_from_Netherlands_Switzerland\n",
    "\n",
    "''' To convert the x_pca_clustering_merged array to a df and to add the country attribute'''\n",
    "# To convert the x_pca_clustering_merged array to a df\n",
    "x_pca_clustering_Netherlands_Switzerland_df = pd.DataFrame({'Principal component 1': x_pca_clustering_Netherlands_Switzerland_arr[:, 0], 'Principal component 2': x_pca_clustering_Netherlands_Switzerland_arr[:, 1]})\n",
    "\n",
    "# To add the country attribute\n",
    "x_pca_clustering_Netherlands_Switzerland_df['country'] = scaled_clustering_Netherlands_Switzerland_df['country']\n",
    "x_pca_clustering_Netherlands_Switzerland_df\n",
    "\n",
    "''' To split the x_pca_clustering_Netherlands_Switzerland_df df into two for both the countries '''\n",
    "x_pca_clustering_df_Netherlands_from_Netherlands_Switzerland = x_pca_clustering_Netherlands_Switzerland_df[x_pca_clustering_Netherlands_Switzerland_df['country'] == 'Netherlands']\n",
    "x_pca_clustering_df_Switzerland_from_Netherlands_Switzerland = x_pca_clustering_Netherlands_Switzerland_df[x_pca_clustering_Netherlands_Switzerland_df['country'] == 'Switzerland']\n",
    "x_pca_clustering_df_Netherlands_from_Netherlands_Switzerland\n",
    "x_pca_clustering_df_Switzerland_from_Netherlands_Switzerland\n",
    "\n",
    "''' To drop the country attribute and to convert the x_pca_clustering dfs of both countries to an array'''\n",
    "# To drop the country attribute\n",
    "x_pca_clustering_df_Netherlands_from_Netherlands_Switzerland = x_pca_clustering_df_Netherlands_from_Netherlands_Switzerland.drop('country', axis=1)\n",
    "x_pca_clustering_df_Switzerland_from_Netherlands_Switzerland = x_pca_clustering_df_Switzerland_from_Netherlands_Switzerland.drop('country', axis=1)\n",
    "\n",
    "# To convert the x_pca_clustering dfs of both countries to an array\n",
    "x_pca_clustering_arr_Netherlands_from_Netherlands_Switzerland = x_pca_clustering_df_Netherlands_from_Netherlands_Switzerland.to_numpy()\n",
    "x_pca_clustering_arr_Switzerland_from_Netherlands_Switzerland = x_pca_clustering_df_Switzerland_from_Netherlands_Switzerland.to_numpy()\n",
    "\n",
    "x_pca_clustering_arr_Netherlands_from_Netherlands_Switzerland\n",
    "x_pca_clustering_arr_Switzerland_from_Netherlands_Switzerland"
   ]
  },
  {
   "cell_type": "code",
   "execution_count": null,
   "metadata": {
    "colab": {
     "base_uri": "https://localhost:8080/",
     "height": 297
    },
    "executionInfo": {
     "elapsed": 630193,
     "status": "ok",
     "timestamp": 1617437808578,
     "user": {
      "displayName": "Ine Winters",
      "photoUrl": "",
      "userId": "11267554535649979995"
     },
     "user_tz": -120
    },
    "id": "p2CH06eKi3f5",
    "outputId": "971b0537-0900-40bd-e177-bef1b2090790"
   },
   "outputs": [],
   "source": [
    "''' To apply the elbow method to get the optimal number of clusters of routes in each railway system'''\n",
    "optimal_number_clusters_Netherlands_from_Netherlands_Switzerland = optimal_number_clusters(scaled_clustering_df_Netherlands_from_Netherlands_Switzerland.drop('country', axis=1))\n",
    "optimal_number_clusters_Switzerland_from_Netherlands_Switzerland = optimal_number_clusters(scaled_clustering_df_Switzerland_from_Netherlands_Switzerland.drop('country', axis=1))\n",
    "\n",
    "optimal_number_clusters_Netherlands_from_Netherlands_Switzerland\n",
    "optimal_number_clusters_Switzerland_from_Netherlands_Switzerland"
   ]
  },
  {
   "cell_type": "code",
   "execution_count": null,
   "metadata": {
    "colab": {
     "base_uri": "https://localhost:8080/",
     "height": 1000
    },
    "executionInfo": {
     "elapsed": 630249,
     "status": "ok",
     "timestamp": 1617437808935,
     "user": {
      "displayName": "Ine Winters",
      "photoUrl": "",
      "userId": "11267554535649979995"
     },
     "user_tz": -120
    },
    "id": "Sw7eprr0jTxt",
    "outputId": "e488233b-70ee-46be-9cac-ed8f8416187e"
   },
   "outputs": [],
   "source": [
    "''' To assign the cluster group labels to the non_scaled_5D_df, the scaled_5D_df and the scaled_2D_df'''\n",
    "km_5D_Netherlands_from_Netherlands_Switzerland, clustering_cluster_groups_5D_Netherlands_from_Netherlands_Switzerland, scaled_clustering_cluster_groups_5D_Netherlands_from_Netherlands_Switzerland, scaled_clustering_cluster_groups_2D_Netherlands_from_Netherlands_Switzerland = assign_cluster_group(optimal_number_clusters_Netherlands_from_Netherlands_Switzerland, clustering_df_Netherlands.drop('country', axis=1), scaled_clustering_df_Netherlands_from_Netherlands_Switzerland.drop('country', axis=1), x_pca_clustering_df_Netherlands_from_Netherlands_Switzerland)\n",
    "km_5D_Switzerland_from_Netherlands_Switzerland, clustering_cluster_groups_5D_Switzerland_from_Netherlands_Switzerland, scaled_clustering_cluster_groups_5D_Switzerland_from_Netherlands_Switzerland, scaled_clustering_cluster_groups_2D_Switzerland_from_Netherlands_Switzerland = assign_cluster_group(optimal_number_clusters_Switzerland_from_Netherlands_Switzerland, clustering_df_Switzerland.drop('country', axis=1), scaled_clustering_df_Switzerland_from_Netherlands_Switzerland.drop('country', axis=1), x_pca_clustering_df_Switzerland_from_Netherlands_Switzerland)\n",
    "\n",
    "clustering_cluster_groups_5D_Netherlands_from_Netherlands_Switzerland\n",
    "scaled_clustering_cluster_groups_5D_Netherlands_from_Netherlands_Switzerland\n",
    "scaled_clustering_cluster_groups_2D_Netherlands_from_Netherlands_Switzerland\n",
    "clustering_cluster_groups_5D_Switzerland_from_Netherlands_Switzerland\n",
    "scaled_clustering_cluster_groups_5D_Switzerland_from_Netherlands_Switzerland\n",
    "scaled_clustering_cluster_groups_2D_Switzerland_from_Netherlands_Switzerland"
   ]
  },
  {
   "cell_type": "code",
   "execution_count": null,
   "metadata": {
    "colab": {
     "base_uri": "https://localhost:8080/",
     "height": 409
    },
    "executionInfo": {
     "elapsed": 630309,
     "status": "ok",
     "timestamp": 1617437809210,
     "user": {
      "displayName": "Ine Winters",
      "photoUrl": "",
      "userId": "11267554535649979995"
     },
     "user_tz": -120
    },
    "id": "a9onTvNEkOMt",
    "outputId": "931cc444-bc9e-4cf8-8214-c2e91481987c"
   },
   "outputs": [],
   "source": [
    "''' To calculate the cluster centroids of the scaled_5D_df and the scaled_2D_df '''\n",
    "cluster_centroids_5D_Netherlands_from_Netherlands_Switzerland = find_cluster_centroids_in_5D(scaled_clustering_cluster_groups_5D_Netherlands_from_Netherlands_Switzerland)\n",
    "cluster_centroids_5D_Switzerland_from_Netherlands_Switzerland = find_cluster_centroids_in_5D(scaled_clustering_cluster_groups_5D_Switzerland_from_Netherlands_Switzerland)\n",
    "cluster_centroids_2D_Netherlands_from_Netherlands_Switzerland = find_cluster_centroids_in_2D(scaled_clustering_cluster_groups_2D_Netherlands_from_Netherlands_Switzerland)\n",
    "cluster_centroids_2D_Switzerland_from_Netherlands_Switzerland = find_cluster_centroids_in_2D(scaled_clustering_cluster_groups_2D_Switzerland_from_Netherlands_Switzerland)\n",
    "\n",
    "cluster_centroids_5D_Netherlands_from_Netherlands_Switzerland\n",
    "cluster_centroids_5D_Switzerland_from_Netherlands_Switzerland\n",
    "cluster_centroids_2D_Netherlands_from_Netherlands_Switzerland\n",
    "cluster_centroids_2D_Switzerland_from_Netherlands_Switzerland\n",
    "\n",
    "# To compare the 5D centroids of the get_cluster_centroids definition to the 5D centroids of the find_cluster_centroids_in_5D definition\n",
    "# These centroids values are almost equal. \n",
    "#centroidtest_5D_scaled = get_cluster_centroids(km_5D_Netherlands_from_Netherlands_Switzerland)\n",
    "#centroidtest_5D_scaled"
   ]
  },
  {
   "cell_type": "code",
   "execution_count": null,
   "metadata": {
    "colab": {
     "base_uri": "https://localhost:8080/",
     "height": 795
    },
    "executionInfo": {
     "elapsed": 630572,
     "status": "ok",
     "timestamp": 1617437810064,
     "user": {
      "displayName": "Ine Winters",
      "photoUrl": "",
      "userId": "11267554535649979995"
     },
     "user_tz": -120
    },
    "id": "PRUOOUNrkuZP",
    "outputId": "daccd6e1-b56c-478c-f508-6b5ca8c72249"
   },
   "outputs": [],
   "source": [
    "''' To make the 2D PCA plot of the Netherlands with the Dutch cluster centroids'''\n",
    "PCA_plot_clustering_Netherlands_from_Netherlands_Switzerland_dutch_centroids = create_PCA_plot(x_pca_clustering_arr_Netherlands_from_Netherlands_Switzerland, cluster_centroids_2D_Netherlands_from_Netherlands_Switzerland, scaled_clustering_cluster_groups_5D_Netherlands_from_Netherlands_Switzerland)\n",
    "PCA_plot_clustering_Netherlands_from_Netherlands_Switzerland_dutch_centroids\n",
    "\n",
    "''' To make the 2D PCA plot of Switzerland with the Swiss cluster centroids'''\n",
    "PCA_plot_clustering_Switzerland_from_Netherlands_Switzerland_swiss_centroids = create_PCA_plot(x_pca_clustering_arr_Switzerland_from_Netherlands_Switzerland, cluster_centroids_2D_Switzerland_from_Netherlands_Switzerland, scaled_clustering_cluster_groups_5D_Switzerland_from_Netherlands_Switzerland)\n",
    "PCA_plot_clustering_Switzerland_from_Netherlands_Switzerland_swiss_centroids"
   ]
  },
  {
   "cell_type": "code",
   "execution_count": null,
   "metadata": {
    "colab": {
     "base_uri": "https://localhost:8080/",
     "height": 795
    },
    "executionInfo": {
     "elapsed": 631267,
     "status": "ok",
     "timestamp": 1617437810936,
     "user": {
      "displayName": "Ine Winters",
      "photoUrl": "",
      "userId": "11267554535649979995"
     },
     "user_tz": -120
    },
    "id": "Jeu4b2bvlZ1p",
    "outputId": "b7c7b52f-948b-4fd1-eb44-3e72f2311f66"
   },
   "outputs": [],
   "source": [
    "''' To make the 2D PCA plot of Netherlands with the Swiss cluster centroids'''\n",
    "PCA_plot_clustering_Netherlands_from_Netherlands_Switzerland_swiss_centroids = create_PCA_plot(x_pca_clustering_arr_Netherlands_from_Netherlands_Switzerland, cluster_centroids_2D_Switzerland_from_Netherlands_Switzerland, scaled_clustering_cluster_groups_5D_Netherlands_from_Netherlands_Switzerland)\n",
    "PCA_plot_clustering_Netherlands_from_Netherlands_Switzerland_swiss_centroids\n",
    "\n",
    "''' To make the 2D PCA plot of Switzerland with the Belgian cluster centroids'''\n",
    "PCA_plot_clustering_Switzerland_from_Netherlands_Switzerland_dutch_centroids = create_PCA_plot(x_pca_clustering_arr_Switzerland_from_Netherlands_Switzerland, cluster_centroids_2D_Netherlands_from_Netherlands_Switzerland, scaled_clustering_cluster_groups_5D_Switzerland_from_Netherlands_Switzerland)\n",
    "PCA_plot_clustering_Switzerland_from_Netherlands_Switzerland_dutch_centroids"
   ]
  },
  {
   "cell_type": "markdown",
   "metadata": {
    "id": "AMUAi4s2rNqb"
   },
   "source": [
    "## K-nearest neighbor method"
   ]
  },
  {
   "cell_type": "code",
   "execution_count": null,
   "metadata": {
    "colab": {
     "base_uri": "https://localhost:8080/",
     "height": 35
    },
    "executionInfo": {
     "elapsed": 631254,
     "status": "ok",
     "timestamp": 1617437810944,
     "user": {
      "displayName": "Ine Winters",
      "photoUrl": "",
      "userId": "11267554535649979995"
     },
     "user_tz": -120
    },
    "id": "2AaAi1bnoOVI",
    "outputId": "48e1b4da-a882-4547-d20b-9a16c0aabdc6"
   },
   "outputs": [],
   "source": [
    "''' To drop the country attribute from the scaled_clustering_df and to convert the result to an array'''\n",
    "def get_array_routes_other_country(scaled_clustering_df):\n",
    "    scaled_clustering_arr = scaled_clustering_df.drop('country', axis=1)\n",
    "    scaled_clustering_arr = scaled_clustering_arr.to_numpy()\n",
    "\n",
    "    return scaled_clustering_arr"
   ]
  },
  {
   "cell_type": "code",
   "execution_count": null,
   "metadata": {
    "colab": {
     "base_uri": "https://localhost:8080/",
     "height": 35
    },
    "executionInfo": {
     "elapsed": 631225,
     "status": "ok",
     "timestamp": 1617437810955,
     "user": {
      "displayName": "Ine Winters",
      "photoUrl": "",
      "userId": "11267554535649979995"
     },
     "user_tz": -120
    },
    "id": "tJZjPFDAod8k",
    "outputId": "8a9f6b53-fdd9-4764-a0a9-e02120eb3d76"
   },
   "outputs": [],
   "source": [
    "'''To split the first centroid in the cluster_centroids_5D array off from the other centroids in that array '''\n",
    "def split_off_the_first_centroid(cluster_centroids_5D):\n",
    "    first_centroid = cluster_centroids_5D[:1]\n",
    "    other_centroids = cluster_centroids_5D[1:]\n",
    "\n",
    "    return first_centroid, other_centroids"
   ]
  },
  {
   "cell_type": "code",
   "execution_count": null,
   "metadata": {
    "colab": {
     "base_uri": "https://localhost:8080/",
     "height": 35
    },
    "executionInfo": {
     "elapsed": 631212,
     "status": "ok",
     "timestamp": 1617437810959,
     "user": {
      "displayName": "Ine Winters",
      "photoUrl": "",
      "userId": "11267554535649979995"
     },
     "user_tz": -120
    },
    "id": "-sZQcBDbhWCM",
    "outputId": "a9c4ccb9-f634-4348-ac5c-a0449db14444"
   },
   "outputs": [],
   "source": [
    "''' To get the array that contains the k nearest neighbors of one centroid'''\n",
    "def get_k_nearest_neighbors_of_centroid(centroid_routes, nearest, k):\n",
    "    for j in nearest[:, 1:k+1]:\n",
    "        return centroid_routes[j]"
   ]
  },
  {
   "cell_type": "code",
   "execution_count": null,
   "metadata": {
    "colab": {
     "base_uri": "https://localhost:8080/",
     "height": 35
    },
    "executionInfo": {
     "elapsed": 631207,
     "status": "ok",
     "timestamp": 1617437810961,
     "user": {
      "displayName": "Ine Winters",
      "photoUrl": "",
      "userId": "11267554535649979995"
     },
     "user_tz": -120
    },
    "id": "qsgPoj2thtro",
    "outputId": "2f3067f5-c285-409b-94b8-1371d768466b"
   },
   "outputs": [],
   "source": [
    "''' To get the list of indices that correspond to the indices of the k nearest neighbors of one centroid in the route_characteristics df'''\n",
    "def get_indices_k_nearest_neighbors_of_centroid(nearest, k):\n",
    "    list_indices = []\n",
    "    for i in nearest[0, 1:k+1]:\n",
    "        list_indices.append(i-1)\n",
    "\n",
    "    return list_indices"
   ]
  },
  {
   "cell_type": "code",
   "execution_count": null,
   "metadata": {
    "colab": {
     "base_uri": "https://localhost:8080/",
     "height": 52
    },
    "executionInfo": {
     "elapsed": 631098,
     "status": "ok",
     "timestamp": 1617437810969,
     "user": {
      "displayName": "Ine Winters",
      "photoUrl": "",
      "userId": "11267554535649979995"
     },
     "user_tz": -120
    },
    "id": "gzAPIyTYiMaK",
    "outputId": "c48ed625-867d-417c-e957-aada2ab90861"
   },
   "outputs": [],
   "source": [
    "''' To create the nearest array that contains for each array element an index that corresponds to an array element index of the centroid_routes_arr together \n",
    "with the k-nearest neighbor indices of the array element indices of the centroid_routes_arr'''\n",
    "def to_get_k_nearest_neighbors_of_centroid(centroid_routes_arr):\n",
    "    D = distance.squareform(distance.pdist(centroid_routes_arr))\n",
    "    nearest = np.argsort(D, axis=1)\n",
    "\n",
    "    nearest_neighbors_centroid = get_k_nearest_neighbors_of_centroid(centroid_routes_arr, nearest, 5)\n",
    "    list_indices_nearest_neighbors = get_indices_k_nearest_neighbors_of_centroid(nearest, 5)\n",
    "\n",
    "    return nearest_neighbors_centroid, list_indices_nearest_neighbors"
   ]
  },
  {
   "cell_type": "code",
   "execution_count": null,
   "metadata": {
    "colab": {
     "base_uri": "https://localhost:8080/",
     "height": 35
    },
    "executionInfo": {
     "elapsed": 631040,
     "status": "ok",
     "timestamp": 1617437810971,
     "user": {
      "displayName": "Ine Winters",
      "photoUrl": "",
      "userId": "11267554535649979995"
     },
     "user_tz": -120
    },
    "id": "WsO7q6fpknKs",
    "outputId": "ddac8074-97fe-43ac-ba4b-f2c022fcdb9c"
   },
   "outputs": [],
   "source": [
    "''' To concatenate the array that contains one centroid with the array that contains the scaled route characteristics of the routes of another country'''\n",
    "def to_get_array_centroid_routes(first_centroid, scaled_clustering_arr):\n",
    "    centroid_routes_arr = np.concatenate((first_centroid, scaled_clustering_arr), axis=0)\n",
    "\n",
    "    return centroid_routes_arr"
   ]
  },
  {
   "cell_type": "code",
   "execution_count": null,
   "metadata": {
    "colab": {
     "base_uri": "https://localhost:8080/",
     "height": 52
    },
    "executionInfo": {
     "elapsed": 630990,
     "status": "ok",
     "timestamp": 1617437810974,
     "user": {
      "displayName": "Ine Winters",
      "photoUrl": "",
      "userId": "11267554535649979995"
     },
     "user_tz": -120
    },
    "id": "BHV9fWCBk4et",
    "outputId": "d0ad654b-53a4-4601-8b17-39c3ad0b5816"
   },
   "outputs": [],
   "source": [
    "''' To activate the definition that add the cluster centroid as the first array element of the array that contains the other routes and\n",
    "to activate the definitions to get the k-nearest neighbors of a centroid as well as the indices of the nearest neighbors in the route_characteristics df'''\n",
    "def find_k_nearest_neighbors_of_one_centroid(first_centroid, scaled_clustering_arr):\n",
    "    centroid_routes_arr = to_get_array_centroid_routes(first_centroid, scaled_clustering_arr)\n",
    "    nearest_neighbors_centroid, list_indices_nearest_neighbors = to_get_k_nearest_neighbors_of_centroid(centroid_routes_arr)\n",
    "\n",
    "    return nearest_neighbors_centroid, list_indices_nearest_neighbors"
   ]
  },
  {
   "cell_type": "code",
   "execution_count": null,
   "metadata": {
    "colab": {
     "base_uri": "https://localhost:8080/",
     "height": 35
    },
    "executionInfo": {
     "elapsed": 630986,
     "status": "ok",
     "timestamp": 1617437810977,
     "user": {
      "displayName": "Ine Winters",
      "photoUrl": "",
      "userId": "11267554535649979995"
     },
     "user_tz": -120
    },
    "id": "ODDZ8jr_lsJX",
    "outputId": "4ae90b16-bd79-420e-c316-9ad850d1d4d8"
   },
   "outputs": [],
   "source": [
    "''' To find the nearest_neighbors of all centroids and to find the indices of these nearest_neighbors'''\n",
    "def find_k_nearest_neighbors_of_all_centroids(cluster_centroids_5D, scaled_clustering_df):\n",
    "    centroids_list = []\n",
    "    nearest_neighbors_list = []\n",
    "    indices_nearest_neighbors_list = []\n",
    "    number_of_cluster_centroids = len(cluster_centroids_5D)\n",
    "    print(\"Number of centroids:\", number_of_cluster_centroids)\n",
    "    other_centroids = cluster_centroids_5D.copy()\n",
    "    scaled_clustering_arr = get_array_routes_other_country(scaled_clustering_df)\n",
    "    for i in range(0, number_of_cluster_centroids):\n",
    "        centroid, other_centroids = split_off_the_first_centroid(other_centroids)\n",
    "        nearest_neighbors_centroid, list_indices_nearest_neighbors = find_k_nearest_neighbors_of_one_centroid(centroid, scaled_clustering_arr)\n",
    "        nearest_neighbors_list.append(nearest_neighbors_centroid)\n",
    "        indices_nearest_neighbors_list.append(list_indices_nearest_neighbors)\n",
    "        centroids_list.append(centroid)    \n",
    "\n",
    "    return nearest_neighbors_list, indices_nearest_neighbors_list, centroids_list"
   ]
  },
  {
   "cell_type": "code",
   "execution_count": null,
   "metadata": {
    "colab": {
     "base_uri": "https://localhost:8080/",
     "height": 35
    },
    "executionInfo": {
     "elapsed": 630945,
     "status": "ok",
     "timestamp": 1617437810979,
     "user": {
      "displayName": "Ine Winters",
      "photoUrl": "",
      "userId": "11267554535649979995"
     },
     "user_tz": -120
    },
    "id": "1Vp5lsJRkZXK",
    "outputId": "f59cef4f-f59f-45c9-97b9-714b79806e7a"
   },
   "outputs": [],
   "source": [
    "''' To find the nearest neighbors of all centroids and their corresponding route_ids'''\n",
    "def search_k_nearest_neighbors_of_centroids(cluster_centroids_5D, scaled_clustering_df, route_characteristics):\n",
    "    nearest_neighbors_list, indices_nearest_neighbors_list, centroids_list = find_k_nearest_neighbors_of_all_centroids(cluster_centroids_5D, scaled_clustering_df)\n",
    "    k_nearest_neighbors_df = pd.DataFrame(index=range(len(centroids_list)),columns=['centroid', 'nearest_neighbors_centroid', 'route_ids_nearest_neighbors'])\n",
    "    for nr_centroid, centroid in enumerate(centroids_list):\n",
    "        #centroid_list = centroid.flatten().tolist()\n",
    "        k_nearest_neighbors_df.loc[nr_centroid,'centroid'] = centroid\n",
    "        k_nearest_neighbors_df.loc[nr_centroid, 'nearest_neighbors_centroid'] = nearest_neighbors_list[nr_centroid]\n",
    "        sublist = indices_nearest_neighbors_list[nr_centroid]\n",
    "        list_route_ids = []\n",
    "        for listelement in sublist:\n",
    "            route_id = route_characteristics.loc[listelement,'route_id']\n",
    "            list_route_ids.append(route_id)\n",
    "            k_nearest_neighbors_df.loc[nr_centroid, 'route_ids_nearest_neighbors'] = list_route_ids\n",
    "\n",
    "    return k_nearest_neighbors_df"
   ]
  },
  {
   "cell_type": "markdown",
   "metadata": {
    "id": "Z8Eu5JnQrJQa"
   },
   "source": [
    "### Belgian centroids and Dutch routes"
   ]
  },
  {
   "cell_type": "code",
   "execution_count": null,
   "metadata": {
    "colab": {
     "base_uri": "https://localhost:8080/",
     "height": 252
    },
    "executionInfo": {
     "elapsed": 630895,
     "status": "ok",
     "timestamp": 1617437810980,
     "user": {
      "displayName": "Ine Winters",
      "photoUrl": "",
      "userId": "11267554535649979995"
     },
     "user_tz": -120
    },
    "id": "eAgF3utcrNmk",
    "outputId": "40b1f2db-03c3-4c4e-e8e0-ece5127eba0c"
   },
   "outputs": [],
   "source": [
    "k_nearest_neighbors_df_belgian_centroids_dutch_routes = search_k_nearest_neighbors_of_centroids(cluster_centroids_5D_Belgium_from_Belgium_Netherlands, scaled_clustering_df_Netherlands_from_Belgium_Netherlands, route_characteristics_Netherlands)\n",
    "k_nearest_neighbors_df_belgian_centroids_dutch_routes"
   ]
  },
  {
   "cell_type": "markdown",
   "metadata": {
    "id": "RN5I_QQQu0Jo"
   },
   "source": [
    "### Dutch centroids and Belgian routes"
   ]
  },
  {
   "cell_type": "code",
   "execution_count": null,
   "metadata": {
    "colab": {
     "base_uri": "https://localhost:8080/",
     "height": 252
    },
    "executionInfo": {
     "elapsed": 631265,
     "status": "ok",
     "timestamp": 1617437811353,
     "user": {
      "displayName": "Ine Winters",
      "photoUrl": "",
      "userId": "11267554535649979995"
     },
     "user_tz": -120
    },
    "id": "ajR95vpIux_u",
    "outputId": "d12a6976-2b9b-4359-838e-c04b4900de0c"
   },
   "outputs": [],
   "source": [
    "k_nearest_neighbors_df_dutch_centroids_belgian_routes = search_k_nearest_neighbors_of_centroids(cluster_centroids_5D_Netherlands_from_Belgium_Netherlands, scaled_clustering_df_Belgium_from_Belgium_Netherlands, route_characteristics_Belgium)\n",
    "k_nearest_neighbors_df_dutch_centroids_belgian_routes"
   ]
  },
  {
   "cell_type": "markdown",
   "metadata": {
    "id": "DFzj9quXvK8P"
   },
   "source": [
    "### Belgian centroids and Swiss routes"
   ]
  },
  {
   "cell_type": "code",
   "execution_count": null,
   "metadata": {
    "colab": {
     "base_uri": "https://localhost:8080/",
     "height": 0
    },
    "executionInfo": {
     "elapsed": 631964,
     "status": "ok",
     "timestamp": 1617437812058,
     "user": {
      "displayName": "Ine Winters",
      "photoUrl": "",
      "userId": "11267554535649979995"
     },
     "user_tz": -120
    },
    "id": "YOTip6g9vV6T",
    "outputId": "fad568a4-7d4d-439b-e145-32012505700a"
   },
   "outputs": [],
   "source": [
    "k_nearest_neighbors_df_belgian_centroids_swiss_routes = search_k_nearest_neighbors_of_centroids(cluster_centroids_5D_Belgium_from_Belgium_Switzerland, scaled_clustering_df_Switzerland_from_Belgium_Switzerland, route_characteristics_Switzerland)\n",
    "k_nearest_neighbors_df_belgian_centroids_swiss_routes"
   ]
  },
  {
   "cell_type": "markdown",
   "metadata": {
    "id": "GzXasYRuvxxu"
   },
   "source": [
    "### Swiss centroids and Belgian routes"
   ]
  },
  {
   "cell_type": "code",
   "execution_count": null,
   "metadata": {
    "colab": {
     "base_uri": "https://localhost:8080/",
     "height": 0
    },
    "executionInfo": {
     "elapsed": 632259,
     "status": "ok",
     "timestamp": 1617437812358,
     "user": {
      "displayName": "Ine Winters",
      "photoUrl": "",
      "userId": "11267554535649979995"
     },
     "user_tz": -120
    },
    "id": "-q42-ffFv1K_",
    "outputId": "95d9f2c7-784d-4d94-b956-95a29c893af2"
   },
   "outputs": [],
   "source": [
    "k_nearest_neighbors_df_swiss_centroids_belgian_routes = search_k_nearest_neighbors_of_centroids(cluster_centroids_5D_Switzerland_from_Belgium_Switzerland, scaled_clustering_df_Belgium_from_Belgium_Switzerland, route_characteristics_Belgium)\n",
    "k_nearest_neighbors_df_swiss_centroids_belgian_routes"
   ]
  },
  {
   "cell_type": "markdown",
   "metadata": {
    "id": "U8dH8e1Nw8FH"
   },
   "source": [
    "### Dutch centroids and Swiss routes"
   ]
  },
  {
   "cell_type": "code",
   "execution_count": null,
   "metadata": {
    "colab": {
     "base_uri": "https://localhost:8080/",
     "height": 0
    },
    "executionInfo": {
     "elapsed": 634429,
     "status": "ok",
     "timestamp": 1617437814532,
     "user": {
      "displayName": "Ine Winters",
      "photoUrl": "",
      "userId": "11267554535649979995"
     },
     "user_tz": -120
    },
    "id": "WAv5mbgzxGIS",
    "outputId": "fb139b12-f6b4-4287-e5c1-9ad3f6999836"
   },
   "outputs": [],
   "source": [
    "k_nearest_neighbors_df_dutch_centroids_swiss_routes = search_k_nearest_neighbors_of_centroids(cluster_centroids_5D_Netherlands_from_Netherlands_Switzerland, scaled_clustering_df_Switzerland_from_Netherlands_Switzerland, route_characteristics_Switzerland)\n",
    "k_nearest_neighbors_df_dutch_centroids_swiss_routes"
   ]
  },
  {
   "cell_type": "markdown",
   "metadata": {
    "id": "BcHfwsQvxah4"
   },
   "source": [
    "### Swiss centroids and dutch routes"
   ]
  },
  {
   "cell_type": "code",
   "execution_count": null,
   "metadata": {
    "colab": {
     "base_uri": "https://localhost:8080/",
     "height": 252
    },
    "executionInfo": {
     "elapsed": 634417,
     "status": "ok",
     "timestamp": 1617437814544,
     "user": {
      "displayName": "Ine Winters",
      "photoUrl": "",
      "userId": "11267554535649979995"
     },
     "user_tz": -120
    },
    "id": "pPwDHS1gxdjj",
    "outputId": "70d9052a-a873-4459-fd28-c3c73cbe51e4"
   },
   "outputs": [],
   "source": [
    "k_nearest_neighbors_df_swiss_centroids_dutch_routes = search_k_nearest_neighbors_of_centroids(cluster_centroids_5D_Switzerland_from_Netherlands_Switzerland, scaled_clustering_df_Netherlands_from_Netherlands_Switzerland, route_characteristics_Netherlands)\n",
    "k_nearest_neighbors_df_swiss_centroids_dutch_routes"
   ]
  },
  {
   "cell_type": "markdown",
   "metadata": {
    "id": "USI8BxnkNd9U"
   },
   "source": [
    "# Travel time comparison"
   ]
  },
  {
   "cell_type": "code",
   "execution_count": null,
   "metadata": {
    "colab": {
     "base_uri": "https://localhost:8080/",
     "height": 35
    },
    "executionInfo": {
     "elapsed": 634761,
     "status": "ok",
     "timestamp": 1617437814904,
     "user": {
      "displayName": "Ine Winters",
      "photoUrl": "",
      "userId": "11267554535649979995"
     },
     "user_tz": -120
    },
    "id": "0XYL4lZHvG9n",
    "outputId": "71da9755-f763-4351-ed5b-e51046f3771b"
   },
   "outputs": [],
   "source": [
    "''' To add a new avg_travel_time_centroid attribute to the df'''\n",
    "def add_avg_travel_time_centroid(scaled_clustering_cluster_groups_df, route_characteristics, routes_country, k_nearest_neighbors_df):\n",
    "    # To add the route_id attribute from the route_characteristics_df to the scaled_clustering_cluster_groups_5D_df\n",
    "    travel_time_clustering_cluster_groups_df = scaled_clustering_cluster_groups_df.copy()\n",
    "    travel_time_clustering_cluster_groups_df = travel_time_clustering_cluster_groups_df.reset_index(drop=True)\n",
    "    travel_time_clustering_cluster_groups_df['route_id'] = route_characteristics['route_id']\n",
    "\n",
    "    # To merge the country_routes df with the travel_time_clustering_cluster_groups_df on route_id to get the average travel time of a route\n",
    "    travel_time_clustering_cluster_groups_df = pd.merge(routes_country[['route_id', 'travel_time']], travel_time_clustering_cluster_groups_df, on='route_id')\n",
    "\n",
    "    # To drop the route_id attribute\n",
    "    travel_time_clustering_cluster_groups_df = travel_time_clustering_cluster_groups_df.drop('route_id', axis=1)\n",
    "\n",
    "    # To search for the centroid values of the travel_time for each cluster\n",
    "    travel_time_centroids_arr = find_cluster_centroids_in_5D(travel_time_clustering_cluster_groups_df)\n",
    "\n",
    "    # To add the average travel times of the centroids in a list\n",
    "    list_avg_travel_time_centroids = []\n",
    "    travel_time_centroids_list = travel_time_centroids_arr.tolist()\n",
    "    for sublist in travel_time_centroids_list:\n",
    "        avg_travel_time_centroid = sublist[0]\n",
    "        list_avg_travel_time_centroids.append(avg_travel_time_centroid)\n",
    "\n",
    "    # To add the list_avg_travel_time_centroids as a new attribute of the df\n",
    "    travel_time_df = k_nearest_neighbors_df.copy()\n",
    "    travel_time_df['avg_travel_time_centroid'] = list_avg_travel_time_centroids\n",
    "\n",
    "    return travel_time_df"
   ]
  },
  {
   "cell_type": "code",
   "execution_count": null,
   "metadata": {
    "colab": {
     "base_uri": "https://localhost:8080/",
     "height": 35
    },
    "executionInfo": {
     "elapsed": 634795,
     "status": "ok",
     "timestamp": 1617437814943,
     "user": {
      "displayName": "Ine Winters",
      "photoUrl": "",
      "userId": "11267554535649979995"
     },
     "user_tz": -120
    },
    "id": "OLxQJhLyvF6g",
    "outputId": "21c6aec6-3980-4dc5-f093-f33c918b4d2a"
   },
   "outputs": [],
   "source": [
    "''' To add a new avg_travel_time_nearest_neighbors_centroid attribute to the df'''\n",
    "def add_avg_travel_time_nearest_neighbors_centroid(travel_time_df_1, routes_country):\n",
    "    # To copy the travel_time_df_1 and to add a new attribute avg_travel_time_nearest_neighbors_centroid\n",
    "    travel_time_df = travel_time_df_1.copy()\n",
    "    travel_time_df['avg_travel_time_nearest_neighbors_centroid'] = \"\"\n",
    "\n",
    "    # To loop over the row indices of the travel_time_df\n",
    "    for row in range(len(travel_time_df)):\n",
    "        # To select the route_ids_nearest_neighbors attribute value of that row\n",
    "        list_route_ids_nearest_neighbors = travel_time_df.loc[row, 'route_ids_nearest_neighbors']\n",
    "        # To create an empty list list_avg_travel_time_nearest_neighbors_centroid\n",
    "        list_avg_travel_time_nearest_neighbors_centroid = []\n",
    "        # To loop over all elements in the list_route_ids_nearest_neighbors\n",
    "        for route_id in list_route_ids_nearest_neighbors:\n",
    "            # To search for the corresponding average travel time of this route_id\n",
    "            avg_travel_time = routes_country.loc[routes_country['route_id'] == route_id, 'travel_time'].iloc[0]\n",
    "            # To add the corresponding average travel time of the route to the list_avg_travel_time_nearest_neighbors_centroids\n",
    "            list_avg_travel_time_nearest_neighbors_centroid.append(avg_travel_time)\n",
    "    # To add the list_avg_travel_time_nearest_neighbors_centroid as a new value in the avg_travel_time_nearest_neighbors_centroid column\n",
    "    travel_time_df.at[row, 'avg_travel_time_nearest_neighbors_centroid'] = list_avg_travel_time_nearest_neighbors_centroid\n",
    "\n",
    "    return travel_time_df"
   ]
  },
  {
   "cell_type": "code",
   "execution_count": null,
   "metadata": {
    "executionInfo": {
     "elapsed": 634793,
     "status": "ok",
     "timestamp": 1617437814946,
     "user": {
      "displayName": "Ine Winters",
      "photoUrl": "",
      "userId": "11267554535649979995"
     },
     "user_tz": -120
    },
    "id": "dXJz_8Ai0wJQ"
   },
   "outputs": [],
   "source": [
    "def get_the_average_travel_time(scaled_clustering_cluster_groups_df, route_characteristics, k_nearest_neighbors_df, routes_centroid_country, routes_non_centroid_country):\n",
    "    travel_time_df_1 = add_avg_travel_time_centroid(scaled_clustering_cluster_groups_df, route_characteristics, routes_centroid_country, k_nearest_neighbors_df)\n",
    "    travel_time_df = add_avg_travel_time_nearest_neighbors_centroid(travel_time_df_1, routes_non_centroid_country)\n",
    "\n",
    "    return travel_time_df"
   ]
  },
  {
   "cell_type": "markdown",
   "metadata": {
    "id": "0N7pgdL41I19"
   },
   "source": [
    "Belgian centroids and dutch routes"
   ]
  },
  {
   "cell_type": "code",
   "execution_count": null,
   "metadata": {
    "colab": {
     "base_uri": "https://localhost:8080/",
     "height": 439
    },
    "executionInfo": {
     "elapsed": 634652,
     "status": "ok",
     "timestamp": 1617437814949,
     "user": {
      "displayName": "Ine Winters",
      "photoUrl": "",
      "userId": "11267554535649979995"
     },
     "user_tz": -120
    },
    "id": "KoRCfC1n0Uck",
    "outputId": "772b2330-cdb1-4487-b1aa-88a9de3d82d0"
   },
   "outputs": [],
   "source": [
    "travel_time_df_belgian_centroids_dutch_routes = get_the_average_travel_time(scaled_clustering_cluster_groups_5D_Belgium_from_Belgium_Netherlands, route_characteristics_Belgium, k_nearest_neighbors_df_belgian_centroids_dutch_routes, belgian_routes_Belgium, dutch_routes_Netherlands)\n",
    "travel_time_df_belgian_centroids_dutch_routes"
   ]
  },
  {
   "cell_type": "markdown",
   "metadata": {
    "id": "QSWkGC021KhT"
   },
   "source": [
    "Dutch centroids and belgian routes"
   ]
  },
  {
   "cell_type": "code",
   "execution_count": null,
   "metadata": {
    "colab": {
     "base_uri": "https://localhost:8080/",
     "height": 439
    },
    "executionInfo": {
     "elapsed": 634640,
     "status": "ok",
     "timestamp": 1617437814959,
     "user": {
      "displayName": "Ine Winters",
      "photoUrl": "",
      "userId": "11267554535649979995"
     },
     "user_tz": -120
    },
    "id": "eWCkGHC61OXX",
    "outputId": "8b44de6a-b751-4f40-f7ed-7926da1f1ffb"
   },
   "outputs": [],
   "source": [
    "travel_time_df_dutch_centroids_belgian_routes = get_the_average_travel_time(scaled_clustering_cluster_groups_5D_Netherlands_from_Belgium_Netherlands, route_characteristics_Netherlands, k_nearest_neighbors_df_dutch_centroids_belgian_routes, dutch_routes_Netherlands, belgian_routes_Belgium)\n",
    "travel_time_df_dutch_centroids_belgian_routes"
   ]
  },
  {
   "cell_type": "markdown",
   "metadata": {
    "id": "aMVdJIfJ5pQ-"
   },
   "source": [
    "Belgian centroids and Swiss routes"
   ]
  },
  {
   "cell_type": "code",
   "execution_count": null,
   "metadata": {
    "colab": {
     "base_uri": "https://localhost:8080/",
     "height": 374
    },
    "executionInfo": {
     "elapsed": 634591,
     "status": "ok",
     "timestamp": 1617437814962,
     "user": {
      "displayName": "Ine Winters",
      "photoUrl": "",
      "userId": "11267554535649979995"
     },
     "user_tz": -120
    },
    "id": "u7l5AOs86XBn",
    "outputId": "828a93d5-3e9d-4255-9468-3f80f8c989ff"
   },
   "outputs": [],
   "source": [
    "travel_time_df_belgian_centroids_swiss_routes = get_the_average_travel_time(scaled_clustering_cluster_groups_5D_Belgium_from_Belgium_Switzerland, route_characteristics_Belgium, k_nearest_neighbors_df_belgian_centroids_swiss_routes, belgian_routes_Belgium, swiss_routes_Switzerland)\n",
    "travel_time_df_belgian_centroids_swiss_routes"
   ]
  },
  {
   "cell_type": "markdown",
   "metadata": {
    "id": "D9tRHsm57GLD"
   },
   "source": [
    "Swiss centroids and Belgian routes"
   ]
  },
  {
   "cell_type": "code",
   "execution_count": null,
   "metadata": {
    "colab": {
     "base_uri": "https://localhost:8080/",
     "height": 459
    },
    "executionInfo": {
     "elapsed": 634743,
     "status": "ok",
     "timestamp": 1617437815239,
     "user": {
      "displayName": "Ine Winters",
      "photoUrl": "",
      "userId": "11267554535649979995"
     },
     "user_tz": -120
    },
    "id": "0BRRoa8E7JU9",
    "outputId": "f29c3f1e-82bc-45ad-cb09-d70387f3e154"
   },
   "outputs": [],
   "source": [
    "travel_time_df_swiss_centroids_belgian_routes = get_the_average_travel_time(scaled_clustering_cluster_groups_5D_Switzerland_from_Belgium_Switzerland, route_characteristics_Switzerland, k_nearest_neighbors_df_swiss_centroids_belgian_routes, swiss_routes_Switzerland, belgian_routes_Belgium)\n",
    "travel_time_df_swiss_centroids_belgian_routes"
   ]
  },
  {
   "cell_type": "markdown",
   "metadata": {
    "id": "Oq9GjroQ7hYK"
   },
   "source": [
    "Dutch centroids and Swiss routes"
   ]
  },
  {
   "cell_type": "code",
   "execution_count": null,
   "metadata": {
    "colab": {
     "base_uri": "https://localhost:8080/",
     "height": 524
    },
    "executionInfo": {
     "elapsed": 634725,
     "status": "ok",
     "timestamp": 1617437815243,
     "user": {
      "displayName": "Ine Winters",
      "photoUrl": "",
      "userId": "11267554535649979995"
     },
     "user_tz": -120
    },
    "id": "TcStyICn7l8R",
    "outputId": "1f5cb9c8-cab0-46e5-fe1d-4321e194a628"
   },
   "outputs": [],
   "source": [
    "travel_time_df_dutch_centroids_swiss_routes = get_the_average_travel_time(scaled_clustering_cluster_groups_5D_Netherlands_from_Netherlands_Switzerland, route_characteristics_Netherlands, k_nearest_neighbors_df_dutch_centroids_swiss_routes, dutch_routes_Netherlands, swiss_routes_Switzerland)\n",
    "travel_time_df_dutch_centroids_swiss_routes"
   ]
  },
  {
   "cell_type": "markdown",
   "metadata": {
    "id": "AW13R5N876cu"
   },
   "source": [
    "Swiss centroids and dutch routes"
   ]
  },
  {
   "cell_type": "code",
   "execution_count": null,
   "metadata": {
    "colab": {
     "base_uri": "https://localhost:8080/",
     "height": 459
    },
    "executionInfo": {
     "elapsed": 634672,
     "status": "ok",
     "timestamp": 1617437815255,
     "user": {
      "displayName": "Ine Winters",
      "photoUrl": "",
      "userId": "11267554535649979995"
     },
     "user_tz": -120
    },
    "id": "ddmB0pEt783a",
    "outputId": "ea89cbd8-5a6f-4360-d731-83405d912e51"
   },
   "outputs": [],
   "source": [
    "travel_time_df_swiss_centroids_dutch_routes = get_the_average_travel_time(scaled_clustering_cluster_groups_5D_Switzerland_from_Netherlands_Switzerland, route_characteristics_Switzerland, k_nearest_neighbors_df_swiss_centroids_dutch_routes, swiss_routes_Switzerland, dutch_routes_Netherlands)\n",
    "travel_time_df_swiss_centroids_dutch_routes"
   ]
  },
  {
   "cell_type": "markdown",
   "metadata": {
    "id": "SAogNKM4SUFb"
   },
   "source": [
    "# NEW: to search the k-nearest neighbors of the country of the centroid as wwell"
   ]
  },
  {
   "cell_type": "code",
   "execution_count": null,
   "metadata": {
    "colab": {
     "base_uri": "https://localhost:8080/",
     "height": 0
    },
    "executionInfo": {
     "elapsed": 634856,
     "status": "ok",
     "timestamp": 1617437815443,
     "user": {
      "displayName": "Ine Winters",
      "photoUrl": "",
      "userId": "11267554535649979995"
     },
     "user_tz": -120
    },
    "id": "J5Ra_Reu2j1B",
    "outputId": "f9ef9919-230f-4499-8cba-49b52c0ae241"
   },
   "outputs": [],
   "source": [
    "k_nearest_neighbors_df_belgian_centroids_belgian_routes = search_k_nearest_neighbors_of_centroids(cluster_centroids_5D_Belgium_from_Belgium_Netherlands, scaled_clustering_df_Belgium_from_Belgium_Netherlands, route_characteristics_Belgium)\n",
    "k_nearest_neighbors_df_belgian_centroids_belgian_routes"
   ]
  },
  {
   "cell_type": "code",
   "execution_count": null,
   "metadata": {
    "colab": {
     "base_uri": "https://localhost:8080/",
     "height": 1000
    },
    "executionInfo": {
     "elapsed": 635233,
     "status": "ok",
     "timestamp": 1617437815823,
     "user": {
      "displayName": "Ine Winters",
      "photoUrl": "",
      "userId": "11267554535649979995"
     },
     "user_tz": -120
    },
    "id": "408XAR6k42y6",
    "outputId": "fafbfc77-893c-4d71-ffca-f0f4a6f2dc8e"
   },
   "outputs": [],
   "source": [
    "# Belgische centroids met Nederlandse routes\n",
    "search_k_nearest_neighbors_of_centroids(cluster_centroids_5D_Belgium_from_Belgium_Netherlands, scaled_clustering_df_Netherlands_from_Belgium_Netherlands, route_characteristics_Netherlands)\n",
    "get_the_average_travel_time(scaled_clustering_cluster_groups_5D_Belgium_from_Belgium_Netherlands, route_characteristics_Belgium, k_nearest_neighbors_df_belgian_centroids_dutch_routes, belgian_routes_Belgium, dutch_routes_Netherlands)\n",
    "\n",
    "# Belgische centroids met Belgische routes\n",
    "search_k_nearest_neighbors_of_centroids(cluster_centroids_5D_Belgium_from_Belgium_Netherlands, scaled_clustering_df_Belgium_from_Belgium_Netherlands, route_characteristics_Belgium)\n",
    "get_the_average_travel_time(scaled_clustering_cluster_groups_5D_Belgium_from_Belgium_Netherlands, route_characteristics_Belgium, k_nearest_neighbors_df_belgian_centroids_belgian_routes, belgian_routes_Belgium, belgian_routes_Belgium)"
   ]
  },
  {
   "cell_type": "markdown",
   "metadata": {
    "id": "m53BmOlRrV9P"
   },
   "source": [
    "# Werkt nog niet met definitie ! De versie zonder definitie gebruiken"
   ]
  },
  {
   "cell_type": "code",
   "execution_count": null,
   "metadata": {
    "colab": {
     "base_uri": "https://localhost:8080/",
     "height": 35
    },
    "executionInfo": {
     "elapsed": 635236,
     "status": "ok",
     "timestamp": 1617437815830,
     "user": {
      "displayName": "Ine Winters",
      "photoUrl": "",
      "userId": "11267554535649979995"
     },
     "user_tz": -120
    },
    "id": "xH-D86GbsE14",
    "outputId": "f03c0646-57c7-4cb3-de45-3e9ca896a3c9"
   },
   "outputs": [],
   "source": [
    "''' To get a dataframe with the nearest neighbors and the avg_travel_time of these nearest neighbors'''\n",
    "def get_nearest_neighbors_and_average_travel_time(cluster_centroids_5D_df, scaled_clustering_df_non_centroid_country, route_characteristics_not_country_centroid, scaled_clustering_cluster_groups_5D_df, route_characteristics_country_centroid, routes_country_centroid, routes_not_country_centroid):\n",
    "    k_nearest_neighbors_df = search_k_nearest_neighbors_of_centroids(cluster_centroids_5D_df, scaled_clustering_df_non_centroid_country, route_characteristics_not_country_centroid)\n",
    "    travel_time_df = get_the_average_travel_time(scaled_clustering_cluster_groups_5D_df, route_characteristics_country_centroid, k_nearest_neighbors_df, routes_country_centroid, routes_not_country_centroid)\n",
    "\n",
    "    return travel_time_df"
   ]
  },
  {
   "cell_type": "code",
   "execution_count": null,
   "metadata": {
    "executionInfo": {
     "elapsed": 635232,
     "status": "ok",
     "timestamp": 1617437815834,
     "user": {
      "displayName": "Ine Winters",
      "photoUrl": "",
      "userId": "11267554535649979995"
     },
     "user_tz": -120
    },
    "id": "AEYesgPRrX01"
   },
   "outputs": [],
   "source": [
    "def get_nearest_neighbors_two_countries(cluster_centroids_5D_df, scaled_clustering_df_not_country_centroid, route_characteristics_not_country_centroid, scaled_clustering_cluster_groups_5D_df, route_characteristics_country_centroid, routes_country_centroid, routes_not_country_centroid, scaled_clustering_df_country_centroid):\n",
    "    travel_time_df_not_country_centroid_neighbors = get_nearest_neighbors_and_average_travel_time(cluster_centroids_5D_df, scaled_clustering_df_not_country_centroid, route_characteristics_not_country_centroid, scaled_clustering_cluster_groups_5D_df, route_characteristics_country_centroid, routes_country_centroid, routes_not_country_centroid)\n",
    "    travel_time_df_country_centroid_neighbors = get_nearest_neighbors_and_average_travel_time(cluster_centroids_5D_df, scaled_clustering_df_country_centroid, route_characteristics_country_centroid, scaled_clustering_cluster_groups_5D_df, route_characteristics_country_centroid, routes_country_centroid, routes_country_centroid)\n",
    "\n",
    "    return travel_time_df_not_country_centroid_neighbors, travel_time_df_country_centroid_neighbors"
   ]
  },
  {
   "cell_type": "code",
   "execution_count": null,
   "metadata": {
    "colab": {
     "base_uri": "https://localhost:8080/",
     "height": 0
    },
    "executionInfo": {
     "elapsed": 635518,
     "status": "ok",
     "timestamp": 1617437816143,
     "user": {
      "displayName": "Ine Winters",
      "photoUrl": "",
      "userId": "11267554535649979995"
     },
     "user_tz": -120
    },
    "id": "z4W4vOairkNg",
    "outputId": "0ce50830-ed82-4b4d-f643-9216785dc770"
   },
   "outputs": [],
   "source": [
    "travel_time_df_belgian_centroids_dutch_routes, travel_time_df_belgian_centroids_belgian_routes = get_nearest_neighbors_two_countries(cluster_centroids_5D_Belgium_from_Belgium_Netherlands, scaled_clustering_df_Netherlands_from_Belgium_Netherlands, route_characteristics_Netherlands, scaled_clustering_cluster_groups_5D_Belgium_from_Belgium_Netherlands, route_characteristics_Belgium, belgian_routes_Belgium, dutch_routes_Netherlands, scaled_clustering_df_Netherlands_from_Belgium_Netherlands)\n",
    "travel_time_df_belgian_centroids_dutch_routes\n",
    "travel_time_df_belgian_centroids_belgian_routes"
   ]
  },
  {
   "cell_type": "markdown",
   "metadata": {
    "id": "hXDNCaIqu55r"
   },
   "source": [
    "# Werkt hieronder maar geen definitie gebruikt"
   ]
  },
  {
   "cell_type": "markdown",
   "metadata": {
    "id": "As8FSAIYxRqB"
   },
   "source": [
    "Belgian centroids + Dutch and Belgian nearest neighbors"
   ]
  },
  {
   "cell_type": "code",
   "execution_count": null,
   "metadata": {
    "executionInfo": {
     "elapsed": 635514,
     "status": "ok",
     "timestamp": 1617437816144,
     "user": {
      "displayName": "Ine Winters",
      "photoUrl": "",
      "userId": "11267554535649979995"
     },
     "user_tz": -120
    },
    "id": "7Bzcqq1IvSZE"
   },
   "outputs": [],
   "source": [
    "# Belgian centroids + Dutch nearest neighbors\n",
    "travel_time_df_belgian_centroids_dutch_routes = get_the_average_travel_time(scaled_clustering_cluster_groups_5D_Belgium_from_Belgium_Netherlands, route_characteristics_Belgium, k_nearest_neighbors_df_belgian_centroids_dutch_routes, belgian_routes_Belgium, dutch_routes_Netherlands)\n",
    "#travel_time_df_belgian_centroids_dutch_routes"
   ]
  },
  {
   "cell_type": "code",
   "execution_count": null,
   "metadata": {
    "colab": {
     "base_uri": "https://localhost:8080/"
    },
    "executionInfo": {
     "elapsed": 635724,
     "status": "ok",
     "timestamp": 1617437816375,
     "user": {
      "displayName": "Ine Winters",
      "photoUrl": "",
      "userId": "11267554535649979995"
     },
     "user_tz": -120
    },
    "id": "6oBNjUsGSVIv",
    "outputId": "eeca5836-b401-4aa8-e2c3-60e4078ac007"
   },
   "outputs": [],
   "source": [
    "#focus op Belgische routes vanaf hier\n",
    "k_nearest_neighbors_df_belgian_centroids_belgian_routes_from_Belgium_Netherlands = search_k_nearest_neighbors_of_centroids(cluster_centroids_5D_Belgium_from_Belgium_Netherlands, scaled_clustering_df_Belgium_from_Belgium_Netherlands, route_characteristics_Belgium)\n",
    "#k_nearest_neighbors_df_belgian_centroids_belgian_routes_from_Belgium_Netherlands"
   ]
  },
  {
   "cell_type": "code",
   "execution_count": null,
   "metadata": {
    "executionInfo": {
     "elapsed": 635722,
     "status": "ok",
     "timestamp": 1617437816381,
     "user": {
      "displayName": "Ine Winters",
      "photoUrl": "",
      "userId": "11267554535649979995"
     },
     "user_tz": -120
    },
    "id": "kTNZlmWrSxKe"
   },
   "outputs": [],
   "source": [
    "travel_time_df_belgian_centroids_belgian_routes_from_Belgium_Netherlands = get_the_average_travel_time(scaled_clustering_cluster_groups_5D_Belgium_from_Belgium_Netherlands, route_characteristics_Belgium, k_nearest_neighbors_df_belgian_centroids_belgian_routes_from_Belgium_Netherlands, belgian_routes_Belgium, belgian_routes_Belgium)\n",
    "#travel_time_df_belgian_centroids_belgian_routes_from_Belgium_Netherlands"
   ]
  },
  {
   "cell_type": "code",
   "execution_count": null,
   "metadata": {
    "colab": {
     "base_uri": "https://localhost:8080/",
     "height": 0
    },
    "executionInfo": {
     "elapsed": 635718,
     "status": "ok",
     "timestamp": 1617437816383,
     "user": {
      "displayName": "Ine Winters",
      "photoUrl": "",
      "userId": "11267554535649979995"
     },
     "user_tz": -120
    },
    "id": "F4LSPwM8XJAr",
    "outputId": "b35a35fb-9a6f-4045-dc8a-c104681cebdc"
   },
   "outputs": [],
   "source": [
    "travel_time_df_belgian_centroids_from_Belgium_Netherlands =     pd.merge(travel_time_df_belgian_centroids_dutch_routes, travel_time_df_belgian_centroids_belgian_routes_from_Belgium_Netherlands[['centroid', 'avg_travel_time_nearest_neighbors_centroid']], \n",
    "                    left_index = True, right_index = True, \n",
    "                    suffixes=('_dutch_neighbors', '_belgian_neighbors'), on='centroid',\n",
    "                    how='inner')\n",
    "travel_time_df_belgian_centroids_from_Belgium_Netherlands"
   ]
  },
  {
   "cell_type": "markdown",
   "metadata": {
    "id": "N8kAIASOxdF6"
   },
   "source": [
    "Dutch centroids + Belgian and Dutch nearest neighbors"
   ]
  },
  {
   "cell_type": "code",
   "execution_count": null,
   "metadata": {
    "executionInfo": {
     "elapsed": 635714,
     "status": "ok",
     "timestamp": 1617437816385,
     "user": {
      "displayName": "Ine Winters",
      "photoUrl": "",
      "userId": "11267554535649979995"
     },
     "user_tz": -120
    },
    "id": "tj8Jt0ywxiuU"
   },
   "outputs": [],
   "source": [
    "#Dutch centroids with Belgian nearest neighbors\n",
    "travel_time_df_dutch_centroids_belgian_routes = get_the_average_travel_time(scaled_clustering_cluster_groups_5D_Netherlands_from_Belgium_Netherlands, route_characteristics_Netherlands, k_nearest_neighbors_df_dutch_centroids_belgian_routes, dutch_routes_Netherlands, belgian_routes_Belgium)\n",
    "#travel_time_df_dutch_centroids_belgian_routes"
   ]
  },
  {
   "cell_type": "code",
   "execution_count": null,
   "metadata": {
    "colab": {
     "base_uri": "https://localhost:8080/"
    },
    "executionInfo": {
     "elapsed": 635965,
     "status": "ok",
     "timestamp": 1617437816645,
     "user": {
      "displayName": "Ine Winters",
      "photoUrl": "",
      "userId": "11267554535649979995"
     },
     "user_tz": -120
    },
    "id": "tB2x4H85x5x7",
    "outputId": "3138058c-e340-4340-dc73-f0fd778aebf8"
   },
   "outputs": [],
   "source": [
    "#To search the Dutch nearest neighbors with the Dutch centroid\n",
    "k_nearest_neighbors_df_dutch_centroids_dutch_routes_from_Belgium_Netherlands = search_k_nearest_neighbors_of_centroids(cluster_centroids_5D_Netherlands_from_Belgium_Netherlands, scaled_clustering_df_Netherlands_from_Belgium_Netherlands, route_characteristics_Netherlands)\n",
    "#k_nearest_neighbors_df_dutch_centroids_dutch_routes_from_Belgium_Netherlands"
   ]
  },
  {
   "cell_type": "code",
   "execution_count": null,
   "metadata": {
    "executionInfo": {
     "elapsed": 635963,
     "status": "ok",
     "timestamp": 1617437816648,
     "user": {
      "displayName": "Ine Winters",
      "photoUrl": "",
      "userId": "11267554535649979995"
     },
     "user_tz": -120
    },
    "id": "xnPJ8WJ0y3M8"
   },
   "outputs": [],
   "source": [
    "# To search the avg_travel_time of the Dutch nearest neighbors\n",
    "travel_time_df_dutch_centroids_dutch_routes_from_Belgium_Netherlands = get_the_average_travel_time(scaled_clustering_cluster_groups_5D_Netherlands_from_Belgium_Netherlands, route_characteristics_Netherlands, k_nearest_neighbors_df_dutch_centroids_dutch_routes_from_Belgium_Netherlands, dutch_routes_Netherlands, dutch_routes_Netherlands)\n",
    "#travel_time_df_dutch_centroids_dutch_routes_from_Belgium_Netherlands "
   ]
  },
  {
   "cell_type": "code",
   "execution_count": null,
   "metadata": {
    "colab": {
     "base_uri": "https://localhost:8080/",
     "height": 0
    },
    "executionInfo": {
     "elapsed": 635962,
     "status": "ok",
     "timestamp": 1617437816652,
     "user": {
      "displayName": "Ine Winters",
      "photoUrl": "",
      "userId": "11267554535649979995"
     },
     "user_tz": -120
    },
    "id": "iv0-aCuoznnc",
    "outputId": "b2a5f4f6-ff8d-462e-a512-018b9d1b22b4"
   },
   "outputs": [],
   "source": [
    "# To get the dataframe with the Belgian and the Dutch nearest neighbors searched with the Dutch centroids\n",
    "travel_time_df_dutch_centroids_from_Belgium_Netherlands =     pd.merge(travel_time_df_dutch_centroids_belgian_routes, travel_time_df_dutch_centroids_dutch_routes_from_Belgium_Netherlands[['centroid', 'avg_travel_time_nearest_neighbors_centroid']], \n",
    "                    left_index = True, right_index = True, \n",
    "                    suffixes=('_Belgian_neighbors', '_Dutch_neighbors'), on='centroid',\n",
    "                    how='inner')\n",
    "travel_time_df_dutch_centroids_from_Belgium_Netherlands"
   ]
  },
  {
   "cell_type": "markdown",
   "metadata": {
    "id": "I5Dbssf00KGo"
   },
   "source": [
    "Belgian centroids and Swiss and Belgian nearest neighbors"
   ]
  },
  {
   "cell_type": "code",
   "execution_count": null,
   "metadata": {
    "executionInfo": {
     "elapsed": 635947,
     "status": "ok",
     "timestamp": 1617437816658,
     "user": {
      "displayName": "Ine Winters",
      "photoUrl": "",
      "userId": "11267554535649979995"
     },
     "user_tz": -120
    },
    "id": "Y858uNZV8j49"
   },
   "outputs": [],
   "source": [
    "#Belgian centroids with Swiss nearest neighbors\n",
    "travel_time_df_belgian_centroids_swiss_routes = get_the_average_travel_time(scaled_clustering_cluster_groups_5D_Belgium_from_Belgium_Switzerland, route_characteristics_Belgium, k_nearest_neighbors_df_belgian_centroids_swiss_routes, belgian_routes_Belgium, swiss_routes_Switzerland)\n",
    "#travel_time_df_belgian_centroids_swiss_routes"
   ]
  },
  {
   "cell_type": "code",
   "execution_count": null,
   "metadata": {
    "colab": {
     "base_uri": "https://localhost:8080/"
    },
    "executionInfo": {
     "elapsed": 636061,
     "status": "ok",
     "timestamp": 1617437816788,
     "user": {
      "displayName": "Ine Winters",
      "photoUrl": "",
      "userId": "11267554535649979995"
     },
     "user_tz": -120
    },
    "id": "a8ndaZZJ-yhJ",
    "outputId": "7b602741-120a-4a59-aee5-e3318bcb4373"
   },
   "outputs": [],
   "source": [
    "#To search the Belgian nearest neighbors with the Belgian centroids\n",
    "k_nearest_neighbors_df_belgian_centroids_belgian_routes_from_Belgium_Switzerland = search_k_nearest_neighbors_of_centroids(cluster_centroids_5D_Belgium_from_Belgium_Switzerland, scaled_clustering_df_Belgium_from_Belgium_Switzerland, route_characteristics_Belgium)\n",
    "#k_nearest_neighbors_df_belgian_centroids_belgian_routes_from_Belgium_Switzerland"
   ]
  },
  {
   "cell_type": "code",
   "execution_count": null,
   "metadata": {
    "executionInfo": {
     "elapsed": 636073,
     "status": "ok",
     "timestamp": 1617437816804,
     "user": {
      "displayName": "Ine Winters",
      "photoUrl": "",
      "userId": "11267554535649979995"
     },
     "user_tz": -120
    },
    "id": "X9SNwMEH_apZ"
   },
   "outputs": [],
   "source": [
    "# To search the avg_travel_time of the Belgian nearest neighbors\n",
    "travel_time_df_belgian_centroids_belgian_routes_from_Belgium_Switzerland = get_the_average_travel_time(scaled_clustering_cluster_groups_5D_Belgium_from_Belgium_Switzerland, route_characteristics_Belgium, k_nearest_neighbors_df_belgian_centroids_belgian_routes_from_Belgium_Switzerland, belgian_routes_Belgium, belgian_routes_Belgium)\n",
    "#travel_time_df_belgian_centroids_belgian_routes_from_Belgium_Switzerland"
   ]
  },
  {
   "cell_type": "code",
   "execution_count": null,
   "metadata": {
    "colab": {
     "base_uri": "https://localhost:8080/",
     "height": 0
    },
    "executionInfo": {
     "elapsed": 636071,
     "status": "ok",
     "timestamp": 1617437816806,
     "user": {
      "displayName": "Ine Winters",
      "photoUrl": "",
      "userId": "11267554535649979995"
     },
     "user_tz": -120
    },
    "id": "Q03f8WYZABSM",
    "outputId": "724d9f6e-5ff2-4b0b-feb1-11d8dd96a2eb"
   },
   "outputs": [],
   "source": [
    "# To get the dataframe with the Swiss and the Belgian nearest neighbors searched with the Belgian centroids\n",
    "travel_time_df_belgian_centroids_from_Belgium_Switzerland =     pd.merge(travel_time_df_belgian_centroids_swiss_routes, travel_time_df_belgian_centroids_belgian_routes_from_Belgium_Switzerland[['centroid', 'avg_travel_time_nearest_neighbors_centroid']], \n",
    "                    left_index = True, right_index = True, \n",
    "                    suffixes=('_Swiss_neighbors', '_Belgian_neighbors'), on='centroid',\n",
    "                    how='inner')\n",
    "travel_time_df_belgian_centroids_from_Belgium_Switzerland"
   ]
  },
  {
   "cell_type": "markdown",
   "metadata": {
    "id": "D7yq3K5b33ei"
   },
   "source": [
    "Swiss centroids and Belgian and Swiss nearest neighbors"
   ]
  },
  {
   "cell_type": "code",
   "execution_count": null,
   "metadata": {
    "executionInfo": {
     "elapsed": 636301,
     "status": "ok",
     "timestamp": 1617437817040,
     "user": {
      "displayName": "Ine Winters",
      "photoUrl": "",
      "userId": "11267554535649979995"
     },
     "user_tz": -120
    },
    "id": "hMXnTaIfDMzz"
   },
   "outputs": [],
   "source": [
    "#Swiss centroids with Belgian nearest neighbors\n",
    "travel_time_df_swiss_centroids_belgian_routes = get_the_average_travel_time(scaled_clustering_cluster_groups_5D_Switzerland_from_Belgium_Switzerland, route_characteristics_Switzerland, k_nearest_neighbors_df_swiss_centroids_belgian_routes, swiss_routes_Switzerland, belgian_routes_Belgium)\n",
    "#travel_time_df_swiss_centroids_belgian_routes"
   ]
  },
  {
   "cell_type": "code",
   "execution_count": null,
   "metadata": {
    "colab": {
     "base_uri": "https://localhost:8080/"
    },
    "executionInfo": {
     "elapsed": 637913,
     "status": "ok",
     "timestamp": 1617437818665,
     "user": {
      "displayName": "Ine Winters",
      "photoUrl": "",
      "userId": "11267554535649979995"
     },
     "user_tz": -120
    },
    "id": "Kc4z980fDNNq",
    "outputId": "47f62d06-4116-4e7d-d8ec-4defff7c2ecc"
   },
   "outputs": [],
   "source": [
    "#To search the Swiss nearest neighbors with the Swiss centroids\n",
    "k_nearest_neighbors_df_swiss_centroids_swiss_routes_from_Belgium_Switzerland = search_k_nearest_neighbors_of_centroids(cluster_centroids_5D_Switzerland_from_Belgium_Switzerland, scaled_clustering_df_Switzerland_from_Belgium_Switzerland, route_characteristics_Switzerland)\n",
    "#k_nearest_neighbors_df_swiss_centroids_swiss_routes_from_Belgium_Switzerland"
   ]
  },
  {
   "cell_type": "code",
   "execution_count": null,
   "metadata": {
    "executionInfo": {
     "elapsed": 638226,
     "status": "ok",
     "timestamp": 1617437819009,
     "user": {
      "displayName": "Ine Winters",
      "photoUrl": "",
      "userId": "11267554535649979995"
     },
     "user_tz": -120
    },
    "id": "NgLtiAQeDNgV"
   },
   "outputs": [],
   "source": [
    "# To search the avg_travel_time of the Swiss nearest neighbors\n",
    "travel_time_df_swiss_centroids_swiss_routes_from_Belgium_Switzerland = get_the_average_travel_time(scaled_clustering_cluster_groups_5D_Switzerland_from_Belgium_Switzerland, route_characteristics_Switzerland, k_nearest_neighbors_df_swiss_centroids_swiss_routes_from_Belgium_Switzerland, swiss_routes_Switzerland, swiss_routes_Switzerland)\n",
    "#travel_time_df_swiss_centroids_swiss_routes_from_Belgium_Switzerland"
   ]
  },
  {
   "cell_type": "code",
   "execution_count": null,
   "metadata": {
    "colab": {
     "base_uri": "https://localhost:8080/",
     "height": 0
    },
    "executionInfo": {
     "elapsed": 638221,
     "status": "ok",
     "timestamp": 1617437819010,
     "user": {
      "displayName": "Ine Winters",
      "photoUrl": "",
      "userId": "11267554535649979995"
     },
     "user_tz": -120
    },
    "id": "WMCiUdWRDNxl",
    "outputId": "f284f346-ec79-4b6b-ffd3-56203a349c1c"
   },
   "outputs": [],
   "source": [
    "# To get the dataframe with the Belgian and the Swiss nearest neighbors searched with the Swiss centroids\n",
    "travel_time_df_swiss_centroids_from_Belgium_Switzerland =     pd.merge(travel_time_df_swiss_centroids_belgian_routes, travel_time_df_swiss_centroids_swiss_routes_from_Belgium_Switzerland[['centroid', 'avg_travel_time_nearest_neighbors_centroid']], \n",
    "                    left_index = True, right_index = True, \n",
    "                    suffixes=('_Belgian_neighbors', '_Swiss_neighbors'), on='centroid',\n",
    "                    how='inner')\n",
    "travel_time_df_swiss_centroids_from_Belgium_Switzerland"
   ]
  },
  {
   "cell_type": "markdown",
   "metadata": {
    "id": "Z_8agFG95Dxc"
   },
   "source": [
    "Dutch centroids and Swiss and Dutch nearest neighbors"
   ]
  },
  {
   "cell_type": "code",
   "execution_count": null,
   "metadata": {
    "executionInfo": {
     "elapsed": 638221,
     "status": "ok",
     "timestamp": 1617437819014,
     "user": {
      "displayName": "Ine Winters",
      "photoUrl": "",
      "userId": "11267554535649979995"
     },
     "user_tz": -120
    },
    "id": "FwjMRcWE0Wy7"
   },
   "outputs": [],
   "source": [
    "#Dutch centroids with Swiss nearest neighbors\n",
    "travel_time_df_dutch_centroids_swiss_routes = get_the_average_travel_time(scaled_clustering_cluster_groups_5D_Netherlands_from_Netherlands_Switzerland, route_characteristics_Netherlands, k_nearest_neighbors_df_dutch_centroids_swiss_routes, dutch_routes_Netherlands, swiss_routes_Switzerland)\n",
    "#travel_time_df_dutch_centroids_swiss_routes"
   ]
  },
  {
   "cell_type": "code",
   "execution_count": null,
   "metadata": {
    "colab": {
     "base_uri": "https://localhost:8080/"
    },
    "executionInfo": {
     "elapsed": 638239,
     "status": "ok",
     "timestamp": 1617437819036,
     "user": {
      "displayName": "Ine Winters",
      "photoUrl": "",
      "userId": "11267554535649979995"
     },
     "user_tz": -120
    },
    "id": "jw4-9UGu0Y0L",
    "outputId": "aa08717e-a095-49c5-bb84-4262f615c41b"
   },
   "outputs": [],
   "source": [
    "#To search the Dutch nearest neighbors with the Dutch centroid\n",
    "k_nearest_neighbors_df_dutch_centroids_dutch_routes_from_Netherlands_Switzerland = search_k_nearest_neighbors_of_centroids(cluster_centroids_5D_Netherlands_from_Netherlands_Switzerland, scaled_clustering_df_Netherlands_from_Netherlands_Switzerland, route_characteristics_Netherlands)\n",
    "#k_nearest_neighbors_df_dutch_centroids_dutch_routes_from_Netherlands_Switzerland"
   ]
  },
  {
   "cell_type": "code",
   "execution_count": null,
   "metadata": {
    "executionInfo": {
     "elapsed": 638214,
     "status": "ok",
     "timestamp": 1617437819037,
     "user": {
      "displayName": "Ine Winters",
      "photoUrl": "",
      "userId": "11267554535649979995"
     },
     "user_tz": -120
    },
    "id": "H6jDGdAo0a_s"
   },
   "outputs": [],
   "source": [
    "# To search the avg_travel_time of the Dutch nearest neighbors\n",
    "travel_time_df_dutch_centroids_dutch_routes_from_Netherlands_Switzerland = get_the_average_travel_time(scaled_clustering_cluster_groups_5D_Netherlands_from_Netherlands_Switzerland, route_characteristics_Netherlands, k_nearest_neighbors_df_dutch_centroids_dutch_routes_from_Netherlands_Switzerland, dutch_routes_Netherlands, dutch_routes_Netherlands)\n",
    "#travel_time_df_dutch_centroids_dutch_routes_from_Netherlands_Switzerland"
   ]
  },
  {
   "cell_type": "code",
   "execution_count": null,
   "metadata": {
    "colab": {
     "base_uri": "https://localhost:8080/",
     "height": 0
    },
    "executionInfo": {
     "elapsed": 638211,
     "status": "ok",
     "timestamp": 1617437819038,
     "user": {
      "displayName": "Ine Winters",
      "photoUrl": "",
      "userId": "11267554535649979995"
     },
     "user_tz": -120
    },
    "id": "3mSvvR7Q0c-b",
    "outputId": "139fd3a4-4a95-4f6e-ff5e-0deb7408f58f"
   },
   "outputs": [],
   "source": [
    "# To get the dataframe with the Swiss and the Dutch nearest neighbors searched with the Dutch centroids\n",
    "travel_time_df_dutch_centroids_from_Netherlands_Switzerland =     pd.merge(travel_time_df_dutch_centroids_swiss_routes, travel_time_df_dutch_centroids_dutch_routes_from_Netherlands_Switzerland[['centroid', 'avg_travel_time_nearest_neighbors_centroid']], \n",
    "                    left_index = True, right_index = True, \n",
    "                    suffixes=('_Swiss_neighbors', '_Dutch_neighbors'), on='centroid',\n",
    "                    how='inner')\n",
    "travel_time_df_dutch_centroids_from_Netherlands_Switzerland"
   ]
  },
  {
   "cell_type": "markdown",
   "metadata": {
    "id": "e-3ssKZV5HMI"
   },
   "source": [
    "Swiss centroids and Dutch and Swiss neighbors"
   ]
  },
  {
   "cell_type": "code",
   "execution_count": null,
   "metadata": {
    "executionInfo": {
     "elapsed": 638342,
     "status": "ok",
     "timestamp": 1617437819174,
     "user": {
      "displayName": "Ine Winters",
      "photoUrl": "",
      "userId": "11267554535649979995"
     },
     "user_tz": -120
    },
    "id": "P14St8XhJpWD"
   },
   "outputs": [],
   "source": [
    "#Swiss centroids with Dutch nearest neighbors\n",
    "travel_time_df_swiss_centroids_dutch_routes = get_the_average_travel_time(scaled_clustering_cluster_groups_5D_Switzerland_from_Netherlands_Switzerland, route_characteristics_Switzerland, k_nearest_neighbors_df_swiss_centroids_dutch_routes, swiss_routes_Switzerland, dutch_routes_Netherlands)\n",
    "#travel_time_df_swiss_centroids_dutch_routes"
   ]
  },
  {
   "cell_type": "code",
   "execution_count": null,
   "metadata": {
    "colab": {
     "base_uri": "https://localhost:8080/"
    },
    "executionInfo": {
     "elapsed": 640078,
     "status": "ok",
     "timestamp": 1617437820914,
     "user": {
      "displayName": "Ine Winters",
      "photoUrl": "",
      "userId": "11267554535649979995"
     },
     "user_tz": -120
    },
    "id": "bSqWmo5MJpph",
    "outputId": "e922309f-92c5-4bb9-c9e4-c1c8d7684d71"
   },
   "outputs": [],
   "source": [
    "#To search the Swiss nearest neighbors with the Swiss centroids\n",
    "k_nearest_neighbors_df_swiss_centroids_swiss_routes_from_Netherlands_Switzerland = search_k_nearest_neighbors_of_centroids(cluster_centroids_5D_Switzerland_from_Netherlands_Switzerland, scaled_clustering_df_Switzerland_from_Netherlands_Switzerland, route_characteristics_Switzerland)\n",
    "#k_nearest_neighbors_df_swiss_centroids_swiss_routes_from_Netherlands_Switzerland"
   ]
  },
  {
   "cell_type": "code",
   "execution_count": null,
   "metadata": {
    "executionInfo": {
     "elapsed": 640063,
     "status": "ok",
     "timestamp": 1617437820920,
     "user": {
      "displayName": "Ine Winters",
      "photoUrl": "",
      "userId": "11267554535649979995"
     },
     "user_tz": -120
    },
    "id": "a6XcIkyuJp8I"
   },
   "outputs": [],
   "source": [
    "# To search the avg_travel_time of the Swiss nearest neighbors\n",
    "travel_time_df_swiss_centroids_swiss_routes_from_Netherlands_Switzerland = get_the_average_travel_time(scaled_clustering_cluster_groups_5D_Switzerland_from_Netherlands_Switzerland, route_characteristics_Switzerland, k_nearest_neighbors_df_swiss_centroids_swiss_routes_from_Netherlands_Switzerland, swiss_routes_Switzerland, swiss_routes_Switzerland)\n",
    "#travel_time_df_swiss_centroids_swiss_routes_from_Netherlands_Switzerland"
   ]
  },
  {
   "cell_type": "code",
   "execution_count": null,
   "metadata": {
    "colab": {
     "base_uri": "https://localhost:8080/",
     "height": 0
    },
    "executionInfo": {
     "elapsed": 639987,
     "status": "ok",
     "timestamp": 1617437820927,
     "user": {
      "displayName": "Ine Winters",
      "photoUrl": "",
      "userId": "11267554535649979995"
     },
     "user_tz": -120
    },
    "id": "w2fvHO_jJqS8",
    "outputId": "a83ac5cf-00c2-4a25-e28c-4b5d65deb35a"
   },
   "outputs": [],
   "source": [
    "# To get the dataframe with the Dutch and the Swiss nearest neighbors searched with the Swiss centroids\n",
    "travel_time_df_swiss_centroids_from_Netherlands_Switzerland =     pd.merge(travel_time_df_swiss_centroids_dutch_routes, travel_time_df_swiss_centroids_swiss_routes_from_Netherlands_Switzerland[['centroid', 'avg_travel_time_nearest_neighbors_centroid']], \n",
    "                    left_index = True, right_index = True, \n",
    "                    suffixes=('_Dutch_neighbors', '_Swiss_neighbors'), on='centroid',\n",
    "                    how='inner')\n",
    "travel_time_df_swiss_centroids_from_Netherlands_Switzerland"
   ]
  }
 ],
 "metadata": {
  "colab": {
   "collapsed_sections": [],
   "name": "Main_analysis.ipynb",
   "provenance": []
  },
  "kernelspec": {
   "display_name": "Python 3",
   "language": "python",
   "name": "python3"
  },
  "language_info": {
   "codemirror_mode": {
    "name": "ipython",
    "version": 3
   },
   "file_extension": ".py",
   "mimetype": "text/x-python",
   "name": "python",
   "nbconvert_exporter": "python",
   "pygments_lexer": "ipython3",
   "version": "3.8.5"
  }
 },
 "nbformat": 4,
 "nbformat_minor": 1
}
