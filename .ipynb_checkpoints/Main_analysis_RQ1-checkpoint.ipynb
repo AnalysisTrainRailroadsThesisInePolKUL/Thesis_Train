{
 "cells": [
  {
   "cell_type": "markdown",
   "metadata": {},
   "source": [
    "# Import of packages"
   ]
  },
  {
   "cell_type": "code",
   "execution_count": 1,
   "metadata": {},
   "outputs": [
    {
     "name": "stdout",
     "output_type": "stream",
     "text": [
      "Requirement already satisfied: kneed in /Users/pol/opt/anaconda3/lib/python3.8/site-packages (0.7.0)\n",
      "Requirement already satisfied: matplotlib in /Users/pol/opt/anaconda3/lib/python3.8/site-packages (from kneed) (3.1.3)\n",
      "Requirement already satisfied: numpy>=1.14.2 in /Users/pol/opt/anaconda3/lib/python3.8/site-packages (from kneed) (1.19.2)\n",
      "Requirement already satisfied: scipy in /Users/pol/opt/anaconda3/lib/python3.8/site-packages (from kneed) (1.5.2)\n",
      "Requirement already satisfied: cycler>=0.10 in /Users/pol/opt/anaconda3/lib/python3.8/site-packages (from matplotlib->kneed) (0.10.0)\n",
      "Requirement already satisfied: kiwisolver>=1.0.1 in /Users/pol/opt/anaconda3/lib/python3.8/site-packages (from matplotlib->kneed) (1.3.0)\n",
      "Requirement already satisfied: pyparsing!=2.0.4,!=2.1.2,!=2.1.6,>=2.0.1 in /Users/pol/opt/anaconda3/lib/python3.8/site-packages (from matplotlib->kneed) (2.4.7)\n",
      "Requirement already satisfied: python-dateutil>=2.1 in /Users/pol/opt/anaconda3/lib/python3.8/site-packages (from matplotlib->kneed) (2.8.1)\n",
      "Requirement already satisfied: six in /Users/pol/opt/anaconda3/lib/python3.8/site-packages (from cycler>=0.10->matplotlib->kneed) (1.15.0)\n",
      "Requirement already satisfied: osmnx in /Users/pol/opt/anaconda3/lib/python3.8/site-packages (1.0.1)\n",
      "Requirement already satisfied: pyproj>=2.6 in /Users/pol/opt/anaconda3/lib/python3.8/site-packages (from osmnx) (3.0.0.post1)\n",
      "Requirement already satisfied: pandas>=1.1 in /Users/pol/opt/anaconda3/lib/python3.8/site-packages (from osmnx) (1.1.3)\n",
      "Collecting matplotlib>=3.3\n",
      "  Using cached matplotlib-3.3.4-cp38-cp38-macosx_10_9_x86_64.whl (8.5 MB)\n",
      "Requirement already satisfied: Rtree>=0.9 in /Users/pol/opt/anaconda3/lib/python3.8/site-packages (from osmnx) (0.9.4)\n",
      "Requirement already satisfied: numpy>=1.19 in /Users/pol/opt/anaconda3/lib/python3.8/site-packages (from osmnx) (1.19.2)\n",
      "Requirement already satisfied: geopandas>=0.8 in /Users/pol/opt/anaconda3/lib/python3.8/site-packages (from osmnx) (0.8.2)\n",
      "Requirement already satisfied: descartes>=1.1 in /Users/pol/opt/anaconda3/lib/python3.8/site-packages (from osmnx) (1.1.0)\n",
      "Requirement already satisfied: requests>=2.25 in /Users/pol/opt/anaconda3/lib/python3.8/site-packages (from osmnx) (2.25.1)\n",
      "Requirement already satisfied: Shapely>=1.7 in /Users/pol/opt/anaconda3/lib/python3.8/site-packages (from osmnx) (1.7.1)\n",
      "Requirement already satisfied: networkx>=2.5 in /Users/pol/opt/anaconda3/lib/python3.8/site-packages (from osmnx) (2.5)\n",
      "Requirement already satisfied: certifi in /Users/pol/opt/anaconda3/lib/python3.8/site-packages (from pyproj>=2.6->osmnx) (2020.6.20)\n",
      "Requirement already satisfied: python-dateutil>=2.7.3 in /Users/pol/opt/anaconda3/lib/python3.8/site-packages (from pandas>=1.1->osmnx) (2.8.1)\n",
      "Requirement already satisfied: pytz>=2017.2 in /Users/pol/opt/anaconda3/lib/python3.8/site-packages (from pandas>=1.1->osmnx) (2020.1)\n",
      "Requirement already satisfied: kiwisolver>=1.0.1 in /Users/pol/opt/anaconda3/lib/python3.8/site-packages (from matplotlib>=3.3->osmnx) (1.3.0)\n",
      "Requirement already satisfied: pillow>=6.2.0 in /Users/pol/opt/anaconda3/lib/python3.8/site-packages (from matplotlib>=3.3->osmnx) (8.0.1)\n",
      "Requirement already satisfied: cycler>=0.10 in /Users/pol/opt/anaconda3/lib/python3.8/site-packages (from matplotlib>=3.3->osmnx) (0.10.0)\n",
      "Requirement already satisfied: pyparsing!=2.0.4,!=2.1.2,!=2.1.6,>=2.0.3 in /Users/pol/opt/anaconda3/lib/python3.8/site-packages (from matplotlib>=3.3->osmnx) (2.4.7)\n",
      "Requirement already satisfied: setuptools in /Users/pol/opt/anaconda3/lib/python3.8/site-packages (from Rtree>=0.9->osmnx) (50.3.1.post20201107)\n",
      "Requirement already satisfied: fiona in /Users/pol/opt/anaconda3/lib/python3.8/site-packages (from geopandas>=0.8->osmnx) (1.8.18)\n",
      "Requirement already satisfied: chardet<5,>=3.0.2 in /Users/pol/opt/anaconda3/lib/python3.8/site-packages (from requests>=2.25->osmnx) (3.0.4)\n",
      "Requirement already satisfied: idna<3,>=2.5 in /Users/pol/opt/anaconda3/lib/python3.8/site-packages (from requests>=2.25->osmnx) (2.10)\n",
      "Requirement already satisfied: urllib3<1.27,>=1.21.1 in /Users/pol/opt/anaconda3/lib/python3.8/site-packages (from requests>=2.25->osmnx) (1.25.11)\n",
      "Requirement already satisfied: decorator>=4.3.0 in /Users/pol/opt/anaconda3/lib/python3.8/site-packages (from networkx>=2.5->osmnx) (4.4.2)\n",
      "Requirement already satisfied: six>=1.5 in /Users/pol/opt/anaconda3/lib/python3.8/site-packages (from python-dateutil>=2.7.3->pandas>=1.1->osmnx) (1.15.0)\n",
      "Requirement already satisfied: click-plugins>=1.0 in /Users/pol/opt/anaconda3/lib/python3.8/site-packages (from fiona->geopandas>=0.8->osmnx) (1.1.1)\n",
      "Requirement already satisfied: cligj>=0.5 in /Users/pol/opt/anaconda3/lib/python3.8/site-packages (from fiona->geopandas>=0.8->osmnx) (0.7.1)\n",
      "Requirement already satisfied: munch in /Users/pol/opt/anaconda3/lib/python3.8/site-packages (from fiona->geopandas>=0.8->osmnx) (2.5.0)\n",
      "Requirement already satisfied: attrs>=17 in /Users/pol/opt/anaconda3/lib/python3.8/site-packages (from fiona->geopandas>=0.8->osmnx) (20.3.0)\n",
      "Requirement already satisfied: click<8,>=4.0 in /Users/pol/opt/anaconda3/lib/python3.8/site-packages (from fiona->geopandas>=0.8->osmnx) (7.1.2)\n",
      "Installing collected packages: matplotlib\n",
      "  Attempting uninstall: matplotlib\n",
      "    Found existing installation: matplotlib 3.1.3\n",
      "    Uninstalling matplotlib-3.1.3:\n",
      "      Successfully uninstalled matplotlib-3.1.3\n",
      "Successfully installed matplotlib-3.3.4\n",
      "Collecting matplotlib==3.1.3\n",
      "  Using cached matplotlib-3.1.3-cp38-cp38-macosx_10_9_x86_64.whl (13.2 MB)\n",
      "Requirement already satisfied: python-dateutil>=2.1 in /Users/pol/opt/anaconda3/lib/python3.8/site-packages (from matplotlib==3.1.3) (2.8.1)\n",
      "Requirement already satisfied: cycler>=0.10 in /Users/pol/opt/anaconda3/lib/python3.8/site-packages (from matplotlib==3.1.3) (0.10.0)\n",
      "Requirement already satisfied: pyparsing!=2.0.4,!=2.1.2,!=2.1.6,>=2.0.1 in /Users/pol/opt/anaconda3/lib/python3.8/site-packages (from matplotlib==3.1.3) (2.4.7)\n",
      "Requirement already satisfied: numpy>=1.11 in /Users/pol/opt/anaconda3/lib/python3.8/site-packages (from matplotlib==3.1.3) (1.19.2)\n",
      "Requirement already satisfied: kiwisolver>=1.0.1 in /Users/pol/opt/anaconda3/lib/python3.8/site-packages (from matplotlib==3.1.3) (1.3.0)\n",
      "Requirement already satisfied: six>=1.5 in /Users/pol/opt/anaconda3/lib/python3.8/site-packages (from python-dateutil>=2.1->matplotlib==3.1.3) (1.15.0)\n",
      "Installing collected packages: matplotlib\n",
      "  Attempting uninstall: matplotlib\n",
      "    Found existing installation: matplotlib 3.3.4\n",
      "    Uninstalling matplotlib-3.3.4:\n",
      "      Successfully uninstalled matplotlib-3.3.4\n",
      "\u001b[31mERROR: After October 2020 you may experience errors when installing or updating packages. This is because pip will change the way that it resolves dependency conflicts.\n",
      "\n",
      "We recommend you use --use-feature=2020-resolver to test your packages with the new resolver before it becomes the default.\n",
      "\n",
      "osmnx 1.0.1 requires matplotlib>=3.3, but you'll have matplotlib 3.1.3 which is incompatible.\u001b[0m\n",
      "Successfully installed matplotlib-3.1.3\n"
     ]
    }
   ],
   "source": [
    "'''To install the required packages that are not included in Colaboratory.'''\n",
    "#Installation of packages that are not included in Colaboratory\n",
    "!pip install kneed\n",
    "!pip install osmnx\n",
    "\n",
    "'''To install a specific version of the matplotlib package.'''\n",
    "!pip install matplotlib==3.1.3\n",
    "\n",
    "'''To import the required packages.'''\n",
    "import pandas as pd\n",
    "import numpy as np\n",
    "import networkx as nx\n",
    "import collections\n",
    "import matplotlib.pyplot as plt\n",
    "import math\n",
    "from geopy.geocoders import Nominatim\n",
    "from geopy.extra.rate_limiter import RateLimiter\n",
    "\n",
    "from kneed import KneeLocator\n",
    "import seaborn as sns\n",
    "from sklearn.cluster import KMeans\n",
    "from sklearn.preprocessing import StandardScaler\n",
    "from sklearn.pipeline import Pipeline\n",
    "from sklearn.preprocessing import LabelEncoder, MinMaxScaler\n",
    "from sklearn.decomposition import PCA\n",
    "\n",
    "#import osmnx as ox"
   ]
  },
  {
   "cell_type": "markdown",
   "metadata": {},
   "source": [
    "# Settings"
   ]
  },
  {
   "cell_type": "code",
   "execution_count": 2,
   "metadata": {},
   "outputs": [],
   "source": [
    "'''To display all output results of a Jupyter cell.'''\n",
    "from IPython.core.interactiveshell import InteractiveShell\n",
    "InteractiveShell.ast_node_interactivity = \"all\""
   ]
  },
  {
   "cell_type": "code",
   "execution_count": 3,
   "metadata": {},
   "outputs": [
    {
     "data": {
      "text/plain": [
       "'To ensure that the output results of extensive output results are not truncated.'"
      ]
     },
     "execution_count": 3,
     "metadata": {},
     "output_type": "execute_result"
    }
   ],
   "source": [
    "'''To ensure that the output results of extensive output results are not truncated.'''\n",
    "#pd.options.display.max_rows = 4000"
   ]
  },
  {
   "cell_type": "markdown",
   "metadata": {},
   "source": [
    "# To import csv files"
   ]
  },
  {
   "cell_type": "code",
   "execution_count": 6,
   "metadata": {},
   "outputs": [
    {
     "data": {
      "text/plain": [
       "' To import the df_for_edges dfs of Belgium and the Netherlands'"
      ]
     },
     "execution_count": 6,
     "metadata": {},
     "output_type": "execute_result"
    },
    {
     "data": {
      "text/html": [
       "<div>\n",
       "<style scoped>\n",
       "    .dataframe tbody tr th:only-of-type {\n",
       "        vertical-align: middle;\n",
       "    }\n",
       "\n",
       "    .dataframe tbody tr th {\n",
       "        vertical-align: top;\n",
       "    }\n",
       "\n",
       "    .dataframe thead th {\n",
       "        text-align: right;\n",
       "    }\n",
       "</style>\n",
       "<table border=\"1\" class=\"dataframe\">\n",
       "  <thead>\n",
       "    <tr style=\"text-align: right;\">\n",
       "      <th></th>\n",
       "      <th>route_id</th>\n",
       "      <th>stop_name_1</th>\n",
       "      <th>stop_name_2</th>\n",
       "    </tr>\n",
       "  </thead>\n",
       "  <tbody>\n",
       "    <tr>\n",
       "      <th>0</th>\n",
       "      <td>115</td>\n",
       "      <td>MOUSCRON</td>\n",
       "      <td>HERSEAUX</td>\n",
       "    </tr>\n",
       "    <tr>\n",
       "      <th>1</th>\n",
       "      <td>115</td>\n",
       "      <td>HERSEAUX</td>\n",
       "      <td>FROYENNES</td>\n",
       "    </tr>\n",
       "    <tr>\n",
       "      <th>2</th>\n",
       "      <td>115</td>\n",
       "      <td>FROYENNES</td>\n",
       "      <td>TOURNAI</td>\n",
       "    </tr>\n",
       "    <tr>\n",
       "      <th>3</th>\n",
       "      <td>116</td>\n",
       "      <td>KNOKKE</td>\n",
       "      <td>DUINBERGEN</td>\n",
       "    </tr>\n",
       "    <tr>\n",
       "      <th>4</th>\n",
       "      <td>116</td>\n",
       "      <td>DUINBERGEN</td>\n",
       "      <td>HEIST</td>\n",
       "    </tr>\n",
       "    <tr>\n",
       "      <th>...</th>\n",
       "      <td>...</td>\n",
       "      <td>...</td>\n",
       "      <td>...</td>\n",
       "    </tr>\n",
       "    <tr>\n",
       "      <th>11210</th>\n",
       "      <td>785</td>\n",
       "      <td>NOORDERKEMPEN (BRECHT)</td>\n",
       "      <td>BREDA (NL)</td>\n",
       "    </tr>\n",
       "    <tr>\n",
       "      <th>11211</th>\n",
       "      <td>785</td>\n",
       "      <td>BREDA (NL)</td>\n",
       "      <td>ROTTERDAM CS (NL)</td>\n",
       "    </tr>\n",
       "    <tr>\n",
       "      <th>11212</th>\n",
       "      <td>785</td>\n",
       "      <td>ROTTERDAM CS (NL)</td>\n",
       "      <td>DEN HAAG HS (NL)</td>\n",
       "    </tr>\n",
       "    <tr>\n",
       "      <th>11213</th>\n",
       "      <td>785</td>\n",
       "      <td>DEN HAAG HS (NL)</td>\n",
       "      <td>SCHIPHOL (NL)</td>\n",
       "    </tr>\n",
       "    <tr>\n",
       "      <th>11214</th>\n",
       "      <td>785</td>\n",
       "      <td>SCHIPHOL (NL)</td>\n",
       "      <td>AMSTERDAM CS (NL)</td>\n",
       "    </tr>\n",
       "  </tbody>\n",
       "</table>\n",
       "<p>11215 rows × 3 columns</p>\n",
       "</div>"
      ],
      "text/plain": [
       "       route_id             stop_name_1        stop_name_2\n",
       "0           115                MOUSCRON           HERSEAUX\n",
       "1           115                HERSEAUX          FROYENNES\n",
       "2           115               FROYENNES            TOURNAI\n",
       "3           116                  KNOKKE         DUINBERGEN\n",
       "4           116              DUINBERGEN              HEIST\n",
       "...         ...                     ...                ...\n",
       "11210       785  NOORDERKEMPEN (BRECHT)         BREDA (NL)\n",
       "11211       785              BREDA (NL)  ROTTERDAM CS (NL)\n",
       "11212       785       ROTTERDAM CS (NL)   DEN HAAG HS (NL)\n",
       "11213       785        DEN HAAG HS (NL)      SCHIPHOL (NL)\n",
       "11214       785           SCHIPHOL (NL)  AMSTERDAM CS (NL)\n",
       "\n",
       "[11215 rows x 3 columns]"
      ]
     },
     "execution_count": 6,
     "metadata": {},
     "output_type": "execute_result"
    },
    {
     "data": {
      "text/html": [
       "<div>\n",
       "<style scoped>\n",
       "    .dataframe tbody tr th:only-of-type {\n",
       "        vertical-align: middle;\n",
       "    }\n",
       "\n",
       "    .dataframe tbody tr th {\n",
       "        vertical-align: top;\n",
       "    }\n",
       "\n",
       "    .dataframe thead th {\n",
       "        text-align: right;\n",
       "    }\n",
       "</style>\n",
       "<table border=\"1\" class=\"dataframe\">\n",
       "  <thead>\n",
       "    <tr style=\"text-align: right;\">\n",
       "      <th></th>\n",
       "      <th>route_id</th>\n",
       "      <th>stop_name_1</th>\n",
       "      <th>stop_name_2</th>\n",
       "    </tr>\n",
       "  </thead>\n",
       "  <tbody>\n",
       "    <tr>\n",
       "      <th>0</th>\n",
       "      <td>17522</td>\n",
       "      <td>AMSTERDAM CENTRAAL</td>\n",
       "      <td>SCHIPHOL AIRPORT</td>\n",
       "    </tr>\n",
       "    <tr>\n",
       "      <th>1</th>\n",
       "      <td>17522</td>\n",
       "      <td>SCHIPHOL AIRPORT</td>\n",
       "      <td>ROTTERDAM CENTRAAL</td>\n",
       "    </tr>\n",
       "    <tr>\n",
       "      <th>2</th>\n",
       "      <td>17562</td>\n",
       "      <td>ROTTERDAM CENTRAAL</td>\n",
       "      <td>ROTTERDAM ALEXANDER</td>\n",
       "    </tr>\n",
       "    <tr>\n",
       "      <th>3</th>\n",
       "      <td>17562</td>\n",
       "      <td>ROTTERDAM ALEXANDER</td>\n",
       "      <td>GOUDA</td>\n",
       "    </tr>\n",
       "    <tr>\n",
       "      <th>4</th>\n",
       "      <td>17562</td>\n",
       "      <td>GOUDA</td>\n",
       "      <td>UTRECHT CENTRAAL</td>\n",
       "    </tr>\n",
       "    <tr>\n",
       "      <th>...</th>\n",
       "      <td>...</td>\n",
       "      <td>...</td>\n",
       "      <td>...</td>\n",
       "    </tr>\n",
       "    <tr>\n",
       "      <th>1585</th>\n",
       "      <td>77642</td>\n",
       "      <td>BRUSSELS AIRPORT - ZAVENTEM</td>\n",
       "      <td>MECHELEN</td>\n",
       "    </tr>\n",
       "    <tr>\n",
       "      <th>1586</th>\n",
       "      <td>77642</td>\n",
       "      <td>MECHELEN</td>\n",
       "      <td>ANTWERPEN-BERCHEM</td>\n",
       "    </tr>\n",
       "    <tr>\n",
       "      <th>1587</th>\n",
       "      <td>77642</td>\n",
       "      <td>ANTWERPEN-BERCHEM</td>\n",
       "      <td>ANTWERPEN-CENTRAAL</td>\n",
       "    </tr>\n",
       "    <tr>\n",
       "      <th>1588</th>\n",
       "      <td>77642</td>\n",
       "      <td>ANTWERPEN-CENTRAAL</td>\n",
       "      <td>NOORDERKEMPEN</td>\n",
       "    </tr>\n",
       "    <tr>\n",
       "      <th>1589</th>\n",
       "      <td>77642</td>\n",
       "      <td>NOORDERKEMPEN</td>\n",
       "      <td>BREDA</td>\n",
       "    </tr>\n",
       "  </tbody>\n",
       "</table>\n",
       "<p>1590 rows × 3 columns</p>\n",
       "</div>"
      ],
      "text/plain": [
       "      route_id                  stop_name_1          stop_name_2\n",
       "0        17522           AMSTERDAM CENTRAAL     SCHIPHOL AIRPORT\n",
       "1        17522             SCHIPHOL AIRPORT   ROTTERDAM CENTRAAL\n",
       "2        17562           ROTTERDAM CENTRAAL  ROTTERDAM ALEXANDER\n",
       "3        17562          ROTTERDAM ALEXANDER                GOUDA\n",
       "4        17562                        GOUDA     UTRECHT CENTRAAL\n",
       "...        ...                          ...                  ...\n",
       "1585     77642  BRUSSELS AIRPORT - ZAVENTEM             MECHELEN\n",
       "1586     77642                     MECHELEN    ANTWERPEN-BERCHEM\n",
       "1587     77642            ANTWERPEN-BERCHEM   ANTWERPEN-CENTRAAL\n",
       "1588     77642           ANTWERPEN-CENTRAAL        NOORDERKEMPEN\n",
       "1589     77642                NOORDERKEMPEN                BREDA\n",
       "\n",
       "[1590 rows x 3 columns]"
      ]
     },
     "execution_count": 6,
     "metadata": {},
     "output_type": "execute_result"
    },
    {
     "data": {
      "text/html": [
       "<div>\n",
       "<style scoped>\n",
       "    .dataframe tbody tr th:only-of-type {\n",
       "        vertical-align: middle;\n",
       "    }\n",
       "\n",
       "    .dataframe tbody tr th {\n",
       "        vertical-align: top;\n",
       "    }\n",
       "\n",
       "    .dataframe thead th {\n",
       "        text-align: right;\n",
       "    }\n",
       "</style>\n",
       "<table border=\"1\" class=\"dataframe\">\n",
       "  <thead>\n",
       "    <tr style=\"text-align: right;\">\n",
       "      <th></th>\n",
       "      <th>route_id</th>\n",
       "      <th>stop_name_1</th>\n",
       "      <th>stop_name_2</th>\n",
       "    </tr>\n",
       "  </thead>\n",
       "  <tbody>\n",
       "    <tr>\n",
       "      <th>0</th>\n",
       "      <td>00001.000044.018:1</td>\n",
       "      <td>LES BRENETS</td>\n",
       "      <td>LES FRETES</td>\n",
       "    </tr>\n",
       "    <tr>\n",
       "      <th>1</th>\n",
       "      <td>00001.000044.018:1</td>\n",
       "      <td>LES FRETES</td>\n",
       "      <td>LE LOCLE LE CHALET</td>\n",
       "    </tr>\n",
       "    <tr>\n",
       "      <th>2</th>\n",
       "      <td>00001.000044.018:1</td>\n",
       "      <td>LE LOCLE LE CHALET</td>\n",
       "      <td>LE LOCLE</td>\n",
       "    </tr>\n",
       "    <tr>\n",
       "      <th>3</th>\n",
       "      <td>00001.000044.028:1</td>\n",
       "      <td>LES BRENETS</td>\n",
       "      <td>LES FRETES</td>\n",
       "    </tr>\n",
       "    <tr>\n",
       "      <th>4</th>\n",
       "      <td>00001.000044.028:1</td>\n",
       "      <td>LES FRETES</td>\n",
       "      <td>LE LOCLE LE CHALET</td>\n",
       "    </tr>\n",
       "    <tr>\n",
       "      <th>...</th>\n",
       "      <td>...</td>\n",
       "      <td>...</td>\n",
       "      <td>...</td>\n",
       "    </tr>\n",
       "    <tr>\n",
       "      <th>349821</th>\n",
       "      <td>96812.000011.101:96812</td>\n",
       "      <td>BELLEGARDE (AIN)</td>\n",
       "      <td>LYON PART DIEU</td>\n",
       "    </tr>\n",
       "    <tr>\n",
       "      <th>349822</th>\n",
       "      <td>96814.000011.101:96814</td>\n",
       "      <td>GENEVE</td>\n",
       "      <td>BELLEGARDE (AIN)</td>\n",
       "    </tr>\n",
       "    <tr>\n",
       "      <th>349823</th>\n",
       "      <td>96814.000011.101:96814</td>\n",
       "      <td>BELLEGARDE (AIN)</td>\n",
       "      <td>LYON PART DIEU</td>\n",
       "    </tr>\n",
       "    <tr>\n",
       "      <th>349824</th>\n",
       "      <td>96818.000011.101:96818</td>\n",
       "      <td>GENEVE</td>\n",
       "      <td>BELLEGARDE (AIN)</td>\n",
       "    </tr>\n",
       "    <tr>\n",
       "      <th>349825</th>\n",
       "      <td>96818.000011.101:96818</td>\n",
       "      <td>BELLEGARDE (AIN)</td>\n",
       "      <td>LYON PART DIEU</td>\n",
       "    </tr>\n",
       "  </tbody>\n",
       "</table>\n",
       "<p>349826 rows × 3 columns</p>\n",
       "</div>"
      ],
      "text/plain": [
       "                      route_id         stop_name_1         stop_name_2\n",
       "0           00001.000044.018:1         LES BRENETS          LES FRETES\n",
       "1           00001.000044.018:1          LES FRETES  LE LOCLE LE CHALET\n",
       "2           00001.000044.018:1  LE LOCLE LE CHALET            LE LOCLE\n",
       "3           00001.000044.028:1         LES BRENETS          LES FRETES\n",
       "4           00001.000044.028:1          LES FRETES  LE LOCLE LE CHALET\n",
       "...                        ...                 ...                 ...\n",
       "349821  96812.000011.101:96812    BELLEGARDE (AIN)      LYON PART DIEU\n",
       "349822  96814.000011.101:96814              GENEVE    BELLEGARDE (AIN)\n",
       "349823  96814.000011.101:96814    BELLEGARDE (AIN)      LYON PART DIEU\n",
       "349824  96818.000011.101:96818              GENEVE    BELLEGARDE (AIN)\n",
       "349825  96818.000011.101:96818    BELLEGARDE (AIN)      LYON PART DIEU\n",
       "\n",
       "[349826 rows x 3 columns]"
      ]
     },
     "execution_count": 6,
     "metadata": {},
     "output_type": "execute_result"
    }
   ],
   "source": [
    "''' To import the df_for_edges dfs of Belgium and the Netherlands'''\n",
    "datalink = \"https://raw.githubusercontent.com/polkuleuven/Thesis_Train/main/df_for_edges/\"\n",
    "df_for_edges = pd.read_csv( datalink + 'df_for_edges_Belgium.csv', sep=\",\")\n",
    "df_for_edges_Netherlands = pd.read_csv(datalink + 'df_for_edges_Netherlands.csv', sep=\",\")\n",
    "df_for_edges_Switzerland = pd.read_csv(datalink + 'df_for_edges_Switzerland.csv', sep=\",\")\n",
    "df_for_edges\n",
    "df_for_edges_Netherlands\n",
    "df_for_edges_Switzerland"
   ]
  },
  {
   "cell_type": "code",
   "execution_count": null,
   "metadata": {},
   "outputs": [],
   "source": [
    "''' To import the stops_cleaned df for Belgium and the Netherlands'''\n",
    "datalink = \"https://raw.githubusercontent.com/polkuleuven/Thesis_Train/main/stops_cleaned/\"\n",
    "stops_cleaned = pd.read_csv(datalink + 'stops_cleaned_Belgium.csv', sep=\",\")\n",
    "stops_cleaned_Netherlands = pd.read_csv(datalink + 'stops_cleaned_Netherlands.csv', sep=\",\")\n",
    "stops_cleaned_Switzerland = pd.read_csv(datalink + 'stops_cleaned_Switzerland.csv', sep=\",\")\n",
    "stops_cleaned\n",
    "stops_cleaned_Netherlands\n",
    "stops_cleaned_Switzerland"
   ]
  },
  {
   "cell_type": "raw",
   "metadata": {},
   "source": [
    "# The df_for_edges csv's are not yet up-to-date \n",
    "\n",
    "''' To import the df_for_edges csv files of the Belgian and the Dutch railway system '''\n",
    "\n",
    "datalink = \"https://raw.githubusercontent.com/polkuleuven/Thesis_Train/main/df_for_edges/\"\n",
    "df_for_edges = pd.read_csv(datalink + \"df_for_edges_Belgium.csv\", sep=\",\")\n",
    "df_for_edges_Netherlands = pd.read_csv(datalink + \"df_for_edges_Netherlands.csv\", sep=\",\")\n",
    "\n",
    "df_for_edges\n",
    "df_for_edges_Netherlands "
   ]
  },
  {
   "cell_type": "markdown",
   "metadata": {},
   "source": [
    "# **Research question 1: How similar are railway systems in terms of their global network metrics? Comparison of the Belgian and the Dutch railway system in L-space representation**"
   ]
  },
  {
   "cell_type": "markdown",
   "metadata": {},
   "source": [
    "## **Calculation of the global characteristics of the Belgian railway system in the L-space representation**"
   ]
  },
  {
   "cell_type": "code",
   "execution_count": null,
   "metadata": {},
   "outputs": [],
   "source": [
    "''' To construct the network graph for Belgium '''\n",
    "B = nx.Graph()\n",
    "B = nx.from_pandas_edgelist(df_for_edges, 'stop_name_1', 'stop_name_2')"
   ]
  },
  {
   "cell_type": "code",
   "execution_count": null,
   "metadata": {},
   "outputs": [],
   "source": [
    "''' To assign weights to the network graph for Belgium'''\n",
    "# To assign node weights to graph\n",
    "for i in range(len(stops_cleaned)):\n",
    "    for n, d in B.nodes(data=True):\n",
    "        if stops_cleaned.stop_name[i] == n:\n",
    "            B.nodes[n]['id']=stops_cleaned.stop_id[i];\n",
    "            B.nodes[n]['latitude']=stops_cleaned.stop_lat[i];\n",
    "            B.nodes[n]['longitude']=stops_cleaned.stop_lon[i];\n",
    "            B.nodes[n]['country']=stops_cleaned.country[i];\n",
    "            \n",
    "B.nodes(data=True)\n",
    "\n",
    "# To assign edge weights to the graph: the edge weight represents a list that contains all route_ids that cover that edge\n",
    "routes_on_edge = {}\n",
    "for node1,node2, nodeData in B.edges(data = True):\n",
    "    if (node1, node2) not in routes_on_edge:\n",
    "            routes_on_edge[(node1, node2)] = set()\n",
    "    route_id_node1_node2= df_for_edges[(df_for_edges['stop_name_1'] == node1 ) & (df_for_edges['stop_name_2'] == node2 )]['route_id']\n",
    "    route_id_node2_node1= df_for_edges[(df_for_edges['stop_name_1'] == node2 ) & (df_for_edges['stop_name_2'] == node1 )]['route_id']\n",
    "    for route_id in pd.concat([route_id_node1_node2, route_id_node2_node1]):\n",
    "        routes_on_edge[(node1, node2)].add(route_id)\n",
    "    nodeData['route_id'] = routes_on_edge[(node1, node2)] \n",
    "\n",
    "B.edges(data=True)"
   ]
  },
  {
   "cell_type": "code",
   "execution_count": null,
   "metadata": {},
   "outputs": [],
   "source": [
    "''' The number of nodes in the Belgian railway system '''\n",
    "# The number of total nodes in the Belgian railway system that consists of all routes that contain at least one node in Belgium\n",
    "len(B.nodes())\n",
    "\n",
    "# The number of belgian nodes in the Belgian railway system that consists of all routes that contain at least one node in Belgium\n",
    "number_belgian_stations = 0\n",
    "for n, d in B.nodes(data=True):\n",
    "    if B.nodes[n]['country']=='Belgium':\n",
    "        number_belgian_stations += 1\n",
    "\n",
    "number_belgian_stations"
   ]
  },
  {
   "cell_type": "code",
   "execution_count": null,
   "metadata": {},
   "outputs": [],
   "source": [
    "B.degree()"
   ]
  },
  {
   "cell_type": "code",
   "execution_count": null,
   "metadata": {},
   "outputs": [],
   "source": [
    "''' The average degree of the nodes in the Belgian railway system indicating the number of directions \n",
    "a commuter can take from that given station.'''\n",
    "# The average degree of all the nodes in the Belgian railway system that consists of all routes that cover at least one belgian station\n",
    "sum = 0\n",
    "for n in B.nodes():\n",
    "    sum = sum + B.degree[n]\n",
    "print(sum/len(B.nodes()))\n",
    "\n",
    "# The average degree of all the nodes in the Belgian railway system if only the belgian stations are considered\n",
    "sum = 0\n",
    "number_belgian_stations = 0\n",
    "for n, d in B.nodes(data=True):\n",
    "    if B.nodes[n]['country']=='Belgium':\n",
    "        number_belgian_stations += 1\n",
    "        sum = sum + B.degree[n]\n",
    "print(sum/number_belgian_stations)"
   ]
  },
  {
   "cell_type": "code",
   "execution_count": null,
   "metadata": {},
   "outputs": [],
   "source": [
    "''' The number of edges in the Belgian railway system '''\n",
    "len(B.edges())"
   ]
  },
  {
   "cell_type": "code",
   "execution_count": null,
   "metadata": {},
   "outputs": [],
   "source": [
    "''' The gamma index of the Belgian railway system'''\n",
    "gamma_index = len(B.edges()) / (3*(len(B.nodes()) - 2))\n",
    "gamma_index"
   ]
  },
  {
   "cell_type": "code",
   "execution_count": null,
   "metadata": {},
   "outputs": [],
   "source": [
    "''' The mean local clustering coefficient of the Belgian railway system '''\n",
    "#The mean local clustering coefficient indicates for a random station the estimation of the division of the number of neighbouring stations of a station that are connected \n",
    "# divided by the possible number of connections between the neighbours of that station\n",
    "print (\"mean local clustering:\", nx.average_clustering(B))"
   ]
  },
  {
   "cell_type": "code",
   "execution_count": null,
   "metadata": {},
   "outputs": [],
   "source": [
    "''' The degree distribution of the Belgian railway system'''\n",
    "\n",
    "#Sort degree values\n",
    "degree_sequence=sorted([d for n, d in B.degree()], reverse=True)\n",
    "\n",
    "#Count number of frequences of degree values\n",
    "degreeCount=collections.Counter(degree_sequence)\n",
    "\n",
    "#Define variables deg and cnt and probability\n",
    "deg, cnt = zip(*degreeCount.items())\n",
    "probability = []\n",
    "for v in cnt:\n",
    "    pv= v/len(B.nodes())\n",
    "    probability.append(pv)\n",
    "\n",
    "#plot degree probability histogram\n",
    "fig, ax = plt.subplots(figsize=(5, 5))\n",
    "plt.bar(deg, probability, width=0.95, color='lightgrey')\n",
    "\n",
    "#plot degree distribution\n",
    "plt.plot(deg, probability, color=\"b\")\n",
    "\n",
    "#graph settings\n",
    "plt.title(\"Degree distribution\")\n",
    "plt.ylabel(\"P (k)\")\n",
    "plt.xlabel(\"k\")\n",
    "ax.set_xticks([d for d in deg])\n",
    "ax.set_xticklabels(deg)\n",
    "\n",
    "#count\n",
    "fig, ax = plt.subplots(figsize=(5, 5))\n",
    "plt.bar(deg, cnt, width=0.95, color='lightgrey')\n",
    "\n",
    "plt.plot(deg, cnt, color=\"b\")\n",
    "\n",
    "#graph settings\n",
    "plt.title(\"Degree count\")\n",
    "plt.ylabel(\"Count\")\n",
    "plt.xlabel(\"k\")\n",
    "ax.set_xticks([d for d in deg])\n",
    "ax.set_xticklabels(deg)\n",
    "\n",
    "plt.show()"
   ]
  },
  {
   "cell_type": "code",
   "execution_count": null,
   "metadata": {},
   "outputs": [],
   "source": [
    "''' Detection of the scale-free property in the Belgian railway system:\n",
    "A PTN with the scale-free property consists of a large number of vertices that exhibit low degree and a few number of vertices that exhibit very high degree. '''\n",
    "print(\"The scale-free property is present in the Belgian railway network because the majority of nodes exhibit a low degree value equal to 2 and almost none of the nodes exhibit a degree value equal to 5 or higher\")"
   ]
  },
  {
   "cell_type": "code",
   "execution_count": null,
   "metadata": {},
   "outputs": [],
   "source": [
    "''' The average path length of the Belgian railway system:\n",
    "The average path length represents in the L-space the average of all the shortest paths to be transversed between all public transport stop pairs\n",
    "which can be reached by means of one or multiple routes.'''\n",
    "print(nx.average_shortest_path_length(B))"
   ]
  },
  {
   "cell_type": "code",
   "execution_count": null,
   "metadata": {},
   "outputs": [],
   "source": [
    "''' The assortativity of the Belgian railway system:\n",
    "In an assortative network, high-degree vertices tend to be connected and low-degree vertices tend to stick together as well. \n",
    "In a disassortative network conversely, high-degree and low-degree vertices tend to be connected to each other instead of being connected to vertices of the same kind.'''\n",
    "print(nx.degree_pearson_correlation_coefficient(B))"
   ]
  },
  {
   "cell_type": "markdown",
   "metadata": {},
   "source": [
    "## **Calculation of the global characteristics of the Dutch railway system in the L-space representation**"
   ]
  },
  {
   "cell_type": "code",
   "execution_count": null,
   "metadata": {},
   "outputs": [],
   "source": [
    "''' To construct the network graph for the Netherlands '''\n",
    "N = nx.Graph()\n",
    "N = nx.from_pandas_edgelist(df_for_edges_Netherlands, 'stop_name_1', 'stop_name_2')"
   ]
  },
  {
   "cell_type": "code",
   "execution_count": null,
   "metadata": {},
   "outputs": [],
   "source": [
    "''' To assign weights to the network graph for the Netherlands'''\n",
    "# To assign node weights to graph\n",
    "for i in range(len(stops_cleaned_Netherlands)):\n",
    "    for n, d in N.nodes(data=True):\n",
    "        if stops_cleaned_Netherlands.stop_name[i] == n:\n",
    "            N.nodes[n]['latitude']=stops_cleaned_Netherlands.stop_lat[i];\n",
    "            N.nodes[n]['longitude']=stops_cleaned_Netherlands.stop_lon[i];\n",
    "            N.nodes[n]['country']=stops_cleaned_Netherlands.country[i];\n",
    "            \n",
    "N.nodes(data=True)\n",
    "\n",
    "# To assign edge weights to the graph: the edge weight represents a list that contains all route_ids that cover that edge\n",
    "routes_on_edge = {}\n",
    "for node1,node2, nodeData in N.edges(data = True):\n",
    "    if (node1, node2) not in routes_on_edge:\n",
    "            routes_on_edge[(node1, node2)] = set()\n",
    "    route_id_node1_node2= df_for_edges_Netherlands[(df_for_edges_Netherlands['stop_name_1'] == node1 ) & (df_for_edges_Netherlands['stop_name_2'] == node2 )]['route_id']\n",
    "    route_id_node2_node1= df_for_edges_Netherlands[(df_for_edges_Netherlands['stop_name_1'] == node2 ) & (df_for_edges_Netherlands['stop_name_2'] == node1 )]['route_id']\n",
    "    for route_id in pd.concat([route_id_node1_node2, route_id_node2_node1]):\n",
    "        routes_on_edge[(node1, node2)].add(route_id)\n",
    "    nodeData['route_id'] = routes_on_edge[(node1, node2)] \n",
    "\n",
    "N.edges(data=True)"
   ]
  },
  {
   "cell_type": "code",
   "execution_count": null,
   "metadata": {},
   "outputs": [],
   "source": [
    "''' The number of nodes in the Dutch railway system '''\n",
    "# The number of total nodes in the Dutch railway system that consists of all routes that contain at least one node in the Netherlands\n",
    "len(N.nodes())\n",
    "\n",
    "# The number of belgian nodes in the Dutch railway system that consists of all routes that contain at least one node in the Netherlands\n",
    "number_dutch_stations = 0\n",
    "for n, d in N.nodes(data=True):\n",
    "    if N.nodes[n]['country']=='Netherlands':\n",
    "        number_dutch_stations += 1\n",
    "\n",
    "number_dutch_stations"
   ]
  },
  {
   "cell_type": "code",
   "execution_count": null,
   "metadata": {},
   "outputs": [],
   "source": [
    "''' The degrees of the nodes in the Dutch railway system '''\n",
    "N.degree()"
   ]
  },
  {
   "cell_type": "code",
   "execution_count": null,
   "metadata": {},
   "outputs": [],
   "source": [
    "''' The average degree of the nodes in the Dutch railway system indicating the number of directions \n",
    "a commuter can take from that given station.'''\n",
    "# The average degree of all the nodes in the Dutch railway system that consists of all routes that cover at least one dutch station\n",
    "sum = 0\n",
    "for n in N.nodes():\n",
    "    sum = sum + N.degree[n]\n",
    "print(sum/len(N.nodes()))\n",
    "\n",
    "# The average degree of all the nodes in the Dutch railway system if only the dutch stations are considered\n",
    "sum = 0\n",
    "number_dutch_stations = 0\n",
    "for n, d in N.nodes(data=True):\n",
    "    if N.nodes[n]['country']=='Netherlands':\n",
    "        number_dutch_stations += 1\n",
    "        sum = sum + N.degree[n]\n",
    "print(sum/number_dutch_stations)"
   ]
  },
  {
   "cell_type": "code",
   "execution_count": null,
   "metadata": {},
   "outputs": [],
   "source": [
    "''' The number of edges in the Dutch railway system '''\n",
    "len(N.edges())"
   ]
  },
  {
   "cell_type": "code",
   "execution_count": null,
   "metadata": {},
   "outputs": [],
   "source": [
    "''' The gamma index of the Dutch railway system'''\n",
    "gamma_index = len(N.edges()) / (3*(len(N.nodes()) - 2))\n",
    "gamma_index"
   ]
  },
  {
   "cell_type": "code",
   "execution_count": null,
   "metadata": {},
   "outputs": [],
   "source": [
    "''' The mean local clustering coefficient of the Dutch railway system '''\n",
    "#The mean local clustering coefficient indicates for a random station the estimation of the division of the number of neighbouring stations of a station that are connected \n",
    "# divided by the possible number of connections between the neighbours of that station\n",
    "print (\"mean local clustering:\", nx.average_clustering(N))"
   ]
  },
  {
   "cell_type": "code",
   "execution_count": null,
   "metadata": {},
   "outputs": [],
   "source": [
    "''' The degree distribution of the Dutch railway system'''\n",
    "\n",
    "#Sort degree values\n",
    "degree_sequence=sorted([d for n, d in N.degree()], reverse=True)\n",
    "\n",
    "#Count number of frequences of degree values\n",
    "degreeCount=collections.Counter(degree_sequence)\n",
    "\n",
    "#Define variables deg and cnt and probability\n",
    "deg, cnt = zip(*degreeCount.items())\n",
    "probability = []\n",
    "for v in cnt:\n",
    "    pv= v/len(N.nodes())\n",
    "    probability.append(pv)\n",
    "\n",
    "#plot degree probability histogram\n",
    "fig, ax = plt.subplots(figsize=(5, 5))\n",
    "plt.bar(deg, probability, width=0.95, color='lightgrey')\n",
    "\n",
    "#plot degree distribution\n",
    "plt.plot(deg, probability, color=\"b\")\n",
    "\n",
    "#graph settings\n",
    "plt.title(\"Degree distribution\")\n",
    "plt.ylabel(\"P (k)\")\n",
    "plt.xlabel(\"k\")\n",
    "ax.set_xticks([d for d in deg])\n",
    "ax.set_xticklabels(deg)\n",
    "\n",
    "#count\n",
    "fig, ax = plt.subplots(figsize=(5, 5))\n",
    "plt.bar(deg, cnt, width=0.95, color='lightgrey')\n",
    "\n",
    "plt.plot(deg, cnt, color=\"b\")\n",
    "\n",
    "#graph settings\n",
    "plt.title(\"Degree count\")\n",
    "plt.ylabel(\"Count\")\n",
    "plt.xlabel(\"k\")\n",
    "ax.set_xticks([d for d in deg])\n",
    "ax.set_xticklabels(deg)\n",
    "\n",
    "plt.show()"
   ]
  },
  {
   "cell_type": "code",
   "execution_count": null,
   "metadata": {},
   "outputs": [],
   "source": [
    "''' Detection of the scale-free property in the Dutch railway system:\n",
    "A PTN with the scale-free property consists of a large number of vertices that exhibit low degree and a few number of vertices that exhibit very high degree. '''\n",
    "print(\"The scale-free property is present in the Dutch railway network because the majority of nodes exhibit a low degree value equal to 2 and almost none of the nodes exhibit a degree value equal to 6 or higher\")"
   ]
  },
  {
   "cell_type": "code",
   "execution_count": null,
   "metadata": {},
   "outputs": [],
   "source": [
    "''' The average path length of the Dutch railway system:\n",
    "The average path length represents in the L-space the average of all the shortest paths to be transversed between all public transport stop pairs\n",
    "which can be reached by means of one or multiple routes.'''\n",
    "print(nx.average_shortest_path_length(N))"
   ]
  },
  {
   "cell_type": "code",
   "execution_count": null,
   "metadata": {},
   "outputs": [],
   "source": [
    "''' The assortativity of the Dutch railway system:\n",
    "In an assortative network, high-degree vertices tend to be connected and low-degree vertices tend to stick together as well. \n",
    "In a disassortative network conversely, high-degree and low-degree vertices tend to be connected to each other instead of being connected to vertices of the same kind.'''\n",
    "print(nx.degree_pearson_correlation_coefficient(N))"
   ]
  },
  {
   "cell_type": "markdown",
   "metadata": {},
   "source": [
    "## **Calculation of the global characteristics of the Swiss railway system in the L-space representation**"
   ]
  },
  {
   "cell_type": "code",
   "execution_count": null,
   "metadata": {},
   "outputs": [],
   "source": [
    "''' To construct the network graph for Switzerland '''\n",
    "S = nx.Graph()\n",
    "S = nx.from_pandas_edgelist(df_for_edges_Switzerland, 'stop_name_1', 'stop_name_2')"
   ]
  },
  {
   "cell_type": "code",
   "execution_count": null,
   "metadata": {},
   "outputs": [],
   "source": [
    "''' To assign weights to the network graph for Switzerland'''\n",
    "# To assign node weights to graph\n",
    "for i in range(len(stops_cleaned_Switzerland)):\n",
    "    for n, d in S.nodes(data=True):\n",
    "        if stops_cleaned_Switzerland.stop_name[i] == n:\n",
    "            S.nodes[n]['latitude']=stops_cleaned_Switzerland.stop_lat[i];\n",
    "            S.nodes[n]['longitude']=stops_cleaned_Switzerland.stop_lon[i];\n",
    "            S.nodes[n]['country']=stops_cleaned_Switzerland.country[i];\n",
    "            \n",
    "S.nodes(data=True)\n",
    "\n",
    "# To assign edge weights to the graph: the edge weight represents a list that contains all route_ids that cover that edge\n",
    "routes_on_edge = {}\n",
    "for node1,node2, nodeData in S.edges(data = True):\n",
    "    if (node1, node2) not in routes_on_edge:\n",
    "            routes_on_edge[(node1, node2)] = set()\n",
    "    route_id_node1_node2= df_for_edges_Switzerland[(df_for_edges_Switzerland['stop_name_1'] == node1 ) & (df_for_edges_Switzerland['stop_name_2'] == node2 )]['route_id']\n",
    "    route_id_node2_node1= df_for_edges_Switzerland[(df_for_edges_Switzerland['stop_name_1'] == node2 ) & (df_for_edges_Switzerland['stop_name_2'] == node1 )]['route_id']\n",
    "    for route_id in pd.concat([route_id_node1_node2, route_id_node2_node1]):\n",
    "        routes_on_edge[(node1, node2)].add(route_id)\n",
    "    nodeData['route_id'] = routes_on_edge[(node1, node2)] \n",
    "\n",
    "S.edges(data=True)"
   ]
  },
  {
   "cell_type": "code",
   "execution_count": null,
   "metadata": {},
   "outputs": [],
   "source": [
    "''' The number of nodes in the Swiss railway system '''\n",
    "# The number of total nodes in the Swiss railway system that consists of all routes that contain at least one node in the Netherlands\n",
    "len(S.nodes())\n",
    "\n",
    "# The number of belgian nodes in the Swiss railway system that consists of all routes that contain at least one node in the Netherlands\n",
    "number_swiss_stations = 0\n",
    "for n, d in S.nodes(data=True):\n",
    "    if S.nodes[n]['country']=='Switzerland':\n",
    "        number_swiss_stations += 1\n",
    "\n",
    "number_swiss_stations"
   ]
  },
  {
   "cell_type": "code",
   "execution_count": null,
   "metadata": {},
   "outputs": [],
   "source": [
    "''' The degrees of the nodes in the Swiss railway system '''\n",
    "S.degree()"
   ]
  },
  {
   "cell_type": "code",
   "execution_count": null,
   "metadata": {},
   "outputs": [],
   "source": [
    "''' The average degree of the nodes in the Swiss railway system indicating the number of directions \n",
    "a commuter can take from that given station.'''\n",
    "# The average degree of all the nodes in the Swiss railway system that consists of all routes that cover at least one Swiss station\n",
    "sum = 0\n",
    "for n in S.nodes():\n",
    "    sum = sum + S.degree[n]\n",
    "print(sum/len(S.nodes()))\n",
    "\n",
    "# The average degree of all the nodes in the Swiss railway system if only the Swiss stations are considered\n",
    "sum = 0\n",
    "number_swiss_stations = 0\n",
    "for n, d in S.nodes(data=True):\n",
    "    if S.nodes[n]['country']=='Switzerland':\n",
    "        number_swiss_stations += 1\n",
    "        sum = sum + S.degree[n]\n",
    "print(sum/number_swiss_stations)"
   ]
  },
  {
   "cell_type": "code",
   "execution_count": null,
   "metadata": {},
   "outputs": [],
   "source": [
    "''' The number of edges in the Swiss railway system '''\n",
    "len(S.edges())"
   ]
  },
  {
   "cell_type": "code",
   "execution_count": null,
   "metadata": {},
   "outputs": [],
   "source": [
    "''' The gamma index of the Swiss railway system'''\n",
    "gamma_index = len(S.edges()) / (3*(len(S.nodes()) - 2))\n",
    "gamma_index"
   ]
  },
  {
   "cell_type": "code",
   "execution_count": null,
   "metadata": {},
   "outputs": [],
   "source": [
    "''' The mean local clustering coefficient of the Swiss railway system '''\n",
    "#The mean local clustering coefficient indicates for a random station the estimation of the division of the number of neighbouring stations of a station that are connected \n",
    "# divided by the possible number of connections between the neighbours of that station\n",
    "print (\"mean local clustering:\", nx.average_clustering(S))"
   ]
  },
  {
   "cell_type": "code",
   "execution_count": null,
   "metadata": {},
   "outputs": [],
   "source": [
    "''' The degree distribution of the Swiss railway system'''\n",
    "\n",
    "#Sort degree values\n",
    "degree_sequence=sorted([d for n, d in S.degree()], reverse=True)\n",
    "\n",
    "#Count number of frequences of degree values\n",
    "degreeCount=collections.Counter(degree_sequence)\n",
    "\n",
    "#Define variables deg and cnt and probability\n",
    "deg, cnt = zip(*degreeCount.items())\n",
    "probability = []\n",
    "for v in cnt:\n",
    "    pv= v/len(S.nodes())\n",
    "    probability.append(pv)\n",
    "\n",
    "#plot degree probability histogram\n",
    "fig, ax = plt.subplots(figsize=(5, 5))\n",
    "plt.bar(deg, probability, width=0.95, color='lightgrey')\n",
    "\n",
    "#plot degree distribution\n",
    "plt.plot(deg, probability, color=\"b\")\n",
    "\n",
    "#graph settings\n",
    "plt.title(\"Degree distribution\")\n",
    "plt.ylabel(\"P (k)\")\n",
    "plt.xlabel(\"k\")\n",
    "ax.set_xticks([d for d in deg])\n",
    "ax.set_xticklabels(deg)\n",
    "\n",
    "#count\n",
    "fig, ax = plt.subplots(figsize=(5, 5))\n",
    "plt.bar(deg, cnt, width=0.95, color='lightgrey')\n",
    "\n",
    "plt.plot(deg, cnt, color=\"b\")\n",
    "\n",
    "#graph settings\n",
    "plt.title(\"Degree count\")\n",
    "plt.ylabel(\"Count\")\n",
    "plt.xlabel(\"k\")\n",
    "ax.set_xticks([d for d in deg])\n",
    "ax.set_xticklabels(deg)\n",
    "\n",
    "plt.show()"
   ]
  },
  {
   "cell_type": "code",
   "execution_count": null,
   "metadata": {},
   "outputs": [],
   "source": [
    "''' Detection of the scale-free property in the Swiss railway system:\n",
    "A PTN with the scale-free property consists of a large number of vertices that exhibit low degree and a few number of vertices that exhibit very high degree. '''\n",
    "print(\"The scale-free property is present in the Swiss railway network because the majority of nodes exhibit a low degree value equal to 2 and almost none of the nodes exhibit a degree value equal to 5 or higher\")"
   ]
  },
  {
   "cell_type": "code",
   "execution_count": null,
   "metadata": {},
   "outputs": [],
   "source": [
    "''' The average path length of the Swiss railway system:\n",
    "The average path length represents in the L-space the average of all the shortest paths to be transversed between all public transport stop pairs\n",
    "which can be reached by means of one or multiple routes.'''\n",
    "print(nx.average_shortest_path_length(S))"
   ]
  },
  {
   "cell_type": "code",
   "execution_count": null,
   "metadata": {},
   "outputs": [],
   "source": [
    "''' The assortativity of the Swiss railway system:\n",
    "In an assortative network, high-degree vertices tend to be connected and low-degree vertices tend to stick together as well. \n",
    "In a disassortative network conversely, high-degree and low-degree vertices tend to be connected to each other instead of being connected to vertices of the same kind.'''\n",
    "print(nx.degree_pearson_correlation_coefficient(S))"
   ]
  },
  {
   "cell_type": "markdown",
   "metadata": {},
   "source": [
    "# To export the railway graphs"
   ]
  },
  {
   "cell_type": "code",
   "execution_count": null,
   "metadata": {},
   "outputs": [],
   "source": [
    "nx.write_gpickle(B, \"B_graph\")\n",
    "nx.write_gpickle(N, \"N_graph\")\n",
    "nx.write_gpickle(S, \"S_graph\")"
   ]
  }
 ],
 "metadata": {
  "kernelspec": {
   "display_name": "Python 3",
   "language": "python",
   "name": "python3"
  },
  "language_info": {
   "codemirror_mode": {
    "name": "ipython",
    "version": 3
   },
   "file_extension": ".py",
   "mimetype": "text/x-python",
   "name": "python",
   "nbconvert_exporter": "python",
   "pygments_lexer": "ipython3",
   "version": "3.8.5"
  }
 },
 "nbformat": 4,
 "nbformat_minor": 4
}
