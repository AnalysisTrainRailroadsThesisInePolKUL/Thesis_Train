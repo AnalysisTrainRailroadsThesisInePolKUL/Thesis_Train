{
 "cells": [
  {
   "cell_type": "markdown",
   "metadata": {},
   "source": [
    "# Import of packages"
   ]
  },
  {
   "cell_type": "code",
   "execution_count": 1,
   "metadata": {},
   "outputs": [
    {
     "name": "stdout",
     "output_type": "stream",
     "text": [
      "Requirement already satisfied: kneed in c:\\users\\jos\\anaconda3\\lib\\site-packages (0.7.0)\n",
      "Requirement already satisfied: matplotlib in c:\\users\\jos\\anaconda3\\lib\\site-packages (from kneed) (3.1.3)\n",
      "Requirement already satisfied: scipy in c:\\users\\jos\\anaconda3\\lib\\site-packages (from kneed) (1.5.0)\n",
      "Requirement already satisfied: numpy>=1.14.2 in c:\\users\\jos\\anaconda3\\lib\\site-packages (from kneed) (1.18.5)\n",
      "Requirement already satisfied: cycler>=0.10 in c:\\users\\jos\\anaconda3\\lib\\site-packages (from matplotlib->kneed) (0.10.0)\n",
      "Requirement already satisfied: python-dateutil>=2.1 in c:\\users\\jos\\anaconda3\\lib\\site-packages (from matplotlib->kneed) (2.8.1)\n",
      "Requirement already satisfied: kiwisolver>=1.0.1 in c:\\users\\jos\\anaconda3\\lib\\site-packages (from matplotlib->kneed) (1.2.0)\n",
      "Requirement already satisfied: pyparsing!=2.0.4,!=2.1.2,!=2.1.6,>=2.0.1 in c:\\users\\jos\\anaconda3\\lib\\site-packages (from matplotlib->kneed) (2.4.7)\n",
      "Requirement already satisfied: six in c:\\users\\jos\\anaconda3\\lib\\site-packages (from cycler>=0.10->matplotlib->kneed) (1.15.0)\n",
      "Collecting osmnx\n",
      "  Using cached osmnx-1.0.1-py2.py3-none-any.whl (87 kB)\n",
      "Collecting geopandas>=0.8\n",
      "  Using cached geopandas-0.9.0-py2.py3-none-any.whl (994 kB)\n",
      "Collecting pandas>=1.1\n",
      "  Using cached pandas-1.2.3-cp38-cp38-win_amd64.whl (9.3 MB)\n",
      "Collecting descartes>=1.1\n",
      "  Using cached descartes-1.1.0-py3-none-any.whl (5.8 kB)\n",
      "Requirement already satisfied: networkx>=2.5 in c:\\users\\jos\\anaconda3\\lib\\site-packages (from osmnx) (2.5)\n",
      "Collecting requests>=2.25\n",
      "  Using cached requests-2.25.1-py2.py3-none-any.whl (61 kB)\n",
      "Collecting pyproj>=2.6\n",
      "  Using cached pyproj-3.0.1-cp38-cp38-win_amd64.whl (14.5 MB)\n",
      "Collecting numpy>=1.19\n",
      "  Using cached numpy-1.20.1-cp38-cp38-win_amd64.whl (13.7 MB)\n",
      "Collecting Shapely>=1.7\n",
      "  Using cached Shapely-1.7.1-cp38-cp38-win_amd64.whl (1.0 MB)\n",
      "Requirement already satisfied: Rtree>=0.9 in c:\\users\\jos\\anaconda3\\lib\\site-packages (from osmnx) (0.9.4)\n",
      "Collecting matplotlib>=3.3\n",
      "  Using cached matplotlib-3.3.4-cp38-cp38-win_amd64.whl (8.5 MB)\n"
     ]
    },
    {
     "name": "stderr",
     "output_type": "stream",
     "text": [
      "    ERROR: Command errored out with exit status 1:\n",
      "     command: 'C:\\Users\\Jos\\anaconda3\\python.exe' -c 'import sys, setuptools, tokenize; sys.argv[0] = '\"'\"'C:\\\\Users\\\\Jos\\\\AppData\\\\Local\\\\Temp\\\\pip-install-zabayrvd\\\\fiona\\\\setup.py'\"'\"'; __file__='\"'\"'C:\\\\Users\\\\Jos\\\\AppData\\\\Local\\\\Temp\\\\pip-install-zabayrvd\\\\fiona\\\\setup.py'\"'\"';f=getattr(tokenize, '\"'\"'open'\"'\"', open)(__file__);code=f.read().replace('\"'\"'\\r\\n'\"'\"', '\"'\"'\\n'\"'\"');f.close();exec(compile(code, __file__, '\"'\"'exec'\"'\"'))' egg_info --egg-base 'C:\\Users\\Jos\\AppData\\Local\\Temp\\pip-pip-egg-info-3m9h0vf8'\n",
      "         cwd: C:\\Users\\Jos\\AppData\\Local\\Temp\\pip-install-zabayrvd\\fiona\\\n",
      "    Complete output (1 lines):\n",
      "    A GDAL API version must be specified. Provide a path to gdal-config using a GDAL_CONFIG environment variable or use a GDAL_VERSION environment variable.\n",
      "    ----------------------------------------\n",
      "ERROR: Command errored out with exit status 1: python setup.py egg_info Check the logs for full command output.\n"
     ]
    },
    {
     "name": "stdout",
     "output_type": "stream",
     "text": [
      "Collecting fiona>=1.8\n",
      "  Using cached Fiona-1.8.18.tar.gz (1.3 MB)\n",
      "Requirement already satisfied: matplotlib==3.1.3 in c:\\users\\jos\\anaconda3\\lib\\site-packages (3.1.3)\n",
      "Requirement already satisfied: kiwisolver>=1.0.1 in c:\\users\\jos\\anaconda3\\lib\\site-packages (from matplotlib==3.1.3) (1.2.0)\n",
      "Requirement already satisfied: pyparsing!=2.0.4,!=2.1.2,!=2.1.6,>=2.0.1 in c:\\users\\jos\\anaconda3\\lib\\site-packages (from matplotlib==3.1.3) (2.4.7)\n",
      "Requirement already satisfied: numpy>=1.11 in c:\\users\\jos\\anaconda3\\lib\\site-packages (from matplotlib==3.1.3) (1.18.5)\n",
      "Requirement already satisfied: cycler>=0.10 in c:\\users\\jos\\anaconda3\\lib\\site-packages (from matplotlib==3.1.3) (0.10.0)\n",
      "Requirement already satisfied: python-dateutil>=2.1 in c:\\users\\jos\\anaconda3\\lib\\site-packages (from matplotlib==3.1.3) (2.8.1)\n",
      "Requirement already satisfied: six in c:\\users\\jos\\anaconda3\\lib\\site-packages (from cycler>=0.10->matplotlib==3.1.3) (1.15.0)\n"
     ]
    }
   ],
   "source": [
    "'''To install the required packages that are not included in Colaboratory.'''\n",
    "#Installation of packages that are not included in Colaboratory\n",
    "!pip install kneed\n",
    "!pip install osmnx\n",
    "\n",
    "'''To install a specific version of the matplotlib package.'''\n",
    "!pip install matplotlib==3.1.3\n",
    "\n",
    "'''To import the required packages.'''\n",
    "import pandas as pd\n",
    "import numpy as np\n",
    "import networkx as nx\n",
    "import collections\n",
    "import matplotlib.pyplot as plt\n",
    "import math\n",
    "from geopy.geocoders import Nominatim\n",
    "from geopy.extra.rate_limiter import RateLimiter\n",
    "\n",
    "from kneed import KneeLocator\n",
    "import seaborn as sns\n",
    "from sklearn.cluster import KMeans\n",
    "from sklearn.preprocessing import StandardScaler\n",
    "from sklearn.pipeline import Pipeline\n",
    "from sklearn.preprocessing import LabelEncoder, MinMaxScaler\n",
    "from sklearn.decomposition import PCA\n",
    "\n",
    "#import osmnx as ox"
   ]
  },
  {
   "cell_type": "markdown",
   "metadata": {},
   "source": [
    "# Settings"
   ]
  },
  {
   "cell_type": "code",
   "execution_count": 2,
   "metadata": {},
   "outputs": [],
   "source": [
    "'''To display all output results of a Jupyter cell.'''\n",
    "from IPython.core.interactiveshell import InteractiveShell\n",
    "InteractiveShell.ast_node_interactivity = \"all\""
   ]
  },
  {
   "cell_type": "code",
   "execution_count": 3,
   "metadata": {},
   "outputs": [
    {
     "data": {
      "text/plain": [
       "'To ensure that the output results of extensive output results are not truncated.'"
      ]
     },
     "execution_count": 3,
     "metadata": {},
     "output_type": "execute_result"
    }
   ],
   "source": [
    "'''To ensure that the output results of extensive output results are not truncated.'''\n",
    "#pd.options.display.max_rows = 4000"
   ]
  },
  {
   "cell_type": "markdown",
   "metadata": {},
   "source": [
    "# To import csv files"
   ]
  },
  {
   "cell_type": "code",
   "execution_count": 4,
   "metadata": {},
   "outputs": [
    {
     "data": {
      "text/plain": [
       "' To import the df_for_edges dfs of Belgium and the Netherlands'"
      ]
     },
     "execution_count": 4,
     "metadata": {},
     "output_type": "execute_result"
    },
    {
     "data": {
      "text/html": [
       "<div>\n",
       "<style scoped>\n",
       "    .dataframe tbody tr th:only-of-type {\n",
       "        vertical-align: middle;\n",
       "    }\n",
       "\n",
       "    .dataframe tbody tr th {\n",
       "        vertical-align: top;\n",
       "    }\n",
       "\n",
       "    .dataframe thead th {\n",
       "        text-align: right;\n",
       "    }\n",
       "</style>\n",
       "<table border=\"1\" class=\"dataframe\">\n",
       "  <thead>\n",
       "    <tr style=\"text-align: right;\">\n",
       "      <th></th>\n",
       "      <th>route_id</th>\n",
       "      <th>stop_name_1</th>\n",
       "      <th>stop_name_2</th>\n",
       "    </tr>\n",
       "  </thead>\n",
       "  <tbody>\n",
       "    <tr>\n",
       "      <th>0</th>\n",
       "      <td>115</td>\n",
       "      <td>TOURNAI</td>\n",
       "      <td>FROYENNES</td>\n",
       "    </tr>\n",
       "    <tr>\n",
       "      <th>1</th>\n",
       "      <td>115</td>\n",
       "      <td>FROYENNES</td>\n",
       "      <td>HERSEAUX</td>\n",
       "    </tr>\n",
       "    <tr>\n",
       "      <th>2</th>\n",
       "      <td>115</td>\n",
       "      <td>HERSEAUX</td>\n",
       "      <td>MOUSCRON</td>\n",
       "    </tr>\n",
       "    <tr>\n",
       "      <th>3</th>\n",
       "      <td>116</td>\n",
       "      <td>KNOKKE</td>\n",
       "      <td>DUINBERGEN</td>\n",
       "    </tr>\n",
       "    <tr>\n",
       "      <th>4</th>\n",
       "      <td>116</td>\n",
       "      <td>DUINBERGEN</td>\n",
       "      <td>HEIST</td>\n",
       "    </tr>\n",
       "    <tr>\n",
       "      <th>...</th>\n",
       "      <td>...</td>\n",
       "      <td>...</td>\n",
       "      <td>...</td>\n",
       "    </tr>\n",
       "    <tr>\n",
       "      <th>10836</th>\n",
       "      <td>785</td>\n",
       "      <td>NOORDERKEMPEN (BRECHT)</td>\n",
       "      <td>BREDA (NL)</td>\n",
       "    </tr>\n",
       "    <tr>\n",
       "      <th>10837</th>\n",
       "      <td>785</td>\n",
       "      <td>BREDA (NL)</td>\n",
       "      <td>ROTTERDAM CS (NL)</td>\n",
       "    </tr>\n",
       "    <tr>\n",
       "      <th>10838</th>\n",
       "      <td>785</td>\n",
       "      <td>ROTTERDAM CS (NL)</td>\n",
       "      <td>DEN HAAG HS (NL)</td>\n",
       "    </tr>\n",
       "    <tr>\n",
       "      <th>10839</th>\n",
       "      <td>785</td>\n",
       "      <td>DEN HAAG HS (NL)</td>\n",
       "      <td>SCHIPHOL (NL)</td>\n",
       "    </tr>\n",
       "    <tr>\n",
       "      <th>10840</th>\n",
       "      <td>785</td>\n",
       "      <td>SCHIPHOL (NL)</td>\n",
       "      <td>AMSTERDAM CS (NL)</td>\n",
       "    </tr>\n",
       "  </tbody>\n",
       "</table>\n",
       "<p>10841 rows × 3 columns</p>\n",
       "</div>"
      ],
      "text/plain": [
       "       route_id             stop_name_1        stop_name_2\n",
       "0           115                 TOURNAI          FROYENNES\n",
       "1           115               FROYENNES           HERSEAUX\n",
       "2           115                HERSEAUX           MOUSCRON\n",
       "3           116                  KNOKKE         DUINBERGEN\n",
       "4           116              DUINBERGEN              HEIST\n",
       "...         ...                     ...                ...\n",
       "10836       785  NOORDERKEMPEN (BRECHT)         BREDA (NL)\n",
       "10837       785              BREDA (NL)  ROTTERDAM CS (NL)\n",
       "10838       785       ROTTERDAM CS (NL)   DEN HAAG HS (NL)\n",
       "10839       785        DEN HAAG HS (NL)      SCHIPHOL (NL)\n",
       "10840       785           SCHIPHOL (NL)  AMSTERDAM CS (NL)\n",
       "\n",
       "[10841 rows x 3 columns]"
      ]
     },
     "execution_count": 4,
     "metadata": {},
     "output_type": "execute_result"
    },
    {
     "data": {
      "text/html": [
       "<div>\n",
       "<style scoped>\n",
       "    .dataframe tbody tr th:only-of-type {\n",
       "        vertical-align: middle;\n",
       "    }\n",
       "\n",
       "    .dataframe tbody tr th {\n",
       "        vertical-align: top;\n",
       "    }\n",
       "\n",
       "    .dataframe thead th {\n",
       "        text-align: right;\n",
       "    }\n",
       "</style>\n",
       "<table border=\"1\" class=\"dataframe\">\n",
       "  <thead>\n",
       "    <tr style=\"text-align: right;\">\n",
       "      <th></th>\n",
       "      <th>route_id</th>\n",
       "      <th>stop_name_1</th>\n",
       "      <th>stop_name_2</th>\n",
       "    </tr>\n",
       "  </thead>\n",
       "  <tbody>\n",
       "    <tr>\n",
       "      <th>0</th>\n",
       "      <td>17522</td>\n",
       "      <td>AMSTERDAM CENTRAAL</td>\n",
       "      <td>SCHIPHOL AIRPORT</td>\n",
       "    </tr>\n",
       "    <tr>\n",
       "      <th>1</th>\n",
       "      <td>17522</td>\n",
       "      <td>SCHIPHOL AIRPORT</td>\n",
       "      <td>ROTTERDAM CENTRAAL</td>\n",
       "    </tr>\n",
       "    <tr>\n",
       "      <th>2</th>\n",
       "      <td>17562</td>\n",
       "      <td>UTRECHT CENTRAAL</td>\n",
       "      <td>GOUDA</td>\n",
       "    </tr>\n",
       "    <tr>\n",
       "      <th>3</th>\n",
       "      <td>17562</td>\n",
       "      <td>GOUDA</td>\n",
       "      <td>ROTTERDAM ALEXANDER</td>\n",
       "    </tr>\n",
       "    <tr>\n",
       "      <th>4</th>\n",
       "      <td>17562</td>\n",
       "      <td>ROTTERDAM ALEXANDER</td>\n",
       "      <td>ROTTERDAM CENTRAAL</td>\n",
       "    </tr>\n",
       "    <tr>\n",
       "      <th>...</th>\n",
       "      <td>...</td>\n",
       "      <td>...</td>\n",
       "      <td>...</td>\n",
       "    </tr>\n",
       "    <tr>\n",
       "      <th>1440</th>\n",
       "      <td>77642</td>\n",
       "      <td>ANTWERPEN-BERCHEM</td>\n",
       "      <td>MECHELEN</td>\n",
       "    </tr>\n",
       "    <tr>\n",
       "      <th>1441</th>\n",
       "      <td>77642</td>\n",
       "      <td>MECHELEN</td>\n",
       "      <td>BRUSSELS AIRPORT - ZAVENTEM</td>\n",
       "    </tr>\n",
       "    <tr>\n",
       "      <th>1442</th>\n",
       "      <td>77642</td>\n",
       "      <td>BRUSSELS AIRPORT - ZAVENTEM</td>\n",
       "      <td>BRUSSEL-NOORD</td>\n",
       "    </tr>\n",
       "    <tr>\n",
       "      <th>1443</th>\n",
       "      <td>77642</td>\n",
       "      <td>BRUSSEL-NOORD</td>\n",
       "      <td>BRUSSEL-CENTRAAL</td>\n",
       "    </tr>\n",
       "    <tr>\n",
       "      <th>1444</th>\n",
       "      <td>77642</td>\n",
       "      <td>BRUSSEL-CENTRAAL</td>\n",
       "      <td>BRUSSEL-ZUID/MIDI</td>\n",
       "    </tr>\n",
       "  </tbody>\n",
       "</table>\n",
       "<p>1445 rows × 3 columns</p>\n",
       "</div>"
      ],
      "text/plain": [
       "      route_id                  stop_name_1                  stop_name_2\n",
       "0        17522           AMSTERDAM CENTRAAL             SCHIPHOL AIRPORT\n",
       "1        17522             SCHIPHOL AIRPORT           ROTTERDAM CENTRAAL\n",
       "2        17562             UTRECHT CENTRAAL                        GOUDA\n",
       "3        17562                        GOUDA          ROTTERDAM ALEXANDER\n",
       "4        17562          ROTTERDAM ALEXANDER           ROTTERDAM CENTRAAL\n",
       "...        ...                          ...                          ...\n",
       "1440     77642            ANTWERPEN-BERCHEM                     MECHELEN\n",
       "1441     77642                     MECHELEN  BRUSSELS AIRPORT - ZAVENTEM\n",
       "1442     77642  BRUSSELS AIRPORT - ZAVENTEM                BRUSSEL-NOORD\n",
       "1443     77642                BRUSSEL-NOORD             BRUSSEL-CENTRAAL\n",
       "1444     77642             BRUSSEL-CENTRAAL            BRUSSEL-ZUID/MIDI\n",
       "\n",
       "[1445 rows x 3 columns]"
      ]
     },
     "execution_count": 4,
     "metadata": {},
     "output_type": "execute_result"
    }
   ],
   "source": [
    "''' To import the df_for_edges dfs of Belgium and the Netherlands'''\n",
    "df_for_edges = pd.read_csv(r'/Users/Jos/Documents/KU Leuven/Thesis/GitHub/Thesis_Train/df_for_edges_18-03_Ine/df_for_edges_Belgium.csv', sep=\",\")\n",
    "df_for_edges_Netherlands = pd.read_csv(r'/Users/Jos/Documents/KU Leuven/Thesis/GitHub/Thesis_Train/df_for_edges_18-03_Ine/df_for_edges_Netherlands.csv', sep=\",\")\n",
    "df_for_edges\n",
    "df_for_edges_Netherlands"
   ]
  },
  {
   "cell_type": "code",
   "execution_count": 5,
   "metadata": {},
   "outputs": [
    {
     "data": {
      "text/html": [
       "<div>\n",
       "<style scoped>\n",
       "    .dataframe tbody tr th:only-of-type {\n",
       "        vertical-align: middle;\n",
       "    }\n",
       "\n",
       "    .dataframe tbody tr th {\n",
       "        vertical-align: top;\n",
       "    }\n",
       "\n",
       "    .dataframe thead th {\n",
       "        text-align: right;\n",
       "    }\n",
       "</style>\n",
       "<table border=\"1\" class=\"dataframe\">\n",
       "  <thead>\n",
       "    <tr style=\"text-align: right;\">\n",
       "      <th></th>\n",
       "      <th>route_id</th>\n",
       "      <th>stop_name_1</th>\n",
       "      <th>stop_name_2</th>\n",
       "    </tr>\n",
       "  </thead>\n",
       "  <tbody>\n",
       "  </tbody>\n",
       "</table>\n",
       "</div>"
      ],
      "text/plain": [
       "Empty DataFrame\n",
       "Columns: [route_id, stop_name_1, stop_name_2]\n",
       "Index: []"
      ]
     },
     "execution_count": 5,
     "metadata": {},
     "output_type": "execute_result"
    }
   ],
   "source": [
    "# Ik verwacht in de Belgische df_for_edges ook een belgische route die AMSTERDAM heeft? \n",
    "df_for_edges[df_for_edges['stop_name_1'].str.contains('AMSTERDAM')]"
   ]
  },
  {
   "cell_type": "code",
   "execution_count": 6,
   "metadata": {},
   "outputs": [
    {
     "data": {
      "text/html": [
       "<div>\n",
       "<style scoped>\n",
       "    .dataframe tbody tr th:only-of-type {\n",
       "        vertical-align: middle;\n",
       "    }\n",
       "\n",
       "    .dataframe tbody tr th {\n",
       "        vertical-align: top;\n",
       "    }\n",
       "\n",
       "    .dataframe thead th {\n",
       "        text-align: right;\n",
       "    }\n",
       "</style>\n",
       "<table border=\"1\" class=\"dataframe\">\n",
       "  <thead>\n",
       "    <tr style=\"text-align: right;\">\n",
       "      <th></th>\n",
       "      <th>route_id</th>\n",
       "      <th>stop_name_1</th>\n",
       "      <th>stop_name_2</th>\n",
       "    </tr>\n",
       "  </thead>\n",
       "  <tbody>\n",
       "    <tr>\n",
       "      <th>0</th>\n",
       "      <td>17522</td>\n",
       "      <td>AMSTERDAM CENTRAAL</td>\n",
       "      <td>SCHIPHOL AIRPORT</td>\n",
       "    </tr>\n",
       "    <tr>\n",
       "      <th>12</th>\n",
       "      <td>17599</td>\n",
       "      <td>AMSTERDAM ZUID</td>\n",
       "      <td>AMSTERDAM RAI</td>\n",
       "    </tr>\n",
       "    <tr>\n",
       "      <th>13</th>\n",
       "      <td>17599</td>\n",
       "      <td>AMSTERDAM RAI</td>\n",
       "      <td>DUIVENDRECHT</td>\n",
       "    </tr>\n",
       "    <tr>\n",
       "      <th>33</th>\n",
       "      <td>17615</td>\n",
       "      <td>AMSTERDAM CENTRAAL</td>\n",
       "      <td>SCHIPHOL AIRPORT</td>\n",
       "    </tr>\n",
       "    <tr>\n",
       "      <th>87</th>\n",
       "      <td>17661</td>\n",
       "      <td>AMSTERDAM CENTRAAL</td>\n",
       "      <td>AMSTERDAM SLOTERDIJK</td>\n",
       "    </tr>\n",
       "    <tr>\n",
       "      <th>...</th>\n",
       "      <td>...</td>\n",
       "      <td>...</td>\n",
       "      <td>...</td>\n",
       "    </tr>\n",
       "    <tr>\n",
       "      <th>1344</th>\n",
       "      <td>77628</td>\n",
       "      <td>AMSTERDAM CENTRAAL</td>\n",
       "      <td>HILVERSUM</td>\n",
       "    </tr>\n",
       "    <tr>\n",
       "      <th>1364</th>\n",
       "      <td>77631</td>\n",
       "      <td>AMSTERDAM CENTRAAL</td>\n",
       "      <td>SCHIPHOL AIRPORT</td>\n",
       "    </tr>\n",
       "    <tr>\n",
       "      <th>1376</th>\n",
       "      <td>77633</td>\n",
       "      <td>AMSTERDAM CENTRAAL</td>\n",
       "      <td>UTRECHT CENTRAAL</td>\n",
       "    </tr>\n",
       "    <tr>\n",
       "      <th>1392</th>\n",
       "      <td>77634</td>\n",
       "      <td>AMSTERDAM CENTRAAL</td>\n",
       "      <td>UTRECHT CENTRAAL</td>\n",
       "    </tr>\n",
       "    <tr>\n",
       "      <th>1408</th>\n",
       "      <td>77638</td>\n",
       "      <td>AMSTERDAM CENTRAAL</td>\n",
       "      <td>HILVERSUM</td>\n",
       "    </tr>\n",
       "  </tbody>\n",
       "</table>\n",
       "<p>98 rows × 3 columns</p>\n",
       "</div>"
      ],
      "text/plain": [
       "      route_id         stop_name_1           stop_name_2\n",
       "0        17522  AMSTERDAM CENTRAAL      SCHIPHOL AIRPORT\n",
       "12       17599      AMSTERDAM ZUID         AMSTERDAM RAI\n",
       "13       17599       AMSTERDAM RAI          DUIVENDRECHT\n",
       "33       17615  AMSTERDAM CENTRAAL      SCHIPHOL AIRPORT\n",
       "87       17661  AMSTERDAM CENTRAAL  AMSTERDAM SLOTERDIJK\n",
       "...        ...                 ...                   ...\n",
       "1344     77628  AMSTERDAM CENTRAAL             HILVERSUM\n",
       "1364     77631  AMSTERDAM CENTRAAL      SCHIPHOL AIRPORT\n",
       "1376     77633  AMSTERDAM CENTRAAL      UTRECHT CENTRAAL\n",
       "1392     77634  AMSTERDAM CENTRAAL      UTRECHT CENTRAAL\n",
       "1408     77638  AMSTERDAM CENTRAAL             HILVERSUM\n",
       "\n",
       "[98 rows x 3 columns]"
      ]
     },
     "execution_count": 6,
     "metadata": {},
     "output_type": "execute_result"
    }
   ],
   "source": [
    "df_for_edges_Netherlands[df_for_edges_Netherlands['stop_name_1'].str.contains('AMSTERDAM')]"
   ]
  },
  {
   "cell_type": "code",
   "execution_count": 7,
   "metadata": {},
   "outputs": [
    {
     "data": {
      "text/plain": [
       "' To import the stops_cleaned df for Belgium and the Netherlands'"
      ]
     },
     "execution_count": 7,
     "metadata": {},
     "output_type": "execute_result"
    },
    {
     "data": {
      "text/html": [
       "<div>\n",
       "<style scoped>\n",
       "    .dataframe tbody tr th:only-of-type {\n",
       "        vertical-align: middle;\n",
       "    }\n",
       "\n",
       "    .dataframe tbody tr th {\n",
       "        vertical-align: top;\n",
       "    }\n",
       "\n",
       "    .dataframe thead th {\n",
       "        text-align: right;\n",
       "    }\n",
       "</style>\n",
       "<table border=\"1\" class=\"dataframe\">\n",
       "  <thead>\n",
       "    <tr style=\"text-align: right;\">\n",
       "      <th></th>\n",
       "      <th>stop_id</th>\n",
       "      <th>stop_code</th>\n",
       "      <th>stop_name</th>\n",
       "      <th>stop_desc</th>\n",
       "      <th>stop_lat</th>\n",
       "      <th>stop_lon</th>\n",
       "      <th>zone_id</th>\n",
       "      <th>stop_url</th>\n",
       "      <th>location_type</th>\n",
       "      <th>parent_station</th>\n",
       "      <th>platform_code</th>\n",
       "      <th>country</th>\n",
       "    </tr>\n",
       "  </thead>\n",
       "  <tbody>\n",
       "    <tr>\n",
       "      <th>0</th>\n",
       "      <td>8015345</td>\n",
       "      <td>NaN</td>\n",
       "      <td>AACHEN HBF (DE)</td>\n",
       "      <td>NaN</td>\n",
       "      <td>50.77083</td>\n",
       "      <td>6.105277</td>\n",
       "      <td>NaN</td>\n",
       "      <td>NaN</td>\n",
       "      <td>0</td>\n",
       "      <td>NaN</td>\n",
       "      <td>NaN</td>\n",
       "      <td>Germany</td>\n",
       "    </tr>\n",
       "    <tr>\n",
       "      <th>1</th>\n",
       "      <td>8200100</td>\n",
       "      <td>NaN</td>\n",
       "      <td>LUXEMBOURG (LU)</td>\n",
       "      <td>NaN</td>\n",
       "      <td>49.60000</td>\n",
       "      <td>6.133333</td>\n",
       "      <td>NaN</td>\n",
       "      <td>NaN</td>\n",
       "      <td>0</td>\n",
       "      <td>NaN</td>\n",
       "      <td>NaN</td>\n",
       "      <td>Luxembourg</td>\n",
       "    </tr>\n",
       "    <tr>\n",
       "      <th>2</th>\n",
       "      <td>8200101</td>\n",
       "      <td>NaN</td>\n",
       "      <td>DOMMELDANGE (LU)</td>\n",
       "      <td>NaN</td>\n",
       "      <td>49.63390</td>\n",
       "      <td>6.136765</td>\n",
       "      <td>NaN</td>\n",
       "      <td>NaN</td>\n",
       "      <td>0</td>\n",
       "      <td>NaN</td>\n",
       "      <td>NaN</td>\n",
       "      <td>Luxembourg</td>\n",
       "    </tr>\n",
       "    <tr>\n",
       "      <th>3</th>\n",
       "      <td>8200102</td>\n",
       "      <td>NaN</td>\n",
       "      <td>PFAFFENTHAL-KIRCHBERG (LU)</td>\n",
       "      <td>NaN</td>\n",
       "      <td>49.61913</td>\n",
       "      <td>6.132853</td>\n",
       "      <td>NaN</td>\n",
       "      <td>NaN</td>\n",
       "      <td>0</td>\n",
       "      <td>NaN</td>\n",
       "      <td>NaN</td>\n",
       "      <td>Luxembourg</td>\n",
       "    </tr>\n",
       "    <tr>\n",
       "      <th>4</th>\n",
       "      <td>8200110</td>\n",
       "      <td>NaN</td>\n",
       "      <td>MERSCH (LU)</td>\n",
       "      <td>NaN</td>\n",
       "      <td>49.74889</td>\n",
       "      <td>6.106111</td>\n",
       "      <td>NaN</td>\n",
       "      <td>NaN</td>\n",
       "      <td>0</td>\n",
       "      <td>NaN</td>\n",
       "      <td>NaN</td>\n",
       "      <td>Luxembourg</td>\n",
       "    </tr>\n",
       "    <tr>\n",
       "      <th>...</th>\n",
       "      <td>...</td>\n",
       "      <td>...</td>\n",
       "      <td>...</td>\n",
       "      <td>...</td>\n",
       "      <td>...</td>\n",
       "      <td>...</td>\n",
       "      <td>...</td>\n",
       "      <td>...</td>\n",
       "      <td>...</td>\n",
       "      <td>...</td>\n",
       "      <td>...</td>\n",
       "      <td>...</td>\n",
       "    </tr>\n",
       "    <tr>\n",
       "      <th>603</th>\n",
       "      <td>8896503</td>\n",
       "      <td>NaN</td>\n",
       "      <td>YPRES</td>\n",
       "      <td>NaN</td>\n",
       "      <td>50.84740</td>\n",
       "      <td>2.876590</td>\n",
       "      <td>NaN</td>\n",
       "      <td>NaN</td>\n",
       "      <td>0</td>\n",
       "      <td>S8896503</td>\n",
       "      <td>NaN</td>\n",
       "      <td>Belgium</td>\n",
       "    </tr>\n",
       "    <tr>\n",
       "      <th>604</th>\n",
       "      <td>8896735</td>\n",
       "      <td>NaN</td>\n",
       "      <td>POPERINGE</td>\n",
       "      <td>NaN</td>\n",
       "      <td>50.85445</td>\n",
       "      <td>2.736345</td>\n",
       "      <td>NaN</td>\n",
       "      <td>NaN</td>\n",
       "      <td>0</td>\n",
       "      <td>S8896735</td>\n",
       "      <td>NaN</td>\n",
       "      <td>Belgium</td>\n",
       "    </tr>\n",
       "    <tr>\n",
       "      <th>605</th>\n",
       "      <td>8896800</td>\n",
       "      <td>NaN</td>\n",
       "      <td>ROULERS</td>\n",
       "      <td>NaN</td>\n",
       "      <td>50.94903</td>\n",
       "      <td>3.130415</td>\n",
       "      <td>NaN</td>\n",
       "      <td>NaN</td>\n",
       "      <td>0</td>\n",
       "      <td>S8896800</td>\n",
       "      <td>NaN</td>\n",
       "      <td>Belgium</td>\n",
       "    </tr>\n",
       "    <tr>\n",
       "      <th>606</th>\n",
       "      <td>8896909</td>\n",
       "      <td>NaN</td>\n",
       "      <td>IZEGEM</td>\n",
       "      <td>NaN</td>\n",
       "      <td>50.92115</td>\n",
       "      <td>3.212089</td>\n",
       "      <td>NaN</td>\n",
       "      <td>NaN</td>\n",
       "      <td>0</td>\n",
       "      <td>S8896909</td>\n",
       "      <td>NaN</td>\n",
       "      <td>Belgium</td>\n",
       "    </tr>\n",
       "    <tr>\n",
       "      <th>607</th>\n",
       "      <td>8896925</td>\n",
       "      <td>NaN</td>\n",
       "      <td>INGELMUNSTER</td>\n",
       "      <td>NaN</td>\n",
       "      <td>50.91433</td>\n",
       "      <td>3.255416</td>\n",
       "      <td>NaN</td>\n",
       "      <td>NaN</td>\n",
       "      <td>0</td>\n",
       "      <td>S8896925</td>\n",
       "      <td>NaN</td>\n",
       "      <td>Belgium</td>\n",
       "    </tr>\n",
       "  </tbody>\n",
       "</table>\n",
       "<p>608 rows × 12 columns</p>\n",
       "</div>"
      ],
      "text/plain": [
       "     stop_id  stop_code                   stop_name  stop_desc  stop_lat  \\\n",
       "0    8015345        NaN             AACHEN HBF (DE)        NaN  50.77083   \n",
       "1    8200100        NaN             LUXEMBOURG (LU)        NaN  49.60000   \n",
       "2    8200101        NaN            DOMMELDANGE (LU)        NaN  49.63390   \n",
       "3    8200102        NaN  PFAFFENTHAL-KIRCHBERG (LU)        NaN  49.61913   \n",
       "4    8200110        NaN                 MERSCH (LU)        NaN  49.74889   \n",
       "..       ...        ...                         ...        ...       ...   \n",
       "603  8896503        NaN                       YPRES        NaN  50.84740   \n",
       "604  8896735        NaN                   POPERINGE        NaN  50.85445   \n",
       "605  8896800        NaN                     ROULERS        NaN  50.94903   \n",
       "606  8896909        NaN                      IZEGEM        NaN  50.92115   \n",
       "607  8896925        NaN                INGELMUNSTER        NaN  50.91433   \n",
       "\n",
       "     stop_lon  zone_id  stop_url  location_type parent_station  platform_code  \\\n",
       "0    6.105277      NaN       NaN              0            NaN            NaN   \n",
       "1    6.133333      NaN       NaN              0            NaN            NaN   \n",
       "2    6.136765      NaN       NaN              0            NaN            NaN   \n",
       "3    6.132853      NaN       NaN              0            NaN            NaN   \n",
       "4    6.106111      NaN       NaN              0            NaN            NaN   \n",
       "..        ...      ...       ...            ...            ...            ...   \n",
       "603  2.876590      NaN       NaN              0       S8896503            NaN   \n",
       "604  2.736345      NaN       NaN              0       S8896735            NaN   \n",
       "605  3.130415      NaN       NaN              0       S8896800            NaN   \n",
       "606  3.212089      NaN       NaN              0       S8896909            NaN   \n",
       "607  3.255416      NaN       NaN              0       S8896925            NaN   \n",
       "\n",
       "        country  \n",
       "0       Germany  \n",
       "1    Luxembourg  \n",
       "2    Luxembourg  \n",
       "3    Luxembourg  \n",
       "4    Luxembourg  \n",
       "..          ...  \n",
       "603     Belgium  \n",
       "604     Belgium  \n",
       "605     Belgium  \n",
       "606     Belgium  \n",
       "607     Belgium  \n",
       "\n",
       "[608 rows x 12 columns]"
      ]
     },
     "execution_count": 7,
     "metadata": {},
     "output_type": "execute_result"
    },
    {
     "data": {
      "text/html": [
       "<div>\n",
       "<style scoped>\n",
       "    .dataframe tbody tr th:only-of-type {\n",
       "        vertical-align: middle;\n",
       "    }\n",
       "\n",
       "    .dataframe tbody tr th {\n",
       "        vertical-align: top;\n",
       "    }\n",
       "\n",
       "    .dataframe thead th {\n",
       "        text-align: right;\n",
       "    }\n",
       "</style>\n",
       "<table border=\"1\" class=\"dataframe\">\n",
       "  <thead>\n",
       "    <tr style=\"text-align: right;\">\n",
       "      <th></th>\n",
       "      <th>stop_id</th>\n",
       "      <th>stop_code</th>\n",
       "      <th>stop_name</th>\n",
       "      <th>stop_lat</th>\n",
       "      <th>stop_lon</th>\n",
       "      <th>location_type</th>\n",
       "      <th>parent_station</th>\n",
       "      <th>stop_timezone</th>\n",
       "      <th>wheelchair_boarding</th>\n",
       "      <th>platform_code</th>\n",
       "      <th>zone_id</th>\n",
       "      <th>country</th>\n",
       "    </tr>\n",
       "  </thead>\n",
       "  <tbody>\n",
       "    <tr>\n",
       "      <th>0</th>\n",
       "      <td>stoparea:37036</td>\n",
       "      <td>lillee</td>\n",
       "      <td>LILLE EUROPE</td>\n",
       "      <td>50.639444</td>\n",
       "      <td>3.075000</td>\n",
       "      <td>1</td>\n",
       "      <td>NaN</td>\n",
       "      <td>Europe/Amsterdam</td>\n",
       "      <td>0.0</td>\n",
       "      <td>NaN</td>\n",
       "      <td>NaN</td>\n",
       "      <td>France</td>\n",
       "    </tr>\n",
       "    <tr>\n",
       "      <th>1</th>\n",
       "      <td>stoparea:18059</td>\n",
       "      <td>gerp</td>\n",
       "      <td>GRONINGEN EUROPAPARK</td>\n",
       "      <td>53.204708</td>\n",
       "      <td>6.585811</td>\n",
       "      <td>1</td>\n",
       "      <td>NaN</td>\n",
       "      <td>Europe/Amsterdam</td>\n",
       "      <td>0.0</td>\n",
       "      <td>NaN</td>\n",
       "      <td>NaN</td>\n",
       "      <td>Netherlands</td>\n",
       "    </tr>\n",
       "    <tr>\n",
       "      <th>2</th>\n",
       "      <td>stoparea:111951</td>\n",
       "      <td>buende</td>\n",
       "      <td>BUNDE (WESTF.)</td>\n",
       "      <td>52.202170</td>\n",
       "      <td>8.574140</td>\n",
       "      <td>1</td>\n",
       "      <td>NaN</td>\n",
       "      <td>Europe/Amsterdam</td>\n",
       "      <td>0.0</td>\n",
       "      <td>NaN</td>\n",
       "      <td>NaN</td>\n",
       "      <td>Germany</td>\n",
       "    </tr>\n",
       "    <tr>\n",
       "      <th>3</th>\n",
       "      <td>stoparea:345453</td>\n",
       "      <td>amf</td>\n",
       "      <td>AMERSFOORT CENTRAAL</td>\n",
       "      <td>52.153418</td>\n",
       "      <td>5.373988</td>\n",
       "      <td>1</td>\n",
       "      <td>NaN</td>\n",
       "      <td>Europe/Amsterdam</td>\n",
       "      <td>0.0</td>\n",
       "      <td>NaN</td>\n",
       "      <td>NaN</td>\n",
       "      <td>Netherlands</td>\n",
       "    </tr>\n",
       "    <tr>\n",
       "      <th>4</th>\n",
       "      <td>stoparea:42566</td>\n",
       "      <td>ehw</td>\n",
       "      <td>ROSENDAHL-HOLTWICK</td>\n",
       "      <td>51.998474</td>\n",
       "      <td>7.122610</td>\n",
       "      <td>1</td>\n",
       "      <td>NaN</td>\n",
       "      <td>Europe/Amsterdam</td>\n",
       "      <td>0.0</td>\n",
       "      <td>NaN</td>\n",
       "      <td>NaN</td>\n",
       "      <td>Germany</td>\n",
       "    </tr>\n",
       "    <tr>\n",
       "      <th>...</th>\n",
       "      <td>...</td>\n",
       "      <td>...</td>\n",
       "      <td>...</td>\n",
       "      <td>...</td>\n",
       "      <td>...</td>\n",
       "      <td>...</td>\n",
       "      <td>...</td>\n",
       "      <td>...</td>\n",
       "      <td>...</td>\n",
       "      <td>...</td>\n",
       "      <td>...</td>\n",
       "      <td>...</td>\n",
       "    </tr>\n",
       "    <tr>\n",
       "      <th>524</th>\n",
       "      <td>stoparea:226115</td>\n",
       "      <td>esn</td>\n",
       "      <td>ESSEN (B)</td>\n",
       "      <td>51.462691</td>\n",
       "      <td>4.451378</td>\n",
       "      <td>1</td>\n",
       "      <td>NaN</td>\n",
       "      <td>Europe/Amsterdam</td>\n",
       "      <td>0.0</td>\n",
       "      <td>NaN</td>\n",
       "      <td>NaN</td>\n",
       "      <td>Belgium</td>\n",
       "    </tr>\n",
       "    <tr>\n",
       "      <th>525</th>\n",
       "      <td>stoparea:226117</td>\n",
       "      <td>eenp</td>\n",
       "      <td>ENNEPETAL</td>\n",
       "      <td>51.304434</td>\n",
       "      <td>7.343200</td>\n",
       "      <td>1</td>\n",
       "      <td>NaN</td>\n",
       "      <td>Europe/Amsterdam</td>\n",
       "      <td>0.0</td>\n",
       "      <td>NaN</td>\n",
       "      <td>NaN</td>\n",
       "      <td>Germany</td>\n",
       "    </tr>\n",
       "    <tr>\n",
       "      <th>526</th>\n",
       "      <td>stoparea:226121</td>\n",
       "      <td>kkd</td>\n",
       "      <td>KOLN MESSE/DEUTZ</td>\n",
       "      <td>50.940906</td>\n",
       "      <td>6.974600</td>\n",
       "      <td>1</td>\n",
       "      <td>NaN</td>\n",
       "      <td>Europe/Amsterdam</td>\n",
       "      <td>0.0</td>\n",
       "      <td>NaN</td>\n",
       "      <td>NaN</td>\n",
       "      <td>Germany</td>\n",
       "    </tr>\n",
       "    <tr>\n",
       "      <th>527</th>\n",
       "      <td>stoparea:226123</td>\n",
       "      <td>minden</td>\n",
       "      <td>MINDEN (WESTF)</td>\n",
       "      <td>52.290439</td>\n",
       "      <td>8.934465</td>\n",
       "      <td>1</td>\n",
       "      <td>NaN</td>\n",
       "      <td>Europe/Amsterdam</td>\n",
       "      <td>0.0</td>\n",
       "      <td>NaN</td>\n",
       "      <td>NaN</td>\n",
       "      <td>Germany</td>\n",
       "    </tr>\n",
       "    <tr>\n",
       "      <th>528</th>\n",
       "      <td>stoparea:342178</td>\n",
       "      <td>el</td>\n",
       "      <td>ELTEN</td>\n",
       "      <td>51.874348</td>\n",
       "      <td>6.154147</td>\n",
       "      <td>1</td>\n",
       "      <td>NaN</td>\n",
       "      <td>Europe/Amsterdam</td>\n",
       "      <td>0.0</td>\n",
       "      <td>NaN</td>\n",
       "      <td>NaN</td>\n",
       "      <td>Germany</td>\n",
       "    </tr>\n",
       "  </tbody>\n",
       "</table>\n",
       "<p>529 rows × 12 columns</p>\n",
       "</div>"
      ],
      "text/plain": [
       "             stop_id stop_code             stop_name   stop_lat  stop_lon  \\\n",
       "0     stoparea:37036    lillee          LILLE EUROPE  50.639444  3.075000   \n",
       "1     stoparea:18059      gerp  GRONINGEN EUROPAPARK  53.204708  6.585811   \n",
       "2    stoparea:111951    buende        BUNDE (WESTF.)  52.202170  8.574140   \n",
       "3    stoparea:345453       amf   AMERSFOORT CENTRAAL  52.153418  5.373988   \n",
       "4     stoparea:42566       ehw    ROSENDAHL-HOLTWICK  51.998474  7.122610   \n",
       "..               ...       ...                   ...        ...       ...   \n",
       "524  stoparea:226115       esn             ESSEN (B)  51.462691  4.451378   \n",
       "525  stoparea:226117      eenp             ENNEPETAL  51.304434  7.343200   \n",
       "526  stoparea:226121       kkd      KOLN MESSE/DEUTZ  50.940906  6.974600   \n",
       "527  stoparea:226123    minden        MINDEN (WESTF)  52.290439  8.934465   \n",
       "528  stoparea:342178        el                 ELTEN  51.874348  6.154147   \n",
       "\n",
       "     location_type  parent_station     stop_timezone  wheelchair_boarding  \\\n",
       "0                1             NaN  Europe/Amsterdam                  0.0   \n",
       "1                1             NaN  Europe/Amsterdam                  0.0   \n",
       "2                1             NaN  Europe/Amsterdam                  0.0   \n",
       "3                1             NaN  Europe/Amsterdam                  0.0   \n",
       "4                1             NaN  Europe/Amsterdam                  0.0   \n",
       "..             ...             ...               ...                  ...   \n",
       "524              1             NaN  Europe/Amsterdam                  0.0   \n",
       "525              1             NaN  Europe/Amsterdam                  0.0   \n",
       "526              1             NaN  Europe/Amsterdam                  0.0   \n",
       "527              1             NaN  Europe/Amsterdam                  0.0   \n",
       "528              1             NaN  Europe/Amsterdam                  0.0   \n",
       "\n",
       "     platform_code  zone_id      country  \n",
       "0              NaN      NaN       France  \n",
       "1              NaN      NaN  Netherlands  \n",
       "2              NaN      NaN      Germany  \n",
       "3              NaN      NaN  Netherlands  \n",
       "4              NaN      NaN      Germany  \n",
       "..             ...      ...          ...  \n",
       "524            NaN      NaN      Belgium  \n",
       "525            NaN      NaN      Germany  \n",
       "526            NaN      NaN      Germany  \n",
       "527            NaN      NaN      Germany  \n",
       "528            NaN      NaN      Germany  \n",
       "\n",
       "[529 rows x 12 columns]"
      ]
     },
     "execution_count": 7,
     "metadata": {},
     "output_type": "execute_result"
    }
   ],
   "source": [
    "''' To import the stops_cleaned df for Belgium and the Netherlands'''\n",
    "stops_cleaned = pd.read_csv(r'/Users/Jos/Documents/KU Leuven/Thesis/GitHub/Thesis_Train/stops_cleaned_18-03_Ine/stops_cleaned_Belgium.csv', sep=\",\")\n",
    "stops_cleaned_Netherlands = pd.read_csv(r'/Users/Jos/Documents/KU Leuven/Thesis/GitHub/Thesis_Train/stops_cleaned_18-03_Ine/stops_cleaned_Netherlands.csv', sep=\",\")\n",
    "stops_cleaned\n",
    "stops_cleaned_Netherlands"
   ]
  },
  {
   "cell_type": "raw",
   "metadata": {},
   "source": [
    "# The df_for_edges csv's are not yet up-to-date \n",
    "\n",
    "''' To import the df_for_edges csv files of the Belgian and the Dutch railway system '''\n",
    "\n",
    "datalink = \"https://raw.githubusercontent.com/polkuleuven/Thesis_Train/main/df_for_edges/\"\n",
    "df_for_edges = pd.read_csv(datalink + \"df_for_edges_Belgium.csv\", sep=\",\")\n",
    "df_for_edges_Netherlands = pd.read_csv(datalink + \"df_for_edges_Netherlands.csv\", sep=\",\")\n",
    "\n",
    "df_for_edges\n",
    "df_for_edges_Netherlands "
   ]
  },
  {
   "cell_type": "code",
   "execution_count": 8,
   "metadata": {},
   "outputs": [
    {
     "data": {
      "text/html": [
       "<div>\n",
       "<style scoped>\n",
       "    .dataframe tbody tr th:only-of-type {\n",
       "        vertical-align: middle;\n",
       "    }\n",
       "\n",
       "    .dataframe tbody tr th {\n",
       "        vertical-align: top;\n",
       "    }\n",
       "\n",
       "    .dataframe thead th {\n",
       "        text-align: right;\n",
       "    }\n",
       "</style>\n",
       "<table border=\"1\" class=\"dataframe\">\n",
       "  <thead>\n",
       "    <tr style=\"text-align: right;\">\n",
       "      <th></th>\n",
       "      <th>route_id</th>\n",
       "      <th>stop_name_1</th>\n",
       "      <th>stop_name_2</th>\n",
       "    </tr>\n",
       "  </thead>\n",
       "  <tbody>\n",
       "    <tr>\n",
       "      <th>0</th>\n",
       "      <td>115</td>\n",
       "      <td>TOURNAI</td>\n",
       "      <td>FROYENNES</td>\n",
       "    </tr>\n",
       "    <tr>\n",
       "      <th>1</th>\n",
       "      <td>115</td>\n",
       "      <td>FROYENNES</td>\n",
       "      <td>HERSEAUX</td>\n",
       "    </tr>\n",
       "    <tr>\n",
       "      <th>2</th>\n",
       "      <td>115</td>\n",
       "      <td>HERSEAUX</td>\n",
       "      <td>MOUSCRON</td>\n",
       "    </tr>\n",
       "    <tr>\n",
       "      <th>3</th>\n",
       "      <td>116</td>\n",
       "      <td>KNOKKE</td>\n",
       "      <td>DUINBERGEN</td>\n",
       "    </tr>\n",
       "    <tr>\n",
       "      <th>4</th>\n",
       "      <td>116</td>\n",
       "      <td>DUINBERGEN</td>\n",
       "      <td>HEIST</td>\n",
       "    </tr>\n",
       "    <tr>\n",
       "      <th>...</th>\n",
       "      <td>...</td>\n",
       "      <td>...</td>\n",
       "      <td>...</td>\n",
       "    </tr>\n",
       "    <tr>\n",
       "      <th>10836</th>\n",
       "      <td>785</td>\n",
       "      <td>NOORDERKEMPEN (BRECHT)</td>\n",
       "      <td>BREDA (NL)</td>\n",
       "    </tr>\n",
       "    <tr>\n",
       "      <th>10837</th>\n",
       "      <td>785</td>\n",
       "      <td>BREDA (NL)</td>\n",
       "      <td>ROTTERDAM CS (NL)</td>\n",
       "    </tr>\n",
       "    <tr>\n",
       "      <th>10838</th>\n",
       "      <td>785</td>\n",
       "      <td>ROTTERDAM CS (NL)</td>\n",
       "      <td>DEN HAAG HS (NL)</td>\n",
       "    </tr>\n",
       "    <tr>\n",
       "      <th>10839</th>\n",
       "      <td>785</td>\n",
       "      <td>DEN HAAG HS (NL)</td>\n",
       "      <td>SCHIPHOL (NL)</td>\n",
       "    </tr>\n",
       "    <tr>\n",
       "      <th>10840</th>\n",
       "      <td>785</td>\n",
       "      <td>SCHIPHOL (NL)</td>\n",
       "      <td>AMSTERDAM CS (NL)</td>\n",
       "    </tr>\n",
       "  </tbody>\n",
       "</table>\n",
       "<p>10841 rows × 3 columns</p>\n",
       "</div>"
      ],
      "text/plain": [
       "       route_id             stop_name_1        stop_name_2\n",
       "0           115                 TOURNAI          FROYENNES\n",
       "1           115               FROYENNES           HERSEAUX\n",
       "2           115                HERSEAUX           MOUSCRON\n",
       "3           116                  KNOKKE         DUINBERGEN\n",
       "4           116              DUINBERGEN              HEIST\n",
       "...         ...                     ...                ...\n",
       "10836       785  NOORDERKEMPEN (BRECHT)         BREDA (NL)\n",
       "10837       785              BREDA (NL)  ROTTERDAM CS (NL)\n",
       "10838       785       ROTTERDAM CS (NL)   DEN HAAG HS (NL)\n",
       "10839       785        DEN HAAG HS (NL)      SCHIPHOL (NL)\n",
       "10840       785           SCHIPHOL (NL)  AMSTERDAM CS (NL)\n",
       "\n",
       "[10841 rows x 3 columns]"
      ]
     },
     "execution_count": 8,
     "metadata": {},
     "output_type": "execute_result"
    }
   ],
   "source": [
    "df_for_edges"
   ]
  },
  {
   "cell_type": "markdown",
   "metadata": {},
   "source": [
    "# **Research question 1: How similar are railway systems in terms of their global network metrics? Comparison of the Belgian and the Dutch railway system in L-space representation**"
   ]
  },
  {
   "cell_type": "markdown",
   "metadata": {},
   "source": [
    "## **Calculation of the global characteristics of the Belgian railway system in the L-space representation**"
   ]
  },
  {
   "cell_type": "code",
   "execution_count": 9,
   "metadata": {},
   "outputs": [
    {
     "data": {
      "text/plain": [
       "' To construct the network graph for Belgium '"
      ]
     },
     "execution_count": 9,
     "metadata": {},
     "output_type": "execute_result"
    }
   ],
   "source": [
    "''' To construct the network graph for Belgium '''\n",
    "B = nx.Graph()\n",
    "B = nx.from_pandas_edgelist(df_for_edges, 'stop_name_1', 'stop_name_2')"
   ]
  },
  {
   "cell_type": "code",
   "execution_count": 10,
   "metadata": {},
   "outputs": [
    {
     "data": {
      "text/plain": [
       "' To assign weights to the network graph for Belgium'"
      ]
     },
     "execution_count": 10,
     "metadata": {},
     "output_type": "execute_result"
    },
    {
     "data": {
      "text/plain": [
       "NodeDataView({'TOURNAI': {'id': 8885001, 'latitude': 50.61313, 'longitude': 3.3969400000000003, 'country': 'Belgium'}, 'FROYENNES': {'id': 8885068, 'latitude': 50.62989, 'longitude': 3.354835, 'country': 'Belgium'}, 'HERSEAUX': {'id': 8885753, 'latitude': 50.7139, 'longitude': 3.245961, 'country': 'Belgium'}, 'MOUSCRON': {'id': 8885704, 'latitude': 50.74100000000001, 'longitude': 3.2284490000000003, 'country': 'Belgium'}, 'KNOKKE': {'id': 8891660, 'latitude': 51.3399, 'longitude': 3.28519, 'country': 'Belgium'}, 'DUINBERGEN': {'id': 8891652, 'latitude': 51.3382, 'longitude': 3.263591, 'country': 'Belgium'}, 'HEIST': {'id': 8891645, 'latitude': 51.33398, 'longitude': 3.239182, 'country': 'Belgium'}, 'BRUGES-SAINT-PIERRE': {'id': 8891033, 'latitude': 51.22312, 'longitude': 3.201796, 'country': 'Belgium'}, 'BRUGES': {'id': 8891009, 'latitude': 51.19723, 'longitude': 3.21673, 'country': 'Belgium'}, 'SPA-GERONSTERE': {'id': 8844420, 'latitude': 50.4893, 'longitude': 5.866211, 'country': 'Belgium'}, 'SPA': {'id': 8844404, 'latitude': 50.4903, 'longitude': 5.855101, 'country': 'Belgium'}, 'FRANCHIMONT': {'id': 8844347, 'latitude': 50.52572, 'longitude': 5.82222, 'country': 'Belgium'}, 'THEUX': {'id': 8844339, 'latitude': 50.53616, 'longitude': 5.81503, 'country': 'Belgium'}, 'JUSLENVILLE': {'id': 8844321, 'latitude': 50.54472, 'longitude': 5.809935, 'country': 'Belgium'}, 'PEPINSTER-CITE': {'id': 8844313, 'latitude': 50.5634, 'longitude': 5.804399, 'country': 'Belgium'}, 'PEPINSTER': {'id': 8844206, 'latitude': 50.56818, 'longitude': 5.806155, 'country': 'Belgium'}, 'VERVIERS-CENTRAL': {'id': 8844008, 'latitude': 50.58814, 'longitude': 5.854913, 'country': 'Belgium'}, 'GAND-SAINT-PIERRE': {'id': 8892007, 'latitude': 51.0359, 'longitude': 3.7106730000000003, 'country': 'Belgium'}, 'DE PINTE': {'id': 8892080, 'latitude': 50.99706, 'longitude': 3.650467, 'country': 'Belgium'}, 'DEINZE': {'id': 8892106, 'latitude': 50.97826, 'longitude': 3.5344349999999998, 'country': 'Belgium'}, 'AARSELE': {'id': 8892288, 'latitude': 50.98446, 'longitude': 3.41836, 'country': 'Belgium'}, 'TIELT': {'id': 8892254, 'latitude': 50.99084000000001, 'longitude': 3.33034, 'country': 'Belgium'}, 'LICHTERVELDE': {'id': 8892205, 'latitude': 51.02516, 'longitude': 3.127209, 'country': 'Belgium'}, 'TORHOUT': {'id': 8891314, 'latitude': 51.06471, 'longitude': 3.10587, 'country': 'Belgium'}, 'ZEDELGEM': {'id': 8891264, 'latitude': 51.12705, 'longitude': 3.164142, 'country': 'Belgium'}, 'GRAMMONT': {'id': 8895505, 'latitude': 50.77113, 'longitude': 3.872326, 'country': 'Belgium'}, 'SCHENDELBEKE': {'id': 8895711, 'latitude': 50.79785, 'longitude': 3.899285, 'country': 'Belgium'}, 'IDEGEM': {'id': 8895729, 'latitude': 50.80188, 'longitude': 3.921556, 'country': 'Belgium'}, 'ZANDBERGEN': {'id': 8895737, 'latitude': 50.80699, 'longitude': 3.9576519999999995, 'country': 'Belgium'}, 'APPELTERRE': {'id': 8895745, 'latitude': 50.81307, 'longitude': 3.972107, 'country': 'Belgium'}, 'EICHEM': {'id': 8895752, 'latitude': 50.82399, 'longitude': 3.9937480000000005, 'country': 'Belgium'}, 'NINOVE': {'id': 8895760, 'latitude': 50.83951, 'longitude': 4.026137, 'country': 'Belgium'}, 'OKEGEM': {'id': 8895778, 'latitude': 50.85772, 'longitude': 4.054554, 'country': 'Belgium'}, 'IDDERGEM': {'id': 8895844, 'latitude': 50.87688, 'longitude': 4.068487999999999, 'country': 'Belgium'}, 'DENDERLEEUW': {'id': 8895802, 'latitude': 50.89193, 'longitude': 4.07183, 'country': 'Belgium'}, 'LEUZE': {'id': 8886348, 'latitude': 50.60061, 'longitude': 3.6168760000000004, 'country': 'Belgium'}, 'ATH': {'id': 8886009, 'latitude': 50.62694000000001, 'longitude': 3.777428, 'country': 'Belgium'}, 'LUTTRE': {'id': 8871308, 'latitude': 50.50586, 'longitude': 4.384119999999999, 'country': 'Belgium'}, 'COURCELLES-MOTTE': {'id': 8871225, 'latitude': 50.46201, 'longitude': 4.400530000000001, 'country': 'Belgium'}, 'ROUX': {'id': 8871217, 'latitude': 50.44311, 'longitude': 4.3932, 'country': 'Belgium'}, 'MARCHIENNE-AU-PONT': {'id': 8871100, 'latitude': 50.41217, 'longitude': 4.39422, 'country': 'Belgium'}, 'CHARLEROI-SUD': {'id': 8872009, 'latitude': 50.40471, 'longitude': 4.4385699999999995, 'country': 'Belgium'}, 'BRUXELLES-MIDI': {'id': 8814001, 'latitude': 50.83571, 'longitude': 4.336530000000001, 'country': 'Belgium'}, 'BRUXELLES-CHAPELLE': {'id': 8813037, 'latitude': 50.84113, 'longitude': 4.3478699999999995, 'country': 'Belgium'}, 'BRUXELLES-CENTRAL': {'id': 8813003, 'latitude': 50.84565, 'longitude': 4.356804, 'country': 'Belgium'}, 'BRUXELLES-CONGRES': {'id': 8813045, 'latitude': 50.85207, 'longitude': 4.362051, 'country': 'Belgium'}, 'BRUXELLES-NORD': {'id': 8812005, 'latitude': 50.85966, 'longitude': 4.36085, 'country': 'Belgium'}, 'BRUXELLES-SCHUMAN': {'id': 8811916, 'latitude': 50.84328, 'longitude': 4.380725, 'country': 'Belgium'}, 'BRUXELLES-LUXEMBOURG': {'id': 8811304, 'latitude': 50.83894, 'longitude': 4.373676000000001, 'country': 'Belgium'}, 'ETTERBEEK': {'id': 8811411, 'latitude': 50.82219, 'longitude': 4.389517, 'country': 'Belgium'}, 'WATERMAEL': {'id': 8811429, 'latitude': 50.80917, 'longitude': 4.399885, 'country': 'Belgium'}, 'BOITSFORT': {'id': 8811437, 'latitude': 50.7947, 'longitude': 4.408114, 'country': 'Belgium'}, 'GROENENDAAL': {'id': 8811445, 'latitude': 50.7661, 'longitude': 4.44949, 'country': 'Belgium'}, 'HOEILAART': {'id': 8811460, 'latitude': 50.76016, 'longitude': 4.46741, 'country': 'Belgium'}, 'LA HULPE': {'id': 8811510, 'latitude': 50.73796, 'longitude': 4.49706, 'country': 'Belgium'}, 'GENVAL': {'id': 8811528, 'latitude': 50.7257, 'longitude': 4.514834, 'country': 'Belgium'}, 'RIXENSART': {'id': 8811536, 'latitude': 50.71141, 'longitude': 4.5328599999999994, 'country': 'Belgium'}, 'PROFONDSART': {'id': 8811544, 'latitude': 50.69965, 'longitude': 4.5454349999999994, 'country': 'Belgium'}, 'OTTIGNIES': {'id': 8811601, 'latitude': 50.67367, 'longitude': 4.56936, 'country': 'Belgium'}, 'MONT-SAINT-GUIBERT': {'id': 8861549, 'latitude': 50.63761, 'longitude': 4.613883, 'country': 'Belgium'}, 'BLANMONT': {'id': 8861531, 'latitude': 50.61945, 'longitude': 4.6363900000000005, 'country': 'Belgium'}, 'CHASTRE': {'id': 8861523, 'latitude': 50.60882, 'longitude': 4.648884, 'country': 'Belgium'}, 'ERNAGE': {'id': 8861515, 'latitude': 50.59082, 'longitude': 4.66854, 'country': 'Belgium'}, 'GEMBLOUX': {'id': 8861200, 'latitude': 50.57048, 'longitude': 4.691497, 'country': 'Belgium'}, 'LONZEE': {'id': 8861416, 'latitude': 50.55194, 'longitude': 4.7201, 'country': 'Belgium'}, 'BEUZET': {'id': 8861424, 'latitude': 50.53421, 'longitude': 4.748531, 'country': 'Belgium'}, 'SAINT-DENIS-BOVESSE': {'id': 8861432, 'latitude': 50.5213, 'longitude': 4.76779, 'country': 'Belgium'}, 'RHISNES': {'id': 8861440, 'latitude': 50.49935, 'longitude': 4.80187, 'country': 'Belgium'}, 'NAMUR': {'id': 8863008, 'latitude': 50.46879000000001, 'longitude': 4.86222, 'country': 'Belgium'}, 'JAMBES-EST': {'id': 8863354, 'latitude': 50.4548, 'longitude': 4.88026, 'country': 'Belgium'}, 'DAVE-SAINT-MARTIN': {'id': 8863362, 'latitude': 50.4291, 'longitude': 4.884417, 'country': 'Belgium'}, 'NANINNE': {'id': 8864964, 'latitude': 50.41969, 'longitude': 4.929754, 'country': 'Belgium'}, 'SART-BERNARD': {'id': 8864956, 'latitude': 50.40637, 'longitude': 4.94974, 'country': 'Belgium'}, 'COURRIERE': {'id': 8864949, 'latitude': 50.38744000000001, 'longitude': 4.9960510000000005, 'country': 'Belgium'}, 'ASSESSE': {'id': 8864931, 'latitude': 50.36814, 'longitude': 5.022836, 'country': 'Belgium'}, 'NATOYE': {'id': 8864915, 'latitude': 50.3433, 'longitude': 5.061162, 'country': 'Belgium'}, 'CINEY': {'id': 8864501, 'latitude': 50.29105, 'longitude': 5.091406, 'country': 'Belgium'}, 'LEIGNON': {'id': 8864816, 'latitude': 50.26777, 'longitude': 5.10778, 'country': 'Belgium'}, 'CHAPOIS': {'id': 8864824, 'latitude': 50.26237, 'longitude': 5.12426, 'country': 'Belgium'}, 'HAVERSIN': {'id': 8864832, 'latitude': 50.24904, 'longitude': 5.194376, 'country': 'Belgium'}, 'AYE': {'id': 8864352, 'latitude': 50.22413, 'longitude': 5.301096, 'country': 'Belgium'}, 'MARLOIE': {'id': 8864345, 'latitude': 50.20282, 'longitude': 5.31389, 'country': 'Belgium'}, 'ROCHEFORT-JEMELLE': {'id': 8864006, 'latitude': 50.1604, 'longitude': 5.266697, 'country': 'Belgium'}, 'NIVELLES': {'id': 8814209, 'latitude': 50.59964, 'longitude': 4.335065, 'country': 'Belgium'}, 'OBAIX-BUZET': {'id': 8871332, 'latitude': 50.53521, 'longitude': 4.363569999999999, 'country': 'Belgium'}, 'TERMONDE': {'id': 8893401, 'latitude': 51.02278, 'longitude': 4.101430000000001, 'country': 'Belgium'}, 'ZELE': {'id': 8894235, 'latitude': 51.07325, 'longitude': 4.042001, 'country': 'Belgium'}, 'LOKEREN': {'id': 8894201, 'latitude': 51.10806, 'longitude': 3.987794, 'country': 'Belgium'}, 'OPWIJK': {'id': 8812146, 'latitude': 50.97478, 'longitude': 4.187317, 'country': 'Belgium'}, 'HEIZIJDE': {'id': 8812153, 'latitude': 50.9896, 'longitude': 4.156174, 'country': 'Belgium'}, 'LEBBEKE': {'id': 8812161, 'latitude': 51.00501, 'longitude': 4.134372, 'country': 'Belgium'}, 'SINT-GILLIS': {'id': 8893443, 'latitude': 51.0217, 'longitude': 4.117831, 'country': 'Belgium'}, 'PONT-A-CELLES': {'id': 8871365, 'latitude': 50.51381, 'longitude': 4.355296, 'country': 'Belgium'}, 'GOUY-LEZ-PIETON': {'id': 8871373, 'latitude': 50.49706, 'longitude': 4.325126, 'country': 'Belgium'}, 'GODARVILLE': {'id': 8871381, 'latitude': 50.4928, 'longitude': 4.29031, 'country': 'Belgium'}, 'MANAGE': {'id': 8882701, 'latitude': 50.50611, 'longitude': 4.23468, 'country': 'Belgium'}, 'LA LOUVIERE- CENTRE': {'id': 8882107, 'latitude': 50.47816, 'longitude': 4.17986, 'country': 'Belgium'}, 'LIEGE-GUILLEMINS': {'id': 8841004, 'latitude': 50.62455, 'longitude': 5.566698000000001, 'country': 'Belgium'}, 'LIEGE-CARRE': {'id': 8841558, 'latitude': 50.6403, 'longitude': 5.56113, 'country': 'Belgium'}, 'LIEGE-SAINT-LAMBERT': {'id': 8841525, 'latitude': 50.64635, 'longitude': 5.570451, 'country': 'Belgium'}, 'HERSTAL': {'id': 8841608, 'latitude': 50.66091, 'longitude': 5.622762000000001, 'country': 'Belgium'}, 'MILMORT': {'id': 8841665, 'latitude': 50.69246, 'longitude': 5.600094, 'country': 'Belgium'}, 'LIERS': {'id': 8841673, 'latitude': 50.69818, 'longitude': 5.566829, 'country': 'Belgium'}, 'SCHAERBEEK': {'id': 8811007, 'latitude': 50.87851, 'longitude': 4.37864, 'country': 'Belgium'}, 'HAREN-SUD': {'id': 8811130, 'latitude': 50.88969, 'longitude': 4.415358, 'country': 'Belgium'}, 'DIEGEM': {'id': 8811213, 'latitude': 50.89048, 'longitude': 4.442773000000001, 'country': 'Belgium'}, 'ZAVENTEM': {'id': 8811221, 'latitude': 50.88572, 'longitude': 4.46989, 'country': 'Belgium'}, 'NOSSEGEM': {'id': 8811247, 'latitude': 50.88331, 'longitude': 4.50611, 'country': 'Belgium'}, 'KORTENBERG': {'id': 8811254, 'latitude': 50.89307, 'longitude': 4.5433, 'country': 'Belgium'}, 'ERPS-KWERPS': {'id': 8811262, 'latitude': 50.89651, 'longitude': 4.585, 'country': 'Belgium'}, 'VELTEM': {'id': 8811270, 'latitude': 50.90052, 'longitude': 4.63352, 'country': 'Belgium'}, 'HERENT': {'id': 8811288, 'latitude': 50.90353, 'longitude': 4.6721900000000005, 'country': 'Belgium'}, 'LOUVAIN': {'id': 8833001, 'latitude': 50.88228, 'longitude': 4.715868, 'country': 'Belgium'}, 'HEVERLEE': {'id': 8833126, 'latitude': 50.86253, 'longitude': 4.695201, 'country': 'Belgium'}, 'OUD-HEVERLEE': {'id': 8833134, 'latitude': 50.83593, 'longitude': 4.65331, 'country': 'Belgium'}, 'SINT-JORIS-WEERT': {'id': 8833159, 'latitude': 50.80063, 'longitude': 4.651728, 'country': 'Belgium'}, 'PECROT': {'id': 8811775, 'latitude': 50.77851, 'longitude': 4.651483, 'country': 'Belgium'}, 'FLORIVAL': {'id': 8811767, 'latitude': 50.7615, 'longitude': 4.6538699999999995, 'country': 'Belgium'}, 'ARCHENNES': {'id': 8811759, 'latitude': 50.75435, 'longitude': 4.662441, 'country': 'Belgium'}, 'GASTUCHE': {'id': 8811742, 'latitude': 50.73665, 'longitude': 4.6496, 'country': 'Belgium'}, 'BASSE-WAVRE': {'id': 8811734, 'latitude': 50.72442, 'longitude': 4.621653, 'country': 'Belgium'}, 'WAVRE': {'id': 8811726, 'latitude': 50.71627, 'longitude': 4.60478, 'country': 'Belgium'}, 'BIERGES-WALIBI': {'id': 8811718, 'latitude': 50.70777, 'longitude': 4.59475, 'country': 'Belgium'}, 'LIMAL': {'id': 8811635, 'latitude': 50.69214, 'longitude': 4.5753, 'country': 'Belgium'}, 'HERENTALS': {'id': 8821717, 'latitude': 51.18151, 'longitude': 4.82954, 'country': 'Belgium'}, 'WOLFSTEE': {'id': 8821709, 'latitude': 51.16836, 'longitude': 4.786148000000001, 'country': 'Belgium'}, 'BOUWEL': {'id': 8821725, 'latitude': 51.16576, 'longitude': 4.7465150000000005, 'country': 'Belgium'}, 'NIJLEN': {'id': 8821667, 'latitude': 51.15984, 'longitude': 4.666589, 'country': 'Belgium'}, 'KESSEL': {'id': 8821659, 'latitude': 51.15106, 'longitude': 4.61846, 'country': 'Belgium'}, 'LIERRE': {'id': 8821600, 'latitude': 51.13576, 'longitude': 4.560611, 'country': 'Belgium'}, 'BOECHOUT': {'id': 8821634, 'latitude': 51.16348, 'longitude': 4.494487, 'country': 'Belgium'}, 'MORTSEL': {'id': 8821147, 'latitude': 51.18296, 'longitude': 4.448435, 'country': 'Belgium'}, 'ANVERS-BERCHEM': {'id': 8821121, 'latitude': 51.19923, 'longitude': 4.432219, 'country': 'Belgium'}, 'ANVERS-CENTRAL': {'id': 8821006, 'latitude': 51.2172, 'longitude': 4.421098000000001, 'country': 'Belgium'}, 'OSTENDE': {'id': 8891702, 'latitude': 51.22821, 'longitude': 2.92581, 'country': 'Belgium'}, 'ROULERS': {'id': 8896800, 'latitude': 50.94903, 'longitude': 3.130415, 'country': 'Belgium'}, 'HASSELT': {'id': 8831005, 'latitude': 50.93082, 'longitude': 5.327630999999999, 'country': 'Belgium'}, 'DIEPENBEEK': {'id': 8831112, 'latitude': 50.91045, 'longitude': 5.4199459999999995, 'country': 'Belgium'}, 'BILZEN': {'id': 8831138, 'latitude': 50.86864, 'longitude': 5.50938, 'country': 'Belgium'}, 'TONGRES': {'id': 8831310, 'latitude': 50.7844, 'longitude': 5.47328, 'country': 'Belgium'}, 'GLONS': {'id': 8841731, 'latitude': 50.75043, 'longitude': 5.535429, 'country': 'Belgium'}, 'LA LOUVIERE-SUD': {'id': 8882206, 'latitude': 50.46498, 'longitude': 4.190611, 'country': 'Belgium'}, 'LEVAL': {'id': 8882339, 'latitude': 50.4308, 'longitude': 4.211040000000001, 'country': 'Belgium'}, 'BINCHE': {'id': 8882362, 'latitude': 50.40876, 'longitude': 4.17245, 'country': 'Belgium'}, 'COURTRAI': {'id': 8896008, 'latitude': 50.8245, 'longitude': 3.264548, 'country': 'Belgium'}, 'HARELBEKE': {'id': 8896115, 'latitude': 50.85587, 'longitude': 3.314007, 'country': 'Belgium'}, 'WAREGEM': {'id': 8896149, 'latitude': 50.89246, 'longitude': 3.42551, 'country': 'Belgium'}, 'VICHTE': {'id': 8896230, 'latitude': 50.83366, 'longitude': 3.3916269999999997, 'country': 'Belgium'}, 'ANZEGEM': {'id': 8892734, 'latitude': 50.82639, 'longitude': 3.4950129999999997, 'country': 'Belgium'}, 'AUDENARDE': {'id': 8892601, 'latitude': 50.85012, 'longitude': 3.6003879999999997, 'country': 'Belgium'}, 'SINT-DENIJS-BOEKEL': {'id': 8892692, 'latitude': 50.8743, 'longitude': 3.6984, 'country': 'Belgium'}, 'MUNKZWALM': {'id': 8895232, 'latitude': 50.87568, 'longitude': 3.7332419999999997, 'country': 'Belgium'}, 'ZOTTEGEM': {'id': 8895208, 'latitude': 50.8691, 'longitude': 3.8144099999999996, 'country': 'Belgium'}, 'HILLEGEM': {'id': 8895422, 'latitude': 50.8913, 'longitude': 3.8574699999999997, 'country': 'Belgium'}, 'HERZELE': {'id': 8895430, 'latitude': 50.89722, 'longitude': 3.8806160000000003, 'country': 'Belgium'}, 'TERHAGEN': {'id': 8895448, 'latitude': 50.90165, 'longitude': 3.896657, 'country': 'Belgium'}, 'BURST': {'id': 8895455, 'latitude': 50.90719, 'longitude': 3.922418, 'country': 'Belgium'}, 'EDE': {'id': 8895877, 'latitude': 50.91105, 'longitude': 3.987525, 'country': 'Belgium'}, 'HAALTERT': {'id': 8895869, 'latitude': 50.90684, 'longitude': 4.023957, 'country': 'Belgium'}, 'WELLE': {'id': 8895851, 'latitude': 50.90327, 'longitude': 4.050617, 'country': 'Belgium'}, 'GENK': {'id': 8831765, 'latitude': 50.96706, 'longitude': 5.497683, 'country': 'Belgium'}, 'BOKRIJK': {'id': 8831781, 'latitude': 50.95581, 'longitude': 5.408383000000001, 'country': 'Belgium'}, 'KIEWIT': {'id': 8832375, 'latitude': 50.95485, 'longitude': 5.350226, 'country': 'Belgium'}, 'EUPEN': {'id': 8844628, 'latitude': 50.63516, 'longitude': 6.03711, 'country': 'Belgium'}, 'WELKENRAEDT': {'id': 8844503, 'latitude': 50.65971, 'longitude': 5.975386, 'country': 'Belgium'}, 'RONET': {'id': 8861119, 'latitude': 50.45774, 'longitude': 4.8284199999999995, 'country': 'Belgium'}, 'FLAWINNE': {'id': 8861127, 'latitude': 50.45624, 'longitude': 4.8063, 'country': 'Belgium'}, 'FLOREFFE': {'id': 8861135, 'latitude': 50.44333, 'longitude': 4.762371, 'country': 'Belgium'}, 'FRANIERE': {'id': 8861143, 'latitude': 50.43954, 'longitude': 4.73355, 'country': 'Belgium'}, 'MOUSTIER': {'id': 8861150, 'latitude': 50.45275, 'longitude': 4.69381, 'country': 'Belgium'}, 'HAM-SUR-SAMBRE': {'id': 8861168, 'latitude': 50.45255, 'longitude': 4.66939, 'country': 'Belgium'}, 'JEMEPPE-SUR-SAMBRE': {'id': 8874724, 'latitude': 50.45095, 'longitude': 4.66263, 'country': 'Belgium'}, 'AUVELAIS': {'id': 8874716, 'latitude': 50.4492, 'longitude': 4.630534, 'country': 'Belgium'}, 'TAMINES': {'id': 8874609, 'latitude': 50.43223, 'longitude': 4.608823999999999, 'country': 'Belgium'}, 'QUEVY': {'id': 8881505, 'latitude': 50.34153, 'longitude': 3.9094889999999998, 'country': 'Belgium'}, 'GENLY': {'id': 8881562, 'latitude': 50.39064000000001, 'longitude': 3.9116400000000002, 'country': 'Belgium'}, 'FRAMERIES': {'id': 8881570, 'latitude': 50.40593, 'longitude': 3.90659, 'country': 'Belgium'}, 'MONS': {'id': 8881000, 'latitude': 50.45386, 'longitude': 3.942542, 'country': 'Belgium'}, 'POPERINGE': {'id': 8896735, 'latitude': 50.85445, 'longitude': 2.736345, 'country': 'Belgium'}, 'YPRES': {'id': 8896503, 'latitude': 50.8474, 'longitude': 2.87659, 'country': 'Belgium'}, 'COMINES': {'id': 8896412, 'latitude': 50.77207, 'longitude': 2.999286, 'country': 'Belgium'}, 'WERVIK': {'id': 8896396, 'latitude': 50.78186, 'longitude': 3.04698, 'country': 'Belgium'}, 'MENIN': {'id': 8896305, 'latitude': 50.79949000000001, 'longitude': 3.1137900000000003, 'country': 'Belgium'}, 'BISSEGEM': {'id': 8896388, 'latitude': 50.82585, 'longitude': 3.224208, 'country': 'Belgium'}, 'WEVELGEM': {'id': 8896370, 'latitude': 50.81152, 'longitude': 3.183519, 'country': 'Belgium'}, 'NIMY': {'id': 8881315, 'latitude': 50.47164, 'longitude': 3.956093, 'country': 'Belgium'}, 'OBOURG': {'id': 8881406, 'latitude': 50.46988, 'longitude': 4.007808, 'country': 'Belgium'}, 'HAVRE': {'id': 8881430, 'latitude': 50.47075, 'longitude': 4.0599870000000005, 'country': 'Belgium'}, 'THIEU': {'id': 8881455, 'latitude': 50.46954, 'longitude': 4.09852, 'country': 'Belgium'}, 'BRACQUEGNIES': {'id': 8881463, 'latitude': 50.47446, 'longitude': 4.126348999999999, 'country': 'Belgium'}, 'MORLANWELZ': {'id': 8882230, 'latitude': 50.458, 'longitude': 4.24737, 'country': 'Belgium'}, 'CARNIERES': {'id': 8882248, 'latitude': 50.44796, 'longitude': 4.263829, 'country': 'Belgium'}, 'PIETON': {'id': 8871415, 'latitude': 50.43496, 'longitude': 4.2884400000000005, 'country': 'Belgium'}, 'FORCHIES': {'id': 8871514, 'latitude': 50.43331, 'longitude': 4.325381, 'country': 'Belgium'}, 'COUILLET': {'id': 8874054, 'latitude': 50.39272, 'longitude': 4.4685120000000005, 'country': 'Belgium'}, 'CHATELET': {'id': 8874005, 'latitude': 50.4101, 'longitude': 4.52186, 'country': 'Belgium'}, 'LE CAMPINAIRE': {'id': 8874559, 'latitude': 50.42383, 'longitude': 4.542787000000001, 'country': 'Belgium'}, 'FARCIENNES': {'id': 8874567, 'latitude': 50.42915, 'longitude': 4.55265, 'country': 'Belgium'}, 'AISEAU': {'id': 8874583, 'latitude': 50.42953, 'longitude': 4.58455, 'country': 'Belgium'}, 'JEMAPPES': {'id': 8884566, 'latitude': 50.45258, 'longitude': 3.885583, 'country': 'Belgium'}, 'QUAREGNON': {'id': 8884541, 'latitude': 50.44983, 'longitude': 3.8565410000000004, 'country': 'Belgium'}, 'SAINT-GHISLAIN': {'id': 8884004, 'latitude': 50.44286, 'longitude': 3.8202550000000004, 'country': 'Belgium'}, 'VILLE-POMMEROEUL': {'id': 8884632, 'latitude': 50.46454, 'longitude': 3.724245, 'country': 'Belgium'}, 'HARCHIES': {'id': 8884640, 'latitude': 50.48257, 'longitude': 3.698768, 'country': 'Belgium'}, 'BLATON': {'id': 8884715, 'latitude': 50.50546, 'longitude': 3.6663080000000003, 'country': 'Belgium'}, 'PERUWELZ': {'id': 8884855, 'latitude': 50.5137, 'longitude': 3.592777, 'country': 'Belgium'}, 'CALLENELLE': {'id': 8884889, 'latitude': 50.52736, 'longitude': 3.526178, 'country': 'Belgium'}, 'MAUBRAY': {'id': 8885530, 'latitude': 50.54756, 'longitude': 3.4955230000000004, 'country': 'Belgium'}, 'ANTOING': {'id': 8885522, 'latitude': 50.56963, 'longitude': 3.45131, 'country': 'Belgium'}, 'JURBISE': {'id': 8881166, 'latitude': 50.5305, 'longitude': 3.91069, 'country': 'Belgium'}, 'ERBISOEUL': {'id': 8881158, 'latitude': 50.50702, 'longitude': 3.8879910000000004, 'country': 'Belgium'}, 'GHLIN': {'id': 8881125, 'latitude': 50.48741, 'longitude': 3.90634, 'country': 'Belgium'}, 'RENAIX': {'id': 8892908, 'latitude': 50.74251, 'longitude': 3.60255, 'country': 'Belgium'}, 'EINE': {'id': 8892627, 'latitude': 50.87043, 'longitude': 3.6237769999999996, 'country': 'Belgium'}, 'ZINGEM': {'id': 8892635, 'latitude': 50.90803, 'longitude': 3.646381, 'country': 'Belgium'}, 'GAVERE-ASPER': {'id': 8892643, 'latitude': 50.93002, 'longitude': 3.639728, 'country': 'Belgium'}, 'EKE-NAZARETH': {'id': 8892650, 'latitude': 50.96077, 'longitude': 3.627836, 'country': 'Belgium'}, 'EEKLO': {'id': 8893708, 'latitude': 51.18133, 'longitude': 3.574518, 'country': 'Belgium'}, 'WAARSCHOOT': {'id': 8893815, 'latitude': 51.15461, 'longitude': 3.61535, 'country': 'Belgium'}, 'SLEIDINGE': {'id': 8893260, 'latitude': 51.1266, 'longitude': 3.6675269999999998, 'country': 'Belgium'}, 'EVERGEM': {'id': 8893252, 'latitude': 51.10758, 'longitude': 3.7013809999999996, 'country': 'Belgium'}, 'WONDELGEM': {'id': 8893211, 'latitude': 51.08836, 'longitude': 3.719075, 'country': 'Belgium'}, 'GAND-DAMPOORT': {'id': 8893120, 'latitude': 51.05637, 'longitude': 3.74059, 'country': 'Belgium'}, 'MALINES': {'id': 8822004, 'latitude': 51.01765, 'longitude': 4.482785, 'country': 'Belgium'}, 'KAPELLE-OP-DEN-BOS': {'id': 8822053, 'latitude': 51.01084, 'longitude': 4.359118, 'country': 'Belgium'}, 'LONDERZEEL': {'id': 8822111, 'latitude': 51.00909, 'longitude': 4.299069, 'country': 'Belgium'}, 'KONTICH-LINT': {'id': 8821311, 'latitude': 51.13403, 'longitude': 4.476358, 'country': 'Belgium'}, 'HOVE': {'id': 8821337, 'latitude': 51.15412, 'longitude': 4.465158, 'country': 'Belgium'}, 'MORTSEL-LIERSESTEENWEG': {'id': 8821246, 'latitude': 51.16903, 'longitude': 4.468841, 'country': 'Belgium'}, 'SOIGNIES': {'id': 8883113, 'latitude': 50.57277, 'longitude': 4.067518, 'country': 'Belgium'}, 'NEUFVILLES': {'id': 8883121, 'latitude': 50.5436, 'longitude': 4.010669999999999, 'country': 'Belgium'}, 'MASNUY-SAINT-PIERRE': {'id': 8881174, 'latitude': 50.53655, 'longitude': 3.96214, 'country': 'Belgium'}, 'WEZEMAAL': {'id': 8833233, 'latitude': 50.95626, 'longitude': 4.747681, 'country': 'Belgium'}, 'AARSCHOT': {'id': 8833209, 'latitude': 50.98441, 'longitude': 4.82404, 'country': 'Belgium'}, 'BEGIJNENDIJK': {'id': 8821865, 'latitude': 51.02197, 'longitude': 4.80034, 'country': 'Belgium'}, 'BOOISCHOT': {'id': 8821857, 'latitude': 51.03734, 'longitude': 4.773480999999999, 'country': 'Belgium'}, 'HEIST-OP-DEN-BERG': {'id': 8821832, 'latitude': 51.07415, 'longitude': 4.708231, 'country': 'Belgium'}, 'MELKOUWEN': {'id': 8821824, 'latitude': 51.09494, 'longitude': 4.671533, 'country': 'Belgium'}, 'BERLAAR': {'id': 8821816, 'latitude': 51.11366, 'longitude': 4.638808, 'country': 'Belgium'}, 'WIJGMAAL': {'id': 8833175, 'latitude': 50.92274000000001, 'longitude': 4.701478, 'country': 'Belgium'}, 'HAMBOS': {'id': 8822533, 'latitude': 50.94425, 'longitude': 4.66301, 'country': 'Belgium'}, 'WESPELAAR-TILDONK': {'id': 8822525, 'latitude': 50.95855, 'longitude': 4.638014, 'country': 'Belgium'}, 'HAACHT': {'id': 8822517, 'latitude': 50.96643, 'longitude': 4.613306, 'country': 'Belgium'}, 'BOORTMEERBEEK': {'id': 8822475, 'latitude': 50.98185, 'longitude': 4.5739, 'country': 'Belgium'}, 'HEVER': {'id': 8822459, 'latitude': 50.99779, 'longitude': 4.537634, 'country': 'Belgium'}, 'MUIZEN': {'id': 8822426, 'latitude': 51.0082, 'longitude': 4.51384, 'country': 'Belgium'}, 'MALINES-NEKKERSPOEL': {'id': 8822343, 'latitude': 51.02988, 'longitude': 4.489917, 'country': 'Belgium'}, 'SINT-KATELIJNE-WAVER': {'id': 8822228, 'latitude': 51.06998, 'longitude': 4.496119, 'country': 'Belgium'}, 'DUFFEL': {'id': 8822210, 'latitude': 51.09124, 'longitude': 4.493183999999999, 'country': 'Belgium'}, 'SCHULEN': {'id': 8831088, 'latitude': 50.96376, 'longitude': 5.187405, 'country': 'Belgium'}, 'DIEST': {'id': 8831401, 'latitude': 50.99334, 'longitude': 5.0500300000000005, 'country': 'Belgium'}, 'ZICHEM': {'id': 8833274, 'latitude': 51.00669, 'longitude': 4.98736, 'country': 'Belgium'}, 'TESTELT': {'id': 8833266, 'latitude': 51.00986, 'longitude': 4.94583, 'country': 'Belgium'}, 'LANGDORP': {'id': 8833258, 'latitude': 51.00247, 'longitude': 4.86354, 'country': 'Belgium'}, 'BRUSSELS AIRPORT-ZAVENTEM': {'id': 8819406, 'latitude': 50.89646, 'longitude': 4.4820720000000005, 'country': 'Belgium'}, 'MORTSEL-OUDE GOD': {'id': 8821238, 'latitude': 51.17125, 'longitude': 4.455737, 'country': 'Belgium'}, 'MORTSEL-DEURNESTEENWEG': {'id': 8821154, 'latitude': 51.18303, 'longitude': 4.446515, 'country': 'Belgium'}, 'FOREST-EST': {'id': 8814118, 'latitude': 50.8102, 'longitude': 4.32094, 'country': 'Belgium'}, 'UCCLE-STALLE': {'id': 8814126, 'latitude': 50.80241, 'longitude': 4.3239, 'country': 'Belgium'}, 'UCCLE-CALEVOET': {'id': 8814134, 'latitude': 50.79175, 'longitude': 4.332211, 'country': 'Belgium'}, 'LINKEBEEK': {'id': 8814142, 'latitude': 50.77369, 'longitude': 4.339434, 'country': 'Belgium'}, 'HOLLEKEN': {'id': 8814159, 'latitude': 50.76763, 'longitude': 4.353956, 'country': 'Belgium'}, 'RHODE-SAINT-GENESE': {'id': 8814167, 'latitude': 50.74781, 'longitude': 4.362001, 'country': 'Belgium'}, 'DE HOEK': {'id': 8814175, 'latitude': 50.73881, 'longitude': 4.370712999999999, 'country': 'Belgium'}, 'WATERLOO': {'id': 8814266, 'latitude': 50.71542, 'longitude': 4.383485, 'country': 'Belgium'}, \"BRAINE-L'ALLEUD\": {'id': 8814258, 'latitude': 50.68478, 'longitude': 4.37553, 'country': 'Belgium'}, 'LILLOIS': {'id': 8814241, 'latitude': 50.64542, 'longitude': 4.365369, 'country': 'Belgium'}, 'HAL': {'id': 8814308, 'latitude': 50.73393, 'longitude': 4.240633, 'country': 'Belgium'}, 'BUIZINGEN': {'id': 8814340, 'latitude': 50.75158, 'longitude': 4.25856, 'country': 'Belgium'}, 'LOT': {'id': 8814357, 'latitude': 50.76636, 'longitude': 4.2737, 'country': 'Belgium'}, 'RUISBROEK': {'id': 8814365, 'latitude': 50.79183, 'longitude': 4.29533, 'country': 'Belgium'}, 'FOREST-MIDI': {'id': 8814373, 'latitude': 50.80922, 'longitude': 4.3091669999999995, 'country': 'Belgium'}, 'SAINT-NICOLAS': {'id': 8894508, 'latitude': 51.17147, 'longitude': 4.142963, 'country': 'Belgium'}, 'NIEUWKERKEN-WAAS': {'id': 8894714, 'latitude': 51.18561, 'longitude': 4.185904, 'country': 'Belgium'}, 'BEVEREN': {'id': 8894748, 'latitude': 51.20834, 'longitude': 4.259525, 'country': 'Belgium'}, 'MELSELE': {'id': 8894755, 'latitude': 51.21071, 'longitude': 4.286767, 'country': 'Belgium'}, 'ZWIJNDRECHT': {'id': 8894821, 'latitude': 51.21411, 'longitude': 4.329776, 'country': 'Belgium'}, 'ANVERS-SUD': {'id': 8821196, 'latitude': 51.19783, 'longitude': 4.390264, 'country': 'Belgium'}, 'ALKEN': {'id': 8831039, 'latitude': 50.88683, 'longitude': 5.292867, 'country': 'Belgium'}, 'SAINT-TROND': {'id': 8831807, 'latitude': 50.81762, 'longitude': 5.17665, 'country': 'Belgium'}, 'LANDEN': {'id': 8833605, 'latitude': 50.74793, 'longitude': 5.07966, 'country': 'Belgium'}, 'NEERWINDEN': {'id': 8833670, 'latitude': 50.76396, 'longitude': 5.03632, 'country': 'Belgium'}, 'EZEMAAL': {'id': 8833449, 'latitude': 50.77213, 'longitude': 4.994219999999999, 'country': 'Belgium'}, 'TIRLEMONT': {'id': 8833308, 'latitude': 50.80802, 'longitude': 4.92581, 'country': 'Belgium'}, 'VERTRIJK': {'id': 8833050, 'latitude': 50.83628, 'longitude': 4.83552, 'country': 'Belgium'}, 'ANDERLECHT': {'id': 8811940, 'latitude': 50.8179, 'longitude': 4.2918, 'country': 'Belgium'}, 'TRONCHIENNES': {'id': 8892031, 'latitude': 51.04729, 'longitude': 3.6552010000000004, 'country': 'Belgium'}, 'LANDEGEM': {'id': 8892056, 'latitude': 51.06431, 'longitude': 3.576856, 'country': 'Belgium'}, 'HANSBEKE': {'id': 8891165, 'latitude': 51.07321, 'longitude': 3.53621, 'country': 'Belgium'}, 'BELLEM': {'id': 8891157, 'latitude': 51.08391, 'longitude': 3.48737, 'country': 'Belgium'}, 'AALTER': {'id': 8891140, 'latitude': 51.0923, 'longitude': 3.4478480000000005, 'country': 'Belgium'}, 'MARIA-AALTER': {'id': 8891132, 'latitude': 51.10761, 'longitude': 3.3867300000000005, 'country': 'Belgium'}, 'BEERNEM': {'id': 8891124, 'latitude': 51.12801, 'longitude': 3.3298900000000002, 'country': 'Belgium'}, 'OOSTKAMP': {'id': 8891116, 'latitude': 51.15411, 'longitude': 3.25747, 'country': 'Belgium'}, 'BLANKENBERGE': {'id': 8891405, 'latitude': 51.31243, 'longitude': 3.13386, 'country': 'Belgium'}, 'VIANE-MOERBEKE': {'id': 8895612, 'latitude': 50.75198, 'longitude': 3.9173400000000003, 'country': 'Belgium'}, 'GAMMERAGES': {'id': 8895620, 'latitude': 50.74392, 'longitude': 3.965726, 'country': 'Belgium'}, 'TOLLEMBEEK': {'id': 8895638, 'latitude': 50.73552, 'longitude': 3.992826, 'country': 'Belgium'}, 'HERNE': {'id': 8895646, 'latitude': 50.72371, 'longitude': 4.014578, 'country': 'Belgium'}, 'ENGHIEN': {'id': 8883311, 'latitude': 50.69727, 'longitude': 4.047358999999999, 'country': 'Belgium'}, 'EREMBODEGEM': {'id': 8895091, 'latitude': 50.91962, 'longitude': 4.055451000000001, 'country': 'Belgium'}, 'ALOST': {'id': 8895000, 'latitude': 50.94282000000001, 'longitude': 4.039649, 'country': 'Belgium'}, 'MARCHE-LES-DAMES': {'id': 8863461, 'latitude': 50.48074, 'longitude': 4.964580000000001, 'country': 'Belgium'}, 'NAMECHE': {'id': 8863453, 'latitude': 50.47043, 'longitude': 4.997939, 'country': 'Belgium'}, 'SCLAIGNEAUX': {'id': 8863446, 'latitude': 50.49224, 'longitude': 5.026358999999999, 'country': 'Belgium'}, 'CHATEAU-DE-SEILLES': {'id': 8863438, 'latitude': 50.49721, 'longitude': 5.08175, 'country': 'Belgium'}, 'ANDENNE': {'id': 8863404, 'latitude': 50.49677, 'longitude': 5.094701000000001, 'country': 'Belgium'}, 'BAS-OHA': {'id': 8843430, 'latitude': 50.52263, 'longitude': 5.19094, 'country': 'Belgium'}, 'STATTE': {'id': 8843406, 'latitude': 50.52828, 'longitude': 5.21968, 'country': 'Belgium'}, 'HUY': {'id': 8843307, 'latitude': 50.52724, 'longitude': 5.23421, 'country': 'Belgium'}, 'AMPSIN': {'id': 8843323, 'latitude': 50.53922, 'longitude': 5.289727, 'country': 'Belgium'}, 'AMAY': {'id': 8843331, 'latitude': 50.54601, 'longitude': 5.32049, 'country': 'Belgium'}, 'HAUTE-FLONE': {'id': 8843349, 'latitude': 50.55349, 'longitude': 5.330336, 'country': 'Belgium'}, 'ENGIS': {'id': 8843240, 'latitude': 50.58296, 'longitude': 5.4019900000000005, 'country': 'Belgium'}, 'FLEMALLE-HAUTE': {'id': 8843208, 'latitude': 50.59531, 'longitude': 5.457661, 'country': 'Belgium'}, 'LEMAN': {'id': 8843224, 'latitude': 50.6004, 'longitude': 5.46831, 'country': 'Belgium'}, 'FLEMALLE-GRANDE': {'id': 8843166, 'latitude': 50.60535, 'longitude': 5.480980000000001, 'country': 'Belgium'}, 'JEMEPPE-SUR-MEUSE': {'id': 8843158, 'latitude': 50.61845, 'longitude': 5.497871, 'country': 'Belgium'}, 'PONT-DE-SERAING': {'id': 8843141, 'latitude': 50.61965, 'longitude': 5.510161, 'country': 'Belgium'}, 'SCLESSIN': {'id': 8843133, 'latitude': 50.60984000000001, 'longitude': 5.55891, 'country': 'Belgium'}, 'ANS': {'id': 8841202, 'latitude': 50.66121, 'longitude': 5.5097, 'country': 'Belgium'}, 'BIERSET-AWANS': {'id': 8841319, 'latitude': 50.65861, 'longitude': 5.46055, 'country': 'Belgium'}, 'VOROUX': {'id': 8841327, 'latitude': 50.66181, 'longitude': 5.4295599999999995, 'country': 'Belgium'}, 'FEXHE-LE-HAUT-CLOCHER': {'id': 8841467, 'latitude': 50.66405, 'longitude': 5.39845, 'country': 'Belgium'}, 'MOMALLE': {'id': 8841459, 'latitude': 50.66991, 'longitude': 5.3676, 'country': 'Belgium'}, 'REMICOURT': {'id': 8841442, 'latitude': 50.67861, 'longitude': 5.32141, 'country': 'Belgium'}, 'BLERET': {'id': 8841434, 'latitude': 50.68507, 'longitude': 5.286398, 'country': 'Belgium'}, 'WAREMME': {'id': 8841400, 'latitude': 50.69455, 'longitude': 5.24948, 'country': 'Belgium'}, 'LEMBEEK': {'id': 8814332, 'latitude': 50.71511, 'longitude': 4.22158, 'country': 'Belgium'}, 'TUBIZE': {'id': 8883808, 'latitude': 50.69171, 'longitude': 4.20573, 'country': 'Belgium'}, 'HENNUYERES': {'id': 8883022, 'latitude': 50.65101, 'longitude': 4.17589, 'country': 'Belgium'}, 'BRAINE-LE-COMTE': {'id': 8883006, 'latitude': 50.60508, 'longitude': 4.1376599999999994, 'country': 'Belgium'}, 'BOUSSU': {'id': 8884319, 'latitude': 50.43638, 'longitude': 3.7970269999999995, 'country': 'Belgium'}, 'HAININ': {'id': 8884327, 'latitude': 50.42802, 'longitude': 3.766893, 'country': 'Belgium'}, 'THULIN': {'id': 8884350, 'latitude': 50.42333, 'longitude': 3.744708, 'country': 'Belgium'}, 'QUIEVRAIN': {'id': 8884335, 'latitude': 50.41011, 'longitude': 3.6860800000000005, 'country': 'Belgium'}, 'REBAIX': {'id': 8886587, 'latitude': 50.66124, 'longitude': 3.793624, 'country': 'Belgium'}, 'PAPIGNIES': {'id': 8886561, 'latitude': 50.68658, 'longitude': 3.82341, 'country': 'Belgium'}, 'HOURAING': {'id': 8886553, 'latitude': 50.70306, 'longitude': 3.835174, 'country': 'Belgium'}, 'LESSINES': {'id': 8886504, 'latitude': 50.71201, 'longitude': 3.8364339999999997, 'country': 'Belgium'}, 'ACREN': {'id': 8886546, 'latitude': 50.7331, 'longitude': 3.84709, 'country': 'Belgium'}, 'ANVERS-LUCHTBAL': {'id': 8821063, 'latitude': 51.24413, 'longitude': 4.425033, 'country': 'Belgium'}, 'NOORDERKEMPEN (BRECHT)': {'id': 8821105, 'latitude': 51.35683, 'longitude': 4.6322, 'country': 'Belgium'}, 'DOLHAIN-GILEPPE': {'id': 8844545, 'latitude': 50.61625, 'longitude': 5.93649, 'country': 'Belgium'}, 'VERVIERS-PALAIS': {'id': 8844057, 'latitude': 50.59092, 'longitude': 5.865333000000001, 'country': 'Belgium'}, 'NESSONVAUX': {'id': 8844230, 'latitude': 50.57209, 'longitude': 5.7415769999999995, 'country': 'Belgium'}, 'FRAIPONT': {'id': 8844255, 'latitude': 50.56506, 'longitude': 5.723666000000001, 'country': 'Belgium'}, 'TROOZ': {'id': 8844271, 'latitude': 50.57321, 'longitude': 5.688351, 'country': 'Belgium'}, 'CHAUDFONTAINE': {'id': 8842051, 'latitude': 50.58698, 'longitude': 5.643733999999999, 'country': 'Belgium'}, 'CHENEE': {'id': 8842036, 'latitude': 50.60802, 'longitude': 5.616075, 'country': 'Belgium'}, 'ANGLEUR': {'id': 8842002, 'latitude': 50.61314, 'longitude': 5.59983, 'country': 'Belgium'}, 'LA PANNE': {'id': 8892338, 'latitude': 51.0774, 'longitude': 2.601966, 'country': 'Belgium'}, 'COXYDE': {'id': 8892320, 'latitude': 51.0792, 'longitude': 2.652773, 'country': 'Belgium'}, 'FURNES': {'id': 8892304, 'latitude': 51.07387, 'longitude': 2.66994, 'country': 'Belgium'}, 'DIXMUDE': {'id': 8892452, 'latitude': 51.03272, 'longitude': 2.868947, 'country': 'Belgium'}, 'KORTEMARK': {'id': 8892403, 'latitude': 51.02525, 'longitude': 3.043456, 'country': 'Belgium'}, 'GENTBRUGGE': {'id': 8893179, 'latitude': 51.03864, 'longitude': 3.756326, 'country': 'Belgium'}, 'BEERVELDE': {'id': 8894151, 'latitude': 51.08753, 'longitude': 3.8793830000000002, 'country': 'Belgium'}, 'SINAAI': {'id': 8894425, 'latitude': 51.1434, 'longitude': 4.0689400000000004, 'country': 'Belgium'}, 'BELSELE': {'id': 8894433, 'latitude': 51.15099, 'longitude': 4.08861, 'country': 'Belgium'}, 'WEERDE': {'id': 8822251, 'latitude': 50.97745, 'longitude': 4.470935, 'country': 'Belgium'}, 'EPPEGEM': {'id': 8822269, 'latitude': 50.9584, 'longitude': 4.45749, 'country': 'Belgium'}, 'VILVORDE': {'id': 8811189, 'latitude': 50.92458, 'longitude': 4.432826, 'country': 'Belgium'}, 'BUDA': {'id': 8811148, 'latitude': 50.9075, 'longitude': 4.417075, 'country': 'Belgium'}, 'Y.RENORY': {'id': 8847258, 'latitude': 50.60485, 'longitude': 5.55788, 'country': 'Belgium'}, 'OUGREE': {'id': 8843174, 'latitude': 50.6054, 'longitude': 5.5369720000000004, 'country': 'Belgium'}, 'SERAING': {'id': 8843067, 'latitude': 50.6089, 'longitude': 5.513776999999999, 'country': 'Belgium'}, 'LIEDEKERKE': {'id': 8895836, 'latitude': 50.88253, 'longitude': 4.09529, 'country': 'Belgium'}, 'CHARLEROI-OUEST': {'id': 8872066, 'latitude': 50.41095, 'longitude': 4.436652, 'country': 'Belgium'}, 'LODELINSART': {'id': 8872306, 'latitude': 50.43245, 'longitude': 4.46295, 'country': 'Belgium'}, 'FLEURUS': {'id': 8872413, 'latitude': 50.48192, 'longitude': 4.543746, 'country': 'Belgium'}, 'LIGNY': {'id': 8872520, 'latitude': 50.51173, 'longitude': 4.566134, 'country': 'Belgium'}, 'TILLY': {'id': 8872553, 'latitude': 50.55808, 'longitude': 4.552674, 'country': 'Belgium'}, 'VILLERS-LA-VILLE': {'id': 8872579, 'latitude': 50.5781, 'longitude': 4.533348, 'country': 'Belgium'}, 'LA ROCHE (BRABANT)': {'id': 8872587, 'latitude': 50.61034, 'longitude': 4.53916, 'country': 'Belgium'}, 'FAUX': {'id': 8872611, 'latitude': 50.62183, 'longitude': 4.549259999999999, 'country': 'Belgium'}, 'COURT-SAINT-ETIENNE': {'id': 8811825, 'latitude': 50.64557, 'longitude': 4.5658199999999995, 'country': 'Belgium'}, 'CEROUX-MOUSTY': {'id': 8811817, 'latitude': 50.65994, 'longitude': 4.569049, 'country': 'Belgium'}, 'FORRIERES': {'id': 8864311, 'latitude': 50.13276, 'longitude': 5.276783, 'country': 'Belgium'}, 'GRUPONT': {'id': 8864337, 'latitude': 50.0906, 'longitude': 5.280526999999999, 'country': 'Belgium'}, 'POIX-SAINT-HUBERT': {'id': 8865227, 'latitude': 50.01951, 'longitude': 5.2926459999999995, 'country': 'Belgium'}, 'LIBRAMONT': {'id': 8865003, 'latitude': 49.92043, 'longitude': 5.37927, 'country': 'Belgium'}, 'NEUFCHATEAU': {'id': 8866258, 'latitude': 49.85432, 'longitude': 5.452557, 'country': 'Belgium'}, 'MARBEHAN': {'id': 8866175, 'latitude': 49.72733, 'longitude': 5.539757, 'country': 'Belgium'}, 'HABAY': {'id': 8866142, 'latitude': 49.71825, 'longitude': 5.632689, 'country': 'Belgium'}, 'STOCKEM': {'id': 8862018, 'latitude': 49.69094000000001, 'longitude': 5.769116, 'country': 'Belgium'}, 'VIVILLE': {'id': 8866118, 'latitude': 49.68824, 'longitude': 5.786525, 'country': 'Belgium'}, 'ARLON': {'id': 8866001, 'latitude': 49.68053, 'longitude': 5.809972, 'country': 'Belgium'}, 'IZEGEM': {'id': 8896909, 'latitude': 50.92115, 'longitude': 3.2120889999999997, 'country': 'Belgium'}, 'INGELMUNSTER': {'id': 8896925, 'latitude': 50.91433, 'longitude': 3.255416, 'country': 'Belgium'}, 'NEERPELT': {'id': 8832615, 'latitude': 51.22237, 'longitude': 5.43717, 'country': 'Belgium'}, 'OVERPELT': {'id': 8832573, 'latitude': 51.21562, 'longitude': 5.422756, 'country': 'Belgium'}, 'LOMMEL': {'id': 8832565, 'latitude': 51.21156, 'longitude': 5.312032, 'country': 'Belgium'}, 'MOL': {'id': 8832409, 'latitude': 51.19105, 'longitude': 5.116333, 'country': 'Belgium'}, 'HAMONT': {'id': 8832664, 'latitude': 51.24642, 'longitude': 5.5432760000000005, 'country': 'Belgium'}, 'BALEN': {'id': 8832045, 'latitude': 51.1691, 'longitude': 5.164985, 'country': 'Belgium'}, 'BOURG-LEOPOLD': {'id': 8832003, 'latitude': 51.11731, 'longitude': 5.25729, 'country': 'Belgium'}, 'BEVERLO': {'id': 8832227, 'latitude': 51.08772, 'longitude': 5.234375, 'country': 'Belgium'}, 'BERINGEN': {'id': 8832235, 'latitude': 51.0506, 'longitude': 5.23589, 'country': 'Belgium'}, 'HEUSDEN': {'id': 8832243, 'latitude': 51.0382, 'longitude': 5.281786, 'country': 'Belgium'}, 'ZOLDER': {'id': 8832250, 'latitude': 51.03352, 'longitude': 5.330274, 'country': 'Belgium'}, 'ZONHOVEN': {'id': 8832334, 'latitude': 50.98956, 'longitude': 5.348813, 'country': 'Belgium'}, 'OLEN': {'id': 8832458, 'latitude': 51.17403, 'longitude': 4.9025, 'country': 'Belgium'}, 'GEEL': {'id': 8832433, 'latitude': 51.16896, 'longitude': 4.988611, 'country': 'Belgium'}, 'MERELBEKE': {'id': 8893013, 'latitude': 51.01753, 'longitude': 3.7688900000000003, 'country': 'Belgium'}, 'MELLE': {'id': 8893039, 'latitude': 51.00281, 'longitude': 3.7970900000000003, 'country': 'Belgium'}, 'GONTRODE': {'id': 8893047, 'latitude': 50.9802, 'longitude': 3.801671, 'country': 'Belgium'}, 'LANDSKOUTER': {'id': 8893054, 'latitude': 50.97055, 'longitude': 3.791148, 'country': 'Belgium'}, 'MOORTSELE': {'id': 8893062, 'latitude': 50.95352000000001, 'longitude': 3.78134, 'country': 'Belgium'}, 'SCHELDEWINDEKE': {'id': 8893070, 'latitude': 50.93707, 'longitude': 3.7778440000000004, 'country': 'Belgium'}, 'BALEGEM-DORP': {'id': 8895257, 'latitude': 50.91961, 'longitude': 3.7914230000000004, 'country': 'Belgium'}, 'BALEGEM-ZUID': {'id': 8895240, 'latitude': 50.90051, 'longitude': 3.8058699999999996, 'country': 'Belgium'}, 'LIERDE': {'id': 8895570, 'latitude': 50.81624, 'longitude': 3.826561, 'country': 'Belgium'}, 'SILLY': {'id': 8883436, 'latitude': 50.66238, 'longitude': 3.935861, 'country': 'Belgium'}, 'QUEVY-FRONTIERE': {'id': 8889003, 'latitude': 50.32771, 'longitude': 3.908753, 'country': 'Belgium'}, 'AULNOYE AYMERIES (F)': {'id': 8729560, 'latitude': 50.19744, 'longitude': 3.8434129999999995, 'country': 'France'}, 'HOBOKEN-POLDER': {'id': 8824158, 'latitude': 51.1827, 'longitude': 4.347787, 'country': 'Belgium'}, 'HEMIKSEM': {'id': 8824224, 'latitude': 51.13625, 'longitude': 4.338294, 'country': 'Belgium'}, 'SCHELLE': {'id': 8824232, 'latitude': 51.12551, 'longitude': 4.340261, 'country': 'Belgium'}, 'NIEL': {'id': 8824240, 'latitude': 51.1116, 'longitude': 4.338591, 'country': 'Belgium'}, 'BOOM': {'id': 8822814, 'latitude': 51.09071, 'longitude': 4.360698, 'country': 'Belgium'}, 'RUISBROEK-SAUVEGARDE': {'id': 8822848, 'latitude': 51.08103, 'longitude': 4.325001, 'country': 'Belgium'}, 'PUURS': {'id': 8822715, 'latitude': 51.07722, 'longitude': 4.282701, 'country': 'Belgium'}, 'BLANDAIN-FRONTIERE': {'id': 8889045, 'latitude': 50.61749, 'longitude': 3.26373, 'country': 'France'}, 'BAISIEUX (FR)': {'id': 8728687, 'latitude': 50.6, 'longitude': 3.25, 'country': 'France'}, 'ASCQ (FR)': {'id': 8728686, 'latitude': 50.61667, 'longitude': 3.166667, 'country': 'France'}, 'PONT DE BOIS (FR)': {'id': 8728683, 'latitude': 50.62416, 'longitude': 3.1275, 'country': 'France'}, 'LILLE FLANDRES (FR)': {'id': 8728600, 'latitude': 50.63333, 'longitude': 3.066667, 'country': 'France'}, 'ANVERS-NOORDERDOKKEN': {'id': 8821089, 'latitude': 51.26164, 'longitude': 4.42791, 'country': 'Belgium'}, 'ESSENE LOMBEEK': {'id': 8812260, 'latitude': 50.88245, 'longitude': 4.11517, 'country': 'Belgium'}, 'TERNAT': {'id': 8812252, 'latitude': 50.87452, 'longitude': 4.1653400000000005, 'country': 'Belgium'}, 'SINT-MARTENS-BODEGEM': {'id': 8812245, 'latitude': 50.86716, 'longitude': 4.205080000000001, 'country': 'Belgium'}, 'DILBEEK': {'id': 8812237, 'latitude': 50.86673, 'longitude': 4.24339, 'country': 'Belgium'}, 'GRAND-BIGARD': {'id': 8812229, 'latitude': 50.86834, 'longitude': 4.273542, 'country': 'Belgium'}, 'BERCHEM-SAINTE-AGATHE': {'id': 8812211, 'latitude': 50.87263, 'longitude': 4.289892, 'country': 'Belgium'}, 'JETTE': {'id': 8812047, 'latitude': 50.88083, 'longitude': 4.326218, 'country': 'Belgium'}, 'BOCKSTAEL': {'id': 8812021, 'latitude': 50.87943, 'longitude': 4.34851, 'country': 'Belgium'}, 'STERPENICH-FRONTIERE': {'id': 8869054, 'latitude': 49.64396, 'longitude': 5.90415, 'country': 'Belgium'}, 'LUXEMBOURG (LU)': {'id': 8200100, 'latitude': 49.6, 'longitude': 6.133333, 'country': 'Luxembourg'}, 'GERMOIR': {'id': 8811403, 'latitude': 50.83, 'longitude': 4.379445, 'country': 'Belgium'}, 'DELTA': {'id': 8811205, 'latitude': 50.81836, 'longitude': 4.403871, 'country': 'Belgium'}, 'MERODE': {'id': 8811197, 'latitude': 50.83928, 'longitude': 4.398932, 'country': 'Belgium'}, 'MEISER': {'id': 8811171, 'latitude': 50.85407, 'longitude': 4.394424, 'country': 'Belgium'}, 'EVERE': {'id': 8811106, 'latitude': 50.86778, 'longitude': 4.400963, 'country': 'Belgium'}, 'BORDET': {'id': 8811163, 'latitude': 50.87779000000001, 'longitude': 4.410024, 'country': 'Belgium'}, 'HAREN': {'id': 8811155, 'latitude': 50.88888, 'longitude': 4.419980000000001, 'country': 'Belgium'}, 'HOFSTADE': {'id': 8822277, 'latitude': 50.98866, 'longitude': 4.49834, 'country': 'Belgium'}, 'KWATRECHT': {'id': 8893567, 'latitude': 50.99175, 'longitude': 3.829591, 'country': 'Belgium'}, 'WETTEREN': {'id': 8893559, 'latitude': 51.0016, 'longitude': 3.88188, 'country': 'Belgium'}, 'SCHELLEBELLE': {'id': 8893542, 'latitude': 51.00315, 'longitude': 3.9213699999999996, 'country': 'Belgium'}, 'SERSKAMP': {'id': 8893583, 'latitude': 50.9844, 'longitude': 3.9593599999999998, 'country': 'Belgium'}, 'LEDE': {'id': 8895067, 'latitude': 50.9709, 'longitude': 3.98498, 'country': 'Belgium'}, 'ZELLIK': {'id': 8812062, 'latitude': 50.89003, 'longitude': 4.274546, 'country': 'Belgium'}, 'ASSE': {'id': 8812070, 'latitude': 50.90649000000001, 'longitude': 4.207987999999999, 'country': 'Belgium'}, 'MOLLEM': {'id': 8812112, 'latitude': 50.93348, 'longitude': 4.2169669999999995, 'country': 'Belgium'}, 'MERCHTEM': {'id': 8812120, 'latitude': 50.95495, 'longitude': 4.2227190000000006, 'country': 'Belgium'}, 'DINANT': {'id': 8863503, 'latitude': 50.26072, 'longitude': 4.908180000000001, 'country': 'Belgium'}, 'YVOIR': {'id': 8863545, 'latitude': 50.32084, 'longitude': 4.87864, 'country': 'Belgium'}, 'GODINNE': {'id': 8863560, 'latitude': 50.34891, 'longitude': 4.86996, 'country': 'Belgium'}, 'LUSTIN': {'id': 8863156, 'latitude': 50.36975, 'longitude': 4.877468, 'country': 'Belgium'}, 'JAMBES': {'id': 8863115, 'latitude': 50.45485, 'longitude': 4.876143, 'country': 'Belgium'}, 'EKEREN': {'id': 8821071, 'latitude': 51.28163, 'longitude': 4.434153, 'country': 'Belgium'}, 'SINT-MARIABURG': {'id': 8821543, 'latitude': 51.29165, 'longitude': 4.434902, 'country': 'Belgium'}, 'KAPELLEN': {'id': 8821535, 'latitude': 51.31353, 'longitude': 4.4326620000000005, 'country': 'Belgium'}, 'HEIDE': {'id': 8821519, 'latitude': 51.36462, 'longitude': 4.460482, 'country': 'Belgium'}, 'KIJKUIT': {'id': 8821451, 'latitude': 51.37866, 'longitude': 4.467318, 'country': 'Belgium'}, 'KALMTHOUT': {'id': 8821444, 'latitude': 51.39117, 'longitude': 4.466825, 'country': 'Belgium'}, 'WILDERT': {'id': 8821436, 'latitude': 51.42809000000001, 'longitude': 4.463349, 'country': 'Belgium'}, 'ESSEN': {'id': 8821402, 'latitude': 51.46276, 'longitude': 4.451318, 'country': 'Belgium'}, 'TAMISE': {'id': 8894672, 'latitude': 51.12608, 'longitude': 4.221349, 'country': 'Belgium'}, 'BORNEM': {'id': 8822772, 'latitude': 51.09923, 'longitude': 4.240530000000001, 'country': 'Belgium'}, 'WILLEBROEK': {'id': 8822608, 'latitude': 51.06635, 'longitude': 4.35602, 'country': 'Belgium'}, 'ARCADES': {'id': 8814472, 'latitude': 50.80992, 'longitude': 4.398540000000001, 'country': 'Belgium'}, 'BOONDAEL': {'id': 8814456, 'latitude': 50.80136, 'longitude': 4.393081, 'country': 'Belgium'}, 'VIVIER D OIE': {'id': 8814464, 'latitude': 50.79615, 'longitude': 4.37405, 'country': 'Belgium'}, 'SAINT-JOB': {'id': 8814449, 'latitude': 50.79441, 'longitude': 4.362758, 'country': 'Belgium'}, 'MOENSBERG': {'id': 8814431, 'latitude': 50.77832, 'longitude': 4.330729, 'country': 'Belgium'}, 'BEERSEL': {'id': 8814423, 'latitude': 50.76661, 'longitude': 4.3026029999999995, 'country': 'Belgium'}, 'HUIZINGEN': {'id': 8814415, 'latitude': 50.7519, 'longitude': 4.266484999999999, 'country': 'Belgium'}, 'FAMILLEUREUX': {'id': 8883238, 'latitude': 50.51936, 'longitude': 4.2115800000000005, 'country': 'Belgium'}, 'MARCHE-LEZ-ECAUSSINNES': {'id': 8883220, 'latitude': 50.54617, 'longitude': 4.177102, 'country': 'Belgium'}, 'ECAUSSINNES': {'id': 8883212, 'latitude': 50.56239, 'longitude': 4.156637, 'country': 'Belgium'}, 'TIELEN': {'id': 8821964, 'latitude': 51.24102, 'longitude': 4.89309, 'country': 'Belgium'}, 'TURNHOUT': {'id': 8821907, 'latitude': 51.32203, 'longitude': 4.937412999999999, 'country': 'Belgium'}, 'BRUXELLES-OUEST': {'id': 8815040, 'latitude': 50.84856, 'longitude': 4.32104, 'country': 'Belgium'}, 'SIMONIS': {'id': 8812013, 'latitude': 50.86364, 'longitude': 4.328982, 'country': 'Belgium'}, 'TOUR-ET-TAXIS': {'id': 8815016, 'latitude': 50.8728, 'longitude': 4.342105, 'country': 'Belgium'}, 'JAMIOULX': {'id': 8871175, 'latitude': 50.3529, 'longitude': 4.41129, 'country': 'Belgium'}, 'BEIGNEE': {'id': 8871183, 'latitude': 50.33389, 'longitude': 4.406307, 'country': 'Belgium'}, 'HAM-SUR-HEURE': {'id': 8873387, 'latitude': 50.31956, 'longitude': 4.404698000000001, 'country': 'Belgium'}, 'COUR-SUR-HEURE': {'id': 8873379, 'latitude': 50.30014, 'longitude': 4.3914919999999995, 'country': 'Belgium'}, 'BERZEE': {'id': 8873320, 'latitude': 50.2856, 'longitude': 4.405908999999999, 'country': 'Belgium'}, 'PRY': {'id': 8873312, 'latitude': 50.26928, 'longitude': 4.428807, 'country': 'Belgium'}, 'WALCOURT': {'id': 8873007, 'latitude': 50.25922, 'longitude': 4.435877, 'country': 'Belgium'}, 'YVES-GOMEZEE': {'id': 8873239, 'latitude': 50.23698, 'longitude': 4.5004040000000005, 'country': 'Belgium'}, 'PHILIPPEVILLE': {'id': 8873122, 'latitude': 50.19164, 'longitude': 4.53596, 'country': 'Belgium'}, 'MARIEMBOURG': {'id': 8875002, 'latitude': 50.09549000000001, 'longitude': 4.52569, 'country': 'Belgium'}, 'COUVIN': {'id': 8875127, 'latitude': 50.05632, 'longitude': 4.4917, 'country': 'Belgium'}, 'LOUVAIN-LA-NEUVE': {'id': 8811676, 'latitude': 50.6698, 'longitude': 4.615746, 'country': 'Belgium'}, 'WICHELEN': {'id': 8893534, 'latitude': 51.00196, 'longitude': 3.9691949999999996, 'country': 'Belgium'}, 'SCHOONAARDE': {'id': 8893526, 'latitude': 51.00315, 'longitude': 4.011095, 'country': 'Belgium'}, 'OUDEGEM': {'id': 8893518, 'latitude': 51.01523, 'longitude': 4.064472, 'country': 'Belgium'}, 'BAASRODE-ZUID': {'id': 8822160, 'latitude': 51.01944, 'longitude': 4.153496, 'country': 'Belgium'}, 'BUGGENHOUT': {'id': 8822145, 'latitude': 51.01629000000001, 'longitude': 4.201663, 'country': 'Belgium'}, 'MALDEREN': {'id': 8822137, 'latitude': 51.01449, 'longitude': 4.2291099999999995, 'country': 'Belgium'}, 'ATHUS': {'id': 8866605, 'latitude': 49.56334, 'longitude': 5.828944, 'country': 'Belgium'}, 'ATHUS-FRONTIERE': {'id': 8869047, 'latitude': 49.55175, 'longitude': 5.8249319999999996, 'country': 'Belgium'}, 'RODANGE (LU)': {'id': 8200940, 'latitude': 49.55128, 'longitude': 5.845025, 'country': 'Luxembourg'}, 'PETANGE': {'id': 8200930, 'latitude': 49.55425, 'longitude': 5.878680999999999, 'country': 'Luxembourg'}, 'ERQUELINNES': {'id': 8871605, 'latitude': 50.30419000000001, 'longitude': 4.11356, 'country': 'Belgium'}, 'ERQUELINNES-VILLAGE': {'id': 8871647, 'latitude': 50.31018, 'longitude': 4.1323099999999995, 'country': 'Belgium'}, 'SOLRE-SUR-SAMBRE': {'id': 8871662, 'latitude': 50.31264, 'longitude': 4.15843, 'country': 'Belgium'}, 'LABUISSIERE': {'id': 8871670, 'latitude': 50.31633, 'longitude': 4.186832, 'country': 'Belgium'}, 'FONTAINE VALMONT': {'id': 8871688, 'latitude': 50.32117, 'longitude': 4.2127870000000005, 'country': 'Belgium'}, 'LOBBES': {'id': 8871712, 'latitude': 50.34647, 'longitude': 4.260957, 'country': 'Belgium'}, 'THUIN': {'id': 8871811, 'latitude': 50.34274, 'longitude': 4.28891, 'country': 'Belgium'}, 'HOURPES': {'id': 8871829, 'latitude': 50.36369000000001, 'longitude': 4.30874, 'country': 'Belgium'}, 'LANDELIES': {'id': 8871837, 'latitude': 50.37731, 'longitude': 4.35098, 'country': 'Belgium'}, 'MARCHIENNE-ZONE': {'id': 8871852, 'latitude': 50.39747, 'longitude': 4.388764, 'country': 'Belgium'}, 'MAFFLE': {'id': 8886041, 'latitude': 50.61435, 'longitude': 3.8001169999999997, 'country': 'Belgium'}, 'MEVERGNIES-ATTRE': {'id': 8886058, 'latitude': 50.60011, 'longitude': 3.8339190000000003, 'country': 'Belgium'}, 'BRUGELETTE': {'id': 8886066, 'latitude': 50.59423, 'longitude': 3.852551, 'country': 'Belgium'}, 'CAMBRON-CASTEAU': {'id': 8886074, 'latitude': 50.58676, 'longitude': 3.8748099999999996, 'country': 'Belgium'}, 'LENS': {'id': 8881190, 'latitude': 50.55934, 'longitude': 3.903226, 'country': 'Belgium'}, 'HERGENRATH': {'id': 8844644, 'latitude': 50.71821, 'longitude': 6.041336, 'country': 'Belgium'}, 'HERGENRATH-FRONTIERE': {'id': 8849023, 'latitude': 50.71896, 'longitude': 6.041269000000001, 'country': 'Belgium'}, 'AACHEN HBF (DE)': {'id': 8015345, 'latitude': 50.77083, 'longitude': 6.105277, 'country': 'Germany'}, 'GOUVY': {'id': 8845005, 'latitude': 50.18941, 'longitude': 5.95391, 'country': 'Belgium'}, 'GOUVY-FRONTIERE': {'id': 8849072, 'latitude': 50.17165, 'longitude': 5.9686129999999995, 'country': 'Luxembourg'}, 'TROISVIERGES (LU)': {'id': 8200136, 'latitude': 50.12111, 'longitude': 6.000278, 'country': 'Luxembourg'}, 'CLERVAUX (LU)': {'id': 8200134, 'latitude': 50.05472, 'longitude': 6.031389, 'country': 'Luxembourg'}, 'DRAUFFELT (LU)': {'id': 8200133, 'latitude': 50.01778, 'longitude': 6.006111, 'country': 'Luxembourg'}, 'WILWERWILTZ (LU)': {'id': 8200132, 'latitude': 49.98889000000001, 'longitude': 5.999167, 'country': 'Luxembourg'}, 'KAUTENBACH (LU)': {'id': 8200130, 'latitude': 49.95278, 'longitude': 6.02, 'country': 'Luxembourg'}, 'MICHELAU (LU)': {'id': 8200128, 'latitude': 49.89729000000001, 'longitude': 6.09149, 'country': 'Luxembourg'}, 'ETTELBRUCK(LU)': {'id': 8200120, 'latitude': 49.8475, 'longitude': 6.1041669999999995, 'country': 'Luxembourg'}, 'MERSCH (LU)': {'id': 8200110, 'latitude': 49.74889, 'longitude': 6.106111, 'country': 'Luxembourg'}, 'PFAFFENTHAL-KIRCHBERG (LU)': {'id': 8200102, 'latitude': 49.61913, 'longitude': 6.132853, 'country': 'Luxembourg'}, 'TILFF': {'id': 8842630, 'latitude': 50.57063, 'longitude': 5.583933, 'country': 'Belgium'}, 'MERY': {'id': 8842648, 'latitude': 50.54762, 'longitude': 5.587237, 'country': 'Belgium'}, 'HONY': {'id': 8842655, 'latitude': 50.53992, 'longitude': 5.573567, 'country': 'Belgium'}, 'ESNEUX': {'id': 8842663, 'latitude': 50.53056, 'longitude': 5.572566999999999, 'country': 'Belgium'}, 'POULSEUR': {'id': 8842689, 'latitude': 50.50921, 'longitude': 5.578855, 'country': 'Belgium'}, 'RIVAGE': {'id': 8842705, 'latitude': 50.48328, 'longitude': 5.587635, 'country': 'Belgium'}, 'AYWAILLE': {'id': 8842754, 'latitude': 50.47293, 'longitude': 5.672496, 'country': 'Belgium'}, 'COO': {'id': 8845229, 'latitude': 50.39113, 'longitude': 5.8804739999999995, 'country': 'Belgium'}, 'TROIS-PONTS': {'id': 8845203, 'latitude': 50.36822, 'longitude': 5.873579, 'country': 'Belgium'}, 'VIELSALM': {'id': 8845146, 'latitude': 50.27893, 'longitude': 5.909209, 'country': 'Belgium'}, 'DOMMELDANGE (LU)': {'id': 8200101, 'latitude': 49.6339, 'longitude': 6.1367650000000005, 'country': 'Luxembourg'}, 'BRESSOUX': {'id': 8843901, 'latitude': 50.64396, 'longitude': 5.611062, 'country': 'Belgium'}, 'VISE': {'id': 8846201, 'latitude': 50.73776, 'longitude': 5.692548, 'country': 'Belgium'}, 'VISE-FRONTIERE': {'id': 8849064, 'latitude': 50.75841, 'longitude': 5.702903, 'country': 'Belgium'}, 'EIJSDEN (NL)': {'id': 8400219, 'latitude': 50.77213, 'longitude': 5.70979, 'country': 'Netherlands'}, 'MAASTRICHT RANDWIJCK (NL)': {'id': 8400426, 'latitude': 50.8385, 'longitude': 5.716712, 'country': 'Netherlands'}, 'MAASTRICHT (NL)': {'id': 8400424, 'latitude': 50.85, 'longitude': 5.705392, 'country': 'Netherlands'}, 'MARCHE-EN-FAMENNE': {'id': 8864410, 'latitude': 50.22247, 'longitude': 5.34629, 'country': 'Belgium'}, 'MELREUX-HOTTON': {'id': 8864436, 'latitude': 50.28367, 'longitude': 5.44014, 'country': 'Belgium'}, 'BARVAUX': {'id': 8864451, 'latitude': 50.34942, 'longitude': 5.50154, 'country': 'Belgium'}, 'BOMAL': {'id': 8864469, 'latitude': 50.3768, 'longitude': 5.519304, 'country': 'Belgium'}, 'SY': {'id': 8842853, 'latitude': 50.40326, 'longitude': 5.523566000000001, 'country': 'Belgium'}, 'HAMOIR': {'id': 8842846, 'latitude': 50.42818, 'longitude': 5.533561, 'country': 'Belgium'}, 'COMBLAIN-LA-TOUR': {'id': 8842838, 'latitude': 50.45686, 'longitude': 5.566959, 'country': 'Belgium'}, 'LISSEWEGE': {'id': 8891629, 'latitude': 51.29471, 'longitude': 3.1945099999999997, 'country': 'Belgium'}, 'ZEEBRUGGE-DORP': {'id': 8891553, 'latitude': 51.32638, 'longitude': 3.1951709999999998, 'country': 'Belgium'}, 'ZEEBRUGGE-STRAND': {'id': 8891173, 'latitude': 51.3305, 'longitude': 3.184028, 'country': 'Belgium'}, 'BERTRIX': {'id': 8865300, 'latitude': 49.85283, 'longitude': 5.267189, 'country': 'Belgium'}, 'FLORENVILLE': {'id': 8866845, 'latitude': 49.70697, 'longitude': 5.331119999999999, 'country': 'Belgium'}, 'VIRTON': {'id': 8866407, 'latitude': 49.56082, 'longitude': 5.519122, 'country': 'Belgium'}, 'ANSEREMME': {'id': 8863818, 'latitude': 50.23802, 'longitude': 4.905530000000001, 'country': 'Belgium'}, 'GENDRON-CELLES': {'id': 8863834, 'latitude': 50.21124, 'longitude': 4.964611, 'country': 'Belgium'}, 'HOUYET': {'id': 8863842, 'latitude': 50.18987, 'longitude': 5.006076, 'country': 'Belgium'}, 'BEAURAING': {'id': 8863867, 'latitude': 50.11443, 'longitude': 4.956840000000001, 'country': 'Belgium'}, 'GEDINNE': {'id': 8865649, 'latitude': 49.98412, 'longitude': 4.978077, 'country': 'Belgium'}, 'GRAIDE': {'id': 8865615, 'latitude': 49.93413, 'longitude': 5.043044, 'country': 'Belgium'}, 'CARLSBOURG': {'id': 8865565, 'latitude': 49.90546, 'longitude': 5.092785, 'country': 'Belgium'}, 'PALISEUL': {'id': 8865540, 'latitude': 49.89541, 'longitude': 5.1183510000000005, 'country': 'Belgium'}, 'KLEINBETTINGEN (LU)': {'id': 8200520, 'latitude': 49.64639, 'longitude': 5.916389, 'country': 'Luxembourg'}, 'MAMER-LYCEE (LU)': {'id': 8210014, 'latitude': 49.6194, 'longitude': 6.0284949999999995, 'country': 'Luxembourg'}, 'BERTRANGE STRASSEN (LU)': {'id': 8200510, 'latitude': 49.61111, 'longitude': 6.05, 'country': 'Luxembourg'}, 'HALANZY': {'id': 8866530, 'latitude': 49.55621, 'longitude': 5.741347, 'country': 'Belgium'}, 'AUBANGE': {'id': 8866654, 'latitude': 49.56409, 'longitude': 5.798058, 'country': 'Belgium'}, 'MESSANCY': {'id': 8866662, 'latitude': 49.59278, 'longitude': 5.818919, 'country': 'Belgium'}, 'MAZY': {'id': 8861333, 'latitude': 50.5135, 'longitude': 4.67583, 'country': 'Belgium'}, 'CHAPELLE-DIEU': {'id': 8861317, 'latitude': 50.55738, 'longitude': 4.697623999999999, 'country': 'Belgium'}, 'ALOST KERREBROEK': {'id': 8895125, 'latitude': 50.94838, 'longitude': 4.024412, 'country': 'Belgium'}, 'VIJFHUIZEN': {'id': 8895489, 'latitude': 50.94325, 'longitude': 3.98125, 'country': 'Belgium'}, 'ERPE-MERE': {'id': 8895471, 'latitude': 50.9286, 'longitude': 3.9624599999999996, 'country': 'Belgium'}, 'BAMBRUGGE': {'id': 8895463, 'latitude': 50.91377, 'longitude': 3.935715, 'country': 'Belgium'}, 'BREDA (NL)': {'id': 8400131, 'latitude': 51.59568, 'longitude': 4.780017, 'country': 'Netherlands'}, 'ROTTERDAM CS (NL)': {'id': 8400530, 'latitude': 51.91667, 'longitude': 4.5, 'country': 'Netherlands'}, 'SCHIPHOL (NL)': {'id': 8400561, 'latitude': 52.3, 'longitude': 4.75, 'country': 'Netherlands'}, 'AMSTERDAM CS (NL)': {'id': 8400058, 'latitude': 52.35, 'longitude': 4.9166669999999995, 'country': 'Netherlands'}, 'MOUSCRON-FRONTIERE': {'id': 8889011, 'latitude': 50.72172, 'longitude': 3.196086, 'country': 'Belgium'}, 'TOURCOING (FR)': {'id': 8728654, 'latitude': 50.71667, 'longitude': 3.15, 'country': 'France'}, 'ROUBAIX (FR)': {'id': 8728673, 'latitude': 50.7, 'longitude': 3.166667, 'country': 'France'}, 'LEZENNES (FR)': {'id': 8728710, 'latitude': 50.61667, 'longitude': 3.1166669999999996, 'country': 'France'}, 'CAPELLEN (LU)': {'id': 8200518, 'latitude': 49.645, 'longitude': 5.990833, 'country': 'Luxembourg'}, 'MAMER (LU)': {'id': 8200516, 'latitude': 49.62587, 'longitude': 6.020131, 'country': 'Luxembourg'}, 'DEN HAAG HS (NL)': {'id': 8400280, 'latitude': 52.08333, 'longitude': 4.3, 'country': 'Netherlands'}})"
      ]
     },
     "execution_count": 10,
     "metadata": {},
     "output_type": "execute_result"
    },
    {
     "data": {
      "text/plain": [
       "EdgeDataView([('TOURNAI', 'FROYENNES', {'route_id': {385, 258, 387, 389, 393, 151, 159, 160, 161, 700, 701, 453, 455, 724, 342, 343, 344, 345, 346, 607, 608, 753, 115, 755, 762, 763, 253, 383}}), ('TOURNAI', 'LEUZE', {'route_id': {608, 344, 298, 299, 346, 243, 341, 342, 343, 120, 345, 762, 763, 700, 701, 246}}), ('TOURNAI', 'ANTOING', {'route_id': {384, 385, 258, 387, 389, 390, 393, 395, 151, 159, 160, 161, 162, 170, 705, 451, 452, 453, 455, 724, 610, 755, 383}}), ('FROYENNES', 'HERSEAUX', {'route_id': {385, 387, 389, 393, 151, 159, 160, 161, 700, 701, 453, 455, 724, 342, 343, 344, 345, 346, 607, 608, 115, 762, 763, 253, 383}}), ('FROYENNES', 'BLANDAIN-FRONTIERE', {'route_id': {753, 258, 755}}), ('HERSEAUX', 'MOUSCRON', {'route_id': {385, 387, 389, 393, 151, 159, 160, 161, 700, 701, 453, 455, 724, 342, 343, 344, 345, 346, 607, 608, 115, 762, 763, 253, 383}}), ('MOUSCRON', 'COURTRAI', {'route_id': {753, 724, 343, 344, 346, 763, 252, 253}}), ('MOUSCRON', 'MOUSCRON-FRONTIERE', {'route_id': {753}}), ('KNOKKE', 'DUINBERGEN', {'route_id': {327, 330, 561, 116, 118, 663}}), ('DUINBERGEN', 'HEIST', {'route_id': {327, 330, 561, 116, 118, 663}}), ('HEIST', 'BRUGES-SAINT-PIERRE', {'route_id': {327, 330, 561, 116, 118, 663}}), ('BRUGES-SAINT-PIERRE', 'BRUGES', {'route_id': {512, 661, 663, 683, 684, 560, 561, 183, 184, 185, 186, 187, 327, 330, 116, 118, 503, 502, 505, 511}}), ('BRUGES-SAINT-PIERRE', 'BLANKENBERGE', {'route_id': {684, 661, 183, 184, 185, 186, 187}}), ('BRUGES-SAINT-PIERRE', 'LISSEWEGE', {'route_id': {512, 683, 560, 502, 503, 505, 511}}), ('BRUGES', 'ZEDELGEM', {'route_id': {291, 132, 293, 292, 135, 294, 663, 682, 235, 748, 142, 660, 661, 662, 118, 186}}), ('BRUGES', 'OSTENDE', {'route_id': {132, 777, 269, 142, 272, 146, 660, 291, 292, 293, 294, 551, 300, 471, 217, 477, 746, 235, 236, 748, 749, 237, 747, 757, 758}}), ('BRUGES', 'OOSTKAMP', {'route_id': {512, 777, 269, 272, 290, 551, 683, 300, 559, 180, 181, 182, 183, 184, 185, 327, 330, 471, 217, 477, 738, 739, 740, 741, 746, 747, 236, 237, 749, 497, 757, 758, 503, 502, 505, 507, 508, 511}}), ('SPA-GERONSTERE', 'SPA', {'route_id': {469, 605, 117, 470}}), ('SPA', 'FRANCHIMONT', {'route_id': {469, 605, 117, 470}}), ('FRANCHIMONT', 'THEUX', {'route_id': {469, 605, 117, 470}}), ('THEUX', 'JUSLENVILLE', {'route_id': {469, 605, 117, 470}}), ('JUSLENVILLE', 'PEPINSTER-CITE', {'route_id': {469, 605, 117, 470}}), ('PEPINSTER-CITE', 'PEPINSTER', {'route_id': {469, 605, 117, 470}}), ('PEPINSTER', 'VERVIERS-CENTRAL', {'route_id': {773, 774, 777, 411, 413, 698, 207, 469, 470, 471, 599, 216, 600, 477, 605, 478, 480, 479, 747, 748, 237, 749, 117}}), ('PEPINSTER', 'NESSONVAUX', {'route_id': {773, 774, 777, 411, 413, 698, 207, 599, 471, 600, 216, 477, 478, 479, 480, 747, 748, 749, 237}}), ('VERVIERS-CENTRAL', 'VERVIERS-PALAIS', {'route_id': {773, 774, 777, 747, 748, 237, 749, 207, 469, 470, 471, 600, 698, 411, 413}}), ('GAND-SAINT-PIERRE', 'DE PINTE', {'route_id': {642, 772, 773, 775, 776, 137, 779, 782, 142, 664, 409, 411, 156, 158, 672, 673, 418, 678, 679, 552, 553, 680, 681, 557, 558, 562, 186, 702, 575, 703, 578, 714, 717, 718, 335, 208, 722, 609, 235, 748, 365, 366, 367, 368, 369, 118}}), ('GAND-SAINT-PIERRE', 'ANDERLECHT', {'route_id': {772, 773, 774, 777, 779, 269, 272, 418, 551, 552, 180, 181, 182, 183, 694, 185, 184, 695, 696, 329, 740, 746, 747, 237, 757, 758}}), ('GAND-SAINT-PIERRE', 'TRONCHIENNES', {'route_id': {512, 777, 269, 272, 290, 551, 683, 300, 559, 180, 181, 182, 183, 184, 185, 327, 330, 471, 217, 477, 738, 739, 740, 741, 746, 747, 236, 749, 237, 497, 757, 502, 503, 758, 505, 507, 508, 511}}), ('GAND-SAINT-PIERRE', 'GENTBRUGGE', {'route_id': {609, 578, 236, 557, 558, 527, 335, 530, 211, 565, 664, 540}}), ('GAND-SAINT-PIERRE', 'BRUXELLES-MIDI', {'route_id': {775, 409, 411, 413, 290, 551, 680, 553, 300, 327, 328, 330, 471, 217, 477, 739, 235, 748, 749, 761}}), ('GAND-SAINT-PIERRE', 'MERELBEKE', {'route_id': {512, 782, 783, 784, 278, 279, 280, 281, 410, 283, 282, 672, 673, 681, 554, 555, 562, 568, 696, 703, 575, 714, 717, 718, 738, 741, 364, 365, 366, 367, 496, 241, 497, 368, 502, 503, 508, 510, 511}}), ('GAND-SAINT-PIERRE', 'DENDERLEEUW', {'route_id': {674}}), ('GAND-SAINT-PIERRE', 'LOUVAIN', {'route_id': {696}}), ('DE PINTE', 'DEINZE', {'route_id': {772, 773, 775, 776, 137, 779, 782, 142, 409, 411, 418, 678, 679, 552, 553, 680, 681, 557, 558, 562, 186, 702, 575, 703, 578, 714, 717, 718, 335, 208, 722, 235, 748, 365, 366, 367, 368, 369, 118}}), ('DE PINTE', 'EKE-NAZARETH', {'route_id': {672, 609, 673, 642, 664, 156, 158}}), ('DEINZE', 'AARSELE', {'route_id': {679, 552, 680, 681, 365, 366, 142, 368, 369, 722, 208, 335, 367, 118, 186}}), ('DEINZE', 'WAREGEM', {'route_id': {772, 773, 775, 776, 137, 779, 782, 409, 411, 418, 678, 553, 557, 558, 562, 702, 703, 575, 578, 714, 717, 718, 235, 748}}), ('AARSELE', 'TIELT', {'route_id': {679, 552, 680, 681, 365, 366, 142, 368, 369, 722, 208, 335, 367, 118, 186}}), ('TIELT', 'LICHTERVELDE', {'route_id': {679, 552, 680, 681, 365, 366, 142, 368, 369, 722, 208, 335, 367, 118, 186}}), ('LICHTERVELDE', 'TORHOUT', {'route_id': {291, 292, 132, 294, 135, 293, 682, 235, 748, 142, 660, 661, 118, 663, 662, 186}}), ('LICHTERVELDE', 'ROULERS', {'route_id': {291, 132, 293, 292, 135, 294, 682, 235, 748, 660, 661, 662, 663}}), ('LICHTERVELDE', 'KORTEMARK', {'route_id': {679, 552, 680, 365, 367, 208, 335}}), ('TORHOUT', 'ZEDELGEM', {'route_id': {291, 292, 132, 294, 135, 293, 682, 235, 748, 142, 660, 661, 118, 663, 662, 186}}), ('GRAMMONT', 'SCHENDELBEKE', {'route_id': {192, 674, 194, 196, 195, 783, 119, 665, 191}}), ('GRAMMONT', 'VIANE-MOERBEKE', {'route_id': {192, 191, 194, 197, 742, 533, 189, 190, 351}}), ('GRAMMONT', 'ACREN', {'route_id': {614, 615, 459, 460, 203, 465}}), ('GRAMMONT', 'LIERDE', {'route_id': {672, 673, 675, 784, 241}}), ('SCHENDELBEKE', 'IDEGEM', {'route_id': {192, 674, 194, 196, 195, 783, 119, 665, 191}}), ('IDEGEM', 'ZANDBERGEN', {'route_id': {192, 674, 194, 196, 195, 783, 119, 665, 191}}), ('ZANDBERGEN', 'APPELTERRE', {'route_id': {192, 674, 194, 196, 195, 783, 119, 665, 191}}), ('APPELTERRE', 'EICHEM', {'route_id': {192, 674, 194, 196, 195, 783, 119, 665, 191}}), ('EICHEM', 'NINOVE', {'route_id': {192, 674, 194, 196, 195, 783, 119, 665, 191}}), ('NINOVE', 'OKEGEM', {'route_id': {192, 674, 194, 196, 195, 783, 119, 665, 191}}), ('OKEGEM', 'IDDERGEM', {'route_id': {192, 674, 194, 196, 195, 783, 119, 665, 191}}), ('IDDERGEM', 'DENDERLEEUW', {'route_id': {192, 674, 194, 196, 195, 783, 119, 665, 191}}), ('DENDERLEEUW', 'WELLE', {'route_id': {288, 289, 668, 291, 776, 138, 719, 671, 720, 472, 473, 666, 667, 220, 669, 286, 287}}), ('DENDERLEEUW', 'EREMBODEGEM', {'route_id': {263, 264, 782, 783, 276, 278, 279, 280, 281, 282, 283, 285, 555, 563, 191, 194, 195, 364, 365, 366, 367, 368}}), ('DENDERLEEUW', 'LIEDEKERKE', {'route_id': {263, 264, 776, 782, 276, 278, 279, 280, 281, 282, 666, 283, 668, 669, 286, 285, 287, 288, 291, 289, 667, 555, 563, 719, 472, 473, 220, 364, 365, 366, 367, 368}}), ('LEUZE', 'ATH', {'route_id': {608, 344, 298, 299, 346, 243, 341, 342, 343, 120, 345, 762, 763, 700, 701, 246}}), ('ATH', 'REBAIX', {'route_id': {614, 615, 203, 460, 459, 465}}), ('ATH', 'SILLY', {'route_id': {608, 298, 299, 347, 243, 341, 342, 343, 344, 345, 762, 763, 700, 701, 246}}), ('ATH', 'MAFFLE', {'route_id': {705, 612, 613, 615, 459, 460, 461, 463, 465}}), ('LUTTRE', 'COURCELLES-MOTTE', {'route_id': {643, 260, 261, 134, 262, 440, 644, 650, 751, 433, 434, 247, 408, 121, 123}}), ('LUTTRE', 'OBAIX-BUZET', {'route_id': {643, 644, 261, 440, 260, 262, 337, 145, 339, 247, 408, 123}}), ('LUTTRE', 'PONT-A-CELLES', {'route_id': {421, 422, 649, 751, 433, 434, 127}}), ('COURCELLES-MOTTE', 'ROUX', {'route_id': {643, 260, 261, 134, 262, 440, 644, 650, 751, 433, 434, 247, 408, 121, 123}}), ('ROUX', 'MARCHIENNE-AU-PONT', {'route_id': {643, 260, 261, 134, 262, 440, 644, 650, 751, 433, 434, 247, 408, 121, 123}}), ('MARCHIENNE-AU-PONT', 'CHARLEROI-SUD', {'route_id': {384, 385, 258, 386, 260, 261, 134, 262, 391, 387, 394, 650, 388, 389, 390, 392, 395, 150, 151, 408, 159, 162, 163, 643, 422, 423, 424, 644, 433, 434, 438, 440, 201, 724, 725, 751, 755, 247, 121, 378, 123, 380, 383}}), ('MARCHIENNE-AU-PONT', 'FORCHIES', {'route_id': {384, 385, 258, 386, 387, 388, 389, 390, 392, 391, 394, 395, 150, 151, 159, 162, 163, 422, 423, 424, 438, 201, 724, 725, 755, 378, 380, 383}}), ('CHARLEROI-SUD', 'COUILLET', {'route_id': {384, 385, 258, 386, 387, 388, 389, 391, 390, 643, 644, 396, 397, 150, 151, 415, 416, 417, 162, 441, 442, 443, 444, 448, 449, 450, 201, 723, 724, 725, 755, 378, 380, 382, 383}}), ('CHARLEROI-SUD', 'CHARLEROI-OUEST', {'route_id': {448, 417, 449, 450, 447, 445, 442, 443, 444, 221, 446, 223}}), ('CHARLEROI-SUD', 'JAMIOULX', {'route_id': {648, 401, 647}}), ('CHARLEROI-SUD', 'CHARLEROI-SUD', {'route_id': {408}}), ('CHARLEROI-SUD', 'MARCHIENNE-ZONE', {'route_id': {458, 646}}), ('BRUXELLES-MIDI', 'BRUXELLES-CHAPELLE', {'route_id': {528, 551, 552, 553, 555, 556, 563, 570, 573, 583, 584, 585, 586, 587, 590, 595, 596, 598, 608, 616, 617, 122, 130, 643, 644, 645, 739, 740, 141, 655, 656, 657, 742, 666, 667, 668, 669, 680, 681, 746, 178, 180, 181, 182, 183, 184, 697, 185, 694, 700, 189, 190, 701, 191, 192, 193, 707, 750, 751, 711, 712, 713, 202, 716, 719, 726, 214, 218, 220, 735, 224, 736, 738, 227, 228, 741, 229, 231, 743, 233, 744, 235, 747, 237, 230, 232, 234, 745, 242, 243, 244, 757, 758, 247, 248, 761, 762, 763, 764, 765, 254, 766, 768, 769, 770, 259, 771, 261, 773, 774, 260, 262, 263, 264, 772, 269, 270, 271, 272, 776, 777, 767, 779, 781, 278, 279, 280, 281, 282, 283, 284, 285, 286, 287, 288, 289, 290, 291, 296, 297, 298, 299, 300, 306, 775, 326, 327, 328, 329, 330, 337, 338, 339, 341, 342, 343, 344, 345, 347, 782, 353, 354, 355, 356, 357, 358, 359, 362, 364, 365, 366, 367, 368, 370, 371, 372, 373, 374, 375, 376, 748, 402, 403, 409, 411, 413, 749, 418, 695, 696, 439, 440, 471, 472, 477}}), ('BRUXELLES-MIDI', 'FOREST-EST', {'route_id': {643, 260, 261, 262, 231, 232, 745, 234, 171, 233, 440, 644, 337, 339, 214, 247, 248, 254}}), ('BRUXELLES-MIDI', 'FOREST-MIDI', {'route_id': {768, 769, 645, 655, 656, 657, 533, 298, 299, 178, 700, 189, 190, 191, 192, 193, 711, 712, 713, 202, 716, 598, 342, 344, 345, 608, 353, 354, 227, 228, 229, 357, 358, 359, 742, 355, 356, 743, 751, 370, 243, 244, 371, 375, 763, 764, 765, 766}}), ('BRUXELLES-MIDI', 'ANDERLECHT', {'route_id': {772, 773, 774, 776, 777, 779, 269, 782, 272, 278, 279, 280, 281, 282, 667, 283, 285, 286, 287, 288, 289, 418, 291, 551, 552, 555, 556, 180, 181, 182, 183, 184, 185, 694, 695, 696, 329, 719, 472, 473, 220, 740, 741, 746, 747, 364, 237, 366, 365, 368, 367, 666, 757, 758}}), ('BRUXELLES-MIDI', 'RUISBROEK', {'route_id': {373, 341, 246, 762, 347, 701, 343, 767}}), ('BRUXELLES-MIDI', 'HAL', {'route_id': {770, 771, 781, 372, 374}}), ('BRUXELLES-MIDI', 'BRUXELLES-OUEST', {'route_id': {400, 736, 756, 399}}), ('BRUXELLES-MIDI', 'MELLE', {'route_id': {681, 738}}), ('BRUXELLES-CHAPELLE', 'BRUXELLES-CENTRAL', {'route_id': {528, 551, 552, 553, 555, 556, 563, 570, 573, 583, 584, 585, 586, 587, 590, 595, 596, 598, 608, 616, 617, 122, 130, 643, 644, 645, 739, 740, 141, 655, 656, 657, 742, 666, 667, 668, 669, 680, 681, 746, 178, 180, 181, 182, 183, 184, 697, 185, 694, 700, 189, 190, 701, 191, 192, 193, 707, 750, 751, 711, 712, 713, 202, 716, 719, 726, 214, 218, 220, 735, 224, 736, 738, 227, 228, 741, 229, 231, 743, 233, 744, 235, 747, 237, 230, 232, 234, 745, 242, 243, 244, 757, 758, 247, 248, 761, 762, 763, 764, 765, 254, 766, 768, 769, 770, 259, 771, 261, 773, 774, 260, 262, 263, 264, 772, 269, 270, 271, 272, 776, 777, 767, 779, 781, 278, 279, 280, 281, 282, 283, 284, 285, 286, 287, 288, 289, 290, 291, 296, 297, 298, 299, 300, 306, 775, 326, 327, 328, 329, 330, 337, 338, 339, 341, 342, 343, 344, 345, 347, 782, 353, 354, 355, 356, 357, 358, 359, 362, 364, 365, 366, 367, 368, 370, 371, 372, 373, 374, 375, 376, 748, 402, 403, 409, 411, 413, 749, 418, 695, 696, 439, 440, 471, 472, 477}}), ('BRUXELLES-CENTRAL', 'BRUXELLES-CONGRES', {'route_id': {528, 551, 552, 553, 555, 556, 563, 570, 573, 583, 584, 585, 586, 587, 590, 595, 596, 598, 608, 616, 617, 122, 130, 643, 644, 645, 739, 740, 141, 655, 656, 657, 742, 666, 667, 668, 669, 680, 681, 746, 178, 180, 181, 182, 183, 184, 697, 185, 694, 700, 189, 190, 701, 191, 192, 193, 707, 750, 751, 711, 712, 713, 202, 716, 719, 726, 214, 218, 220, 735, 224, 736, 738, 227, 228, 741, 229, 231, 743, 233, 744, 235, 747, 237, 230, 232, 234, 745, 242, 243, 244, 757, 758, 247, 248, 761, 762, 763, 764, 765, 254, 766, 768, 769, 770, 259, 771, 261, 773, 774, 260, 262, 263, 264, 772, 269, 270, 271, 272, 776, 777, 767, 779, 781, 278, 279, 280, 281, 282, 283, 284, 285, 286, 287, 288, 289, 290, 291, 296, 297, 298, 299, 300, 306, 775, 326, 327, 328, 329, 330, 337, 338, 339, 341, 342, 343, 344, 345, 347, 782, 353, 354, 355, 356, 357, 358, 359, 362, 364, 365, 366, 367, 368, 370, 371, 372, 373, 374, 375, 376, 748, 402, 403, 409, 411, 413, 749, 418, 695, 696, 439, 440, 471, 472, 477}}), ('BRUXELLES-CONGRES', 'BRUXELLES-NORD', {'route_id': {528, 551, 552, 553, 555, 556, 563, 570, 573, 583, 584, 585, 586, 587, 590, 595, 596, 598, 608, 616, 617, 122, 130, 643, 644, 645, 739, 740, 141, 655, 656, 657, 742, 666, 667, 668, 669, 680, 681, 746, 178, 180, 181, 182, 183, 184, 697, 185, 694, 700, 189, 190, 701, 191, 192, 193, 707, 750, 751, 711, 712, 713, 202, 716, 719, 726, 214, 218, 220, 735, 224, 736, 738, 227, 228, 741, 229, 231, 743, 233, 744, 235, 747, 237, 230, 232, 234, 745, 242, 243, 244, 757, 758, 247, 248, 761, 762, 763, 764, 765, 254, 766, 768, 769, 770, 259, 771, 261, 773, 774, 260, 262, 263, 264, 772, 269, 270, 271, 272, 776, 777, 767, 779, 781, 278, 279, 280, 281, 282, 283, 284, 285, 286, 287, 288, 289, 290, 291, 296, 297, 298, 299, 300, 306, 775, 326, 327, 328, 329, 330, 337, 338, 339, 341, 342, 343, 344, 345, 347, 782, 353, 354, 355, 356, 357, 358, 359, 362, 364, 365, 366, 367, 368, 370, 371, 372, 373, 374, 375, 376, 748, 402, 403, 409, 411, 413, 749, 418, 695, 696, 439, 440, 471, 472, 477}}), ('BRUXELLES-NORD', 'BRUXELLES-SCHUMAN', {'route_id': {141, 270, 269, 271, 272, 402, 403, 528, 296, 297, 298, 299, 306, 700, 701, 707, 711, 712, 713, 735, 224, 616, 617, 757, 122}}), ('BRUXELLES-NORD', 'SCHAERBEEK', {'route_id': {551, 552, 553, 555, 556, 573, 583, 584, 585, 586, 587, 590, 595, 596, 598, 608, 130, 643, 644, 645, 739, 740, 655, 656, 657, 742, 666, 155, 667, 680, 681, 746, 178, 180, 181, 182, 183, 184, 697, 185, 694, 695, 189, 696, 191, 192, 193, 749, 750, 202, 716, 719, 726, 214, 218, 220, 738, 227, 228, 741, 229, 231, 743, 233, 744, 235, 747, 237, 230, 232, 234, 745, 242, 243, 244, 748, 758, 247, 751, 761, 764, 765, 766, 767, 768, 769, 770, 259, 771, 261, 773, 774, 260, 772, 775, 776, 777, 779, 781, 782, 785, 278, 279, 283, 285, 288, 290, 291, 300, 326, 327, 328, 329, 330, 337, 338, 353, 354, 355, 356, 357, 358, 359, 362, 364, 365, 366, 367, 368, 370, 371, 372, 373, 374, 375, 376, 409, 411, 413, 418, 439, 440, 471, 472, 477}}), ('BRUXELLES-NORD', 'BOCKSTAEL', {'route_id': {263, 264, 280, 281, 282, 668, 284, 286, 287, 669, 563, 570, 341, 342, 343, 344, 345, 347, 762, 763}}), ('BRUXELLES-SCHUMAN', 'BRUXELLES-LUXEMBOURG', {'route_id': {141, 270, 269, 271, 272, 402, 403, 276, 405, 406, 407, 408, 528, 296, 297, 298, 299, 305, 306, 700, 701, 707, 711, 712, 713, 348, 349, 350, 735, 224, 352, 351, 616, 617, 624, 625, 757, 122}}), ('BRUXELLES-SCHUMAN', 'BOCKSTAEL', {'route_id': {276}}), ('BRUXELLES-SCHUMAN', 'MEISER', {'route_id': {352, 305, 405, 406, 407, 408, 348, 349, 350, 351}}), ('BRUXELLES-SCHUMAN', 'SCHAERBEEK', {'route_id': {624, 625}}), ('BRUXELLES-LUXEMBOURG', 'ETTERBEEK', {'route_id': {141, 270, 269, 271, 272, 402, 403, 528, 296, 297, 298, 299, 306, 700, 701, 707, 711, 712, 713, 735, 224, 616, 617, 624, 625, 757, 122}}), ('BRUXELLES-LUXEMBOURG', 'GERMOIR', {'route_id': {352, 407, 361, 305, 529, 307, 276, 277, 308, 406, 408, 506, 348, 349, 350, 351}}), ('ETTERBEEK', 'WATERMAEL', {'route_id': {141, 270, 269, 271, 272, 402, 403, 528, 529, 296, 297, 298, 299, 305, 306, 307, 308, 700, 701, 707, 711, 712, 713, 735, 224, 616, 617, 624, 625, 506, 757, 122}}), ('ETTERBEEK', 'GERMOIR', {'route_id': {352, 361, 305, 529, 307, 276, 277, 308, 407, 408, 406, 506, 348, 349, 350, 351}}), ('ETTERBEEK', 'DELTA', {'route_id': {276, 277}}), ('ETTERBEEK', 'ARCADES', {'route_id': {352, 361, 406, 407, 408, 348, 349, 350, 351}}), ('WATERMAEL', 'BOITSFORT', {'route_id': {141, 270, 269, 271, 272, 402, 403, 528, 529, 296, 297, 298, 299, 305, 306, 307, 308, 700, 701, 707, 711, 712, 713, 735, 224, 616, 617, 624, 625, 506, 757, 122}}), ('BOITSFORT', 'GROENENDAAL', {'route_id': {141, 270, 269, 271, 272, 402, 403, 528, 529, 296, 297, 298, 299, 305, 306, 307, 308, 700, 701, 707, 711, 712, 713, 735, 224, 616, 617, 624, 625, 506, 757, 122}}), ('GROENENDAAL', 'HOEILAART', {'route_id': {141, 270, 269, 271, 272, 402, 403, 528, 529, 296, 297, 298, 299, 305, 306, 307, 308, 700, 701, 707, 711, 712, 713, 735, 224, 616, 617, 624, 625, 506, 757, 122}}), ('HOEILAART', 'LA HULPE', {'route_id': {141, 270, 269, 271, 272, 402, 403, 528, 529, 296, 297, 298, 299, 305, 306, 307, 308, 700, 701, 707, 711, 712, 713, 735, 224, 616, 617, 624, 625, 506, 757, 122}}), ('LA HULPE', 'GENVAL', {'route_id': {141, 270, 269, 271, 272, 402, 403, 528, 529, 296, 297, 298, 299, 305, 306, 307, 308, 700, 701, 707, 711, 712, 713, 735, 224, 616, 617, 624, 625, 506, 757, 122}}), ('GENVAL', 'RIXENSART', {'route_id': {141, 270, 269, 271, 272, 402, 403, 528, 529, 296, 297, 298, 299, 305, 306, 307, 308, 700, 701, 707, 711, 712, 713, 735, 224, 616, 617, 624, 625, 506, 757, 122}}), ('RIXENSART', 'PROFONDSART', {'route_id': {141, 270, 269, 271, 272, 402, 403, 528, 529, 296, 297, 298, 299, 305, 306, 307, 308, 700, 701, 707, 711, 712, 713, 735, 224, 616, 617, 624, 625, 506, 757, 122}}), ('PROFONDSART', 'OTTIGNIES', {'route_id': {141, 270, 269, 271, 272, 402, 403, 528, 529, 296, 297, 298, 299, 305, 306, 307, 308, 700, 701, 707, 711, 712, 713, 735, 224, 616, 617, 624, 625, 506, 757, 122}}), ('OTTIGNIES', 'MONT-SAINT-GUIBERT', {'route_id': {130, 525, 270, 141, 269, 271, 272, 403, 296, 297, 298, 299, 305, 306, 307, 308, 707, 735, 224, 616, 617, 620, 622, 757, 122}}), ('OTTIGNIES', 'LIMAL', {'route_id': {448, 449, 130, 526, 336, 443, 221, 447}}), ('OTTIGNIES', 'CEROUX-MOUSTY', {'route_id': {448, 417, 449, 447, 442, 443, 444, 221, 446, 223}}), ('OTTIGNIES', 'LOUVAIN-LA-NEUVE', {'route_id': {712, 624, 402, 404, 506, 700}}), ('MONT-SAINT-GUIBERT', 'BLANMONT', {'route_id': {130, 525, 270, 141, 269, 271, 272, 403, 296, 297, 298, 299, 305, 306, 307, 308, 707, 735, 224, 616, 617, 620, 622, 757, 122}}), ('BLANMONT', 'CHASTRE', {'route_id': {130, 525, 270, 141, 269, 271, 272, 403, 296, 297, 298, 299, 305, 306, 307, 308, 707, 735, 224, 616, 617, 620, 622, 757, 122}}), ('CHASTRE', 'ERNAGE', {'route_id': {130, 525, 270, 141, 269, 271, 272, 403, 296, 297, 298, 299, 305, 306, 307, 308, 707, 735, 224, 616, 617, 620, 622, 757, 122}}), ('ERNAGE', 'GEMBLOUX', {'route_id': {130, 525, 270, 141, 269, 271, 272, 403, 296, 297, 298, 299, 305, 306, 307, 308, 707, 735, 224, 616, 617, 620, 622, 757, 122}}), ('GEMBLOUX', 'LONZEE', {'route_id': {130, 525, 270, 269, 271, 272, 403, 296, 297, 298, 299, 305, 306, 307, 308, 707, 735, 224, 616, 617, 621, 622, 757, 122}}), ('GEMBLOUX', 'CHAPELLE-DIEU', {'route_id': {640, 641}}), ('LONZEE', 'BEUZET', {'route_id': {130, 525, 270, 269, 271, 272, 403, 296, 297, 298, 299, 305, 306, 307, 308, 707, 735, 224, 616, 617, 621, 622, 757, 122}}), ('BEUZET', 'SAINT-DENIS-BOVESSE', {'route_id': {130, 525, 270, 269, 271, 272, 403, 296, 297, 298, 299, 305, 306, 307, 308, 707, 735, 224, 616, 617, 621, 622, 757, 122}}), ('SAINT-DENIS-BOVESSE', 'RHISNES', {'route_id': {130, 525, 270, 269, 271, 272, 403, 296, 297, 298, 299, 305, 306, 307, 308, 707, 735, 224, 616, 617, 621, 622, 757, 122}}), ('RHISNES', 'NAMUR', {'route_id': {130, 525, 270, 269, 271, 272, 403, 296, 297, 298, 299, 305, 306, 307, 308, 707, 735, 224, 616, 617, 621, 622, 757, 122}}), ('NAMUR', 'JAMBES-EST', {'route_id': {224, 130, 706, 707, 709, 616, 265, 618, 524, 269, 270, 272, 274, 628, 122, 509, 735}}), ('NAMUR', 'RONET', {'route_id': {384, 385, 258, 387, 386, 388, 389, 390, 391, 396, 397, 143, 415, 441, 442, 443, 444, 448, 449, 450, 201, 723, 724, 725, 755, 378, 380, 381, 382, 383}}), ('NAMUR', 'MARCHE-LES-DAMES', {'route_id': {384, 385, 386, 387, 396, 397, 398, 295, 296, 297, 298, 299, 699, 201, 467, 603, 757, 377, 378, 379, 380, 381, 382, 383}}), ('NAMUR', 'JAMBES', {'route_id': {519, 521, 304, 305, 306, 307, 626, 442, 443, 636, 415}}), ('JAMBES-EST', 'DAVE-SAINT-MARTIN', {'route_id': {224, 130, 706, 707, 709, 616, 265, 618, 524, 269, 270, 272, 274, 628, 122, 509, 735}}), ('DAVE-SAINT-MARTIN', 'NANINNE', {'route_id': {224, 130, 706, 707, 709, 616, 265, 618, 524, 269, 270, 272, 274, 628, 122, 509, 735}}), ('NANINNE', 'SART-BERNARD', {'route_id': {224, 130, 706, 707, 709, 616, 265, 618, 524, 269, 270, 272, 274, 628, 122, 509, 735}}), ('SART-BERNARD', 'COURRIERE', {'route_id': {224, 130, 706, 707, 709, 616, 265, 618, 524, 269, 270, 272, 274, 628, 122, 509, 735}}), ('COURRIERE', 'ASSESSE', {'route_id': {224, 130, 706, 707, 709, 616, 265, 618, 524, 269, 270, 272, 274, 628, 122, 509, 735}}), ('ASSESSE', 'NATOYE', {'route_id': {224, 130, 706, 707, 709, 616, 265, 618, 524, 269, 270, 272, 274, 628, 122, 509, 735}}), ('NATOYE', 'CINEY', {'route_id': {224, 130, 706, 707, 709, 616, 265, 618, 524, 269, 270, 272, 274, 628, 122, 509, 735}}), ('CINEY', 'LEIGNON', {'route_id': {224, 706, 707, 709, 710, 616, 265, 618, 523, 524, 269, 270, 272, 274, 632, 633, 122}}), ('LEIGNON', 'CHAPOIS', {'route_id': {224, 706, 707, 709, 710, 616, 265, 618, 523, 524, 269, 270, 272, 274, 632, 633, 122}}), ('CHAPOIS', 'HAVERSIN', {'route_id': {224, 706, 707, 709, 710, 616, 265, 618, 523, 524, 269, 270, 272, 274, 632, 633, 122}}), ('HAVERSIN', 'AYE', {'route_id': {224, 706, 707, 709, 710, 616, 265, 618, 523, 524, 269, 270, 272, 274, 632, 633, 122, 730}}), ('AYE', 'MARLOIE', {'route_id': {224, 706, 707, 709, 710, 616, 265, 618, 523, 524, 269, 270, 272, 274, 632, 633, 122, 730}}), ('MARLOIE', 'ROCHEFORT-JEMELLE', {'route_id': {265, 267, 268, 523, 270, 269, 272, 524, 274, 706, 707, 708, 709, 710, 730, 731, 224, 616, 618, 632, 501, 630, 504, 633, 122, 255}}), ('MARLOIE', 'MARCHE-EN-FAMENNE', {'route_id': {708, 498, 499, 501, 630, 631, 504}}), ('ROCHEFORT-JEMELLE', 'FORRIERES', {'route_id': {265, 267, 268, 269, 270, 274, 275, 707, 708, 709, 710, 729, 730, 731, 224, 618, 629, 633, 255}}), ('NIVELLES', 'OBAIX-BUZET', {'route_id': {643, 260, 261, 262, 440, 644, 145, 337, 339, 247, 408, 123}}), ('NIVELLES', 'LILLOIS', {'route_id': {643, 644, 261, 408, 231, 440, 233, 234, 171, 260, 262, 337, 339, 214, 247, 248}}), ('TERMONDE', 'ZELE', {'route_id': {321, 347, 562, 341, 342, 343, 280, 762, 763, 124, 125, 575}}), ('TERMONDE', 'SINT-GILLIS', {'route_id': {344, 762, 756, 763, 399, 570, 341, 342, 343, 280, 345, 282, 347, 286, 125, 126, 287}}), ('TERMONDE', 'OUDEGEM', {'route_id': {512, 714, 575, 717, 718, 496, 497, 562, 703, 502, 503, 568, 410, 508, 510, 511}}), ('TERMONDE', 'BAASRODE-ZUID', {'route_id': {516, 717, 718, 496, 497, 502, 503, 569, 410, 571, 414, 703}}), ('ZELE', 'LOKEREN', {'route_id': {321, 347, 562, 213, 342, 343, 280, 341, 762, 763, 124, 125, 575}}), ('LOKEREN', 'BEERVELDE', {'route_id': {578, 236, 556, 558, 335, 527, 557, 530, 211, 532, 540}}), ('LOKEREN', 'SINAAI', {'route_id': {530, 531, 532, 540, 556, 557, 558, 562, 575, 321, 322, 578, 335, 211, 341, 342, 343, 347, 236, 762, 763}}), ('OPWIJK', 'HEIZIJDE', {'route_id': {344, 762, 126, 282, 399, 347, 756, 341, 342, 343, 280, 345, 570, 763, 125, 286, 287}}), ('OPWIJK', 'MERCHTEM', {'route_id': {344, 762, 345, 763, 399, 570, 341, 342, 343, 280, 281, 282, 347, 284, 756, 286, 287}}), ('HEIZIJDE', 'LEBBEKE', {'route_id': {344, 762, 126, 282, 399, 347, 756, 341, 342, 343, 280, 345, 570, 763, 125, 286, 287}}), ('LEBBEKE', 'SINT-GILLIS', {'route_id': {344, 762, 126, 282, 399, 347, 756, 341, 342, 343, 280, 345, 570, 763, 125, 286, 287}}), ('PONT-A-CELLES', 'GOUY-LEZ-PIETON', {'route_id': {421, 422, 649, 751, 433, 434, 127}}), ('GOUY-LEZ-PIETON', 'GODARVILLE', {'route_id': {421, 422, 649, 751, 433, 434, 127}}), ('GODARVILLE', 'MANAGE', {'route_id': {421, 422, 649, 751, 433, 434, 127}}), ('MANAGE', 'LA LOUVIERE- CENTRE', {'route_id': {421, 422, 715, 653, 434, 127}}), ('MANAGE', 'FAMILLEUREUX', {'route_id': {713, 358, 654, 751}}), ('LA LOUVIERE- CENTRE', 'LA LOUVIERE-SUD', {'route_id': {353, 355, 356, 421, 357, 645, 359, 422, 423, 711, 712, 431, 432, 764, 766}}), ('LA LOUVIERE- CENTRE', 'FAMILLEUREUX', {'route_id': {353, 355, 356, 645, 357, 711, 712, 359, 431, 432, 764, 766}}), ('LA LOUVIERE- CENTRE', 'BRACQUEGNIES', {'route_id': {715, 653}}), ('LIEGE-GUILLEMINS', 'LIEGE-CARRE', {'route_id': {384, 129, 385, 386, 133, 396, 295, 296, 298, 698, 708, 332, 205, 333, 600, 604, 222, 479, 480, 484, 488, 491, 493, 494, 498, 500, 501, 630, 377, 378, 379, 380, 381, 382, 383}}), ('LIEGE-GUILLEMINS', 'SCLESSIN', {'route_id': {384, 385, 386, 387, 396, 397, 398, 295, 296, 297, 298, 299, 699, 201, 205, 466, 467, 601, 757, 377, 378, 379, 380, 381, 382, 383}}), ('LIEGE-GUILLEMINS', 'ANS', {'route_id': {773, 774, 777, 411, 413, 300, 202, 207, 595, 596, 598, 471, 474, 475, 476, 477, 227, 228, 229, 743, 747, 748, 749, 237, 758}}), ('LIEGE-GUILLEMINS', 'ANGLEUR', {'route_id': {773, 774, 777, 411, 413, 698, 708, 207, 599, 216, 471, 602, 600, 604, 477, 478, 479, 480, 483, 484, 485, 486, 488, 489, 747, 748, 237, 749, 498, 499, 500, 501, 630, 631, 504}}), ('LIEGE-GUILLEMINS', 'Y.RENORY', {'route_id': {493, 494, 495, 474, 219}}), ('LIEGE-GUILLEMINS', 'BRESSOUX', {'route_id': {490, 491, 596, 597, 598, 606}}), ('LIEGE-CARRE', 'LIEGE-SAINT-LAMBERT', {'route_id': {384, 129, 385, 386, 133, 396, 295, 296, 298, 698, 708, 332, 205, 333, 600, 604, 222, 479, 480, 484, 488, 491, 493, 494, 498, 500, 501, 630, 377, 378, 379, 380, 381, 382, 383}}), ('LIEGE-SAINT-LAMBERT', 'HERSTAL', {'route_id': {384, 129, 385, 386, 133, 396, 332, 333, 205, 600, 479, 484, 488, 491, 493, 494, 498, 500, 501, 377, 378, 379, 380, 381, 382, 383}}), ('HERSTAL', 'MILMORT', {'route_id': {384, 129, 386, 133, 332, 333, 205, 340, 484, 488, 491, 493, 498, 500, 501, 377, 380, 381, 382, 383}}), ('MILMORT', 'LIERS', {'route_id': {384, 129, 386, 133, 332, 333, 205, 340, 484, 488, 491, 493, 498, 500, 501, 377, 380, 381, 382, 383}}), ('LIERS', 'GLONS', {'route_id': {133, 491, 332, 333, 340}}), ('SCHAERBEEK', 'HAREN-SUD', {'route_id': {130, 772, 773, 774, 777, 278, 279, 409, 283, 155, 413, 285, 411, 291, 680, 681, 300, 178, 180, 181, 182, 183, 184, 697, 185, 694, 695, 696, 583, 584, 585, 202, 586, 587, 590, 595, 596, 726, 471, 598, 220, 477, 736, 738, 227, 228, 741, 229, 743, 739, 740, 746, 235, 747, 237, 748, 749, 750, 370, 243, 244, 758, 376}}), ('SCHAERBEEK', 'BRUSSELS AIRPORT-ZAVENTEM', {'route_id': {768, 290, 771, 327, 328, 362, 364, 365, 366, 367, 368, 785, 178, 242, 372, 374, 375, 767}}), ('SCHAERBEEK', 'BUDA', {'route_id': {259, 260, 261, 439, 440, 573, 337, 338, 214, 218, 355, 356, 357, 230, 231, 744, 232, 234, 358, 751, 247, 766}}), ('SCHAERBEEK', 'TOUR-ET-TAXIS', {'route_id': {736}}), ('SCHAERBEEK', 'VILVORDE', {'route_id': {745}}), ('HAREN-SUD', 'DIEGEM', {'route_id': {130, 772, 773, 774, 777, 278, 279, 409, 283, 155, 413, 285, 411, 291, 680, 681, 300, 178, 180, 181, 182, 183, 184, 697, 185, 694, 695, 696, 583, 584, 585, 202, 586, 587, 590, 595, 596, 726, 471, 598, 220, 477, 736, 738, 227, 228, 741, 229, 743, 739, 740, 746, 235, 747, 237, 748, 749, 750, 370, 243, 244, 758, 376}}), ('DIEGEM', 'ZAVENTEM', {'route_id': {130, 772, 773, 774, 777, 278, 279, 408, 409, 283, 155, 413, 285, 411, 291, 680, 681, 300, 687, 688, 305, 178, 180, 181, 182, 183, 184, 697, 185, 694, 695, 696, 583, 584, 585, 202, 586, 587, 590, 595, 596, 726, 471, 598, 220, 348, 349, 477, 736, 738, 227, 228, 741, 229, 743, 739, 740, 746, 235, 747, 237, 748, 749, 750, 370, 243, 244, 758, 376}}), ('DIEGEM', 'HAREN', {'route_id': {408, 305, 348, 349}}), ('DIEGEM', 'VILVORDE', {'route_id': {688, 687}}), ('ZAVENTEM', 'NOSSEGEM', {'route_id': {130, 772, 773, 774, 777, 278, 279, 409, 283, 155, 413, 285, 411, 680, 681, 300, 687, 688, 180, 181, 182, 183, 184, 697, 185, 694, 695, 696, 583, 584, 585, 202, 586, 587, 595, 596, 598, 471, 348, 349, 477, 736, 738, 227, 228, 741, 229, 743, 739, 740, 746, 235, 747, 237, 748, 749, 370, 758, 376}}), ('ZAVENTEM', 'BRUSSELS AIRPORT-ZAVENTEM', {'route_id': {291, 590, 750, 305, 178, 243, 244, 726, 408, 220}}), ('NOSSEGEM', 'KORTENBERG', {'route_id': {583, 584, 585, 586, 587, 595, 596, 598, 130, 155, 680, 681, 169, 687, 688, 180, 181, 694, 695, 182, 183, 184, 697, 185, 696, 202, 736, 738, 227, 228, 741, 229, 743, 739, 740, 746, 235, 747, 749, 237, 748, 758, 760, 772, 773, 774, 777, 785, 278, 279, 283, 285, 300, 314, 315, 316, 317, 318, 319, 348, 349, 362, 364, 365, 366, 367, 368, 370, 376, 405, 406, 407, 409, 411, 413, 471, 477}}), ('NOSSEGEM', 'BRUSSELS AIRPORT-ZAVENTEM', {'route_id': {785, 405, 406, 407, 169, 687, 314, 315, 316, 317, 318, 319, 362, 364, 365, 366, 367, 368, 760}}), ('KORTENBERG', 'ERPS-KWERPS', {'route_id': {583, 584, 585, 586, 587, 595, 596, 598, 130, 155, 680, 681, 169, 687, 688, 180, 181, 694, 695, 182, 183, 184, 697, 185, 696, 202, 736, 738, 227, 228, 741, 229, 743, 739, 740, 746, 235, 747, 749, 237, 748, 758, 760, 772, 773, 774, 777, 785, 278, 279, 283, 285, 300, 314, 315, 316, 317, 318, 319, 348, 349, 362, 364, 365, 366, 367, 368, 370, 376, 405, 406, 407, 409, 411, 413, 471, 477}}), ('ERPS-KWERPS', 'VELTEM', {'route_id': {583, 584, 585, 586, 587, 595, 596, 598, 130, 155, 680, 681, 169, 687, 688, 180, 181, 694, 695, 182, 183, 184, 697, 185, 696, 202, 736, 738, 227, 228, 741, 229, 743, 739, 740, 746, 235, 747, 749, 237, 748, 758, 760, 772, 773, 774, 777, 785, 278, 279, 283, 285, 300, 314, 315, 316, 317, 318, 319, 348, 349, 362, 364, 365, 366, 367, 368, 370, 376, 405, 406, 407, 409, 411, 413, 471, 477}}), ('VELTEM', 'HERENT', {'route_id': {583, 584, 585, 586, 587, 595, 596, 598, 130, 155, 680, 681, 169, 687, 688, 180, 181, 694, 695, 182, 183, 184, 697, 185, 696, 202, 736, 738, 227, 228, 741, 229, 743, 739, 740, 746, 235, 747, 749, 237, 748, 758, 760, 772, 773, 774, 777, 785, 278, 279, 283, 285, 300, 314, 315, 316, 317, 318, 319, 348, 349, 362, 364, 365, 366, 367, 368, 370, 376, 405, 406, 407, 409, 411, 413, 471, 477}}), ('HERENT', 'LOUVAIN', {'route_id': {130, 772, 773, 774, 777, 405, 406, 407, 409, 155, 411, 413, 694, 680, 681, 169, 746, 300, 687, 688, 180, 181, 182, 183, 184, 185, 314, 315, 316, 317, 318, 319, 696, 749, 583, 584, 585, 202, 595, 596, 598, 471, 348, 349, 477, 736, 738, 227, 228, 741, 229, 743, 739, 740, 362, 235, 747, 237, 365, 367, 760, 364, 366, 368, 370, 748, 758, 376}}), ('HERENT', 'WEZEMAAL', {'route_id': {695, 586, 587, 785, 278, 279, 697, 283, 285}}), ('LOUVAIN', 'HEVERLEE', {'route_id': {130, 717, 686, 687, 688, 689, 690, 691, 718, 336}}), ('LOUVAIN', 'WEZEMAAL', {'route_id': {167, 168, 169, 301, 302, 303, 691, 692, 314, 315, 316, 317, 318, 319, 582, 331, 718, 592, 593, 740, 239}}), ('LOUVAIN', 'WIJGMAAL', {'route_id': {320, 323, 168, 717, 686, 593, 594, 689, 567, 410, 571, 414}}), ('LOUVAIN', 'VERTRIJK', {'route_id': {300, 690, 180, 181, 182, 183, 184, 185, 694, 583, 584, 585, 202, 589, 207, 595, 349, 738, 227, 228, 741, 229, 743, 739, 362, 747, 363, 365, 364, 366, 758}}), ('LOUVAIN', 'ANS', {'route_id': {477, 773, 774, 777, 748, 237, 749, 596, 598, 471, 411, 413}}), ('HEVERLEE', 'OUD-HEVERLEE', {'route_id': {130, 717, 718, 687, 688, 336}}), ('OUD-HEVERLEE', 'SINT-JORIS-WEERT', {'route_id': {130, 717, 718, 687, 688, 336}}), ('SINT-JORIS-WEERT', 'PECROT', {'route_id': {336, 130}}), ('SINT-JORIS-WEERT', 'MOL', {'route_id': {687}}), ('PECROT', 'FLORIVAL', {'route_id': {336, 130}}), ('FLORIVAL', 'ARCHENNES', {'route_id': {336, 130}}), ('ARCHENNES', 'GASTUCHE', {'route_id': {336, 130}}), ('GASTUCHE', 'BASSE-WAVRE', {'route_id': {336, 130}}), ('BASSE-WAVRE', 'WAVRE', {'route_id': {336, 449, 130}}), ('WAVRE', 'BIERGES-WALIBI', {'route_id': {448, 449, 130, 526, 336, 443, 221, 447}}), ('BIERGES-WALIBI', 'LIMAL', {'route_id': {448, 449, 130, 526, 336, 443, 221, 447}}), ('HERENTALS', 'WOLFSTEE', {'route_id': {131, 419, 426, 427, 428, 429, 686, 687, 688, 689, 693, 573, 579, 580, 334, 737, 355, 357, 358, 766}}), ('HERENTALS', 'OLEN', {'route_id': {737, 426, 427, 428, 429, 334, 686, 240, 687, 690, 688, 689, 573}}), ('HERENTALS', 'TIELEN', {'route_id': {355, 420, 357, 419, 358, 766}}), ('WOLFSTEE', 'BOUWEL', {'route_id': {131, 419, 426, 427, 428, 429, 686, 687, 688, 689, 693, 573, 579, 580, 334, 737, 355, 357, 358, 766}}), ('BOUWEL', 'NIJLEN', {'route_id': {131, 419, 426, 427, 428, 429, 686, 687, 688, 689, 693, 573, 579, 580, 334, 737, 355, 357, 358, 766}}), ('NIJLEN', 'KESSEL', {'route_id': {131, 419, 426, 427, 428, 429, 686, 687, 688, 689, 693, 573, 579, 580, 334, 737, 355, 357, 358, 766}}), ('KESSEL', 'LIERRE', {'route_id': {131, 419, 426, 427, 428, 429, 686, 687, 688, 689, 693, 573, 579, 580, 334, 737, 355, 357, 358, 766}}), ('LIERRE', 'BOECHOUT', {'route_id': {131, 785, 419, 167, 426, 427, 428, 429, 691, 574, 579, 581, 582, 331, 333, 334, 737, 356, 759}}), ('LIERRE', 'KONTICH-LINT', {'route_id': {165}}), ('LIERRE', 'BERLAAR', {'route_id': {581, 582, 167, 331, 333, 718, 785, 691, 759, 574}}), ('LIERRE', 'DUFFEL', {'route_id': {355, 357, 358, 686, 687, 688, 689, 718, 573, 766}}), ('BOECHOUT', 'MORTSEL', {'route_id': {737, 131, 579, 419, 582, 167, 581, 426, 331, 427, 333, 429, 334, 428, 785, 691, 759, 574}}), ('BOECHOUT', 'ANVERS-BERCHEM', {'route_id': {579, 356}}), ('MORTSEL', 'ANVERS-BERCHEM', {'route_id': {131, 785, 419, 165, 167, 168, 426, 427, 428, 429, 691, 574, 579, 581, 582, 331, 333, 334, 218, 737, 356, 231, 744, 232, 745, 759, 751, 247}}), ('MORTSEL', 'MORTSEL-LIERSESTEENWEG', {'route_id': {356, 165, 231, 232, 745, 168, 744, 751, 247, 218}}), ('ANVERS-BERCHEM', 'ANVERS-CENTRAL', {'route_id': {131, 259, 261, 260, 785, 530, 531, 532, 419, 165, 167, 168, 169, 426, 427, 428, 429, 557, 558, 179, 691, 309, 311, 440, 439, 314, 315, 316, 317, 318, 319, 574, 321, 322, 579, 577, 578, 582, 581, 331, 333, 334, 335, 337, 338, 211, 726, 218, 737, 230, 231, 744, 232, 745, 759, 236, 751, 247, 249}}), ('ANVERS-BERCHEM', 'MORTSEL-DEURNESTEENWEG', {'route_id': {577, 259, 260, 261, 230, 169, 337, 338, 726, 439, 440, 314, 315, 316, 317, 318, 319}}), ('ANVERS-BERCHEM', 'ANVERS-SUD', {'route_id': {321, 578, 322, 236, 557, 558, 335, 562, 179, 211, 309, 530, 311, 531, 249, 532, 575}}), ('ANVERS-CENTRAL', 'ANVERS-LUCHTBAL', {'route_id': {576, 439, 577, 259, 260, 206, 785, 691, 309, 726, 311, 440, 313, 316, 317, 318}}), ('ANVERS-CENTRAL', 'ANVERS-CENTRAL', {'route_id': {579}}), ('OSTENDE', 'OSTENDE', {'route_id': {551}}), ('ROULERS', 'IZEGEM', {'route_id': {291, 292, 293, 677, 294, 682, 235, 748, 660, 661, 662, 663}}), ('HASSELT', 'DIEPENBEEK', {'route_id': {133, 586, 491, 332, 588, 333, 492, 209, 340, 181, 278, 759, 184, 692, 694, 188, 319}}), ('HASSELT', 'KIEWIT', {'route_id': {584, 139, 589, 591, 180, 183}}), ('HASSELT', 'SCHULEN', {'route_id': {740, 169, 586, 759, 333, 301, 592, 593, 692, 278, 695, 283, 316, 574, 319}}), ('HASSELT', 'ALKEN', {'route_id': {738, 739, 741, 584, 585, 589, 690, 180, 181, 182, 183, 184, 185, 694}}), ('HASSELT', 'ZONHOVEN', {'route_id': {737, 690, 435}}), ('DIEPENBEEK', 'BILZEN', {'route_id': {133, 586, 491, 332, 588, 333, 492, 209, 340, 181, 278, 759, 184, 692, 694, 188, 319}}), ('BILZEN', 'TONGRES', {'route_id': {133, 586, 491, 332, 588, 333, 492, 340, 181, 278, 759, 184, 692, 694, 188, 319}}), ('TONGRES', 'GLONS', {'route_id': {133, 491, 332, 333, 340}}), ('LA LOUVIERE-SUD', 'LEVAL', {'route_id': {353, 355, 356, 645, 711, 136, 712, 431, 764, 766}}), ('LA LOUVIERE-SUD', 'BRACQUEGNIES', {'route_id': {384, 385, 258, 386, 387, 388, 389, 390, 392, 391, 395, 651, 150, 151, 159, 160, 162, 163, 437, 438, 201, 724, 755, 378, 380, 383}}), ('LA LOUVIERE-SUD', 'MORLANWELZ', {'route_id': {384, 385, 258, 386, 387, 388, 389, 391, 390, 392, 394, 395, 150, 151, 159, 162, 163, 422, 423, 424, 438, 201, 724, 725, 755, 378, 380, 383}}), ('LEVAL', 'BINCHE', {'route_id': {353, 355, 356, 645, 711, 136, 712, 431, 764, 766}}), ('BINCHE', 'BINCHE', {'route_id': {645}}), ('COURTRAI', 'HARELBEKE', {'route_id': {772, 773, 775, 776, 137, 779, 782, 409, 411, 418, 678, 553, 557, 558, 562, 702, 575, 703, 714, 717, 718, 235, 748}}), ('COURTRAI', 'VICHTE', {'route_id': {291, 293, 199, 200, 776, 138, 719, 721, 220, 473, 667, 668, 670, 671}}), ('COURTRAI', 'BISSEGEM', {'route_id': {553, 779, 557, 717, 721, 562, 564, 215}}), ('COURTRAI', 'INGELMUNSTER', {'route_id': {291, 292, 293, 677, 682, 235, 748, 660, 661, 662, 663}}), ('HARELBEKE', 'WAREGEM', {'route_id': {772, 773, 775, 776, 137, 779, 782, 409, 411, 418, 678, 553, 557, 558, 562, 702, 575, 703, 714, 717, 718, 235, 748}}), ('VICHTE', 'ANZEGEM', {'route_id': {291, 293, 199, 200, 776, 138, 719, 721, 220, 473, 667, 668, 670, 671}}), ('ANZEGEM', 'AUDENARDE', {'route_id': {291, 293, 199, 200, 776, 138, 719, 721, 220, 473, 667, 668, 670, 671}}), ('AUDENARDE', 'SINT-DENIJS-BOEKEL', {'route_id': {289, 291, 198, 199, 776, 138, 670, 719, 721, 220, 472, 473, 666, 667, 668, 669, 286, 671}}), ('AUDENARDE', 'RENAIX', {'route_id': {609, 642, 673, 156}}), ('AUDENARDE', 'EINE', {'route_id': {672, 609, 642, 673, 664, 156, 158}}), ('SINT-DENIJS-BOEKEL', 'MUNKZWALM', {'route_id': {289, 291, 198, 199, 776, 138, 670, 719, 721, 220, 472, 473, 666, 667, 668, 669, 286, 671}}), ('MUNKZWALM', 'ZOTTEGEM', {'route_id': {289, 291, 198, 199, 776, 138, 670, 719, 721, 220, 472, 473, 666, 667, 668, 669, 286, 671}}), ('ZOTTEGEM', 'HILLEGEM', {'route_id': {288, 289, 291, 776, 138, 719, 720, 671, 220, 472, 473, 666, 667, 668, 669, 286, 287}}), ('ZOTTEGEM', 'BALEGEM-ZUID', {'route_id': {672, 673, 241, 784}}), ('ZOTTEGEM', 'LIERDE', {'route_id': {672, 673, 675, 784, 241}}), ('HILLEGEM', 'HERZELE', {'route_id': {288, 289, 291, 776, 138, 719, 720, 671, 220, 472, 473, 666, 667, 668, 669, 286, 287}}), ('HERZELE', 'TERHAGEN', {'route_id': {288, 289, 291, 776, 138, 719, 720, 671, 220, 472, 473, 666, 667, 668, 669, 286, 287}}), ('TERHAGEN', 'BURST', {'route_id': {288, 289, 291, 776, 138, 719, 720, 671, 220, 472, 473, 666, 667, 668, 669, 286, 287}}), ('BURST', 'EDE', {'route_id': {288, 289, 291, 776, 138, 719, 720, 671, 220, 472, 473, 666, 667, 668, 669, 286, 287}}), ('BURST', 'BAMBRUGGE', {'route_id': {676}}), ('EDE', 'HAALTERT', {'route_id': {288, 289, 291, 776, 138, 719, 720, 671, 220, 472, 473, 666, 667, 668, 669, 286, 287}}), ('HAALTERT', 'WELLE', {'route_id': {288, 289, 291, 776, 138, 719, 720, 671, 220, 472, 473, 666, 667, 668, 669, 286, 287}}), ('GENK', 'BOKRIJK', {'route_id': {584, 139, 589, 591, 180, 183}}), ('BOKRIJK', 'KIEWIT', {'route_id': {584, 139, 589, 591, 180, 183}}), ('EUPEN', 'WELKENRAEDT', {'route_id': {777, 140, 207, 471, 698}}), ('WELKENRAEDT', 'DOLHAIN-GILEPPE', {'route_id': {773, 774, 777, 747, 748, 749, 237, 207, 469, 470, 471, 600, 698, 411, 413}}), ('WELKENRAEDT', 'HERGENRATH', {'route_id': {468, 469}}), ('RONET', 'FLAWINNE', {'route_id': {384, 385, 258, 387, 386, 388, 389, 390, 391, 396, 397, 143, 415, 441, 442, 443, 444, 448, 449, 450, 201, 723, 724, 725, 755, 378, 380, 381, 382, 383}}), ('FLAWINNE', 'FLOREFFE', {'route_id': {384, 385, 258, 387, 386, 388, 389, 390, 391, 396, 397, 143, 415, 441, 442, 443, 444, 448, 449, 450, 201, 723, 724, 725, 755, 378, 380, 381, 382, 383}}), ('FLOREFFE', 'FRANIERE', {'route_id': {384, 385, 258, 387, 386, 388, 389, 390, 391, 396, 397, 143, 415, 441, 442, 443, 444, 448, 449, 450, 201, 723, 724, 725, 755, 378, 380, 381, 382, 383}}), ('FRANIERE', 'MOUSTIER', {'route_id': {384, 385, 258, 387, 386, 388, 389, 390, 391, 396, 397, 143, 415, 441, 442, 443, 444, 448, 449, 450, 201, 723, 724, 725, 755, 378, 380, 381, 382, 383}}), ('MOUSTIER', 'HAM-SUR-SAMBRE', {'route_id': {384, 385, 258, 387, 386, 388, 389, 390, 391, 396, 397, 143, 415, 441, 442, 443, 444, 448, 449, 450, 201, 723, 724, 725, 755, 378, 380, 381, 382, 383}}), ('HAM-SUR-SAMBRE', 'JEMEPPE-SUR-SAMBRE', {'route_id': {384, 385, 258, 387, 386, 388, 389, 390, 391, 396, 397, 143, 415, 441, 442, 443, 444, 448, 449, 450, 201, 723, 724, 725, 755, 378, 380, 381, 382, 383}}), ('JEMEPPE-SUR-SAMBRE', 'AUVELAIS', {'route_id': {384, 385, 258, 387, 386, 388, 389, 390, 643, 391, 396, 397, 143, 640, 415, 441, 442, 443, 444, 448, 449, 450, 201, 723, 724, 725, 755, 378, 380, 381, 382, 383}}), ('JEMEPPE-SUR-SAMBRE', 'MAZY', {'route_id': {640, 641}}), ('AUVELAIS', 'TAMINES', {'route_id': {384, 385, 258, 387, 386, 388, 389, 390, 643, 391, 396, 397, 143, 640, 415, 441, 442, 443, 444, 448, 449, 450, 201, 723, 724, 725, 755, 378, 380, 381, 382, 383}}), ('TAMINES', 'AISEAU', {'route_id': {384, 385, 258, 387, 388, 386, 389, 390, 643, 391, 396, 397, 150, 151, 415, 416, 417, 162, 441, 442, 443, 444, 448, 449, 450, 201, 723, 724, 725, 755, 378, 380, 382, 383}}), ('QUEVY', 'GENLY', {'route_id': {452, 453, 166, 652, 461, 460, 462, 653, 657, 781, 147, 245, 374}}), ('QUEVY', 'QUEVY-FRONTIERE', {'route_id': {245}}), ('GENLY', 'FRAMERIES', {'route_id': {452, 453, 166, 652, 461, 460, 462, 653, 657, 781, 147, 245, 374}}), ('FRAMERIES', 'MONS', {'route_id': {452, 453, 166, 652, 461, 460, 462, 653, 657, 781, 147, 245, 374}}), ('MONS', 'NIMY', {'route_id': {384, 385, 258, 386, 387, 388, 389, 391, 390, 392, 395, 651, 653, 150, 151, 159, 160, 162, 163, 437, 438, 201, 715, 724, 755, 378, 380, 383}}), ('MONS', 'JEMAPPES', {'route_id': {384, 385, 258, 386, 387, 389, 390, 391, 393, 395, 655, 659, 151, 159, 160, 162, 163, 170, 704, 705, 451, 452, 453, 454, 455, 202, 716, 724, 610, 227, 755, 383}}), ('MONS', 'GHLIN', {'route_id': {768, 769, 770, 781, 655, 656, 657, 154, 166, 705, 202, 459, 460, 461, 462, 463, 464, 716, 227, 612, 743, 615, 372, 373, 374, 767}}), ('POPERINGE', 'YPRES', {'route_id': {553, 779, 717, 557, 721, 562, 148, 149, 564, 215}}), ('YPRES', 'COMINES', {'route_id': {553, 779, 717, 557, 721, 562, 148, 149, 564, 215}}), ('COMINES', 'WERVIK', {'route_id': {553, 779, 717, 557, 721, 562, 148, 149, 564, 215}}), ('WERVIK', 'MENIN', {'route_id': {553, 779, 717, 557, 721, 562, 148, 149, 564, 215}}), ('MENIN', 'WEVELGEM', {'route_id': {553, 779, 717, 557, 721, 562, 564, 149, 215}}), ('BISSEGEM', 'WEVELGEM', {'route_id': {553, 779, 557, 717, 721, 562, 564, 149, 215}}), ('NIMY', 'OBOURG', {'route_id': {384, 385, 258, 386, 387, 388, 389, 391, 390, 392, 395, 651, 653, 150, 151, 159, 160, 162, 163, 437, 438, 201, 715, 724, 755, 378, 380, 383}}), ('OBOURG', 'HAVRE', {'route_id': {384, 385, 258, 386, 387, 388, 389, 391, 390, 392, 395, 651, 653, 150, 151, 159, 160, 162, 163, 437, 438, 201, 715, 724, 755, 378, 380, 383}}), ('HAVRE', 'THIEU', {'route_id': {384, 385, 258, 386, 387, 388, 389, 391, 390, 392, 395, 651, 653, 150, 151, 159, 160, 162, 163, 437, 438, 201, 715, 724, 755, 378, 380, 383}}), ('THIEU', 'BRACQUEGNIES', {'route_id': {384, 385, 258, 386, 387, 388, 389, 391, 390, 392, 395, 651, 653, 150, 151, 159, 160, 162, 163, 437, 438, 201, 715, 724, 755, 378, 380, 383}}), ('MORLANWELZ', 'CARNIERES', {'route_id': {384, 385, 258, 386, 387, 388, 389, 391, 390, 392, 394, 395, 150, 151, 159, 162, 163, 422, 423, 424, 438, 201, 724, 725, 755, 378, 380, 383}}), ('CARNIERES', 'PIETON', {'route_id': {384, 385, 258, 386, 387, 388, 389, 391, 390, 392, 394, 395, 150, 151, 159, 162, 163, 422, 423, 424, 438, 201, 724, 725, 755, 378, 380, 383}}), ('PIETON', 'FORCHIES', {'route_id': {384, 385, 258, 386, 387, 388, 389, 391, 390, 392, 394, 395, 150, 151, 159, 162, 163, 422, 423, 424, 438, 201, 724, 725, 755, 378, 380, 383}}), ('COUILLET', 'CHATELET', {'route_id': {384, 385, 258, 386, 387, 388, 389, 391, 390, 643, 644, 396, 397, 150, 151, 415, 416, 417, 162, 441, 442, 443, 444, 448, 449, 450, 201, 723, 724, 725, 755, 378, 380, 382, 383}}), ('CHATELET', 'LE CAMPINAIRE', {'route_id': {384, 385, 258, 386, 387, 388, 389, 391, 390, 643, 396, 397, 150, 151, 415, 416, 417, 162, 441, 442, 443, 444, 448, 449, 450, 201, 723, 724, 725, 755, 378, 380, 382, 383}}), ('LE CAMPINAIRE', 'FARCIENNES', {'route_id': {384, 385, 258, 386, 387, 388, 389, 391, 390, 643, 396, 397, 150, 151, 415, 416, 417, 162, 441, 442, 443, 444, 448, 449, 450, 201, 723, 724, 725, 755, 378, 380, 382, 383}}), ('FARCIENNES', 'AISEAU', {'route_id': {384, 385, 258, 386, 387, 388, 389, 391, 390, 643, 396, 397, 150, 151, 415, 416, 417, 162, 441, 442, 443, 444, 448, 449, 450, 201, 723, 724, 725, 755, 378, 380, 382, 383}}), ('JEMAPPES', 'QUAREGNON', {'route_id': {384, 385, 258, 386, 387, 389, 390, 391, 393, 395, 655, 659, 151, 159, 160, 162, 163, 170, 704, 705, 451, 452, 453, 454, 455, 202, 716, 724, 610, 227, 755, 383}}), ('QUAREGNON', 'SAINT-GHISLAIN', {'route_id': {384, 385, 258, 386, 387, 389, 390, 391, 393, 395, 655, 659, 151, 159, 160, 162, 163, 170, 704, 705, 451, 452, 453, 454, 455, 202, 716, 724, 610, 227, 755, 383}}), ('SAINT-GHISLAIN', 'VILLE-POMMEROEUL', {'route_id': {384, 385, 258, 387, 389, 390, 393, 395, 151, 159, 160, 161, 162, 170, 705, 451, 452, 453, 455, 724, 610, 755, 383}}), ('SAINT-GHISLAIN', 'BOUSSU', {'route_id': {704, 454, 456, 202, 204, 655, 658}}), ('VILLE-POMMEROEUL', 'HARCHIES', {'route_id': {384, 385, 258, 387, 389, 390, 393, 395, 151, 159, 160, 161, 162, 170, 705, 451, 452, 453, 455, 724, 610, 755, 383}}), ('HARCHIES', 'BLATON', {'route_id': {384, 385, 258, 387, 389, 390, 393, 395, 151, 159, 160, 161, 162, 170, 705, 451, 452, 453, 455, 724, 610, 755, 383}}), ('BLATON', 'PERUWELZ', {'route_id': {384, 385, 258, 387, 389, 390, 393, 395, 151, 159, 160, 161, 162, 170, 705, 451, 452, 453, 455, 724, 610, 755, 383}}), ('PERUWELZ', 'CALLENELLE', {'route_id': {384, 385, 258, 387, 389, 390, 393, 395, 151, 159, 160, 161, 162, 170, 705, 451, 452, 453, 455, 724, 610, 755, 383}}), ('CALLENELLE', 'MAUBRAY', {'route_id': {384, 385, 258, 387, 389, 390, 393, 395, 151, 159, 160, 161, 162, 170, 705, 451, 452, 453, 455, 724, 610, 755, 383}}), ('MAUBRAY', 'ANTOING', {'route_id': {384, 385, 258, 387, 389, 390, 393, 395, 151, 159, 160, 161, 162, 170, 705, 451, 452, 453, 455, 724, 610, 755, 383}}), ('JURBISE', 'ERBISOEUL', {'route_id': {768, 769, 770, 781, 655, 656, 657, 154, 166, 705, 202, 459, 460, 716, 462, 463, 464, 461, 227, 612, 615, 743, 372, 373, 374, 767}}), ('JURBISE', 'MASNUY-SAINT-PIERRE', {'route_id': {768, 769, 770, 227, 166, 743, 202, 716, 781, 655, 656, 657, 372, 373, 374, 412, 767}}), ('JURBISE', 'LENS', {'route_id': {705, 612, 613, 615, 459, 460, 461, 463, 465}}), ('ERBISOEUL', 'GHLIN', {'route_id': {768, 769, 770, 781, 655, 656, 657, 154, 166, 705, 202, 459, 460, 716, 462, 463, 464, 461, 227, 612, 615, 743, 372, 373, 374, 767}}), ('EINE', 'ZINGEM', {'route_id': {672, 609, 642, 673, 664, 156, 158}}), ('ZINGEM', 'GAVERE-ASPER', {'route_id': {672, 609, 642, 673, 664, 156, 158}}), ('GAVERE-ASPER', 'EKE-NAZARETH', {'route_id': {672, 609, 642, 673, 664, 156, 158}}), ('EEKLO', 'WAARSCHOOT', {'route_id': {609, 611, 565, 664, 157}}), ('WAARSCHOOT', 'SLEIDINGE', {'route_id': {609, 611, 565, 664, 157}}), ('SLEIDINGE', 'EVERGEM', {'route_id': {609, 611, 565, 664, 157}}), ('EVERGEM', 'WONDELGEM', {'route_id': {609, 611, 565, 664, 157}}), ('WONDELGEM', 'GAND-DAMPOORT', {'route_id': {609, 611, 565, 664, 157}}), ('GAND-DAMPOORT', 'GENTBRUGGE', {'route_id': {609, 578, 236, 556, 558, 335, 527, 557, 530, 211, 565, 664, 540}}), ('GAND-DAMPOORT', 'BEERVELDE', {'route_id': {578, 556, 557, 236, 527, 335, 558, 530, 211, 532, 540}}), ('MALINES', 'KAPELLE-OP-DEN-BOS', {'route_id': {164, 516, 717, 718, 496, 497, 502, 503, 569, 410, 571, 414, 703}}), ('MALINES', 'BRUSSELS AIRPORT-ZAVENTEM', {'route_id': {577, 169, 687, 726, 760, 314, 315, 316, 317, 318, 319}}), ('MALINES', 'MALINES-NEKKERSPOEL', {'route_id': {259, 260, 261, 169, 687, 688, 439, 440, 314, 315, 316, 573, 317, 319, 318, 577, 718, 337, 338, 726, 218, 355, 356, 357, 230, 231, 744, 232, 358, 745, 751, 247, 766}}), ('MALINES', 'WEERDE', {'route_id': {259, 260, 261, 687, 688, 439, 440, 573, 337, 338, 214, 218, 350, 351, 352, 355, 356, 357, 230, 358, 232, 745, 234, 231, 744, 751, 247, 766}}), ('MALINES', 'MUIZEN', {'route_id': {320, 323, 717, 593, 594, 276, 277, 567, 410, 571, 414}}), ('MALINES', 'WILLEBROEK', {'route_id': {323, 324, 325, 566, 567}}), ('KAPELLE-OP-DEN-BOS', 'LONDERZEEL', {'route_id': {164, 516, 717, 718, 496, 497, 502, 503, 569, 410, 571, 414, 703}}), ('LONDERZEEL', 'MALDEREN', {'route_id': {516, 717, 718, 496, 497, 502, 503, 569, 410, 571, 414, 703}}), ('KONTICH-LINT', 'HOVE', {'route_id': {259, 260, 261, 165, 168, 169, 439, 440, 314, 315, 316, 317, 318, 319, 577, 337, 338, 726, 218, 356, 230, 231, 744, 232, 745, 751, 247}}), ('KONTICH-LINT', 'DUFFEL', {'route_id': {259, 260, 261, 168, 169, 439, 440, 314, 315, 316, 317, 318, 319, 577, 337, 338, 726, 218, 356, 230, 231, 232, 745, 744, 751, 247}}), ('HOVE', 'MORTSEL-LIERSESTEENWEG', {'route_id': {356, 165, 231, 168, 744, 232, 745, 751, 247, 218}}), ('HOVE', 'MORTSEL-OUDE GOD', {'route_id': {577, 259, 260, 261, 230, 169, 337, 338, 726, 439, 440, 314, 315, 316, 317, 318, 319}}), ('SOIGNIES', 'NEUFVILLES', {'route_id': {768, 769, 770, 227, 166, 743, 202, 716, 781, 655, 656, 657, 372, 373, 374, 412, 767}}), ('SOIGNIES', 'BRAINE-LE-COMTE', {'route_id': {768, 769, 770, 227, 743, 202, 716, 781, 655, 656, 657, 372, 373, 374, 412, 767}}), ('NEUFVILLES', 'MASNUY-SAINT-PIERRE', {'route_id': {768, 769, 770, 227, 166, 743, 202, 716, 781, 655, 656, 657, 372, 373, 374, 412, 767}}), ('WEZEMAAL', 'AARSCHOT', {'route_id': {785, 278, 279, 283, 285, 167, 168, 169, 301, 302, 303, 691, 692, 695, 697, 314, 315, 316, 317, 318, 319, 582, 586, 331, 587, 718, 592, 593, 740, 239}}), ('AARSCHOT', 'BEGIJNENDIJK', {'route_id': {581, 582, 167, 168, 331, 333, 718, 785, 691, 759}}), ('AARSCHOT', 'LANGDORP', {'route_id': {278, 283, 169, 301, 302, 692, 695, 697, 314, 316, 317, 319, 586, 333, 592, 593, 740, 239, 759}}), ('BEGIJNENDIJK', 'BOOISCHOT', {'route_id': {581, 582, 167, 168, 331, 333, 718, 785, 691, 759, 574}}), ('BEGIJNENDIJK', 'LANGDORP', {'route_id': {574}}), ('BOOISCHOT', 'HEIST-OP-DEN-BERG', {'route_id': {581, 582, 167, 168, 331, 333, 718, 785, 691, 759, 574}}), ('HEIST-OP-DEN-BERG', 'MELKOUWEN', {'route_id': {581, 582, 167, 331, 333, 718, 785, 691, 759, 574}}), ('MELKOUWEN', 'BERLAAR', {'route_id': {581, 582, 167, 331, 333, 718, 785, 691, 759, 574}}), ('WIJGMAAL', 'HAMBOS', {'route_id': {320, 323, 168, 717, 686, 593, 594, 689, 567, 410, 571, 414}}), ('HAMBOS', 'WESPELAAR-TILDONK', {'route_id': {320, 323, 168, 717, 686, 593, 594, 689, 567, 410, 571, 414}}), ('WESPELAAR-TILDONK', 'HAACHT', {'route_id': {320, 323, 168, 717, 686, 593, 594, 689, 567, 410, 571, 414}}), ('HAACHT', 'BOORTMEERBEEK', {'route_id': {320, 323, 168, 717, 686, 593, 594, 689, 567, 410, 571, 414}}), ('BOORTMEERBEEK', 'HEVER', {'route_id': {320, 323, 168, 717, 686, 593, 594, 689, 567, 410, 571, 414}}), ('HEVER', 'MUIZEN', {'route_id': {320, 323, 168, 717, 686, 593, 594, 689, 567, 410, 571, 414}}), ('MUIZEN', 'MALINES-NEKKERSPOEL', {'route_id': {168, 689, 686}}), ('MUIZEN', 'HOFSTADE', {'route_id': {276, 277}}), ('MALINES-NEKKERSPOEL', 'SINT-KATELIJNE-WAVER', {'route_id': {259, 260, 261, 168, 169, 686, 687, 688, 689, 439, 440, 314, 315, 316, 573, 317, 319, 318, 577, 718, 337, 338, 726, 218, 355, 356, 357, 230, 231, 744, 232, 358, 745, 751, 247, 766}}), ('SINT-KATELIJNE-WAVER', 'DUFFEL', {'route_id': {259, 260, 261, 168, 169, 686, 687, 688, 689, 439, 440, 314, 315, 316, 573, 317, 319, 318, 577, 718, 337, 338, 726, 218, 355, 356, 357, 230, 231, 744, 232, 358, 745, 751, 247, 766}}), ('SCHULEN', 'DIEST', {'route_id': {740, 169, 586, 759, 333, 301, 239, 592, 593, 692, 278, 695, 283, 316, 574, 319}}), ('SCHULEN', 'ZONHOVEN', {'route_id': {239}}), ('DIEST', 'ZICHEM', {'route_id': {278, 283, 169, 301, 302, 692, 695, 697, 314, 316, 317, 574, 319, 586, 333, 592, 593, 740, 239, 759}}), ('ZICHEM', 'TESTELT', {'route_id': {278, 283, 169, 301, 302, 692, 695, 697, 314, 316, 317, 574, 319, 586, 333, 592, 593, 740, 239, 759}}), ('TESTELT', 'LANGDORP', {'route_id': {278, 283, 169, 301, 302, 692, 695, 697, 314, 316, 317, 574, 319, 586, 333, 592, 593, 740, 239, 759}}), ('BRUSSELS AIRPORT-ZAVENTEM', 'HAL', {'route_id': {178}}), ('BRUSSELS AIRPORT-ZAVENTEM', 'HAREN', {'route_id': {305, 405, 406, 407, 408}}), ('MORTSEL-OUDE GOD', 'MORTSEL-DEURNESTEENWEG', {'route_id': {577, 259, 260, 261, 230, 169, 337, 338, 726, 439, 440, 314, 315, 316, 317, 318, 319}}), ('FOREST-EST', 'UCCLE-STALLE', {'route_id': {643, 260, 261, 262, 231, 232, 745, 234, 171, 233, 440, 644, 337, 339, 214, 247, 248, 254}}), ('UCCLE-STALLE', 'UCCLE-CALEVOET', {'route_id': {643, 260, 261, 262, 231, 232, 745, 234, 171, 233, 440, 644, 337, 339, 214, 247, 248, 254}}), ('UCCLE-CALEVOET', 'LINKEBEEK', {'route_id': {643, 260, 261, 262, 231, 232, 745, 234, 171, 233, 440, 644, 337, 339, 214, 247, 248, 254}}), ('LINKEBEEK', 'HOLLEKEN', {'route_id': {643, 260, 261, 262, 644, 406, 408, 171, 440, 337, 339, 214, 348, 349, 231, 232, 745, 234, 233, 247, 248, 254}}), ('LINKEBEEK', 'SAINT-JOB', {'route_id': {408, 348, 349, 406}}), ('HOLLEKEN', 'RHODE-SAINT-GENESE', {'route_id': {643, 260, 261, 262, 644, 406, 408, 171, 440, 337, 339, 214, 348, 349, 231, 232, 745, 234, 233, 247, 248, 254}}), ('RHODE-SAINT-GENESE', 'DE HOEK', {'route_id': {643, 260, 261, 262, 644, 406, 408, 171, 440, 337, 339, 214, 348, 349, 231, 232, 745, 234, 233, 247, 248, 254}}), ('DE HOEK', 'WATERLOO', {'route_id': {643, 260, 261, 262, 644, 406, 408, 171, 440, 337, 339, 214, 348, 349, 231, 232, 745, 234, 233, 247, 248, 254}}), ('WATERLOO', \"BRAINE-L'ALLEUD\", {'route_id': {643, 260, 261, 262, 644, 406, 408, 171, 440, 337, 339, 214, 348, 349, 231, 232, 745, 234, 233, 247, 248, 254}}), (\"BRAINE-L'ALLEUD\", 'LILLOIS', {'route_id': {248, 643, 260, 261, 262, 231, 440, 233, 234, 171, 644, 337, 339, 214, 247, 408}}), ('HAL', 'BUIZINGEN', {'route_id': {768, 769, 645, 533, 298, 299, 178, 700, 701, 189, 190, 191, 192, 193, 711, 712, 713, 202, 341, 342, 343, 344, 345, 598, 347, 608, 354, 227, 228, 229, 357, 743, 358, 359, 751, 370, 371, 244, 243, 246, 375, 373, 762, 763, 764, 766, 767}}), ('HAL', 'ENGHIEN', {'route_id': {533, 298, 299, 700, 189, 190, 191, 192, 193, 701, 341, 342, 343, 344, 345, 347, 350, 351, 608, 742, 361, 243, 244, 246, 762, 763}}), ('HAL', 'LEMBEEK', {'route_id': {768, 769, 770, 771, 645, 781, 655, 656, 657, 711, 712, 713, 202, 716, 598, 353, 354, 227, 228, 357, 358, 359, 355, 356, 743, 751, 370, 371, 372, 373, 374, 375, 764, 765, 766, 767}}), ('HAL', 'HUIZINGEN', {'route_id': {352, 360, 361, 407, 350, 351}}), ('HAL', 'FOREST-MIDI', {'route_id': {353, 355, 356, 645, 742, 716, 655, 656, 657, 765}}), ('BUIZINGEN', 'LOT', {'route_id': {768, 769, 645, 533, 298, 299, 178, 700, 701, 189, 190, 191, 192, 193, 711, 712, 713, 202, 341, 342, 343, 344, 345, 598, 347, 608, 354, 227, 228, 229, 357, 743, 358, 359, 751, 370, 371, 244, 243, 246, 375, 373, 762, 763, 764, 766, 767}}), ('LOT', 'RUISBROEK', {'route_id': {768, 769, 645, 533, 298, 299, 178, 700, 701, 189, 190, 191, 192, 193, 711, 712, 713, 202, 341, 342, 343, 344, 345, 598, 347, 608, 354, 227, 228, 229, 357, 743, 358, 359, 751, 370, 371, 244, 243, 246, 375, 373, 762, 763, 764, 766, 767}}), ('RUISBROEK', 'FOREST-MIDI', {'route_id': {768, 769, 645, 533, 298, 299, 178, 700, 189, 190, 191, 192, 193, 711, 712, 713, 202, 342, 598, 344, 345, 608, 354, 227, 228, 229, 357, 743, 358, 359, 751, 370, 371, 244, 243, 375, 763, 764, 766}}), ('SAINT-NICOLAS', 'NIEUWKERKEN-WAAS', {'route_id': {321, 322, 578, 236, 557, 558, 335, 530, 179, 211, 531, 532, 562, 540, 575}}), ('SAINT-NICOLAS', 'BELSELE', {'route_id': {530, 531, 532, 540, 556, 557, 558, 562, 575, 321, 578, 322, 335, 211, 341, 342, 343, 347, 236, 762, 763}}), ('SAINT-NICOLAS', 'TAMISE', {'route_id': {323, 324, 566, 567}}), ('NIEUWKERKEN-WAAS', 'BEVEREN', {'route_id': {321, 322, 578, 236, 557, 558, 335, 530, 179, 211, 531, 532, 562, 540, 575}}), ('BEVEREN', 'MELSELE', {'route_id': {321, 322, 578, 236, 557, 558, 335, 530, 179, 211, 531, 532, 562, 540, 575}}), ('MELSELE', 'ZWIJNDRECHT', {'route_id': {321, 322, 578, 236, 557, 558, 335, 530, 179, 211, 531, 532, 562, 575}}), ('ZWIJNDRECHT', 'ANVERS-SUD', {'route_id': {321, 322, 578, 236, 557, 558, 335, 530, 179, 211, 531, 532, 562, 575}}), ('ANVERS-SUD', 'HOBOKEN-POLDER', {'route_id': {249, 309, 311}}), ('ALKEN', 'SAINT-TROND', {'route_id': {738, 739, 741, 584, 585, 589, 690, 180, 181, 182, 183, 184, 185, 694}}), ('SAINT-TROND', 'LANDEN', {'route_id': {738, 739, 741, 584, 585, 589, 690, 180, 181, 182, 183, 184, 185, 694}}), ('LANDEN', 'NEERWINDEN', {'route_id': {300, 690, 180, 181, 182, 183, 184, 185, 694, 583, 584, 585, 202, 589, 207, 595, 349, 738, 227, 228, 229, 739, 741, 743, 362, 363, 364, 365, 366, 747, 758}}), ('LANDEN', 'WAREMME', {'route_id': {227, 228, 229, 743, 202, 747, 300, 207, 595, 758, 475}}), ('NEERWINDEN', 'EZEMAAL', {'route_id': {300, 690, 180, 181, 182, 183, 184, 185, 694, 583, 584, 585, 202, 589, 207, 595, 349, 738, 227, 228, 229, 739, 741, 743, 362, 363, 364, 365, 366, 747, 758}}), ('EZEMAAL', 'TIRLEMONT', {'route_id': {300, 690, 180, 181, 182, 183, 184, 185, 694, 583, 584, 585, 202, 589, 207, 595, 349, 738, 227, 228, 229, 739, 741, 743, 362, 363, 364, 365, 366, 747, 758}}), ('TIRLEMONT', 'VERTRIJK', {'route_id': {300, 690, 180, 181, 182, 183, 184, 185, 694, 583, 584, 585, 202, 589, 207, 595, 349, 738, 227, 228, 229, 739, 741, 743, 362, 363, 364, 365, 366, 747, 758}}), ('ANDERLECHT', 'LIEDEKERKE', {'route_id': {776, 782, 278, 279, 280, 281, 282, 667, 283, 285, 286, 287, 288, 289, 666, 291, 555, 719, 472, 473, 220, 364, 365, 366, 367, 368}}), ('ANDERLECHT', 'MELLE', {'route_id': {696, 556, 741}}), ('TRONCHIENNES', 'LANDEGEM', {'route_id': {512, 777, 269, 272, 290, 551, 683, 300, 559, 180, 181, 182, 183, 184, 185, 327, 330, 471, 217, 477, 738, 739, 740, 741, 746, 747, 236, 749, 237, 497, 757, 502, 503, 758, 505, 507, 508, 511}}), ('LANDEGEM', 'HANSBEKE', {'route_id': {512, 777, 269, 272, 290, 551, 683, 300, 559, 180, 181, 182, 183, 184, 185, 327, 330, 471, 217, 477, 738, 739, 740, 741, 746, 747, 236, 749, 237, 497, 757, 502, 503, 758, 505, 507, 508, 511}}), ('HANSBEKE', 'BELLEM', {'route_id': {512, 777, 269, 272, 290, 551, 683, 300, 559, 180, 181, 182, 183, 184, 185, 327, 330, 471, 217, 477, 738, 739, 740, 741, 746, 747, 236, 749, 237, 497, 757, 502, 503, 758, 505, 507, 508, 511}}), ('BELLEM', 'AALTER', {'route_id': {512, 777, 269, 272, 290, 551, 683, 300, 559, 180, 181, 182, 183, 184, 185, 327, 330, 471, 217, 477, 738, 739, 740, 741, 746, 747, 236, 749, 237, 497, 757, 502, 503, 758, 505, 507, 508, 511}}), ('AALTER', 'MARIA-AALTER', {'route_id': {512, 777, 269, 272, 290, 551, 683, 300, 559, 180, 181, 182, 183, 184, 185, 327, 330, 471, 217, 477, 738, 739, 740, 741, 746, 747, 236, 749, 237, 497, 757, 502, 503, 758, 505, 507, 508, 511}}), ('MARIA-AALTER', 'BEERNEM', {'route_id': {512, 777, 269, 272, 290, 551, 683, 300, 559, 180, 181, 182, 183, 184, 185, 327, 330, 471, 217, 477, 738, 739, 740, 741, 746, 747, 236, 749, 237, 497, 757, 502, 503, 758, 505, 507, 508, 511}}), ('BEERNEM', 'OOSTKAMP', {'route_id': {512, 777, 269, 272, 290, 551, 683, 300, 559, 180, 181, 182, 183, 184, 185, 327, 330, 471, 217, 477, 738, 739, 740, 741, 746, 747, 236, 749, 237, 497, 757, 502, 503, 758, 505, 507, 508, 511}}), ('VIANE-MOERBEKE', 'GAMMERAGES', {'route_id': {192, 191, 194, 197, 742, 533, 189, 190, 351}}), ('GAMMERAGES', 'TOLLEMBEEK', {'route_id': {192, 191, 194, 197, 742, 533, 189, 190, 351}}), ('TOLLEMBEEK', 'HERNE', {'route_id': {192, 191, 194, 197, 742, 533, 189, 190, 351}}), ('HERNE', 'ENGHIEN', {'route_id': {192, 191, 194, 197, 742, 533, 189, 190, 351}}), ('ENGHIEN', 'SILLY', {'route_id': {608, 298, 299, 243, 341, 246, 342, 344, 345, 762, 347, 700, 701, 343, 763}}), ('EREMBODEGEM', 'ALOST', {'route_id': {263, 264, 782, 783, 276, 278, 279, 280, 281, 282, 283, 285, 555, 563, 191, 194, 195, 364, 365, 366, 367, 368}}), ('ALOST', 'LEDE', {'route_id': {554, 555, 364, 365, 366, 782, 368, 783, 367, 278, 279, 280, 281, 282, 283, 285}}), ('ALOST', 'ALOST KERREBROEK', {'route_id': {676}}), ('MARCHE-LES-DAMES', 'NAMECHE', {'route_id': {384, 385, 386, 387, 396, 397, 398, 295, 296, 297, 298, 299, 699, 201, 467, 603, 757, 377, 378, 379, 380, 381, 382, 383}}), ('NAMECHE', 'SCLAIGNEAUX', {'route_id': {384, 385, 386, 387, 396, 397, 398, 295, 296, 297, 298, 299, 699, 201, 467, 603, 757, 377, 378, 379, 380, 381, 382, 383}}), ('SCLAIGNEAUX', 'CHATEAU-DE-SEILLES', {'route_id': {384, 385, 386, 387, 396, 397, 398, 295, 296, 297, 298, 299, 699, 201, 467, 603, 757, 377, 378, 379, 380, 381, 382, 383}}), ('CHATEAU-DE-SEILLES', 'ANDENNE', {'route_id': {384, 385, 386, 387, 396, 397, 398, 295, 296, 297, 298, 299, 699, 201, 467, 603, 757, 377, 378, 379, 380, 381, 382, 383}}), ('ANDENNE', 'BAS-OHA', {'route_id': {384, 385, 386, 387, 396, 397, 398, 295, 296, 297, 298, 299, 699, 201, 205, 467, 603, 757, 377, 378, 379, 380, 381, 382, 383}}), ('BAS-OHA', 'STATTE', {'route_id': {384, 385, 386, 387, 396, 397, 398, 295, 296, 297, 298, 299, 699, 201, 205, 467, 603, 757, 377, 378, 379, 380, 381, 382, 383}}), ('STATTE', 'HUY', {'route_id': {384, 385, 386, 387, 396, 397, 398, 295, 296, 297, 298, 299, 699, 201, 205, 467, 601, 603, 757, 377, 378, 379, 380, 381, 382, 383}}), ('HUY', 'AMPSIN', {'route_id': {384, 385, 386, 387, 396, 397, 398, 295, 296, 297, 298, 299, 699, 201, 205, 466, 467, 601, 757, 377, 378, 379, 380, 381, 382, 383}}), ('AMPSIN', 'AMAY', {'route_id': {384, 385, 386, 387, 396, 397, 398, 295, 296, 297, 298, 299, 699, 201, 205, 466, 467, 601, 757, 377, 378, 379, 380, 381, 382, 383}}), ('AMAY', 'HAUTE-FLONE', {'route_id': {384, 385, 386, 387, 396, 397, 398, 295, 296, 297, 298, 299, 699, 201, 205, 466, 467, 601, 757, 377, 378, 379, 380, 381, 382, 383}}), ('HAUTE-FLONE', 'ENGIS', {'route_id': {384, 385, 386, 387, 396, 397, 398, 295, 296, 297, 298, 299, 699, 201, 205, 466, 467, 601, 757, 377, 378, 379, 380, 381, 382, 383}}), ('ENGIS', 'FLEMALLE-HAUTE', {'route_id': {384, 385, 386, 387, 396, 397, 398, 295, 296, 297, 298, 299, 699, 201, 205, 466, 467, 601, 757, 377, 378, 379, 380, 381, 382, 383}}), ('FLEMALLE-HAUTE', 'LEMAN', {'route_id': {384, 385, 386, 387, 396, 397, 398, 295, 296, 297, 298, 299, 699, 201, 205, 466, 467, 601, 757, 377, 378, 379, 380, 381, 382, 383}}), ('FLEMALLE-HAUTE', 'SERAING', {'route_id': {493, 494, 495, 474, 219}}), ('LEMAN', 'FLEMALLE-GRANDE', {'route_id': {384, 385, 386, 387, 396, 397, 398, 295, 296, 297, 298, 299, 699, 201, 205, 466, 467, 601, 757, 377, 378, 379, 380, 381, 382, 383}}), ('FLEMALLE-GRANDE', 'JEMEPPE-SUR-MEUSE', {'route_id': {384, 385, 386, 387, 396, 397, 398, 295, 296, 297, 298, 299, 699, 201, 205, 466, 467, 601, 757, 377, 378, 379, 380, 381, 382, 383}}), ('JEMEPPE-SUR-MEUSE', 'PONT-DE-SERAING', {'route_id': {384, 385, 386, 387, 396, 397, 398, 295, 296, 297, 298, 299, 699, 201, 205, 466, 467, 601, 757, 377, 378, 379, 380, 381, 382, 383}}), ('PONT-DE-SERAING', 'SCLESSIN', {'route_id': {384, 385, 386, 387, 396, 397, 398, 295, 296, 297, 298, 299, 699, 201, 205, 466, 467, 601, 757, 377, 378, 379, 380, 381, 382, 383}}), ('ANS', 'BIERSET-AWANS', {'route_id': {227, 228, 229, 743, 202, 747, 300, 207, 595, 758, 474, 475, 476}}), ('BIERSET-AWANS', 'VOROUX', {'route_id': {227, 228, 229, 743, 202, 747, 300, 207, 595, 758, 474, 475, 476}}), ('VOROUX', 'FEXHE-LE-HAUT-CLOCHER', {'route_id': {227, 228, 229, 743, 202, 747, 300, 207, 595, 758, 474, 475, 476}}), ('FEXHE-LE-HAUT-CLOCHER', 'MOMALLE', {'route_id': {227, 228, 229, 743, 202, 747, 300, 207, 595, 758, 474, 475, 476}}), ('MOMALLE', 'REMICOURT', {'route_id': {227, 228, 229, 743, 202, 747, 300, 207, 595, 758, 474, 475, 476}}), ('REMICOURT', 'BLERET', {'route_id': {227, 228, 229, 743, 202, 747, 300, 207, 595, 758, 474, 475, 476}}), ('BLERET', 'WAREMME', {'route_id': {227, 228, 229, 743, 202, 747, 300, 207, 595, 758, 474, 475, 476}}), ('LEMBEEK', 'TUBIZE', {'route_id': {768, 769, 770, 771, 645, 781, 655, 656, 657, 711, 712, 713, 202, 716, 598, 353, 354, 227, 228, 357, 358, 359, 355, 356, 743, 751, 370, 371, 372, 373, 374, 375, 764, 765, 766, 767}}), ('TUBIZE', 'HENNUYERES', {'route_id': {768, 769, 770, 771, 645, 781, 655, 656, 657, 711, 712, 713, 202, 716, 598, 353, 354, 227, 228, 357, 358, 359, 355, 356, 743, 751, 370, 371, 372, 373, 374, 375, 764, 765, 766, 767}}), ('HENNUYERES', 'BRAINE-LE-COMTE', {'route_id': {768, 769, 770, 771, 645, 781, 655, 656, 657, 711, 712, 713, 202, 716, 598, 353, 354, 227, 228, 357, 358, 359, 355, 356, 743, 751, 370, 371, 372, 373, 374, 375, 764, 765, 766, 767}}), ('BRAINE-LE-COMTE', 'ECAUSSINNES', {'route_id': {353, 355, 356, 645, 357, 358, 359, 711, 712, 713, 654, 431, 751, 432, 764, 766}}), ('BOUSSU', 'HAININ', {'route_id': {704, 454, 456, 202, 204, 655, 658}}), ('HAININ', 'THULIN', {'route_id': {704, 454, 456, 202, 204, 655, 658}}), ('THULIN', 'QUIEVRAIN', {'route_id': {704, 454, 456, 202, 204, 655, 658}}), ('REBAIX', 'PAPIGNIES', {'route_id': {614, 615, 203, 460, 459, 465}}), ('PAPIGNIES', 'HOURAING', {'route_id': {614, 615, 203, 460, 459, 465}}), ('HOURAING', 'LESSINES', {'route_id': {614, 615, 203, 460, 459, 465}}), ('LESSINES', 'ACREN', {'route_id': {614, 615, 203, 460, 459, 465}}), ('ANVERS-LUCHTBAL', 'NOORDERKEMPEN (BRECHT)', {'route_id': {576, 577, 206, 785, 726}}), ('ANVERS-LUCHTBAL', 'ANVERS-NOORDERDOKKEN', {'route_id': {439, 259, 260, 691, 309, 311, 440, 313, 316, 317, 318}}), ('NOORDERKEMPEN (BRECHT)', 'BREDA (NL)', {'route_id': {785, 726}}), ('DOLHAIN-GILEPPE', 'VERVIERS-PALAIS', {'route_id': {773, 774, 777, 747, 748, 749, 237, 207, 469, 470, 471, 600, 698, 411, 413}}), ('NESSONVAUX', 'FRAIPONT', {'route_id': {773, 774, 777, 411, 413, 698, 207, 599, 471, 600, 216, 477, 478, 479, 480, 747, 748, 749, 237}}), ('FRAIPONT', 'TROOZ', {'route_id': {773, 774, 777, 411, 413, 698, 207, 599, 471, 600, 216, 477, 478, 479, 480, 747, 748, 749, 237}}), ('TROOZ', 'CHAUDFONTAINE', {'route_id': {773, 774, 777, 411, 413, 698, 207, 599, 471, 600, 216, 477, 478, 479, 480, 747, 748, 749, 237}}), ('CHAUDFONTAINE', 'CHENEE', {'route_id': {773, 774, 777, 411, 413, 698, 207, 599, 471, 600, 216, 477, 478, 479, 480, 747, 748, 749, 237}}), ('CHENEE', 'ANGLEUR', {'route_id': {773, 774, 777, 411, 413, 698, 207, 599, 471, 600, 216, 477, 478, 479, 480, 747, 748, 749, 237}}), ('ANGLEUR', 'TILFF', {'route_id': {483, 484, 485, 486, 708, 488, 489, 498, 499, 500, 501, 630, 631, 504, 602, 604}}), ('LA PANNE', 'COXYDE', {'route_id': {679, 552, 680, 365, 367, 208, 335}}), ('COXYDE', 'FURNES', {'route_id': {679, 552, 680, 365, 367, 208, 335}}), ('FURNES', 'DIXMUDE', {'route_id': {679, 552, 680, 365, 367, 208, 335}}), ('DIXMUDE', 'KORTEMARK', {'route_id': {679, 552, 680, 365, 367, 208, 335}}), ('GENTBRUGGE', 'MERELBEKE', {'route_id': {556}}), ('SINAAI', 'BELSELE', {'route_id': {530, 531, 532, 540, 556, 557, 558, 562, 575, 321, 322, 578, 335, 211, 341, 342, 343, 347, 236, 762, 763}}), ('WEERDE', 'EPPEGEM', {'route_id': {259, 260, 261, 687, 688, 439, 440, 573, 337, 338, 214, 218, 350, 351, 352, 355, 356, 357, 230, 358, 232, 745, 234, 231, 744, 751, 247, 766}}), ('EPPEGEM', 'VILVORDE', {'route_id': {259, 260, 261, 276, 277, 687, 688, 439, 440, 573, 337, 338, 214, 218, 350, 351, 352, 355, 356, 357, 230, 358, 232, 745, 234, 231, 744, 751, 247, 766}}), ('EPPEGEM', 'HOFSTADE', {'route_id': {276, 277}}), ('VILVORDE', 'BUDA', {'route_id': {259, 260, 261, 439, 440, 573, 337, 338, 214, 218, 355, 356, 357, 230, 358, 232, 231, 234, 744, 751, 247, 766}}), ('VILVORDE', 'HAREN', {'route_id': {352, 360, 276, 277, 350, 351}}), ('Y.RENORY', 'OUGREE', {'route_id': {493, 494, 495, 474, 219}}), ('OUGREE', 'SERAING', {'route_id': {493, 494, 495, 474, 219}}), ('LIEDEKERKE', 'ESSENE LOMBEEK', {'route_id': {263, 264, 563, 276, 668, 669}}), ('CHARLEROI-OUEST', 'LODELINSART', {'route_id': {448, 417, 449, 450, 447, 445, 442, 443, 444, 221, 446, 223}}), ('LODELINSART', 'FLEURUS', {'route_id': {448, 417, 449, 450, 447, 445, 442, 443, 444, 221, 446, 223}}), ('FLEURUS', 'LIGNY', {'route_id': {448, 417, 449, 447, 442, 443, 444, 221, 446, 223}}), ('LIGNY', 'TILLY', {'route_id': {448, 417, 449, 447, 442, 443, 444, 221, 446, 223}}), ('TILLY', 'VILLERS-LA-VILLE', {'route_id': {448, 417, 449, 447, 442, 443, 444, 221, 446, 223}}), ('VILLERS-LA-VILLE', 'LA ROCHE (BRABANT)', {'route_id': {448, 417, 449, 447, 442, 443, 444, 221, 446, 223}}), ('LA ROCHE (BRABANT)', 'FAUX', {'route_id': {448, 417, 449, 447, 442, 443, 444, 221, 446, 223}}), ('FAUX', 'COURT-SAINT-ETIENNE', {'route_id': {448, 417, 449, 447, 442, 443, 444, 221, 446, 223}}), ('COURT-SAINT-ETIENNE', 'CEROUX-MOUSTY', {'route_id': {448, 417, 449, 447, 442, 443, 444, 221, 446, 223}}), ('FORRIERES', 'GRUPONT', {'route_id': {265, 267, 268, 269, 270, 274, 275, 707, 708, 709, 710, 729, 730, 731, 224, 618, 629, 633, 255}}), ('GRUPONT', 'POIX-SAINT-HUBERT', {'route_id': {265, 267, 268, 269, 270, 274, 275, 707, 708, 709, 710, 729, 730, 731, 224, 618, 629, 633, 255}}), ('POIX-SAINT-HUBERT', 'LIBRAMONT', {'route_id': {265, 267, 268, 269, 270, 274, 275, 707, 708, 709, 710, 729, 730, 731, 224, 618, 629, 633, 255}}), ('LIBRAMONT', 'NEUFCHATEAU', {'route_id': {224, 514, 515, 707, 708, 709, 265, 618, 267, 268, 269, 274, 275, 637}}), ('LIBRAMONT', 'BERTRIX', {'route_id': {515, 517, 518, 519, 520, 778, 634, 637, 638, 639}}), ('LIBRAMONT', 'LIBRAMONT', {'route_id': {637}}), ('NEUFCHATEAU', 'MARBEHAN', {'route_id': {224, 514, 515, 707, 708, 709, 265, 618, 267, 268, 269, 274, 275, 637}}), ('MARBEHAN', 'HABAY', {'route_id': {224, 514, 515, 707, 708, 709, 265, 618, 267, 268, 269, 274, 275, 637}}), ('HABAY', 'STOCKEM', {'route_id': {224, 514, 515, 707, 708, 709, 265, 618, 267, 268, 269, 274, 275, 637}}), ('STOCKEM', 'VIVILLE', {'route_id': {224, 514, 515, 707, 708, 709, 265, 618, 267, 268, 269, 274, 275, 637}}), ('VIVILLE', 'ARLON', {'route_id': {224, 514, 515, 707, 708, 709, 265, 618, 267, 268, 269, 274, 275, 637}}), ('ARLON', 'STERPENICH-FRONTIERE', {'route_id': {265, 618, 268, 780, 623}}), ('ARLON', 'MESSANCY', {'route_id': {778, 627, 637}}), ('IZEGEM', 'INGELMUNSTER', {'route_id': {291, 292, 293, 677, 294, 682, 235, 748, 660, 661, 662, 663}}), ('NEERPELT', 'OVERPELT', {'route_id': {425, 426, 429, 430, 238, 239, 685, 688, 689}}), ('NEERPELT', 'HAMONT', {'route_id': {425, 426, 685, 239, 688, 689}}), ('OVERPELT', 'LOMMEL', {'route_id': {425, 426, 429, 430, 238, 239, 685, 688, 689}}), ('LOMMEL', 'MOL', {'route_id': {425, 426, 429, 430, 238, 239, 685, 688, 689}}), ('MOL', 'BALEN', {'route_id': {737, 427, 239, 690, 435, 436}}), ('MOL', 'GEEL', {'route_id': {737, 426, 427, 428, 429, 686, 687, 688, 689, 240, 334, 690, 573}}), ('BALEN', 'BOURG-LEOPOLD', {'route_id': {737, 427, 239, 690, 435, 436}}), ('BOURG-LEOPOLD', 'BEVERLO', {'route_id': {737, 427, 239, 690, 435, 436}}), ('BEVERLO', 'BERINGEN', {'route_id': {737, 427, 239, 690, 435, 436}}), ('BERINGEN', 'HEUSDEN', {'route_id': {737, 427, 239, 690, 435, 436}}), ('HEUSDEN', 'ZOLDER', {'route_id': {737, 690, 435, 239}}), ('ZOLDER', 'ZONHOVEN', {'route_id': {737, 690, 435, 239}}), ('OLEN', 'GEEL', {'route_id': {737, 426, 427, 428, 429, 334, 686, 240, 687, 690, 688, 689, 573}}), ('MERELBEKE', 'MELLE', {'route_id': {512, 782, 783, 784, 278, 279, 280, 281, 410, 283, 282, 672, 673, 681, 554, 555, 556, 562, 568, 696, 703, 575, 714, 717, 718, 738, 741, 364, 365, 366, 367, 496, 241, 497, 368, 502, 503, 508, 510, 511}}), ('MELLE', 'GONTRODE', {'route_id': {672, 241, 673, 784}}), ('MELLE', 'KWATRECHT', {'route_id': {512, 782, 783, 278, 279, 280, 281, 282, 410, 283, 554, 555, 562, 568, 703, 575, 714, 717, 718, 364, 365, 366, 367, 496, 497, 368, 502, 503, 508, 510, 511}}), ('GONTRODE', 'LANDSKOUTER', {'route_id': {672, 241, 673, 784}}), ('LANDSKOUTER', 'MOORTSELE', {'route_id': {672, 241, 673, 784}}), ('MOORTSELE', 'SCHELDEWINDEKE', {'route_id': {672, 241, 673, 784}}), ('SCHELDEWINDEKE', 'BALEGEM-DORP', {'route_id': {672, 241, 673, 784}}), ('BALEGEM-DORP', 'BALEGEM-ZUID', {'route_id': {672, 241, 673, 784}}), ('QUEVY-FRONTIERE', 'AULNOYE AYMERIES (F)', {'route_id': {245}}), ('HOBOKEN-POLDER', 'HEMIKSEM', {'route_id': {249, 309, 311}}), ('HEMIKSEM', 'SCHELLE', {'route_id': {249, 309, 311}}), ('SCHELLE', 'NIEL', {'route_id': {249, 309, 311}}), ('NIEL', 'BOOM', {'route_id': {249, 309, 311}}), ('BOOM', 'RUISBROEK-SAUVEGARDE', {'route_id': {249, 311}}), ('RUISBROEK-SAUVEGARDE', 'PUURS', {'route_id': {249, 311}}), ('PUURS', 'BORNEM', {'route_id': {323, 324, 566, 567}}), ('PUURS', 'WILLEBROEK', {'route_id': {323, 324, 325, 566, 567}}), ('BLANDAIN-FRONTIERE', 'BAISIEUX (FR)', {'route_id': {753, 258, 755}}), ('BAISIEUX (FR)', 'ASCQ (FR)', {'route_id': {753, 258, 755}}), ('ASCQ (FR)', 'PONT DE BOIS (FR)', {'route_id': {753, 258, 755}}), ('PONT DE BOIS (FR)', 'LILLE FLANDRES (FR)', {'route_id': {753, 258}}), ('PONT DE BOIS (FR)', 'LEZENNES (FR)', {'route_id': {755}}), ('LILLE FLANDRES (FR)', 'ROUBAIX (FR)', {'route_id': {753}}), ('LILLE FLANDRES (FR)', 'LEZENNES (FR)', {'route_id': {755}}), ('ANVERS-NOORDERDOKKEN', 'EKEREN', {'route_id': {439, 691, 309, 311, 440, 313, 316, 317, 318}}), ('ESSENE LOMBEEK', 'TERNAT', {'route_id': {263, 264, 563, 276, 668, 669}}), ('TERNAT', 'SINT-MARTENS-BODEGEM', {'route_id': {263, 264, 563, 276, 668, 669}}), ('SINT-MARTENS-BODEGEM', 'DILBEEK', {'route_id': {263, 264, 563, 276, 668, 669}}), ('DILBEEK', 'GRAND-BIGARD', {'route_id': {263, 264, 563, 276, 668, 669}}), ('GRAND-BIGARD', 'BERCHEM-SAINTE-AGATHE', {'route_id': {263, 264, 563, 276, 668, 669}}), ('BERCHEM-SAINTE-AGATHE', 'JETTE', {'route_id': {263, 264, 563, 276, 668, 669}}), ('JETTE', 'BOCKSTAEL', {'route_id': {263, 264, 276, 280, 281, 282, 668, 284, 669, 286, 287, 563, 570, 341, 342, 343, 344, 345, 347, 762, 763}}), ('JETTE', 'ZELLIK', {'route_id': {344, 762, 281, 282, 399, 347, 756, 341, 342, 343, 280, 345, 570, 763, 284, 286, 287}}), ('JETTE', 'TOUR-ET-TAXIS', {'route_id': {400, 756, 399}}), ('STERPENICH-FRONTIERE', 'LUXEMBOURG (LU)', {'route_id': {265, 618, 268}}), ('STERPENICH-FRONTIERE', 'KLEINBETTINGEN (LU)', {'route_id': {780, 623}}), ('LUXEMBOURG (LU)', 'PETANGE', {'route_id': {457}}), ('LUXEMBOURG (LU)', 'MERSCH (LU)', {'route_id': {481}}), ('LUXEMBOURG (LU)', 'GOUVY', {'route_id': {481}}), ('LUXEMBOURG (LU)', 'PFAFFENTHAL-KIRCHBERG (LU)', {'route_id': {481, 486}}), ('LUXEMBOURG (LU)', 'BERTRANGE STRASSEN (LU)', {'route_id': {780, 623}}), ('DELTA', 'MERODE', {'route_id': {360, 276, 277}}), ('DELTA', 'ARCADES', {'route_id': {360}}), ('MERODE', 'MEISER', {'route_id': {360, 276, 277}}), ('MEISER', 'EVERE', {'route_id': {352, 360, 305, 276, 277, 405, 407, 408, 406, 348, 349, 350, 351}}), ('EVERE', 'BORDET', {'route_id': {352, 360, 305, 276, 277, 405, 407, 408, 406, 348, 349, 350, 351}}), ('BORDET', 'HAREN', {'route_id': {352, 360, 305, 276, 277, 405, 407, 408, 406, 348, 349, 350, 351}}), ('KWATRECHT', 'WETTEREN', {'route_id': {512, 782, 783, 278, 279, 280, 281, 282, 410, 283, 554, 555, 562, 568, 703, 575, 714, 717, 718, 364, 365, 366, 367, 496, 497, 368, 502, 503, 508, 510, 511}}), ('WETTEREN', 'SCHELLEBELLE', {'route_id': {512, 782, 783, 278, 279, 280, 281, 282, 410, 283, 554, 555, 562, 568, 703, 575, 714, 717, 718, 364, 365, 366, 367, 496, 497, 368, 502, 503, 508, 510, 511}}), ('SCHELLEBELLE', 'SERSKAMP', {'route_id': {554, 555, 364, 365, 366, 367, 368, 782, 783, 278, 279, 280, 281, 282, 283, 285}}), ('SCHELLEBELLE', 'WICHELEN', {'route_id': {512, 714, 511, 717, 718, 575, 496, 497, 562, 502, 503, 568, 410, 508, 510, 703}}), ('SERSKAMP', 'LEDE', {'route_id': {554, 555, 364, 365, 366, 367, 368, 782, 783, 278, 279, 280, 281, 282, 283, 285}}), ('ZELLIK', 'ASSE', {'route_id': {344, 762, 281, 282, 399, 347, 756, 341, 342, 343, 280, 345, 570, 763, 284, 286, 287}}), ('ASSE', 'MOLLEM', {'route_id': {344, 762, 281, 282, 399, 347, 756, 341, 342, 343, 280, 345, 570, 763, 284, 286, 287}}), ('MOLLEM', 'MERCHTEM', {'route_id': {344, 762, 281, 282, 399, 347, 756, 341, 342, 343, 280, 345, 570, 763, 284, 286, 287}}), ('DINANT', 'YVOIR', {'route_id': {519, 520, 521, 522, 304, 305, 626, 306, 307, 636}}), ('DINANT', 'DINANT', {'route_id': {305}}), ('DINANT', 'ANSEREMME', {'route_id': {519, 520, 521, 522, 635, 636}}), ('YVOIR', 'GODINNE', {'route_id': {519, 521, 304, 305, 626, 306, 307, 636}}), ('GODINNE', 'LUSTIN', {'route_id': {519, 521, 304, 305, 626, 306, 307, 636}}), ('LUSTIN', 'JAMBES', {'route_id': {519, 521, 304, 305, 626, 306, 307, 636}}), ('EKEREN', 'SINT-MARIABURG', {'route_id': {439, 691, 309, 311, 440, 313, 316, 317, 318}}), ('SINT-MARIABURG', 'KAPELLEN', {'route_id': {439, 691, 309, 311, 440, 313, 316, 317, 318}}), ('KAPELLEN', 'HEIDE', {'route_id': {439, 691, 309, 311, 440, 313, 316, 317, 318}}), ('HEIDE', 'KIJKUIT', {'route_id': {439, 691, 309, 311, 440, 313, 316, 317, 318}}), ('KIJKUIT', 'KALMTHOUT', {'route_id': {439, 691, 309, 311, 440, 313, 316, 317, 318}}), ('KALMTHOUT', 'WILDERT', {'route_id': {439, 691, 309, 311, 440, 313, 316, 317, 318}}), ('WILDERT', 'ESSEN', {'route_id': {439, 691, 309, 311, 440, 313, 316, 317, 318}}), ('TAMISE', 'BORNEM', {'route_id': {323, 324, 566, 567}}), ('ARCADES', 'BOONDAEL', {'route_id': {352, 360, 361, 406, 407, 408, 348, 349, 350, 351}}), ('BOONDAEL', 'VIVIER D OIE', {'route_id': {352, 360, 361, 406, 407, 408, 348, 349, 350, 351}}), ('VIVIER D OIE', 'SAINT-JOB', {'route_id': {352, 360, 361, 406, 407, 408, 348, 349, 350, 351}}), ('SAINT-JOB', 'MOENSBERG', {'route_id': {352, 360, 361, 407, 350, 351}}), ('MOENSBERG', 'BEERSEL', {'route_id': {352, 360, 361, 407, 350, 351}}), ('BEERSEL', 'HUIZINGEN', {'route_id': {352, 360, 361, 407, 350, 351}}), ('FAMILLEUREUX', 'MARCHE-LEZ-ECAUSSINNES', {'route_id': {353, 355, 356, 645, 357, 711, 712, 713, 358, 359, 654, 431, 432, 751, 764, 766}}), ('MARCHE-LEZ-ECAUSSINNES', 'ECAUSSINNES', {'route_id': {353, 355, 356, 645, 357, 711, 712, 713, 358, 359, 654, 431, 432, 751, 764, 766}}), ('TIELEN', 'TURNHOUT', {'route_id': {355, 420, 357, 419, 358, 766}}), ('BRUXELLES-OUEST', 'SIMONIS', {'route_id': {400, 736, 756, 399}}), ('SIMONIS', 'TOUR-ET-TAXIS', {'route_id': {400, 736, 756, 399}}), ('JAMIOULX', 'BEIGNEE', {'route_id': {648, 401, 647}}), ('BEIGNEE', 'HAM-SUR-HEURE', {'route_id': {648, 401, 647}}), ('HAM-SUR-HEURE', 'COUR-SUR-HEURE', {'route_id': {648, 401, 647}}), ('COUR-SUR-HEURE', 'BERZEE', {'route_id': {648, 401, 647}}), ('BERZEE', 'PRY', {'route_id': {648, 401, 647}}), ('PRY', 'WALCOURT', {'route_id': {648, 401, 647}}), ('WALCOURT', 'YVES-GOMEZEE', {'route_id': {401, 647}}), ('YVES-GOMEZEE', 'PHILIPPEVILLE', {'route_id': {401, 647}}), ('PHILIPPEVILLE', 'MARIEMBOURG', {'route_id': {401, 647}}), ('MARIEMBOURG', 'COUVIN', {'route_id': {401, 647}}), ('WICHELEN', 'SCHOONAARDE', {'route_id': {512, 714, 511, 717, 718, 575, 496, 497, 562, 502, 503, 568, 410, 508, 510, 703}}), ('SCHOONAARDE', 'OUDEGEM', {'route_id': {512, 714, 511, 717, 718, 575, 496, 497, 562, 502, 503, 568, 410, 508, 510, 703}}), ('BAASRODE-ZUID', 'BUGGENHOUT', {'route_id': {516, 717, 718, 496, 497, 502, 503, 569, 410, 571, 414, 703}}), ('BUGGENHOUT', 'MALDEREN', {'route_id': {516, 717, 718, 496, 497, 502, 503, 569, 410, 571, 414, 703}}), ('ATHUS', 'ATHUS-FRONTIERE', {'route_id': {457}}), ('ATHUS', 'AUBANGE', {'route_id': {778, 627, 637}}), ('ATHUS', 'MESSANCY', {'route_id': {778, 627, 637}}), ('ATHUS-FRONTIERE', 'RODANGE (LU)', {'route_id': {457}}), ('RODANGE (LU)', 'PETANGE', {'route_id': {457}}), ('ERQUELINNES', 'ERQUELINNES-VILLAGE', {'route_id': {458, 646}}), ('ERQUELINNES-VILLAGE', 'SOLRE-SUR-SAMBRE', {'route_id': {458, 646}}), ('SOLRE-SUR-SAMBRE', 'LABUISSIERE', {'route_id': {458, 646}}), ('LABUISSIERE', 'FONTAINE VALMONT', {'route_id': {458, 646}}), ('FONTAINE VALMONT', 'LOBBES', {'route_id': {458, 646}}), ('LOBBES', 'THUIN', {'route_id': {458, 646}}), ('THUIN', 'HOURPES', {'route_id': {458, 646}}), ('HOURPES', 'LANDELIES', {'route_id': {458, 646}}), ('LANDELIES', 'MARCHIENNE-ZONE', {'route_id': {458, 646}}), ('MAFFLE', 'MEVERGNIES-ATTRE', {'route_id': {705, 612, 613, 615, 459, 460, 461, 463, 465}}), ('MEVERGNIES-ATTRE', 'BRUGELETTE', {'route_id': {705, 612, 613, 615, 459, 460, 461, 463, 465}}), ('BRUGELETTE', 'CAMBRON-CASTEAU', {'route_id': {705, 612, 613, 615, 459, 460, 461, 463, 465}}), ('CAMBRON-CASTEAU', 'LENS', {'route_id': {705, 612, 613, 615, 459, 460, 461, 463, 465}}), ('HERGENRATH', 'HERGENRATH-FRONTIERE', {'route_id': {468, 469}}), ('HERGENRATH-FRONTIERE', 'AACHEN HBF (DE)', {'route_id': {468, 469}}), ('GOUVY', 'GOUVY-FRONTIERE', {'route_id': {481, 483, 484, 485, 486}}), ('GOUVY', 'VIELSALM', {'route_id': {483, 484, 485, 486, 488, 489, 602}}), ('GOUVY-FRONTIERE', 'TROISVIERGES (LU)', {'route_id': {481, 483, 484, 485, 486}}), ('TROISVIERGES (LU)', 'CLERVAUX (LU)', {'route_id': {481, 485, 486}}), ('CLERVAUX (LU)', 'DRAUFFELT (LU)', {'route_id': {481, 485, 486}}), ('DRAUFFELT (LU)', 'WILWERWILTZ (LU)', {'route_id': {481, 485, 486}}), ('WILWERWILTZ (LU)', 'KAUTENBACH (LU)', {'route_id': {481, 485, 486}}), ('KAUTENBACH (LU)', 'MICHELAU (LU)', {'route_id': {481, 485, 486}}), ('MICHELAU (LU)', 'ETTELBRUCK(LU)', {'route_id': {481, 485, 486}}), ('ETTELBRUCK(LU)', 'MERSCH (LU)', {'route_id': {481, 485, 486}}), ('MERSCH (LU)', 'PFAFFENTHAL-KIRCHBERG (LU)', {'route_id': {481, 486}}), ('MERSCH (LU)', 'DOMMELDANGE (LU)', {'route_id': {485}}), ('TILFF', 'MERY', {'route_id': {483, 484, 485, 486, 708, 488, 489, 498, 499, 500, 501, 630, 631, 504, 602, 604}}), ('MERY', 'HONY', {'route_id': {483, 484, 485, 486, 708, 488, 489, 498, 499, 500, 501, 630, 631, 504, 602, 604}}), ('HONY', 'ESNEUX', {'route_id': {483, 484, 485, 486, 708, 488, 489, 498, 499, 500, 501, 630, 631, 504, 602, 604}}), ('ESNEUX', 'POULSEUR', {'route_id': {483, 484, 485, 486, 708, 488, 489, 498, 499, 500, 501, 630, 631, 504, 602, 604}}), ('POULSEUR', 'RIVAGE', {'route_id': {483, 484, 485, 486, 708, 488, 489, 498, 499, 500, 501, 630, 631, 504, 602, 604}}), ('RIVAGE', 'AYWAILLE', {'route_id': {483, 484, 485, 486, 488, 489, 602}}), ('RIVAGE', 'COMBLAIN-LA-TOUR', {'route_id': {708, 498, 499, 500, 501, 630, 631, 504, 604}}), ('AYWAILLE', 'COO', {'route_id': {483, 484, 485, 486, 488, 489, 602}}), ('COO', 'TROIS-PONTS', {'route_id': {483, 484, 485, 486, 488, 489, 602}}), ('TROIS-PONTS', 'VIELSALM', {'route_id': {483, 484, 485, 486, 488, 489, 602}}), ('BRESSOUX', 'VISE', {'route_id': {490, 491, 596, 597, 598, 606}}), ('VISE', 'VISE-FRONTIERE', {'route_id': {490, 491}}), ('VISE-FRONTIERE', 'EIJSDEN (NL)', {'route_id': {490, 491}}), ('EIJSDEN (NL)', 'MAASTRICHT RANDWIJCK (NL)', {'route_id': {490, 491}}), ('MAASTRICHT RANDWIJCK (NL)', 'MAASTRICHT (NL)', {'route_id': {490, 491}}), ('MARCHE-EN-FAMENNE', 'MELREUX-HOTTON', {'route_id': {708, 498, 499, 501, 630, 631, 504}}), ('MELREUX-HOTTON', 'BARVAUX', {'route_id': {708, 498, 499, 501, 630, 631, 504}}), ('BARVAUX', 'BOMAL', {'route_id': {708, 498, 499, 501, 630, 631, 504}}), ('BOMAL', 'SY', {'route_id': {708, 498, 499, 500, 501, 630, 631, 504, 604}}), ('SY', 'HAMOIR', {'route_id': {708, 498, 499, 500, 501, 630, 631, 504, 604}}), ('HAMOIR', 'COMBLAIN-LA-TOUR', {'route_id': {708, 498, 499, 500, 501, 630, 631, 504, 604}}), ('LISSEWEGE', 'ZEEBRUGGE-DORP', {'route_id': {560, 683, 502, 511}}), ('LISSEWEGE', 'ZEEBRUGGE-STRAND', {'route_id': {512, 505, 503}}), ('BERTRIX', 'FLORENVILLE', {'route_id': {637, 778, 517, 639}}), ('BERTRIX', 'PALISEUL', {'route_id': {519, 520, 521, 522, 635, 636, 638}}), ('FLORENVILLE', 'VIRTON', {'route_id': {637, 778, 517, 639}}), ('VIRTON', 'HALANZY', {'route_id': {778, 627, 637}}), ('ANSEREMME', 'GENDRON-CELLES', {'route_id': {519, 520, 521, 522, 635, 636}}), ('GENDRON-CELLES', 'HOUYET', {'route_id': {519, 520, 521, 522, 635, 636}}), ('HOUYET', 'BEAURAING', {'route_id': {519, 520, 521, 522, 635, 636}}), ('BEAURAING', 'GEDINNE', {'route_id': {519, 520, 521, 522, 635, 636}}), ('GEDINNE', 'GRAIDE', {'route_id': {519, 520, 521, 522, 635, 636, 638}}), ('GRAIDE', 'CARLSBOURG', {'route_id': {519, 520, 521, 522, 635, 636, 638}}), ('CARLSBOURG', 'PALISEUL', {'route_id': {519, 520, 521, 522, 635, 636, 638}}), ('KLEINBETTINGEN (LU)', 'MAMER-LYCEE (LU)', {'route_id': {623}}), ('KLEINBETTINGEN (LU)', 'CAPELLEN (LU)', {'route_id': {780}}), ('MAMER-LYCEE (LU)', 'BERTRANGE STRASSEN (LU)', {'route_id': {780, 623}}), ('MAMER-LYCEE (LU)', 'MAMER (LU)', {'route_id': {780}}), ('HALANZY', 'AUBANGE', {'route_id': {778, 627, 637}}), ('MAZY', 'CHAPELLE-DIEU', {'route_id': {640, 641}}), ('ALOST KERREBROEK', 'VIJFHUIZEN', {'route_id': {676}}), ('VIJFHUIZEN', 'ERPE-MERE', {'route_id': {676}}), ('ERPE-MERE', 'BAMBRUGGE', {'route_id': {676}}), ('BREDA (NL)', 'ROTTERDAM CS (NL)', {'route_id': {785, 726}}), ('ROTTERDAM CS (NL)', 'SCHIPHOL (NL)', {'route_id': {726}}), ('ROTTERDAM CS (NL)', 'DEN HAAG HS (NL)', {'route_id': {785}}), ('SCHIPHOL (NL)', 'AMSTERDAM CS (NL)', {'route_id': {785, 726}}), ('SCHIPHOL (NL)', 'DEN HAAG HS (NL)', {'route_id': {785}}), ('MOUSCRON-FRONTIERE', 'TOURCOING (FR)', {'route_id': {753}}), ('TOURCOING (FR)', 'ROUBAIX (FR)', {'route_id': {753}}), ('CAPELLEN (LU)', 'MAMER (LU)', {'route_id': {780}})])"
      ]
     },
     "execution_count": 10,
     "metadata": {},
     "output_type": "execute_result"
    }
   ],
   "source": [
    "''' To assign weights to the network graph for Belgium'''\n",
    "# To assign node weights to graph\n",
    "for i in range(len(stops_cleaned)):\n",
    "    for n, d in B.nodes(data=True):\n",
    "        if stops_cleaned.stop_name[i] == n:\n",
    "            B.nodes[n]['id']=stops_cleaned.stop_id[i];\n",
    "            B.nodes[n]['latitude']=stops_cleaned.stop_lat[i];\n",
    "            B.nodes[n]['longitude']=stops_cleaned.stop_lon[i];\n",
    "            B.nodes[n]['country']=stops_cleaned.country[i];\n",
    "            \n",
    "B.nodes(data=True)\n",
    "\n",
    "# To assign edge weights to the graph: the edge weight represents a list that contains all route_ids that cover that edge\n",
    "routes_on_edge = {}\n",
    "for node1,node2, nodeData in B.edges(data = True):\n",
    "    if (node1, node2) not in routes_on_edge:\n",
    "            routes_on_edge[(node1, node2)] = set()\n",
    "    route_id_node1_node2= df_for_edges[(df_for_edges['stop_name_1'] == node1 ) & (df_for_edges['stop_name_2'] == node2 )]['route_id']\n",
    "    route_id_node2_node1= df_for_edges[(df_for_edges['stop_name_1'] == node2 ) & (df_for_edges['stop_name_2'] == node1 )]['route_id']\n",
    "    for route_id in pd.concat([route_id_node1_node2, route_id_node2_node1]):\n",
    "        routes_on_edge[(node1, node2)].add(route_id)\n",
    "    nodeData['route_id'] = routes_on_edge[(node1, node2)] \n",
    "\n",
    "B.edges(data=True)"
   ]
  },
  {
   "cell_type": "code",
   "execution_count": 11,
   "metadata": {},
   "outputs": [
    {
     "data": {
      "text/plain": [
       "' The number of nodes in the Belgian railway system '"
      ]
     },
     "execution_count": 11,
     "metadata": {},
     "output_type": "execute_result"
    },
    {
     "data": {
      "text/plain": [
       "599"
      ]
     },
     "execution_count": 11,
     "metadata": {},
     "output_type": "execute_result"
    },
    {
     "data": {
      "text/plain": [
       "562"
      ]
     },
     "execution_count": 11,
     "metadata": {},
     "output_type": "execute_result"
    }
   ],
   "source": [
    "''' The number of nodes in the Belgian railway system '''\n",
    "# The number of total nodes in the Belgian railway system that consists of all routes that contain at least one node in Belgium\n",
    "len(B.nodes())\n",
    "\n",
    "# The number of belgian nodes in the Belgian railway system that consists of all routes that contain at least one node in Belgium\n",
    "number_belgian_stations = 0\n",
    "for n, d in B.nodes(data=True):\n",
    "    if B.nodes[n]['country']=='Belgium':\n",
    "        number_belgian_stations += 1\n",
    "\n",
    "number_belgian_stations"
   ]
  },
  {
   "cell_type": "code",
   "execution_count": 12,
   "metadata": {},
   "outputs": [
    {
     "data": {
      "text/plain": [
       "DegreeView({'TOURNAI': 3, 'FROYENNES': 3, 'HERSEAUX': 2, 'MOUSCRON': 3, 'KNOKKE': 1, 'DUINBERGEN': 2, 'HEIST': 2, 'BRUGES-SAINT-PIERRE': 4, 'BRUGES': 4, 'SPA-GERONSTERE': 1, 'SPA': 2, 'FRANCHIMONT': 2, 'THEUX': 2, 'JUSLENVILLE': 2, 'PEPINSTER-CITE': 2, 'PEPINSTER': 3, 'VERVIERS-CENTRAL': 2, 'GAND-SAINT-PIERRE': 8, 'DE PINTE': 3, 'DEINZE': 3, 'AARSELE': 2, 'TIELT': 2, 'LICHTERVELDE': 4, 'TORHOUT': 2, 'ZEDELGEM': 2, 'GRAMMONT': 4, 'SCHENDELBEKE': 2, 'IDEGEM': 2, 'ZANDBERGEN': 2, 'APPELTERRE': 2, 'EICHEM': 2, 'NINOVE': 2, 'OKEGEM': 2, 'IDDERGEM': 2, 'DENDERLEEUW': 5, 'LEUZE': 2, 'ATH': 4, 'LUTTRE': 3, 'COURCELLES-MOTTE': 2, 'ROUX': 2, 'MARCHIENNE-AU-PONT': 3, 'CHARLEROI-SUD': 7, 'BRUXELLES-MIDI': 9, 'BRUXELLES-CHAPELLE': 2, 'BRUXELLES-CENTRAL': 2, 'BRUXELLES-CONGRES': 2, 'BRUXELLES-NORD': 4, 'BRUXELLES-SCHUMAN': 5, 'BRUXELLES-LUXEMBOURG': 3, 'ETTERBEEK': 5, 'WATERMAEL': 2, 'BOITSFORT': 2, 'GROENENDAAL': 2, 'HOEILAART': 2, 'LA HULPE': 2, 'GENVAL': 2, 'RIXENSART': 2, 'PROFONDSART': 2, 'OTTIGNIES': 5, 'MONT-SAINT-GUIBERT': 2, 'BLANMONT': 2, 'CHASTRE': 2, 'ERNAGE': 2, 'GEMBLOUX': 3, 'LONZEE': 2, 'BEUZET': 2, 'SAINT-DENIS-BOVESSE': 2, 'RHISNES': 2, 'NAMUR': 5, 'JAMBES-EST': 2, 'DAVE-SAINT-MARTIN': 2, 'NANINNE': 2, 'SART-BERNARD': 2, 'COURRIERE': 2, 'ASSESSE': 2, 'NATOYE': 2, 'CINEY': 2, 'LEIGNON': 2, 'CHAPOIS': 2, 'HAVERSIN': 2, 'AYE': 2, 'MARLOIE': 3, 'ROCHEFORT-JEMELLE': 2, 'NIVELLES': 2, 'OBAIX-BUZET': 2, 'TERMONDE': 4, 'ZELE': 2, 'LOKEREN': 3, 'OPWIJK': 2, 'HEIZIJDE': 2, 'LEBBEKE': 2, 'SINT-GILLIS': 2, 'PONT-A-CELLES': 2, 'GOUY-LEZ-PIETON': 2, 'GODARVILLE': 2, 'MANAGE': 3, 'LA LOUVIERE- CENTRE': 4, 'LIEGE-GUILLEMINS': 6, 'LIEGE-CARRE': 2, 'LIEGE-SAINT-LAMBERT': 2, 'HERSTAL': 2, 'MILMORT': 2, 'LIERS': 2, 'SCHAERBEEK': 7, 'HAREN-SUD': 2, 'DIEGEM': 4, 'ZAVENTEM': 3, 'NOSSEGEM': 3, 'KORTENBERG': 2, 'ERPS-KWERPS': 2, 'VELTEM': 2, 'HERENT': 3, 'LOUVAIN': 7, 'HEVERLEE': 2, 'OUD-HEVERLEE': 2, 'SINT-JORIS-WEERT': 3, 'PECROT': 2, 'FLORIVAL': 2, 'ARCHENNES': 2, 'GASTUCHE': 2, 'BASSE-WAVRE': 2, 'WAVRE': 2, 'BIERGES-WALIBI': 2, 'LIMAL': 2, 'HERENTALS': 3, 'WOLFSTEE': 2, 'BOUWEL': 2, 'NIJLEN': 2, 'KESSEL': 2, 'LIERRE': 5, 'BOECHOUT': 3, 'MORTSEL': 3, 'ANVERS-BERCHEM': 5, 'ANVERS-CENTRAL': 4, 'OSTENDE': 3, 'ROULERS': 2, 'HASSELT': 5, 'DIEPENBEEK': 2, 'BILZEN': 2, 'TONGRES': 2, 'GLONS': 2, 'LA LOUVIERE-SUD': 4, 'LEVAL': 2, 'BINCHE': 3, 'COURTRAI': 5, 'HARELBEKE': 2, 'WAREGEM': 2, 'VICHTE': 2, 'ANZEGEM': 2, 'AUDENARDE': 4, 'SINT-DENIJS-BOEKEL': 2, 'MUNKZWALM': 2, 'ZOTTEGEM': 4, 'HILLEGEM': 2, 'HERZELE': 2, 'TERHAGEN': 2, 'BURST': 3, 'EDE': 2, 'HAALTERT': 2, 'WELLE': 2, 'GENK': 1, 'BOKRIJK': 2, 'KIEWIT': 2, 'EUPEN': 1, 'WELKENRAEDT': 3, 'RONET': 2, 'FLAWINNE': 2, 'FLOREFFE': 2, 'FRANIERE': 2, 'MOUSTIER': 2, 'HAM-SUR-SAMBRE': 2, 'JEMEPPE-SUR-SAMBRE': 3, 'AUVELAIS': 2, 'TAMINES': 2, 'QUEVY': 2, 'GENLY': 2, 'FRAMERIES': 2, 'MONS': 4, 'POPERINGE': 1, 'YPRES': 2, 'COMINES': 2, 'WERVIK': 2, 'MENIN': 2, 'BISSEGEM': 2, 'WEVELGEM': 2, 'NIMY': 2, 'OBOURG': 2, 'HAVRE': 2, 'THIEU': 2, 'BRACQUEGNIES': 3, 'MORLANWELZ': 2, 'CARNIERES': 2, 'PIETON': 2, 'FORCHIES': 2, 'COUILLET': 2, 'CHATELET': 2, 'LE CAMPINAIRE': 2, 'FARCIENNES': 2, 'AISEAU': 2, 'JEMAPPES': 2, 'QUAREGNON': 2, 'SAINT-GHISLAIN': 3, 'VILLE-POMMEROEUL': 2, 'HARCHIES': 2, 'BLATON': 2, 'PERUWELZ': 2, 'CALLENELLE': 2, 'MAUBRAY': 2, 'ANTOING': 2, 'JURBISE': 3, 'ERBISOEUL': 2, 'GHLIN': 2, 'RENAIX': 1, 'EINE': 2, 'ZINGEM': 2, 'GAVERE-ASPER': 2, 'EKE-NAZARETH': 2, 'EEKLO': 1, 'WAARSCHOOT': 2, 'SLEIDINGE': 2, 'EVERGEM': 2, 'WONDELGEM': 2, 'GAND-DAMPOORT': 3, 'MALINES': 6, 'KAPELLE-OP-DEN-BOS': 2, 'LONDERZEEL': 2, 'KONTICH-LINT': 3, 'HOVE': 3, 'MORTSEL-LIERSESTEENWEG': 2, 'SOIGNIES': 2, 'NEUFVILLES': 2, 'MASNUY-SAINT-PIERRE': 2, 'WEZEMAAL': 3, 'AARSCHOT': 3, 'BEGIJNENDIJK': 3, 'BOOISCHOT': 2, 'HEIST-OP-DEN-BERG': 2, 'MELKOUWEN': 2, 'BERLAAR': 2, 'WIJGMAAL': 2, 'HAMBOS': 2, 'WESPELAAR-TILDONK': 2, 'HAACHT': 2, 'BOORTMEERBEEK': 2, 'HEVER': 2, 'MUIZEN': 4, 'MALINES-NEKKERSPOEL': 3, 'SINT-KATELIJNE-WAVER': 2, 'DUFFEL': 3, 'SCHULEN': 3, 'DIEST': 2, 'ZICHEM': 2, 'TESTELT': 2, 'LANGDORP': 3, 'BRUSSELS AIRPORT-ZAVENTEM': 6, 'MORTSEL-OUDE GOD': 2, 'MORTSEL-DEURNESTEENWEG': 2, 'FOREST-EST': 2, 'UCCLE-STALLE': 2, 'UCCLE-CALEVOET': 2, 'LINKEBEEK': 3, 'HOLLEKEN': 2, 'RHODE-SAINT-GENESE': 2, 'DE HOEK': 2, 'WATERLOO': 2, \"BRAINE-L'ALLEUD\": 2, 'LILLOIS': 2, 'HAL': 7, 'BUIZINGEN': 2, 'LOT': 2, 'RUISBROEK': 3, 'FOREST-MIDI': 3, 'SAINT-NICOLAS': 3, 'NIEUWKERKEN-WAAS': 2, 'BEVEREN': 2, 'MELSELE': 2, 'ZWIJNDRECHT': 2, 'ANVERS-SUD': 3, 'ALKEN': 2, 'SAINT-TROND': 2, 'LANDEN': 3, 'NEERWINDEN': 2, 'EZEMAAL': 2, 'TIRLEMONT': 2, 'VERTRIJK': 2, 'ANDERLECHT': 4, 'TRONCHIENNES': 2, 'LANDEGEM': 2, 'HANSBEKE': 2, 'BELLEM': 2, 'AALTER': 2, 'MARIA-AALTER': 2, 'BEERNEM': 2, 'OOSTKAMP': 2, 'BLANKENBERGE': 1, 'VIANE-MOERBEKE': 2, 'GAMMERAGES': 2, 'TOLLEMBEEK': 2, 'HERNE': 2, 'ENGHIEN': 3, 'EREMBODEGEM': 2, 'ALOST': 3, 'MARCHE-LES-DAMES': 2, 'NAMECHE': 2, 'SCLAIGNEAUX': 2, 'CHATEAU-DE-SEILLES': 2, 'ANDENNE': 2, 'BAS-OHA': 2, 'STATTE': 2, 'HUY': 2, 'AMPSIN': 2, 'AMAY': 2, 'HAUTE-FLONE': 2, 'ENGIS': 2, 'FLEMALLE-HAUTE': 3, 'LEMAN': 2, 'FLEMALLE-GRANDE': 2, 'JEMEPPE-SUR-MEUSE': 2, 'PONT-DE-SERAING': 2, 'SCLESSIN': 2, 'ANS': 3, 'BIERSET-AWANS': 2, 'VOROUX': 2, 'FEXHE-LE-HAUT-CLOCHER': 2, 'MOMALLE': 2, 'REMICOURT': 2, 'BLERET': 2, 'WAREMME': 2, 'LEMBEEK': 2, 'TUBIZE': 2, 'HENNUYERES': 2, 'BRAINE-LE-COMTE': 3, 'BOUSSU': 2, 'HAININ': 2, 'THULIN': 2, 'QUIEVRAIN': 1, 'REBAIX': 2, 'PAPIGNIES': 2, 'HOURAING': 2, 'LESSINES': 2, 'ACREN': 2, 'ANVERS-LUCHTBAL': 3, 'NOORDERKEMPEN (BRECHT)': 2, 'DOLHAIN-GILEPPE': 2, 'VERVIERS-PALAIS': 2, 'NESSONVAUX': 2, 'FRAIPONT': 2, 'TROOZ': 2, 'CHAUDFONTAINE': 2, 'CHENEE': 2, 'ANGLEUR': 3, 'LA PANNE': 1, 'COXYDE': 2, 'FURNES': 2, 'DIXMUDE': 2, 'KORTEMARK': 2, 'GENTBRUGGE': 3, 'BEERVELDE': 2, 'SINAAI': 2, 'BELSELE': 2, 'WEERDE': 2, 'EPPEGEM': 3, 'VILVORDE': 5, 'BUDA': 2, 'Y.RENORY': 2, 'OUGREE': 2, 'SERAING': 2, 'LIEDEKERKE': 3, 'CHARLEROI-OUEST': 2, 'LODELINSART': 2, 'FLEURUS': 2, 'LIGNY': 2, 'TILLY': 2, 'VILLERS-LA-VILLE': 2, 'LA ROCHE (BRABANT)': 2, 'FAUX': 2, 'COURT-SAINT-ETIENNE': 2, 'CEROUX-MOUSTY': 2, 'FORRIERES': 2, 'GRUPONT': 2, 'POIX-SAINT-HUBERT': 2, 'LIBRAMONT': 5, 'NEUFCHATEAU': 2, 'MARBEHAN': 2, 'HABAY': 2, 'STOCKEM': 2, 'VIVILLE': 2, 'ARLON': 3, 'IZEGEM': 2, 'INGELMUNSTER': 2, 'NEERPELT': 2, 'OVERPELT': 2, 'LOMMEL': 2, 'MOL': 4, 'HAMONT': 1, 'BALEN': 2, 'BOURG-LEOPOLD': 2, 'BEVERLO': 2, 'BERINGEN': 2, 'HEUSDEN': 2, 'ZOLDER': 2, 'ZONHOVEN': 3, 'OLEN': 2, 'GEEL': 2, 'MERELBEKE': 3, 'MELLE': 5, 'GONTRODE': 2, 'LANDSKOUTER': 2, 'MOORTSELE': 2, 'SCHELDEWINDEKE': 2, 'BALEGEM-DORP': 2, 'BALEGEM-ZUID': 2, 'LIERDE': 2, 'SILLY': 2, 'QUEVY-FRONTIERE': 2, 'AULNOYE AYMERIES (F)': 1, 'HOBOKEN-POLDER': 2, 'HEMIKSEM': 2, 'SCHELLE': 2, 'NIEL': 2, 'BOOM': 2, 'RUISBROEK-SAUVEGARDE': 2, 'PUURS': 3, 'BLANDAIN-FRONTIERE': 2, 'BAISIEUX (FR)': 2, 'ASCQ (FR)': 2, 'PONT DE BOIS (FR)': 3, 'LILLE FLANDRES (FR)': 3, 'ANVERS-NOORDERDOKKEN': 2, 'ESSENE LOMBEEK': 2, 'TERNAT': 2, 'SINT-MARTENS-BODEGEM': 2, 'DILBEEK': 2, 'GRAND-BIGARD': 2, 'BERCHEM-SAINTE-AGATHE': 2, 'JETTE': 4, 'BOCKSTAEL': 3, 'STERPENICH-FRONTIERE': 3, 'LUXEMBOURG (LU)': 6, 'GERMOIR': 2, 'DELTA': 3, 'MERODE': 2, 'MEISER': 3, 'EVERE': 2, 'BORDET': 2, 'HAREN': 4, 'HOFSTADE': 2, 'KWATRECHT': 2, 'WETTEREN': 2, 'SCHELLEBELLE': 3, 'SERSKAMP': 2, 'LEDE': 2, 'ZELLIK': 2, 'ASSE': 2, 'MOLLEM': 2, 'MERCHTEM': 2, 'DINANT': 4, 'YVOIR': 2, 'GODINNE': 2, 'LUSTIN': 2, 'JAMBES': 2, 'EKEREN': 2, 'SINT-MARIABURG': 2, 'KAPELLEN': 2, 'HEIDE': 2, 'KIJKUIT': 2, 'KALMTHOUT': 2, 'WILDERT': 2, 'ESSEN': 1, 'TAMISE': 2, 'BORNEM': 2, 'WILLEBROEK': 2, 'ARCADES': 3, 'BOONDAEL': 2, 'VIVIER D OIE': 2, 'SAINT-JOB': 3, 'MOENSBERG': 2, 'BEERSEL': 2, 'HUIZINGEN': 2, 'FAMILLEUREUX': 3, 'MARCHE-LEZ-ECAUSSINNES': 2, 'ECAUSSINNES': 2, 'TIELEN': 2, 'TURNHOUT': 1, 'BRUXELLES-OUEST': 2, 'SIMONIS': 2, 'TOUR-ET-TAXIS': 3, 'JAMIOULX': 2, 'BEIGNEE': 2, 'HAM-SUR-HEURE': 2, 'COUR-SUR-HEURE': 2, 'BERZEE': 2, 'PRY': 2, 'WALCOURT': 2, 'YVES-GOMEZEE': 2, 'PHILIPPEVILLE': 2, 'MARIEMBOURG': 2, 'COUVIN': 1, 'LOUVAIN-LA-NEUVE': 1, 'WICHELEN': 2, 'SCHOONAARDE': 2, 'OUDEGEM': 2, 'BAASRODE-ZUID': 2, 'BUGGENHOUT': 2, 'MALDEREN': 2, 'ATHUS': 3, 'ATHUS-FRONTIERE': 2, 'RODANGE (LU)': 2, 'PETANGE': 2, 'ERQUELINNES': 1, 'ERQUELINNES-VILLAGE': 2, 'SOLRE-SUR-SAMBRE': 2, 'LABUISSIERE': 2, 'FONTAINE VALMONT': 2, 'LOBBES': 2, 'THUIN': 2, 'HOURPES': 2, 'LANDELIES': 2, 'MARCHIENNE-ZONE': 2, 'MAFFLE': 2, 'MEVERGNIES-ATTRE': 2, 'BRUGELETTE': 2, 'CAMBRON-CASTEAU': 2, 'LENS': 2, 'HERGENRATH': 2, 'HERGENRATH-FRONTIERE': 2, 'AACHEN HBF (DE)': 1, 'GOUVY': 3, 'GOUVY-FRONTIERE': 2, 'TROISVIERGES (LU)': 2, 'CLERVAUX (LU)': 2, 'DRAUFFELT (LU)': 2, 'WILWERWILTZ (LU)': 2, 'KAUTENBACH (LU)': 2, 'MICHELAU (LU)': 2, 'ETTELBRUCK(LU)': 2, 'MERSCH (LU)': 4, 'PFAFFENTHAL-KIRCHBERG (LU)': 2, 'TILFF': 2, 'MERY': 2, 'HONY': 2, 'ESNEUX': 2, 'POULSEUR': 2, 'RIVAGE': 3, 'AYWAILLE': 2, 'COO': 2, 'TROIS-PONTS': 2, 'VIELSALM': 2, 'DOMMELDANGE (LU)': 1, 'BRESSOUX': 2, 'VISE': 2, 'VISE-FRONTIERE': 2, 'EIJSDEN (NL)': 2, 'MAASTRICHT RANDWIJCK (NL)': 2, 'MAASTRICHT (NL)': 1, 'MARCHE-EN-FAMENNE': 2, 'MELREUX-HOTTON': 2, 'BARVAUX': 2, 'BOMAL': 2, 'SY': 2, 'HAMOIR': 2, 'COMBLAIN-LA-TOUR': 2, 'LISSEWEGE': 3, 'ZEEBRUGGE-DORP': 1, 'ZEEBRUGGE-STRAND': 1, 'BERTRIX': 3, 'FLORENVILLE': 2, 'VIRTON': 2, 'ANSEREMME': 2, 'GENDRON-CELLES': 2, 'HOUYET': 2, 'BEAURAING': 2, 'GEDINNE': 2, 'GRAIDE': 2, 'CARLSBOURG': 2, 'PALISEUL': 2, 'KLEINBETTINGEN (LU)': 3, 'MAMER-LYCEE (LU)': 3, 'BERTRANGE STRASSEN (LU)': 2, 'HALANZY': 2, 'AUBANGE': 2, 'MESSANCY': 2, 'MAZY': 2, 'CHAPELLE-DIEU': 2, 'ALOST KERREBROEK': 2, 'VIJFHUIZEN': 2, 'ERPE-MERE': 2, 'BAMBRUGGE': 2, 'BREDA (NL)': 2, 'ROTTERDAM CS (NL)': 3, 'SCHIPHOL (NL)': 3, 'AMSTERDAM CS (NL)': 1, 'MOUSCRON-FRONTIERE': 2, 'TOURCOING (FR)': 2, 'ROUBAIX (FR)': 2, 'LEZENNES (FR)': 2, 'CAPELLEN (LU)': 2, 'MAMER (LU)': 2, 'DEN HAAG HS (NL)': 2})"
      ]
     },
     "execution_count": 12,
     "metadata": {},
     "output_type": "execute_result"
    }
   ],
   "source": [
    "B.degree()"
   ]
  },
  {
   "cell_type": "code",
   "execution_count": 13,
   "metadata": {},
   "outputs": [
    {
     "data": {
      "text/plain": [
       "' The average degree of the nodes in the Belgian railway system indicating the number of directions \\na commuter can take from that given station.'"
      ]
     },
     "execution_count": 13,
     "metadata": {},
     "output_type": "execute_result"
    },
    {
     "name": "stdout",
     "output_type": "stream",
     "text": [
      "2.303839732888147\n",
      "2.311387900355872\n"
     ]
    }
   ],
   "source": [
    "''' The average degree of the nodes in the Belgian railway system indicating the number of directions \n",
    "a commuter can take from that given station.'''\n",
    "# The average degree of all the nodes in the Belgian railway system that consists of all routes that cover at least one belgian station\n",
    "sum = 0\n",
    "for n in B.nodes():\n",
    "    sum = sum + B.degree[n]\n",
    "print(sum/len(B.nodes()))\n",
    "\n",
    "# The average degree of all the nodes in the Belgian railway system if only the belgian stations are considered\n",
    "sum = 0\n",
    "number_belgian_stations = 0\n",
    "for n, d in B.nodes(data=True):\n",
    "    if B.nodes[n]['country']=='Belgium':\n",
    "        number_belgian_stations += 1\n",
    "        sum = sum + B.degree[n]\n",
    "print(sum/number_belgian_stations)"
   ]
  },
  {
   "cell_type": "code",
   "execution_count": 14,
   "metadata": {},
   "outputs": [
    {
     "data": {
      "text/plain": [
       "' The number of edges in the Belgian railway system '"
      ]
     },
     "execution_count": 14,
     "metadata": {},
     "output_type": "execute_result"
    },
    {
     "data": {
      "text/plain": [
       "690"
      ]
     },
     "execution_count": 14,
     "metadata": {},
     "output_type": "execute_result"
    }
   ],
   "source": [
    "''' The number of edges in the Belgian railway system '''\n",
    "len(B.edges())"
   ]
  },
  {
   "cell_type": "code",
   "execution_count": 15,
   "metadata": {},
   "outputs": [
    {
     "data": {
      "text/plain": [
       "' The gamma index of the Belgian railway system'"
      ]
     },
     "execution_count": 15,
     "metadata": {},
     "output_type": "execute_result"
    },
    {
     "data": {
      "text/plain": [
       "0.3852596314907873"
      ]
     },
     "execution_count": 15,
     "metadata": {},
     "output_type": "execute_result"
    }
   ],
   "source": [
    "''' The gamma index of the Belgian railway system'''\n",
    "gamma_index = len(B.edges()) / (3*(len(B.nodes()) - 2))\n",
    "gamma_index"
   ]
  },
  {
   "cell_type": "code",
   "execution_count": 16,
   "metadata": {},
   "outputs": [
    {
     "data": {
      "text/plain": [
       "' The mean local clustering coefficient of the Belgian railway system '"
      ]
     },
     "execution_count": 16,
     "metadata": {},
     "output_type": "execute_result"
    },
    {
     "name": "stdout",
     "output_type": "stream",
     "text": [
      "mean local clustering: 0.03072846278188515\n"
     ]
    }
   ],
   "source": [
    "''' The mean local clustering coefficient of the Belgian railway system '''\n",
    "#The mean local clustering coefficient indicates for a random station the estimation of the division of the number of neighbouring stations of a station that are connected \n",
    "# divided by the possible number of connections between the neighbours of that station\n",
    "print (\"mean local clustering:\", nx.average_clustering(B))"
   ]
  },
  {
   "cell_type": "code",
   "execution_count": 17,
   "metadata": {},
   "outputs": [
    {
     "data": {
      "text/plain": [
       "' The degree distribution of the Belgian railway system'"
      ]
     },
     "execution_count": 17,
     "metadata": {},
     "output_type": "execute_result"
    },
    {
     "data": {
      "text/plain": [
       "<BarContainer object of 9 artists>"
      ]
     },
     "execution_count": 17,
     "metadata": {},
     "output_type": "execute_result"
    },
    {
     "data": {
      "text/plain": [
       "[<matplotlib.lines.Line2D at 0x1046c085b50>]"
      ]
     },
     "execution_count": 17,
     "metadata": {},
     "output_type": "execute_result"
    },
    {
     "data": {
      "text/plain": [
       "Text(0.5, 1.0, 'Degree distribution')"
      ]
     },
     "execution_count": 17,
     "metadata": {},
     "output_type": "execute_result"
    },
    {
     "data": {
      "text/plain": [
       "Text(0, 0.5, 'P (k)')"
      ]
     },
     "execution_count": 17,
     "metadata": {},
     "output_type": "execute_result"
    },
    {
     "data": {
      "text/plain": [
       "Text(0.5, 0, 'k')"
      ]
     },
     "execution_count": 17,
     "metadata": {},
     "output_type": "execute_result"
    },
    {
     "data": {
      "text/plain": [
       "[<matplotlib.axis.XTick at 0x1046b9d06a0>,\n",
       " <matplotlib.axis.XTick at 0x1046b9d0670>,\n",
       " <matplotlib.axis.XTick at 0x1046b9b5ee0>,\n",
       " <matplotlib.axis.XTick at 0x1046c0b5a00>,\n",
       " <matplotlib.axis.XTick at 0x1046c0b5f10>,\n",
       " <matplotlib.axis.XTick at 0x1046c0c7460>,\n",
       " <matplotlib.axis.XTick at 0x1046c0c79a0>,\n",
       " <matplotlib.axis.XTick at 0x1046c0b56a0>,\n",
       " <matplotlib.axis.XTick at 0x1046c0c7d00>]"
      ]
     },
     "execution_count": 17,
     "metadata": {},
     "output_type": "execute_result"
    },
    {
     "data": {
      "text/plain": [
       "[Text(0, 0, '9'),\n",
       " Text(0, 0, '8'),\n",
       " Text(0, 0, '7'),\n",
       " Text(0, 0, '6'),\n",
       " Text(0, 0, '5'),\n",
       " Text(0, 0, '4'),\n",
       " Text(0, 0, '3'),\n",
       " Text(0, 0, '2'),\n",
       " Text(0, 0, '1')]"
      ]
     },
     "execution_count": 17,
     "metadata": {},
     "output_type": "execute_result"
    },
    {
     "data": {
      "text/plain": [
       "<BarContainer object of 9 artists>"
      ]
     },
     "execution_count": 17,
     "metadata": {},
     "output_type": "execute_result"
    },
    {
     "data": {
      "text/plain": [
       "[<matplotlib.lines.Line2D at 0x1046c10e730>]"
      ]
     },
     "execution_count": 17,
     "metadata": {},
     "output_type": "execute_result"
    },
    {
     "data": {
      "text/plain": [
       "Text(0.5, 1.0, 'Degree count')"
      ]
     },
     "execution_count": 17,
     "metadata": {},
     "output_type": "execute_result"
    },
    {
     "data": {
      "text/plain": [
       "Text(0, 0.5, 'Count')"
      ]
     },
     "execution_count": 17,
     "metadata": {},
     "output_type": "execute_result"
    },
    {
     "data": {
      "text/plain": [
       "Text(0.5, 0, 'k')"
      ]
     },
     "execution_count": 17,
     "metadata": {},
     "output_type": "execute_result"
    },
    {
     "data": {
      "text/plain": [
       "[<matplotlib.axis.XTick at 0x1046c0d5d60>,\n",
       " <matplotlib.axis.XTick at 0x1046c0d5d30>,\n",
       " <matplotlib.axis.XTick at 0x1046c0d55b0>,\n",
       " <matplotlib.axis.XTick at 0x1046c10eb80>,\n",
       " <matplotlib.axis.XTick at 0x1046c1193a0>,\n",
       " <matplotlib.axis.XTick at 0x1046c1198b0>,\n",
       " <matplotlib.axis.XTick at 0x1046c119df0>,\n",
       " <matplotlib.axis.XTick at 0x1046c1183d0>,\n",
       " <matplotlib.axis.XTick at 0x1046c118970>]"
      ]
     },
     "execution_count": 17,
     "metadata": {},
     "output_type": "execute_result"
    },
    {
     "data": {
      "text/plain": [
       "[Text(0, 0, '9'),\n",
       " Text(0, 0, '8'),\n",
       " Text(0, 0, '7'),\n",
       " Text(0, 0, '6'),\n",
       " Text(0, 0, '5'),\n",
       " Text(0, 0, '4'),\n",
       " Text(0, 0, '3'),\n",
       " Text(0, 0, '2'),\n",
       " Text(0, 0, '1')]"
      ]
     },
     "execution_count": 17,
     "metadata": {},
     "output_type": "execute_result"
    },
    {
     "data": {
      "image/png": "[encoded data removed]",
      "text/plain": [
       "<Figure size 360x360 with 1 Axes>"
      ]
     },
     "metadata": {
      "needs_background": "light"
     },
     "output_type": "display_data"
    },
    {
     "data": {
      "image/png": "[encoded data removed]",
      "text/plain": [
       "<Figure size 360x360 with 1 Axes>"
      ]
     },
     "metadata": {
      "needs_background": "light"
     },
     "output_type": "display_data"
    }
   ],
   "source": [
    "''' The degree distribution of the Belgian railway system'''\n",
    "\n",
    "#Sort degree values\n",
    "degree_sequence=sorted([d for n, d in B.degree()], reverse=True)\n",
    "\n",
    "#Count number of frequences of degree values\n",
    "degreeCount=collections.Counter(degree_sequence)\n",
    "\n",
    "#Define variables deg and cnt and probability\n",
    "deg, cnt = zip(*degreeCount.items())\n",
    "probability = []\n",
    "for v in cnt:\n",
    "    pv= v/len(B.nodes())\n",
    "    probability.append(pv)\n",
    "\n",
    "#plot degree probability histogram\n",
    "fig, ax = plt.subplots(figsize=(5, 5))\n",
    "plt.bar(deg, probability, width=0.95, color='lightgrey')\n",
    "\n",
    "#plot degree distribution\n",
    "plt.plot(deg, probability, color=\"b\")\n",
    "\n",
    "#graph settings\n",
    "plt.title(\"Degree distribution\")\n",
    "plt.ylabel(\"P (k)\")\n",
    "plt.xlabel(\"k\")\n",
    "ax.set_xticks([d for d in deg])\n",
    "ax.set_xticklabels(deg)\n",
    "\n",
    "#count\n",
    "fig, ax = plt.subplots(figsize=(5, 5))\n",
    "plt.bar(deg, cnt, width=0.95, color='lightgrey')\n",
    "\n",
    "plt.plot(deg, cnt, color=\"b\")\n",
    "\n",
    "#graph settings\n",
    "plt.title(\"Degree count\")\n",
    "plt.ylabel(\"Count\")\n",
    "plt.xlabel(\"k\")\n",
    "ax.set_xticks([d for d in deg])\n",
    "ax.set_xticklabels(deg)\n",
    "\n",
    "plt.show()"
   ]
  },
  {
   "cell_type": "code",
   "execution_count": 18,
   "metadata": {},
   "outputs": [
    {
     "data": {
      "text/plain": [
       "' Detection of the scale-free property in the Belgian railway system:\\nA PTN with the scale-free property consists of a large number of vertices that exhibit low degree and a few number of vertices that exhibit very high degree. '"
      ]
     },
     "execution_count": 18,
     "metadata": {},
     "output_type": "execute_result"
    },
    {
     "name": "stdout",
     "output_type": "stream",
     "text": [
      "The scale-free property is present in the Belgian railway network because the majority of nodes exhibit a low degree value equal to 2 and almost none of the nodes exhibit a degree value equal to 5 or higher\n"
     ]
    }
   ],
   "source": [
    "''' Detection of the scale-free property in the Belgian railway system:\n",
    "A PTN with the scale-free property consists of a large number of vertices that exhibit low degree and a few number of vertices that exhibit very high degree. '''\n",
    "print(\"The scale-free property is present in the Belgian railway network because the majority of nodes exhibit a low degree value equal to 2 and almost none of the nodes exhibit a degree value equal to 5 or higher\")"
   ]
  },
  {
   "cell_type": "code",
   "execution_count": 19,
   "metadata": {},
   "outputs": [
    {
     "data": {
      "text/plain": [
       "' The average path length of the Belgian railway system:\\nThe average path length represents in the L-space the average of all the shortest paths to be transversed between all public transport stop pairs\\nwhich can be reached by means of one or multiple routes.'"
      ]
     },
     "execution_count": 19,
     "metadata": {},
     "output_type": "execute_result"
    },
    {
     "name": "stdout",
     "output_type": "stream",
     "text": [
      "17.861385475234645\n"
     ]
    }
   ],
   "source": [
    "''' The average path length of the Belgian railway system:\n",
    "The average path length represents in the L-space the average of all the shortest paths to be transversed between all public transport stop pairs\n",
    "which can be reached by means of one or multiple routes.'''\n",
    "print(nx.average_shortest_path_length(B))"
   ]
  },
  {
   "cell_type": "code",
   "execution_count": 20,
   "metadata": {},
   "outputs": [
    {
     "data": {
      "text/plain": [
       "' The assortativity of the Belgian railway system:\\nIn an assortative network, high-degree vertices tend to be connected and low-degree vertices tend to stick together as well. \\nIn a disassortative network conversely, high-degree and low-degree vertices tend to be connected to each other instead of being connected to vertices of the same kind.'"
      ]
     },
     "execution_count": 20,
     "metadata": {},
     "output_type": "execute_result"
    },
    {
     "name": "stdout",
     "output_type": "stream",
     "text": [
      "0.22080632042520495\n"
     ]
    }
   ],
   "source": [
    "''' The assortativity of the Belgian railway system:\n",
    "In an assortative network, high-degree vertices tend to be connected and low-degree vertices tend to stick together as well. \n",
    "In a disassortative network conversely, high-degree and low-degree vertices tend to be connected to each other instead of being connected to vertices of the same kind.'''\n",
    "print(nx.degree_pearson_correlation_coefficient(B))"
   ]
  },
  {
   "cell_type": "markdown",
   "metadata": {},
   "source": [
    "## **Calculation of the global characteristics of the Dutch railway system in the L-space representation**"
   ]
  },
  {
   "cell_type": "code",
   "execution_count": 21,
   "metadata": {},
   "outputs": [
    {
     "data": {
      "text/plain": [
       "' To construct the network graph for the Netherlands '"
      ]
     },
     "execution_count": 21,
     "metadata": {},
     "output_type": "execute_result"
    }
   ],
   "source": [
    "''' To construct the network graph for the Netherlands '''\n",
    "N = nx.Graph()\n",
    "N = nx.from_pandas_edgelist(df_for_edges_Netherlands, 'stop_name_1', 'stop_name_2')"
   ]
  },
  {
   "cell_type": "code",
   "execution_count": 22,
   "metadata": {},
   "outputs": [
    {
     "data": {
      "text/plain": [
       "' To assign weights to the network graph for the Netherlands'"
      ]
     },
     "execution_count": 22,
     "metadata": {},
     "output_type": "execute_result"
    },
    {
     "data": {
      "text/plain": [
       "NodeDataView({'AMSTERDAM CENTRAAL': {'latitude': 52.3789197836, 'longitude': 4.90088939667, 'country': 'Netherlands'}, 'SCHIPHOL AIRPORT': {'latitude': 52.309456010699996, 'longitude': 4.76228356361, 'country': 'Netherlands'}, 'ROTTERDAM CENTRAAL': {'latitude': 51.924383443800004, 'longitude': 4.4697457552, 'country': 'Netherlands'}, 'UTRECHT CENTRAAL': {'latitude': 52.089451330600006, 'longitude': 5.10987102985, 'country': 'Netherlands'}, 'GOUDA': {'latitude': 52.0169549682, 'longitude': 4.705415368080001, 'country': 'Netherlands'}, 'ROTTERDAM ALEXANDER': {'latitude': 51.9516764051, 'longitude': 4.55200374126, 'country': 'Netherlands'}, 'WOERDEN': {'latitude': 52.0850970204, 'longitude': 4.892585277559999, 'country': 'Netherlands'}, 'BODEGRAVEN': {'latitude': 52.0817082095, 'longitude': 4.74578797817, 'country': 'Netherlands'}, 'ALPHEN A/D RIJN': {'latitude': 52.124734897399996, 'longitude': 4.657559394840001, 'country': 'Netherlands'}, 'LEIDEN LAMMENSCHANS': {'latitude': 52.146538819499995, 'longitude': 4.49349403381, 'country': 'Netherlands'}, 'LEIDEN CENTRAAL': {'latitude': 52.1663529517, 'longitude': 4.48206782341, 'country': 'Netherlands'}, 'HOOFDDORP': {'latitude': 52.29274562720001, 'longitude': 4.6985328197500005, 'country': 'Netherlands'}, 'AMSTERDAM ZUID': {'latitude': 52.3388200309, 'longitude': 4.87286567688, 'country': 'Netherlands'}, 'AMSTERDAM RAI': {'latitude': 52.336961586899996, 'longitude': 4.89031344652, 'country': 'Netherlands'}, 'DUIVENDRECHT': {'latitude': 52.3235699597, 'longitude': 4.9364554882, 'country': 'Netherlands'}, 'DIEMEN ZUID': {'latitude': 52.3303859358, 'longitude': 4.9559068679800005, 'country': 'Netherlands'}, 'WEESP': {'latitude': 52.3124601929, 'longitude': 5.04355609417, 'country': 'Netherlands'}, 'ALMERE POORT': {'latitude': 52.34294660000001, 'longitude': 5.1522517, 'country': 'Netherlands'}, 'ALMERE MUZIEKWIJK': {'latitude': 52.3677060023, 'longitude': 5.19068598747, 'country': 'Netherlands'}, 'ALMERE CENTRUM': {'latitude': 52.375016243599994, 'longitude': 5.21760463715, 'country': 'Netherlands'}, 'ALMERE PARKWIJK': {'latitude': 52.376735546599996, 'longitude': 5.244641304019999, 'country': 'Netherlands'}, 'ALMERE BUITEN': {'latitude': 52.394154041899995, 'longitude': 5.277938246730001, 'country': 'Netherlands'}, 'ALMERE OOSTVAARDERS': {'latitude': 52.4031487234, 'longitude': 5.30027031898, 'country': 'Netherlands'}, 'AMERSFOORT SCHOTHORST': {'latitude': 52.1747146623, 'longitude': 5.4040235281, 'country': 'Netherlands'}, 'AMERSFOORT CENTRAAL': {'latitude': 52.1534182404, 'longitude': 5.37398815155, 'country': 'Netherlands'}, 'DEN HAAG CENTRAAL': {'latitude': 52.0811312949, 'longitude': 4.324053525919998, 'country': 'Netherlands'}, 'GRONINGEN': {'latitude': 53.2109352492, 'longitude': 6.56407356262, 'country': 'Netherlands'}, 'ASSEN': {'latitude': 52.9922606253, 'longitude': 6.57095074654, 'country': 'Netherlands'}, 'ZWOLLE': {'latitude': 52.50556115569999, 'longitude': 6.09058320522, 'country': 'Netherlands'}, 'BREDA': {'latitude': 51.595045049300005, 'longitude': 4.779873490330001, 'country': 'Netherlands'}, 'LEEUWARDEN': {'latitude': 53.1964793547, 'longitude': 5.792959928509999, 'country': 'Netherlands'}, 'GROU-JIRNSUM': {'latitude': 53.0900326142, 'longitude': 5.8224105835, 'country': 'Netherlands'}, 'AKKRUM': {'latitude': 53.0476180204, 'longitude': 5.84292411804, 'country': 'Netherlands'}, 'HEERENVEEN': {'latitude': 52.9605259964, 'longitude': 5.915949940680001, 'country': 'Netherlands'}, 'WOLVEGA': {'latitude': 52.879838635, 'longitude': 6.004948317999999, 'country': 'Netherlands'}, 'STEENWIJK': {'latitude': 52.790948381099994, 'longitude': 6.1164611578, 'country': 'Netherlands'}, 'MEPPEL': {'latitude': 52.6918939124, 'longitude': 6.197606027130001, 'country': 'Netherlands'}, 'UTRECHT OVERVECHT': {'latitude': 52.11030723010001, 'longitude': 5.12517571449, 'country': 'Netherlands'}, 'BILTHOVEN': {'latitude': 52.130412452, 'longitude': 5.20533084869, 'country': 'Netherlands'}, 'DEN DOLDER': {'latitude': 52.1402213242, 'longitude': 5.24207979441, 'country': 'Netherlands'}, 'SOEST ZUID': {'latitude': 52.1651782712, 'longitude': 5.30300885439, 'country': 'Netherlands'}, 'SOEST': {'latitude': 52.1727407626, 'longitude': 5.31043052673, 'country': 'Netherlands'}, 'SOESTDIJK': {'latitude': 52.1839020129, 'longitude': 5.2998197078699985, 'country': 'Netherlands'}, 'BAARN': {'latitude': 52.2083561771, 'longitude': 5.28172016144, 'country': 'Netherlands'}, 'WEZEP': {'latitude': 52.4535216762, 'longitude': 6.00233316422, 'country': 'Netherlands'}, \"HARDE ('T)\": {'latitude': 52.4091965174, 'longitude': 5.8928963542, 'country': 'Netherlands'}, 'NUNSPEET': {'latitude': 52.371019, 'longitude': 5.78469, 'country': 'Netherlands'}, 'HARDERWIJK': {'latitude': 52.337836736899995, 'longitude': 5.62037587166, 'country': 'Netherlands'}, 'ERMELO': {'latitude': 52.3011672153, 'longitude': 5.614469647409999, 'country': 'Netherlands'}, 'PUTTEN': {'latitude': 52.2652355454, 'longitude': 5.575749278069999, 'country': 'Netherlands'}, 'NIJKERK': {'latitude': 52.2221129213, 'longitude': 5.49343496561, 'country': 'Netherlands'}, 'AMERSFOORT VATHORST': {'latitude': 52.192193, 'longitude': 5.43342, 'country': 'Netherlands'}, 'UTRECHT LEIDSCHE RIJN': {'latitude': 52.09887048109999, 'longitude': 5.06512105465, 'country': 'Netherlands'}, 'UTRECHT TERWIJDE': {'latitude': 52.1004522288, 'longitude': 5.04108309746, 'country': 'Netherlands'}, 'VLEUTEN': {'latitude': 52.102617154899995, 'longitude': 5.00842452049, 'country': 'Netherlands'}, 'GOUDA GOVERWELLE': {'latitude': 52.014660426300004, 'longitude': 4.74246203899, 'country': 'Netherlands'}, 'NIEUWERKERK AD IJSSEL': {'latitude': 51.965373675, 'longitude': 4.616958796980001, 'country': 'Netherlands'}, 'CAPELLE SCHOLLEVAAR': {'latitude': 51.954106418, 'longitude': 4.58413928747, 'country': 'Netherlands'}, 'ROTTERDAM NOORD': {'latitude': 51.9422708488, 'longitude': 4.4816413521800005, 'country': 'Netherlands'}, 'ROOSENDAAL': {'latitude': 51.5403131107, 'longitude': 4.459016919140001, 'country': 'Netherlands'}, 'ETTEN-LEUR': {'latitude': 51.575132570600005, 'longitude': 4.63662743568, 'country': 'Netherlands'}, 'TILBURG': {'latitude': 51.5605476622, 'longitude': 5.08345663548, 'country': 'Netherlands'}, \"HERTOGENBOSCH ('S)\": {'latitude': 51.690333243699996, 'longitude': 5.29457330704, 'country': 'Netherlands'}, 'OSS': {'latitude': 51.7651308763, 'longitude': 5.53030729294, 'country': 'Netherlands'}, 'NIJMEGEN': {'latitude': 51.8432285026, 'longitude': 5.85303068161, 'country': 'Netherlands'}, 'ARNHEM CENTRAAL': {'latitude': 51.9853459706, 'longitude': 5.89922368526, 'country': 'Netherlands'}, 'DIEREN': {'latitude': 52.0447772359, 'longitude': 6.10331296921, 'country': 'Netherlands'}, 'ZUTPHEN': {'latitude': 52.14456366970001, 'longitude': 6.19427740574, 'country': 'Netherlands'}, 'DEVENTER': {'latitude': 52.257076, 'longitude': 6.16096, 'country': 'Netherlands'}, 'OLST': {'latitude': 52.33571274729999, 'longitude': 6.11323714256, 'country': 'Netherlands'}, 'WIJHE': {'latitude': 52.3911259437, 'longitude': 6.140863895419999, 'country': 'Netherlands'}, 'AMSTERDAM SLOTERDIJK': {'latitude': 52.3885625372, 'longitude': 4.83716011047, 'country': 'Netherlands'}, 'HAARLEM': {'latitude': 52.3880485284, 'longitude': 4.638783931730001, 'country': 'Netherlands'}, 'HEEMSTEDE-AERDENHOUT': {'latitude': 52.359464154099996, 'longitude': 4.6067905426, 'country': 'Netherlands'}, 'ENSCHEDE': {'latitude': 52.222361, 'longitude': 6.89025, 'country': 'Netherlands'}, 'HENGELO': {'latitude': 52.262146077, 'longitude': 6.793595552439999, 'country': 'Netherlands'}, 'ALMELO': {'latitude': 52.356941500699996, 'longitude': 6.65620207787, 'country': 'Netherlands'}, 'APELDOORN': {'latitude': 52.20954944060001, 'longitude': 5.9685963392299985, 'country': 'Netherlands'}, 'HILVERSUM': {'latitude': 52.2263832024, 'longitude': 5.18169522285, 'country': 'Netherlands'}, 'BAD BENTHEIM': {'latitude': 52.309659357, 'longitude': 7.15778589249, 'country': 'Germany'}, 'RHEINE': {'latitude': 52.276107, 'longitude': 7.4352, 'country': 'Germany'}, 'OSNABRUCK HBF': {'latitude': 52.272667, 'longitude': 8.06161, 'country': 'Germany'}, 'BAD OEYNHAUSEN': {'latitude': 52.207824, 'longitude': 8.804008999999997, 'country': 'Germany'}, 'MINDEN (WESTF)': {'latitude': 52.290439007299995, 'longitude': 8.9344650507, 'country': 'Germany'}, 'HANNOVER HBF': {'latitude': 52.376726, 'longitude': 9.74095, 'country': 'Germany'}, 'UITGEEST': {'latitude': 52.52161992550001, 'longitude': 4.702236950400001, 'country': 'Netherlands'}, 'KROMMENIE-ASSENDELFT': {'latitude': 52.4943583305, 'longitude': 4.76149231195, 'country': 'Netherlands'}, 'WORMERVEER': {'latitude': 52.4892743989, 'longitude': 4.79257375002, 'country': 'Netherlands'}, 'ZAANDIJK ZAANSE SCHANS': {'latitude': 52.469161551599996, 'longitude': 4.80516135693, 'country': 'Netherlands'}, 'KOOG AAN DE ZAAN': {'latitude': 52.457621, 'longitude': 4.805914, 'country': 'Netherlands'}, 'ZAANDAM': {'latitude': 52.4384469017, 'longitude': 4.813830256459999, 'country': 'Netherlands'}, 'AMSTERDAM MUIDERPOORT': {'latitude': 52.360987505, 'longitude': 4.93115544319, 'country': 'Netherlands'}, 'AMSTERDAM AMSTEL': {'latitude': 52.346741305, 'longitude': 4.91886556149, 'country': 'Netherlands'}, 'AMSTERDAM BIJLMER ARENA': {'latitude': 52.3122043862, 'longitude': 4.94710922241, 'country': 'Netherlands'}, 'AMSTERDAM HOLENDRECHT': {'latitude': 52.2982836496, 'longitude': 4.95985507965, 'country': 'Netherlands'}, 'ABCOUDE': {'latitude': 52.2796589706, 'longitude': 4.976457953450001, 'country': 'Netherlands'}, 'BREUKELEN': {'latitude': 52.17059898229999, 'longitude': 4.99062001705, 'country': 'Netherlands'}, 'WINTERSWIJK': {'latitude': 51.967729, 'longitude': 6.71552, 'country': 'Netherlands'}, 'WINTERSWIJK WEST': {'latitude': 51.9747826474, 'longitude': 6.70339822769, 'country': 'Netherlands'}, 'LICHTENVOORDE-GROENLO': {'latitude': 52.0121181345, 'longitude': 6.59532666206, 'country': 'Netherlands'}, 'RUURLO': {'latitude': 52.0810538229, 'longitude': 6.4495164156, 'country': 'Netherlands'}, 'VORDEN': {'latitude': 52.107154261999995, 'longitude': 6.317567825319999, 'country': 'Netherlands'}, 'APELDOORN DE MATEN': {'latitude': 52.2051476843, 'longitude': 6.000638008119999, 'country': 'Netherlands'}, 'KLARENBEEK': {'latitude': 52.1780470643, 'longitude': 6.08409762383, 'country': 'Netherlands'}, 'VOORST-EMPE': {'latitude': 52.15774613510001, 'longitude': 6.143540740009999, 'country': 'Netherlands'}, 'LELYSTAD CENTRUM': {'latitude': 52.5080149133, 'longitude': 5.47285705805, 'country': 'Netherlands'}, 'DEN HELDER': {'latitude': 52.9568211084, 'longitude': 4.760636687280001, 'country': 'Netherlands'}, 'DEN HELDER ZUID': {'latitude': 52.93291899999999, 'longitude': 4.76434, 'country': 'Netherlands'}, 'ANNA PAULOWNA': {'latitude': 52.8676984353, 'longitude': 4.81146991253, 'country': 'Netherlands'}, 'SCHAGEN': {'latitude': 52.785308326099994, 'longitude': 4.80504333973, 'country': 'Netherlands'}, 'HEERHUGOWAARD': {'latitude': 52.6705238747, 'longitude': 4.8238670826, 'country': 'Netherlands'}, 'ALKMAAR NOORD': {'latitude': 52.643807, 'longitude': 4.76386, 'country': 'Netherlands'}, 'ALKMAAR': {'latitude': 52.6377769745, 'longitude': 4.740804433819999, 'country': 'Netherlands'}, 'HEILOO': {'latitude': 52.600278153599994, 'longitude': 4.70113992691, 'country': 'Netherlands'}, 'CASTRICUM': {'latitude': 52.546051031000005, 'longitude': 4.65877175331, 'country': 'Netherlands'}, 'VEENENDAAL-DE KLOMP': {'latitude': 52.0459352966, 'longitude': 5.573965609069999, 'country': 'Netherlands'}, 'EDE-WAGENINGEN': {'latitude': 52.0281585657, 'longitude': 5.67148804665, 'country': 'Netherlands'}, 'ANTWERPEN-CENTRAAL': {'latitude': 51.2154863992, 'longitude': 4.42096710205, 'country': 'Belgium'}, 'BRUSSEL-ZUID/MIDI': {'latitude': 50.8348902401, 'longitude': 4.33505058289, 'country': 'Belgium'}, 'PARIS-NORD': {'latitude': 48.880506, 'longitude': 2.35503, 'country': 'France'}, 'HALFWEG-ZWANENBURG': {'latitude': 52.384722, 'longitude': 4.75164, 'country': 'Netherlands'}, 'HAARLEM SPAARNWOUDE': {'latitude': 52.3830456338, 'longitude': 4.67106699944, 'country': 'Netherlands'}, 'OVERVEEN': {'latitude': 52.391080111499996, 'longitude': 4.60678517818, 'country': 'Netherlands'}, 'ZANDVOORT AAN ZEE': {'latitude': 52.3757694703, 'longitude': 4.53125953674, 'country': 'Netherlands'}, 'HILLEGOM': {'latitude': 52.3031075295, 'longitude': 4.56605315208, 'country': 'Netherlands'}, 'VOORHOUT': {'latitude': 52.2241207768, 'longitude': 4.48449254036, 'country': 'Netherlands'}, 'DE VINK': {'latitude': 52.1472033554, 'longitude': 4.45632733405, 'country': 'Netherlands'}, 'VOORSCHOTEN': {'latitude': 52.1262416276, 'longitude': 4.43370893598, 'country': 'Netherlands'}, 'DEN HAAG MARIAHOEVE': {'latitude': 52.090586809499996, 'longitude': 4.36898857355, 'country': 'Netherlands'}, 'DEN HAAG LAAN V NOI': {'latitude': 52.07899005220001, 'longitude': 4.34311330318, 'country': 'Netherlands'}, 'MAASTRICHT': {'latitude': 50.8497439807, 'longitude': 5.70544481277, 'country': 'Netherlands'}, 'MAASTRICHT RANDWYCK': {'latitude': 50.837451450399996, 'longitude': 5.71757376194, 'country': 'Netherlands'}, 'EIJSDEN': {'latitude': 50.7720763187, 'longitude': 5.7098221778900005, 'country': 'Netherlands'}, 'VISE': {'latitude': 50.741848, 'longitude': 5.695880000000002, 'country': 'Belgium'}, 'BRESSOUX': {'latitude': 50.6445622404, 'longitude': 5.6126403808599985, 'country': 'Belgium'}, 'LIEGE-GUILLEMINS': {'latitude': 50.6240657216, 'longitude': 5.56723594666, 'country': 'Belgium'}, 'LIEGE-CARRE': {'latitude': 50.640514648047294, 'longitude': 5.56190574146765, 'country': 'Belgium'}, 'LIEGE-SAINT-LAMBERT': {'latitude': 50.6464909, 'longitude': 5.5709686, 'country': 'Belgium'}, 'HASSELT': {'latitude': 50.93077555856, 'longitude': 5.32705584681, 'country': 'Belgium'}, 'ELST': {'latitude': 51.9172503083, 'longitude': 5.8549618721000005, 'country': 'Netherlands'}, 'DRIEBERGEN-ZEIST': {'latitude': 52.065156039499996, 'longitude': 5.25960534811, 'country': 'Netherlands'}, 'BEVERWIJK': {'latitude': 52.478350042299994, 'longitude': 4.65630412102, 'country': 'Netherlands'}, 'ARNHEM VELPERPOORT': {'latitude': 51.985012291000004, 'longitude': 5.91968894005, 'country': 'Netherlands'}, 'WESTERVOORT': {'latitude': 51.9634929655, 'longitude': 5.9680652618400005, 'country': 'Netherlands'}, 'DUIVEN': {'latitude': 51.9434348706, 'longitude': 6.01421535015, 'country': 'Netherlands'}, 'ZEVENAAR': {'latitude': 51.9230369693, 'longitude': 6.0731059312800015, 'country': 'Netherlands'}, 'DIDAM': {'latitude': 51.9334206498, 'longitude': 6.13243639469, 'country': 'Netherlands'}, 'WEHL': {'latitude': 51.9573859001, 'longitude': 6.21393531561, 'country': 'Netherlands'}, 'DOETINCHEM DE HUET': {'latitude': 51.9592321562, 'longitude': 6.25997006893, 'country': 'Netherlands'}, 'DOETINCHEM': {'latitude': 51.9585098609, 'longitude': 6.29611819983, 'country': 'Netherlands'}, 'GAANDEREN': {'latitude': 51.93052312020001, 'longitude': 6.348595619199999, 'country': 'Netherlands'}, 'TERBORG': {'latitude': 51.9226168081, 'longitude': 6.36395931244, 'country': 'Netherlands'}, 'VARSSEVELD': {'latitude': 51.9373234191, 'longitude': 6.45880758762, 'country': 'Netherlands'}, 'AALTEN': {'latitude': 51.9213877311, 'longitude': 6.5787345171, 'country': 'Netherlands'}, 'OOSTERBEEK': {'latitude': 51.994915901800006, 'longitude': 5.84069788456, 'country': 'Netherlands'}, 'WOLFHEZE': {'latitude': 52.005745262, 'longitude': 5.79187631607, 'country': 'Netherlands'}, 'TIEL': {'latitude': 51.88957056, 'longitude': 5.423238873480001, 'country': 'Netherlands'}, 'KESTEREN': {'latitude': 51.931581600200005, 'longitude': 5.583168268200001, 'country': 'Netherlands'}, 'OPHEUSDEN': {'latitude': 51.9261615884, 'longitude': 5.6371986866, 'country': 'Netherlands'}, 'HEMMEN-DODEWAARD': {'latitude': 51.922287623900004, 'longitude': 5.673440694809999, 'country': 'Netherlands'}, 'ZETTEN-ANDELST': {'latitude': 51.9197682096, 'longitude': 5.72335392237, 'country': 'Netherlands'}, 'VLISSINGEN': {'latitude': 51.4441278741, 'longitude': 3.5955709219, 'country': 'Netherlands'}, 'VLISSINGEN SOUBURG': {'latitude': 51.4648596839, 'longitude': 3.59528660774, 'country': 'Netherlands'}, 'MIDDELBURG': {'latitude': 51.4951983216, 'longitude': 3.61801028252, 'country': 'Netherlands'}, 'ARNEMUIDEN': {'latitude': 51.501444953000004, 'longitude': 3.66984665394, 'country': 'Netherlands'}, 'GOES': {'latitude': 51.4984444727, 'longitude': 3.89053344727, 'country': 'Netherlands'}, 'KAPELLE-BIEZELINGE': {'latitude': 51.480487554899995, 'longitude': 3.95702004433, 'country': 'Netherlands'}, 'KRUININGEN-YERSEKE': {'latitude': 51.465431162899996, 'longitude': 4.0362739563, 'country': 'Netherlands'}, 'KRABBENDIJKE': {'latitude': 51.433193251300004, 'longitude': 4.11706209183, 'country': 'Netherlands'}, 'RILLAND-BATH': {'latitude': 51.422613937399994, 'longitude': 4.161050319669998, 'country': 'Netherlands'}, 'BERGEN OP ZOOM': {'latitude': 51.494991254700004, 'longitude': 4.29585814476, 'country': 'Netherlands'}, 'DORDRECHT': {'latitude': 51.8075467403, 'longitude': 4.66774642467, 'country': 'Netherlands'}, 'ROTTERDAM BLAAK': {'latitude': 51.9202727655, 'longitude': 4.48890209198, 'country': 'Netherlands'}, 'SCHIEDAM CENTRUM': {'latitude': 51.92184760510001, 'longitude': 4.40959990025, 'country': 'Netherlands'}, 'DELFT': {'latitude': 52.0065394441, 'longitude': 4.35651630163, 'country': 'Netherlands'}, 'DEN HAAG HS': {'latitude': 52.07013222729999, 'longitude': 4.3222028017000005, 'country': 'Netherlands'}, 'NAARDEN-BUSSUM': {'latitude': 52.2807649886, 'longitude': 5.15704572201, 'country': 'Netherlands'}, 'BUSSUM ZUID': {'latitude': 52.265496548, 'longitude': 5.16300290823, 'country': 'Netherlands'}, 'HILVERSUM MEDIA PARK': {'latitude': 52.237997471999996, 'longitude': 5.1739114522900005, 'country': 'Netherlands'}, 'HILVERSUM SPORTPARK': {'latitude': 52.21655716229999, 'longitude': 5.18733859062, 'country': 'Netherlands'}, 'HOLLANDSCHE RADING': {'latitude': 52.1780651566, 'longitude': 5.17916053534, 'country': 'Netherlands'}, 'DORDRECHT ZUID': {'latitude': 51.79068405970001, 'longitude': 4.67181265354, 'country': 'Netherlands'}, 'LAGE ZWALUWE': {'latitude': 51.69038312560001, 'longitude': 4.66302573681, 'country': 'Netherlands'}, 'ZEVENBERGEN': {'latitude': 51.6413925608, 'longitude': 4.6099528670300005, 'country': 'Netherlands'}, 'OUDENBOSCH': {'latitude': 51.5878996933, 'longitude': 4.53316658735, 'country': 'Netherlands'}, 'ENKHUIZEN': {'latitude': 52.699709527299994, 'longitude': 5.28884679079, 'country': 'Netherlands'}, 'BOVENKARSPEL FLORA': {'latitude': 52.6960944917, 'longitude': 5.25372862816, 'country': 'Netherlands'}, 'BOVENKARSPEL-GROOTEBROEK': {'latitude': 52.6950976222, 'longitude': 5.23744627833, 'country': 'Netherlands'}, 'HOOGKARSPEL': {'latitude': 52.690573223, 'longitude': 5.18384769559, 'country': 'Netherlands'}, 'HOORN KERSENBOOGERD': {'latitude': 52.653322851000006, 'longitude': 5.08487418294, 'country': 'Netherlands'}, 'HOORN': {'latitude': 52.64485691260001, 'longitude': 5.05458533764, 'country': 'Netherlands'}, 'WIERDEN': {'latitude': 52.3613904471, 'longitude': 6.592279672619998, 'country': 'Netherlands'}, 'RIJSSEN': {'latitude': 52.3115845407, 'longitude': 6.519398689269999, 'country': 'Netherlands'}, 'HOLTEN': {'latitude': 52.2840106801, 'longitude': 6.42132639885, 'country': 'Netherlands'}, 'DEVENTER COLMSCHATE': {'latitude': 52.250341077799995, 'longitude': 6.215263009069999, 'country': 'Netherlands'}, 'TWELLO': {'latitude': 52.238316123400004, 'longitude': 6.10065221786, 'country': 'Netherlands'}, 'APELDOORN OSSEVELD': {'latitude': 52.2158570972, 'longitude': 6.006415486340001, 'country': 'Netherlands'}, 'GRONINGEN EUROPAPARK': {'latitude': 53.20470770000001, 'longitude': 6.5858114, 'country': 'Netherlands'}, 'HAREN': {'latitude': 53.1752220409, 'longitude': 6.61775529385, 'country': 'Netherlands'}, 'BEILEN': {'latitude': 52.854941008900006, 'longitude': 6.52100265026, 'country': 'Netherlands'}, 'HOOGEVEEN': {'latitude': 52.7335209628, 'longitude': 6.47298038006, 'country': 'Netherlands'}, 'BOSKOOP': {'latitude': 52.0775015065, 'longitude': 4.64693248272, 'country': 'Netherlands'}, 'BOSKOOP SNIJDELWIJK': {'latitude': 52.06764, 'longitude': 4.64628, 'country': 'Netherlands'}, 'WADDINXVEEN NOORD': {'latitude': 52.05531415220001, 'longitude': 4.64821457863, 'country': 'Netherlands'}, 'WADDINXVEEN': {'latitude': 52.0443384188, 'longitude': 4.649866819380001, 'country': 'Netherlands'}, 'WADDINXVEEN TRIANGEL': {'latitude': 52.02678, 'longitude': 4.64907, 'country': 'Netherlands'}, 'OBDAM': {'latitude': 52.6780375892, 'longitude': 4.90926325321, 'country': 'Netherlands'}, 'HEEMSKERK': {'latitude': 52.494787816599995, 'longitude': 4.68630462885, 'country': 'Netherlands'}, 'DRIEHUIS': {'latitude': 52.4424560103, 'longitude': 4.638209938999999, 'country': 'Netherlands'}, 'SANTPOORT NOORD': {'latitude': 52.4337391671, 'longitude': 4.63278114796, 'country': 'Netherlands'}, 'SANTPOORT ZUID': {'latitude': 52.4197536249, 'longitude': 4.631375670430001, 'country': 'Netherlands'}, 'BLOEMENDAAL': {'latitude': 52.4039734714, 'longitude': 4.6274971962, 'country': 'Netherlands'}, 'SASSENHEIM': {'latitude': 52.2176910471, 'longitude': 4.528512954709999, 'country': 'Netherlands'}, 'NIEUW VENNEP': {'latitude': 52.259016991, 'longitude': 4.64559137821, 'country': 'Netherlands'}, 'AMSTERDAM LELYLAAN': {'latitude': 52.3578899698, 'longitude': 4.8340433836, 'country': 'Netherlands'}, 'ZAANDAM KOGERVELD': {'latitude': 52.4567628717, 'longitude': 4.81926977634, 'country': 'Netherlands'}, 'PURMEREND WEIDEVENNE': {'latitude': 52.4963754906, 'longitude': 4.93502184749, 'country': 'Netherlands'}, 'PURMEREND': {'latitude': 52.5036950327, 'longitude': 4.95416879654, 'country': 'Netherlands'}, 'PURMEREND OVERWHERE': {'latitude': 52.5113075984, 'longitude': 4.96743634343, 'country': 'Netherlands'}, 'BRUMMEN': {'latitude': 52.0911289946, 'longitude': 6.14723145962, 'country': 'Netherlands'}, 'RHEDEN': {'latitude': 52.010080895200005, 'longitude': 6.03140830994, 'country': 'Netherlands'}, 'VELP': {'latitude': 51.9950942656, 'longitude': 5.98092913628, 'country': 'Netherlands'}, 'ARNHEM PRESIKHAAF': {'latitude': 51.9876783549, 'longitude': 5.9430402517299985, 'country': 'Netherlands'}, 'ARNHEM ZUID': {'latitude': 51.95517591260001, 'longitude': 5.85187196732, 'country': 'Netherlands'}, 'NIJMEGEN LENT': {'latitude': 51.864146308900004, 'longitude': 5.859446525569999, 'country': 'Netherlands'}, 'NIJMEGEN GOFFERT': {'latitude': 51.827271142516096, 'longitude': 5.822334297012018, 'country': 'Netherlands'}, 'NIJMEGEN DUKENBURG': {'latitude': 51.8238792462, 'longitude': 5.794875025750001, 'country': 'Netherlands'}, 'WIJCHEN': {'latitude': 51.8112332637, 'longitude': 5.72993338108, 'country': 'Netherlands'}, 'ZWIJNDRECHT': {'latitude': 51.8157054426, 'longitude': 4.64083850384, 'country': 'Netherlands'}, 'BARENDRECHT': {'latitude': 51.8555987842, 'longitude': 4.5522773265800005, 'country': 'Netherlands'}, 'ROTTERDAM LOMBARDIJEN': {'latitude': 51.8804682307, 'longitude': 4.53098058701, 'country': 'Netherlands'}, 'ROTTERDAM ZUID': {'latitude': 51.90379153520001, 'longitude': 4.51088547707, 'country': 'Netherlands'}, 'DELFT CAMPUS': {'latitude': 51.99085628090001, 'longitude': 4.36479359865, 'country': 'Netherlands'}, 'RIJSWIJK': {'latitude': 52.039392354600004, 'longitude': 4.31972444057, 'country': 'Netherlands'}, 'DEN HAAG MOERWIJK': {'latitude': 52.0547047349, 'longitude': 4.30855035782, 'country': 'Netherlands'}, 'KAMPEN ZUID': {'latitude': 52.53361691510001, 'longitude': 5.91265082359, 'country': 'Netherlands'}, 'DRONTEN': {'latitude': 52.5344196434, 'longitude': 5.71999311447, 'country': 'Netherlands'}, 'LANSINGERLAND-ZOETERMEER': {'latitude': 52.042124, 'longitude': 4.516875, 'country': 'Netherlands'}, 'ZOETERMEER OOST': {'latitude': 52.046446681400006, 'longitude': 4.49200540781, 'country': 'Netherlands'}, 'ZOETERMEER': {'latitude': 52.0476145962, 'longitude': 4.47682678699, 'country': 'Netherlands'}, 'DEN HAAG YPENBURG': {'latitude': 52.0561041559, 'longitude': 4.3899782002, 'country': 'Netherlands'}, 'VOORBURG': {'latitude': 52.0666886919, 'longitude': 4.359293729069998, 'country': 'Netherlands'}, 'MAASTRICHT NOORD': {'latitude': 50.870688, 'longitude': 5.717336, 'country': 'Netherlands'}, 'MEERSSEN': {'latitude': 50.882730476400006, 'longitude': 5.750677585599999, 'country': 'Netherlands'}, 'HOUTHEM-ST. GERLACH': {'latitude': 50.87350351600001, 'longitude': 5.79657554626, 'country': 'Netherlands'}, 'VALKENBURG': {'latitude': 50.86920419810001, 'longitude': 5.83277463913, 'country': 'Netherlands'}, 'SCHIN OP GEUL': {'latitude': 50.8561040681, 'longitude': 5.871768593790001, 'country': 'Netherlands'}, 'KLIMMEN-RANSDAAL': {'latitude': 50.8665262336, 'longitude': 5.89029729366, 'country': 'Netherlands'}, 'VOERENDAAL': {'latitude': 50.886696, 'longitude': 5.92961, 'country': 'Netherlands'}, 'HEERLEN WOONBOULEVARD': {'latitude': 50.8955761278, 'longitude': 5.95094203949, 'country': 'Netherlands'}, 'HEERLEN': {'latitude': 50.890598689099996, 'longitude': 5.97381591797, 'country': 'Netherlands'}, 'BUNDE': {'latitude': 50.89689737760001, 'longitude': 5.73650747538, 'country': 'Netherlands'}, 'BEEK-ELSLOO': {'latitude': 50.946919934300006, 'longitude': 5.78601032495, 'country': 'Netherlands'}, 'GELEEN-LUTTERADE': {'latitude': 50.975413036999996, 'longitude': 5.82459390163, 'country': 'Netherlands'}, 'SITTARD': {'latitude': 51.0013602335, 'longitude': 5.859071016310001, 'country': 'Netherlands'}, 'SUSTEREN': {'latitude': 51.060703240600006, 'longitude': 5.86264371872, 'country': 'Netherlands'}, 'ECHT': {'latitude': 51.1005138636, 'longitude': 5.878970324990001, 'country': 'Netherlands'}, 'ROERMOND': {'latitude': 51.192510104600004, 'longitude': 5.99384665489, 'country': 'Netherlands'}, 'VENRAY': {'latitude': 51.5268451091, 'longitude': 6.01389348507, 'country': 'Netherlands'}, 'VIERLINGSBEEK': {'latitude': 51.5919690846, 'longitude': 5.9970921277999985, 'country': 'Netherlands'}, 'BOXMEER': {'latitude': 51.644378627799995, 'longitude': 5.93949437141, 'country': 'Netherlands'}, 'CUIJK': {'latitude': 51.727058061899996, 'longitude': 5.87428450584, 'country': 'Netherlands'}, 'MOOK-MOLENHOEK': {'latitude': 51.766256330699996, 'longitude': 5.87913930416, 'country': 'Netherlands'}, 'NIJMEGEN HEYENDAAL': {'latitude': 51.82674718689999, 'longitude': 5.867731869219999, 'country': 'Netherlands'}, 'BLERICK': {'latitude': 51.3725037143, 'longitude': 6.1551278829600005, 'country': 'Netherlands'}, 'VENLO': {'latitude': 51.3651057003, 'longitude': 6.17127478123, 'country': 'Netherlands'}, 'TEGELEN': {'latitude': 51.3393406368, 'longitude': 6.14325374365, 'country': 'Netherlands'}, 'REUVER': {'latitude': 51.2830346253, 'longitude': 6.07918918133, 'country': 'Netherlands'}, 'SWALMEN': {'latitude': 51.2363554455, 'longitude': 6.03306055069, 'country': 'Netherlands'}, 'GELEEN OOST': {'latitude': 50.9674848366, 'longitude': 5.843331813810001, 'country': 'Netherlands'}, 'SPAUBEEK': {'latitude': 50.9433338299, 'longitude': 5.8493694663, 'country': 'Netherlands'}, 'SCHINNEN': {'latitude': 50.9388465849, 'longitude': 5.87498992682, 'country': 'Netherlands'}, 'NUTH': {'latitude': 50.9198331019, 'longitude': 5.892357230190001, 'country': 'Netherlands'}, 'HOENSBROEK': {'latitude': 50.9057070066, 'longitude': 5.930243432519998, 'country': 'Netherlands'}, 'LANDGRAAF': {'latitude': 50.8962291446, 'longitude': 6.01964950562, 'country': 'Netherlands'}, 'EYGELSHOVEN': {'latitude': 50.8900504954, 'longitude': 6.0457688570000006, 'country': 'Netherlands'}, 'CHEVREMONT': {'latitude': 50.8755650167, 'longitude': 6.05967879295, 'country': 'Netherlands'}, 'KERKRADE CENTRUM': {'latitude': 50.8611901592, 'longitude': 6.05727016926, 'country': 'Netherlands'}, 'DIEMEN': {'latitude': 52.345476356099994, 'longitude': 4.966796636580001, 'country': 'Netherlands'}, 'AMSTERDAM SCIENCE PARK': {'latitude': 52.35231516970001, 'longitude': 4.95049953461, 'country': 'Netherlands'}, 'HOUTEN CASTELLUM': {'latitude': 52.0185132087, 'longitude': 5.17889499664, 'country': 'Netherlands'}, 'HOUTEN': {'latitude': 52.0349077579, 'longitude': 5.16753315926, 'country': 'Netherlands'}, 'UTRECHT LUNETTEN': {'latitude': 52.065879913100005, 'longitude': 5.14361590147, 'country': 'Netherlands'}, 'UTRECHT VAARTSCHE RIJN': {'latitude': 52.078261796031704, 'longitude': 5.12296864885402, 'country': 'Netherlands'}, 'KAMPEN': {'latitude': 52.559774713900005, 'longitude': 5.921617448330001, 'country': 'Netherlands'}, 'ZWOLLE STADSHAGEN': {'latitude': 52.5279, 'longitude': 6.051, 'country': 'Netherlands'}, 'WEERT': {'latitude': 51.2487474211, 'longitude': 5.70307910442, 'country': 'Netherlands'}, 'EINDHOVEN CENTRAAL': {'latitude': 51.4423758354, 'longitude': 5.47994077206, 'country': 'Netherlands'}, 'VRIEZENVEEN': {'latitude': 52.4019213912, 'longitude': 6.6005194187199985, 'country': 'Netherlands'}, 'DAARLERVEEN': {'latitude': 52.4413164272, 'longitude': 6.57596647739, 'country': 'Netherlands'}, 'VROOMSHOOP': {'latitude': 52.4573594348, 'longitude': 6.56962573528, 'country': 'Netherlands'}, 'MARIENBERG': {'latitude': 52.5090123764, 'longitude': 6.574062108990001, 'country': 'Netherlands'}, 'HARDENBERG': {'latitude': 52.5723204212, 'longitude': 6.62763118744, 'country': 'Netherlands'}, 'HEINO': {'latitude': 52.4268589853, 'longitude': 6.22245937586, 'country': 'Netherlands'}, 'RAALTE': {'latitude': 52.3910408266, 'longitude': 6.27850413322, 'country': 'Netherlands'}, 'NIJVERDAL': {'latitude': 52.365560518100004, 'longitude': 6.470518112180001, 'country': 'Netherlands'}, 'ALMELO DE RIET': {'latitude': 52.3422351688, 'longitude': 6.666598320009999, 'country': 'Netherlands'}, 'BORNE': {'latitude': 52.2984197949, 'longitude': 6.74899578094, 'country': 'Netherlands'}, 'ENSCHEDE KENNISPARK': {'latitude': 52.23754084390001, 'longitude': 6.838619112969999, 'country': 'Netherlands'}, 'RHENEN': {'latitude': 51.9585875454, 'longitude': 5.578318834299999, 'country': 'Netherlands'}, 'VEENENDAAL CENTRUM': {'latitude': 52.0200763466, 'longitude': 5.549058616159999, 'country': 'Netherlands'}, 'VEENENDAAL WEST': {'latitude': 52.0282674849, 'longitude': 5.5315679311800015, 'country': 'Netherlands'}, 'MAARN': {'latitude': 52.064361249099996, 'longitude': 5.37041008472, 'country': 'Netherlands'}, 'BUNNIK': {'latitude': 52.0632960099, 'longitude': 5.19551664591, 'country': 'Netherlands'}, 'UTRECHT ZUILEN': {'latitude': 52.102913711999996, 'longitude': 5.0895050168, 'country': 'Netherlands'}, 'MAARSSEN': {'latitude': 52.1356842895, 'longitude': 5.03282725811, 'country': 'Netherlands'}, 'OLDENZAAL': {'latitude': 52.3064221046, 'longitude': 6.93367660046, 'country': 'Netherlands'}, 'HENGELO OOST': {'latitude': 52.2689912086, 'longitude': 6.81961297989, 'country': 'Netherlands'}, 'HENGELO GEZONDHEIDSPARK': {'latitude': 52.2616305974, 'longitude': 6.767706871030001, 'country': 'Netherlands'}, 'DELDEN': {'latitude': 52.2601793425, 'longitude': 6.7146474123000015, 'country': 'Netherlands'}, 'GOOR': {'latitude': 52.2304148646, 'longitude': 6.58494114876, 'country': 'Netherlands'}, 'LOCHEM': {'latitude': 52.166805376400006, 'longitude': 6.426057815549999, 'country': 'Netherlands'}, 'EMMEN': {'latitude': 52.7906369563, 'longitude': 6.899371147160001, 'country': 'Netherlands'}, 'EMMEN ZUID': {'latitude': 52.74882091479999, 'longitude': 6.87420129776, 'country': 'Netherlands'}, 'NIEUW AMSTERDAM': {'latitude': 52.7185665751, 'longitude': 6.84881687164, 'country': 'Netherlands'}, 'COEVORDEN': {'latitude': 52.662984466400005, 'longitude': 6.736043393609999, 'country': 'Netherlands'}, 'OMMEN': {'latitude': 52.5098808529, 'longitude': 6.41733527184, 'country': 'Netherlands'}, 'DALFSEN': {'latitude': 52.4983345907, 'longitude': 6.259669661519999, 'country': 'Netherlands'}, 'DALEN': {'latitude': 52.6945957245, 'longitude': 6.75813943148, 'country': 'Netherlands'}, 'GRAMSBERGEN': {'latitude': 52.6102796771, 'longitude': 6.67618989944, 'country': 'Netherlands'}, 'HELMOND': {'latitude': 51.475633029399994, 'longitude': 5.6617462635, 'country': 'Netherlands'}, 'DEURNE': {'latitude': 51.456223131099996, 'longitude': 5.78795492649, 'country': 'Netherlands'}, 'HORST-SEVENUM': {'latitude': 51.4269723896, 'longitude': 6.04165434837, 'country': 'Netherlands'}, 'NOORDERKEMPEN': {'latitude': 51.35722, 'longitude': 4.63292, 'country': 'Belgium'}, 'ANTWERPEN-BERCHEM': {'latitude': 51.1992334366, 'longitude': 4.43240404129, 'country': 'Belgium'}, 'MECHELEN': {'latitude': 51.0176154241, 'longitude': 4.48370933533, 'country': 'Belgium'}, 'BRUSSELS AIRPORT - ZAVENTEM': {'latitude': 50.896972872026396, 'longitude': 4.48417222693341, 'country': 'Belgium'}, 'BRUSSEL-NOORD': {'latitude': 50.860550195600005, 'longitude': 4.36170101166, 'country': 'Belgium'}, 'BRUSSEL-CENTRAAL': {'latitude': 50.8454052127, 'longitude': 4.3572807312, 'country': 'Belgium'}, 'UTRECHT MALIEBAAN': {'latitude': 52.0878922661, 'longitude': 5.13117313385, 'country': 'Netherlands'}, 'GORINCHEM': {'latitude': 51.833573145699994, 'longitude': 4.96739208698, 'country': 'Netherlands'}, 'BOVEN-HARDINXVELD': {'latitude': 51.8321244979, 'longitude': 4.87825155258, 'country': 'Netherlands'}, 'HARDINXVELD-GIESSENDAM': {'latitude': 51.8304669489, 'longitude': 4.8359182477, 'country': 'Netherlands'}, 'SLIEDRECHT': {'latitude': 51.8294757054, 'longitude': 4.77819979191, 'country': 'Netherlands'}, 'SLIEDRECHT BAANHOEK': {'latitude': 51.8283783503, 'longitude': 4.74259614944, 'country': 'Netherlands'}, 'DORDRECHT STADSPOLDERS': {'latitude': 51.802089, 'longitude': 4.71666, 'country': 'Netherlands'}, 'RAVENSTEIN': {'latitude': 51.7947783926, 'longitude': 5.63749372959, 'country': 'Netherlands'}, 'OSS WEST': {'latitude': 51.7583709192, 'longitude': 5.50670385361, 'country': 'Netherlands'}, 'ROSMALEN': {'latitude': 51.715151026, 'longitude': 5.369237959380001, 'country': 'Netherlands'}, \"HERTOGENB ('S) OOST\": {'latitude': 51.700797, 'longitude': 5.31849, 'country': 'Netherlands'}, 'TILBURG UNIVERSITEIT': {'latitude': 51.5651563853, 'longitude': 5.05010604858, 'country': 'Netherlands'}, 'TILBURG REESHOF': {'latitude': 51.573855661, 'longitude': 4.99356508255, 'country': 'Netherlands'}, 'GILZE-RIJEN': {'latitude': 51.5841365983, 'longitude': 4.92407441139, 'country': 'Netherlands'}, 'BREDA-PRINSENBEEK': {'latitude': 51.605291207600004, 'longitude': 4.72233474255, 'country': 'Netherlands'}, 'HARDINXVELD BLAUWE ZOOM': {'latitude': 51.8296381515, 'longitude': 4.81545031071, 'country': 'Netherlands'}, 'ARKEL': {'latitude': 51.87228316970001, 'longitude': 4.99302327633, 'country': 'Netherlands'}, 'LEERDAM': {'latitude': 51.89451332270001, 'longitude': 5.09360611439, 'country': 'Netherlands'}, 'BEESD': {'latitude': 51.8992801072, 'longitude': 5.19542276859, 'country': 'Netherlands'}, 'GELDERMALSEN': {'latitude': 51.882627262, 'longitude': 5.27143657207, 'country': 'Netherlands'}, 'ESSEN (B)': {'latitude': 51.4626906725, 'longitude': 4.45137798786, 'country': 'Belgium'}, 'WILDERT': {'latitude': 51.428119, 'longitude': 4.46176, 'country': 'Belgium'}, 'KALMTHOUT': {'latitude': 51.391035363, 'longitude': 4.466806054119999, 'country': 'Belgium'}, 'KIJKUIT': {'latitude': 51.379801, 'longitude': 4.4673300000000005, 'country': 'Belgium'}, 'HEIDE (B)': {'latitude': 51.3648946937, 'longitude': 4.46022391319, 'country': 'Belgium'}, 'KAPELLEN': {'latitude': 51.312666, 'longitude': 4.43268, 'country': 'Belgium'}, 'SINT-MARIABURG': {'latitude': 51.2917156499, 'longitude': 4.43477511406, 'country': 'Belgium'}, 'EKEREN': {'latitude': 51.281742815600005, 'longitude': 4.43411529064, 'country': 'Belgium'}, 'ANTWERPEN-NOORDERDOKKEN': {'latitude': 51.261667, 'longitude': 4.427778, 'country': 'Belgium'}, 'ANTWERPEN-LUCHTBAL': {'latitude': 51.24489000000001, 'longitude': 4.42507, 'country': 'Belgium'}, 'ANTWERPEN-ZUID': {'latitude': 51.197762, 'longitude': 4.39015, 'country': 'Belgium'}, 'PUURS': {'latitude': 51.07714, 'longitude': 4.28259, 'country': 'Belgium'}, 'HELMOND BROUWHUIS': {'latitude': 51.47127800000001, 'longitude': 5.7005300000000005, 'country': 'Netherlands'}, \"HELMOND 'T HOUT\": {'latitude': 51.4678673875, 'longitude': 5.6306996941600005, 'country': 'Netherlands'}, 'HELMOND BRANDEVOORT': {'latitude': 51.4621926876, 'longitude': 5.607259869580001, 'country': 'Netherlands'}, 'EINDHOVEN STRIJP-S': {'latitude': 51.4501458154, 'longitude': 5.45702934265, 'country': 'Netherlands'}, 'BEST': {'latitude': 51.509764116499994, 'longitude': 5.38915872574, 'country': 'Netherlands'}, 'BOXTEL': {'latitude': 51.5850365697, 'longitude': 5.3188097477, 'country': 'Netherlands'}, 'VUGHT': {'latitude': 51.6555970917, 'longitude': 5.29214054346, 'country': 'Netherlands'}, 'BARNEVELD ZUID': {'latitude': 52.128821, 'longitude': 5.60232, 'country': 'Netherlands'}, 'BARNEVELD CENTRUM': {'latitude': 52.1396188273, 'longitude': 5.59076964855, 'country': 'Netherlands'}, 'BARNEVELD NOORD': {'latitude': 52.1609712126, 'longitude': 5.59876799583, 'country': 'Netherlands'}, 'HOEVELAKEN': {'latitude': 52.166456598500005, 'longitude': 5.45878887177, 'country': 'Netherlands'}, 'MAARHEEZE': {'latitude': 51.3038965117, 'longitude': 5.6306219101, 'country': 'Netherlands'}, 'HEEZE': {'latitude': 51.3850330688, 'longitude': 5.569612383840001, 'country': 'Netherlands'}, 'GELDROP': {'latitude': 51.4201184276, 'longitude': 5.55048286915, 'country': 'Netherlands'}, 'OISTERWIJK': {'latitude': 51.581949927, 'longitude': 5.19344329834, 'country': 'Netherlands'}, 'LUNTEREN': {'latitude': 52.0850871313, 'longitude': 5.62413096428, 'country': 'Netherlands'}, 'EDE CENTRUM': {'latitude': 52.0433914829, 'longitude': 5.6683498621, 'country': 'Netherlands'}, 'BUNDE (WESTF.)': {'latitude': 52.20217, 'longitude': 8.57414, 'country': 'Germany'}, 'BIELEFELD HBF': {'latitude': 52.029209, 'longitude': 8.532264999999999, 'country': 'Germany'}, 'EYGELSHOVEN MARKT': {'latitude': 50.896141173900006, 'longitude': 6.0579407215100005, 'country': 'Netherlands'}, 'HERZOGENRATH': {'latitude': 50.8708765783, 'longitude': 6.094708442690001, 'country': 'Germany'}, 'AACHEN WEST': {'latitude': 50.780327, 'longitude': 6.07072, 'country': 'Germany'}, 'AACHEN HBF': {'latitude': 50.768073, 'longitude': 6.09053, 'country': 'Germany'}, 'KALDENKIRCHEN': {'latitude': 51.32718, 'longitude': 6.2027, 'country': 'Germany'}, 'BREYELL': {'latitude': 51.295361, 'longitude': 6.23999, 'country': 'Germany'}, 'BOISHEIM': {'latitude': 51.274429, 'longitude': 6.27442, 'country': 'Germany'}, 'DULKEN': {'latitude': 51.257021, 'longitude': 6.3387, 'country': 'Germany'}, 'VIERSEN': {'latitude': 51.255028, 'longitude': 6.40427, 'country': 'Germany'}, 'MONCHENGLADBACH HBF': {'latitude': 51.196582, 'longitude': 6.44618, 'country': 'Germany'}, 'NEUSS HBF': {'latitude': 51.204862, 'longitude': 6.68463, 'country': 'Germany'}, 'DUSSELDORF HBF': {'latitude': 51.219948, 'longitude': 6.794289999999998, 'country': 'Germany'}, 'WUPPERTAL-VOHWINKEL': {'latitude': 51.233333, 'longitude': 7.072218, 'country': 'Germany'}, 'WUPPERTAL HBF': {'latitude': 51.254306, 'longitude': 7.14935, 'country': 'Germany'}, 'WUPPERTAL-BARMEN': {'latitude': 51.267076, 'longitude': 7.195989999999999, 'country': 'Germany'}, 'WUPPERTAL OBERBARMEN': {'latitude': 51.273869, 'longitude': 7.221489999999998, 'country': 'Germany'}, 'SCHWELM': {'latitude': 51.290649, 'longitude': 7.2907, 'country': 'Germany'}, 'ENNEPETAL': {'latitude': 51.304434, 'longitude': 7.3432, 'country': 'Germany'}, 'HAGEN HBF': {'latitude': 51.361585, 'longitude': 7.459389999999999, 'country': 'Germany'}, 'SCHWERTE (RUHR)': {'latitude': 51.442219, 'longitude': 7.55917, 'country': 'Germany'}, 'HOLZWICKEDE': {'latitude': 51.50508, 'longitude': 7.62052, 'country': 'Germany'}, 'UNNA': {'latitude': 51.53902, 'longitude': 7.6924100000000015, 'country': 'Germany'}, 'BOENEN': {'latitude': 51.598055, 'longitude': 7.75735, 'country': 'Germany'}, 'HAMM (WESTF.)': {'latitude': 51.678039, 'longitude': 7.807819999999999, 'country': 'Germany'}, 'ZALTBOMMEL': {'latitude': 51.8078253545, 'longitude': 5.26313245296, 'country': 'Netherlands'}, 'CULEMBORG': {'latitude': 51.947042484899995, 'longitude': 5.2267670631400005, 'country': 'Netherlands'}, 'TIEL PASSEWAAIJ': {'latitude': 51.874166047799996, 'longitude': 5.39250612259, 'country': 'Netherlands'}, 'WOLFSBURG HBF': {'latitude': 52.429479, 'longitude': 10.7882, 'country': 'Germany'}, 'STENDAL': {'latitude': 52.594739, 'longitude': 11.85439, 'country': 'Germany'}, 'BERLIN-SPANDAU': {'latitude': 52.534511, 'longitude': 13.19752, 'country': 'Germany'}, 'BERLIN HBF': {'latitude': 52.525631, 'longitude': 13.36951, 'country': 'Germany'}, 'BUITENPOST': {'latitude': 53.256298728400004, 'longitude': 6.14438831806, 'country': 'Netherlands'}, 'FEANWALDEN': {'latitude': 53.235157776099996, 'longitude': 5.9895926713900005, 'country': 'Netherlands'}, 'WINSCHOTEN': {'latitude': 53.1394131106, 'longitude': 7.03460544348, 'country': 'Netherlands'}, 'SCHEEMDA': {'latitude': 53.165485097799994, 'longitude': 6.97806179523, 'country': 'Netherlands'}, 'MANTGUM': {'latitude': 53.1297114948, 'longitude': 5.71334660053, 'country': 'Netherlands'}, 'SNEEK NOORD': {'latitude': 53.040092232700005, 'longitude': 5.66286206245, 'country': 'Netherlands'}, 'SNEEK': {'latitude': 53.032529645699995, 'longitude': 5.65191328526, 'country': 'Netherlands'}, 'IJLST': {'latitude': 53.0147203138, 'longitude': 5.616183578969999, 'country': 'Netherlands'}, 'WORKUM': {'latitude': 52.9722525479, 'longitude': 5.45658677816, 'country': 'Netherlands'}, 'HINDELOOPEN': {'latitude': 52.9464625417, 'longitude': 5.42302966118, 'country': 'Netherlands'}, 'KOUDUM-MOLKWERUM': {'latitude': 52.902818, 'longitude': 5.41069, 'country': 'Netherlands'}, 'STAVOREN': {'latitude': 52.8865572658, 'longitude': 5.36007285118, 'country': 'Netherlands'}, 'DEINUM': {'latitude': 53.18877547899999, 'longitude': 5.72818994522, 'country': 'Netherlands'}, 'DRONRYP': {'latitude': 53.177807, 'longitude': 5.63474, 'country': 'Netherlands'}, 'FRANEKER': {'latitude': 53.1824911512, 'longitude': 5.54953336716, 'country': 'Netherlands'}, 'HARLINGEN': {'latitude': 53.17047925510001, 'longitude': 5.42507350445, 'country': 'Netherlands'}, 'HARLINGEN HAVEN': {'latitude': 53.174874790299995, 'longitude': 5.41134059429, 'country': 'Netherlands'}, 'LEEUWARDEN CAMMINGHABUREN': {'latitude': 53.202186465, 'longitude': 5.842564702030001, 'country': 'Netherlands'}, 'HURDEGARYP': {'latitude': 53.2187973494, 'longitude': 5.93453228474, 'country': 'Netherlands'}, 'DE WESTEREEN': {'latitude': 53.2487500458, 'longitude': 6.03600561619, 'country': 'Netherlands'}, 'GRIJPSKERK': {'latitude': 53.2558943685, 'longitude': 6.30971431732, 'country': 'Netherlands'}, 'ZUIDHORN': {'latitude': 53.248136977799994, 'longitude': 6.40636503696, 'country': 'Netherlands'}, 'ZUIDBROEK': {'latitude': 53.1595511676, 'longitude': 6.867983937259999, 'country': 'Netherlands'}, 'HOOGEZAND-SAPPEMEER': {'latitude': 53.1598342138, 'longitude': 6.771064996719999, 'country': 'Netherlands'}, 'MARTENSHOEK': {'latitude': 53.1609084858, 'longitude': 6.74005866051, 'country': 'Netherlands'}, 'KROPSWOLDE': {'latitude': 53.1618315663, 'longitude': 6.722211241719999, 'country': 'Netherlands'}, 'ROODESCHOOL': {'latitude': 53.4191078355, 'longitude': 6.76065802574, 'country': 'Netherlands'}, 'UITHUIZERMEEDEN': {'latitude': 53.41406272850001, 'longitude': 6.720408797259999, 'country': 'Netherlands'}, 'UITHUIZEN': {'latitude': 53.40956063220001, 'longitude': 6.67419433594, 'country': 'Netherlands'}, 'USQUERT': {'latitude': 53.4010715416, 'longitude': 6.60928755999, 'country': 'Netherlands'}, 'WARFFUM': {'latitude': 53.3902518525, 'longitude': 6.56668066978, 'country': 'Netherlands'}, 'BAFLO': {'latitude': 53.361062566099996, 'longitude': 6.51864767075, 'country': 'Netherlands'}, 'WINSUM': {'latitude': 53.330136150200005, 'longitude': 6.5198975801499985, 'country': 'Netherlands'}, 'SAUWERD': {'latitude': 53.2915018915, 'longitude': 6.540132164959999, 'country': 'Netherlands'}, 'GRONINGEN NOORD': {'latitude': 53.23014499999999, 'longitude': 6.556310000000001, 'country': 'Netherlands'}, 'DELFZIJL': {'latitude': 53.3336375943, 'longitude': 6.923902630810001, 'country': 'Netherlands'}, 'DELFZIJL WEST': {'latitude': 53.332045482, 'longitude': 6.906548738480001, 'country': 'Netherlands'}, 'APPINGEDAM': {'latitude': 53.3258110056, 'longitude': 6.86195969582, 'country': 'Netherlands'}, 'LOPPERSUM': {'latitude': 53.3346530554, 'longitude': 6.747525930399999, 'country': 'Netherlands'}, 'STEDUM': {'latitude': 53.326201888599996, 'longitude': 6.68717086315, 'country': 'Netherlands'}, 'BEDUM': {'latitude': 53.3068360625, 'longitude': 6.592842936519999, 'country': 'Netherlands'}, 'VEENDAM': {'latitude': 53.1052844297, 'longitude': 6.886475086210001, 'country': 'Netherlands'}, 'ENSCHEDE DE ESCHMARKE': {'latitude': 52.2212782051, 'longitude': 6.951212882999999, 'country': 'Netherlands'}, 'GLANERBRUG': {'latitude': 52.218706588900005, 'longitude': 6.973620057110001, 'country': 'Netherlands'}, 'GRONAU WESTF': {'latitude': 52.2151537343, 'longitude': 7.021738886830001, 'country': 'Germany'}, 'EPE (WESTF)': {'latitude': 52.1837112458, 'longitude': 7.03027099371, 'country': 'Germany'}, 'AHAUS': {'latitude': 52.081615, 'longitude': 7.01669, 'country': 'Germany'}, 'LEGDEN': {'latitude': 52.035023, 'longitude': 7.08846, 'country': 'Germany'}, 'ROSENDAHL-HOLTWICK': {'latitude': 51.998474, 'longitude': 7.122610000000001, 'country': 'Germany'}, 'COESFELD (WESTF)': {'latitude': 51.939058, 'longitude': 7.16424, 'country': 'Germany'}, 'LETTE (KR COESFELD)': {'latitude': 51.89250300000001, 'longitude': 7.18695, 'country': 'Germany'}, 'DULMEN': {'latitude': 51.827941, 'longitude': 7.29581, 'country': 'Germany'}, 'LUDINGHAUSEN': {'latitude': 51.761816, 'longitude': 7.431669999999999, 'country': 'Germany'}, 'SELM': {'latitude': 51.70803400000001, 'longitude': 7.4531100000000015, 'country': 'Germany'}, 'SELM-BEIFANG': {'latitude': 51.692988, 'longitude': 7.45489, 'country': 'Germany'}, 'BORK (WESTF)': {'latitude': 51.669851, 'longitude': 7.4565800000000015, 'country': 'Germany'}, 'LUNEN HBF': {'latitude': 51.616569, 'longitude': 7.52953, 'country': 'Germany'}, 'PREUSSEN': {'latitude': 51.588875, 'longitude': 7.539339999999998, 'country': 'Germany'}, 'DORTMUND-DERNE': {'latitude': 51.567228, 'longitude': 7.52836, 'country': 'Germany'}, 'DORTMUND-KIRCHDERNE': {'latitude': 51.546969, 'longitude': 7.51024, 'country': 'Germany'}, 'DORTMUND HBF': {'latitude': 51.517853, 'longitude': 7.45931, 'country': 'Germany'}, 'KOLN HBF': {'latitude': 50.9430363837, 'longitude': 6.958937644960001, 'country': 'Germany'}, 'FRANKFURT FLUGHAFEN FERNB': {'latitude': 50.053196, 'longitude': 8.570139999999999, 'country': 'Germany'}, 'FRANKFURT (M) HBF': {'latitude': 50.10712, 'longitude': 8.66383, 'country': 'Germany'}, 'BONN HBF': {'latitude': 50.732021, 'longitude': 7.09708, 'country': 'Germany'}, 'KOBLENZ HBF': {'latitude': 50.351088, 'longitude': 7.58863, 'country': 'Germany'}, 'MAINZ HBF': {'latitude': 50.001107, 'longitude': 8.258713, 'country': 'Germany'}, 'WURZBURG HBF': {'latitude': 49.801554, 'longitude': 9.935785, 'country': 'Germany'}, 'NURNBERG HBF': {'latitude': 49.446389, 'longitude': 11.081944, 'country': 'Germany'}, 'AUGSBURG HBF': {'latitude': 48.365473, 'longitude': 10.8856, 'country': 'Germany'}, 'MUNCHEN HBF': {'latitude': 48.140183, 'longitude': 11.55841, 'country': 'Germany'}, 'KUFSTEIN': {'latitude': 47.583022, 'longitude': 12.16495, 'country': 'Austria'}, 'WORGL': {'latitude': 47.491722, 'longitude': 12.06013, 'country': 'Austria'}, 'JENBACH': {'latitude': 47.388199, 'longitude': 11.77466, 'country': 'Austria'}, 'INNSBRUCK HBF': {'latitude': 47.264072, 'longitude': 11.39819, 'country': 'Austria'}, 'BAD NIEUWESCHANS': {'latitude': 53.1848281929, 'longitude': 7.20052957535, 'country': 'Netherlands'}})"
      ]
     },
     "execution_count": 22,
     "metadata": {},
     "output_type": "execute_result"
    },
    {
     "data": {
      "text/plain": [
       "EdgeDataView([('AMSTERDAM CENTRAAL', 'SCHIPHOL AIRPORT', {'route_id': {59426, 17795, 67402, 66765, 17615, 17522, 77589, 77625, 77631}}), ('AMSTERDAM CENTRAAL', 'AMSTERDAM SLOTERDIJK', {'route_id': {17792, 61920, 76993, 41226, 17803, 46093, 77614, 41202, 17748, 46036, 52984, 52986, 17661, 52990, 41214}}), ('AMSTERDAM CENTRAAL', 'HILVERSUM', {'route_id': {76452, 77638, 67431, 77592, 77593, 77628, 17725}}), ('AMSTERDAM CENTRAAL', 'AMSTERDAM MUIDERPOORT', {'route_id': {61920, 46084, 77610, 46092, 17748}}), ('AMSTERDAM CENTRAAL', 'AMSTERDAM AMSTEL', {'route_id': {17792, 77614, 52984, 52986, 52990}}), ('AMSTERDAM CENTRAAL', 'ALMERE CENTRUM', {'route_id': {45189, 44942}}), ('AMSTERDAM CENTRAAL', 'UTRECHT CENTRAAL', {'route_id': {77633, 77602, 77634, 77604, 67402, 66765}}), ('AMSTERDAM CENTRAAL', 'HAARLEM', {'route_id': {74608}}), ('AMSTERDAM CENTRAAL', 'HILVERSUM MEDIA PARK', {'route_id': {75061}}), ('AMSTERDAM CENTRAAL', 'AMSTERDAM BIJLMER ARENA', {'route_id': {77624, 77625, 77626}}), ('AMSTERDAM CENTRAAL', 'LEIDEN CENTRAAL', {'route_id': {77624}}), ('SCHIPHOL AIRPORT', 'ROTTERDAM CENTRAAL', {'route_id': {59426, 17795, 17615, 17522, 77589}}), ('SCHIPHOL AIRPORT', 'HOOFDDORP', {'route_id': {76993, 77608, 41228, 46093, 46036, 41206, 17599}}), ('SCHIPHOL AIRPORT', 'AMSTERDAM ZUID', {'route_id': {31682, 66117, 41223, 53898, 77616, 41206, 17782, 41238, 31675, 31677, 17599}}), ('SCHIPHOL AIRPORT', 'LEIDEN CENTRAAL', {'route_id': {66117, 41223, 67402, 66765, 17782, 41238, 77625, 20895}}), ('SCHIPHOL AIRPORT', 'AMSTERDAM BIJLMER ARENA', {'route_id': {77599, 20895}}), ('SCHIPHOL AIRPORT', 'AMSTERDAM LELYLAAN', {'route_id': {77608, 46036, 41228, 46093}}), ('SCHIPHOL AIRPORT', 'AMSTERDAM SLOTERDIJK', {'route_id': {76993}}), ('SCHIPHOL AIRPORT', 'DEN HAAG HS', {'route_id': {77631}}), ('ROTTERDAM CENTRAAL', 'ROTTERDAM ALEXANDER', {'route_id': {17562, 41210, 17614}}), ('ROTTERDAM CENTRAAL', 'BREDA', {'route_id': {59426, 67394, 17615, 77589, 75062, 77631}}), ('ROTTERDAM CENTRAAL', 'ROTTERDAM NOORD', {'route_id': {41200, 17651, 17748}}), ('ROTTERDAM CENTRAAL', 'ANTWERPEN-CENTRAAL', {'route_id': {17795}}), ('ROTTERDAM CENTRAAL', 'ROTTERDAM BLAAK', {'route_id': {66117, 41202, 43187, 41238, 41239}}), ('ROTTERDAM CENTRAAL', 'SCHIEDAM CENTRUM', {'route_id': {66117, 41202, 43187, 41238, 41239}}), ('ROTTERDAM CENTRAAL', 'GOUDA', {'route_id': {77620, 66765}}), ('ROTTERDAM CENTRAAL', 'DELFT', {'route_id': {77624, 77625, 67394, 67402}}), ('ROTTERDAM CENTRAAL', 'DORDRECHT', {'route_id': {67395}}), ('ROTTERDAM CENTRAAL', \"HERTOGENBOSCH ('S)\", {'route_id': {67395}}), ('ROTTERDAM CENTRAAL', 'DEN HAAG HS', {'route_id': {75062, 77631}}), ('UTRECHT CENTRAAL', 'GOUDA', {'route_id': {17601, 67399, 17705, 41210, 17614, 77622, 77623, 17562}}), ('UTRECHT CENTRAAL', 'WOERDEN', {'route_id': {17573}}), ('UTRECHT CENTRAAL', 'AMERSFOORT CENTRAAL', {'route_id': {17601, 67399, 17705, 17614, 77622, 41210, 67422}}), ('UTRECHT CENTRAAL', 'UTRECHT OVERVECHT', {'route_id': {41217, 77607, 17641, 44947, 41206, 17627}}), ('UTRECHT CENTRAAL', 'UTRECHT LEIDSCHE RIJN', {'route_id': {73488, 73489, 17651}}), ('UTRECHT CENTRAAL', 'AMSTERDAM AMSTEL', {'route_id': {17792, 77614, 52984, 52986, 52990}}), ('UTRECHT CENTRAAL', 'VEENENDAAL-DE KLOMP', {'route_id': {17792}}), ('UTRECHT CENTRAAL', 'EDE-WAGENINGEN', {'route_id': {18752}}), ('UTRECHT CENTRAAL', 'DRIEBERGEN-ZEIST', {'route_id': {31677, 77598}}), ('UTRECHT CENTRAAL', 'AMSTERDAM BIJLMER ARENA', {'route_id': {66117, 53898, 77616, 77624, 77625, 77626, 31677}}), ('UTRECHT CENTRAAL', 'HOUTEN CASTELLUM', {'route_id': {52979}}), ('UTRECHT CENTRAAL', 'UTRECHT VAARTSCHE RIJN', {'route_id': {61920, 77615, 73488, 73489, 52979, 77630, 52991}}), ('UTRECHT CENTRAAL', \"HERTOGENBOSCH ('S)\", {'route_id': {77602, 67395, 77604, 66117, 53898, 77614, 52984, 52986, 52990}}), ('UTRECHT CENTRAAL', 'UTRECHT ZUILEN', {'route_id': {61920, 77615, 52991}}), ('UTRECHT CENTRAAL', 'UTRECHT MALIEBAAN', {'route_id': {60129}}), ('UTRECHT CENTRAAL', 'UTRECHT CENTRAAL', {'route_id': {66765}}), ('UTRECHT CENTRAAL', 'HILVERSUM SPORTPARK', {'route_id': {75061}}), ('UTRECHT CENTRAAL', 'ARNHEM CENTRAAL', {'route_id': {77633, 77634}}), ('GOUDA', 'ROTTERDAM ALEXANDER', {'route_id': {17562, 41210, 17614}}), ('GOUDA', 'DEN HAAG CENTRAAL', {'route_id': {17601, 67399, 17705, 77622, 77623}}), ('GOUDA', 'GOUDA GOVERWELLE', {'route_id': {45194, 41200, 73489, 17651, 17748}}), ('GOUDA', 'NIEUWERKERK AD IJSSEL', {'route_id': {41200, 17651, 17748}}), ('GOUDA', 'WADDINXVEEN TRIANGEL', {'route_id': {51587, 41221}}), ('GOUDA', 'LANSINGERLAND-ZOETERMEER', {'route_id': {73489, 45194}}), ('GOUDA', 'DEN HAAG HS', {'route_id': {77620, 66765}}), ('GOUDA', 'GOUDA', {'route_id': {77620, 66765}}), ('ROTTERDAM ALEXANDER', 'CAPELLE SCHOLLEVAAR', {'route_id': {41200, 17651, 17748}}), ('ROTTERDAM ALEXANDER', 'ROTTERDAM NOORD', {'route_id': {41200, 17651, 17748}}), ('WOERDEN', 'BODEGRAVEN', {'route_id': {17573}}), ('WOERDEN', 'VLEUTEN', {'route_id': {73488, 73489, 17651}}), ('WOERDEN', 'GOUDA GOVERWELLE', {'route_id': {73489, 17651, 17748}}), ('WOERDEN', 'BREUKELEN', {'route_id': {17748}}), ('BODEGRAVEN', 'ALPHEN A/D RIJN', {'route_id': {17573}}), ('ALPHEN A/D RIJN', 'LEIDEN LAMMENSCHANS', {'route_id': {41201, 17573}}), ('ALPHEN A/D RIJN', 'BOSKOOP', {'route_id': {51587, 41221}}), ('LEIDEN LAMMENSCHANS', 'LEIDEN CENTRAAL', {'route_id': {41201, 17573}}), ('LEIDEN CENTRAAL', 'HEEMSTEDE-AERDENHOUT', {'route_id': {41202, 17661}}), ('LEIDEN CENTRAAL', 'DEN HAAG CENTRAAL', {'route_id': {17661, 17782, 41223}}), ('LEIDEN CENTRAAL', 'VOORHOUT', {'route_id': {17828, 77596}}), ('LEIDEN CENTRAAL', 'DE VINK', {'route_id': {46036, 17828}}), ('LEIDEN CENTRAAL', 'DEN HAAG LAAN V NOI', {'route_id': {41202, 66117, 41238}}), ('LEIDEN CENTRAAL', 'SASSENHEIM', {'route_id': {46036, 41228}}), ('LEIDEN CENTRAAL', 'DEN HAAG HS', {'route_id': {77624, 77625, 67402, 66765}}), ('LEIDEN CENTRAAL', 'HOOFDDORP', {'route_id': {76993}}), ('HOOFDDORP', 'NIEUW VENNEP', {'route_id': {46036, 41228}}), ('AMSTERDAM ZUID', 'AMSTERDAM RAI', {'route_id': {41206, 17599}}), ('AMSTERDAM ZUID', 'ALMERE CENTRUM', {'route_id': {17782, 41223}}), ('AMSTERDAM ZUID', 'DUIVENDRECHT', {'route_id': {31682, 31675, 41238}}), ('AMSTERDAM ZUID', 'AMSTERDAM BIJLMER ARENA', {'route_id': {77616, 53898, 66117, 31677}}), ('AMSTERDAM RAI', 'DUIVENDRECHT', {'route_id': {41206, 17599}}), ('DUIVENDRECHT', 'DIEMEN ZUID', {'route_id': {41206, 17599}}), ('DUIVENDRECHT', 'AMSTERDAM AMSTEL', {'route_id': {61920, 17748}}), ('DUIVENDRECHT', 'AMSTERDAM BIJLMER ARENA', {'route_id': {61920, 17748}}), ('DUIVENDRECHT', 'HILVERSUM', {'route_id': {31682, 31675}}), ('DUIVENDRECHT', 'ALMERE CENTRUM', {'route_id': {41238}}), ('DIEMEN ZUID', 'WEESP', {'route_id': {41206, 17599}}), ('WEESP', 'ALMERE POORT', {'route_id': {46092, 17599}}), ('WEESP', 'NAARDEN-BUSSUM', {'route_id': {77610, 46084, 41206}}), ('WEESP', 'DIEMEN', {'route_id': {77610, 46084, 46092}}), ('ALMERE POORT', 'ALMERE MUZIEKWIJK', {'route_id': {41217, 44947, 46092, 17599}}), ('ALMERE POORT', 'NAARDEN-BUSSUM', {'route_id': {41217, 44947}}), ('ALMERE MUZIEKWIJK', 'ALMERE CENTRUM', {'route_id': {41217, 44947, 46092, 17599}}), ('ALMERE CENTRUM', 'ALMERE PARKWIJK', {'route_id': {46092, 17599}}), ('ALMERE CENTRUM', 'LELYSTAD CENTRUM', {'route_id': {45189, 17782, 41223}}), ('ALMERE CENTRUM', 'ALMERE BUITEN', {'route_id': {41238}}), ('ALMERE PARKWIJK', 'ALMERE BUITEN', {'route_id': {46092, 17599}}), ('ALMERE BUITEN', 'ALMERE OOSTVAARDERS', {'route_id': {46092, 17599}}), ('ALMERE BUITEN', 'LELYSTAD CENTRUM', {'route_id': {41238}}), ('ALMERE OOSTVAARDERS', 'LELYSTAD CENTRUM', {'route_id': {46092}}), ('AMERSFOORT SCHOTHORST', 'AMERSFOORT CENTRAAL', {'route_id': {17601, 31675, 46084, 17641}}), ('AMERSFOORT SCHOTHORST', 'AMERSFOORT VATHORST', {'route_id': {17641, 46084}}), ('AMERSFOORT CENTRAAL', 'ZWOLLE', {'route_id': {41210, 17614}}), ('AMERSFOORT CENTRAAL', 'DEN DOLDER', {'route_id': {17641}}), ('AMERSFOORT CENTRAAL', 'APELDOORN', {'route_id': {31682, 76452, 77638, 17705, 77622, 77593, 77628, 17725}}), ('AMERSFOORT CENTRAAL', 'HILVERSUM', {'route_id': {31682, 76452, 77638, 67431, 77592, 77593, 31675, 77628, 17725}}), ('AMERSFOORT CENTRAAL', 'BAARN', {'route_id': {77610, 46084}}), ('AMERSFOORT CENTRAAL', 'NIJKERK', {'route_id': {67404}}), ('AMERSFOORT CENTRAAL', 'HOEVELAKEN', {'route_id': {67419, 67406}}), ('AMERSFOORT CENTRAAL', 'DEVENTER', {'route_id': {77592}}), ('DEN HAAG CENTRAAL', 'DEN HAAG LAAN V NOI', {'route_id': {17828, 46036}}), ('DEN HAAG CENTRAAL', 'DEN HAAG HS', {'route_id': {67394, 43187, 41239}}), ('DEN HAAG CENTRAAL', 'VOORBURG', {'route_id': {73489, 45194}}), ('GRONINGEN', 'ASSEN', {'route_id': {17782, 17614}}), ('GRONINGEN', 'GRONINGEN EUROPAPARK', {'route_id': {41220, 45189, 77641, 76978, 76984, 51610, 76987}}), ('GRONINGEN', 'BUITENPOST', {'route_id': {76977}}), ('GRONINGEN', 'ZUIDHORN', {'route_id': {77639, 76983}}), ('GRONINGEN', 'GRONINGEN NOORD', {'route_id': {76985, 76986}}), ('ASSEN', 'ZWOLLE', {'route_id': {17782, 17614}}), ('ASSEN', 'HAREN', {'route_id': {51610, 41220, 45189}}), ('ASSEN', 'BEILEN', {'route_id': {41220, 45189}}), ('ZWOLLE', 'WEZEP', {'route_id': {17641}}), ('ZWOLLE', 'WIJHE', {'route_id': {17658}}), ('ZWOLLE', 'LELYSTAD CENTRUM', {'route_id': {17782, 41223}}), ('ZWOLLE', 'MEPPEL', {'route_id': {41210, 41220, 45189, 41223}}), ('ZWOLLE', 'KAMPEN ZUID', {'route_id': {46092, 45189}}), ('ZWOLLE', 'ZWOLLE STADSHAGEN', {'route_id': {52982}}), ('ZWOLLE', 'HEINO', {'route_id': {52989}}), ('ZWOLLE', 'DALFSEN', {'route_id': {77637, 53004, 52996, 76117}}), ('ZWOLLE', 'RAALTE', {'route_id': {61275}}), ('BREDA', 'ETTEN-LEUR', {'route_id': {17658}}), ('BREDA', 'TILBURG', {'route_id': {67416, 17658, 67395, 67394}}), ('BREDA', 'NOORDERKEMPEN', {'route_id': {59426, 77642, 77589, 75062, 77631}}), ('BREDA', 'GILZE-RIJEN', {'route_id': {77617, 61914}}), ('BREDA', 'BREDA-PRINSENBEEK', {'route_id': {77617, 61914}}), ('BREDA', 'DORDRECHT', {'route_id': {67416, 67395}}), ('LEEUWARDEN', 'GROU-JIRNSUM', {'route_id': {17620}}), ('LEEUWARDEN', 'HEERENVEEN', {'route_id': {41210, 41223}}), ('LEEUWARDEN', 'FEANWALDEN', {'route_id': {76977, 77639}}), ('LEEUWARDEN', 'MANTGUM', {'route_id': {76980, 76981}}), ('LEEUWARDEN', 'DEINUM', {'route_id': {76982}}), ('LEEUWARDEN', 'LEEUWARDEN CAMMINGHABUREN', {'route_id': {76983}}), ('LEEUWARDEN', 'SNEEK NOORD', {'route_id': {77640}}), ('GROU-JIRNSUM', 'AKKRUM', {'route_id': {17620}}), ('AKKRUM', 'HEERENVEEN', {'route_id': {17620}}), ('HEERENVEEN', 'WOLVEGA', {'route_id': {17620}}), ('HEERENVEEN', 'STEENWIJK', {'route_id': {41210, 41223}}), ('WOLVEGA', 'STEENWIJK', {'route_id': {17620}}), ('STEENWIJK', 'MEPPEL', {'route_id': {41210, 17620, 41223}}), ('MEPPEL', 'HOOGEVEEN', {'route_id': {41220, 45189}}), ('UTRECHT OVERVECHT', 'BILTHOVEN', {'route_id': {17641, 17627}}), ('UTRECHT OVERVECHT', 'HOLLANDSCHE RADING', {'route_id': {41217, 41206, 77607}}), ('UTRECHT OVERVECHT', 'HILVERSUM SPORTPARK', {'route_id': {44947}}), ('BILTHOVEN', 'DEN DOLDER', {'route_id': {17641, 17627}}), ('DEN DOLDER', 'SOEST ZUID', {'route_id': {17627}}), ('SOEST ZUID', 'SOEST', {'route_id': {17627}}), ('SOEST', 'SOESTDIJK', {'route_id': {17627}}), ('SOESTDIJK', 'BAARN', {'route_id': {17627}}), ('BAARN', 'HILVERSUM', {'route_id': {77610, 46084}}), ('WEZEP', \"HARDE ('T)\", {'route_id': {17641}}), (\"HARDE ('T)\", 'NUNSPEET', {'route_id': {17641}}), ('NUNSPEET', 'HARDERWIJK', {'route_id': {17641}}), ('HARDERWIJK', 'ERMELO', {'route_id': {17641}}), ('HARDERWIJK', 'NIJKERK', {'route_id': {67404}}), ('ERMELO', 'PUTTEN', {'route_id': {17641}}), ('PUTTEN', 'NIJKERK', {'route_id': {17641}}), ('NIJKERK', 'AMERSFOORT VATHORST', {'route_id': {17641}}), ('UTRECHT LEIDSCHE RIJN', 'UTRECHT TERWIJDE', {'route_id': {73488, 73489, 17651}}), ('UTRECHT TERWIJDE', 'VLEUTEN', {'route_id': {73488, 73489, 17651}}), ('NIEUWERKERK AD IJSSEL', 'CAPELLE SCHOLLEVAAR', {'route_id': {41200, 17651, 17748}}), ('ROOSENDAAL', 'ETTEN-LEUR', {'route_id': {17658}}), ('ROOSENDAAL', 'BERGEN OP ZOOM', {'route_id': {41202, 52987, 77612, 77613}}), ('ROOSENDAAL', 'DORDRECHT', {'route_id': {41202}}), ('ROOSENDAAL', 'OUDENBOSCH', {'route_id': {41208}}), ('ROOSENDAAL', 'ESSEN (B)', {'route_id': {77627, 67415, 61919}}), ('TILBURG', \"HERTOGENBOSCH ('S)\", {'route_id': {77617, 17658, 67395, 61914}}), ('TILBURG', 'TILBURG UNIVERSITEIT', {'route_id': {77617, 61914, 67412}}), ('TILBURG', 'EINDHOVEN CENTRAAL', {'route_id': {67416, 67394, 67395}}), ('TILBURG', 'OISTERWIJK', {'route_id': {67412}}), ('TILBURG', 'BOXTEL', {'route_id': {67416}}), (\"HERTOGENBOSCH ('S)\", 'OSS', {'route_id': {17658}}), (\"HERTOGENBOSCH ('S)\", 'EINDHOVEN CENTRAAL', {'route_id': {67395, 66117, 53898, 77614, 52984, 52986, 52990}}), (\"HERTOGENBOSCH ('S)\", \"HERTOGENB ('S) OOST\", {'route_id': {77617, 77618, 61916, 61914}}), (\"HERTOGENBOSCH ('S)\", 'VUGHT', {'route_id': {77619, 66763}}), (\"HERTOGENBOSCH ('S)\", 'ZALTBOMMEL', {'route_id': {73488, 77630}}), (\"HERTOGENBOSCH ('S)\", 'MONCHENGLADBACH HBF', {'route_id': {77602, 77604}}), ('OSS', 'NIJMEGEN', {'route_id': {17658}}), ('OSS', 'RAVENSTEIN', {'route_id': {77617, 77618, 61916, 61914}}), ('OSS', 'OSS WEST', {'route_id': {77618, 77617, 61914, 61916}}), ('NIJMEGEN', 'ARNHEM CENTRAAL', {'route_id': {17792, 17658, 31677}}), ('NIJMEGEN', 'ELST', {'route_id': {18752, 77598}}), ('NIJMEGEN', 'NIJMEGEN LENT', {'route_id': {77609, 61914, 61916, 41236}}), ('NIJMEGEN', 'NIJMEGEN GOFFERT', {'route_id': {77617, 77618, 41236, 61914, 61916}}), ('NIJMEGEN', 'NIJMEGEN HEYENDAAL', {'route_id': {45226, 45227}}), ('ARNHEM CENTRAAL', 'DIEREN', {'route_id': {17658}}), ('ARNHEM CENTRAAL', 'EDE-WAGENINGEN', {'route_id': {18752, 17792, 31677, 77598}}), ('ARNHEM CENTRAAL', 'ELST', {'route_id': {18752, 37307, 77598}}), ('ARNHEM CENTRAAL', 'ARNHEM VELPERPOORT', {'route_id': {37218, 77609, 41236, 67615, 37247}}), ('ARNHEM CENTRAAL', 'OOSTERBEEK', {'route_id': {37294}}), ('ARNHEM CENTRAAL', 'ARNHEM ZUID', {'route_id': {77609, 61914, 61916, 41236}}), ('ARNHEM CENTRAAL', 'DUSSELDORF HBF', {'route_id': {77633, 77634}}), ('DIEREN', 'ZUTPHEN', {'route_id': {17658}}), ('DIEREN', 'BRUMMEN', {'route_id': {77609, 41236}}), ('DIEREN', 'RHEDEN', {'route_id': {77609, 41236}}), ('ZUTPHEN', 'DEVENTER', {'route_id': {17658}}), ('ZUTPHEN', 'VORDEN', {'route_id': {17752, 66772}}), ('ZUTPHEN', 'VOORST-EMPE', {'route_id': {17773}}), ('ZUTPHEN', 'BRUMMEN', {'route_id': {77609, 41236}}), ('ZUTPHEN', 'LOCHEM', {'route_id': {52993}}), ('ZUTPHEN', 'APELDOORN', {'route_id': {66772, 77621}}), ('DEVENTER', 'OLST', {'route_id': {17658}}), ('DEVENTER', 'ALMELO', {'route_id': {31682, 76452, 77638, 17705, 77592, 77593, 17725}}), ('DEVENTER', 'APELDOORN', {'route_id': {31682, 76452, 77638, 17705, 77622, 77593, 77628, 17725}}), ('DEVENTER', 'DEVENTER COLMSCHATE', {'route_id': {41216, 77606}}), ('DEVENTER', 'TWELLO', {'route_id': {41216, 77606}}), ('OLST', 'WIJHE', {'route_id': {17658}}), ('AMSTERDAM SLOTERDIJK', 'HAARLEM', {'route_id': {41202, 17661}}), ('AMSTERDAM SLOTERDIJK', 'ZAANDAM', {'route_id': {17792, 61920, 77608, 41228, 77614, 17748, 52990}}), ('AMSTERDAM SLOTERDIJK', 'HALFWEG-ZWANENBURG', {'route_id': {41226, 17803}}), ('AMSTERDAM SLOTERDIJK', 'HOORN', {'route_id': {52984, 52986, 41214}}), ('AMSTERDAM SLOTERDIJK', 'AMSTERDAM LELYLAAN', {'route_id': {77608, 46036, 41228, 46093}}), ('HAARLEM', 'HEEMSTEDE-AERDENHOUT', {'route_id': {41202, 77596, 17828, 17661}}), ('HAARLEM', 'HAARLEM SPAARNWOUDE', {'route_id': {41226, 17803}}), ('HAARLEM', 'OVERVEEN', {'route_id': {17803}}), ('HAARLEM', 'BEVERWIJK', {'route_id': {31704}}), ('HAARLEM', 'BLOEMENDAAL', {'route_id': {41226}}), ('HEEMSTEDE-AERDENHOUT', 'HILLEGOM', {'route_id': {17828, 77596}}), ('ENSCHEDE', 'HENGELO', {'route_id': {17705, 31682, 61275}}), ('ENSCHEDE', 'ENSCHEDE KENNISPARK', {'route_id': {52989, 77606}}), ('ENSCHEDE', 'ENSCHEDE DE ESCHMARKE', {'route_id': {77594}}), ('HENGELO', 'ALMELO', {'route_id': {31682, 76452, 77638, 17705, 77592, 77593, 61275, 17725}}), ('HENGELO', 'BAD BENTHEIM', {'route_id': {76452, 77574, 77638, 77592, 77593, 17725}}), ('HENGELO', 'BORNE', {'route_id': {52989, 77606}}), ('HENGELO', 'ENSCHEDE KENNISPARK', {'route_id': {52989, 77606}}), ('HENGELO', 'HENGELO OOST', {'route_id': {52993, 77367}}), ('HENGELO', 'HENGELO GEZONDHEIDSPARK', {'route_id': {52993}}), ('HENGELO', 'OLDENZAAL', {'route_id': {67425}}), ('ALMELO', 'WIERDEN', {'route_id': {41216, 52989, 77606}}), ('ALMELO', 'VRIEZENVEEN', {'route_id': {52985}}), ('ALMELO', 'ALMELO DE RIET', {'route_id': {52989, 77606}}), ('ALMELO', 'NIJVERDAL', {'route_id': {61275}}), ('APELDOORN', 'APELDOORN DE MATEN', {'route_id': {17773}}), ('APELDOORN', 'APELDOORN OSSEVELD', {'route_id': {41216, 77606}}), ('HILVERSUM', 'HILVERSUM MEDIA PARK', {'route_id': {77610, 46084, 75061, 41206}}), ('HILVERSUM', 'HILVERSUM SPORTPARK', {'route_id': {41217, 77607, 44947, 75061, 41206}}), ('HILVERSUM', 'NAARDEN-BUSSUM', {'route_id': {41217, 44947}}), ('BAD BENTHEIM', 'RHEINE', {'route_id': {67425, 76452, 77638, 77592, 77593, 17725}}), ('BAD BENTHEIM', 'OLDENZAAL', {'route_id': {67425}}), ('RHEINE', 'OSNABRUCK HBF', {'route_id': {67425, 76452, 77638, 77592, 77593, 17725}}), ('OSNABRUCK HBF', 'BAD OEYNHAUSEN', {'route_id': {76452, 17725}}), ('OSNABRUCK HBF', 'BUNDE (WESTF.)', {'route_id': {77592, 67425, 77593, 77638}}), ('BAD OEYNHAUSEN', 'MINDEN (WESTF)', {'route_id': {77593, 76452, 17725}}), ('BAD OEYNHAUSEN', 'BUNDE (WESTF.)', {'route_id': {77593}}), ('MINDEN (WESTF)', 'HANNOVER HBF', {'route_id': {76452, 77638, 77592, 77593, 17725}}), ('MINDEN (WESTF)', 'BUNDE (WESTF.)', {'route_id': {77592, 77638}}), ('HANNOVER HBF', 'WOLFSBURG HBF', {'route_id': {77593, 76452, 77638}}), ('UITGEEST', 'KROMMENIE-ASSENDELFT', {'route_id': {61920, 17748}}), ('UITGEEST', 'CASTRICUM', {'route_id': {41226}}), ('UITGEEST', 'HEEMSKERK', {'route_id': {41226}}), ('KROMMENIE-ASSENDELFT', 'WORMERVEER', {'route_id': {61920, 17748}}), ('WORMERVEER', 'ZAANDIJK ZAANSE SCHANS', {'route_id': {61920, 17748}}), ('ZAANDIJK ZAANSE SCHANS', 'KOOG AAN DE ZAAN', {'route_id': {61920, 17748}}), ('KOOG AAN DE ZAAN', 'ZAANDAM', {'route_id': {61920, 17748}}), ('ZAANDAM', 'CASTRICUM', {'route_id': {17792, 77614, 52990}}), ('ZAANDAM', 'ZAANDAM KOGERVELD', {'route_id': {77608, 41228}}), ('AMSTERDAM MUIDERPOORT', 'AMSTERDAM AMSTEL', {'route_id': {61920, 17748}}), ('AMSTERDAM MUIDERPOORT', 'AMSTERDAM SCIENCE PARK', {'route_id': {77610, 46092, 46084}}), ('AMSTERDAM BIJLMER ARENA', 'AMSTERDAM HOLENDRECHT', {'route_id': {61920, 17748}}), ('AMSTERDAM HOLENDRECHT', 'ABCOUDE', {'route_id': {61920, 17748}}), ('ABCOUDE', 'BREUKELEN', {'route_id': {61920, 17748}}), ('BREUKELEN', 'MAARSSEN', {'route_id': {61920, 77615, 52991}}), ('WINTERSWIJK', 'WINTERSWIJK WEST', {'route_id': {17752, 66772}}), ('WINTERSWIJK', 'AALTEN', {'route_id': {37218}}), ('WINTERSWIJK WEST', 'LICHTENVOORDE-GROENLO', {'route_id': {17752, 66772}}), ('LICHTENVOORDE-GROENLO', 'RUURLO', {'route_id': {17752, 66772}}), ('RUURLO', 'VORDEN', {'route_id': {17752, 66772}}), ('APELDOORN DE MATEN', 'KLARENBEEK', {'route_id': {17773}}), ('KLARENBEEK', 'VOORST-EMPE', {'route_id': {17773}}), ('LELYSTAD CENTRUM', 'DRONTEN', {'route_id': {46092, 45189}}), ('DEN HELDER', 'DEN HELDER ZUID', {'route_id': {17792, 77590}}), ('DEN HELDER ZUID', 'ANNA PAULOWNA', {'route_id': {17792, 77590}}), ('ANNA PAULOWNA', 'SCHAGEN', {'route_id': {17792, 77590}}), ('SCHAGEN', 'HEERHUGOWAARD', {'route_id': {17792, 77614}}), ('HEERHUGOWAARD', 'ALKMAAR NOORD', {'route_id': {17792, 41226, 77614}}), ('HEERHUGOWAARD', 'OBDAM', {'route_id': {41226}}), ('ALKMAAR NOORD', 'ALKMAAR', {'route_id': {17792, 41226, 77614}}), ('ALKMAAR', 'HEILOO', {'route_id': {17792, 41226, 31704}}), ('ALKMAAR', 'CASTRICUM', {'route_id': {52990, 77614}}), ('HEILOO', 'CASTRICUM', {'route_id': {17792, 41226, 31704}}), ('CASTRICUM', 'BEVERWIJK', {'route_id': {31704}}), ('VEENENDAAL-DE KLOMP', 'EDE-WAGENINGEN', {'route_id': {17792, 77598}}), ('VEENENDAAL-DE KLOMP', 'DRIEBERGEN-ZEIST', {'route_id': {77598}}), ('EDE-WAGENINGEN', 'DRIEBERGEN-ZEIST', {'route_id': {31677}}), ('EDE-WAGENINGEN', 'WOLFHEZE', {'route_id': {37294}}), ('EDE-WAGENINGEN', 'EDE CENTRUM', {'route_id': {67419}}), ('ANTWERPEN-CENTRAAL', 'BRUSSEL-ZUID/MIDI', {'route_id': {17795}}), ('ANTWERPEN-CENTRAAL', 'NOORDERKEMPEN', {'route_id': {59426, 77642, 77589, 75062, 77631}}), ('ANTWERPEN-CENTRAAL', 'ANTWERPEN-BERCHEM', {'route_id': {59426, 77642, 77589, 75062, 67415, 77631, 61919}}), ('ANTWERPEN-CENTRAAL', 'ANTWERPEN-LUCHTBAL', {'route_id': {77627, 67415, 61919}}), ('BRUSSEL-ZUID/MIDI', 'PARIS-NORD', {'route_id': {17795}}), ('BRUSSEL-ZUID/MIDI', 'BRUSSEL-CENTRAAL', {'route_id': {59426, 77642, 77589, 75062, 77631}}), ('HALFWEG-ZWANENBURG', 'HAARLEM SPAARNWOUDE', {'route_id': {41226, 17803}}), ('OVERVEEN', 'ZANDVOORT AAN ZEE', {'route_id': {17803}}), ('HILLEGOM', 'VOORHOUT', {'route_id': {17828, 77596}}), ('DE VINK', 'VOORSCHOTEN', {'route_id': {46036, 17828}}), ('VOORSCHOTEN', 'DEN HAAG MARIAHOEVE', {'route_id': {46036, 17828}}), ('DEN HAAG MARIAHOEVE', 'DEN HAAG LAAN V NOI', {'route_id': {46036, 17828}}), ('DEN HAAG LAAN V NOI', 'DEN HAAG HS', {'route_id': {41202, 66117, 41238}}), ('MAASTRICHT', 'MAASTRICHT RANDWYCK', {'route_id': {45224, 18646, 45223}}), ('MAASTRICHT', 'MAASTRICHT NOORD', {'route_id': {45223}}), ('MAASTRICHT', 'BUNDE', {'route_id': {45224}}), ('MAASTRICHT', 'SITTARD', {'route_id': {77614, 52986, 52990}}), ('MAASTRICHT', 'MEERSSEN', {'route_id': {67424, 67449}}), ('MAASTRICHT RANDWYCK', 'EIJSDEN', {'route_id': {18646}}), ('EIJSDEN', 'VISE', {'route_id': {18646}}), ('VISE', 'BRESSOUX', {'route_id': {18646}}), ('BRESSOUX', 'LIEGE-GUILLEMINS', {'route_id': {18646}}), ('LIEGE-GUILLEMINS', 'LIEGE-CARRE', {'route_id': {18646}}), ('LIEGE-CARRE', 'LIEGE-SAINT-LAMBERT', {'route_id': {18646}}), ('LIEGE-SAINT-LAMBERT', 'HASSELT', {'route_id': {18646}}), ('ELST', 'ZETTEN-ANDELST', {'route_id': {37307, 77605}}), ('ELST', 'ARNHEM ZUID', {'route_id': {77609, 61914, 61916, 41236}}), ('ELST', 'NIJMEGEN LENT', {'route_id': {77609, 61914, 61916, 41236}}), ('DRIEBERGEN-ZEIST', 'MAARN', {'route_id': {61920, 77615, 52991}}), ('DRIEBERGEN-ZEIST', 'BUNNIK', {'route_id': {61920, 77615, 52991}}), ('BEVERWIJK', 'HEEMSKERK', {'route_id': {41226}}), ('BEVERWIJK', 'DRIEHUIS', {'route_id': {41226}}), ('ARNHEM VELPERPOORT', 'WESTERVOORT', {'route_id': {37247, 37218, 67615}}), ('ARNHEM VELPERPOORT', 'ARNHEM PRESIKHAAF', {'route_id': {77609, 41236}}), ('WESTERVOORT', 'DUIVEN', {'route_id': {37247, 37218, 67615}}), ('DUIVEN', 'ZEVENAAR', {'route_id': {37247, 37218, 67615}}), ('ZEVENAAR', 'DIDAM', {'route_id': {37247, 37218, 67615}}), ('DIDAM', 'WEHL', {'route_id': {37247, 37218, 67615}}), ('WEHL', 'DOETINCHEM DE HUET', {'route_id': {37247, 37218, 67615}}), ('DOETINCHEM DE HUET', 'DOETINCHEM', {'route_id': {37247, 37218, 67615}}), ('DOETINCHEM', 'GAANDEREN', {'route_id': {37218, 67615}}), ('GAANDEREN', 'TERBORG', {'route_id': {37218, 67615}}), ('TERBORG', 'VARSSEVELD', {'route_id': {37218}}), ('VARSSEVELD', 'AALTEN', {'route_id': {37218}}), ('OOSTERBEEK', 'WOLFHEZE', {'route_id': {37294}}), ('TIEL', 'KESTEREN', {'route_id': {37307, 77605}}), ('TIEL', 'TIEL PASSEWAAIJ', {'route_id': {73489}}), ('KESTEREN', 'OPHEUSDEN', {'route_id': {37307, 77605}}), ('OPHEUSDEN', 'HEMMEN-DODEWAARD', {'route_id': {37307, 77605}}), ('HEMMEN-DODEWAARD', 'ZETTEN-ANDELST', {'route_id': {37307, 77605}}), ('VLISSINGEN', 'VLISSINGEN SOUBURG', {'route_id': {41202, 52987}}), ('VLISSINGEN', 'MIDDELBURG', {'route_id': {77613}}), ('VLISSINGEN SOUBURG', 'MIDDELBURG', {'route_id': {41202, 52987}}), ('MIDDELBURG', 'ARNEMUIDEN', {'route_id': {41202, 52987}}), ('MIDDELBURG', 'GOES', {'route_id': {77613}}), ('ARNEMUIDEN', 'GOES', {'route_id': {41202, 52987}}), ('GOES', 'KAPELLE-BIEZELINGE', {'route_id': {41202, 52987}}), ('GOES', 'BERGEN OP ZOOM', {'route_id': {77613}}), ('KAPELLE-BIEZELINGE', 'KRUININGEN-YERSEKE', {'route_id': {41202, 52987}}), ('KRUININGEN-YERSEKE', 'KRABBENDIJKE', {'route_id': {41202, 52987}}), ('KRABBENDIJKE', 'RILLAND-BATH', {'route_id': {41202, 52987}}), ('RILLAND-BATH', 'BERGEN OP ZOOM', {'route_id': {41202, 52987}}), ('DORDRECHT', 'ROTTERDAM BLAAK', {'route_id': {41202, 66117, 41238}}), ('DORDRECHT', 'DORDRECHT ZUID', {'route_id': {41208, 77617, 61914}}), ('DORDRECHT', 'ZWIJNDRECHT', {'route_id': {43187, 41239}}), ('DORDRECHT', 'DORDRECHT STADSPOLDERS', {'route_id': {61913, 61918}}), ('ROTTERDAM BLAAK', 'ROTTERDAM ZUID', {'route_id': {43187, 41239}}), ('SCHIEDAM CENTRUM', 'DELFT', {'route_id': {41202, 66117, 41238}}), ('SCHIEDAM CENTRUM', 'DELFT CAMPUS', {'route_id': {43187, 41239}}), ('DELFT', 'DEN HAAG HS', {'route_id': {67394, 66117, 67402, 41202, 41238, 77624, 77625}}), ('DELFT', 'DELFT CAMPUS', {'route_id': {43187, 41239}}), ('DELFT', 'RIJSWIJK', {'route_id': {43187, 41239}}), ('DEN HAAG HS', 'DEN HAAG MOERWIJK', {'route_id': {43187, 41239}}), ('NAARDEN-BUSSUM', 'BUSSUM ZUID', {'route_id': {77610, 46084, 41206}}), ('BUSSUM ZUID', 'HILVERSUM MEDIA PARK', {'route_id': {77610, 46084, 41206}}), ('HILVERSUM SPORTPARK', 'HOLLANDSCHE RADING', {'route_id': {41217, 41206, 77607}}), ('DORDRECHT ZUID', 'LAGE ZWALUWE', {'route_id': {41208, 77617, 61914}}), ('LAGE ZWALUWE', 'ZEVENBERGEN', {'route_id': {41208}}), ('LAGE ZWALUWE', 'BREDA-PRINSENBEEK', {'route_id': {77617, 61914}}), ('ZEVENBERGEN', 'OUDENBOSCH', {'route_id': {41208}}), ('ENKHUIZEN', 'BOVENKARSPEL FLORA', {'route_id': {52984, 52986, 41214}}), ('BOVENKARSPEL FLORA', 'BOVENKARSPEL-GROOTEBROEK', {'route_id': {52984, 52986, 41214}}), ('BOVENKARSPEL-GROOTEBROEK', 'HOOGKARSPEL', {'route_id': {52984, 52986, 41214}}), ('HOOGKARSPEL', 'HOORN KERSENBOOGERD', {'route_id': {52984, 52986, 41214}}), ('HOORN KERSENBOOGERD', 'HOORN', {'route_id': {77608, 41228, 52984, 52986, 41214}}), ('HOORN', 'OBDAM', {'route_id': {41226}}), ('HOORN', 'PURMEREND OVERWHERE', {'route_id': {77608, 41228}}), ('WIERDEN', 'RIJSSEN', {'route_id': {41216, 77606}}), ('WIERDEN', 'NIJVERDAL', {'route_id': {52989}}), ('RIJSSEN', 'HOLTEN', {'route_id': {41216, 77606}}), ('HOLTEN', 'DEVENTER COLMSCHATE', {'route_id': {41216, 77606}}), ('TWELLO', 'APELDOORN OSSEVELD', {'route_id': {41216, 77606}}), ('GRONINGEN EUROPAPARK', 'HAREN', {'route_id': {51610, 41220, 45189}}), ('GRONINGEN EUROPAPARK', 'SCHEEMDA', {'route_id': {76978}}), ('GRONINGEN EUROPAPARK', 'KROPSWOLDE', {'route_id': {76984, 77641, 76987}}), ('BEILEN', 'HOOGEVEEN', {'route_id': {41220, 45189}}), ('BOSKOOP', 'BOSKOOP SNIJDELWIJK', {'route_id': {51587, 41221}}), ('BOSKOOP SNIJDELWIJK', 'WADDINXVEEN NOORD', {'route_id': {51587, 41221}}), ('WADDINXVEEN NOORD', 'WADDINXVEEN', {'route_id': {51587, 41221}}), ('WADDINXVEEN', 'WADDINXVEEN TRIANGEL', {'route_id': {51587, 41221}}), ('DRIEHUIS', 'SANTPOORT NOORD', {'route_id': {41226}}), ('SANTPOORT NOORD', 'SANTPOORT ZUID', {'route_id': {41226}}), ('SANTPOORT ZUID', 'BLOEMENDAAL', {'route_id': {41226}}), ('SASSENHEIM', 'NIEUW VENNEP', {'route_id': {46036, 41228}}), ('ZAANDAM KOGERVELD', 'PURMEREND WEIDEVENNE', {'route_id': {77608, 41228}}), ('PURMEREND WEIDEVENNE', 'PURMEREND', {'route_id': {77608, 41228}}), ('PURMEREND', 'PURMEREND OVERWHERE', {'route_id': {77608, 41228}}), ('RHEDEN', 'VELP', {'route_id': {77609, 41236}}), ('VELP', 'ARNHEM PRESIKHAAF', {'route_id': {77609, 41236}}), ('NIJMEGEN GOFFERT', 'NIJMEGEN DUKENBURG', {'route_id': {77617, 77618, 41236, 61914, 61916}}), ('NIJMEGEN DUKENBURG', 'WIJCHEN', {'route_id': {77617, 77618, 41236, 61914, 61916}}), ('WIJCHEN', 'RAVENSTEIN', {'route_id': {77618, 77617, 61914, 61916}}), ('ZWIJNDRECHT', 'BARENDRECHT', {'route_id': {43187, 41239}}), ('BARENDRECHT', 'ROTTERDAM LOMBARDIJEN', {'route_id': {43187, 41239}}), ('ROTTERDAM LOMBARDIJEN', 'ROTTERDAM ZUID', {'route_id': {43187, 41239}}), ('RIJSWIJK', 'DEN HAAG MOERWIJK', {'route_id': {43187, 41239}}), ('KAMPEN ZUID', 'DRONTEN', {'route_id': {46092, 45189}}), ('LANSINGERLAND-ZOETERMEER', 'ZOETERMEER OOST', {'route_id': {73489, 45194}}), ('ZOETERMEER OOST', 'ZOETERMEER', {'route_id': {73489, 45194}}), ('ZOETERMEER', 'DEN HAAG YPENBURG', {'route_id': {73489, 45194}}), ('DEN HAAG YPENBURG', 'VOORBURG', {'route_id': {73489, 45194}}), ('MAASTRICHT NOORD', 'MEERSSEN', {'route_id': {45223}}), ('MEERSSEN', 'HOUTHEM-ST. GERLACH', {'route_id': {45223}}), ('MEERSSEN', 'VALKENBURG', {'route_id': {67424, 67449}}), ('HOUTHEM-ST. GERLACH', 'VALKENBURG', {'route_id': {45223}}), ('VALKENBURG', 'SCHIN OP GEUL', {'route_id': {45223}}), ('VALKENBURG', 'HEERLEN', {'route_id': {67424, 67449}}), ('SCHIN OP GEUL', 'KLIMMEN-RANSDAAL', {'route_id': {45223}}), ('KLIMMEN-RANSDAAL', 'VOERENDAAL', {'route_id': {45223}}), ('VOERENDAAL', 'HEERLEN WOONBOULEVARD', {'route_id': {45223}}), ('HEERLEN WOONBOULEVARD', 'HEERLEN', {'route_id': {45223}}), ('HEERLEN', 'HOENSBROEK', {'route_id': {45231}}), ('HEERLEN', 'LANDGRAAF', {'route_id': {67449, 45231}}), ('HEERLEN', 'SITTARD', {'route_id': {52984, 77611}}), ('BUNDE', 'BEEK-ELSLOO', {'route_id': {45224}}), ('BEEK-ELSLOO', 'GELEEN-LUTTERADE', {'route_id': {45224}}), ('GELEEN-LUTTERADE', 'SITTARD', {'route_id': {45224}}), ('SITTARD', 'SUSTEREN', {'route_id': {45224}}), ('SITTARD', 'GELEEN OOST', {'route_id': {45231}}), ('SITTARD', 'ROERMOND', {'route_id': {52984, 52986, 77614, 52990}}), ('SUSTEREN', 'ECHT', {'route_id': {45224}}), ('ECHT', 'ROERMOND', {'route_id': {45224}}), ('ROERMOND', 'SWALMEN', {'route_id': {45227}}), ('ROERMOND', 'WEERT', {'route_id': {52984, 52986, 77614, 52990}}), ('VENRAY', 'VIERLINGSBEEK', {'route_id': {45226, 45227}}), ('VENRAY', 'BLERICK', {'route_id': {45227}}), ('VIERLINGSBEEK', 'BOXMEER', {'route_id': {45226, 45227}}), ('BOXMEER', 'CUIJK', {'route_id': {45226, 45227}}), ('CUIJK', 'MOOK-MOLENHOEK', {'route_id': {45226, 45227}}), ('MOOK-MOLENHOEK', 'NIJMEGEN HEYENDAAL', {'route_id': {45226, 45227}}), ('BLERICK', 'VENLO', {'route_id': {67400, 53898, 45227, 66117}}), ('BLERICK', 'HORST-SEVENUM', {'route_id': {67400, 53898, 66117}}), ('VENLO', 'TEGELEN', {'route_id': {45227}}), ('VENLO', 'KALDENKIRCHEN', {'route_id': {67971, 77629}}), ('TEGELEN', 'REUVER', {'route_id': {45227}}), ('REUVER', 'SWALMEN', {'route_id': {45227}}), ('GELEEN OOST', 'SPAUBEEK', {'route_id': {45231}}), ('SPAUBEEK', 'SCHINNEN', {'route_id': {45231}}), ('SCHINNEN', 'NUTH', {'route_id': {45231}}), ('NUTH', 'HOENSBROEK', {'route_id': {45231}}), ('LANDGRAAF', 'EYGELSHOVEN', {'route_id': {45231}}), ('LANDGRAAF', 'EYGELSHOVEN MARKT', {'route_id': {67449}}), ('EYGELSHOVEN', 'CHEVREMONT', {'route_id': {45231}}), ('CHEVREMONT', 'KERKRADE CENTRUM', {'route_id': {45231}}), ('DIEMEN', 'AMSTERDAM SCIENCE PARK', {'route_id': {77610, 46084, 46092}}), ('HOUTEN CASTELLUM', 'HOUTEN CASTELLUM', {'route_id': {52979}}), ('HOUTEN CASTELLUM', 'HOUTEN', {'route_id': {73488, 73489, 52979, 77630}}), ('HOUTEN CASTELLUM', 'CULEMBORG', {'route_id': {73488, 73489, 77630}}), ('HOUTEN', 'UTRECHT LUNETTEN', {'route_id': {73488, 73489, 52979, 77630}}), ('UTRECHT LUNETTEN', 'UTRECHT VAARTSCHE RIJN', {'route_id': {73488, 73489, 52979, 77630}}), ('UTRECHT VAARTSCHE RIJN', 'BUNNIK', {'route_id': {61920, 77615, 52991}}), ('KAMPEN', 'ZWOLLE STADSHAGEN', {'route_id': {52982}}), ('WEERT', 'EINDHOVEN CENTRAAL', {'route_id': {52984, 52986, 77614, 52990}}), ('WEERT', 'MAARHEEZE', {'route_id': {67407}}), ('EINDHOVEN CENTRAAL', 'HELMOND', {'route_id': {67400, 53898, 66117}}), ('EINDHOVEN CENTRAAL', 'HELMOND BRANDEVOORT', {'route_id': {66763, 73941}}), ('EINDHOVEN CENTRAAL', 'EINDHOVEN STRIJP-S', {'route_id': {77619, 66763, 67412}}), ('EINDHOVEN CENTRAAL', 'GELDROP', {'route_id': {67407}}), ('EINDHOVEN CENTRAAL', 'BOXTEL', {'route_id': {67416}}), ('EINDHOVEN CENTRAAL', 'EINDHOVEN CENTRAAL', {'route_id': {67416}}), ('VRIEZENVEEN', 'DAARLERVEEN', {'route_id': {52985}}), ('DAARLERVEEN', 'VROOMSHOOP', {'route_id': {52985}}), ('VROOMSHOOP', 'MARIENBERG', {'route_id': {52985}}), ('MARIENBERG', 'HARDENBERG', {'route_id': {52985, 52996, 53004}}), ('MARIENBERG', 'OMMEN', {'route_id': {52996, 53004}}), ('HARDENBERG', 'COEVORDEN', {'route_id': {77637, 52996, 76117}}), ('HARDENBERG', 'GRAMSBERGEN', {'route_id': {53004}}), ('HARDENBERG', 'OMMEN', {'route_id': {76117, 77637}}), ('HEINO', 'RAALTE', {'route_id': {52989}}), ('RAALTE', 'NIJVERDAL', {'route_id': {61275, 52989}}), ('ALMELO DE RIET', 'BORNE', {'route_id': {52989, 77606}}), ('RHENEN', 'VEENENDAAL CENTRUM', {'route_id': {61920, 52991}}), ('VEENENDAAL CENTRUM', 'VEENENDAAL WEST', {'route_id': {61920, 77615, 52991}}), ('VEENENDAAL WEST', 'MAARN', {'route_id': {61920, 77615, 52991}}), ('UTRECHT ZUILEN', 'MAARSSEN', {'route_id': {61920, 77615, 52991}}), ('OLDENZAAL', 'HENGELO OOST', {'route_id': {52993, 77367}}), ('HENGELO GEZONDHEIDSPARK', 'DELDEN', {'route_id': {52993}}), ('DELDEN', 'GOOR', {'route_id': {52993}}), ('GOOR', 'LOCHEM', {'route_id': {52993}}), ('EMMEN', 'EMMEN ZUID', {'route_id': {77637, 52996, 53004}}), ('EMMEN ZUID', 'NIEUW AMSTERDAM', {'route_id': {52996, 53004}}), ('EMMEN ZUID', 'COEVORDEN', {'route_id': {77637}}), ('NIEUW AMSTERDAM', 'COEVORDEN', {'route_id': {52996}}), ('NIEUW AMSTERDAM', 'DALEN', {'route_id': {53004}}), ('COEVORDEN', 'DALEN', {'route_id': {53004}}), ('COEVORDEN', 'GRAMSBERGEN', {'route_id': {53004}}), ('OMMEN', 'DALFSEN', {'route_id': {77637, 52996, 53004, 76117}}), ('HELMOND', 'DEURNE', {'route_id': {67400, 53898, 66117}}), ('HELMOND', 'HELMOND BROUWHUIS', {'route_id': {66763, 73941}}), ('HELMOND', \"HELMOND 'T HOUT\", {'route_id': {66763, 73941}}), ('DEURNE', 'HORST-SEVENUM', {'route_id': {67400, 53898, 66117}}), ('DEURNE', 'HELMOND BROUWHUIS', {'route_id': {66763, 73941}}), ('ANTWERPEN-BERCHEM', 'MECHELEN', {'route_id': {59426, 77642, 77589, 75062, 77631}}), ('ANTWERPEN-BERCHEM', 'ANTWERPEN-ZUID', {'route_id': {67415, 61919}}), ('MECHELEN', 'BRUSSELS AIRPORT - ZAVENTEM', {'route_id': {59426, 77642, 77589, 75062, 77631}}), ('BRUSSELS AIRPORT - ZAVENTEM', 'BRUSSEL-NOORD', {'route_id': {59426, 77642, 77589, 75062, 77631}}), ('BRUSSEL-NOORD', 'BRUSSEL-CENTRAAL', {'route_id': {59426, 77642, 77589, 75062, 77631}}), ('GORINCHEM', 'BOVEN-HARDINXVELD', {'route_id': {61913, 61918}}), ('GORINCHEM', 'ARKEL', {'route_id': {61918}}), ('BOVEN-HARDINXVELD', 'HARDINXVELD-GIESSENDAM', {'route_id': {61913, 61918}}), ('HARDINXVELD-GIESSENDAM', 'SLIEDRECHT', {'route_id': {61913}}), ('HARDINXVELD-GIESSENDAM', 'HARDINXVELD BLAUWE ZOOM', {'route_id': {61918}}), ('SLIEDRECHT', 'SLIEDRECHT BAANHOEK', {'route_id': {61913, 61918}}), ('SLIEDRECHT', 'HARDINXVELD BLAUWE ZOOM', {'route_id': {61918}}), ('SLIEDRECHT BAANHOEK', 'DORDRECHT STADSPOLDERS', {'route_id': {61913, 61918}}), ('OSS WEST', 'ROSMALEN', {'route_id': {77618, 77617, 61914, 61916}}), ('ROSMALEN', \"HERTOGENB ('S) OOST\", {'route_id': {77618, 77617, 61914, 61916}}), ('TILBURG UNIVERSITEIT', 'TILBURG REESHOF', {'route_id': {77617, 61914}}), ('TILBURG REESHOF', 'GILZE-RIJEN', {'route_id': {77617, 61914}}), ('ARKEL', 'LEERDAM', {'route_id': {61918}}), ('LEERDAM', 'BEESD', {'route_id': {61918}}), ('BEESD', 'GELDERMALSEN', {'route_id': {61918}}), ('GELDERMALSEN', 'ZALTBOMMEL', {'route_id': {73488, 77630}}), ('GELDERMALSEN', 'CULEMBORG', {'route_id': {73488, 73489, 77630}}), ('GELDERMALSEN', 'TIEL PASSEWAAIJ', {'route_id': {73489}}), ('ESSEN (B)', 'WILDERT', {'route_id': {77627, 67415, 61919}}), ('WILDERT', 'KALMTHOUT', {'route_id': {77627, 67415, 61919}}), ('KALMTHOUT', 'KIJKUIT', {'route_id': {77627, 67415, 61919}}), ('KIJKUIT', 'HEIDE (B)', {'route_id': {77627, 67415, 61919}}), ('HEIDE (B)', 'KAPELLEN', {'route_id': {77627, 67415, 61919}}), ('KAPELLEN', 'SINT-MARIABURG', {'route_id': {77627, 67415, 61919}}), ('SINT-MARIABURG', 'EKEREN', {'route_id': {77627, 67415, 61919}}), ('EKEREN', 'ANTWERPEN-NOORDERDOKKEN', {'route_id': {77627, 67415, 61919}}), ('ANTWERPEN-NOORDERDOKKEN', 'ANTWERPEN-LUCHTBAL', {'route_id': {77627, 67415, 61919}}), ('ANTWERPEN-ZUID', 'PUURS', {'route_id': {67415, 61919}}), (\"HELMOND 'T HOUT\", 'HELMOND BRANDEVOORT', {'route_id': {66763, 73941}}), ('EINDHOVEN STRIJP-S', 'BEST', {'route_id': {77619, 66763, 67412}}), ('BEST', 'BOXTEL', {'route_id': {77619, 66763, 67412}}), ('BOXTEL', 'VUGHT', {'route_id': {77619, 66763}}), ('BOXTEL', 'OISTERWIJK', {'route_id': {67412}}), ('BARNEVELD ZUID', 'BARNEVELD CENTRUM', {'route_id': {67419, 67406}}), ('BARNEVELD ZUID', 'LUNTEREN', {'route_id': {67419}}), ('BARNEVELD CENTRUM', 'BARNEVELD NOORD', {'route_id': {67419, 67406}}), ('BARNEVELD NOORD', 'HOEVELAKEN', {'route_id': {67419, 67406}}), ('MAARHEEZE', 'HEEZE', {'route_id': {67407}}), ('HEEZE', 'GELDROP', {'route_id': {67407}}), ('LUNTEREN', 'EDE CENTRUM', {'route_id': {67419}}), ('BUNDE (WESTF.)', 'BIELEFELD HBF', {'route_id': {67425}}), ('EYGELSHOVEN MARKT', 'HERZOGENRATH', {'route_id': {67449}}), ('HERZOGENRATH', 'AACHEN WEST', {'route_id': {67449}}), ('AACHEN WEST', 'AACHEN HBF', {'route_id': {67449}}), ('KALDENKIRCHEN', 'BREYELL', {'route_id': {67971, 77629}}), ('BREYELL', 'BOISHEIM', {'route_id': {67971, 77629}}), ('BOISHEIM', 'DULKEN', {'route_id': {67971, 77629}}), ('DULKEN', 'VIERSEN', {'route_id': {67971, 77629}}), ('VIERSEN', 'MONCHENGLADBACH HBF', {'route_id': {67971, 77629}}), ('MONCHENGLADBACH HBF', 'NEUSS HBF', {'route_id': {67971, 77629}}), ('MONCHENGLADBACH HBF', 'KOLN HBF', {'route_id': {77602}}), ('MONCHENGLADBACH HBF', 'FRANKFURT FLUGHAFEN FERNB', {'route_id': {77604}}), ('NEUSS HBF', 'DUSSELDORF HBF', {'route_id': {67971, 77629}}), ('DUSSELDORF HBF', 'WUPPERTAL-VOHWINKEL', {'route_id': {67971}}), ('DUSSELDORF HBF', 'KOLN HBF', {'route_id': {77633, 77634}}), ('WUPPERTAL-VOHWINKEL', 'WUPPERTAL HBF', {'route_id': {67971}}), ('WUPPERTAL HBF', 'WUPPERTAL-BARMEN', {'route_id': {67971}}), ('WUPPERTAL-BARMEN', 'WUPPERTAL OBERBARMEN', {'route_id': {67971}}), ('WUPPERTAL OBERBARMEN', 'SCHWELM', {'route_id': {67971}}), ('SCHWELM', 'ENNEPETAL', {'route_id': {67971}}), ('ENNEPETAL', 'HAGEN HBF', {'route_id': {67971}}), ('HAGEN HBF', 'SCHWERTE (RUHR)', {'route_id': {67971}}), ('SCHWERTE (RUHR)', 'HOLZWICKEDE', {'route_id': {67971}}), ('HOLZWICKEDE', 'UNNA', {'route_id': {67971}}), ('UNNA', 'BOENEN', {'route_id': {67971}}), ('BOENEN', 'HAMM (WESTF.)', {'route_id': {67971}}), ('WOLFSBURG HBF', 'STENDAL', {'route_id': {77593, 76452, 77638}}), ('STENDAL', 'BERLIN-SPANDAU', {'route_id': {77593, 76452, 77638}}), ('BERLIN-SPANDAU', 'BERLIN HBF', {'route_id': {77593, 76452, 77638}}), ('BUITENPOST', 'FEANWALDEN', {'route_id': {76977}}), ('BUITENPOST', 'DE WESTEREEN', {'route_id': {76983}}), ('BUITENPOST', 'GRIJPSKERK', {'route_id': {76983}}), ('FEANWALDEN', 'HURDEGARYP', {'route_id': {76983}}), ('FEANWALDEN', 'DE WESTEREEN', {'route_id': {76983}}), ('FEANWALDEN', 'ZUIDHORN', {'route_id': {77639}}), ('WINSCHOTEN', 'SCHEEMDA', {'route_id': {76984, 77641, 76978}}), ('WINSCHOTEN', 'BAD NIEUWESCHANS', {'route_id': {77641}}), ('SCHEEMDA', 'ZUIDBROEK', {'route_id': {76984, 77641}}), ('MANTGUM', 'SNEEK NOORD', {'route_id': {76980, 76981}}), ('SNEEK NOORD', 'SNEEK', {'route_id': {77640, 76980, 76981}}), ('SNEEK', 'IJLST', {'route_id': {76981}}), ('IJLST', 'WORKUM', {'route_id': {76981}}), ('WORKUM', 'HINDELOOPEN', {'route_id': {76981}}), ('HINDELOOPEN', 'KOUDUM-MOLKWERUM', {'route_id': {76981}}), ('KOUDUM-MOLKWERUM', 'STAVOREN', {'route_id': {76981}}), ('DEINUM', 'DRONRYP', {'route_id': {76982}}), ('DRONRYP', 'FRANEKER', {'route_id': {76982}}), ('FRANEKER', 'HARLINGEN', {'route_id': {76982}}), ('HARLINGEN', 'HARLINGEN HAVEN', {'route_id': {76982}}), ('LEEUWARDEN CAMMINGHABUREN', 'HURDEGARYP', {'route_id': {76983}}), ('GRIJPSKERK', 'ZUIDHORN', {'route_id': {76983}}), ('ZUIDBROEK', 'HOOGEZAND-SAPPEMEER', {'route_id': {76984, 77641, 76987}}), ('ZUIDBROEK', 'VEENDAM', {'route_id': {76987}}), ('HOOGEZAND-SAPPEMEER', 'MARTENSHOEK', {'route_id': {76984, 77641, 76987}}), ('MARTENSHOEK', 'KROPSWOLDE', {'route_id': {76984, 77641, 76987}}), ('ROODESCHOOL', 'UITHUIZERMEEDEN', {'route_id': {76985}}), ('UITHUIZERMEEDEN', 'UITHUIZEN', {'route_id': {76985}}), ('UITHUIZEN', 'USQUERT', {'route_id': {76985}}), ('USQUERT', 'WARFFUM', {'route_id': {76985}}), ('WARFFUM', 'BAFLO', {'route_id': {76985}}), ('BAFLO', 'WINSUM', {'route_id': {76985}}), ('WINSUM', 'SAUWERD', {'route_id': {76985}}), ('SAUWERD', 'GRONINGEN NOORD', {'route_id': {76985, 76986}}), ('SAUWERD', 'BEDUM', {'route_id': {76986}}), ('DELFZIJL', 'DELFZIJL WEST', {'route_id': {76986}}), ('DELFZIJL WEST', 'APPINGEDAM', {'route_id': {76986}}), ('APPINGEDAM', 'LOPPERSUM', {'route_id': {76986}}), ('LOPPERSUM', 'STEDUM', {'route_id': {76986}}), ('STEDUM', 'BEDUM', {'route_id': {76986}}), ('ENSCHEDE DE ESCHMARKE', 'GLANERBRUG', {'route_id': {77594}}), ('GLANERBRUG', 'GRONAU WESTF', {'route_id': {77594}}), ('GRONAU WESTF', 'EPE (WESTF)', {'route_id': {77594}}), ('EPE (WESTF)', 'AHAUS', {'route_id': {77594}}), ('AHAUS', 'LEGDEN', {'route_id': {77594}}), ('LEGDEN', 'ROSENDAHL-HOLTWICK', {'route_id': {77594}}), ('ROSENDAHL-HOLTWICK', 'COESFELD (WESTF)', {'route_id': {77594}}), ('COESFELD (WESTF)', 'LETTE (KR COESFELD)', {'route_id': {77594}}), ('LETTE (KR COESFELD)', 'DULMEN', {'route_id': {77594}}), ('DULMEN', 'LUDINGHAUSEN', {'route_id': {77594}}), ('LUDINGHAUSEN', 'SELM', {'route_id': {77594}}), ('SELM', 'SELM-BEIFANG', {'route_id': {77594}}), ('SELM-BEIFANG', 'BORK (WESTF)', {'route_id': {77594}}), ('BORK (WESTF)', 'LUNEN HBF', {'route_id': {77594}}), ('LUNEN HBF', 'PREUSSEN', {'route_id': {77594}}), ('PREUSSEN', 'DORTMUND-DERNE', {'route_id': {77594}}), ('DORTMUND-DERNE', 'DORTMUND-KIRCHDERNE', {'route_id': {77594}}), ('DORTMUND-KIRCHDERNE', 'DORTMUND HBF', {'route_id': {77594}}), ('KOLN HBF', 'FRANKFURT FLUGHAFEN FERNB', {'route_id': {77602}}), ('KOLN HBF', 'BONN HBF', {'route_id': {77633, 77634}}), ('FRANKFURT FLUGHAFEN FERNB', 'FRANKFURT (M) HBF', {'route_id': {77602, 77604}}), ('FRANKFURT FLUGHAFEN FERNB', 'MAINZ HBF', {'route_id': {77633, 77634}}), ('FRANKFURT FLUGHAFEN FERNB', 'WURZBURG HBF', {'route_id': {77633, 77634}}), ('BONN HBF', 'KOBLENZ HBF', {'route_id': {77633, 77634}}), ('KOBLENZ HBF', 'MAINZ HBF', {'route_id': {77633, 77634}}), ('WURZBURG HBF', 'NURNBERG HBF', {'route_id': {77633, 77634}}), ('NURNBERG HBF', 'AUGSBURG HBF', {'route_id': {77633}}), ('AUGSBURG HBF', 'MUNCHEN HBF', {'route_id': {77633}}), ('MUNCHEN HBF', 'KUFSTEIN', {'route_id': {77633}}), ('KUFSTEIN', 'WORGL', {'route_id': {77633}}), ('WORGL', 'JENBACH', {'route_id': {77633}}), ('JENBACH', 'INNSBRUCK HBF', {'route_id': {77633}})])"
      ]
     },
     "execution_count": 22,
     "metadata": {},
     "output_type": "execute_result"
    }
   ],
   "source": [
    "''' To assign weights to the network graph for the Netherlands'''\n",
    "# To assign node weights to graph\n",
    "for i in range(len(stops_cleaned_Netherlands)):\n",
    "    for n, d in N.nodes(data=True):\n",
    "        if stops_cleaned_Netherlands.stop_name[i] == n:\n",
    "            N.nodes[n]['latitude']=stops_cleaned_Netherlands.stop_lat[i];\n",
    "            N.nodes[n]['longitude']=stops_cleaned_Netherlands.stop_lon[i];\n",
    "            N.nodes[n]['country']=stops_cleaned_Netherlands.country[i];\n",
    "            \n",
    "N.nodes(data=True)\n",
    "\n",
    "# To assign edge weights to the graph: the edge weight represents a list that contains all route_ids that cover that edge\n",
    "routes_on_edge = {}\n",
    "for node1,node2, nodeData in N.edges(data = True):\n",
    "    if (node1, node2) not in routes_on_edge:\n",
    "            routes_on_edge[(node1, node2)] = set()\n",
    "    route_id_node1_node2= df_for_edges_Netherlands[(df_for_edges_Netherlands['stop_name_1'] == node1 ) & (df_for_edges_Netherlands['stop_name_2'] == node2 )]['route_id']\n",
    "    route_id_node2_node1= df_for_edges_Netherlands[(df_for_edges_Netherlands['stop_name_1'] == node2 ) & (df_for_edges_Netherlands['stop_name_2'] == node1 )]['route_id']\n",
    "    for route_id in pd.concat([route_id_node1_node2, route_id_node2_node1]):\n",
    "        routes_on_edge[(node1, node2)].add(route_id)\n",
    "    nodeData['route_id'] = routes_on_edge[(node1, node2)] \n",
    "\n",
    "N.edges(data=True)"
   ]
  },
  {
   "cell_type": "code",
   "execution_count": 23,
   "metadata": {},
   "outputs": [
    {
     "data": {
      "text/plain": [
       "' The number of nodes in the Dutch railway system '"
      ]
     },
     "execution_count": 23,
     "metadata": {},
     "output_type": "execute_result"
    },
    {
     "data": {
      "text/plain": [
       "487"
      ]
     },
     "execution_count": 23,
     "metadata": {},
     "output_type": "execute_result"
    },
    {
     "data": {
      "text/plain": [
       "394"
      ]
     },
     "execution_count": 23,
     "metadata": {},
     "output_type": "execute_result"
    }
   ],
   "source": [
    "''' The number of nodes in the Dutch railway system '''\n",
    "# The number of total nodes in the Dutch railway system that consists of all routes that contain at least one node in the Netherlands\n",
    "len(N.nodes())\n",
    "\n",
    "# The number of belgian nodes in the Dutch railway system that consists of all routes that contain at least one node in the Netherlands\n",
    "number_dutch_stations = 0\n",
    "for n, d in N.nodes(data=True):\n",
    "    if N.nodes[n]['country']=='Netherlands':\n",
    "        number_dutch_stations += 1\n",
    "\n",
    "number_dutch_stations"
   ]
  },
  {
   "cell_type": "code",
   "execution_count": 24,
   "metadata": {},
   "outputs": [
    {
     "data": {
      "text/plain": [
       "' The degrees of the nodes in the Dutch railway system '"
      ]
     },
     "execution_count": 24,
     "metadata": {},
     "output_type": "execute_result"
    },
    {
     "data": {
      "text/plain": [
       "DegreeView({'AMSTERDAM CENTRAAL': 11, 'SCHIPHOL AIRPORT': 9, 'ROTTERDAM CENTRAAL': 12, 'UTRECHT CENTRAAL': 20, 'GOUDA': 11, 'ROTTERDAM ALEXANDER': 4, 'WOERDEN': 5, 'BODEGRAVEN': 2, 'ALPHEN A/D RIJN': 3, 'LEIDEN LAMMENSCHANS': 2, 'LEIDEN CENTRAAL': 11, 'HOOFDDORP': 3, 'AMSTERDAM ZUID': 5, 'AMSTERDAM RAI': 2, 'DUIVENDRECHT': 7, 'DIEMEN ZUID': 2, 'WEESP': 4, 'ALMERE POORT': 3, 'ALMERE MUZIEKWIJK': 2, 'ALMERE CENTRUM': 7, 'ALMERE PARKWIJK': 2, 'ALMERE BUITEN': 4, 'ALMERE OOSTVAARDERS': 2, 'AMERSFOORT SCHOTHORST': 2, 'AMERSFOORT CENTRAAL': 10, 'DEN HAAG CENTRAAL': 5, 'GRONINGEN': 5, 'ASSEN': 4, 'ZWOLLE': 11, 'BREDA': 7, 'LEEUWARDEN': 7, 'GROU-JIRNSUM': 2, 'AKKRUM': 2, 'HEERENVEEN': 4, 'WOLVEGA': 2, 'STEENWIJK': 3, 'MEPPEL': 3, 'UTRECHT OVERVECHT': 4, 'BILTHOVEN': 2, 'DEN DOLDER': 3, 'SOEST ZUID': 2, 'SOEST': 2, 'SOESTDIJK': 2, 'BAARN': 3, 'WEZEP': 2, \"HARDE ('T)\": 2, 'NUNSPEET': 2, 'HARDERWIJK': 3, 'ERMELO': 2, 'PUTTEN': 2, 'NIJKERK': 4, 'AMERSFOORT VATHORST': 2, 'UTRECHT LEIDSCHE RIJN': 2, 'UTRECHT TERWIJDE': 2, 'VLEUTEN': 2, 'GOUDA GOVERWELLE': 2, 'NIEUWERKERK AD IJSSEL': 2, 'CAPELLE SCHOLLEVAAR': 2, 'ROTTERDAM NOORD': 2, 'ROOSENDAAL': 5, 'ETTEN-LEUR': 2, 'TILBURG': 6, \"HERTOGENBOSCH ('S)\": 9, 'OSS': 4, 'NIJMEGEN': 6, 'ARNHEM CENTRAAL': 9, 'DIEREN': 4, 'ZUTPHEN': 7, 'DEVENTER': 7, 'OLST': 2, 'WIJHE': 2, 'AMSTERDAM SLOTERDIJK': 7, 'HAARLEM': 7, 'HEEMSTEDE-AERDENHOUT': 3, 'ENSCHEDE': 3, 'HENGELO': 8, 'ALMELO': 6, 'APELDOORN': 5, 'HILVERSUM': 7, 'BAD BENTHEIM': 3, 'RHEINE': 2, 'OSNABRUCK HBF': 3, 'BAD OEYNHAUSEN': 3, 'MINDEN (WESTF)': 3, 'HANNOVER HBF': 2, 'UITGEEST': 3, 'KROMMENIE-ASSENDELFT': 2, 'WORMERVEER': 2, 'ZAANDIJK ZAANSE SCHANS': 2, 'KOOG AAN DE ZAAN': 2, 'ZAANDAM': 4, 'AMSTERDAM MUIDERPOORT': 3, 'AMSTERDAM AMSTEL': 4, 'AMSTERDAM BIJLMER ARENA': 6, 'AMSTERDAM HOLENDRECHT': 2, 'ABCOUDE': 2, 'BREUKELEN': 3, 'WINTERSWIJK': 2, 'WINTERSWIJK WEST': 2, 'LICHTENVOORDE-GROENLO': 2, 'RUURLO': 2, 'VORDEN': 2, 'APELDOORN DE MATEN': 2, 'KLARENBEEK': 2, 'VOORST-EMPE': 2, 'LELYSTAD CENTRUM': 5, 'DEN HELDER': 1, 'DEN HELDER ZUID': 2, 'ANNA PAULOWNA': 2, 'SCHAGEN': 2, 'HEERHUGOWAARD': 3, 'ALKMAAR NOORD': 2, 'ALKMAAR': 3, 'HEILOO': 2, 'CASTRICUM': 5, 'VEENENDAAL-DE KLOMP': 3, 'EDE-WAGENINGEN': 6, 'ANTWERPEN-CENTRAAL': 5, 'BRUSSEL-ZUID/MIDI': 3, 'PARIS-NORD': 1, 'HALFWEG-ZWANENBURG': 2, 'HAARLEM SPAARNWOUDE': 2, 'OVERVEEN': 2, 'ZANDVOORT AAN ZEE': 1, 'HILLEGOM': 2, 'VOORHOUT': 2, 'DE VINK': 2, 'VOORSCHOTEN': 2, 'DEN HAAG MARIAHOEVE': 2, 'DEN HAAG LAAN V NOI': 4, 'MAASTRICHT': 5, 'MAASTRICHT RANDWYCK': 2, 'EIJSDEN': 2, 'VISE': 2, 'BRESSOUX': 2, 'LIEGE-GUILLEMINS': 2, 'LIEGE-CARRE': 2, 'LIEGE-SAINT-LAMBERT': 2, 'HASSELT': 1, 'ELST': 5, 'DRIEBERGEN-ZEIST': 5, 'BEVERWIJK': 4, 'ARNHEM VELPERPOORT': 3, 'WESTERVOORT': 2, 'DUIVEN': 2, 'ZEVENAAR': 2, 'DIDAM': 2, 'WEHL': 2, 'DOETINCHEM DE HUET': 2, 'DOETINCHEM': 2, 'GAANDEREN': 2, 'TERBORG': 2, 'VARSSEVELD': 2, 'AALTEN': 2, 'OOSTERBEEK': 2, 'WOLFHEZE': 2, 'TIEL': 2, 'KESTEREN': 2, 'OPHEUSDEN': 2, 'HEMMEN-DODEWAARD': 2, 'ZETTEN-ANDELST': 2, 'VLISSINGEN': 2, 'VLISSINGEN SOUBURG': 2, 'MIDDELBURG': 4, 'ARNEMUIDEN': 2, 'GOES': 4, 'KAPELLE-BIEZELINGE': 2, 'KRUININGEN-YERSEKE': 2, 'KRABBENDIJKE': 2, 'RILLAND-BATH': 2, 'BERGEN OP ZOOM': 3, 'DORDRECHT': 7, 'ROTTERDAM BLAAK': 3, 'SCHIEDAM CENTRUM': 3, 'DELFT': 5, 'DEN HAAG HS': 8, 'NAARDEN-BUSSUM': 4, 'BUSSUM ZUID': 2, 'HILVERSUM MEDIA PARK': 3, 'HILVERSUM SPORTPARK': 4, 'HOLLANDSCHE RADING': 2, 'DORDRECHT ZUID': 2, 'LAGE ZWALUWE': 3, 'ZEVENBERGEN': 2, 'OUDENBOSCH': 2, 'ENKHUIZEN': 1, 'BOVENKARSPEL FLORA': 2, 'BOVENKARSPEL-GROOTEBROEK': 2, 'HOOGKARSPEL': 2, 'HOORN KERSENBOOGERD': 2, 'HOORN': 4, 'WIERDEN': 3, 'RIJSSEN': 2, 'HOLTEN': 2, 'DEVENTER COLMSCHATE': 2, 'TWELLO': 2, 'APELDOORN OSSEVELD': 2, 'GRONINGEN EUROPAPARK': 4, 'HAREN': 2, 'BEILEN': 2, 'HOOGEVEEN': 2, 'BOSKOOP': 2, 'BOSKOOP SNIJDELWIJK': 2, 'WADDINXVEEN NOORD': 2, 'WADDINXVEEN': 2, 'WADDINXVEEN TRIANGEL': 2, 'OBDAM': 2, 'HEEMSKERK': 2, 'DRIEHUIS': 2, 'SANTPOORT NOORD': 2, 'SANTPOORT ZUID': 2, 'BLOEMENDAAL': 2, 'SASSENHEIM': 2, 'NIEUW VENNEP': 2, 'AMSTERDAM LELYLAAN': 2, 'ZAANDAM KOGERVELD': 2, 'PURMEREND WEIDEVENNE': 2, 'PURMEREND': 2, 'PURMEREND OVERWHERE': 2, 'BRUMMEN': 2, 'RHEDEN': 2, 'VELP': 2, 'ARNHEM PRESIKHAAF': 2, 'ARNHEM ZUID': 2, 'NIJMEGEN LENT': 2, 'NIJMEGEN GOFFERT': 2, 'NIJMEGEN DUKENBURG': 2, 'WIJCHEN': 2, 'ZWIJNDRECHT': 2, 'BARENDRECHT': 2, 'ROTTERDAM LOMBARDIJEN': 2, 'ROTTERDAM ZUID': 2, 'DELFT CAMPUS': 2, 'RIJSWIJK': 2, 'DEN HAAG MOERWIJK': 2, 'KAMPEN ZUID': 2, 'DRONTEN': 2, 'LANSINGERLAND-ZOETERMEER': 2, 'ZOETERMEER OOST': 2, 'ZOETERMEER': 2, 'DEN HAAG YPENBURG': 2, 'VOORBURG': 2, 'MAASTRICHT NOORD': 2, 'MEERSSEN': 4, 'HOUTHEM-ST. GERLACH': 2, 'VALKENBURG': 4, 'SCHIN OP GEUL': 2, 'KLIMMEN-RANSDAAL': 2, 'VOERENDAAL': 2, 'HEERLEN WOONBOULEVARD': 2, 'HEERLEN': 5, 'BUNDE': 2, 'BEEK-ELSLOO': 2, 'GELEEN-LUTTERADE': 2, 'SITTARD': 6, 'SUSTEREN': 2, 'ECHT': 2, 'ROERMOND': 4, 'VENRAY': 2, 'VIERLINGSBEEK': 2, 'BOXMEER': 2, 'CUIJK': 2, 'MOOK-MOLENHOEK': 2, 'NIJMEGEN HEYENDAAL': 2, 'BLERICK': 3, 'VENLO': 3, 'TEGELEN': 2, 'REUVER': 2, 'SWALMEN': 2, 'GELEEN OOST': 2, 'SPAUBEEK': 2, 'SCHINNEN': 2, 'NUTH': 2, 'HOENSBROEK': 2, 'LANDGRAAF': 3, 'EYGELSHOVEN': 2, 'CHEVREMONT': 2, 'KERKRADE CENTRUM': 1, 'DIEMEN': 2, 'AMSTERDAM SCIENCE PARK': 2, 'HOUTEN CASTELLUM': 5, 'HOUTEN': 2, 'UTRECHT LUNETTEN': 2, 'UTRECHT VAARTSCHE RIJN': 3, 'KAMPEN': 1, 'ZWOLLE STADSHAGEN': 2, 'WEERT': 3, 'EINDHOVEN CENTRAAL': 10, 'VRIEZENVEEN': 2, 'DAARLERVEEN': 2, 'VROOMSHOOP': 2, 'MARIENBERG': 3, 'HARDENBERG': 4, 'HEINO': 2, 'RAALTE': 3, 'NIJVERDAL': 3, 'ALMELO DE RIET': 2, 'BORNE': 2, 'ENSCHEDE KENNISPARK': 2, 'RHENEN': 1, 'VEENENDAAL CENTRUM': 2, 'VEENENDAAL WEST': 2, 'MAARN': 2, 'BUNNIK': 2, 'UTRECHT ZUILEN': 2, 'MAARSSEN': 2, 'OLDENZAAL': 3, 'HENGELO OOST': 2, 'HENGELO GEZONDHEIDSPARK': 2, 'DELDEN': 2, 'GOOR': 2, 'LOCHEM': 2, 'EMMEN': 1, 'EMMEN ZUID': 3, 'NIEUW AMSTERDAM': 3, 'COEVORDEN': 5, 'OMMEN': 3, 'DALFSEN': 2, 'DALEN': 2, 'GRAMSBERGEN': 2, 'HELMOND': 4, 'DEURNE': 3, 'HORST-SEVENUM': 2, 'NOORDERKEMPEN': 2, 'ANTWERPEN-BERCHEM': 3, 'MECHELEN': 2, 'BRUSSELS AIRPORT - ZAVENTEM': 2, 'BRUSSEL-NOORD': 2, 'BRUSSEL-CENTRAAL': 2, 'UTRECHT MALIEBAAN': 1, 'GORINCHEM': 2, 'BOVEN-HARDINXVELD': 2, 'HARDINXVELD-GIESSENDAM': 3, 'SLIEDRECHT': 3, 'SLIEDRECHT BAANHOEK': 2, 'DORDRECHT STADSPOLDERS': 2, 'RAVENSTEIN': 2, 'OSS WEST': 2, 'ROSMALEN': 2, \"HERTOGENB ('S) OOST\": 2, 'TILBURG UNIVERSITEIT': 2, 'TILBURG REESHOF': 2, 'GILZE-RIJEN': 2, 'BREDA-PRINSENBEEK': 2, 'HARDINXVELD BLAUWE ZOOM': 2, 'ARKEL': 2, 'LEERDAM': 2, 'BEESD': 2, 'GELDERMALSEN': 4, 'ESSEN (B)': 2, 'WILDERT': 2, 'KALMTHOUT': 2, 'KIJKUIT': 2, 'HEIDE (B)': 2, 'KAPELLEN': 2, 'SINT-MARIABURG': 2, 'EKEREN': 2, 'ANTWERPEN-NOORDERDOKKEN': 2, 'ANTWERPEN-LUCHTBAL': 2, 'ANTWERPEN-ZUID': 2, 'PUURS': 1, 'HELMOND BROUWHUIS': 2, \"HELMOND 'T HOUT\": 2, 'HELMOND BRANDEVOORT': 2, 'EINDHOVEN STRIJP-S': 2, 'BEST': 2, 'BOXTEL': 5, 'VUGHT': 2, 'BARNEVELD ZUID': 2, 'BARNEVELD CENTRUM': 2, 'BARNEVELD NOORD': 2, 'HOEVELAKEN': 2, 'MAARHEEZE': 2, 'HEEZE': 2, 'GELDROP': 2, 'OISTERWIJK': 2, 'LUNTEREN': 2, 'EDE CENTRUM': 2, 'BUNDE (WESTF.)': 4, 'BIELEFELD HBF': 1, 'EYGELSHOVEN MARKT': 2, 'HERZOGENRATH': 2, 'AACHEN WEST': 2, 'AACHEN HBF': 1, 'KALDENKIRCHEN': 2, 'BREYELL': 2, 'BOISHEIM': 2, 'DULKEN': 2, 'VIERSEN': 2, 'MONCHENGLADBACH HBF': 5, 'NEUSS HBF': 2, 'DUSSELDORF HBF': 4, 'WUPPERTAL-VOHWINKEL': 2, 'WUPPERTAL HBF': 2, 'WUPPERTAL-BARMEN': 2, 'WUPPERTAL OBERBARMEN': 2, 'SCHWELM': 2, 'ENNEPETAL': 2, 'HAGEN HBF': 2, 'SCHWERTE (RUHR)': 2, 'HOLZWICKEDE': 2, 'UNNA': 2, 'BOENEN': 2, 'HAMM (WESTF.)': 1, 'ZALTBOMMEL': 2, 'CULEMBORG': 2, 'TIEL PASSEWAAIJ': 2, 'WOLFSBURG HBF': 2, 'STENDAL': 2, 'BERLIN-SPANDAU': 2, 'BERLIN HBF': 1, 'BUITENPOST': 4, 'FEANWALDEN': 5, 'WINSCHOTEN': 2, 'SCHEEMDA': 3, 'MANTGUM': 2, 'SNEEK NOORD': 3, 'SNEEK': 2, 'IJLST': 2, 'WORKUM': 2, 'HINDELOOPEN': 2, 'KOUDUM-MOLKWERUM': 2, 'STAVOREN': 1, 'DEINUM': 2, 'DRONRYP': 2, 'FRANEKER': 2, 'HARLINGEN': 2, 'HARLINGEN HAVEN': 1, 'LEEUWARDEN CAMMINGHABUREN': 2, 'HURDEGARYP': 2, 'DE WESTEREEN': 2, 'GRIJPSKERK': 2, 'ZUIDHORN': 3, 'ZUIDBROEK': 3, 'HOOGEZAND-SAPPEMEER': 2, 'MARTENSHOEK': 2, 'KROPSWOLDE': 2, 'ROODESCHOOL': 1, 'UITHUIZERMEEDEN': 2, 'UITHUIZEN': 2, 'USQUERT': 2, 'WARFFUM': 2, 'BAFLO': 2, 'WINSUM': 2, 'SAUWERD': 3, 'GRONINGEN NOORD': 2, 'DELFZIJL': 1, 'DELFZIJL WEST': 2, 'APPINGEDAM': 2, 'LOPPERSUM': 2, 'STEDUM': 2, 'BEDUM': 2, 'VEENDAM': 1, 'ENSCHEDE DE ESCHMARKE': 2, 'GLANERBRUG': 2, 'GRONAU WESTF': 2, 'EPE (WESTF)': 2, 'AHAUS': 2, 'LEGDEN': 2, 'ROSENDAHL-HOLTWICK': 2, 'COESFELD (WESTF)': 2, 'LETTE (KR COESFELD)': 2, 'DULMEN': 2, 'LUDINGHAUSEN': 2, 'SELM': 2, 'SELM-BEIFANG': 2, 'BORK (WESTF)': 2, 'LUNEN HBF': 2, 'PREUSSEN': 2, 'DORTMUND-DERNE': 2, 'DORTMUND-KIRCHDERNE': 2, 'DORTMUND HBF': 1, 'KOLN HBF': 4, 'FRANKFURT FLUGHAFEN FERNB': 5, 'FRANKFURT (M) HBF': 1, 'BONN HBF': 2, 'KOBLENZ HBF': 2, 'MAINZ HBF': 2, 'WURZBURG HBF': 2, 'NURNBERG HBF': 2, 'AUGSBURG HBF': 2, 'MUNCHEN HBF': 2, 'KUFSTEIN': 2, 'WORGL': 2, 'JENBACH': 2, 'INNSBRUCK HBF': 1, 'BAD NIEUWESCHANS': 1})"
      ]
     },
     "execution_count": 24,
     "metadata": {},
     "output_type": "execute_result"
    }
   ],
   "source": [
    "''' The degrees of the nodes in the Dutch railway system '''\n",
    "N.degree()"
   ]
  },
  {
   "cell_type": "code",
   "execution_count": 25,
   "metadata": {},
   "outputs": [
    {
     "data": {
      "text/plain": [
       "' The average degree of the nodes in the Dutch railway system indicating the number of directions \\na commuter can take from that given station.'"
      ]
     },
     "execution_count": 25,
     "metadata": {},
     "output_type": "execute_result"
    },
    {
     "name": "stdout",
     "output_type": "stream",
     "text": [
      "2.6776180698151952\n",
      "2.8096446700507616\n"
     ]
    }
   ],
   "source": [
    "''' The average degree of the nodes in the Dutch railway system indicating the number of directions \n",
    "a commuter can take from that given station.'''\n",
    "# The average degree of all the nodes in the Dutch railway system that consists of all routes that cover at least one dutch station\n",
    "sum = 0\n",
    "for n in N.nodes():\n",
    "    sum = sum + N.degree[n]\n",
    "print(sum/len(N.nodes()))\n",
    "\n",
    "# The average degree of all the nodes in the Dutch railway system if only the dutch stations are considered\n",
    "sum = 0\n",
    "number_dutch_stations = 0\n",
    "for n, d in N.nodes(data=True):\n",
    "    if N.nodes[n]['country']=='Netherlands':\n",
    "        number_dutch_stations += 1\n",
    "        sum = sum + N.degree[n]\n",
    "print(sum/number_dutch_stations)"
   ]
  },
  {
   "cell_type": "code",
   "execution_count": 26,
   "metadata": {},
   "outputs": [
    {
     "data": {
      "text/plain": [
       "' The number of edges in the Dutch railway system '"
      ]
     },
     "execution_count": 26,
     "metadata": {},
     "output_type": "execute_result"
    },
    {
     "data": {
      "text/plain": [
       "652"
      ]
     },
     "execution_count": 26,
     "metadata": {},
     "output_type": "execute_result"
    }
   ],
   "source": [
    "''' The number of edges in the Dutch railway system '''\n",
    "len(N.edges())"
   ]
  },
  {
   "cell_type": "code",
   "execution_count": 27,
   "metadata": {},
   "outputs": [
    {
     "data": {
      "text/plain": [
       "' The gamma index of the Dutch railway system'"
      ]
     },
     "execution_count": 27,
     "metadata": {},
     "output_type": "execute_result"
    },
    {
     "data": {
      "text/plain": [
       "0.44810996563573885"
      ]
     },
     "execution_count": 27,
     "metadata": {},
     "output_type": "execute_result"
    }
   ],
   "source": [
    "''' The gamma index of the Dutch railway system'''\n",
    "gamma_index = len(N.edges()) / (3*(len(N.nodes()) - 2))\n",
    "gamma_index"
   ]
  },
  {
   "cell_type": "code",
   "execution_count": 28,
   "metadata": {},
   "outputs": [
    {
     "data": {
      "text/plain": [
       "' The mean local clustering coefficient of the Dutch railway system '"
      ]
     },
     "execution_count": 28,
     "metadata": {},
     "output_type": "execute_result"
    },
    {
     "name": "stdout",
     "output_type": "stream",
     "text": [
      "mean local clustering: 0.10167858070986471\n"
     ]
    }
   ],
   "source": [
    "''' The mean local clustering coefficient of the Dutch railway system '''\n",
    "#The mean local clustering coefficient indicates for a random station the estimation of the division of the number of neighbouring stations of a station that are connected \n",
    "# divided by the possible number of connections between the neighbours of that station\n",
    "print (\"mean local clustering:\", nx.average_clustering(N))"
   ]
  },
  {
   "cell_type": "code",
   "execution_count": 29,
   "metadata": {},
   "outputs": [
    {
     "data": {
      "text/plain": [
       "' The degree distribution of the Dutch railway system'"
      ]
     },
     "execution_count": 29,
     "metadata": {},
     "output_type": "execute_result"
    },
    {
     "data": {
      "text/plain": [
       "<BarContainer object of 13 artists>"
      ]
     },
     "execution_count": 29,
     "metadata": {},
     "output_type": "execute_result"
    },
    {
     "data": {
      "text/plain": [
       "[<matplotlib.lines.Line2D at 0x1046c25e550>]"
      ]
     },
     "execution_count": 29,
     "metadata": {},
     "output_type": "execute_result"
    },
    {
     "data": {
      "text/plain": [
       "Text(0.5, 1.0, 'Degree distribution')"
      ]
     },
     "execution_count": 29,
     "metadata": {},
     "output_type": "execute_result"
    },
    {
     "data": {
      "text/plain": [
       "Text(0, 0.5, 'P (k)')"
      ]
     },
     "execution_count": 29,
     "metadata": {},
     "output_type": "execute_result"
    },
    {
     "data": {
      "text/plain": [
       "Text(0.5, 0, 'k')"
      ]
     },
     "execution_count": 29,
     "metadata": {},
     "output_type": "execute_result"
    },
    {
     "data": {
      "text/plain": [
       "[<matplotlib.axis.XTick at 0x1046c240190>,\n",
       " <matplotlib.axis.XTick at 0x1046c240160>,\n",
       " <matplotlib.axis.XTick at 0x1046c179970>,\n",
       " <matplotlib.axis.XTick at 0x1046c27bf70>,\n",
       " <matplotlib.axis.XTick at 0x1046c2864c0>,\n",
       " <matplotlib.axis.XTick at 0x1046c2869d0>,\n",
       " <matplotlib.axis.XTick at 0x1046c286ee0>,\n",
       " <matplotlib.axis.XTick at 0x1046c28b430>,\n",
       " <matplotlib.axis.XTick at 0x1046c28b940>,\n",
       " <matplotlib.axis.XTick at 0x1046c28be50>,\n",
       " <matplotlib.axis.XTick at 0x1046c28b070>,\n",
       " <matplotlib.axis.XTick at 0x1046c286100>,\n",
       " <matplotlib.axis.XTick at 0x1046c2931f0>]"
      ]
     },
     "execution_count": 29,
     "metadata": {},
     "output_type": "execute_result"
    },
    {
     "data": {
      "text/plain": [
       "[Text(0, 0, '20'),\n",
       " Text(0, 0, '12'),\n",
       " Text(0, 0, '11'),\n",
       " Text(0, 0, '10'),\n",
       " Text(0, 0, '9'),\n",
       " Text(0, 0, '8'),\n",
       " Text(0, 0, '7'),\n",
       " Text(0, 0, '6'),\n",
       " Text(0, 0, '5'),\n",
       " Text(0, 0, '4'),\n",
       " Text(0, 0, '3'),\n",
       " Text(0, 0, '2'),\n",
       " Text(0, 0, '1')]"
      ]
     },
     "execution_count": 29,
     "metadata": {},
     "output_type": "execute_result"
    },
    {
     "data": {
      "text/plain": [
       "<BarContainer object of 13 artists>"
      ]
     },
     "execution_count": 29,
     "metadata": {},
     "output_type": "execute_result"
    },
    {
     "data": {
      "text/plain": [
       "[<matplotlib.lines.Line2D at 0x1046c0c7610>]"
      ]
     },
     "execution_count": 29,
     "metadata": {},
     "output_type": "execute_result"
    },
    {
     "data": {
      "text/plain": [
       "Text(0.5, 1.0, 'Degree count')"
      ]
     },
     "execution_count": 29,
     "metadata": {},
     "output_type": "execute_result"
    },
    {
     "data": {
      "text/plain": [
       "Text(0, 0.5, 'Count')"
      ]
     },
     "execution_count": 29,
     "metadata": {},
     "output_type": "execute_result"
    },
    {
     "data": {
      "text/plain": [
       "Text(0.5, 0, 'k')"
      ]
     },
     "execution_count": 29,
     "metadata": {},
     "output_type": "execute_result"
    },
    {
     "data": {
      "text/plain": [
       "[<matplotlib.axis.XTick at 0x1046b790cd0>,\n",
       " <matplotlib.axis.XTick at 0x1046c297fd0>,\n",
       " <matplotlib.axis.XTick at 0x1046c297880>,\n",
       " <matplotlib.axis.XTick at 0x1046c124d90>,\n",
       " <matplotlib.axis.XTick at 0x1046c1249a0>,\n",
       " <matplotlib.axis.XTick at 0x1046c124fd0>,\n",
       " <matplotlib.axis.XTick at 0x1046c0b58b0>,\n",
       " <matplotlib.axis.XTick at 0x1046c0b5790>,\n",
       " <matplotlib.axis.XTick at 0x1046c076100>,\n",
       " <matplotlib.axis.XTick at 0x1046c076490>,\n",
       " <matplotlib.axis.XTick at 0x1046c0b5940>,\n",
       " <matplotlib.axis.XTick at 0x1046c0a8dc0>,\n",
       " <matplotlib.axis.XTick at 0x1046c076ac0>]"
      ]
     },
     "execution_count": 29,
     "metadata": {},
     "output_type": "execute_result"
    },
    {
     "data": {
      "text/plain": [
       "[Text(0, 0, '20'),\n",
       " Text(0, 0, '12'),\n",
       " Text(0, 0, '11'),\n",
       " Text(0, 0, '10'),\n",
       " Text(0, 0, '9'),\n",
       " Text(0, 0, '8'),\n",
       " Text(0, 0, '7'),\n",
       " Text(0, 0, '6'),\n",
       " Text(0, 0, '5'),\n",
       " Text(0, 0, '4'),\n",
       " Text(0, 0, '3'),\n",
       " Text(0, 0, '2'),\n",
       " Text(0, 0, '1')]"
      ]
     },
     "execution_count": 29,
     "metadata": {},
     "output_type": "execute_result"
    },
    {
     "data": {
      "image/png": "[encoded data removed]",
      "text/plain": [
       "<Figure size 360x360 with 1 Axes>"
      ]
     },
     "metadata": {
      "needs_background": "light"
     },
     "output_type": "display_data"
    },
    {
     "data": {
      "image/png": "[encoded data removed]",
      "text/plain": [
       "<Figure size 360x360 with 1 Axes>"
      ]
     },
     "metadata": {
      "needs_background": "light"
     },
     "output_type": "display_data"
    }
   ],
   "source": [
    "''' The degree distribution of the Dutch railway system'''\n",
    "\n",
    "#Sort degree values\n",
    "degree_sequence=sorted([d for n, d in N.degree()], reverse=True)\n",
    "\n",
    "#Count number of frequences of degree values\n",
    "degreeCount=collections.Counter(degree_sequence)\n",
    "\n",
    "#Define variables deg and cnt and probability\n",
    "deg, cnt = zip(*degreeCount.items())\n",
    "probability = []\n",
    "for v in cnt:\n",
    "    pv= v/len(N.nodes())\n",
    "    probability.append(pv)\n",
    "\n",
    "#plot degree probability histogram\n",
    "fig, ax = plt.subplots(figsize=(5, 5))\n",
    "plt.bar(deg, probability, width=0.95, color='lightgrey')\n",
    "\n",
    "#plot degree distribution\n",
    "plt.plot(deg, probability, color=\"b\")\n",
    "\n",
    "#graph settings\n",
    "plt.title(\"Degree distribution\")\n",
    "plt.ylabel(\"P (k)\")\n",
    "plt.xlabel(\"k\")\n",
    "ax.set_xticks([d for d in deg])\n",
    "ax.set_xticklabels(deg)\n",
    "\n",
    "#count\n",
    "fig, ax = plt.subplots(figsize=(5, 5))\n",
    "plt.bar(deg, cnt, width=0.95, color='lightgrey')\n",
    "\n",
    "plt.plot(deg, cnt, color=\"b\")\n",
    "\n",
    "#graph settings\n",
    "plt.title(\"Degree count\")\n",
    "plt.ylabel(\"Count\")\n",
    "plt.xlabel(\"k\")\n",
    "ax.set_xticks([d for d in deg])\n",
    "ax.set_xticklabels(deg)\n",
    "\n",
    "plt.show()"
   ]
  },
  {
   "cell_type": "code",
   "execution_count": 30,
   "metadata": {},
   "outputs": [
    {
     "data": {
      "text/plain": [
       "' Detection of the scale-free property in the Dutch railway system:\\nA PTN with the scale-free property consists of a large number of vertices that exhibit low degree and a few number of vertices that exhibit very high degree. '"
      ]
     },
     "execution_count": 30,
     "metadata": {},
     "output_type": "execute_result"
    },
    {
     "name": "stdout",
     "output_type": "stream",
     "text": [
      "The scale-free property is present in the Dutch railway network because the majority of nodes exhibit a low degree value equal to 2 and almost none of the nodes exhibit a degree value equal to 6 or higher\n"
     ]
    }
   ],
   "source": [
    "''' Detection of the scale-free property in the Dutch railway system:\n",
    "A PTN with the scale-free property consists of a large number of vertices that exhibit low degree and a few number of vertices that exhibit very high degree. '''\n",
    "print(\"The scale-free property is present in the Dutch railway network because the majority of nodes exhibit a low degree value equal to 2 and almost none of the nodes exhibit a degree value equal to 6 or higher\")"
   ]
  },
  {
   "cell_type": "code",
   "execution_count": 31,
   "metadata": {},
   "outputs": [
    {
     "data": {
      "text/plain": [
       "' The average path length of the Dutch railway system:\\nThe average path length represents in the L-space the average of all the shortest paths to be transversed between all public transport stop pairs\\nwhich can be reached by means of one or multiple routes.'"
      ]
     },
     "execution_count": 31,
     "metadata": {},
     "output_type": "execute_result"
    },
    {
     "name": "stdout",
     "output_type": "stream",
     "text": [
      "9.765896857386705\n"
     ]
    }
   ],
   "source": [
    "''' The average path length of the Dutch railway system:\n",
    "The average path length represents in the L-space the average of all the shortest paths to be transversed between all public transport stop pairs\n",
    "which can be reached by means of one or multiple routes.'''\n",
    "print(nx.average_shortest_path_length(N))"
   ]
  },
  {
   "cell_type": "code",
   "execution_count": 32,
   "metadata": {},
   "outputs": [
    {
     "data": {
      "text/plain": [
       "' The assortativity of the Dutch railway system:\\nIn an assortative network, high-degree vertices tend to be connected and low-degree vertices tend to stick together as well. \\nIn a disassortative network conversely, high-degree and low-degree vertices tend to be connected to each other instead of being connected to vertices of the same kind.'"
      ]
     },
     "execution_count": 32,
     "metadata": {},
     "output_type": "execute_result"
    },
    {
     "name": "stdout",
     "output_type": "stream",
     "text": [
      "0.26676313176398825\n"
     ]
    }
   ],
   "source": [
    "''' The assortativity of the Dutch railway system:\n",
    "In an assortative network, high-degree vertices tend to be connected and low-degree vertices tend to stick together as well. \n",
    "In a disassortative network conversely, high-degree and low-degree vertices tend to be connected to each other instead of being connected to vertices of the same kind.'''\n",
    "print(nx.degree_pearson_correlation_coefficient(N))"
   ]
  },
  {
   "cell_type": "markdown",
   "metadata": {},
   "source": [
    "# To export the railway graphs"
   ]
  },
  {
   "cell_type": "code",
   "execution_count": 33,
   "metadata": {},
   "outputs": [],
   "source": [
    "nx.write_gpickle(B, \"B_graph\")\n",
    "nx.write_gpickle(N, \"N_graph\")"
   ]
  }
 ],
 "metadata": {
  "kernelspec": {
   "display_name": "Python 3",
   "language": "python",
   "name": "python3"
  },
  "language_info": {
   "codemirror_mode": {
    "name": "ipython",
    "version": 3
   },
   "file_extension": ".py",
   "mimetype": "text/x-python",
   "name": "python",
   "nbconvert_exporter": "python",
   "pygments_lexer": "ipython3",
   "version": "3.8.3"
  }
 },
 "nbformat": 4,
 "nbformat_minor": 4
}
