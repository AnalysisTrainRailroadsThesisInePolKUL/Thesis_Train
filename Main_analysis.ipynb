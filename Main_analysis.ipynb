{
 "cells": [
  {
   "cell_type": "markdown",
   "metadata": {
    "id": "o9mOZQ0mOtxI"
   },
   "source": [
    "# Import of packages"
   ]
  },
  {
   "cell_type": "code",
   "execution_count": 1,
   "metadata": {
    "colab": {
     "base_uri": "https://localhost:8080/",
     "height": 1000
    },
    "executionInfo": {
     "elapsed": 42534,
     "status": "ok",
     "timestamp": 1617437215275,
     "user": {
      "displayName": "Ine Winters",
      "photoUrl": "",
      "userId": "11267554535649979995"
     },
     "user_tz": -120
    },
    "id": "XeE0n9L1OtyO",
    "outputId": "ed3f5aa5-e4b0-4018-b166-88f7429fd482",
    "scrolled": true
   },
   "outputs": [
    {
     "name": "stdout",
     "output_type": "stream",
     "text": [
      "Requirement already satisfied: kneed in /Users/pol/opt/anaconda3/lib/python3.8/site-packages (0.7.0)\n",
      "Requirement already satisfied: matplotlib in /Users/pol/opt/anaconda3/lib/python3.8/site-packages (from kneed) (3.1.3)\n",
      "Requirement already satisfied: scipy in /Users/pol/opt/anaconda3/lib/python3.8/site-packages (from kneed) (1.5.2)\n",
      "Requirement already satisfied: numpy>=1.14.2 in /Users/pol/opt/anaconda3/lib/python3.8/site-packages (from kneed) (1.19.2)\n",
      "Requirement already satisfied: cycler>=0.10 in /Users/pol/opt/anaconda3/lib/python3.8/site-packages (from matplotlib->kneed) (0.10.0)\n",
      "Requirement already satisfied: python-dateutil>=2.1 in /Users/pol/opt/anaconda3/lib/python3.8/site-packages (from matplotlib->kneed) (2.8.1)\n",
      "Requirement already satisfied: pyparsing!=2.0.4,!=2.1.2,!=2.1.6,>=2.0.1 in /Users/pol/opt/anaconda3/lib/python3.8/site-packages (from matplotlib->kneed) (2.4.7)\n",
      "Requirement already satisfied: kiwisolver>=1.0.1 in /Users/pol/opt/anaconda3/lib/python3.8/site-packages (from matplotlib->kneed) (1.3.0)\n",
      "Requirement already satisfied: six in /Users/pol/opt/anaconda3/lib/python3.8/site-packages (from cycler>=0.10->matplotlib->kneed) (1.15.0)\n",
      "Requirement already satisfied: osmnx in /Users/pol/opt/anaconda3/lib/python3.8/site-packages (1.0.1)\n",
      "Requirement already satisfied: geopandas>=0.8 in /Users/pol/opt/anaconda3/lib/python3.8/site-packages (from osmnx) (0.8.2)\n",
      "Requirement already satisfied: requests>=2.25 in /Users/pol/opt/anaconda3/lib/python3.8/site-packages (from osmnx) (2.25.1)\n",
      "Requirement already satisfied: descartes>=1.1 in /Users/pol/opt/anaconda3/lib/python3.8/site-packages (from osmnx) (1.1.0)\n",
      "Requirement already satisfied: pyproj>=2.6 in /Users/pol/opt/anaconda3/lib/python3.8/site-packages (from osmnx) (3.0.0.post1)\n",
      "Requirement already satisfied: Shapely>=1.7 in /Users/pol/opt/anaconda3/lib/python3.8/site-packages (from osmnx) (1.7.1)\n",
      "Collecting matplotlib>=3.3\n",
      "  Using cached matplotlib-3.4.1-cp38-cp38-macosx_10_9_x86_64.whl (7.2 MB)\n",
      "Requirement already satisfied: numpy>=1.19 in /Users/pol/opt/anaconda3/lib/python3.8/site-packages (from osmnx) (1.19.2)\n",
      "Requirement already satisfied: pandas>=1.1 in /Users/pol/opt/anaconda3/lib/python3.8/site-packages (from osmnx) (1.1.3)\n",
      "Requirement already satisfied: networkx>=2.5 in /Users/pol/opt/anaconda3/lib/python3.8/site-packages (from osmnx) (2.5)\n",
      "Requirement already satisfied: Rtree>=0.9 in /Users/pol/opt/anaconda3/lib/python3.8/site-packages (from osmnx) (0.9.4)\n",
      "Requirement already satisfied: fiona in /Users/pol/opt/anaconda3/lib/python3.8/site-packages (from geopandas>=0.8->osmnx) (1.8.18)\n",
      "Requirement already satisfied: urllib3<1.27,>=1.21.1 in /Users/pol/opt/anaconda3/lib/python3.8/site-packages (from requests>=2.25->osmnx) (1.25.11)\n",
      "Requirement already satisfied: chardet<5,>=3.0.2 in /Users/pol/opt/anaconda3/lib/python3.8/site-packages (from requests>=2.25->osmnx) (3.0.4)\n",
      "Requirement already satisfied: certifi>=2017.4.17 in /Users/pol/opt/anaconda3/lib/python3.8/site-packages (from requests>=2.25->osmnx) (2020.6.20)\n",
      "Requirement already satisfied: idna<3,>=2.5 in /Users/pol/opt/anaconda3/lib/python3.8/site-packages (from requests>=2.25->osmnx) (2.10)\n",
      "Requirement already satisfied: pillow>=6.2.0 in /Users/pol/opt/anaconda3/lib/python3.8/site-packages (from matplotlib>=3.3->osmnx) (8.0.1)\n",
      "Requirement already satisfied: pyparsing>=2.2.1 in /Users/pol/opt/anaconda3/lib/python3.8/site-packages (from matplotlib>=3.3->osmnx) (2.4.7)\n",
      "Requirement already satisfied: cycler>=0.10 in /Users/pol/opt/anaconda3/lib/python3.8/site-packages (from matplotlib>=3.3->osmnx) (0.10.0)\n",
      "Requirement already satisfied: python-dateutil>=2.7 in /Users/pol/opt/anaconda3/lib/python3.8/site-packages (from matplotlib>=3.3->osmnx) (2.8.1)\n",
      "Requirement already satisfied: kiwisolver>=1.0.1 in /Users/pol/opt/anaconda3/lib/python3.8/site-packages (from matplotlib>=3.3->osmnx) (1.3.0)\n",
      "Requirement already satisfied: pytz>=2017.2 in /Users/pol/opt/anaconda3/lib/python3.8/site-packages (from pandas>=1.1->osmnx) (2020.1)\n",
      "Requirement already satisfied: decorator>=4.3.0 in /Users/pol/opt/anaconda3/lib/python3.8/site-packages (from networkx>=2.5->osmnx) (4.4.2)\n",
      "Requirement already satisfied: setuptools in /Users/pol/opt/anaconda3/lib/python3.8/site-packages (from Rtree>=0.9->osmnx) (50.3.1.post20201107)\n",
      "Requirement already satisfied: six>=1.7 in /Users/pol/opt/anaconda3/lib/python3.8/site-packages (from fiona->geopandas>=0.8->osmnx) (1.15.0)\n",
      "Requirement already satisfied: cligj>=0.5 in /Users/pol/opt/anaconda3/lib/python3.8/site-packages (from fiona->geopandas>=0.8->osmnx) (0.7.1)\n",
      "Requirement already satisfied: click-plugins>=1.0 in /Users/pol/opt/anaconda3/lib/python3.8/site-packages (from fiona->geopandas>=0.8->osmnx) (1.1.1)\n",
      "Requirement already satisfied: attrs>=17 in /Users/pol/opt/anaconda3/lib/python3.8/site-packages (from fiona->geopandas>=0.8->osmnx) (20.3.0)\n",
      "Requirement already satisfied: click<8,>=4.0 in /Users/pol/opt/anaconda3/lib/python3.8/site-packages (from fiona->geopandas>=0.8->osmnx) (7.1.2)\n",
      "Requirement already satisfied: munch in /Users/pol/opt/anaconda3/lib/python3.8/site-packages (from fiona->geopandas>=0.8->osmnx) (2.5.0)\n",
      "Installing collected packages: matplotlib\n",
      "  Attempting uninstall: matplotlib\n",
      "    Found existing installation: matplotlib 3.1.3\n",
      "    Uninstalling matplotlib-3.1.3:\n",
      "      Successfully uninstalled matplotlib-3.1.3\n",
      "Successfully installed matplotlib-3.4.1\n",
      "Collecting matplotlib==3.1.3\n",
      "  Using cached matplotlib-3.1.3-cp38-cp38-macosx_10_9_x86_64.whl (13.2 MB)\n",
      "Requirement already satisfied: numpy>=1.11 in /Users/pol/opt/anaconda3/lib/python3.8/site-packages (from matplotlib==3.1.3) (1.19.2)\n",
      "Requirement already satisfied: pyparsing!=2.0.4,!=2.1.2,!=2.1.6,>=2.0.1 in /Users/pol/opt/anaconda3/lib/python3.8/site-packages (from matplotlib==3.1.3) (2.4.7)\n",
      "Requirement already satisfied: cycler>=0.10 in /Users/pol/opt/anaconda3/lib/python3.8/site-packages (from matplotlib==3.1.3) (0.10.0)\n",
      "Requirement already satisfied: python-dateutil>=2.1 in /Users/pol/opt/anaconda3/lib/python3.8/site-packages (from matplotlib==3.1.3) (2.8.1)\n",
      "Requirement already satisfied: kiwisolver>=1.0.1 in /Users/pol/opt/anaconda3/lib/python3.8/site-packages (from matplotlib==3.1.3) (1.3.0)\n",
      "Requirement already satisfied: six in /Users/pol/opt/anaconda3/lib/python3.8/site-packages (from cycler>=0.10->matplotlib==3.1.3) (1.15.0)\n",
      "Installing collected packages: matplotlib\n",
      "  Attempting uninstall: matplotlib\n",
      "    Found existing installation: matplotlib 3.4.1\n",
      "    Uninstalling matplotlib-3.4.1:\n",
      "      Successfully uninstalled matplotlib-3.4.1\n",
      "\u001b[31mERROR: After October 2020 you may experience errors when installing or updating packages. This is because pip will change the way that it resolves dependency conflicts.\n",
      "\n",
      "We recommend you use --use-feature=2020-resolver to test your packages with the new resolver before it becomes the default.\n",
      "\n",
      "osmnx 1.0.1 requires matplotlib>=3.3, but you'll have matplotlib 3.1.3 which is incompatible.\u001b[0m\n",
      "Successfully installed matplotlib-3.1.3\n"
     ]
    },
    {
     "name": "stderr",
     "output_type": "stream",
     "text": [
      "/Users/pol/opt/anaconda3/lib/python3.8/site-packages/sklearn/utils/deprecation.py:143: FutureWarning: The sklearn.neighbors.nearest_centroid module is  deprecated in version 0.22 and will be removed in version 0.24. The corresponding classes / functions should instead be imported from sklearn.neighbors. Anything that cannot be imported from sklearn.neighbors is now part of the private API.\n",
      "  warnings.warn(message, FutureWarning)\n"
     ]
    }
   ],
   "source": [
    "'''To install the required packages that are not included in Colaboratory.'''\n",
    "#Installation of packages that are not included in Colaboratory\n",
    "!pip install kneed\n",
    "!pip install osmnx\n",
    "\n",
    "'''To install a specific version of the matplotlib package.'''\n",
    "!pip install matplotlib==3.1.3\n",
    "\n",
    "'''To import the required packages.'''\n",
    "import pandas as pd\n",
    "import numpy as np\n",
    "import networkx as nx\n",
    "import collections\n",
    "import matplotlib.pyplot as plt\n",
    "import math\n",
    "from geopy.geocoders import Nominatim\n",
    "from geopy.extra.rate_limiter import RateLimiter\n",
    "\n",
    "from kneed import KneeLocator\n",
    "import seaborn as sns\n",
    "from sklearn.cluster import KMeans\n",
    "from scipy.spatial import distance\n",
    "from sklearn.neighbors.nearest_centroid import NearestCentroid\n",
    "from sklearn.preprocessing import StandardScaler\n",
    "from sklearn.pipeline import Pipeline\n",
    "from sklearn.preprocessing import LabelEncoder, MinMaxScaler\n",
    "from sklearn.decomposition import PCA\n",
    "\n",
    "#import osmnx as ox"
   ]
  },
  {
   "cell_type": "markdown",
   "metadata": {
    "id": "3XrxuJtuOtyT"
   },
   "source": [
    "# Settings"
   ]
  },
  {
   "cell_type": "code",
   "execution_count": 2,
   "metadata": {
    "executionInfo": {
     "elapsed": 40444,
     "status": "ok",
     "timestamp": 1617437215281,
     "user": {
      "displayName": "Ine Winters",
      "photoUrl": "",
      "userId": "11267554535649979995"
     },
     "user_tz": -120
    },
    "id": "FjSmD84JOtyU"
   },
   "outputs": [],
   "source": [
    "'''To display all output results of a Jupyter cell.'''\n",
    "from IPython.core.interactiveshell import InteractiveShell\n",
    "InteractiveShell.ast_node_interactivity = \"all\""
   ]
  },
  {
   "cell_type": "code",
   "execution_count": 3,
   "metadata": {
    "colab": {
     "base_uri": "https://localhost:8080/",
     "height": 35
    },
    "executionInfo": {
     "elapsed": 40358,
     "status": "ok",
     "timestamp": 1617437215285,
     "user": {
      "displayName": "Ine Winters",
      "photoUrl": "",
      "userId": "11267554535649979995"
     },
     "user_tz": -120
    },
    "id": "bGFkJGl6OtyW",
    "outputId": "d5343843-bfb0-4377-a7ca-54189af0fb35"
   },
   "outputs": [
    {
     "data": {
      "text/plain": [
       "'To ensure that the output results of extensive output results are not truncated.'"
      ]
     },
     "execution_count": 3,
     "metadata": {},
     "output_type": "execute_result"
    }
   ],
   "source": [
    "'''To ensure that the output results of extensive output results are not truncated.'''\n",
    "#pd.options.display.max_rows = 4000"
   ]
  },
  {
   "cell_type": "markdown",
   "metadata": {
    "id": "adRGa184Otyd"
   },
   "source": [
    "# Import csv files"
   ]
  },
  {
   "cell_type": "code",
   "execution_count": 187,
   "metadata": {},
   "outputs": [],
   "source": [
    "import os\n",
    "#file location of coutries train networks\n",
    "coutries_train_networks_loc = os.getcwd() + '/countries_train_networks'"
   ]
  },
  {
   "cell_type": "code",
   "execution_count": 4,
   "metadata": {
    "colab": {
     "base_uri": "https://localhost:8080/",
     "height": 35
    },
    "executionInfo": {
     "elapsed": 40953,
     "status": "ok",
     "timestamp": 1617437215961,
     "user": {
      "displayName": "Ine Winters",
      "photoUrl": "",
      "userId": "11267554535649979995"
     },
     "user_tz": -120
    },
    "id": "x35Xmh9pOtye",
    "outputId": "dcdf0d7c-f5b5-46cc-a772-8abaca5b1045"
   },
   "outputs": [
    {
     "data": {
      "text/plain": [
       "' To import the df_for_edges dfs of Belgium and the Netherlands'"
      ]
     },
     "execution_count": 4,
     "metadata": {},
     "output_type": "execute_result"
    }
   ],
   "source": [
    "''' To import the df_for_edges dfs of Belgium and the Netherlands'''\n",
    "datalink = \"https://raw.githubusercontent.com/polkuleuven/Thesis_Train/main/df_for_edges/\"\n",
    "df_for_edges_Belgium = pd.read_csv( datalink + 'df_for_edges_Belgium.csv', sep=\",\")\n",
    "df_for_edges_Netherlands = pd.read_csv(datalink + 'df_for_edges_Netherlands.csv', sep=\",\")\n",
    "df_for_edges_Switzerland = pd.read_csv(datalink + 'df_for_edges_Switzerland.csv', sep=\",\")"
   ]
  },
  {
   "cell_type": "code",
   "execution_count": 5,
   "metadata": {
    "colab": {
     "base_uri": "https://localhost:8080/",
     "height": 35
    },
    "executionInfo": {
     "elapsed": 41245,
     "status": "ok",
     "timestamp": 1617437216275,
     "user": {
      "displayName": "Ine Winters",
      "photoUrl": "",
      "userId": "11267554535649979995"
     },
     "user_tz": -120
    },
    "id": "YABsdIlrOtyh",
    "outputId": "1da5244c-977a-4902-9c5a-dfc14d4c345f"
   },
   "outputs": [
    {
     "data": {
      "text/plain": [
       "' To import the stops_cleaned df for Belgium and the Netherlands'"
      ]
     },
     "execution_count": 5,
     "metadata": {},
     "output_type": "execute_result"
    }
   ],
   "source": [
    "''' To import the stops_cleaned df for Belgium and the Netherlands'''\n",
    "datalink = \"https://raw.githubusercontent.com/polkuleuven/Thesis_Train/main/stops_cleaned/\"\n",
    "stops_cleaned_Belgium = pd.read_csv(datalink + 'stops_cleaned_Belgium.csv', sep=\",\")\n",
    "stops_cleaned_Netherlands = pd.read_csv(datalink + 'stops_cleaned_Netherlands.csv', sep=\",\")\n",
    "stops_cleaned_Switzerland = pd.read_csv(datalink + 'stops_cleaned_Switzerland.csv', sep=\",\")"
   ]
  },
  {
   "cell_type": "code",
   "execution_count": 6,
   "metadata": {
    "colab": {
     "base_uri": "https://localhost:8080/",
     "height": 35
    },
    "executionInfo": {
     "elapsed": 42279,
     "status": "ok",
     "timestamp": 1617437217397,
     "user": {
      "displayName": "Ine Winters",
      "photoUrl": "",
      "userId": "11267554535649979995"
     },
     "user_tz": -120
    },
    "id": "v4MACWPEOtyi",
    "outputId": "da578a24-09df-4842-d9cf-84124ee2e268"
   },
   "outputs": [
    {
     "data": {
      "text/plain": [
       "' To import the belgian_routes_Belgium and the dutch_routes_Netherlands csvs'"
      ]
     },
     "execution_count": 6,
     "metadata": {},
     "output_type": "execute_result"
    }
   ],
   "source": [
    "''' To import the belgian_routes_Belgium and the dutch_routes_Netherlands csvs'''\n",
    "datalink = \"https://raw.githubusercontent.com/polkuleuven/Thesis_Train/main/routes/\"\n",
    "belgian_routes_Belgium = pd.read_csv(datalink + 'belgian_routes_Belgium.csv', sep=\",\")\n",
    "dutch_routes_Netherlands = pd.read_csv(datalink + 'dutch_routes_Netherlands.csv', sep=\",\")\n",
    "swiss_routes_Switzerland = pd.read_csv(datalink + 'swiss_routes_Switzerland.csv', sep=\",\")"
   ]
  },
  {
   "cell_type": "markdown",
   "metadata": {
    "id": "m8i9vNY1Otyk"
   },
   "source": [
    "# **Research question 1: How similar are railway systems in terms of their global network metrics? Comparison of the Belgian and the Dutch railway system in L-space representation**"
   ]
  },
  {
   "cell_type": "code",
   "execution_count": 7,
   "metadata": {
    "colab": {
     "base_uri": "https://localhost:8080/",
     "height": 35
    },
    "executionInfo": {
     "elapsed": 42241,
     "status": "ok",
     "timestamp": 1617437217399,
     "user": {
      "displayName": "Ine Winters",
      "photoUrl": "",
      "userId": "11267554535649979995"
     },
     "user_tz": -120
    },
    "id": "n24eNEICOtzM",
    "outputId": "79eb79b4-e5f6-4ae8-ad13-a17a07caf773"
   },
   "outputs": [
    {
     "data": {
      "text/plain": [
       "' To construct the network graph for the country '"
      ]
     },
     "execution_count": 7,
     "metadata": {},
     "output_type": "execute_result"
    }
   ],
   "source": [
    "''' To construct the network graph for the country '''\n",
    "def create_graph(df_for_edges):\n",
    "    G = nx.Graph()\n",
    "    G = nx.from_pandas_edgelist(df_for_edges, 'stop_name_1', 'stop_name_2')\n",
    "    return G"
   ]
  },
  {
   "cell_type": "code",
   "execution_count": 8,
   "metadata": {
    "colab": {
     "base_uri": "https://localhost:8080/",
     "height": 35
    },
    "executionInfo": {
     "elapsed": 42210,
     "status": "ok",
     "timestamp": 1617437217408,
     "user": {
      "displayName": "Ine Winters",
      "photoUrl": "",
      "userId": "11267554535649979995"
     },
     "user_tz": -120
    },
    "id": "03YeXt4IOtzN",
    "outputId": "edcc9f9d-4c10-4cfd-9691-2d5fbe13606a"
   },
   "outputs": [
    {
     "data": {
      "text/plain": [
       "' To assign weights to the network graph for the country'"
      ]
     },
     "execution_count": 8,
     "metadata": {},
     "output_type": "execute_result"
    }
   ],
   "source": [
    "''' To assign weights to the network graph for the country'''\n",
    "def assign_weights (G, df_for_edges, stops_cleaned):\n",
    "    # To assign node weights to graph\n",
    "    for i in range(len(stops_cleaned)):\n",
    "        for n, d in G.nodes(data=True):\n",
    "            if stops_cleaned.stop_name[i] == n:\n",
    "                G.nodes[n]['id']=stops_cleaned.stop_id[i]\n",
    "                G.nodes[n]['latitude']=stops_cleaned.stop_lat[i]\n",
    "                G.nodes[n]['longitude']=stops_cleaned.stop_lon[i]\n",
    "                G.nodes[n]['country']=stops_cleaned.country[i]\n",
    "\n",
    "    # To assign edge weights to the graph: the edge weight represents a list that contains all route_ids that cover that edge\n",
    "    routes_on_edge = {}\n",
    "    for node1,node2, edgeData in G.edges(data = True):\n",
    "        if (node1, node2) not in routes_on_edge:\n",
    "                routes_on_edge[(node1, node2)] = set()\n",
    "        route_id_node1_node2= df_for_edges[(df_for_edges['stop_name_1'] == node1 ) & (df_for_edges['stop_name_2'] == node2 )]['route_id']\n",
    "        route_id_node2_node1= df_for_edges[(df_for_edges['stop_name_1'] == node2 ) & (df_for_edges['stop_name_2'] == node1 )]['route_id']\n",
    "        for route_id in pd.concat([route_id_node1_node2, route_id_node2_node1]):\n",
    "            routes_on_edge[(node1, node2)].add(route_id)\n",
    "        edgeData['route_id'] = routes_on_edge[(node1, node2)] \n",
    "\n",
    "    return G"
   ]
  },
  {
   "cell_type": "code",
   "execution_count": 9,
   "metadata": {
    "colab": {
     "base_uri": "https://localhost:8080/",
     "height": 35
    },
    "executionInfo": {
     "elapsed": 42136,
     "status": "ok",
     "timestamp": 1617437217412,
     "user": {
      "displayName": "Ine Winters",
      "photoUrl": "",
      "userId": "11267554535649979995"
     },
     "user_tz": -120
    },
    "id": "WEjL6Wb8OtzQ",
    "outputId": "abf3e8c4-87a6-480d-8451-4dc9550179ad"
   },
   "outputs": [
    {
     "data": {
      "text/plain": [
       "'Calculates the average degree'"
      ]
     },
     "execution_count": 9,
     "metadata": {},
     "output_type": "execute_result"
    }
   ],
   "source": [
    "'''Calculates the average degree'''\n",
    "def avg_degree(G):\n",
    "    sum_degrees = 0\n",
    "    for n in G.nodes():\n",
    "        sum_degrees += G.degree[n]\n",
    "    return (sum_degrees/len(G.nodes()))"
   ]
  },
  {
   "cell_type": "code",
   "execution_count": 10,
   "metadata": {
    "colab": {
     "base_uri": "https://localhost:8080/",
     "height": 35
    },
    "executionInfo": {
     "elapsed": 41990,
     "status": "ok",
     "timestamp": 1617437217431,
     "user": {
      "displayName": "Ine Winters",
      "photoUrl": "",
      "userId": "11267554535649979995"
     },
     "user_tz": -120
    },
    "id": "ZLWfzh0mOtzU",
    "outputId": "da6a2184-25cd-4899-cb7c-18f2689ff727"
   },
   "outputs": [
    {
     "data": {
      "text/plain": [
       "'Calculates the gamma index'"
      ]
     },
     "execution_count": 10,
     "metadata": {},
     "output_type": "execute_result"
    }
   ],
   "source": [
    "'''Calculates the gamma index'''\n",
    "def gamma_index(G):\n",
    "    return len(G.edges()) / (3*(len(G.nodes()) - 2))"
   ]
  },
  {
   "cell_type": "code",
   "execution_count": 11,
   "metadata": {
    "colab": {
     "base_uri": "https://localhost:8080/",
     "height": 35
    },
    "executionInfo": {
     "elapsed": 41811,
     "status": "ok",
     "timestamp": 1617437217436,
     "user": {
      "displayName": "Ine Winters",
      "photoUrl": "",
      "userId": "11267554535649979995"
     },
     "user_tz": -120
    },
    "id": "6XHooVCBOtza",
    "outputId": "e68634b4-9af0-4c2d-aede-2c1a937a262b"
   },
   "outputs": [
    {
     "data": {
      "text/plain": [
       "' The degree distribution of the country railway system'"
      ]
     },
     "execution_count": 11,
     "metadata": {},
     "output_type": "execute_result"
    }
   ],
   "source": [
    "''' The degree distribution of the country railway system'''\n",
    "def degree_distribution(G):\n",
    "\n",
    "    #Sort degree values\n",
    "    degree_sequence=sorted([d for n, d in G.degree()], reverse=True)\n",
    "\n",
    "    #Count number of frequences of degree values\n",
    "    degreeCount=collections.Counter(degree_sequence)\n",
    "\n",
    "    #Define variables deg and cnt and probability\n",
    "    deg, cnt = zip(*degreeCount.items())\n",
    "    probability = []\n",
    "    for v in cnt:\n",
    "        pv= v/len(G.nodes())\n",
    "        probability.append(pv)\n",
    "\n",
    "    #plot degree probability histogram\n",
    "    fig, ax = plt.subplots(figsize=(5, 5))\n",
    "    plt.bar(deg, probability, width=0.95, color='lightgrey')\n",
    "\n",
    "    #plot degree distribution\n",
    "    plt.plot(deg, probability, color=\"b\")\n",
    "\n",
    "    #graph settings\n",
    "    plt.title(\"Degree distribution\")\n",
    "    plt.ylabel(\"P (k)\")\n",
    "    plt.xlabel(\"k\")\n",
    "    ax.set_xticks([d for d in deg])\n",
    "    ax.set_xticklabels(deg)\n",
    "\n",
    "    #count\n",
    "    fig, ax = plt.subplots(figsize=(5, 5))\n",
    "    plt.bar(deg, cnt, width=0.95, color='lightgrey')\n",
    "\n",
    "    plt.plot(deg, cnt, color=\"b\")\n",
    "\n",
    "    #graph settings\n",
    "    plt.title(\"Degree count\")\n",
    "    plt.ylabel(\"Count\")\n",
    "    plt.xlabel(\"k\")\n",
    "    ax.set_xticks([d for d in deg])\n",
    "    ax.set_xticklabels(deg)\n",
    "\n",
    "    plt.show()"
   ]
  },
  {
   "cell_type": "code",
   "execution_count": 254,
   "metadata": {},
   "outputs": [
    {
     "data": {
      "text/plain": [
       "'Creates the railway network (using the self-made Networkx graph) of the country on the country map in red. \\nThe white on that map is the actual railway network given by OpenStreetmaps'"
      ]
     },
     "execution_count": 254,
     "metadata": {},
     "output_type": "execute_result"
    }
   ],
   "source": [
    "'''Creates the railway network (using the self-made Networkx graph) of the country on the country map in red. \n",
    "The white on that map is the actual railway network given by OpenStreetmaps'''\n",
    "\n",
    "import matplotlib.pyplot as plt\n",
    "import networkx as nx\n",
    "import osmnx as ox\n",
    "\n",
    "def plot_given_Networkx_on_country_map(country_Networkx, country_name, country_names, dic_country_networks, dic_country_names):\n",
    "    \n",
    "    train_network = dic_country_networks[country_names[0]]\n",
    "    country_shape = ox.geocode_to_gdf(dic_country_names[country_names[0]])\n",
    "    for country in country_names[1:]:\n",
    "        country_shape = pd.concat([country_shape, ox.geocode_to_gdf(dic_country_names[country])])\n",
    "        train_network = nx.compose(train_network, dic_country_networks[country])\n",
    "\n",
    "    #create an empty list of edges\n",
    "    list_edges = []\n",
    "    \n",
    "    #add each edge to the list, by finding both of its nodes in the given OpenStreetMaps network and highlighting them\n",
    "    #and finding the shortest routes between each pair of edges to highlight that route as well\n",
    "    for node1,node2 in country_Networkx.edges():\n",
    "        orig = ox.get_nearest_node(train_network, (country_Networkx.nodes[node1]['latitude'], country_Networkx.nodes[node1]['longitude']))\n",
    "        dest = ox.get_nearest_node(train_network, (country_Networkx.nodes[node2]['latitude'], country_Networkx.nodes[node2]['longitude']))\n",
    "        try:\n",
    "            list_edges.append(nx.shortest_path(train_network, orig, dest))\n",
    "        except nx.NetworkXNoPath:\n",
    "            print(f'No path between {node1} and {node2}')\n",
    "            continue\n",
    "    \n",
    "    #put the country borders in a gdf format\n",
    "    country = ox.geocode_to_gdf(country_names)\n",
    "\n",
    "    #put the self-made railway network as a graph in red\n",
    "    fig, ax = ox.plot_graph_routes(train_network, list_edges, route_color = 'r', route_linewidth = 1, show=False, close=False, edge_color='#111111', node_color='#111111', node_size=0.2, bgcolor='w')\n",
    "\n",
    "    #plot the country on the top of the self-made railway network\n",
    "    country.plot(ax=ax, color='#111111', alpha=0.5)\n",
    "\n",
    "    plt.savefig(f'images/{country_name}_Network.png') \n",
    "    plt.show()"
   ]
  },
  {
   "cell_type": "markdown",
   "metadata": {},
   "source": [
    "# Download the train networks of all the counties of interest"
   ]
  },
  {
   "cell_type": "markdown",
   "metadata": {},
   "source": [
    "# Functions"
   ]
  },
  {
   "cell_type": "code",
   "execution_count": 198,
   "metadata": {},
   "outputs": [
    {
     "data": {
      "text/plain": [
       "'Download all the countries train networks and store it as .gpickles files'"
      ]
     },
     "execution_count": 198,
     "metadata": {},
     "output_type": "execute_result"
    }
   ],
   "source": [
    "'''Download all the countries train networks and store it as .gpickles files'''\n",
    "\n",
    "def download_countries_train_Networks(dic_country_names, coutries_train_networks_loc):\n",
    "    for country, osm_request in dic_country_names.items():\n",
    "        train_country = ox.graph_from_place(osm_request,\n",
    "                                            retain_all=False, truncate_by_edge=True, simplify=True,\n",
    "                                            custom_filter='[\"railway\"~\"rail\"]')\n",
    "        nx.write_gpickle(train_country, f'{coutries_train_networks_loc}/train_{country}.gpickle')\n",
    "    "
   ]
  },
  {
   "cell_type": "code",
   "execution_count": 256,
   "metadata": {},
   "outputs": [
    {
     "data": {
      "text/plain": [
       "'Retrieve all the countries train networks and put it in the dic_country_networks dictionnary'"
      ]
     },
     "execution_count": 256,
     "metadata": {},
     "output_type": "execute_result"
    }
   ],
   "source": [
    "'''Retrieve all the countries train networks and put it in the dic_country_networks dictionnary'''\n",
    "\n",
    "def retrieve_countries_train_Networks(dic_country_names, coutries_train_networks_loc):\n",
    "    dic_coutry_networks = {}\n",
    "    for country in dic_country_names:\n",
    "        train_country = nx.read_gpickle(f'{coutries_train_networks_loc}/train_{country}.gpickle')\n",
    "        dic_country_networks[country] = train_country\n",
    "    return dic_country_networks\n",
    "    "
   ]
  },
  {
   "cell_type": "markdown",
   "metadata": {},
   "source": [
    "## Acutal download"
   ]
  },
  {
   "cell_type": "code",
   "execution_count": 255,
   "metadata": {},
   "outputs": [
    {
     "data": {
      "text/plain": [
       "'Create a dictionary with all the countries of interest'"
      ]
     },
     "execution_count": 255,
     "metadata": {},
     "output_type": "execute_result"
    }
   ],
   "source": [
    "'''Create a dictionary with all the countries of interest'''\n",
    "dic_country_names = {'Netherlands' : ['South Holland, Netherlands',{'state':'Utrecht', 'country':'Netherlands'},'North Brabant, Netherlands', 'Limburg, Netherlands','Gelderland, Netherlands', 'Overijssel, Netherlands','Drenthe, Netherlands', 'Groningen, Netherlands', 'Friesland, Netherlands', 'Flevoland, Netherlands', 'North Holland, Netherlands'],\n",
    "                    'Belgium': ['Belgium'], 'Switzerland': ['Switzerland'], 'France': ['Metropolitan France'],\n",
    "                    'Luxembourg': ['Luxembourg'], 'Germany': ['Germany'], 'Austria': ['Austria'], 'Italy': ['Italy'],\n",
    "                    'Liechtenstein': ['Liechtenstein'], 'United_Kingdom': ['United Kingdom']}"
   ]
  },
  {
   "cell_type": "code",
   "execution_count": null,
   "metadata": {},
   "outputs": [],
   "source": [
    "#download_countries_train_Networks(dic_country_names, coutries_train_networks_loc)"
   ]
  },
  {
   "cell_type": "code",
   "execution_count": 257,
   "metadata": {},
   "outputs": [],
   "source": [
    "dic_country_networks = retrieve_countries_train_Networks(dic_country_names, coutries_train_networks_loc)"
   ]
  },
  {
   "cell_type": "markdown",
   "metadata": {
    "id": "--VmvAqzOtze"
   },
   "source": [
    "## **Calculation of the global characteristics of the Belgian railway system in the space-of-stops representation**"
   ]
  },
  {
   "cell_type": "code",
   "execution_count": 116,
   "metadata": {
    "executionInfo": {
     "elapsed": 48828,
     "status": "ok",
     "timestamp": 1617437224461,
     "user": {
      "displayName": "Ine Winters",
      "photoUrl": "",
      "userId": "11267554535649979995"
     },
     "user_tz": -120
    },
    "id": "LbeExvw-Otzh"
   },
   "outputs": [],
   "source": [
    "B = create_graph(df_for_edges_Belgium)\n",
    "B = assign_weights (B, df_for_edges_Belgium, stops_cleaned_Belgium)"
   ]
  },
  {
   "cell_type": "code",
   "execution_count": 14,
   "metadata": {},
   "outputs": [
    {
     "data": {
      "text/plain": [
       "'Calculates the subgraph that contains only stops into Belgium iteself (removes all the stop outside the country)'"
      ]
     },
     "execution_count": 14,
     "metadata": {},
     "output_type": "execute_result"
    }
   ],
   "source": [
    "'''Calculates the subgraph that contains only stops into Belgium iteself (removes all the stop outside the country)'''\n",
    "belgian_stops = [n for n,v in B.nodes(data=True) if v['country'] == 'Belgium']\n",
    "B_belgian_stops = B.subgraph(belgian_stops)"
   ]
  },
  {
   "cell_type": "code",
   "execution_count": null,
   "metadata": {},
   "outputs": [
    {
     "name": "stdout",
     "output_type": "stream",
     "text": [
      "No path between ROTTERDAM CS (NL) and DEN HAAG HS (NL)\n",
      "No path between SCHIPHOL (NL) and DEN HAAG HS (NL)\n"
     ]
    }
   ],
   "source": [
    "'''Show the country train network that was created by create_graph() on the map'''\n",
    "country_names = ['France', 'Belgium', 'Netherlands', 'Luxembourg', 'Germany']\n",
    "plot_given_Networkx_on_country_map(B, 'Belgium', country_names, dic_country_networks, dic_country_names)"
   ]
  },
  {
   "cell_type": "code",
   "execution_count": null,
   "metadata": {},
   "outputs": [],
   "source": [
    "'''Show the country train network subgraph that was created by create_graph() and then filtered on the country stops on the map'''\n",
    "country_names = ['Belgium']\n",
    "plot_given_Networkx_on_country_map(B_belgian_stops, 'Belgium_only', country_names, dic_country_networks, dic_country_names)"
   ]
  },
  {
   "cell_type": "code",
   "execution_count": 16,
   "metadata": {},
   "outputs": [
    {
     "data": {
      "text/plain": [
       "EdgeDataView([('TOURNAI', 'FROYENNES', {'route_id': {257, 385, 258, 387, 389, 383, 393, 779, 780, 781, 151, 536, 159, 160, 161, 826, 700, 701, 453, 724, 342, 343, 344, 345, 346, 608, 115, 764, 253, 766, 767}}), ('TOURNAI', 'LEUZE', {'route_id': {779, 780, 781, 298, 299, 826, 827, 700, 701, 341, 342, 343, 344, 345, 346, 608, 760, 243, 246, 120}}), ('TOURNAI', 'ANTOING', {'route_id': {384, 385, 258, 387, 389, 390, 393, 395, 767, 151, 536, 159, 160, 161, 162, 170, 705, 452, 453, 724, 383}}), ('FROYENNES', 'HERSEAUX', {'route_id': {385, 387, 389, 393, 779, 780, 781, 151, 536, 159, 160, 161, 826, 700, 701, 453, 724, 342, 343, 344, 345, 346, 608, 115, 253, 383}}), ('FROYENNES', 'BLANDAIN-FRONTIERE', {'route_id': {257, 258, 764, 766, 767}}), ('HERSEAUX', 'MOUSCRON', {'route_id': {385, 387, 389, 393, 779, 780, 781, 151, 536, 159, 160, 161, 826, 700, 701, 453, 724, 342, 343, 344, 345, 346, 608, 115, 253, 383}}), ('MOUSCRON', 'MOUSCRON-FRONTIERE', {'route_id': {762, 251, 250, 763, 764}}), ('MOUSCRON', 'COURTRAI', {'route_id': {764, 780, 346, 724, 343, 344, 250, 763, 252, 253}}), ('MOUSCRON', 'INGELMUNSTER', {'route_id': {536}}), ('BRUGES', 'BRUGES-SAINT-PIERRE', {'route_id': {512, 661, 535, 663, 537, 538, 536, 539, 808, 683, 814, 560, 183, 184, 185, 186, 327, 330, 746, 116, 118, 503, 502, 511}}), ('BRUGES', 'ZEDELGEM', {'route_id': {291, 132, 292, 293, 135, 294, 663, 235, 142, 753, 754, 756, 661, 662, 118, 536}}), ('BRUGES', 'OSTENDE', {'route_id': {771, 132, 269, 142, 272, 146, 541, 802, 291, 292, 293, 294, 551, 300, 816, 471, 477, 235, 236, 237, 753, 754, 755, 756, 757}}), ('BRUGES', 'OOSTKAMP', {'route_id': {512, 771, 269, 272, 535, 537, 538, 539, 541, 290, 802, 807, 551, 808, 683, 300, 814, 816, 180, 181, 182, 183, 184, 185, 327, 330, 471, 477, 743, 744, 745, 746, 236, 237, 497, 755, 757, 502, 503, 511}}), ('BRUGES-SAINT-PIERRE', 'HEIST', {'route_id': {327, 330, 116, 118, 663}}), ('BRUGES-SAINT-PIERRE', 'BLANKENBERGE', {'route_id': {535, 186, 536, 746, 537, 814, 661, 183, 184, 185, 538, 539}}), ('BRUGES-SAINT-PIERRE', 'LISSEWEGE', {'route_id': {512, 808, 683, 560, 502, 503, 511}}), ('HEIST', 'DUINBERGEN', {'route_id': {327, 330, 116, 118, 663}}), ('DUINBERGEN', 'KNOKKE', {'route_id': {327, 330, 116, 118, 663}}), ('SPA-GERONSTERE', 'SPA', {'route_id': {469, 117, 470}}), ('SPA', 'FRANCHIMONT', {'route_id': {469, 117, 470}}), ('FRANCHIMONT', 'THEUX', {'route_id': {469, 117, 470}}), ('THEUX', 'JUSLENVILLE', {'route_id': {469, 117, 470}}), ('JUSLENVILLE', 'PEPINSTER-CITE', {'route_id': {469, 117, 470}}), ('PEPINSTER-CITE', 'PEPINSTER', {'route_id': {469, 117, 470}}), ('PEPINSTER', 'VERVIERS-CENTRAL', {'route_id': {480, 477, 802, 471, 794, 600, 237, 756, 117, 470, 757, 469, 793, 698, 411, 413, 478, 479}}), ('PEPINSTER', 'NESSONVAUX', {'route_id': {480, 802, 478, 794, 237, 756, 757, 471, 600, 793, 698, 411, 477, 413, 479}}), ('VERVIERS-CENTRAL', 'VERVIERS-PALAIS', {'route_id': {802, 471, 600, 237, 756, 757, 470, 469, 698, 793, 794, 411, 413}}), ('GAND-SAINT-PIERRE', 'DE PINTE', {'route_id': {137, 142, 792, 793, 664, 409, 795, 156, 158, 411, 672, 542, 673, 552, 553, 680, 681, 557, 558, 815, 817, 562, 821, 828, 830, 575, 703, 717, 718, 335, 208, 609, 235, 365, 366, 367, 368, 369, 753, 754, 756, 118}}), ('GAND-SAINT-PIERRE', 'ANDERLECHT', {'route_id': {771, 269, 272, 535, 792, 793, 794, 795, 802, 552, 815, 816, 817, 180, 181, 182, 183, 184, 185, 694, 695, 696, 329, 744, 746, 237, 753, 755}}), ('GAND-SAINT-PIERRE', 'TRONCHIENNES', {'route_id': {512, 771, 269, 272, 535, 537, 538, 539, 541, 290, 802, 551, 808, 807, 683, 300, 814, 816, 180, 181, 182, 183, 184, 185, 327, 330, 471, 477, 743, 744, 745, 746, 236, 237, 497, 755, 757, 502, 503, 511}}), ('GAND-SAINT-PIERRE', 'GENTBRUGGE', {'route_id': {609, 236, 557, 558, 335, 527, 211, 565, 664, 537}}), ('GAND-SAINT-PIERRE', 'BRUXELLES-MIDI', {'route_id': {777, 409, 411, 413, 541, 542, 290, 551, 680, 553, 300, 814, 327, 328, 330, 471, 477, 743, 235, 754, 756, 757}}), ('GAND-SAINT-PIERRE', 'MERELBEKE', {'route_id': {512, 769, 278, 279, 280, 281, 282, 539, 283, 410, 538, 672, 673, 808, 681, 554, 555, 562, 820, 821, 825, 828, 830, 703, 575, 717, 718, 745, 364, 365, 366, 367, 368, 241, 496, 497, 502, 510, 511}}), ('GAND-SAINT-PIERRE', 'DENDERLEEUW', {'route_id': {674}}), ('DE PINTE', 'DEINZE', {'route_id': {137, 142, 792, 793, 409, 795, 411, 542, 552, 553, 680, 681, 557, 558, 815, 817, 562, 821, 828, 830, 575, 703, 717, 718, 335, 208, 235, 365, 366, 367, 368, 369, 753, 754, 756, 118}}), ('DE PINTE', 'EKE-NAZARETH', {'route_id': {672, 609, 673, 664, 156, 158}}), ('DEINZE', 'AARSELE', {'route_id': {552, 680, 681, 365, 142, 335, 208, 369, 753, 366, 367, 368, 118, 754, 815, 821, 542}}), ('DEINZE', 'WAREGEM', {'route_id': {137, 792, 793, 409, 411, 795, 553, 557, 558, 817, 562, 828, 830, 703, 575, 717, 718, 235, 756}}), ('AARSELE', 'TIELT', {'route_id': {552, 680, 681, 365, 142, 335, 208, 369, 753, 366, 367, 368, 118, 754, 815, 821, 542}}), ('TIELT', 'LICHTERVELDE', {'route_id': {552, 680, 681, 365, 142, 335, 208, 369, 753, 366, 367, 368, 118, 754, 815, 821, 542}}), ('LICHTERVELDE', 'TORHOUT', {'route_id': {291, 132, 292, 294, 135, 293, 235, 142, 753, 754, 756, 661, 118, 663, 536, 662}}), ('LICHTERVELDE', 'ROULERS', {'route_id': {291, 132, 293, 292, 135, 294, 235, 756, 661, 662, 663, 536}}), ('LICHTERVELDE', 'KORTEMARK', {'route_id': {552, 680, 365, 367, 208, 335, 815, 821, 542}}), ('TORHOUT', 'ZEDELGEM', {'route_id': {291, 132, 292, 294, 135, 293, 235, 142, 753, 754, 756, 661, 118, 663, 536, 662}}), ('DENDERLEEUW', 'IDDERGEM', {'route_id': {192, 194, 195, 674, 820, 119, 191}}), ('DENDERLEEUW', 'WELLE', {'route_id': {288, 289, 418, 291, 668, 138, 720, 472, 473, 220, 669, 286, 287}}), ('DENDERLEEUW', 'EREMBODEGEM', {'route_id': {769, 770, 263, 276, 278, 279, 280, 281, 282, 283, 285, 555, 820, 830, 191, 194, 195, 364, 365, 366, 367, 368}}), ('DENDERLEEUW', 'LIEDEKERKE', {'route_id': {769, 770, 263, 276, 278, 279, 280, 281, 282, 283, 668, 669, 286, 285, 287, 288, 418, 291, 289, 555, 830, 472, 473, 220, 364, 365, 366, 367, 368}}), ('IDDERGEM', 'OKEGEM', {'route_id': {192, 194, 195, 674, 820, 119, 191}}), ('OKEGEM', 'NINOVE', {'route_id': {192, 194, 195, 674, 820, 119, 191}}), ('NINOVE', 'EICHEM', {'route_id': {192, 194, 195, 674, 820, 119, 191}}), ('EICHEM', 'APPELTERRE', {'route_id': {192, 194, 195, 674, 820, 119, 191}}), ('APPELTERRE', 'ZANDBERGEN', {'route_id': {192, 194, 195, 674, 820, 119, 191}}), ('ZANDBERGEN', 'IDEGEM', {'route_id': {192, 194, 195, 674, 820, 119, 191}}), ('IDEGEM', 'SCHENDELBEKE', {'route_id': {192, 194, 195, 674, 820, 119, 191}}), ('SCHENDELBEKE', 'GRAMMONT', {'route_id': {192, 194, 195, 674, 820, 119, 191}}), ('GRAMMONT', 'VIANE-MOERBEKE', {'route_id': {192, 191, 194, 197, 747, 533, 189, 190, 351}}), ('GRAMMONT', 'ACREN', {'route_id': {465, 203, 460, 459}}), ('GRAMMONT', 'LIERDE', {'route_id': {672, 241, 675, 673}}), ('ATH', 'LEUZE', {'route_id': {779, 780, 781, 298, 299, 826, 827, 700, 701, 341, 342, 343, 344, 345, 346, 120, 608, 243, 246, 760}}), ('ATH', 'REBAIX', {'route_id': {465, 203, 460, 459}}), ('ATH', 'SILLY', {'route_id': {779, 780, 782, 298, 299, 826, 827, 700, 701, 341, 342, 343, 344, 345, 347, 608, 243, 246, 760}}), ('ATH', 'MAFFLE', {'route_id': {705, 613, 459, 460, 461, 463, 465}}), ('LUTTRE', 'COURCELLES-MOTTE', {'route_id': {643, 260, 261, 440, 262, 644, 791, 433, 434, 761, 247, 408, 121, 123}}), ('LUTTRE', 'OBAIX-BUZET', {'route_id': {643, 644, 260, 262, 261, 247, 440, 145, 337, 339, 791, 408, 123}}), ('LUTTRE', 'PONT-A-CELLES', {'route_id': {421, 422, 649, 433, 434, 761, 127}}), ('COURCELLES-MOTTE', 'ROUX', {'route_id': {643, 260, 261, 440, 262, 644, 791, 433, 434, 761, 247, 408, 121, 123}}), ('ROUX', 'MARCHIENNE-AU-PONT', {'route_id': {643, 260, 261, 440, 262, 644, 791, 433, 434, 761, 247, 408, 121, 123}}), ('MARCHIENNE-AU-PONT', 'CHARLEROI-SUD', {'route_id': {384, 385, 258, 386, 260, 261, 387, 388, 389, 390, 391, 394, 643, 262, 395, 767, 150, 151, 408, 536, 791, 159, 162, 422, 423, 644, 433, 434, 440, 201, 724, 725, 737, 740, 761, 247, 121, 378, 123, 380, 383}}), ('MARCHIENNE-AU-PONT', 'FORCHIES', {'route_id': {384, 385, 258, 386, 387, 388, 389, 390, 391, 394, 395, 767, 150, 151, 536, 159, 162, 422, 423, 201, 724, 725, 737, 740, 378, 380, 383}}), ('CHARLEROI-SUD', 'COUILLET', {'route_id': {384, 256, 258, 386, 387, 388, 389, 390, 391, 643, 385, 644, 396, 397, 767, 150, 151, 415, 416, 417, 800, 162, 799, 441, 442, 443, 444, 448, 449, 201, 724, 725, 378, 380, 382, 383}}), ('CHARLEROI-SUD', 'CHARLEROI-OUEST', {'route_id': {448, 449, 223, 417, 800, 799, 442, 443, 444, 445, 447}}), ('CHARLEROI-SUD', 'MARCHIENNE-ZONE', {'route_id': {256, 458}}), ('CHARLEROI-SUD', 'JAMIOULX', {'route_id': {648, 401}}), ('ROCHEFORT-JEMELLE', 'MARLOIE', {'route_id': {265, 266, 523, 268, 524, 267, 269, 272, 270, 274, 708, 730, 224, 501, 630, 504, 633, 122, 255}}), ('ROCHEFORT-JEMELLE', 'FORRIERES', {'route_id': {224, 708, 265, 266, 267, 268, 269, 270, 274, 275, 629, 633, 730, 255}}), ('MARLOIE', 'AYE', {'route_id': {224, 265, 266, 523, 524, 269, 270, 272, 274, 633, 122, 730}}), ('MARLOIE', 'MARCHE-EN-FAMENNE', {'route_id': {708, 498, 499, 501, 630, 504}}), ('AYE', 'HAVERSIN', {'route_id': {224, 265, 266, 523, 524, 269, 270, 272, 274, 633, 122, 730}}), ('HAVERSIN', 'CHAPOIS', {'route_id': {224, 265, 266, 523, 524, 269, 270, 272, 274, 633, 122}}), ('CHAPOIS', 'LEIGNON', {'route_id': {224, 265, 266, 523, 524, 269, 270, 272, 274, 633, 122}}), ('LEIGNON', 'CINEY', {'route_id': {224, 265, 266, 523, 524, 269, 270, 272, 274, 633, 122}}), ('CINEY', 'NATOYE', {'route_id': {224, 130, 265, 266, 524, 269, 270, 272, 274, 122, 509, 735}}), ('NATOYE', 'ASSESSE', {'route_id': {224, 130, 265, 266, 524, 269, 270, 272, 274, 122, 509, 735}}), ('ASSESSE', 'COURRIERE', {'route_id': {224, 130, 265, 266, 524, 269, 270, 272, 274, 122, 509, 735}}), ('COURRIERE', 'SART-BERNARD', {'route_id': {224, 130, 265, 266, 524, 269, 270, 272, 274, 122, 509, 735}}), ('SART-BERNARD', 'NANINNE', {'route_id': {224, 130, 265, 266, 524, 269, 270, 272, 274, 122, 509, 735}}), ('NANINNE', 'DAVE-SAINT-MARTIN', {'route_id': {224, 130, 265, 266, 524, 269, 270, 272, 274, 122, 509, 735}}), ('DAVE-SAINT-MARTIN', 'JAMBES-EST', {'route_id': {224, 130, 265, 266, 524, 269, 270, 272, 274, 122, 509, 735}}), ('JAMBES-EST', 'NAMUR', {'route_id': {224, 130, 265, 266, 524, 269, 270, 272, 274, 122, 509, 735}}), ('NAMUR', 'RHISNES', {'route_id': {130, 772, 266, 269, 270, 271, 272, 525, 296, 297, 298, 299, 305, 306, 307, 308, 735, 224, 621, 122}}), ('NAMUR', 'RONET', {'route_id': {256, 385, 258, 384, 386, 387, 388, 389, 390, 391, 396, 397, 143, 767, 799, 415, 800, 441, 442, 443, 444, 448, 449, 201, 724, 725, 378, 380, 381, 382, 383}}), ('NAMUR', 'MARCHE-LES-DAMES', {'route_id': {384, 385, 386, 387, 396, 397, 398, 295, 296, 297, 298, 299, 201, 603, 377, 378, 379, 380, 381, 382, 383}}), ('NAMUR', 'JAMBES', {'route_id': {772, 519, 521, 304, 305, 306, 307, 799, 442, 443, 415}}), ('RHISNES', 'SAINT-DENIS-BOVESSE', {'route_id': {130, 772, 266, 269, 270, 271, 272, 525, 296, 297, 298, 299, 305, 306, 307, 308, 735, 224, 621, 122}}), ('SAINT-DENIS-BOVESSE', 'BEUZET', {'route_id': {130, 772, 266, 269, 270, 271, 272, 525, 296, 297, 298, 299, 305, 306, 307, 308, 735, 224, 621, 122}}), ('BEUZET', 'LONZEE', {'route_id': {130, 772, 266, 269, 270, 271, 272, 525, 296, 297, 298, 299, 305, 306, 307, 308, 735, 224, 621, 122}}), ('LONZEE', 'GEMBLOUX', {'route_id': {130, 772, 266, 269, 270, 271, 272, 525, 296, 297, 298, 299, 305, 306, 307, 308, 735, 224, 621, 122}}), ('GEMBLOUX', 'ERNAGE', {'route_id': {130, 772, 266, 141, 269, 270, 272, 271, 525, 296, 297, 298, 299, 305, 306, 307, 308, 735, 224, 620, 122}}), ('GEMBLOUX', 'CHAPELLE-DIEU', {'route_id': {640, 641}}), ('ERNAGE', 'CHASTRE', {'route_id': {130, 772, 266, 141, 269, 270, 272, 271, 525, 296, 297, 298, 299, 305, 306, 307, 308, 735, 224, 620, 122}}), ('CHASTRE', 'BLANMONT', {'route_id': {130, 772, 266, 141, 269, 270, 272, 271, 525, 296, 297, 298, 299, 305, 306, 307, 308, 735, 224, 620, 122}}), ('BLANMONT', 'MONT-SAINT-GUIBERT', {'route_id': {130, 772, 266, 141, 269, 270, 272, 271, 525, 296, 297, 298, 299, 305, 306, 307, 308, 735, 224, 620, 122}}), ('MONT-SAINT-GUIBERT', 'OTTIGNIES', {'route_id': {130, 772, 266, 141, 269, 270, 272, 271, 525, 296, 297, 298, 299, 305, 306, 307, 308, 735, 224, 620, 122}}), ('OTTIGNIES', 'PROFONDSART', {'route_id': {772, 266, 141, 269, 270, 272, 528, 529, 271, 402, 549, 296, 297, 298, 299, 305, 306, 307, 308, 826, 827, 700, 701, 711, 712, 713, 735, 224, 122, 624, 625, 506}}), ('OTTIGNIES', 'LIMAL', {'route_id': {448, 449, 130, 548, 549, 526, 336, 443, 829, 447}}), ('OTTIGNIES', 'CEROUX-MOUSTY', {'route_id': {448, 417, 449, 447, 442, 443, 444, 223}}), ('OTTIGNIES', 'LOUVAIN-LA-NEUVE', {'route_id': {712, 624, 402, 506, 404, 826, 700, 829}}), ('PROFONDSART', 'RIXENSART', {'route_id': {772, 266, 141, 269, 270, 272, 528, 529, 271, 402, 549, 296, 297, 298, 299, 305, 306, 307, 308, 826, 827, 700, 701, 711, 712, 713, 735, 224, 122, 624, 625, 506}}), ('RIXENSART', 'GENVAL', {'route_id': {772, 266, 141, 269, 270, 272, 528, 529, 271, 402, 549, 296, 297, 298, 299, 305, 306, 307, 308, 826, 827, 700, 701, 711, 712, 713, 735, 224, 122, 624, 625, 506}}), ('GENVAL', 'LA HULPE', {'route_id': {772, 266, 141, 269, 270, 272, 528, 529, 271, 402, 549, 296, 297, 298, 299, 305, 306, 307, 308, 826, 827, 700, 701, 711, 712, 713, 735, 224, 122, 624, 625, 506}}), ('LA HULPE', 'HOEILAART', {'route_id': {772, 266, 141, 269, 270, 272, 528, 529, 271, 402, 549, 296, 297, 298, 299, 305, 306, 307, 308, 826, 827, 700, 701, 711, 712, 713, 735, 224, 122, 624, 625, 506}}), ('HOEILAART', 'GROENENDAAL', {'route_id': {772, 266, 141, 269, 270, 272, 528, 529, 271, 402, 549, 296, 297, 298, 299, 305, 306, 307, 308, 826, 827, 700, 701, 711, 712, 713, 735, 224, 122, 624, 625, 506}}), ('GROENENDAAL', 'BOITSFORT', {'route_id': {772, 266, 141, 269, 270, 272, 528, 529, 271, 402, 549, 296, 297, 298, 299, 305, 306, 307, 308, 826, 827, 700, 701, 711, 712, 713, 735, 224, 122, 624, 625, 506}}), ('BOITSFORT', 'WATERMAEL', {'route_id': {772, 266, 141, 269, 270, 272, 528, 529, 271, 402, 549, 296, 297, 298, 299, 305, 306, 307, 308, 826, 827, 700, 701, 711, 712, 713, 735, 224, 122, 624, 625, 506}}), ('WATERMAEL', 'ETTERBEEK', {'route_id': {772, 266, 141, 269, 270, 272, 528, 529, 271, 402, 549, 296, 297, 298, 299, 305, 306, 307, 308, 826, 827, 700, 701, 711, 712, 713, 735, 224, 122, 624, 625, 506}}), ('ETTERBEEK', 'BRUXELLES-LUXEMBOURG', {'route_id': {266, 141, 269, 270, 272, 528, 271, 402, 549, 296, 297, 298, 299, 306, 827, 700, 701, 711, 712, 713, 735, 224, 624, 625, 122}}), ('ETTERBEEK', 'DELTA', {'route_id': {829, 276, 277}}), ('ETTERBEEK', 'GERMOIR', {'route_id': {772, 529, 276, 277, 406, 407, 408, 791, 305, 307, 308, 826, 829, 348, 349, 350, 351, 352, 361, 506}}), ('ETTERBEEK', 'ARCADES', {'route_id': {352, 361, 791, 406, 407, 408, 348, 349, 350, 351}}), ('BRUXELLES-LUXEMBOURG', 'BRUXELLES-SCHUMAN', {'route_id': {772, 266, 141, 269, 270, 272, 528, 271, 402, 276, 405, 406, 791, 407, 408, 549, 296, 297, 298, 299, 305, 306, 826, 827, 700, 701, 829, 711, 712, 713, 348, 349, 350, 735, 224, 352, 351, 624, 625, 122}}), ('BRUXELLES-LUXEMBOURG', 'GERMOIR', {'route_id': {772, 529, 276, 277, 406, 407, 408, 791, 305, 307, 308, 826, 829, 348, 349, 350, 351, 352, 361, 506}}), ('BRUXELLES-SCHUMAN', 'BRUXELLES-NORD', {'route_id': {266, 141, 269, 270, 272, 528, 271, 402, 549, 296, 297, 298, 299, 306, 826, 827, 700, 701, 829, 711, 712, 713, 735, 224, 122}}), ('BRUXELLES-SCHUMAN', 'BOCKSTAEL', {'route_id': {276}}), ('BRUXELLES-SCHUMAN', 'MEISER', {'route_id': {352, 407, 772, 305, 405, 406, 791, 408, 348, 349, 350, 351}}), ('BRUXELLES-SCHUMAN', 'SCHAERBEEK', {'route_id': {624, 625}}), ('BRUXELLES-NORD', 'BRUXELLES-CONGRES', {'route_id': {528, 535, 541, 542, 543, 548, 549, 551, 552, 553, 555, 556, 570, 573, 583, 584, 585, 586, 587, 595, 596, 598, 608, 122, 130, 643, 644, 141, 655, 656, 657, 233, 742, 668, 669, 235, 744, 745, 680, 681, 178, 180, 181, 694, 183, 184, 185, 695, 696, 182, 189, 190, 191, 192, 193, 697, 700, 701, 711, 712, 713, 202, 716, 726, 728, 220, 733, 735, 224, 738, 227, 228, 229, 230, 231, 232, 743, 234, 746, 747, 237, 749, 750, 751, 752, 242, 243, 753, 756, 758, 247, 244, 761, 754, 755, 757, 254, 769, 770, 259, 260, 261, 771, 262, 263, 777, 266, 779, 780, 269, 782, 783, 272, 785, 270, 271, 784, 786, 278, 279, 280, 281, 792, 793, 284, 285, 795, 287, 288, 289, 282, 283, 286, 290, 291, 802, 296, 297, 298, 299, 300, 814, 815, 816, 817, 306, 819, 821, 825, 826, 827, 829, 831, 326, 327, 328, 329, 330, 337, 339, 341, 342, 343, 344, 345, 347, 353, 354, 355, 356, 357, 358, 359, 362, 364, 365, 366, 367, 368, 370, 372, 373, 374, 375, 376, 787, 788, 789, 748, 790, 402, 409, 411, 794, 413, 418, 439, 440, 471, 472, 477}}), ('BRUXELLES-NORD', 'SCHAERBEEK', {'route_id': {535, 541, 543, 548, 551, 552, 553, 555, 556, 573, 583, 584, 585, 586, 587, 595, 596, 598, 608, 130, 643, 644, 655, 656, 657, 155, 743, 680, 681, 747, 178, 180, 181, 182, 183, 184, 697, 185, 694, 695, 189, 696, 191, 192, 193, 749, 751, 202, 716, 726, 727, 728, 220, 733, 734, 227, 228, 229, 230, 742, 744, 233, 745, 235, 748, 231, 232, 234, 237, 746, 754, 755, 244, 757, 242, 243, 247, 752, 753, 756, 758, 761, 259, 260, 261, 771, 777, 783, 784, 785, 786, 787, 788, 789, 278, 790, 279, 792, 794, 283, 793, 285, 795, 288, 290, 291, 802, 300, 814, 816, 817, 819, 821, 825, 831, 832, 326, 327, 328, 329, 330, 337, 353, 354, 355, 356, 357, 358, 359, 362, 364, 365, 366, 367, 368, 370, 372, 373, 374, 375, 376, 409, 411, 413, 418, 439, 440, 471, 472, 477}}), ('BRUXELLES-NORD', 'BOCKSTAEL', {'route_id': {769, 770, 263, 779, 780, 782, 280, 281, 282, 668, 284, 669, 286, 287, 570, 341, 342, 343, 344, 345, 347}}), ('BRUXELLES-CONGRES', 'BRUXELLES-CENTRAL', {'route_id': {528, 535, 541, 542, 543, 548, 549, 551, 552, 553, 555, 556, 570, 573, 583, 584, 585, 586, 587, 595, 596, 598, 608, 122, 130, 643, 644, 141, 655, 656, 657, 233, 742, 668, 669, 235, 744, 745, 680, 681, 178, 180, 181, 694, 183, 184, 185, 695, 696, 182, 189, 190, 191, 192, 193, 697, 700, 701, 711, 712, 713, 202, 716, 726, 728, 220, 733, 735, 224, 738, 227, 228, 229, 230, 231, 232, 743, 234, 746, 747, 237, 749, 750, 751, 752, 242, 243, 753, 756, 758, 247, 244, 761, 754, 755, 757, 254, 769, 770, 259, 260, 261, 771, 262, 263, 777, 266, 779, 780, 269, 782, 783, 272, 785, 270, 271, 784, 786, 278, 279, 280, 281, 792, 793, 284, 285, 795, 287, 288, 289, 282, 283, 286, 290, 291, 802, 296, 297, 298, 299, 300, 814, 815, 816, 817, 306, 819, 821, 825, 826, 827, 829, 831, 326, 327, 328, 329, 330, 337, 339, 341, 342, 343, 344, 345, 347, 353, 354, 355, 356, 357, 358, 359, 362, 364, 365, 366, 367, 368, 370, 372, 373, 374, 375, 376, 787, 788, 789, 748, 790, 402, 409, 411, 794, 413, 418, 439, 440, 471, 472, 477}}), ('BRUXELLES-CENTRAL', 'BRUXELLES-CHAPELLE', {'route_id': {528, 535, 541, 542, 543, 548, 549, 551, 552, 553, 555, 556, 570, 573, 583, 584, 585, 586, 587, 595, 596, 598, 608, 122, 130, 643, 644, 141, 655, 656, 657, 233, 742, 668, 669, 235, 744, 745, 680, 681, 178, 180, 181, 694, 183, 184, 185, 695, 696, 182, 189, 190, 191, 192, 193, 697, 700, 701, 711, 712, 713, 202, 716, 726, 728, 220, 733, 735, 224, 738, 227, 228, 229, 230, 231, 232, 743, 234, 746, 747, 237, 749, 750, 751, 752, 242, 243, 753, 756, 758, 247, 244, 761, 754, 755, 757, 254, 769, 770, 259, 260, 261, 771, 262, 263, 777, 266, 779, 780, 269, 782, 783, 272, 785, 270, 271, 784, 786, 278, 279, 280, 281, 792, 793, 284, 285, 795, 287, 288, 289, 282, 283, 286, 290, 291, 802, 296, 297, 298, 299, 300, 814, 815, 816, 817, 306, 819, 821, 825, 826, 827, 829, 831, 326, 327, 328, 329, 330, 337, 339, 341, 342, 343, 344, 345, 347, 353, 354, 355, 356, 357, 358, 359, 362, 364, 365, 366, 367, 368, 370, 372, 373, 374, 375, 376, 787, 788, 789, 748, 790, 402, 409, 411, 794, 413, 418, 439, 440, 471, 472, 477}}), ('BRUXELLES-CHAPELLE', 'BRUXELLES-MIDI', {'route_id': {528, 535, 541, 542, 543, 548, 549, 551, 552, 553, 555, 556, 570, 573, 583, 584, 585, 586, 587, 595, 596, 598, 608, 122, 130, 643, 644, 141, 655, 656, 657, 233, 742, 668, 669, 235, 744, 745, 680, 681, 178, 180, 181, 694, 183, 184, 185, 695, 696, 182, 189, 190, 191, 192, 193, 697, 700, 701, 711, 712, 713, 202, 716, 726, 728, 220, 733, 735, 224, 738, 227, 228, 229, 230, 231, 232, 743, 234, 746, 747, 237, 749, 750, 751, 752, 242, 243, 753, 756, 758, 247, 244, 761, 754, 755, 757, 254, 769, 770, 259, 260, 261, 771, 262, 263, 777, 266, 779, 780, 269, 782, 783, 272, 785, 270, 271, 784, 786, 278, 279, 280, 281, 792, 793, 284, 285, 795, 287, 288, 289, 282, 283, 286, 290, 291, 802, 296, 297, 298, 299, 300, 814, 815, 816, 817, 306, 819, 821, 825, 826, 827, 829, 831, 326, 327, 328, 329, 330, 337, 339, 341, 342, 343, 344, 345, 347, 353, 354, 355, 356, 357, 358, 359, 362, 364, 365, 366, 367, 368, 370, 372, 373, 374, 375, 376, 787, 788, 789, 748, 790, 402, 409, 411, 794, 413, 418, 439, 440, 471, 472, 477}}), ('BRUXELLES-MIDI', 'FOREST-EST', {'route_id': {643, 260, 261, 262, 231, 232, 233, 234, 171, 644, 750, 751, 337, 339, 247, 440, 765, 254}}), ('BRUXELLES-MIDI', 'FOREST-MIDI', {'route_id': {780, 782, 783, 655, 785, 656, 657, 784, 533, 786, 789, 543, 298, 299, 178, 826, 700, 189, 190, 191, 192, 193, 829, 711, 712, 713, 202, 716, 598, 342, 344, 345, 608, 353, 354, 227, 228, 229, 357, 358, 359, 355, 356, 747, 742, 748, 370, 243, 244, 375, 760, 761}}), ('BRUXELLES-MIDI', 'ANDERLECHT', {'route_id': {769, 770, 771, 535, 794, 269, 272, 278, 279, 280, 281, 792, 793, 795, 285, 282, 287, 288, 289, 283, 286, 291, 418, 802, 552, 555, 556, 815, 816, 817, 180, 181, 694, 695, 696, 183, 184, 185, 825, 182, 329, 472, 473, 220, 744, 746, 364, 237, 365, 366, 367, 753, 368, 755}}), ('BRUXELLES-MIDI', 'RUISBROEK', {'route_id': {827, 779, 372, 341, 373, 246, 347, 701, 343}}), ('BRUXELLES-MIDI', 'BRUXELLES-OUEST', {'route_id': {264, 738, 400, 759}}), ('BRUXELLES-MIDI', 'HAL', {'route_id': {787, 819, 788, 374, 790, 732}}), ('BRUXELLES-MIDI', 'MELLE', {'route_id': {681, 821, 745}}), ('NIVELLES', 'OBAIX-BUZET', {'route_id': {643, 260, 261, 440, 262, 644, 791, 145, 337, 339, 247, 408, 123}}), ('NIVELLES', 'LILLOIS', {'route_id': {643, 644, 260, 262, 231, 261, 233, 234, 171, 440, 750, 337, 339, 791, 408, 247}}), ('TERMONDE', 'ZELE', {'route_id': {321, 779, 780, 782, 562, 341, 342, 343, 280, 347, 124, 125, 575}}), ('TERMONDE', 'SINT-GILLIS', {'route_id': {344, 264, 779, 780, 782, 570, 341, 342, 343, 280, 345, 282, 347, 286, 125, 126, 287}}), ('TERMONDE', 'BAASRODE-ZUID', {'route_id': {516, 808, 717, 718, 496, 497, 538, 502, 410, 539, 414, 703}}), ('TERMONDE', 'OUDEGEM', {'route_id': {512, 808, 575, 717, 718, 496, 497, 562, 538, 703, 502, 410, 539, 828, 510, 511}}), ('ZELE', 'LOKEREN', {'route_id': {321, 779, 780, 782, 562, 341, 342, 343, 280, 347, 124, 125, 575}}), ('LOKEREN', 'SINAAI', {'route_id': {779, 780, 782, 532, 537, 556, 557, 558, 562, 575, 321, 322, 335, 211, 341, 342, 343, 347, 236}}), ('LOKEREN', 'BEERVELDE', {'route_id': {236, 556, 557, 527, 335, 558, 211, 532, 537}}), ('OPWIJK', 'HEIZIJDE', {'route_id': {280, 126, 264, 779, 780, 782, 570, 341, 342, 343, 344, 345, 282, 347, 125, 286, 287}}), ('OPWIJK', 'MERCHTEM', {'route_id': {770, 344, 264, 345, 779, 780, 782, 570, 341, 342, 343, 280, 281, 282, 347, 284, 286, 287}}), ('HEIZIJDE', 'LEBBEKE', {'route_id': {280, 126, 264, 779, 780, 782, 570, 341, 342, 343, 344, 345, 282, 347, 125, 286, 287}}), ('LEBBEKE', 'SINT-GILLIS', {'route_id': {280, 126, 264, 779, 780, 782, 570, 341, 342, 343, 344, 345, 282, 347, 125, 286, 287}}), ('LA LOUVIERE- CENTRE', 'MANAGE', {'route_id': {421, 422, 715, 653, 434, 127}}), ('LA LOUVIERE- CENTRE', 'LA LOUVIERE-SUD', {'route_id': {353, 355, 356, 357, 421, 423, 359, 422, 711, 712, 431, 432, 783, 785, 829}}), ('LA LOUVIERE- CENTRE', 'FAMILLEUREUX', {'route_id': {353, 355, 356, 357, 711, 712, 359, 431, 432, 783, 785, 829}}), ('LA LOUVIERE- CENTRE', 'BRACQUEGNIES', {'route_id': {715, 653}}), ('MANAGE', 'GODARVILLE', {'route_id': {421, 422, 649, 433, 434, 761, 127}}), ('MANAGE', 'FAMILLEUREUX', {'route_id': {713, 358, 761, 654}}), ('GODARVILLE', 'GOUY-LEZ-PIETON', {'route_id': {421, 422, 649, 433, 434, 761, 127}}), ('GOUY-LEZ-PIETON', 'PONT-A-CELLES', {'route_id': {421, 422, 649, 433, 434, 761, 127}}), ('LIEGE-GUILLEMINS', 'LIEGE-CARRE', {'route_id': {384, 129, 386, 385, 133, 396, 806, 295, 296, 298, 698, 708, 333, 600, 604, 479, 480, 482, 487, 491, 493, 494, 498, 500, 501, 630, 377, 378, 379, 380, 381, 382, 383}}), ('LIEGE-GUILLEMINS', 'SCLESSIN', {'route_id': {384, 385, 386, 387, 396, 397, 398, 295, 296, 297, 298, 299, 201, 466, 601, 377, 378, 379, 380, 381, 382, 383}}), ('LIEGE-GUILLEMINS', 'ANS', {'route_id': {771, 793, 794, 411, 413, 802, 803, 300, 202, 595, 596, 598, 471, 474, 475, 477, 227, 228, 229, 748, 237, 756, 757}}), ('LIEGE-GUILLEMINS', 'Y.RENORY', {'route_id': {474, 219, 493, 494}}), ('LIEGE-GUILLEMINS', 'ANGLEUR', {'route_id': {793, 794, 411, 413, 802, 805, 806, 698, 708, 471, 600, 604, 477, 478, 479, 480, 482, 485, 486, 487, 488, 237, 498, 499, 500, 501, 757, 630, 504, 756}}), ('LIEGE-GUILLEMINS', 'BRESSOUX', {'route_id': {490, 491, 596, 597, 598}}), ('LIEGE-CARRE', 'LIEGE-SAINT-LAMBERT', {'route_id': {384, 129, 386, 385, 133, 396, 806, 295, 296, 298, 698, 708, 333, 600, 604, 479, 480, 482, 487, 491, 493, 494, 498, 500, 501, 630, 377, 378, 379, 380, 381, 382, 383}}), ('LIEGE-SAINT-LAMBERT', 'HERSTAL', {'route_id': {384, 129, 386, 385, 133, 396, 806, 333, 600, 479, 482, 487, 491, 493, 494, 498, 500, 501, 377, 378, 379, 380, 381, 382, 383}}), ('HERSTAL', 'MILMORT', {'route_id': {384, 129, 386, 133, 778, 806, 332, 333, 482, 487, 491, 493, 498, 500, 501, 377, 380, 381, 382, 383}}), ('MILMORT', 'LIERS', {'route_id': {384, 129, 386, 133, 778, 806, 332, 333, 482, 487, 491, 493, 498, 500, 501, 377, 380, 381, 382, 383}}), ('LIERS', 'GLONS', {'route_id': {133, 778, 491, 332, 333}}), ('LIMAL', 'BIERGES-WALIBI', {'route_id': {448, 449, 130, 548, 549, 526, 336, 443, 829, 447}}), ('BIERGES-WALIBI', 'WAVRE', {'route_id': {448, 449, 130, 548, 549, 526, 336, 443, 829, 447}}), ('WAVRE', 'BASSE-WAVRE', {'route_id': {449, 130, 548, 336, 829}}), ('BASSE-WAVRE', 'GASTUCHE', {'route_id': {336, 130, 548, 829}}), ('GASTUCHE', 'ARCHENNES', {'route_id': {336, 130, 548, 829}}), ('ARCHENNES', 'FLORIVAL', {'route_id': {336, 130, 548, 829}}), ('FLORIVAL', 'PECROT', {'route_id': {336, 130, 548, 829}}), ('PECROT', 'SINT-JORIS-WEERT', {'route_id': {336, 130, 548, 829}}), ('SINT-JORIS-WEERT', 'OUD-HEVERLEE', {'route_id': {130, 548, 717, 718, 687, 336, 688, 823, 829, 830}}), ('OUD-HEVERLEE', 'HEVERLEE', {'route_id': {130, 548, 717, 718, 687, 336, 688, 823, 829, 830}}), ('HEVERLEE', 'LOUVAIN', {'route_id': {130, 548, 717, 686, 687, 336, 688, 689, 690, 691, 718, 822, 823, 824, 829, 830}}), ('LOUVAIN', 'HERENT', {'route_id': {130, 771, 748, 773, 775, 405, 406, 407, 792, 409, 793, 155, 411, 413, 794, 802, 821, 548, 680, 169, 681, 300, 823, 687, 688, 180, 181, 694, 183, 184, 185, 696, 315, 825, 182, 314, 319, 316, 317, 318, 829, 583, 584, 585, 202, 595, 596, 598, 471, 348, 477, 349, 738, 227, 228, 229, 743, 744, 745, 746, 235, 362, 237, 364, 365, 366, 753, 367, 368, 756, 370, 754, 755, 376, 757}}), ('LOUVAIN', 'WEZEMAAL', {'route_id': {167, 168, 169, 301, 302, 303, 691, 692, 822, 824, 314, 315, 316, 317, 318, 319, 718, 593, 744, 746, 239}}), ('LOUVAIN', 'WIJGMAAL', {'route_id': {320, 323, 168, 717, 686, 830, 593, 689, 410, 414}}), ('LOUVAIN', 'VERTRIJK', {'route_id': {771, 300, 690, 180, 181, 182, 183, 184, 185, 694, 583, 584, 585, 202, 589, 595, 349, 227, 228, 229, 743, 745, 362, 363, 364, 365, 366, 748}}), ('LOUVAIN', 'ANS', {'route_id': {477, 802, 237, 596, 757, 598, 471, 756, 793, 794, 411, 413}}), ('HERENT', 'VELTEM', {'route_id': {541, 548, 583, 584, 585, 586, 587, 595, 596, 598, 130, 155, 680, 169, 681, 687, 688, 180, 181, 694, 183, 184, 697, 185, 695, 696, 182, 202, 727, 734, 738, 227, 228, 229, 743, 744, 745, 746, 235, 748, 237, 753, 754, 755, 756, 757, 771, 773, 775, 278, 279, 792, 793, 794, 283, 285, 802, 300, 821, 823, 825, 314, 315, 316, 317, 318, 319, 829, 832, 348, 349, 362, 364, 365, 366, 367, 368, 370, 376, 405, 406, 407, 409, 411, 413, 471, 477}}), ('HERENT', 'WEZEMAAL', {'route_id': {832, 695, 586, 587, 278, 727, 697, 285, 283, 279, 541, 734}}), ('VELTEM', 'ERPS-KWERPS', {'route_id': {541, 548, 583, 584, 585, 586, 587, 595, 596, 598, 130, 155, 680, 169, 681, 687, 688, 180, 181, 694, 183, 184, 697, 185, 695, 696, 182, 202, 727, 734, 738, 227, 228, 229, 743, 744, 745, 746, 235, 748, 237, 753, 754, 755, 756, 757, 771, 773, 775, 278, 279, 792, 793, 794, 283, 285, 802, 300, 821, 823, 825, 314, 315, 316, 317, 318, 319, 829, 832, 348, 349, 362, 364, 365, 366, 367, 368, 370, 376, 405, 406, 407, 409, 411, 413, 471, 477}}), ('ERPS-KWERPS', 'KORTENBERG', {'route_id': {541, 548, 583, 584, 585, 586, 587, 595, 596, 598, 130, 155, 680, 169, 681, 687, 688, 180, 181, 694, 183, 184, 697, 185, 695, 696, 182, 202, 727, 734, 738, 227, 228, 229, 743, 744, 745, 746, 235, 748, 237, 753, 754, 755, 756, 757, 771, 773, 775, 278, 279, 792, 793, 794, 283, 285, 802, 300, 821, 823, 825, 314, 315, 316, 317, 318, 319, 829, 832, 348, 349, 362, 364, 365, 366, 367, 368, 370, 376, 405, 406, 407, 409, 411, 413, 471, 477}}), ('KORTENBERG', 'NOSSEGEM', {'route_id': {541, 548, 583, 584, 585, 586, 587, 595, 596, 598, 130, 155, 680, 169, 681, 687, 688, 180, 181, 694, 183, 184, 697, 185, 695, 696, 182, 202, 727, 734, 738, 227, 228, 229, 743, 744, 745, 746, 235, 748, 237, 753, 754, 755, 756, 757, 771, 773, 775, 278, 279, 792, 793, 794, 283, 285, 802, 300, 821, 823, 825, 314, 315, 316, 317, 318, 319, 829, 832, 348, 349, 362, 364, 365, 366, 367, 368, 370, 376, 405, 406, 407, 409, 411, 413, 471, 477}}), ('NOSSEGEM', 'ZAVENTEM', {'route_id': {130, 771, 278, 279, 792, 409, 793, 155, 283, 285, 413, 411, 541, 794, 802, 821, 548, 680, 681, 300, 688, 180, 181, 694, 183, 184, 185, 695, 696, 825, 182, 697, 823, 829, 583, 584, 585, 586, 587, 202, 595, 596, 598, 471, 348, 477, 349, 738, 227, 228, 229, 743, 744, 745, 746, 235, 748, 237, 753, 370, 754, 756, 755, 757, 376}}), ('NOSSEGEM', 'BRUSSELS AIRPORT-ZAVENTEM', {'route_id': {773, 775, 405, 406, 407, 169, 687, 314, 315, 316, 317, 318, 319, 832, 727, 734, 362, 364, 365, 366, 367, 368}}), ('ZAVENTEM', 'DIEGEM', {'route_id': {541, 548, 583, 584, 585, 586, 587, 595, 596, 598, 130, 155, 680, 681, 688, 178, 180, 181, 694, 183, 184, 185, 695, 696, 182, 697, 202, 726, 728, 220, 733, 738, 227, 228, 229, 743, 744, 745, 746, 235, 748, 237, 753, 754, 243, 756, 244, 758, 755, 757, 771, 278, 791, 279, 792, 793, 283, 794, 285, 802, 291, 300, 305, 821, 823, 825, 829, 831, 348, 349, 370, 376, 409, 411, 413, 471, 477}}), ('ZAVENTEM', 'BRUSSELS AIRPORT-ZAVENTEM', {'route_id': {291, 305, 178, 243, 244, 726, 791, 728, 758, 220, 733, 831}}), ('DIEGEM', 'HAREN-SUD', {'route_id': {130, 771, 278, 279, 792, 409, 793, 155, 283, 285, 413, 411, 541, 794, 802, 291, 548, 821, 680, 681, 300, 178, 180, 181, 694, 183, 184, 185, 695, 696, 825, 182, 697, 831, 583, 584, 585, 586, 587, 202, 595, 596, 598, 471, 728, 726, 220, 477, 733, 738, 227, 228, 229, 743, 744, 745, 746, 235, 748, 237, 753, 370, 243, 756, 244, 758, 754, 376, 755, 757}}), ('DIEGEM', 'HAREN', {'route_id': {349, 305, 791, 348, 829}}), ('DIEGEM', 'VILVORDE', {'route_id': {688, 823}}), ('HAREN-SUD', 'SCHAERBEEK', {'route_id': {130, 771, 278, 279, 792, 409, 793, 155, 283, 285, 413, 411, 541, 794, 802, 291, 548, 821, 680, 681, 300, 178, 180, 181, 694, 183, 184, 185, 695, 696, 825, 182, 697, 831, 583, 584, 585, 586, 587, 202, 595, 596, 598, 471, 728, 726, 220, 477, 733, 738, 227, 228, 229, 743, 744, 745, 746, 235, 748, 237, 753, 370, 243, 756, 244, 758, 754, 376, 755, 757}}), ('SCHAERBEEK', 'BUDA', {'route_id': {259, 260, 261, 785, 439, 440, 573, 337, 355, 356, 357, 230, 231, 232, 358, 234, 749, 247, 761}}), ('SCHAERBEEK', 'BRUSSELS AIRPORT-ZAVENTEM', {'route_id': {786, 787, 790, 290, 832, 327, 328, 727, 734, 375, 742, 362, 364, 365, 366, 367, 368, 242, 372, 374, 759}}), ('SCHAERBEEK', 'TOUR-ET-TAXIS', {'route_id': {738, 759}}), ('SCHAERBEEK', 'VILVORDE', {'route_id': {752, 830, 751}}), ('SCHAERBEEK', 'BOCKSTAEL', {'route_id': {830}}), ('ANVERS-CENTRAL', 'ANVERS-BERCHEM', {'route_id': {131, 259, 260, 261, 773, 774, 778, 532, 537, 796, 439, 419, 165, 167, 168, 169, 426, 427, 557, 429, 558, 179, 691, 309, 311, 440, 312, 314, 315, 316, 317, 318, 574, 831, 321, 577, 579, 319, 322, 581, 832, 333, 334, 335, 337, 211, 726, 727, 728, 733, 734, 736, 741, 230, 231, 232, 236, 749, 751, 752, 761, 247, 249}}), ('ANVERS-CENTRAL', 'ANVERS-LUCHTBAL', {'route_id': {259, 260, 691, 309, 310, 439, 440, 311, 312, 313, 316, 317, 318, 831, 576, 832, 577, 726, 727, 728, 733, 734}}), ('ANVERS-BERCHEM', 'MORTSEL', {'route_id': {131, 774, 778, 796, 419, 165, 167, 168, 426, 427, 429, 691, 574, 832, 581, 333, 334, 727, 734, 736, 356, 741, 231, 232, 749, 751, 752, 247, 761}}), ('ANVERS-BERCHEM', 'MORTSEL-DEURNESTEENWEG', {'route_id': {259, 260, 261, 773, 169, 439, 440, 314, 315, 316, 317, 318, 319, 831, 577, 337, 726, 728, 733, 230}}), ('ANVERS-BERCHEM', 'ANVERS-SUD', {'route_id': {321, 322, 236, 557, 537, 335, 558, 562, 179, 211, 309, 532, 311, 312, 249, 575}}), ('ANVERS-BERCHEM', 'BOECHOUT', {'route_id': {579, 356}}), ('MORTSEL', 'BOECHOUT', {'route_id': {131, 774, 778, 796, 419, 167, 426, 427, 429, 691, 574, 832, 581, 333, 334, 727, 734, 736, 741}}), ('MORTSEL', 'MORTSEL-LIERSESTEENWEG', {'route_id': {356, 165, 231, 232, 168, 749, 751, 752, 247, 761}}), ('BOECHOUT', 'LIERRE', {'route_id': {131, 774, 778, 796, 419, 167, 426, 427, 429, 691, 574, 832, 579, 581, 333, 334, 727, 734, 736, 356, 741}}), ('LIERRE', 'KESSEL', {'route_id': {131, 785, 538, 539, 796, 419, 426, 427, 429, 686, 687, 688, 689, 818, 822, 823, 824, 573, 579, 334, 355, 357, 358, 741}}), ('LIERRE', 'KONTICH-LINT', {'route_id': {165}}), ('LIERRE', 'BERLAAR', {'route_id': {832, 581, 774, 167, 778, 333, 718, 734, 691, 822, 727, 824, 574}}), ('LIERRE', 'DUFFEL', {'route_id': {355, 357, 358, 686, 687, 688, 689, 785, 718, 823, 538, 539, 573}}), ('KESSEL', 'NIJLEN', {'route_id': {131, 785, 538, 539, 796, 419, 426, 427, 429, 686, 687, 688, 689, 818, 822, 823, 824, 573, 579, 334, 355, 357, 358, 741}}), ('NIJLEN', 'BOUWEL', {'route_id': {131, 785, 538, 539, 796, 419, 426, 427, 429, 686, 687, 688, 689, 818, 822, 823, 824, 573, 579, 334, 355, 357, 358, 741}}), ('BOUWEL', 'WOLFSTEE', {'route_id': {131, 785, 538, 539, 796, 419, 426, 427, 429, 686, 687, 688, 689, 818, 822, 823, 824, 573, 579, 334, 355, 357, 358, 741}}), ('WOLFSTEE', 'HERENTALS', {'route_id': {131, 785, 538, 539, 796, 419, 426, 427, 429, 686, 687, 688, 689, 818, 822, 823, 824, 573, 579, 334, 355, 357, 358, 741}}), ('HERENTALS', 'OLEN', {'route_id': {741, 426, 427, 797, 429, 334, 686, 240, 687, 690, 688, 689, 822, 823, 824, 539, 796, 573}}), ('HERENTALS', 'TIELEN', {'route_id': {355, 420, 357, 419, 358, 785, 538}}), ('ROULERS', 'IZEGEM', {'route_id': {291, 292, 293, 677, 294, 235, 756, 661, 662, 663, 536}}), ('GLONS', 'TONGRES', {'route_id': {133, 778, 491, 332, 333}}), ('TONGRES', 'BILZEN', {'route_id': {133, 774, 586, 491, 778, 332, 333, 692, 181, 694, 278, 184, 188, 541, 319}}), ('BILZEN', 'DIEPENBEEK', {'route_id': {133, 774, 586, 491, 778, 332, 333, 692, 181, 694, 278, 184, 188, 541, 319}}), ('DIEPENBEEK', 'HASSELT', {'route_id': {133, 774, 586, 491, 778, 332, 333, 692, 181, 694, 278, 184, 188, 541, 319}}), ('HASSELT', 'KIEWIT', {'route_id': {584, 139, 589, 180, 183}}), ('HASSELT', 'SCHULEN', {'route_id': {774, 744, 169, 586, 746, 778, 301, 333, 593, 692, 278, 695, 283, 316, 541, 574, 319}}), ('HASSELT', 'ALKEN', {'route_id': {743, 584, 585, 745, 589, 690, 180, 181, 694, 183, 184, 185, 182}}), ('HASSELT', 'ZONHOVEN', {'route_id': {690, 435, 741}}), ('LA LOUVIERE-SUD', 'LEVAL', {'route_id': {353, 355, 356, 711, 136, 712, 783, 431, 785, 829}}), ('LA LOUVIERE-SUD', 'BRACQUEGNIES', {'route_id': {384, 385, 258, 386, 387, 388, 389, 390, 391, 395, 767, 150, 151, 536, 159, 160, 162, 437, 201, 724, 737, 740, 378, 380, 383}}), ('LA LOUVIERE-SUD', 'MORLANWELZ', {'route_id': {384, 385, 258, 386, 387, 388, 389, 390, 391, 394, 395, 767, 150, 151, 536, 159, 162, 422, 423, 201, 724, 725, 737, 740, 378, 380, 383}}), ('LEVAL', 'BINCHE', {'route_id': {353, 355, 356, 711, 136, 712, 783, 431, 785, 829}}), ('COURTRAI', 'HARELBEKE', {'route_id': {137, 792, 793, 409, 795, 411, 553, 557, 558, 817, 562, 828, 830, 575, 703, 717, 718, 235, 756}}), ('COURTRAI', 'VICHTE', {'route_id': {668, 418, 291, 293, 199, 200, 138, 721, 473, 220}}), ('COURTRAI', 'INGELMUNSTER', {'route_id': {291, 292, 293, 677, 235, 756, 661, 662, 663}}), ('COURTRAI', 'BISSEGEM', {'route_id': {553, 557, 717, 817, 562, 721, 564, 830}}), ('HARELBEKE', 'WAREGEM', {'route_id': {137, 792, 793, 409, 795, 411, 553, 557, 558, 817, 562, 828, 830, 575, 703, 717, 718, 235, 756}}), ('VICHTE', 'ANZEGEM', {'route_id': {668, 418, 291, 293, 199, 200, 138, 721, 473, 220}}), ('ANZEGEM', 'AUDENARDE', {'route_id': {668, 418, 291, 293, 199, 200, 138, 721, 473, 220}}), ('AUDENARDE', 'SINT-DENIJS-BOEKEL', {'route_id': {668, 418, 291, 289, 198, 199, 138, 721, 472, 473, 220, 669, 286}}), ('AUDENARDE', 'RENAIX', {'route_id': {609, 673, 156, 739}}), ('AUDENARDE', 'EINE', {'route_id': {672, 609, 673, 664, 156, 158}}), ('SINT-DENIJS-BOEKEL', 'MUNKZWALM', {'route_id': {668, 418, 291, 289, 198, 199, 138, 721, 472, 473, 220, 669, 286}}), ('MUNKZWALM', 'ZOTTEGEM', {'route_id': {668, 418, 291, 289, 198, 199, 138, 721, 472, 473, 220, 669, 286}}), ('ZOTTEGEM', 'HILLEGEM', {'route_id': {288, 668, 418, 291, 289, 138, 720, 472, 473, 220, 669, 286, 287}}), ('ZOTTEGEM', 'BALEGEM-ZUID', {'route_id': {672, 241, 673}}), ('ZOTTEGEM', 'LIERDE', {'route_id': {672, 241, 673, 675}}), ('HILLEGEM', 'HERZELE', {'route_id': {288, 668, 418, 291, 289, 138, 720, 472, 473, 220, 669, 286, 287}}), ('HERZELE', 'TERHAGEN', {'route_id': {288, 668, 418, 291, 289, 138, 720, 472, 473, 220, 669, 286, 287}}), ('TERHAGEN', 'BURST', {'route_id': {288, 668, 418, 291, 289, 138, 720, 472, 473, 220, 669, 286, 287}}), ('BURST', 'EDE', {'route_id': {288, 668, 418, 291, 289, 138, 720, 472, 473, 220, 669, 286, 287}}), ('BURST', 'BAMBRUGGE', {'route_id': {676}}), ('EDE', 'HAALTERT', {'route_id': {288, 668, 418, 291, 289, 138, 720, 472, 473, 220, 669, 286, 287}}), ('HAALTERT', 'WELLE', {'route_id': {288, 668, 418, 291, 289, 138, 720, 472, 473, 220, 669, 286, 287}}), ('GENK', 'BOKRIJK', {'route_id': {584, 139, 589, 180, 183}}), ('BOKRIJK', 'KIEWIT', {'route_id': {584, 139, 589, 180, 183}}), ('EUPEN', 'WELKENRAEDT', {'route_id': {698, 140, 802, 471}}), ('WELKENRAEDT', 'DOLHAIN-GILEPPE', {'route_id': {802, 794, 237, 756, 469, 470, 471, 600, 793, 698, 411, 757, 413}}), ('WELKENRAEDT', 'HERGENRATH', {'route_id': {468, 469}}), ('TAMINES', 'AUVELAIS', {'route_id': {384, 256, 258, 386, 387, 388, 389, 390, 391, 643, 385, 396, 397, 143, 767, 640, 415, 800, 799, 441, 442, 443, 444, 448, 449, 201, 724, 725, 378, 380, 381, 382, 383}}), ('TAMINES', 'AISEAU', {'route_id': {256, 385, 258, 384, 386, 387, 388, 389, 390, 391, 643, 396, 397, 767, 150, 151, 799, 415, 416, 162, 417, 800, 441, 442, 443, 444, 448, 449, 201, 724, 725, 378, 380, 382, 383}}), ('AUVELAIS', 'JEMEPPE-SUR-SAMBRE', {'route_id': {384, 256, 258, 386, 387, 388, 389, 390, 391, 643, 385, 396, 397, 143, 767, 640, 415, 800, 799, 441, 442, 443, 444, 448, 449, 201, 724, 725, 378, 380, 381, 382, 383}}), ('JEMEPPE-SUR-SAMBRE', 'HAM-SUR-SAMBRE', {'route_id': {384, 256, 258, 386, 387, 388, 389, 390, 391, 385, 396, 397, 143, 767, 415, 800, 799, 441, 442, 443, 444, 448, 449, 201, 724, 725, 378, 380, 381, 382, 383}}), ('JEMEPPE-SUR-SAMBRE', 'MAZY', {'route_id': {640, 641}}), ('HAM-SUR-SAMBRE', 'MOUSTIER', {'route_id': {384, 256, 258, 386, 387, 388, 389, 390, 391, 385, 396, 397, 143, 767, 415, 800, 799, 441, 442, 443, 444, 448, 449, 201, 724, 725, 378, 380, 381, 382, 383}}), ('MOUSTIER', 'FRANIERE', {'route_id': {384, 256, 258, 386, 387, 388, 389, 390, 391, 385, 396, 397, 143, 767, 415, 800, 799, 441, 442, 443, 444, 448, 449, 201, 724, 725, 378, 380, 381, 382, 383}}), ('FRANIERE', 'FLOREFFE', {'route_id': {384, 256, 258, 386, 387, 388, 389, 390, 391, 385, 396, 397, 143, 767, 415, 800, 799, 441, 442, 443, 444, 448, 449, 201, 724, 725, 378, 380, 381, 382, 383}}), ('FLOREFFE', 'FLAWINNE', {'route_id': {384, 256, 258, 386, 387, 388, 389, 390, 391, 385, 396, 397, 143, 767, 415, 800, 799, 441, 442, 443, 444, 448, 449, 201, 724, 725, 378, 380, 381, 382, 383}}), ('FLAWINNE', 'RONET', {'route_id': {384, 256, 258, 386, 387, 388, 389, 390, 391, 385, 396, 397, 143, 767, 415, 800, 799, 441, 442, 443, 444, 448, 449, 201, 724, 725, 378, 380, 381, 382, 383}}), ('MONS', 'FRAMERIES', {'route_id': {452, 453, 166, 460, 653, 462, 461, 657, 819, 147, 245, 374}}), ('MONS', 'NIMY', {'route_id': {384, 385, 258, 386, 387, 388, 389, 390, 391, 395, 653, 767, 150, 151, 536, 159, 160, 162, 437, 201, 715, 724, 737, 740, 378, 380, 383}}), ('MONS', 'JEMAPPES', {'route_id': {384, 385, 258, 386, 387, 389, 390, 391, 393, 395, 655, 767, 659, 151, 536, 159, 160, 162, 170, 705, 452, 453, 454, 202, 716, 724, 227, 740, 383}}), ('MONS', 'GHLIN', {'route_id': {655, 656, 657, 786, 787, 788, 789, 154, 166, 819, 705, 202, 459, 460, 461, 462, 463, 716, 227, 748, 372, 373, 374}}), ('FRAMERIES', 'GENLY', {'route_id': {452, 453, 166, 460, 653, 462, 461, 657, 819, 147, 245, 374}}), ('GENLY', 'QUEVY', {'route_id': {452, 453, 166, 460, 653, 462, 461, 657, 819, 147, 245, 374}}), ('QUEVY', 'QUEVY-FRONTIERE', {'route_id': {245}}), ('MENIN', 'WERVIK', {'route_id': {553, 557, 717, 817, 562, 721, 148, 149, 564, 830}}), ('MENIN', 'WEVELGEM', {'route_id': {553, 717, 557, 721, 562, 817, 564, 149, 830}}), ('WERVIK', 'COMINES', {'route_id': {553, 557, 717, 817, 562, 721, 148, 149, 564, 830}}), ('COMINES', 'YPRES', {'route_id': {553, 557, 717, 817, 562, 721, 148, 149, 564, 830}}), ('YPRES', 'POPERINGE', {'route_id': {553, 557, 717, 817, 562, 721, 148, 149, 564, 830}}), ('WEVELGEM', 'BISSEGEM', {'route_id': {553, 717, 557, 721, 562, 817, 564, 149, 830}}), ('NIMY', 'OBOURG', {'route_id': {384, 385, 258, 386, 387, 388, 389, 390, 391, 395, 653, 767, 150, 151, 536, 159, 160, 162, 437, 201, 715, 724, 737, 740, 378, 380, 383}}), ('OBOURG', 'HAVRE', {'route_id': {384, 385, 258, 386, 387, 388, 389, 390, 391, 395, 653, 767, 150, 151, 536, 159, 160, 162, 437, 201, 715, 724, 737, 740, 378, 380, 383}}), ('HAVRE', 'THIEU', {'route_id': {384, 385, 258, 386, 387, 388, 389, 390, 391, 395, 653, 767, 150, 151, 536, 159, 160, 162, 437, 201, 715, 724, 737, 740, 378, 380, 383}}), ('THIEU', 'BRACQUEGNIES', {'route_id': {384, 385, 258, 386, 387, 388, 389, 390, 391, 395, 653, 767, 150, 151, 536, 159, 160, 162, 437, 201, 715, 724, 737, 740, 378, 380, 383}}), ('MORLANWELZ', 'CARNIERES', {'route_id': {384, 385, 258, 386, 387, 388, 389, 390, 391, 394, 395, 767, 150, 151, 536, 159, 162, 422, 423, 201, 724, 725, 737, 740, 378, 380, 383}}), ('CARNIERES', 'PIETON', {'route_id': {384, 385, 258, 386, 387, 388, 389, 390, 391, 394, 395, 767, 150, 151, 536, 159, 162, 422, 423, 201, 724, 725, 737, 740, 378, 380, 383}}), ('PIETON', 'FORCHIES', {'route_id': {384, 385, 258, 386, 387, 388, 389, 390, 391, 394, 395, 767, 150, 151, 536, 159, 162, 422, 423, 201, 724, 725, 737, 740, 378, 380, 383}}), ('COUILLET', 'CHATELET', {'route_id': {384, 256, 258, 386, 387, 388, 389, 390, 391, 643, 385, 644, 396, 397, 767, 150, 151, 415, 416, 417, 800, 162, 799, 441, 442, 443, 444, 448, 449, 201, 724, 725, 378, 380, 382, 383}}), ('CHATELET', 'LE CAMPINAIRE', {'route_id': {384, 256, 258, 386, 387, 388, 389, 390, 391, 643, 385, 396, 397, 767, 150, 151, 415, 416, 417, 800, 162, 799, 441, 442, 443, 444, 448, 449, 201, 724, 725, 378, 380, 382, 383}}), ('LE CAMPINAIRE', 'FARCIENNES', {'route_id': {384, 256, 258, 386, 387, 388, 389, 390, 391, 643, 385, 396, 397, 767, 150, 151, 415, 416, 417, 800, 162, 799, 441, 442, 443, 444, 448, 449, 201, 724, 725, 378, 380, 382, 383}}), ('FARCIENNES', 'AISEAU', {'route_id': {384, 256, 258, 386, 387, 388, 389, 390, 391, 643, 385, 396, 397, 767, 150, 151, 415, 416, 417, 800, 162, 799, 441, 442, 443, 444, 448, 449, 201, 724, 725, 378, 380, 382, 383}}), ('ANTOING', 'MAUBRAY', {'route_id': {384, 385, 258, 387, 389, 390, 393, 395, 767, 151, 536, 159, 160, 161, 162, 170, 705, 452, 453, 724, 383}}), ('MAUBRAY', 'CALLENELLE', {'route_id': {384, 385, 258, 387, 389, 390, 393, 395, 767, 151, 536, 159, 160, 161, 162, 170, 705, 452, 453, 724, 383}}), ('CALLENELLE', 'PERUWELZ', {'route_id': {384, 385, 258, 387, 389, 390, 393, 395, 767, 151, 536, 159, 160, 161, 162, 170, 705, 452, 453, 724, 383}}), ('PERUWELZ', 'BLATON', {'route_id': {384, 385, 258, 387, 389, 390, 393, 395, 767, 151, 536, 159, 160, 161, 162, 170, 705, 452, 453, 724, 383}}), ('BLATON', 'HARCHIES', {'route_id': {384, 385, 258, 387, 389, 390, 393, 395, 767, 151, 536, 159, 160, 161, 162, 170, 705, 452, 453, 724, 383}}), ('HARCHIES', 'VILLE-POMMEROEUL', {'route_id': {384, 385, 258, 387, 389, 390, 393, 395, 767, 151, 536, 159, 160, 161, 162, 170, 705, 452, 453, 724, 383}}), ('VILLE-POMMEROEUL', 'SAINT-GHISLAIN', {'route_id': {384, 385, 258, 387, 389, 390, 393, 395, 767, 151, 536, 159, 160, 161, 162, 170, 705, 452, 453, 724, 383}}), ('SAINT-GHISLAIN', 'QUAREGNON', {'route_id': {384, 385, 258, 386, 387, 389, 390, 391, 393, 395, 655, 659, 767, 151, 536, 159, 160, 162, 170, 705, 452, 453, 454, 202, 716, 724, 227, 740, 383}}), ('SAINT-GHISLAIN', 'BOUSSU', {'route_id': {456, 202, 454, 655}}), ('QUAREGNON', 'JEMAPPES', {'route_id': {384, 385, 258, 386, 387, 389, 390, 391, 393, 395, 655, 659, 767, 151, 536, 159, 160, 162, 170, 705, 452, 453, 454, 202, 716, 724, 227, 740, 383}}), ('GHLIN', 'ERBISOEUL', {'route_id': {655, 656, 657, 786, 787, 788, 789, 154, 166, 819, 705, 202, 459, 460, 461, 462, 463, 716, 227, 748, 372, 373, 374}}), ('ERBISOEUL', 'JURBISE', {'route_id': {655, 656, 657, 786, 787, 788, 789, 154, 166, 819, 705, 202, 459, 460, 461, 462, 463, 716, 227, 748, 372, 373, 374}}), ('JURBISE', 'MASNUY-SAINT-PIERRE', {'route_id': {227, 166, 202, 748, 716, 655, 656, 657, 786, 787, 788, 789, 374, 372, 373, 819, 412}}), ('JURBISE', 'LENS', {'route_id': {705, 613, 459, 460, 461, 463, 465}}), ('EINE', 'ZINGEM', {'route_id': {672, 609, 673, 664, 156, 158}}), ('ZINGEM', 'GAVERE-ASPER', {'route_id': {672, 609, 673, 664, 156, 158}}), ('GAVERE-ASPER', 'EKE-NAZARETH', {'route_id': {672, 609, 673, 664, 156, 158}}), ('EEKLO', 'WAARSCHOOT', {'route_id': {664, 609, 565, 157}}), ('WAARSCHOOT', 'SLEIDINGE', {'route_id': {664, 609, 565, 157}}), ('SLEIDINGE', 'EVERGEM', {'route_id': {664, 609, 565, 157}}), ('EVERGEM', 'WONDELGEM', {'route_id': {664, 609, 565, 157}}), ('WONDELGEM', 'GAND-DAMPOORT', {'route_id': {664, 609, 565, 157}}), ('GAND-DAMPOORT', 'BEERVELDE', {'route_id': {236, 556, 558, 335, 527, 557, 211, 532, 537}}), ('GAND-DAMPOORT', 'GENTBRUGGE', {'route_id': {609, 236, 556, 557, 527, 335, 558, 211, 565, 664, 537}}), ('MALINES', 'KAPELLE-OP-DEN-BOS', {'route_id': {164, 516, 808, 717, 718, 496, 497, 538, 502, 410, 539, 414, 703}}), ('MALINES', 'MALINES-NEKKERSPOEL', {'route_id': {259, 260, 261, 773, 785, 538, 539, 169, 687, 688, 439, 440, 823, 314, 315, 316, 317, 318, 319, 573, 577, 831, 718, 337, 726, 728, 733, 355, 356, 357, 230, 231, 232, 358, 749, 751, 752, 247, 761}}), ('MALINES', 'BRUSSELS AIRPORT-ZAVENTEM', {'route_id': {577, 773, 319, 775, 733, 169, 687, 726, 728, 314, 315, 316, 317, 318, 831}}), ('MALINES', 'WEERDE', {'route_id': {259, 260, 261, 785, 688, 823, 440, 439, 573, 830, 337, 350, 351, 352, 355, 356, 357, 358, 231, 232, 230, 234, 749, 751, 752, 247, 761}}), ('MALINES', 'MUIZEN', {'route_id': {320, 323, 414, 717, 593, 276, 277, 410, 830}}), ('MALINES', 'WILLEBROEK', {'route_id': {776, 323, 325}}), ('KAPELLE-OP-DEN-BOS', 'LONDERZEEL', {'route_id': {164, 516, 808, 717, 718, 496, 497, 538, 502, 410, 539, 414, 703}}), ('LONDERZEEL', 'MALDEREN', {'route_id': {516, 808, 717, 718, 496, 497, 538, 502, 410, 539, 414, 703}}), ('KONTICH-LINT', 'HOVE', {'route_id': {259, 260, 261, 773, 165, 168, 169, 439, 440, 314, 315, 316, 317, 318, 319, 831, 577, 337, 726, 728, 733, 356, 230, 231, 232, 749, 751, 752, 247, 761}}), ('KONTICH-LINT', 'DUFFEL', {'route_id': {259, 260, 261, 773, 168, 169, 439, 440, 314, 315, 316, 317, 318, 831, 319, 577, 337, 726, 728, 733, 356, 230, 231, 232, 749, 751, 752, 247, 761}}), ('HOVE', 'MORTSEL-LIERSESTEENWEG', {'route_id': {356, 165, 231, 168, 232, 749, 751, 752, 247, 761}}), ('HOVE', 'MORTSEL-OUDE GOD', {'route_id': {259, 260, 261, 773, 169, 439, 440, 314, 315, 316, 317, 318, 319, 831, 577, 337, 726, 728, 733, 230}}), ('MASNUY-SAINT-PIERRE', 'NEUFVILLES', {'route_id': {227, 166, 202, 748, 716, 655, 656, 657, 786, 787, 788, 789, 374, 372, 373, 819, 412, 543}}), ('MASNUY-SAINT-PIERRE', 'LENS', {'route_id': {543}}), ('NEUFVILLES', 'SOIGNIES', {'route_id': {227, 166, 202, 748, 716, 655, 656, 657, 786, 787, 788, 789, 374, 372, 373, 819, 412, 543}}), ('SOIGNIES', 'BRAINE-LE-COMTE', {'route_id': {227, 202, 748, 716, 655, 656, 657, 786, 787, 788, 789, 374, 372, 373, 819, 412, 543}}), ('WEZEMAAL', 'AARSCHOT', {'route_id': {278, 279, 283, 541, 285, 167, 168, 169, 301, 302, 303, 691, 692, 822, 695, 824, 697, 314, 315, 316, 317, 318, 319, 832, 586, 587, 718, 593, 727, 734, 744, 746, 239}}), ('AARSCHOT', 'BEGIJNENDIJK', {'route_id': {832, 581, 774, 167, 168, 778, 333, 718, 691, 822, 727, 824, 734}}), ('AARSCHOT', 'LANGDORP', {'route_id': {774, 778, 278, 283, 541, 169, 301, 302, 692, 695, 697, 314, 316, 317, 319, 586, 333, 593, 744, 746, 239}}), ('BEGIJNENDIJK', 'BOOISCHOT', {'route_id': {832, 581, 774, 167, 168, 574, 778, 333, 718, 691, 822, 727, 824, 734}}), ('BEGIJNENDIJK', 'LANGDORP', {'route_id': {574}}), ('BOOISCHOT', 'HEIST-OP-DEN-BERG', {'route_id': {832, 581, 774, 167, 168, 574, 778, 333, 718, 691, 822, 727, 824, 734}}), ('HEIST-OP-DEN-BERG', 'MELKOUWEN', {'route_id': {832, 581, 774, 167, 574, 778, 333, 718, 691, 822, 727, 824, 734}}), ('MELKOUWEN', 'BERLAAR', {'route_id': {832, 581, 774, 167, 574, 778, 333, 718, 691, 822, 727, 824, 734}}), ('WIJGMAAL', 'HAMBOS', {'route_id': {320, 323, 168, 717, 686, 830, 593, 689, 410, 414}}), ('HAMBOS', 'WESPELAAR-TILDONK', {'route_id': {320, 323, 168, 717, 686, 830, 593, 689, 410, 414}}), ('WESPELAAR-TILDONK', 'HAACHT', {'route_id': {320, 323, 168, 717, 686, 830, 593, 689, 410, 414}}), ('HAACHT', 'BOORTMEERBEEK', {'route_id': {320, 323, 168, 717, 686, 830, 593, 689, 410, 414}}), ('BOORTMEERBEEK', 'HEVER', {'route_id': {320, 323, 168, 717, 686, 830, 593, 689, 410, 414}}), ('HEVER', 'MUIZEN', {'route_id': {320, 323, 168, 717, 686, 830, 593, 689, 410, 414}}), ('MUIZEN', 'MALINES-NEKKERSPOEL', {'route_id': {168, 689, 686}}), ('MUIZEN', 'HOFSTADE', {'route_id': {276, 277}}), ('MALINES-NEKKERSPOEL', 'SINT-KATELIJNE-WAVER', {'route_id': {259, 260, 261, 773, 785, 538, 539, 168, 169, 686, 687, 688, 689, 439, 440, 823, 314, 315, 316, 317, 318, 319, 573, 577, 831, 718, 337, 726, 728, 733, 355, 356, 357, 230, 231, 232, 358, 749, 751, 752, 247, 761}}), ('SINT-KATELIJNE-WAVER', 'DUFFEL', {'route_id': {259, 260, 261, 773, 785, 538, 539, 168, 169, 686, 687, 688, 689, 439, 440, 823, 314, 315, 316, 317, 318, 319, 573, 577, 831, 718, 337, 726, 728, 733, 355, 356, 357, 230, 231, 232, 358, 749, 751, 752, 247, 761}}), ('MORTSEL-DEURNESTEENWEG', 'MORTSEL-OUDE GOD', {'route_id': {259, 260, 261, 773, 169, 439, 440, 314, 315, 316, 317, 318, 319, 831, 577, 337, 726, 728, 733, 230}}), ('BRUSSELS AIRPORT-ZAVENTEM', 'HAREN', {'route_id': {772, 405, 406, 407, 408}}), ('LANGDORP', 'TESTELT', {'route_id': {774, 778, 278, 283, 541, 169, 301, 302, 692, 695, 697, 314, 316, 317, 574, 319, 586, 333, 593, 744, 746, 239}}), ('TESTELT', 'ZICHEM', {'route_id': {774, 778, 278, 283, 541, 169, 301, 302, 692, 695, 697, 314, 316, 317, 574, 319, 586, 333, 593, 744, 746, 239}}), ('ZICHEM', 'DIEST', {'route_id': {774, 778, 278, 283, 541, 169, 301, 302, 692, 695, 697, 314, 316, 317, 574, 319, 586, 333, 593, 744, 746, 239}}), ('DIEST', 'SCHULEN', {'route_id': {774, 744, 169, 586, 746, 778, 301, 333, 239, 593, 692, 278, 695, 283, 316, 541, 574, 319}}), ('SCHULEN', 'ZONHOVEN', {'route_id': {239}}), ('FOREST-EST', 'UCCLE-STALLE', {'route_id': {643, 260, 261, 262, 231, 232, 233, 234, 171, 644, 750, 751, 337, 339, 247, 440, 765, 254}}), ('UCCLE-STALLE', 'UCCLE-CALEVOET', {'route_id': {643, 260, 261, 262, 231, 232, 233, 234, 171, 644, 750, 751, 337, 339, 247, 440, 765, 254}}), ('UCCLE-CALEVOET', 'LINKEBEEK', {'route_id': {643, 260, 261, 262, 231, 232, 233, 234, 171, 644, 750, 751, 337, 339, 247, 440, 765, 254}}), ('LINKEBEEK', 'HOLLEKEN', {'route_id': {643, 260, 261, 262, 644, 406, 791, 408, 171, 440, 337, 339, 348, 349, 231, 232, 233, 234, 750, 751, 247, 765, 254}}), ('LINKEBEEK', 'SAINT-JOB', {'route_id': {406, 791, 408, 348, 349}}), ('HOLLEKEN', 'RHODE-SAINT-GENESE', {'route_id': {643, 260, 261, 262, 644, 406, 791, 408, 171, 440, 337, 339, 348, 349, 231, 232, 233, 234, 750, 751, 247, 765, 254}}), ('RHODE-SAINT-GENESE', 'DE HOEK', {'route_id': {643, 260, 261, 262, 644, 406, 791, 408, 171, 440, 337, 339, 348, 349, 231, 232, 233, 234, 750, 751, 247, 765, 254}}), ('DE HOEK', 'WATERLOO', {'route_id': {643, 260, 261, 262, 644, 406, 791, 408, 171, 440, 337, 339, 348, 349, 231, 232, 233, 234, 750, 751, 247, 765, 254}}), ('WATERLOO', \"BRAINE-L'ALLEUD\", {'route_id': {643, 260, 261, 262, 644, 406, 791, 408, 171, 440, 337, 339, 348, 349, 231, 232, 233, 234, 750, 751, 247, 765, 254}}), (\"BRAINE-L'ALLEUD\", 'LILLOIS', {'route_id': {643, 260, 261, 440, 231, 262, 233, 234, 171, 644, 791, 750, 337, 339, 247, 408}}), ('FOREST-MIDI', 'RUISBROEK', {'route_id': {780, 782, 783, 785, 786, 533, 789, 543, 298, 299, 178, 826, 700, 189, 190, 191, 192, 193, 829, 711, 712, 713, 202, 598, 342, 344, 345, 608, 354, 227, 228, 229, 357, 358, 359, 742, 748, 370, 243, 244, 375, 760, 761}}), ('FOREST-MIDI', 'HAL', {'route_id': {353, 355, 356, 747, 716, 655, 656, 657, 784}}), ('RUISBROEK', 'LOT', {'route_id': {779, 780, 782, 783, 785, 786, 533, 789, 543, 298, 299, 178, 826, 827, 700, 189, 190, 191, 192, 193, 701, 829, 711, 712, 713, 202, 341, 598, 342, 343, 344, 345, 347, 375, 608, 354, 227, 228, 229, 357, 358, 359, 742, 748, 370, 243, 372, 373, 246, 244, 760, 761}}), ('LOT', 'BUIZINGEN', {'route_id': {779, 780, 782, 783, 785, 786, 533, 789, 543, 298, 299, 178, 826, 827, 700, 189, 190, 191, 192, 193, 701, 829, 711, 712, 713, 202, 341, 598, 342, 343, 344, 345, 347, 375, 608, 354, 227, 228, 229, 357, 358, 359, 742, 748, 370, 243, 372, 373, 246, 244, 760, 761}}), ('BUIZINGEN', 'HAL', {'route_id': {779, 780, 782, 783, 785, 786, 533, 789, 543, 298, 299, 178, 826, 827, 700, 189, 190, 191, 192, 193, 701, 829, 711, 712, 713, 202, 341, 598, 342, 343, 344, 345, 347, 375, 608, 354, 227, 228, 229, 357, 358, 359, 742, 748, 370, 243, 372, 373, 246, 244, 760, 761}}), ('HAL', 'ENGHIEN', {'route_id': {779, 780, 782, 533, 298, 299, 826, 827, 700, 189, 190, 191, 192, 193, 701, 341, 342, 343, 344, 345, 347, 350, 351, 608, 361, 747, 243, 244, 246, 760}}), ('HAL', 'LEMBEEK', {'route_id': {783, 655, 785, 656, 657, 784, 786, 787, 788, 789, 790, 543, 819, 829, 711, 712, 713, 202, 716, 598, 353, 354, 227, 228, 357, 358, 359, 355, 356, 748, 370, 372, 373, 374, 375, 761}}), ('HAL', 'HUIZINGEN', {'route_id': {352, 360, 361, 407, 350, 351}}), ('HAL', 'PARIS NORD (FR)', {'route_id': {732}}), ('ANVERS-SUD', 'ZWIJNDRECHT', {'route_id': {321, 322, 236, 557, 558, 335, 562, 179, 211, 532, 537, 575}}), ('ANVERS-SUD', 'HOBOKEN-POLDER', {'route_id': {312, 249, 309, 311}}), ('ZWIJNDRECHT', 'MELSELE', {'route_id': {321, 322, 236, 557, 558, 335, 562, 179, 211, 532, 537, 575}}), ('MELSELE', 'BEVEREN', {'route_id': {321, 322, 236, 557, 558, 335, 562, 179, 211, 532, 537, 575}}), ('BEVEREN', 'NIEUWKERKEN-WAAS', {'route_id': {321, 322, 236, 557, 558, 335, 562, 179, 211, 532, 537, 575}}), ('NIEUWKERKEN-WAAS', 'SAINT-NICOLAS', {'route_id': {321, 322, 236, 557, 558, 335, 562, 179, 211, 532, 537, 575}}), ('SAINT-NICOLAS', 'BELSELE', {'route_id': {779, 780, 782, 532, 537, 556, 557, 558, 562, 575, 321, 322, 335, 211, 341, 342, 343, 347, 236}}), ('SAINT-NICOLAS', 'TAMISE', {'route_id': {776, 323}}), ('ALKEN', 'SAINT-TROND', {'route_id': {743, 584, 585, 745, 589, 690, 180, 181, 694, 183, 184, 185, 182}}), ('SAINT-TROND', 'LANDEN', {'route_id': {743, 584, 585, 745, 589, 690, 180, 181, 694, 183, 184, 185, 182}}), ('LANDEN', 'NEERWINDEN', {'route_id': {771, 300, 690, 180, 181, 694, 183, 184, 185, 182, 583, 584, 585, 202, 589, 595, 349, 227, 228, 229, 743, 745, 362, 363, 364, 365, 366, 748}}), ('LANDEN', 'WAREMME', {'route_id': {227, 228, 229, 771, 202, 300, 748, 595, 475}}), ('NEERWINDEN', 'EZEMAAL', {'route_id': {771, 300, 690, 180, 181, 694, 183, 184, 185, 182, 583, 584, 585, 202, 589, 595, 349, 227, 228, 229, 743, 745, 362, 363, 364, 365, 366, 748}}), ('EZEMAAL', 'TIRLEMONT', {'route_id': {771, 300, 690, 180, 181, 694, 183, 184, 185, 182, 583, 584, 585, 202, 589, 595, 349, 227, 228, 229, 743, 745, 362, 363, 364, 365, 366, 748}}), ('TIRLEMONT', 'VERTRIJK', {'route_id': {771, 300, 690, 180, 181, 694, 183, 184, 185, 182, 583, 584, 585, 202, 589, 595, 349, 227, 228, 229, 743, 745, 362, 363, 364, 365, 366, 748}}), ('ANDERLECHT', 'LIEDEKERKE', {'route_id': {769, 770, 278, 279, 280, 281, 282, 283, 285, 286, 287, 288, 289, 418, 291, 555, 472, 473, 220, 364, 365, 366, 367, 368}}), ('ANDERLECHT', 'MELLE', {'route_id': {825, 556}}), ('TRONCHIENNES', 'LANDEGEM', {'route_id': {512, 771, 269, 272, 535, 537, 538, 539, 541, 290, 802, 551, 808, 807, 683, 300, 814, 816, 180, 181, 182, 183, 184, 185, 327, 330, 471, 477, 743, 744, 745, 746, 236, 237, 497, 755, 757, 502, 503, 511}}), ('LANDEGEM', 'HANSBEKE', {'route_id': {512, 771, 269, 272, 535, 537, 538, 539, 541, 290, 802, 551, 808, 807, 683, 300, 814, 816, 180, 181, 182, 183, 184, 185, 327, 330, 471, 477, 743, 744, 745, 746, 236, 237, 497, 755, 757, 502, 503, 511}}), ('HANSBEKE', 'BELLEM', {'route_id': {512, 771, 269, 272, 535, 537, 538, 539, 541, 290, 802, 551, 808, 807, 683, 300, 814, 816, 180, 181, 182, 183, 184, 185, 327, 330, 471, 477, 743, 744, 745, 746, 236, 237, 497, 755, 757, 502, 503, 511}}), ('BELLEM', 'AALTER', {'route_id': {512, 771, 269, 272, 535, 537, 538, 539, 541, 290, 802, 551, 808, 807, 683, 300, 814, 816, 180, 181, 182, 183, 184, 185, 327, 330, 471, 477, 743, 744, 745, 746, 236, 237, 497, 755, 757, 502, 503, 511}}), ('AALTER', 'MARIA-AALTER', {'route_id': {512, 771, 269, 272, 535, 537, 538, 539, 541, 290, 802, 551, 808, 807, 683, 300, 814, 816, 180, 181, 182, 183, 184, 185, 327, 330, 471, 477, 743, 744, 745, 746, 236, 237, 497, 755, 757, 502, 503, 511}}), ('MARIA-AALTER', 'BEERNEM', {'route_id': {512, 771, 269, 272, 535, 537, 538, 539, 541, 290, 802, 551, 808, 807, 683, 300, 814, 816, 180, 181, 182, 183, 184, 185, 327, 330, 471, 477, 743, 744, 745, 746, 236, 237, 497, 755, 757, 502, 503, 511}}), ('BEERNEM', 'OOSTKAMP', {'route_id': {512, 771, 269, 272, 535, 537, 538, 539, 541, 290, 802, 551, 808, 807, 683, 300, 814, 816, 180, 181, 182, 183, 184, 185, 327, 330, 471, 477, 743, 744, 745, 746, 236, 237, 497, 755, 757, 502, 503, 511}}), ('ENGHIEN', 'HERNE', {'route_id': {192, 194, 197, 351, 747, 533, 189, 190, 191}}), ('ENGHIEN', 'SILLY', {'route_id': {779, 780, 782, 298, 299, 826, 827, 700, 701, 341, 342, 343, 344, 345, 347, 608, 243, 246, 760}}), ('HERNE', 'TOLLEMBEEK', {'route_id': {192, 194, 197, 351, 747, 533, 189, 190, 191}}), ('TOLLEMBEEK', 'GAMMERAGES', {'route_id': {192, 194, 197, 351, 747, 533, 189, 190, 191}}), ('GAMMERAGES', 'VIANE-MOERBEKE', {'route_id': {192, 194, 197, 351, 747, 533, 189, 190, 191}}), ('EREMBODEGEM', 'ALOST', {'route_id': {769, 770, 263, 276, 278, 279, 280, 281, 282, 283, 285, 555, 820, 830, 191, 194, 195, 364, 365, 366, 367, 368}}), ('ALOST', 'LEDE', {'route_id': {769, 770, 554, 555, 364, 365, 366, 367, 368, 820, 278, 279, 280, 281, 282, 283, 285, 830}}), ('ALOST', 'ALOST KERREBROEK', {'route_id': {676}}), ('MARCHE-LES-DAMES', 'NAMECHE', {'route_id': {384, 385, 386, 387, 396, 397, 398, 295, 296, 297, 298, 299, 201, 603, 377, 378, 379, 380, 381, 382, 383}}), ('NAMECHE', 'SCLAIGNEAUX', {'route_id': {384, 385, 386, 387, 396, 397, 398, 295, 296, 297, 298, 299, 201, 603, 377, 378, 379, 380, 381, 382, 383}}), ('SCLAIGNEAUX', 'CHATEAU-DE-SEILLES', {'route_id': {384, 385, 386, 387, 396, 397, 398, 295, 296, 297, 298, 299, 201, 603, 377, 378, 379, 380, 381, 382, 383}}), ('CHATEAU-DE-SEILLES', 'ANDENNE', {'route_id': {384, 385, 386, 387, 396, 397, 398, 295, 296, 297, 298, 299, 201, 603, 377, 378, 379, 380, 381, 382, 383}}), ('ANDENNE', 'BAS-OHA', {'route_id': {384, 385, 386, 387, 396, 397, 398, 295, 296, 297, 298, 299, 201, 603, 377, 378, 379, 380, 381, 382, 383}}), ('BAS-OHA', 'STATTE', {'route_id': {384, 385, 386, 387, 396, 397, 398, 295, 296, 297, 298, 299, 201, 603, 377, 378, 379, 380, 381, 382, 383}}), ('STATTE', 'HUY', {'route_id': {384, 385, 386, 387, 396, 397, 398, 295, 296, 297, 298, 299, 201, 601, 603, 377, 378, 379, 380, 381, 382, 383}}), ('HUY', 'AMPSIN', {'route_id': {384, 385, 386, 387, 396, 397, 398, 295, 296, 297, 298, 299, 201, 466, 601, 377, 378, 379, 380, 381, 382, 383}}), ('AMPSIN', 'AMAY', {'route_id': {384, 385, 386, 387, 396, 397, 398, 295, 296, 297, 298, 299, 201, 466, 601, 377, 378, 379, 380, 381, 382, 383}}), ('AMAY', 'HAUTE-FLONE', {'route_id': {384, 385, 386, 387, 396, 397, 398, 295, 296, 297, 298, 299, 201, 466, 601, 377, 378, 379, 380, 381, 382, 383}}), ('HAUTE-FLONE', 'ENGIS', {'route_id': {384, 385, 386, 387, 396, 397, 398, 295, 296, 297, 298, 299, 201, 466, 601, 377, 378, 379, 380, 381, 382, 383}}), ('ENGIS', 'FLEMALLE-HAUTE', {'route_id': {384, 385, 386, 387, 396, 397, 398, 295, 296, 297, 298, 299, 201, 466, 601, 377, 378, 379, 380, 381, 382, 383}}), ('FLEMALLE-HAUTE', 'LEMAN', {'route_id': {384, 385, 386, 387, 396, 397, 398, 295, 296, 297, 298, 299, 201, 466, 601, 377, 378, 379, 380, 381, 382, 383}}), ('FLEMALLE-HAUTE', 'SERAING', {'route_id': {474, 219, 493, 494}}), ('LEMAN', 'FLEMALLE-GRANDE', {'route_id': {384, 385, 386, 387, 396, 397, 398, 295, 296, 297, 298, 299, 201, 466, 601, 377, 378, 379, 380, 381, 382, 383}}), ('FLEMALLE-GRANDE', 'JEMEPPE-SUR-MEUSE', {'route_id': {384, 385, 386, 387, 396, 397, 398, 295, 296, 297, 298, 299, 201, 466, 601, 377, 378, 379, 380, 381, 382, 383}}), ('JEMEPPE-SUR-MEUSE', 'PONT-DE-SERAING', {'route_id': {384, 385, 386, 387, 396, 397, 398, 295, 296, 297, 298, 299, 201, 466, 601, 377, 378, 379, 380, 381, 382, 383}}), ('PONT-DE-SERAING', 'SCLESSIN', {'route_id': {384, 385, 386, 387, 396, 397, 398, 295, 296, 297, 298, 299, 201, 466, 601, 377, 378, 379, 380, 381, 382, 383}}), ('QUIEVRAIN', 'THULIN', {'route_id': {456, 202, 454, 655}}), ('THULIN', 'HAININ', {'route_id': {456, 202, 454, 655}}), ('HAININ', 'BOUSSU', {'route_id': {456, 202, 454, 655}}), ('BRAINE-LE-COMTE', 'HENNUYERES', {'route_id': {655, 656, 657, 784, 786, 787, 788, 789, 790, 783, 785, 543, 819, 829, 711, 712, 713, 202, 716, 598, 353, 354, 355, 356, 227, 228, 357, 358, 359, 748, 370, 372, 373, 374, 375, 761}}), ('BRAINE-LE-COMTE', 'ECAUSSINNES', {'route_id': {353, 355, 356, 357, 358, 359, 711, 712, 713, 654, 431, 432, 783, 785, 761, 829}}), ('HENNUYERES', 'TUBIZE', {'route_id': {655, 656, 657, 784, 786, 787, 788, 789, 790, 783, 785, 543, 819, 829, 711, 712, 713, 202, 716, 598, 353, 354, 355, 356, 227, 228, 357, 358, 359, 748, 370, 372, 373, 374, 375, 761}}), ('TUBIZE', 'LEMBEEK', {'route_id': {655, 656, 657, 784, 786, 787, 788, 789, 790, 783, 785, 543, 819, 829, 711, 712, 713, 202, 716, 598, 353, 354, 355, 356, 227, 228, 357, 358, 359, 748, 370, 372, 373, 374, 375, 761}}), ('WAREMME', 'BLERET', {'route_id': {803, 227, 228, 229, 771, 202, 300, 748, 595, 474, 475}}), ('BLERET', 'REMICOURT', {'route_id': {803, 227, 228, 229, 771, 202, 300, 748, 595, 474, 475}}), ('REMICOURT', 'MOMALLE', {'route_id': {803, 227, 228, 229, 771, 202, 300, 748, 595, 474, 475}}), ('MOMALLE', 'FEXHE-LE-HAUT-CLOCHER', {'route_id': {803, 227, 228, 229, 771, 202, 300, 748, 595, 474, 475}}), ('FEXHE-LE-HAUT-CLOCHER', 'VOROUX', {'route_id': {803, 227, 228, 229, 771, 202, 300, 748, 595, 474, 475}}), ('VOROUX', 'BIERSET-AWANS', {'route_id': {803, 227, 228, 229, 771, 202, 300, 748, 595, 474, 475}}), ('BIERSET-AWANS', 'ANS', {'route_id': {803, 227, 228, 229, 771, 202, 300, 748, 595, 474, 475}}), ('ACREN', 'LESSINES', {'route_id': {465, 203, 460, 459}}), ('LESSINES', 'HOURAING', {'route_id': {465, 203, 460, 459}}), ('HOURAING', 'PAPIGNIES', {'route_id': {465, 203, 460, 459}}), ('PAPIGNIES', 'REBAIX', {'route_id': {465, 203, 460, 459}}), ('KORTEMARK', 'DIXMUDE', {'route_id': {552, 680, 365, 367, 208, 335, 815, 821, 542}}), ('DIXMUDE', 'FURNES', {'route_id': {552, 680, 365, 367, 208, 335, 815, 821, 542}}), ('FURNES', 'COXYDE', {'route_id': {552, 680, 365, 367, 208, 335, 815, 821, 542}}), ('COXYDE', 'LA PANNE', {'route_id': {552, 680, 365, 367, 208, 335, 815, 821, 542}}), ('BELSELE', 'SINAAI', {'route_id': {779, 780, 782, 532, 537, 556, 557, 558, 562, 575, 321, 322, 335, 211, 341, 342, 343, 347, 236}}), ('GENTBRUGGE', 'MERELBEKE', {'route_id': {556}}), ('Y.RENORY', 'OUGREE', {'route_id': {474, 219, 493, 494}}), ('OUGREE', 'SERAING', {'route_id': {474, 219, 493, 494}}), ('LIEDEKERKE', 'ESSENE LOMBEEK', {'route_id': {263, 276, 668, 669, 830}}), ('CHARLEROI-OUEST', 'LODELINSART', {'route_id': {448, 449, 223, 417, 800, 799, 442, 443, 444, 445, 447}}), ('LODELINSART', 'FLEURUS', {'route_id': {448, 449, 223, 417, 800, 799, 442, 443, 444, 445, 447}}), ('FLEURUS', 'LIGNY', {'route_id': {448, 417, 449, 223, 442, 443, 444, 447}}), ('LIGNY', 'TILLY', {'route_id': {448, 417, 449, 223, 442, 443, 444, 447}}), ('TILLY', 'VILLERS-LA-VILLE', {'route_id': {448, 417, 449, 223, 442, 443, 444, 447}}), ('VILLERS-LA-VILLE', 'LA ROCHE (BRABANT)', {'route_id': {448, 417, 449, 223, 442, 443, 444, 447}}), ('LA ROCHE (BRABANT)', 'FAUX', {'route_id': {448, 417, 449, 223, 442, 443, 444, 447}}), ('FAUX', 'COURT-SAINT-ETIENNE', {'route_id': {448, 417, 449, 223, 442, 443, 444, 447}}), ('COURT-SAINT-ETIENNE', 'CEROUX-MOUSTY', {'route_id': {448, 417, 449, 223, 442, 443, 444, 447}}), ('ARLON', 'VIVILLE', {'route_id': {224, 768, 515, 708, 265, 266, 267, 268, 269, 810, 274, 275}}), ('ARLON', 'STERPENICH-FRONTIERE', {'route_id': {768, 513, 226, 265, 266, 809, 268, 623}}), ('ARLON', 'MESSANCY', {'route_id': {514, 627}}), ('VIVILLE', 'STOCKEM', {'route_id': {224, 768, 515, 708, 265, 266, 267, 268, 269, 810, 274, 275}}), ('STOCKEM', 'HABAY', {'route_id': {224, 768, 515, 708, 265, 266, 267, 268, 269, 810, 274, 275}}), ('HABAY', 'MARBEHAN', {'route_id': {224, 768, 515, 708, 265, 266, 267, 268, 269, 810, 274, 275}}), ('MARBEHAN', 'NEUFCHATEAU', {'route_id': {224, 768, 515, 708, 265, 266, 267, 268, 269, 810, 274, 275}}), ('NEUFCHATEAU', 'LIBRAMONT', {'route_id': {224, 768, 515, 708, 265, 266, 267, 268, 269, 810, 274, 275}}), ('LIBRAMONT', 'POIX-SAINT-HUBERT', {'route_id': {224, 708, 265, 266, 267, 268, 269, 270, 274, 275, 629, 633, 730, 255}}), ('LIBRAMONT', 'BERTRIX', {'route_id': {514, 515, 517, 519, 811, 812, 638}}), ('POIX-SAINT-HUBERT', 'GRUPONT', {'route_id': {224, 708, 265, 266, 267, 268, 269, 270, 274, 275, 629, 633, 730, 255}}), ('GRUPONT', 'FORRIERES', {'route_id': {224, 708, 265, 266, 267, 268, 269, 270, 274, 275, 629, 633, 730, 255}}), ('LUXEMBOURG (LU)', 'STERPENICH-FRONTIERE', {'route_id': {768, 226, 265, 266, 268}}), ('LUXEMBOURG (LU)', 'PETANGE', {'route_id': {457}}), ('LUXEMBOURG (LU)', 'PFAFFENTHAL-KIRCHBERG (LU)', {'route_id': {481, 805, 486, 487}}), ('LUXEMBOURG (LU)', 'BERTRANGE STRASSEN (LU)', {'route_id': {513, 623, 809}}), ('LUXEMBOURG (LU)', 'MERSCH (LU)', {'route_id': {804}}), ('STERPENICH-FRONTIERE', 'KLEINBETTINGEN (LU)', {'route_id': {513, 809, 623}}), ('BUDA', 'VILVORDE', {'route_id': {259, 260, 261, 785, 439, 440, 573, 337, 355, 356, 357, 230, 231, 232, 358, 234, 749, 247, 761}}), ('VILVORDE', 'EPPEGEM', {'route_id': {259, 260, 261, 785, 276, 277, 688, 439, 440, 823, 573, 830, 337, 350, 351, 352, 355, 356, 357, 230, 231, 232, 358, 234, 749, 751, 752, 247, 761}}), ('VILVORDE', 'HAREN', {'route_id': {352, 360, 276, 277, 350, 351}}), ('EPPEGEM', 'WEERDE', {'route_id': {259, 260, 261, 785, 688, 439, 440, 823, 573, 830, 337, 350, 351, 352, 355, 356, 357, 230, 231, 232, 358, 234, 749, 751, 752, 247, 761}}), ('EPPEGEM', 'HOFSTADE', {'route_id': {276, 277}}), ('IZEGEM', 'INGELMUNSTER', {'route_id': {291, 292, 293, 677, 294, 235, 756, 661, 662, 663, 536}}), ('DOLHAIN-GILEPPE', 'VERVIERS-PALAIS', {'route_id': {802, 794, 237, 756, 469, 470, 471, 600, 793, 698, 411, 757, 413}}), ('NESSONVAUX', 'FRAIPONT', {'route_id': {480, 802, 478, 794, 237, 756, 757, 471, 600, 793, 698, 411, 477, 413, 479}}), ('FRAIPONT', 'TROOZ', {'route_id': {480, 802, 478, 794, 237, 756, 757, 471, 600, 793, 698, 411, 477, 413, 479}}), ('TROOZ', 'CHAUDFONTAINE', {'route_id': {480, 802, 478, 794, 237, 756, 757, 471, 600, 793, 698, 411, 477, 413, 479}}), ('CHAUDFONTAINE', 'CHENEE', {'route_id': {480, 802, 478, 794, 237, 756, 757, 471, 600, 793, 698, 411, 477, 413, 479}}), ('CHENEE', 'ANGLEUR', {'route_id': {480, 802, 478, 794, 237, 756, 757, 471, 600, 793, 698, 411, 477, 413, 479}}), ('ANGLEUR', 'TILFF', {'route_id': {482, 708, 485, 805, 486, 488, 487, 806, 498, 499, 500, 501, 630, 504, 604}}), ('NEERPELT', 'OVERPELT', {'route_id': {425, 426, 429, 238, 239, 688, 689, 824, 539, 797}}), ('NEERPELT', 'HAMONT', {'route_id': {425, 426, 239, 688, 689, 824}}), ('OVERPELT', 'LOMMEL', {'route_id': {425, 426, 429, 238, 239, 688, 689, 824, 539, 797}}), ('LOMMEL', 'MOL', {'route_id': {425, 426, 429, 238, 239, 688, 689, 824, 539, 797}}), ('MOL', 'BALEN', {'route_id': {741, 427, 239, 690, 435, 796, 798}}), ('MOL', 'GEEL', {'route_id': {741, 797, 426, 427, 429, 686, 687, 688, 689, 240, 334, 690, 822, 823, 824, 539, 796, 573}}), ('BALEN', 'BOURG-LEOPOLD', {'route_id': {741, 427, 239, 690, 435, 796, 798}}), ('BOURG-LEOPOLD', 'BEVERLO', {'route_id': {741, 427, 239, 690, 435, 798}}), ('BEVERLO', 'BERINGEN', {'route_id': {741, 427, 239, 690, 435, 798}}), ('BERINGEN', 'HEUSDEN', {'route_id': {741, 427, 239, 690, 435, 798}}), ('HEUSDEN', 'ZOLDER', {'route_id': {690, 435, 741, 239}}), ('ZOLDER', 'ZONHOVEN', {'route_id': {690, 435, 741, 239}}), ('OLEN', 'GEEL', {'route_id': {741, 426, 427, 797, 429, 334, 686, 240, 687, 690, 688, 689, 822, 823, 824, 539, 796, 573}}), ('MERELBEKE', 'MELLE', {'route_id': {512, 769, 770, 278, 279, 280, 281, 282, 539, 283, 410, 538, 672, 673, 808, 681, 554, 555, 556, 562, 820, 821, 825, 828, 830, 703, 575, 717, 718, 745, 364, 365, 366, 367, 368, 241, 496, 497, 502, 510, 511}}), ('MELLE', 'GONTRODE', {'route_id': {672, 241, 673}}), ('MELLE', 'KWATRECHT', {'route_id': {512, 769, 770, 278, 279, 280, 281, 282, 539, 283, 410, 538, 808, 554, 555, 562, 820, 828, 830, 703, 575, 717, 718, 364, 365, 366, 367, 368, 496, 497, 502, 510, 511}}), ('GONTRODE', 'LANDSKOUTER', {'route_id': {672, 241, 673}}), ('LANDSKOUTER', 'MOORTSELE', {'route_id': {672, 241, 673}}), ('MOORTSELE', 'SCHELDEWINDEKE', {'route_id': {672, 241, 673}}), ('SCHELDEWINDEKE', 'BALEGEM-DORP', {'route_id': {672, 241, 673}}), ('BALEGEM-DORP', 'BALEGEM-ZUID', {'route_id': {672, 241, 673}}), ('AULNOYE AYMERIES (F)', 'QUEVY-FRONTIERE', {'route_id': {245}}), ('HOBOKEN-POLDER', 'HEMIKSEM', {'route_id': {312, 249, 309, 311}}), ('HEMIKSEM', 'SCHELLE', {'route_id': {312, 249, 309, 311}}), ('SCHELLE', 'NIEL', {'route_id': {312, 249, 309, 311}}), ('NIEL', 'BOOM', {'route_id': {312, 249, 309, 311}}), ('BOOM', 'RUISBROEK-SAUVEGARDE', {'route_id': {312, 249, 311}}), ('RUISBROEK-SAUVEGARDE', 'PUURS', {'route_id': {312, 249, 311}}), ('PUURS', 'BORNEM', {'route_id': {776, 323}}), ('PUURS', 'WILLEBROEK', {'route_id': {776, 323, 325}}), ('LILLE FLANDRES (FR)', 'ROUBAIX (FR)', {'route_id': {250, 762, 764}}), ('LILLE FLANDRES (FR)', 'CROIX WASQUEHAL (FR)', {'route_id': {251, 763}}), ('LILLE FLANDRES (FR)', 'PONT DE BOIS (FR)', {'route_id': {257, 258, 764}}), ('LILLE FLANDRES (FR)', 'LEZENNES (FR)', {'route_id': {766, 767}}), ('ROUBAIX (FR)', 'TOURCOING (FR)', {'route_id': {250, 762, 251, 764, 763}}), ('ROUBAIX (FR)', 'CROIX WASQUEHAL (FR)', {'route_id': {251}}), ('ROUBAIX (FR)', \"CROIX L'ALLUMETTE (FR)\", {'route_id': {763}}), ('TOURCOING (FR)', 'MOUSCRON-FRONTIERE', {'route_id': {250, 762, 251, 764, 763}}), ('CROIX WASQUEHAL (FR)', \"CROIX L'ALLUMETTE (FR)\", {'route_id': {763}}), ('MARCHIENNE-ZONE', 'LANDELIES', {'route_id': {256, 458}}), ('LANDELIES', 'HOURPES', {'route_id': {256, 458}}), ('HOURPES', 'THUIN', {'route_id': {256, 458}}), ('THUIN', 'LOBBES', {'route_id': {256, 458}}), ('LOBBES', 'FONTAINE VALMONT', {'route_id': {256, 458}}), ('FONTAINE VALMONT', 'LABUISSIERE', {'route_id': {256, 458}}), ('LABUISSIERE', 'SOLRE-SUR-SAMBRE', {'route_id': {256, 458}}), ('SOLRE-SUR-SAMBRE', 'ERQUELINNES-VILLAGE', {'route_id': {256, 458}}), ('ERQUELINNES-VILLAGE', 'ERQUELINNES', {'route_id': {256, 458}}), ('ERQUELINNES', 'ERQUELINNES-FRONTIERE', {'route_id': {256}}), ('ERQUELINNES-FRONTIERE', 'MAUBEUGE (F)', {'route_id': {256}}), ('BLANDAIN-FRONTIERE', 'BAISIEUX (FR)', {'route_id': {257, 258, 764, 766, 767}}), ('BAISIEUX (FR)', 'ASCQ (FR)', {'route_id': {257, 258, 764, 766, 767}}), ('ASCQ (FR)', 'PONT DE BOIS (FR)', {'route_id': {257, 258, 764, 767}}), ('ASCQ (FR)', 'ANNAPPES (FR)', {'route_id': {766}}), ('PONT DE BOIS (FR)', 'ANNAPPES (FR)', {'route_id': {766}}), ('PONT DE BOIS (FR)', 'HELLEMMES (FR)', {'route_id': {766}}), ('PONT DE BOIS (FR)', 'LEZENNES (FR)', {'route_id': {767}}), ('ANVERS-NOORDERDOKKEN', 'ANVERS-LUCHTBAL', {'route_id': {439, 312, 259, 260, 691, 309, 310, 311, 440, 313, 316, 317, 318}}), ('ANVERS-NOORDERDOKKEN', 'EKEREN', {'route_id': {439, 440, 691, 309, 310, 311, 312, 313, 316, 317, 318}}), ('ANVERS-LUCHTBAL', 'NOORDERKEMPEN (BRECHT)', {'route_id': {576, 832, 577, 726, 727, 728, 733, 734, 831}}), ('BOCKSTAEL', 'JETTE', {'route_id': {769, 770, 263, 779, 780, 782, 276, 280, 281, 282, 668, 284, 286, 287, 669, 570, 830, 341, 342, 343, 344, 345, 347}}), ('JETTE', 'BERCHEM-SAINTE-AGATHE', {'route_id': {263, 276, 668, 669, 830}}), ('JETTE', 'ZELLIK', {'route_id': {280, 770, 281, 264, 779, 780, 782, 570, 341, 342, 343, 344, 345, 282, 347, 284, 286, 287}}), ('JETTE', 'TOUR-ET-TAXIS', {'route_id': {264, 400}}), ('BERCHEM-SAINTE-AGATHE', 'GRAND-BIGARD', {'route_id': {263, 276, 668, 669, 830}}), ('GRAND-BIGARD', 'DILBEEK', {'route_id': {263, 276, 668, 669, 830}}), ('DILBEEK', 'SINT-MARTENS-BODEGEM', {'route_id': {263, 276, 668, 669, 830}}), ('SINT-MARTENS-BODEGEM', 'TERNAT', {'route_id': {263, 276, 668, 669, 830}}), ('TERNAT', 'ESSENE LOMBEEK', {'route_id': {263, 276, 668, 669, 830}}), ('MERCHTEM', 'MOLLEM', {'route_id': {770, 344, 264, 345, 779, 780, 782, 570, 341, 342, 343, 280, 281, 282, 347, 284, 286, 287}}), ('MOLLEM', 'ASSE', {'route_id': {770, 344, 264, 345, 779, 780, 782, 570, 341, 342, 343, 280, 281, 282, 347, 284, 286, 287}}), ('ASSE', 'ZELLIK', {'route_id': {770, 344, 264, 345, 779, 780, 782, 570, 341, 342, 343, 280, 281, 282, 347, 284, 286, 287}}), ('TOUR-ET-TAXIS', 'SIMONIS', {'route_id': {264, 738, 400, 759}}), ('SIMONIS', 'BRUXELLES-OUEST', {'route_id': {264, 738, 400, 759}}), ('HAREN', 'BORDET', {'route_id': {352, 772, 360, 829, 791, 305, 276, 405, 406, 407, 408, 277, 348, 349, 350, 351}}), ('BORDET', 'EVERE', {'route_id': {352, 772, 360, 829, 791, 305, 276, 405, 406, 407, 408, 277, 348, 349, 350, 351}}), ('EVERE', 'MEISER', {'route_id': {352, 772, 360, 829, 791, 305, 276, 405, 406, 407, 408, 277, 348, 349, 350, 351}}), ('MEISER', 'MERODE', {'route_id': {360, 829, 276, 277}}), ('MERODE', 'DELTA', {'route_id': {360, 829, 276, 277}}), ('DELTA', 'ARCADES', {'route_id': {360}}), ('KWATRECHT', 'WETTEREN', {'route_id': {512, 769, 770, 278, 279, 280, 281, 282, 539, 283, 410, 538, 808, 554, 555, 562, 820, 828, 830, 703, 575, 717, 718, 364, 365, 366, 367, 368, 496, 497, 502, 510, 511}}), ('WETTEREN', 'SCHELLEBELLE', {'route_id': {512, 769, 770, 278, 279, 280, 281, 282, 539, 283, 410, 538, 808, 554, 555, 562, 820, 828, 830, 703, 575, 717, 718, 364, 365, 366, 367, 368, 496, 497, 502, 510, 511}}), ('SCHELLEBELLE', 'SERSKAMP', {'route_id': {769, 770, 554, 555, 364, 365, 366, 367, 368, 820, 278, 279, 280, 281, 282, 283, 285, 830}}), ('SCHELLEBELLE', 'WICHELEN', {'route_id': {512, 808, 511, 717, 718, 575, 496, 497, 562, 538, 502, 410, 539, 828, 510, 703}}), ('SERSKAMP', 'LEDE', {'route_id': {769, 770, 554, 555, 364, 365, 366, 367, 368, 820, 278, 279, 280, 281, 282, 283, 285, 830}}), ('JAMBES', 'LUSTIN', {'route_id': {772, 519, 521, 304, 305, 306, 307}}), ('LUSTIN', 'GODINNE', {'route_id': {772, 519, 521, 304, 305, 306, 307}}), ('GODINNE', 'YVOIR', {'route_id': {772, 519, 521, 304, 305, 306, 307}}), ('YVOIR', 'DINANT', {'route_id': {772, 519, 521, 812, 813, 304, 305, 306, 307}}), ('DINANT', 'ANSEREMME', {'route_id': {550, 519, 521, 812, 813, 635}}), ('ESSEN', 'WILDERT', {'route_id': {439, 312, 691, 309, 310, 311, 440, 313, 316, 317, 318}}), ('ESSEN', 'ESSEN-GRENS', {'route_id': {312, 310}}), ('WILDERT', 'KALMTHOUT', {'route_id': {439, 312, 691, 309, 310, 311, 440, 313, 316, 317, 318}}), ('KALMTHOUT', 'KIJKUIT', {'route_id': {439, 312, 691, 309, 310, 311, 440, 313, 316, 317, 318}}), ('KIJKUIT', 'HEIDE', {'route_id': {439, 312, 691, 309, 310, 311, 440, 313, 316, 317, 318}}), ('HEIDE', 'KAPELLEN', {'route_id': {439, 312, 691, 309, 310, 311, 440, 313, 316, 317, 318}}), ('KAPELLEN', 'SINT-MARIABURG', {'route_id': {439, 312, 691, 309, 310, 311, 440, 313, 316, 317, 318}}), ('SINT-MARIABURG', 'EKEREN', {'route_id': {439, 312, 691, 309, 310, 311, 440, 313, 316, 317, 318}}), ('ESSEN-GRENS', 'ROOSENDAAL (NL)', {'route_id': {312, 310}}), ('TAMISE', 'BORNEM', {'route_id': {776, 323}}), ('ARCADES', 'BOONDAEL', {'route_id': {352, 360, 361, 791, 406, 407, 408, 348, 349, 350, 351}}), ('BOONDAEL', 'VIVIER D OIE', {'route_id': {352, 360, 361, 791, 406, 407, 408, 348, 349, 350, 351}}), ('VIVIER D OIE', 'SAINT-JOB', {'route_id': {352, 360, 361, 791, 406, 407, 408, 348, 349, 350, 351}}), ('SAINT-JOB', 'MOENSBERG', {'route_id': {352, 360, 361, 407, 350, 351}}), ('MOENSBERG', 'BEERSEL', {'route_id': {352, 360, 361, 407, 350, 351}}), ('BEERSEL', 'HUIZINGEN', {'route_id': {352, 360, 361, 407, 350, 351}}), ('FAMILLEUREUX', 'MARCHE-LEZ-ECAUSSINNES', {'route_id': {353, 355, 356, 357, 358, 711, 712, 713, 359, 654, 431, 432, 783, 785, 761, 829}}), ('MARCHE-LEZ-ECAUSSINNES', 'ECAUSSINNES', {'route_id': {353, 355, 356, 357, 358, 711, 712, 713, 359, 654, 431, 432, 783, 785, 761, 829}}), ('TIELEN', 'TURNHOUT', {'route_id': {355, 420, 357, 419, 358, 785, 538}}), ('JAMIOULX', 'BEIGNEE', {'route_id': {648, 401}}), ('BEIGNEE', 'HAM-SUR-HEURE', {'route_id': {648, 401}}), ('HAM-SUR-HEURE', 'COUR-SUR-HEURE', {'route_id': {648, 401}}), ('COUR-SUR-HEURE', 'BERZEE', {'route_id': {648, 401}}), ('BERZEE', 'PRY', {'route_id': {648, 401}}), ('PRY', 'WALCOURT', {'route_id': {648, 401}}), ('WALCOURT', 'YVES-GOMEZEE', {'route_id': {401}}), ('YVES-GOMEZEE', 'PHILIPPEVILLE', {'route_id': {401}}), ('PHILIPPEVILLE', 'MARIEMBOURG', {'route_id': {401}}), ('MARIEMBOURG', 'COUVIN', {'route_id': {401}}), ('MALDEREN', 'BUGGENHOUT', {'route_id': {516, 808, 717, 718, 496, 497, 538, 502, 410, 539, 414, 703}}), ('BUGGENHOUT', 'BAASRODE-ZUID', {'route_id': {516, 808, 717, 718, 496, 497, 538, 502, 410, 539, 414, 703}}), ('OUDEGEM', 'SCHOONAARDE', {'route_id': {512, 808, 575, 717, 718, 496, 497, 562, 538, 703, 502, 410, 539, 828, 510, 511}}), ('SCHOONAARDE', 'WICHELEN', {'route_id': {512, 808, 575, 717, 718, 496, 497, 562, 538, 703, 502, 410, 539, 828, 510, 511}}), ('ATHUS', 'ATHUS-FRONTIERE', {'route_id': {457}}), ('ATHUS', 'AUBANGE', {'route_id': {514, 627}}), ('ATHUS', 'MESSANCY', {'route_id': {514, 627}}), ('ATHUS-FRONTIERE', 'RODANGE (LU)', {'route_id': {457}}), ('RODANGE (LU)', 'PETANGE', {'route_id': {457}}), ('MAFFLE', 'MEVERGNIES-ATTRE', {'route_id': {705, 613, 459, 460, 461, 463, 465}}), ('MEVERGNIES-ATTRE', 'BRUGELETTE', {'route_id': {705, 613, 459, 460, 461, 463, 465}}), ('BRUGELETTE', 'CAMBRON-CASTEAU', {'route_id': {705, 613, 459, 460, 461, 463, 465}}), ('CAMBRON-CASTEAU', 'LENS', {'route_id': {705, 613, 459, 460, 461, 463, 465, 543}}), ('HERGENRATH', 'HERGENRATH-FRONTIERE', {'route_id': {468, 469}}), ('HERGENRATH-FRONTIERE', 'AACHEN HBF (DE)', {'route_id': {468, 469}}), ('GOUVY', 'GOUVY-FRONTIERE', {'route_id': {481, 482, 804, 805, 485, 486, 487}}), ('GOUVY', 'VIELSALM', {'route_id': {482, 485, 806, 486, 487, 488, 805}}), ('GOUVY-FRONTIERE', 'TROISVIERGES (LU)', {'route_id': {481, 482, 804, 805, 485, 486, 487}}), ('TROISVIERGES (LU)', 'CLERVAUX (LU)', {'route_id': {481, 482, 804, 805, 485, 486, 487}}), ('CLERVAUX (LU)', 'DRAUFFELT (LU)', {'route_id': {481, 482, 804, 805, 485, 486, 487}}), ('DRAUFFELT (LU)', 'WILWERWILTZ (LU)', {'route_id': {481, 482, 804, 805, 485, 486, 487}}), ('WILWERWILTZ (LU)', 'KAUTENBACH (LU)', {'route_id': {481, 482, 804, 485, 486, 487}}), ('WILWERWILTZ (LU)', 'MICHELAU (LU)', {'route_id': {805}}), ('KAUTENBACH (LU)', 'MICHELAU (LU)', {'route_id': {481, 482, 804, 485, 486, 487}}), ('MICHELAU (LU)', 'ETTELBRUCK(LU)', {'route_id': {481, 482, 804, 485, 486, 487}}), ('MICHELAU (LU)', 'MERSCH (LU)', {'route_id': {805}}), ('ETTELBRUCK(LU)', 'MERSCH (LU)', {'route_id': {481, 482, 804, 485, 486, 487}}), ('MERSCH (LU)', 'PFAFFENTHAL-KIRCHBERG (LU)', {'route_id': {481, 805, 486, 487}}), ('MERSCH (LU)', 'DOMMELDANGE (LU)', {'route_id': {482, 485}}), ('VIELSALM', 'TROIS-PONTS', {'route_id': {482, 485, 806, 486, 487, 488, 805}}), ('TROIS-PONTS', 'COO', {'route_id': {482, 485, 806, 486, 487, 488, 805}}), ('COO', 'AYWAILLE', {'route_id': {482, 485, 806, 486, 487, 488, 805}}), ('AYWAILLE', 'RIVAGE', {'route_id': {482, 485, 806, 486, 487, 488, 805}}), ('RIVAGE', 'POULSEUR', {'route_id': {482, 708, 485, 486, 487, 806, 488, 805, 498, 499, 500, 501, 630, 504, 604}}), ('RIVAGE', 'COMBLAIN-LA-TOUR', {'route_id': {708, 498, 499, 500, 501, 630, 504, 604}}), ('POULSEUR', 'ESNEUX', {'route_id': {482, 708, 485, 486, 487, 806, 488, 805, 498, 499, 500, 501, 630, 504, 604}}), ('ESNEUX', 'HONY', {'route_id': {482, 708, 485, 486, 487, 806, 488, 805, 498, 499, 500, 501, 630, 504, 604}}), ('HONY', 'MERY', {'route_id': {482, 708, 485, 486, 487, 806, 488, 805, 498, 499, 500, 501, 630, 504, 604}}), ('MERY', 'TILFF', {'route_id': {482, 708, 485, 486, 487, 806, 488, 805, 498, 499, 500, 501, 630, 504, 604}}), ('BRESSOUX', 'VISE', {'route_id': {490, 491, 596, 597, 598}}), ('VISE', 'VISE-FRONTIERE', {'route_id': {490, 491}}), ('VISE-FRONTIERE', 'EIJSDEN (NL)', {'route_id': {490, 491}}), ('EIJSDEN (NL)', 'MAASTRICHT RANDWIJCK (NL)', {'route_id': {490, 491}}), ('MAASTRICHT RANDWIJCK (NL)', 'MAASTRICHT (NL)', {'route_id': {490, 491}}), ('MARCHE-EN-FAMENNE', 'MELREUX-HOTTON', {'route_id': {708, 498, 499, 501, 630, 504}}), ('MELREUX-HOTTON', 'BARVAUX', {'route_id': {708, 498, 499, 501, 630, 504}}), ('BARVAUX', 'BOMAL', {'route_id': {708, 498, 499, 501, 630, 504}}), ('BOMAL', 'SY', {'route_id': {708, 498, 499, 500, 501, 630, 504, 604}}), ('SY', 'HAMOIR', {'route_id': {708, 498, 499, 500, 501, 630, 504, 604}}), ('HAMOIR', 'COMBLAIN-LA-TOUR', {'route_id': {708, 498, 499, 500, 501, 630, 504, 604}}), ('LISSEWEGE', 'ZEEBRUGGE-DORP', {'route_id': {560, 683, 502, 511}}), ('LISSEWEGE', 'ZEEBRUGGE-STRAND', {'route_id': {512, 808, 503}}), ('BERTRANGE STRASSEN (LU)', 'MAMER-LYCEE (LU)', {'route_id': {513, 623}}), ('BERTRANGE STRASSEN (LU)', 'MAMER (LU)', {'route_id': {809}}), ('MAMER-LYCEE (LU)', 'MAMER (LU)', {'route_id': {513}}), ('MAMER-LYCEE (LU)', 'KLEINBETTINGEN (LU)', {'route_id': {623}}), ('MAMER (LU)', 'CAPELLEN (LU)', {'route_id': {513, 809}}), ('CAPELLEN (LU)', 'KLEINBETTINGEN (LU)', {'route_id': {513, 809}}), ('BERTRIX', 'FLORENVILLE', {'route_id': {514, 517}}), ('BERTRIX', 'PALISEUL', {'route_id': {519, 521, 812, 813, 635, 638}}), ('FLORENVILLE', 'VIRTON', {'route_id': {514, 517}}), ('VIRTON', 'HALANZY', {'route_id': {514, 627}}), ('HALANZY', 'AUBANGE', {'route_id': {514, 627}}), ('PALISEUL', 'CARLSBOURG', {'route_id': {519, 521, 812, 813, 635, 638}}), ('CARLSBOURG', 'GRAIDE', {'route_id': {519, 521, 812, 813, 635, 638}}), ('GRAIDE', 'GEDINNE', {'route_id': {519, 521, 812, 813, 635, 638}}), ('GEDINNE', 'BEAURAING', {'route_id': {519, 521, 812, 813, 635}}), ('BEAURAING', 'HOUYET', {'route_id': {519, 521, 812, 813, 635}}), ('HOUYET', 'GENDRON-CELLES', {'route_id': {550, 519, 521, 812, 813, 635}}), ('GENDRON-CELLES', 'ANSEREMME', {'route_id': {550, 519, 521, 812, 813, 635}}), ('NOORDERKEMPEN (BRECHT)', 'BREDA (NL)', {'route_id': {832, 726, 727, 728, 733, 734, 831}}), ('CHAPELLE-DIEU', 'MAZY', {'route_id': {640, 641}}), ('ALOST KERREBROEK', 'VIJFHUIZEN', {'route_id': {676}}), ('VIJFHUIZEN', 'ERPE-MERE', {'route_id': {676}}), ('ERPE-MERE', 'BAMBRUGGE', {'route_id': {676}}), ('BREDA (NL)', 'ROTTERDAM CS (NL)', {'route_id': {832, 726, 727, 728, 733, 734, 831}}), ('ROTTERDAM CS (NL)', 'SCHIPHOL (NL)', {'route_id': {726, 727}}), ('ROTTERDAM CS (NL)', 'DEN HAAG HS (NL)', {'route_id': {832, 733, 734, 831}}), ('SCHIPHOL (NL)', 'AMSTERDAM CS (NL)', {'route_id': {832, 831, 726, 727}}), ('SCHIPHOL (NL)', 'DEN HAAG HS (NL)', {'route_id': {832, 831}}), ('HELLEMMES (FR)', 'LEZENNES (FR)', {'route_id': {766}})])"
      ]
     },
     "execution_count": 16,
     "metadata": {},
     "output_type": "execute_result"
    }
   ],
   "source": [
    "B.edges(data=True)"
   ]
  },
  {
   "cell_type": "code",
   "execution_count": 17,
   "metadata": {
    "colab": {
     "base_uri": "https://localhost:8080/",
     "height": 803
    },
    "executionInfo": {
     "elapsed": 48864,
     "status": "ok",
     "timestamp": 1617437224537,
     "user": {
      "displayName": "Ine Winters",
      "photoUrl": "",
      "userId": "11267554535649979995"
     },
     "user_tz": -120
    },
    "id": "C5Ajgl70Otzi",
    "outputId": "c7cb75b1-86b0-4766-cfed-26b11f702740"
   },
   "outputs": [
    {
     "data": {
      "text/plain": [
       "' The number of nodes in the Belgian railway system '"
      ]
     },
     "execution_count": 17,
     "metadata": {},
     "output_type": "execute_result"
    },
    {
     "data": {
      "text/plain": [
       "608"
      ]
     },
     "execution_count": 17,
     "metadata": {},
     "output_type": "execute_result"
    },
    {
     "data": {
      "text/plain": [
       "563"
      ]
     },
     "execution_count": 17,
     "metadata": {},
     "output_type": "execute_result"
    }
   ],
   "source": [
    "''' The number of nodes in the Belgian railway system '''\n",
    "# The number of total nodes in the Belgian railway system that consists of all routes that contain at least one node in Belgium\n",
    "len(B.nodes())\n",
    "\n",
    "# The number of belgian nodes in the Belgian railway system that consists of all routes that contain at least one node in Belgium\n",
    "len(B_belgian_stops.nodes())"
   ]
  },
  {
   "cell_type": "code",
   "execution_count": 18,
   "metadata": {
    "colab": {
     "base_uri": "https://localhost:8080/"
    },
    "executionInfo": {
     "elapsed": 48720,
     "status": "ok",
     "timestamp": 1617437224542,
     "user": {
      "displayName": "Ine Winters",
      "photoUrl": "",
      "userId": "11267554535649979995"
     },
     "user_tz": -120
    },
    "id": "_eVdbvNaOtzk",
    "outputId": "dc7f814f-cb35-41cd-8ec1-a1843b11cdbf",
    "scrolled": true
   },
   "outputs": [
    {
     "data": {
      "text/plain": [
       "' The degrees of the nodes in the Belgian railway system considering only stops in Belgium'"
      ]
     },
     "execution_count": 18,
     "metadata": {},
     "output_type": "execute_result"
    },
    {
     "data": {
      "text/plain": [
       "DegreeView({'TOURNAI': 3, 'FROYENNES': 2, 'HERSEAUX': 2, 'MOUSCRON': 4, 'BRUGES': 4, 'BRUGES-SAINT-PIERRE': 4, 'HEIST': 2, 'DUINBERGEN': 2, 'KNOKKE': 1, 'SPA-GERONSTERE': 1, 'SPA': 2, 'FRANCHIMONT': 2, 'THEUX': 2, 'JUSLENVILLE': 2, 'PEPINSTER-CITE': 2, 'PEPINSTER': 3, 'VERVIERS-CENTRAL': 2, 'GAND-SAINT-PIERRE': 7, 'DE PINTE': 3, 'DEINZE': 3, 'AARSELE': 2, 'TIELT': 2, 'LICHTERVELDE': 4, 'TORHOUT': 2, 'ZEDELGEM': 2, 'DENDERLEEUW': 5, 'IDDERGEM': 2, 'OKEGEM': 2, 'NINOVE': 2, 'EICHEM': 2, 'APPELTERRE': 2, 'ZANDBERGEN': 2, 'IDEGEM': 2, 'SCHENDELBEKE': 2, 'GRAMMONT': 4, 'ATH': 4, 'LEUZE': 2, 'LUTTRE': 3, 'COURCELLES-MOTTE': 2, 'ROUX': 2, 'MARCHIENNE-AU-PONT': 3, 'CHARLEROI-SUD': 5, 'ROCHEFORT-JEMELLE': 2, 'MARLOIE': 3, 'AYE': 2, 'HAVERSIN': 2, 'CHAPOIS': 2, 'LEIGNON': 2, 'CINEY': 2, 'NATOYE': 2, 'ASSESSE': 2, 'COURRIERE': 2, 'SART-BERNARD': 2, 'NANINNE': 2, 'DAVE-SAINT-MARTIN': 2, 'JAMBES-EST': 2, 'NAMUR': 5, 'RHISNES': 2, 'SAINT-DENIS-BOVESSE': 2, 'BEUZET': 2, 'LONZEE': 2, 'GEMBLOUX': 3, 'ERNAGE': 2, 'CHASTRE': 2, 'BLANMONT': 2, 'MONT-SAINT-GUIBERT': 2, 'OTTIGNIES': 5, 'PROFONDSART': 2, 'RIXENSART': 2, 'GENVAL': 2, 'LA HULPE': 2, 'HOEILAART': 2, 'GROENENDAAL': 2, 'BOITSFORT': 2, 'WATERMAEL': 2, 'ETTERBEEK': 5, 'BRUXELLES-LUXEMBOURG': 3, 'BRUXELLES-SCHUMAN': 5, 'BRUXELLES-NORD': 4, 'BRUXELLES-CONGRES': 2, 'BRUXELLES-CENTRAL': 2, 'BRUXELLES-CHAPELLE': 2, 'BRUXELLES-MIDI': 9, 'NIVELLES': 2, 'OBAIX-BUZET': 2, 'TERMONDE': 4, 'ZELE': 2, 'LOKEREN': 3, 'OPWIJK': 2, 'HEIZIJDE': 2, 'LEBBEKE': 2, 'SINT-GILLIS': 2, 'LA LOUVIERE- CENTRE': 4, 'MANAGE': 3, 'GODARVILLE': 2, 'GOUY-LEZ-PIETON': 2, 'PONT-A-CELLES': 2, 'LIEGE-GUILLEMINS': 6, 'LIEGE-CARRE': 2, 'LIEGE-SAINT-LAMBERT': 2, 'HERSTAL': 2, 'MILMORT': 2, 'LIERS': 2, 'LIMAL': 2, 'BIERGES-WALIBI': 2, 'WAVRE': 2, 'BASSE-WAVRE': 2, 'GASTUCHE': 2, 'ARCHENNES': 2, 'FLORIVAL': 2, 'PECROT': 2, 'SINT-JORIS-WEERT': 2, 'OUD-HEVERLEE': 2, 'HEVERLEE': 2, 'LOUVAIN': 6, 'HERENT': 3, 'VELTEM': 2, 'ERPS-KWERPS': 2, 'KORTENBERG': 2, 'NOSSEGEM': 3, 'ZAVENTEM': 3, 'DIEGEM': 4, 'HAREN-SUD': 2, 'SCHAERBEEK': 8, 'ANVERS-CENTRAL': 2, 'ANVERS-BERCHEM': 5, 'MORTSEL': 3, 'BOECHOUT': 3, 'LIERRE': 5, 'KESSEL': 2, 'NIJLEN': 2, 'BOUWEL': 2, 'WOLFSTEE': 2, 'HERENTALS': 3, 'OSTENDE': 1, 'ROULERS': 2, 'GLONS': 2, 'TONGRES': 2, 'BILZEN': 2, 'DIEPENBEEK': 2, 'HASSELT': 5, 'LA LOUVIERE-SUD': 4, 'LEVAL': 2, 'BINCHE': 1, 'COURTRAI': 5, 'HARELBEKE': 2, 'WAREGEM': 2, 'VICHTE': 2, 'ANZEGEM': 2, 'AUDENARDE': 4, 'SINT-DENIJS-BOEKEL': 2, 'MUNKZWALM': 2, 'ZOTTEGEM': 4, 'HILLEGEM': 2, 'HERZELE': 2, 'TERHAGEN': 2, 'BURST': 3, 'EDE': 2, 'HAALTERT': 2, 'WELLE': 2, 'GENK': 1, 'BOKRIJK': 2, 'KIEWIT': 2, 'EUPEN': 1, 'WELKENRAEDT': 3, 'TAMINES': 2, 'AUVELAIS': 2, 'JEMEPPE-SUR-SAMBRE': 3, 'HAM-SUR-SAMBRE': 2, 'MOUSTIER': 2, 'FRANIERE': 2, 'FLOREFFE': 2, 'FLAWINNE': 2, 'RONET': 2, 'MONS': 4, 'FRAMERIES': 2, 'GENLY': 2, 'QUEVY': 2, 'MENIN': 2, 'WERVIK': 2, 'COMINES': 2, 'YPRES': 2, 'POPERINGE': 1, 'WEVELGEM': 2, 'BISSEGEM': 2, 'NIMY': 2, 'OBOURG': 2, 'HAVRE': 2, 'THIEU': 2, 'BRACQUEGNIES': 3, 'MORLANWELZ': 2, 'CARNIERES': 2, 'PIETON': 2, 'FORCHIES': 2, 'COUILLET': 2, 'CHATELET': 2, 'LE CAMPINAIRE': 2, 'FARCIENNES': 2, 'AISEAU': 2, 'ANTOING': 2, 'MAUBRAY': 2, 'CALLENELLE': 2, 'PERUWELZ': 2, 'BLATON': 2, 'HARCHIES': 2, 'VILLE-POMMEROEUL': 2, 'SAINT-GHISLAIN': 3, 'QUAREGNON': 2, 'JEMAPPES': 2, 'GHLIN': 2, 'ERBISOEUL': 2, 'JURBISE': 3, 'RENAIX': 1, 'EINE': 2, 'ZINGEM': 2, 'GAVERE-ASPER': 2, 'EKE-NAZARETH': 2, 'EEKLO': 1, 'WAARSCHOOT': 2, 'SLEIDINGE': 2, 'EVERGEM': 2, 'WONDELGEM': 2, 'GAND-DAMPOORT': 3, 'MALINES': 6, 'KAPELLE-OP-DEN-BOS': 2, 'LONDERZEEL': 2, 'KONTICH-LINT': 3, 'HOVE': 3, 'MORTSEL-LIERSESTEENWEG': 2, 'MASNUY-SAINT-PIERRE': 3, 'NEUFVILLES': 2, 'SOIGNIES': 2, 'WEZEMAAL': 3, 'AARSCHOT': 3, 'BEGIJNENDIJK': 3, 'BOOISCHOT': 2, 'HEIST-OP-DEN-BERG': 2, 'MELKOUWEN': 2, 'BERLAAR': 2, 'WIJGMAAL': 2, 'HAMBOS': 2, 'WESPELAAR-TILDONK': 2, 'HAACHT': 2, 'BOORTMEERBEEK': 2, 'HEVER': 2, 'MUIZEN': 4, 'MALINES-NEKKERSPOEL': 3, 'SINT-KATELIJNE-WAVER': 2, 'DUFFEL': 3, 'MORTSEL-DEURNESTEENWEG': 2, 'MORTSEL-OUDE GOD': 2, 'BRUSSELS AIRPORT-ZAVENTEM': 5, 'LANGDORP': 3, 'TESTELT': 2, 'ZICHEM': 2, 'DIEST': 2, 'SCHULEN': 3, 'FOREST-EST': 2, 'UCCLE-STALLE': 2, 'UCCLE-CALEVOET': 2, 'LINKEBEEK': 3, 'HOLLEKEN': 2, 'RHODE-SAINT-GENESE': 2, 'DE HOEK': 2, 'WATERLOO': 2, \"BRAINE-L'ALLEUD\": 2, 'LILLOIS': 2, 'FOREST-MIDI': 3, 'RUISBROEK': 3, 'LOT': 2, 'BUIZINGEN': 2, 'HAL': 6, 'ANVERS-SUD': 3, 'ZWIJNDRECHT': 2, 'MELSELE': 2, 'BEVEREN': 2, 'NIEUWKERKEN-WAAS': 2, 'SAINT-NICOLAS': 3, 'ALKEN': 2, 'SAINT-TROND': 2, 'LANDEN': 3, 'NEERWINDEN': 2, 'EZEMAAL': 2, 'TIRLEMONT': 2, 'VERTRIJK': 2, 'ANDERLECHT': 4, 'TRONCHIENNES': 2, 'LANDEGEM': 2, 'HANSBEKE': 2, 'BELLEM': 2, 'AALTER': 2, 'MARIA-AALTER': 2, 'BEERNEM': 2, 'OOSTKAMP': 2, 'BLANKENBERGE': 1, 'ENGHIEN': 3, 'HERNE': 2, 'TOLLEMBEEK': 2, 'GAMMERAGES': 2, 'VIANE-MOERBEKE': 2, 'EREMBODEGEM': 2, 'ALOST': 3, 'MARCHE-LES-DAMES': 2, 'NAMECHE': 2, 'SCLAIGNEAUX': 2, 'CHATEAU-DE-SEILLES': 2, 'ANDENNE': 2, 'BAS-OHA': 2, 'STATTE': 2, 'HUY': 2, 'AMPSIN': 2, 'AMAY': 2, 'HAUTE-FLONE': 2, 'ENGIS': 2, 'FLEMALLE-HAUTE': 3, 'LEMAN': 2, 'FLEMALLE-GRANDE': 2, 'JEMEPPE-SUR-MEUSE': 2, 'PONT-DE-SERAING': 2, 'SCLESSIN': 2, 'QUIEVRAIN': 1, 'THULIN': 2, 'HAININ': 2, 'BOUSSU': 2, 'BRAINE-LE-COMTE': 3, 'HENNUYERES': 2, 'TUBIZE': 2, 'LEMBEEK': 2, 'WAREMME': 2, 'BLERET': 2, 'REMICOURT': 2, 'MOMALLE': 2, 'FEXHE-LE-HAUT-CLOCHER': 2, 'VOROUX': 2, 'BIERSET-AWANS': 2, 'ANS': 3, 'ACREN': 2, 'LESSINES': 2, 'HOURAING': 2, 'PAPIGNIES': 2, 'REBAIX': 2, 'KORTEMARK': 2, 'DIXMUDE': 2, 'FURNES': 2, 'COXYDE': 2, 'LA PANNE': 1, 'BELSELE': 2, 'SINAAI': 2, 'BEERVELDE': 2, 'GENTBRUGGE': 3, 'Y.RENORY': 2, 'OUGREE': 2, 'SERAING': 2, 'LIEDEKERKE': 3, 'CHARLEROI-OUEST': 2, 'LODELINSART': 2, 'FLEURUS': 2, 'LIGNY': 2, 'TILLY': 2, 'VILLERS-LA-VILLE': 2, 'LA ROCHE (BRABANT)': 2, 'FAUX': 2, 'COURT-SAINT-ETIENNE': 2, 'CEROUX-MOUSTY': 2, 'ARLON': 3, 'VIVILLE': 2, 'STOCKEM': 2, 'HABAY': 2, 'MARBEHAN': 2, 'NEUFCHATEAU': 2, 'LIBRAMONT': 3, 'POIX-SAINT-HUBERT': 2, 'GRUPONT': 2, 'FORRIERES': 2, 'STERPENICH-FRONTIERE': 1, 'BUDA': 2, 'VILVORDE': 5, 'EPPEGEM': 3, 'WEERDE': 2, 'IZEGEM': 2, 'INGELMUNSTER': 3, 'DOLHAIN-GILEPPE': 2, 'VERVIERS-PALAIS': 2, 'NESSONVAUX': 2, 'FRAIPONT': 2, 'TROOZ': 2, 'CHAUDFONTAINE': 2, 'CHENEE': 2, 'ANGLEUR': 3, 'NEERPELT': 2, 'OVERPELT': 2, 'LOMMEL': 2, 'MOL': 3, 'HAMONT': 1, 'BALEN': 2, 'BOURG-LEOPOLD': 2, 'BEVERLO': 2, 'BERINGEN': 2, 'HEUSDEN': 2, 'ZOLDER': 2, 'ZONHOVEN': 3, 'OLEN': 2, 'GEEL': 2, 'MERELBEKE': 3, 'MELLE': 5, 'GONTRODE': 2, 'LANDSKOUTER': 2, 'MOORTSELE': 2, 'SCHELDEWINDEKE': 2, 'BALEGEM-DORP': 2, 'BALEGEM-ZUID': 2, 'LIERDE': 2, 'SILLY': 2, 'QUEVY-FRONTIERE': 1, 'HOBOKEN-POLDER': 2, 'HEMIKSEM': 2, 'SCHELLE': 2, 'NIEL': 2, 'BOOM': 2, 'RUISBROEK-SAUVEGARDE': 2, 'PUURS': 3, 'MOUSCRON-FRONTIERE': 1, 'MARCHIENNE-ZONE': 2, 'LANDELIES': 2, 'HOURPES': 2, 'THUIN': 2, 'LOBBES': 2, 'FONTAINE VALMONT': 2, 'LABUISSIERE': 2, 'SOLRE-SUR-SAMBRE': 2, 'ERQUELINNES-VILLAGE': 2, 'ERQUELINNES': 1, 'ANVERS-NOORDERDOKKEN': 2, 'ANVERS-LUCHTBAL': 3, 'BOCKSTAEL': 4, 'JETTE': 4, 'BERCHEM-SAINTE-AGATHE': 2, 'GRAND-BIGARD': 2, 'DILBEEK': 2, 'SINT-MARTENS-BODEGEM': 2, 'TERNAT': 2, 'ESSENE LOMBEEK': 2, 'MERCHTEM': 2, 'MOLLEM': 2, 'ASSE': 2, 'ZELLIK': 2, 'TOUR-ET-TAXIS': 3, 'SIMONIS': 2, 'BRUXELLES-OUEST': 2, 'HOFSTADE': 2, 'HAREN': 4, 'BORDET': 2, 'EVERE': 2, 'MEISER': 3, 'MERODE': 2, 'DELTA': 3, 'GERMOIR': 2, 'KWATRECHT': 2, 'WETTEREN': 2, 'SCHELLEBELLE': 3, 'SERSKAMP': 2, 'LEDE': 2, 'JAMBES': 2, 'LUSTIN': 2, 'GODINNE': 2, 'YVOIR': 2, 'DINANT': 2, 'ESSEN': 2, 'WILDERT': 2, 'KALMTHOUT': 2, 'KIJKUIT': 2, 'HEIDE': 2, 'KAPELLEN': 2, 'SINT-MARIABURG': 2, 'EKEREN': 2, 'ESSEN-GRENS': 1, 'TAMISE': 2, 'BORNEM': 2, 'WILLEBROEK': 2, 'ARCADES': 3, 'BOONDAEL': 2, 'VIVIER D OIE': 2, 'SAINT-JOB': 3, 'MOENSBERG': 2, 'BEERSEL': 2, 'HUIZINGEN': 2, 'FAMILLEUREUX': 3, 'MARCHE-LEZ-ECAUSSINNES': 2, 'ECAUSSINNES': 2, 'TIELEN': 2, 'TURNHOUT': 1, 'JAMIOULX': 2, 'BEIGNEE': 2, 'HAM-SUR-HEURE': 2, 'COUR-SUR-HEURE': 2, 'BERZEE': 2, 'PRY': 2, 'WALCOURT': 2, 'YVES-GOMEZEE': 2, 'PHILIPPEVILLE': 2, 'MARIEMBOURG': 2, 'COUVIN': 1, 'LOUVAIN-LA-NEUVE': 1, 'MALDEREN': 2, 'BUGGENHOUT': 2, 'BAASRODE-ZUID': 2, 'OUDEGEM': 2, 'SCHOONAARDE': 2, 'WICHELEN': 2, 'ATHUS': 3, 'ATHUS-FRONTIERE': 1, 'MAFFLE': 2, 'MEVERGNIES-ATTRE': 2, 'BRUGELETTE': 2, 'CAMBRON-CASTEAU': 2, 'LENS': 3, 'HERGENRATH': 2, 'HERGENRATH-FRONTIERE': 1, 'GOUVY': 1, 'VIELSALM': 2, 'TROIS-PONTS': 2, 'COO': 2, 'AYWAILLE': 2, 'RIVAGE': 3, 'POULSEUR': 2, 'ESNEUX': 2, 'HONY': 2, 'MERY': 2, 'TILFF': 2, 'BRESSOUX': 2, 'VISE': 2, 'VISE-FRONTIERE': 1, 'MARCHE-EN-FAMENNE': 2, 'MELREUX-HOTTON': 2, 'BARVAUX': 2, 'BOMAL': 2, 'SY': 2, 'HAMOIR': 2, 'COMBLAIN-LA-TOUR': 2, 'LISSEWEGE': 3, 'ZEEBRUGGE-DORP': 1, 'ZEEBRUGGE-STRAND': 1, 'BERTRIX': 3, 'FLORENVILLE': 2, 'VIRTON': 2, 'HALANZY': 2, 'AUBANGE': 2, 'MESSANCY': 2, 'PALISEUL': 2, 'CARLSBOURG': 2, 'GRAIDE': 2, 'GEDINNE': 2, 'BEAURAING': 2, 'HOUYET': 2, 'GENDRON-CELLES': 2, 'ANSEREMME': 2, 'NOORDERKEMPEN (BRECHT)': 1, 'CHAPELLE-DIEU': 2, 'MAZY': 2, 'ALOST KERREBROEK': 2, 'VIJFHUIZEN': 2, 'ERPE-MERE': 2, 'BAMBRUGGE': 2})"
      ]
     },
     "execution_count": 18,
     "metadata": {},
     "output_type": "execute_result"
    }
   ],
   "source": [
    "''' The degrees of the nodes in the Belgian railway system considering only stops in Belgium'''\n",
    "B_belgian_stops.degree()"
   ]
  },
  {
   "cell_type": "code",
   "execution_count": 19,
   "metadata": {
    "colab": {
     "base_uri": "https://localhost:8080/",
     "height": 1000
    },
    "executionInfo": {
     "elapsed": 48625,
     "status": "ok",
     "timestamp": 1617437224561,
     "user": {
      "displayName": "Ine Winters",
      "photoUrl": "",
      "userId": "11267554535649979995"
     },
     "user_tz": -120
    },
    "id": "Twu6GlXKOtzl",
    "outputId": "47fa4d11-405b-4715-8d2f-3c74d45c3cdd"
   },
   "outputs": [
    {
     "data": {
      "text/plain": [
       "' The average degree of the nodes in the Belgian railway system indicating the number of directions \\na commuter can take from that given station.'"
      ]
     },
     "execution_count": 19,
     "metadata": {},
     "output_type": "execute_result"
    },
    {
     "name": "stdout",
     "output_type": "stream",
     "text": [
      "2.299342105263158\n",
      "2.269982238010657\n"
     ]
    }
   ],
   "source": [
    "''' The average degree of the nodes in the Belgian railway system indicating the number of directions \n",
    "a commuter can take from that given station.'''\n",
    "# The average degree of all the nodes in the Belgian railway system that consists of all routes that cover at least one belgian station\n",
    "print(avg_degree(B))\n",
    "\n",
    "# The average degree of all the nodes in the Belgian railway system if only the belgian stations are considered\n",
    "print(avg_degree(B_belgian_stops))"
   ]
  },
  {
   "cell_type": "code",
   "execution_count": 20,
   "metadata": {
    "colab": {
     "base_uri": "https://localhost:8080/",
     "height": 803
    },
    "executionInfo": {
     "elapsed": 48588,
     "status": "ok",
     "timestamp": 1617437224562,
     "user": {
      "displayName": "Ine Winters",
      "photoUrl": "",
      "userId": "11267554535649979995"
     },
     "user_tz": -120
    },
    "id": "ZUHzCPU_Otzm",
    "outputId": "43d8a237-8dfb-4c61-d487-d8f0e6530f61"
   },
   "outputs": [
    {
     "data": {
      "text/plain": [
       "' The number of edges in the Belgian railway system considering only stops in Belgium '"
      ]
     },
     "execution_count": 20,
     "metadata": {},
     "output_type": "execute_result"
    },
    {
     "data": {
      "text/plain": [
       "699"
      ]
     },
     "execution_count": 20,
     "metadata": {},
     "output_type": "execute_result"
    }
   ],
   "source": [
    "''' The number of edges in the Belgian railway system considering only stops in Belgium '''\n",
    "len(B.edges())"
   ]
  },
  {
   "cell_type": "code",
   "execution_count": 21,
   "metadata": {
    "colab": {
     "base_uri": "https://localhost:8080/",
     "height": 735
    },
    "executionInfo": {
     "elapsed": 48536,
     "status": "ok",
     "timestamp": 1617437224564,
     "user": {
      "displayName": "Ine Winters",
      "photoUrl": "",
      "userId": "11267554535649979995"
     },
     "user_tz": -120
    },
    "id": "IeKWhTvrOtzn",
    "outputId": "42eff595-abbe-4a9d-ad82-096bb5d44b7e"
   },
   "outputs": [
    {
     "data": {
      "text/plain": [
       "' The gamma index of the Belgian railway system considering only stops in Belgium'"
      ]
     },
     "execution_count": 21,
     "metadata": {},
     "output_type": "execute_result"
    },
    {
     "name": "stdout",
     "output_type": "stream",
     "text": [
      "0.3844884488448845\n"
     ]
    }
   ],
   "source": [
    "''' The gamma index of the Belgian railway system considering only stops in Belgium'''\n",
    "print(gamma_index(B))"
   ]
  },
  {
   "cell_type": "code",
   "execution_count": 22,
   "metadata": {
    "colab": {
     "base_uri": "https://localhost:8080/",
     "height": 1000
    },
    "executionInfo": {
     "elapsed": 48480,
     "status": "ok",
     "timestamp": 1617437224570,
     "user": {
      "displayName": "Ine Winters",
      "photoUrl": "",
      "userId": "11267554535649979995"
     },
     "user_tz": -120
    },
    "id": "JZhwMyBbOtzp",
    "outputId": "5b4469bc-12bc-4e26-b32f-9d74ba2f1910"
   },
   "outputs": [
    {
     "data": {
      "text/plain": [
       "' The mean clustering coefficient of the Belgian railway system considering only stops in Belgium'"
      ]
     },
     "execution_count": 22,
     "metadata": {},
     "output_type": "execute_result"
    },
    {
     "name": "stdout",
     "output_type": "stream",
     "text": [
      "mean clustering coefficient: 0.04648600668337508\n"
     ]
    }
   ],
   "source": [
    "''' The mean clustering coefficient of the Belgian railway system considering only stops in Belgium'''\n",
    "#The mean clustering coefficient indicates for a random station the estimation of the division of the number of neighbouring stations of a station that are connected \n",
    "# divided by the possible number of connections between the neighbours of that station\n",
    "print (\"mean clustering coefficient:\", nx.average_clustering(B))"
   ]
  },
  {
   "cell_type": "code",
   "execution_count": 23,
   "metadata": {
    "colab": {
     "base_uri": "https://localhost:8080/",
     "height": 683
    },
    "executionInfo": {
     "elapsed": 48970,
     "status": "ok",
     "timestamp": 1617437225192,
     "user": {
      "displayName": "Ine Winters",
      "photoUrl": "",
      "userId": "11267554535649979995"
     },
     "user_tz": -120
    },
    "id": "1NFojC5fOtzq",
    "outputId": "dc409ac7-e4e3-4e73-8a02-fcd7ced9f5af"
   },
   "outputs": [
    {
     "data": {
      "text/plain": [
       "' The degree distribution of the Belgian railway system considering only stops in Belgian'"
      ]
     },
     "execution_count": 23,
     "metadata": {},
     "output_type": "execute_result"
    },
    {
     "data": {
      "image/png": "[encoded data removed]",
      "text/plain": [
       "<Figure size 360x360 with 1 Axes>"
      ]
     },
     "metadata": {
      "needs_background": "light"
     },
     "output_type": "display_data"
    },
    {
     "data": {
      "image/png": "[encoded data removed]",
      "text/plain": [
       "<Figure size 360x360 with 1 Axes>"
      ]
     },
     "metadata": {
      "needs_background": "light"
     },
     "output_type": "display_data"
    }
   ],
   "source": [
    "''' The degree distribution of the Belgian railway system considering only stops in Belgian'''\n",
    "degree_distribution(B_belgian_stops)"
   ]
  },
  {
   "cell_type": "code",
   "execution_count": 24,
   "metadata": {
    "colab": {
     "base_uri": "https://localhost:8080/",
     "height": 89
    },
    "executionInfo": {
     "elapsed": 48896,
     "status": "ok",
     "timestamp": 1617437225200,
     "user": {
      "displayName": "Ine Winters",
      "photoUrl": "",
      "userId": "11267554535649979995"
     },
     "user_tz": -120
    },
    "id": "zXaMAq3zOtzr",
    "outputId": "cb916411-427e-4c38-eb45-9a8cc35ccf5e"
   },
   "outputs": [
    {
     "data": {
      "text/plain": [
       "' Detection of the scale-free property in the Belgian railway system:\\nA PTN with the scale-free property consists of a large number of vertices \\nthat exhibit low degree and a few number of vertices that exhibit very high degree. '"
      ]
     },
     "execution_count": 24,
     "metadata": {},
     "output_type": "execute_result"
    },
    {
     "name": "stdout",
     "output_type": "stream",
     "text": [
      "The scale-free property is present in the Belgian railway network because the majority of nodes exhibit a low degree value equal to 2 and almost none of the nodes exhibit a degree value equal to 5 or higher\n"
     ]
    }
   ],
   "source": [
    "''' Detection of the scale-free property in the Belgian railway system:\n",
    "A PTN with the scale-free property consists of a large number of vertices \n",
    "that exhibit low degree and a few number of vertices that exhibit very high degree. '''\n",
    "print(\"The scale-free property is present in the Belgian railway network because the majority of nodes exhibit a low degree value equal to 2 and almost none of the nodes exhibit a degree value equal to 5 or higher\")"
   ]
  },
  {
   "cell_type": "code",
   "execution_count": 25,
   "metadata": {
    "colab": {
     "base_uri": "https://localhost:8080/",
     "height": 52
    },
    "executionInfo": {
     "elapsed": 49133,
     "status": "ok",
     "timestamp": 1617437225474,
     "user": {
      "displayName": "Ine Winters",
      "photoUrl": "",
      "userId": "11267554535649979995"
     },
     "user_tz": -120
    },
    "id": "7AMZkyANOtzt",
    "outputId": "dd5669c5-c6cb-4038-c98a-71a6bcdb1565"
   },
   "outputs": [
    {
     "data": {
      "text/plain": [
       "' The average path length of the Belgian railway system considering only stops in Belgium:\\nThe average path length represents in the space_of_stops the average of all the shortest paths \\nto be transversed between all public transport stop pairs\\nwhich can be reached by means of one or multiple routes.'"
      ]
     },
     "execution_count": 25,
     "metadata": {},
     "output_type": "execute_result"
    },
    {
     "name": "stdout",
     "output_type": "stream",
     "text": [
      "21.607701812191102\n"
     ]
    }
   ],
   "source": [
    "''' The average path length of the Belgian railway system considering only stops in Belgium:\n",
    "The average path length represents in the space_of_stops the average of all the shortest paths \n",
    "to be transversed between all public transport stop pairs\n",
    "which can be reached by means of one or multiple routes.'''\n",
    "print(nx.average_shortest_path_length(B))"
   ]
  },
  {
   "cell_type": "code",
   "execution_count": 26,
   "metadata": {
    "colab": {
     "base_uri": "https://localhost:8080/",
     "height": 69
    },
    "executionInfo": {
     "elapsed": 49137,
     "status": "ok",
     "timestamp": 1617437225498,
     "user": {
      "displayName": "Ine Winters",
      "photoUrl": "",
      "userId": "11267554535649979995"
     },
     "user_tz": -120
    },
    "id": "Czdb_ZqNOtzu",
    "outputId": "96968309-fccb-4590-b0c4-15053c9547a2"
   },
   "outputs": [
    {
     "data": {
      "text/plain": [
       "' The assortativity of the Belgian railway system considering only stops in Belgium:\\nIn an assortative network, high-degree vertices tend to be connected and low-degree vertices tend to stick together as well. \\nIn a disassortative network conversely, high-degree and low-degree vertices tend to be connected \\nto each other instead of being connected to vertices of the same kind.'"
      ]
     },
     "execution_count": 26,
     "metadata": {},
     "output_type": "execute_result"
    },
    {
     "name": "stdout",
     "output_type": "stream",
     "text": [
      "0.20839952629906888\n"
     ]
    }
   ],
   "source": [
    "''' The assortativity of the Belgian railway system considering only stops in Belgium:\n",
    "In an assortative network, high-degree vertices tend to be connected and low-degree vertices tend to stick together as well. \n",
    "In a disassortative network conversely, high-degree and low-degree vertices tend to be connected \n",
    "to each other instead of being connected to vertices of the same kind.'''\n",
    "print(nx.degree_pearson_correlation_coefficient(B_belgian_stops))"
   ]
  },
  {
   "cell_type": "markdown",
   "metadata": {
    "id": "pFrXK59jOtzz"
   },
   "source": [
    "## **Calculation of the global characteristics of the Dutch railway system in the space-of-stops representation**"
   ]
  },
  {
   "cell_type": "code",
   "execution_count": 27,
   "metadata": {
    "executionInfo": {
     "elapsed": 53869,
     "status": "ok",
     "timestamp": 1617437230234,
     "user": {
      "displayName": "Ine Winters",
      "photoUrl": "",
      "userId": "11267554535649979995"
     },
     "user_tz": -120
    },
    "id": "w4ca2IXwOtz3"
   },
   "outputs": [],
   "source": [
    "N = create_graph(df_for_edges_Netherlands)\n",
    "N = assign_weights(N, df_for_edges_Netherlands, stops_cleaned_Netherlands)"
   ]
  },
  {
   "cell_type": "code",
   "execution_count": 28,
   "metadata": {},
   "outputs": [
    {
     "data": {
      "text/plain": [
       "'Calculates the subgraph that contains only stops into Netherlands iteself (removes all the stop outside the country)'"
      ]
     },
     "execution_count": 28,
     "metadata": {},
     "output_type": "execute_result"
    }
   ],
   "source": [
    "'''Calculates the subgraph that contains only stops into Netherlands iteself (removes all the stop outside the country)'''\n",
    "dutch_stops = [n for n,v in N.nodes(data=True) if v['country'] == 'Netherlands']\n",
    "N_dutch_stops = N.subgraph(dutch_stops)"
   ]
  },
  {
   "cell_type": "code",
   "execution_count": null,
   "metadata": {},
   "outputs": [],
   "source": [
    "'''Show the country train network that was created by create_graph() on the map'''\n",
    "country_names = ['France', 'Belgium', 'Netherlands', 'United_Kingdom', 'Germany', 'Austria', 'Switzerland']\n",
    "plot_given_Networkx_on_country_map(N, 'Netherlands', country_names, dic_country_networks, dic_country_names)"
   ]
  },
  {
   "cell_type": "code",
   "execution_count": null,
   "metadata": {},
   "outputs": [],
   "source": [
    "'''Show the country train network subgraph that was created by create_graph() and then filtered on the country stops on the map'''\n",
    "country_names = ['Netherlands']\n",
    "plot_given_Networkx_on_country_map(N_dutch_stops, 'Netherlands_only', country_names, dic_country_networks, dic_country_names)"
   ]
  },
  {
   "cell_type": "code",
   "execution_count": null,
   "metadata": {
    "colab": {
     "base_uri": "https://localhost:8080/"
    },
    "executionInfo": {
     "elapsed": 53855,
     "status": "ok",
     "timestamp": 1617437230235,
     "user": {
      "displayName": "Ine Winters",
      "photoUrl": "",
      "userId": "11267554535649979995"
     },
     "user_tz": -120
    },
    "id": "Z6v6RaniOtz4",
    "outputId": "2d76306d-24d0-459d-cfc0-9d37b38a3fea"
   },
   "outputs": [],
   "source": [
    "N.edges(data=True)"
   ]
  },
  {
   "cell_type": "code",
   "execution_count": null,
   "metadata": {
    "colab": {
     "base_uri": "https://localhost:8080/",
     "height": 0
    },
    "executionInfo": {
     "elapsed": 53834,
     "status": "ok",
     "timestamp": 1617437230236,
     "user": {
      "displayName": "Ine Winters",
      "photoUrl": "",
      "userId": "11267554535649979995"
     },
     "user_tz": -120
    },
    "id": "k8k5kIQHOtz5",
    "outputId": "9a5d38e6-d85d-4237-ce20-07514d7ffa35"
   },
   "outputs": [],
   "source": [
    "''' The number of nodes in the Dutch railway system '''\n",
    "# The number of total nodes in the Dutch railway system that consists of all routes that contain at least one node in the Netherlands\n",
    "len(N.nodes())\n",
    "\n",
    "# The number of dutch nodes in the Dutch railway system that consists of all routes that contain at least one node in the Netherlands\n",
    "print(len(N_dutch_stops.nodes()))"
   ]
  },
  {
   "cell_type": "code",
   "execution_count": null,
   "metadata": {
    "colab": {
     "base_uri": "https://localhost:8080/",
     "height": 0
    },
    "executionInfo": {
     "elapsed": 53818,
     "status": "ok",
     "timestamp": 1617437230239,
     "user": {
      "displayName": "Ine Winters",
      "photoUrl": "",
      "userId": "11267554535649979995"
     },
     "user_tz": -120
    },
    "id": "JysXj4kBOtz6",
    "outputId": "0ec3a572-4ab3-4776-e08b-ff1a0d9c4939",
    "scrolled": true
   },
   "outputs": [],
   "source": [
    "''' The degrees of the nodes in the Dutch railway system considering only stops in Netherlands'''\n",
    "N_dutch_stops.degree()"
   ]
  },
  {
   "cell_type": "code",
   "execution_count": null,
   "metadata": {
    "colab": {
     "base_uri": "https://localhost:8080/",
     "height": 0
    },
    "executionInfo": {
     "elapsed": 53802,
     "status": "ok",
     "timestamp": 1617437230246,
     "user": {
      "displayName": "Ine Winters",
      "photoUrl": "",
      "userId": "11267554535649979995"
     },
     "user_tz": -120
    },
    "id": "IJGXbZS-Ot0B",
    "outputId": "b0343493-e5d1-4042-f837-ea2d1a485748"
   },
   "outputs": [],
   "source": [
    "''' The average degree of the nodes in the Dutch railway system indicating the number of directions \n",
    "a commuter can take from that given station.'''\n",
    "# The average degree of all the nodes in the Dutch railway system that consists of all routes that cover at least one dutch station\n",
    "print(avg_degree(N))\n",
    "\n",
    "# The average degree of all the nodes in the Dutch railway system if only the dutch stations are considered\n",
    "print(avg_degree(N_dutch_stops))"
   ]
  },
  {
   "cell_type": "code",
   "execution_count": null,
   "metadata": {
    "colab": {
     "base_uri": "https://localhost:8080/",
     "height": 35
    },
    "executionInfo": {
     "elapsed": 54072,
     "status": "ok",
     "timestamp": 1617437230540,
     "user": {
      "displayName": "Ine Winters",
      "photoUrl": "",
      "userId": "11267554535649979995"
     },
     "user_tz": -120
    },
    "id": "poA48V2OOt0C",
    "outputId": "a51e5f81-3245-41dd-cd2e-f9f496eeb6c4"
   },
   "outputs": [],
   "source": [
    "''' The number of edges in the Dutch railway system considering only the stops in Netherlands'''\n",
    "len(N.edges())"
   ]
  },
  {
   "cell_type": "code",
   "execution_count": null,
   "metadata": {
    "colab": {
     "base_uri": "https://localhost:8080/",
     "height": 35
    },
    "executionInfo": {
     "elapsed": 54050,
     "status": "ok",
     "timestamp": 1617437230542,
     "user": {
      "displayName": "Ine Winters",
      "photoUrl": "",
      "userId": "11267554535649979995"
     },
     "user_tz": -120
    },
    "id": "BDIxWOwhOt0D",
    "outputId": "ed1eedc5-7600-4f16-e517-f8b3c5a9015e"
   },
   "outputs": [],
   "source": [
    "''' The gamma index of the Dutch railway system considering only the stops in Netherlands'''\n",
    "print(gamma_index(N))"
   ]
  },
  {
   "cell_type": "code",
   "execution_count": null,
   "metadata": {
    "colab": {
     "base_uri": "https://localhost:8080/",
     "height": 35
    },
    "executionInfo": {
     "elapsed": 54031,
     "status": "ok",
     "timestamp": 1617437230544,
     "user": {
      "displayName": "Ine Winters",
      "photoUrl": "",
      "userId": "11267554535649979995"
     },
     "user_tz": -120
    },
    "id": "unLzeBCNOt0F",
    "outputId": "06f46ded-9ee1-45bb-e5d8-6130c22e8540"
   },
   "outputs": [],
   "source": [
    "''' The mean clustering coefficient of the Dutch railway system considering only the stops in Netherlands'''\n",
    "#The mean clustering coefficient indicates for a random station the estimation of the division of the number of neighbouring stations of a station that are connected \n",
    "# divided by the possible number of connections between the neighbours of that station\n",
    "print (\"mean clustering coefficient:\", nx.average_clustering(N))"
   ]
  },
  {
   "cell_type": "code",
   "execution_count": null,
   "metadata": {
    "colab": {
     "base_uri": "https://localhost:8080/",
     "height": 683
    },
    "executionInfo": {
     "elapsed": 54337,
     "status": "ok",
     "timestamp": 1617437230877,
     "user": {
      "displayName": "Ine Winters",
      "photoUrl": "",
      "userId": "11267554535649979995"
     },
     "user_tz": -120
    },
    "id": "9MCHmv4POt0G",
    "outputId": "c262e2ef-c589-467f-9471-89e1a886670b"
   },
   "outputs": [],
   "source": [
    "''' The degree distribution of the Dutch railway system considering only stops in Netherlands'''\n",
    "degree_distribution(N_dutch_stops)"
   ]
  },
  {
   "cell_type": "code",
   "execution_count": null,
   "metadata": {
    "colab": {
     "base_uri": "https://localhost:8080/",
     "height": 89
    },
    "executionInfo": {
     "elapsed": 54317,
     "status": "ok",
     "timestamp": 1617437230879,
     "user": {
      "displayName": "Ine Winters",
      "photoUrl": "",
      "userId": "11267554535649979995"
     },
     "user_tz": -120
    },
    "id": "AzZQ1fF3Ot0H",
    "outputId": "eaf29662-1a7c-4cec-f1eb-6d51234b9ef5"
   },
   "outputs": [],
   "source": [
    "''' Detection of the scale-free property in the Dutch railway system:\n",
    "A PTN with the scale-free property consists of a large number of vertices that exhibit low degree and a few number of vertices that exhibit very high degree. '''\n",
    "print(\"The scale-free property is present in the Dutch railway network because the majority of nodes exhibit a low degree value equal to 2 and almost none of the nodes exhibit a degree value equal to 6 or higher\")"
   ]
  },
  {
   "cell_type": "code",
   "execution_count": null,
   "metadata": {
    "colab": {
     "base_uri": "https://localhost:8080/",
     "height": 52
    },
    "executionInfo": {
     "elapsed": 54772,
     "status": "ok",
     "timestamp": 1617437231355,
     "user": {
      "displayName": "Ine Winters",
      "photoUrl": "",
      "userId": "11267554535649979995"
     },
     "user_tz": -120
    },
    "id": "113jBoxSOt0J",
    "outputId": "667ec374-f27e-4ae6-f353-6c6a6f3c7aa1"
   },
   "outputs": [],
   "source": [
    "''' The average path length of the Dutch railway system considering only the stops in Netherlands:\n",
    "The average path length represents in the space-of-stops the average of all the shortest paths \n",
    "to be transversed between all public transport stop pairs\n",
    "which can be reached by means of one or multiple routes.'''\n",
    "print(nx.average_shortest_path_length(N))"
   ]
  },
  {
   "cell_type": "code",
   "execution_count": null,
   "metadata": {
    "colab": {
     "base_uri": "https://localhost:8080/",
     "height": 69
    },
    "executionInfo": {
     "elapsed": 54752,
     "status": "ok",
     "timestamp": 1617437231358,
     "user": {
      "displayName": "Ine Winters",
      "photoUrl": "",
      "userId": "11267554535649979995"
     },
     "user_tz": -120
    },
    "id": "cuOP1ohrOt0K",
    "outputId": "53d916c4-ff79-4334-a05e-c10955e5213c"
   },
   "outputs": [],
   "source": [
    "''' The assortativity of the Dutch railway system considering only the stops in Netherlands:\n",
    "In an assortative network, high-degree vertices tend to be connected and low-degree vertices tend to stick together as well. \n",
    "In a disassortative network conversely, high-degree and low-degree vertices tend to be connected \n",
    "to each other instead of being connected to vertices of the same kind.'''\n",
    "print(nx.degree_pearson_correlation_coefficient(N_dutch_stops))"
   ]
  },
  {
   "cell_type": "markdown",
   "metadata": {
    "id": "QdVH7lGKOt0L"
   },
   "source": [
    "## **Calculation of the global characteristics of the Swiss railway system in the space-of-stops representation**"
   ]
  },
  {
   "cell_type": "code",
   "execution_count": 39,
   "metadata": {
    "executionInfo": {
     "elapsed": 120235,
     "status": "ok",
     "timestamp": 1617437296846,
     "user": {
      "displayName": "Ine Winters",
      "photoUrl": "",
      "userId": "11267554535649979995"
     },
     "user_tz": -120
    },
    "id": "6ck3W0wgOt0M"
   },
   "outputs": [],
   "source": [
    "S = create_graph(df_for_edges_Switzerland)\n",
    "S = assign_weights(S, df_for_edges_Switzerland, stops_cleaned_Switzerland)"
   ]
  },
  {
   "cell_type": "code",
   "execution_count": 40,
   "metadata": {},
   "outputs": [
    {
     "data": {
      "text/plain": [
       "'Calculates the subgraph that contains only stops into Switzerland iteself (removes all the stop outside the country)'"
      ]
     },
     "execution_count": 40,
     "metadata": {},
     "output_type": "execute_result"
    }
   ],
   "source": [
    "'''Calculates the subgraph that contains only stops into Switzerland iteself (removes all the stop outside the country)'''\n",
    "swiss_stops = [n for n,v in S.nodes(data=True) if v['country'] == 'Switzerland']\n",
    "S_swiss_stops = S.subgraph(swiss_stops)"
   ]
  },
  {
   "cell_type": "code",
   "execution_count": null,
   "metadata": {},
   "outputs": [],
   "source": [
    "'''Show the country train network that was created by create_graph() on the map'''\n",
    "country_names = ['France', 'Germany', 'Austria', 'Switzerland', 'Italy', 'Liechtenstein']\n",
    "plot_given_Networkx_on_country_map(S, 'Switzerland', country_names, dic_country_networks, dic_country_names)"
   ]
  },
  {
   "cell_type": "code",
   "execution_count": null,
   "metadata": {},
   "outputs": [],
   "source": [
    "'''Show the country train network subgraph that was created by create_graph() and then filtered on the country stops on the map'''\n",
    "country_names = ['Switzerland']\n",
    "plot_given_Networkx_on_country_map(S_swiss_stops, 'Switzerland_only', country_names, dic_country_networks, dic_country_names)"
   ]
  },
  {
   "cell_type": "code",
   "execution_count": null,
   "metadata": {
    "colab": {
     "base_uri": "https://localhost:8080/"
    },
    "executionInfo": {
     "elapsed": 121107,
     "status": "ok",
     "timestamp": 1617437297739,
     "user": {
      "displayName": "Ine Winters",
      "photoUrl": "",
      "userId": "11267554535649979995"
     },
     "user_tz": -120
    },
    "id": "eELGwWjjOt0N",
    "outputId": "63ca3dce-0763-4612-f529-529ec28936d5"
   },
   "outputs": [],
   "source": [
    "S.edges(data=True)"
   ]
  },
  {
   "cell_type": "code",
   "execution_count": null,
   "metadata": {
    "colab": {
     "base_uri": "https://localhost:8080/",
     "height": 35
    },
    "executionInfo": {
     "elapsed": 121078,
     "status": "ok",
     "timestamp": 1617437297743,
     "user": {
      "displayName": "Ine Winters",
      "photoUrl": "",
      "userId": "11267554535649979995"
     },
     "user_tz": -120
    },
    "id": "6N5WQxHlOt0P",
    "outputId": "44a0c9b4-7732-485a-a4e7-ea8be7b548f7"
   },
   "outputs": [],
   "source": [
    "''' The number of nodes in the Swiss railway system '''\n",
    "# The number of total nodes in the Swiss railway system that consists of all routes that contain at least one node in the Netherlands\n",
    "len(S.nodes())\n",
    "\n",
    "# The number of swiss nodes in the Swiss railway system that consists of all routes that contain at least one node in the Netherlands\n",
    "print(len(S_swiss_stops.nodes()))"
   ]
  },
  {
   "cell_type": "code",
   "execution_count": null,
   "metadata": {
    "colab": {
     "base_uri": "https://localhost:8080/",
     "height": 72
    },
    "executionInfo": {
     "elapsed": 121057,
     "status": "ok",
     "timestamp": 1617437297745,
     "user": {
      "displayName": "Ine Winters",
      "photoUrl": "",
      "userId": "11267554535649979995"
     },
     "user_tz": -120
    },
    "id": "X7ubt6wFOt0R",
    "outputId": "cab07f8e-d219-4620-9943-1b7d54648c07"
   },
   "outputs": [],
   "source": [
    "''' The degrees of the nodes in the Swiss railway system considering only stops in Switzerland'''\n",
    "S_swiss_stops.degree()"
   ]
  },
  {
   "cell_type": "code",
   "execution_count": null,
   "metadata": {
    "colab": {
     "base_uri": "https://localhost:8080/",
     "height": 69
    },
    "executionInfo": {
     "elapsed": 121039,
     "status": "ok",
     "timestamp": 1617437297748,
     "user": {
      "displayName": "Ine Winters",
      "photoUrl": "",
      "userId": "11267554535649979995"
     },
     "user_tz": -120
    },
    "id": "EQhs-7QiOt0S",
    "outputId": "3687f149-8a18-4c84-b2fe-b8442c166ea1"
   },
   "outputs": [],
   "source": [
    "''' The average degree of the nodes in the Swiss railway system indicating the number of directions \n",
    "a commuter can take from that given station.'''\n",
    "# The average degree of all the nodes in the Swiss railway system that consists of all routes that cover at least one Swiss station\n",
    "print(avg_degree(S))\n",
    "\n",
    "# The average degree of all the nodes in the Swiss railway system if only the Swiss stations are considered\n",
    "print(avg_degree(S_swiss_stops))"
   ]
  },
  {
   "cell_type": "code",
   "execution_count": null,
   "metadata": {
    "colab": {
     "base_uri": "https://localhost:8080/",
     "height": 35
    },
    "executionInfo": {
     "elapsed": 121017,
     "status": "ok",
     "timestamp": 1617437297750,
     "user": {
      "displayName": "Ine Winters",
      "photoUrl": "",
      "userId": "11267554535649979995"
     },
     "user_tz": -120
    },
    "id": "nDZdDdrVOt0T",
    "outputId": "60a2a93e-d32a-4076-f29b-74917206c704"
   },
   "outputs": [],
   "source": [
    "''' The number of edges in the Swiss railway system considering only stops in Switzerland'''\n",
    "len(S.edges())"
   ]
  },
  {
   "cell_type": "code",
   "execution_count": null,
   "metadata": {
    "colab": {
     "base_uri": "https://localhost:8080/",
     "height": 35
    },
    "executionInfo": {
     "elapsed": 120997,
     "status": "ok",
     "timestamp": 1617437297753,
     "user": {
      "displayName": "Ine Winters",
      "photoUrl": "",
      "userId": "11267554535649979995"
     },
     "user_tz": -120
    },
    "id": "U3eT7CZ7Ot1d",
    "outputId": "77d399c3-7abf-4b49-edbf-c070bd0fe16a"
   },
   "outputs": [],
   "source": [
    "''' The gamma index of the Swiss railway system considering only stops in Switzerland'''\n",
    "print(gamma_index(S))"
   ]
  },
  {
   "cell_type": "code",
   "execution_count": null,
   "metadata": {
    "colab": {
     "base_uri": "https://localhost:8080/",
     "height": 35
    },
    "executionInfo": {
     "elapsed": 120989,
     "status": "ok",
     "timestamp": 1617437297769,
     "user": {
      "displayName": "Ine Winters",
      "photoUrl": "",
      "userId": "11267554535649979995"
     },
     "user_tz": -120
    },
    "id": "Mro2ujWmOt1e",
    "outputId": "d6fc7d6d-b13f-4b76-b881-e65b821d6354"
   },
   "outputs": [],
   "source": [
    "''' The mean clustering coefficient of the Swiss railway system considering only stops in Switzerland'''\n",
    "#The mean clustering coefficient indicates for a random station the estimation of the division of the number of neighbouring stations of a station that are connected \n",
    "# divided by the possible number of connections between the neighbours of that station\n",
    "print (\"mean clustering coefficient:\", nx.average_clustering(S))"
   ]
  },
  {
   "cell_type": "code",
   "execution_count": null,
   "metadata": {
    "colab": {
     "base_uri": "https://localhost:8080/",
     "height": 701
    },
    "executionInfo": {
     "elapsed": 121816,
     "status": "ok",
     "timestamp": 1617437298618,
     "user": {
      "displayName": "Ine Winters",
      "photoUrl": "",
      "userId": "11267554535649979995"
     },
     "user_tz": -120
    },
    "id": "PQvfPKizOt1f",
    "outputId": "0385ecbd-7f74-43df-e299-ad4cb1c085be"
   },
   "outputs": [],
   "source": [
    "''' The degree distribution of the Swiss railway system considering only stops in Switzerland'''\n",
    "degree_distribution(S_swiss_stops)"
   ]
  },
  {
   "cell_type": "code",
   "execution_count": null,
   "metadata": {
    "colab": {
     "base_uri": "https://localhost:8080/",
     "height": 89
    },
    "executionInfo": {
     "elapsed": 121801,
     "status": "ok",
     "timestamp": 1617437298622,
     "user": {
      "displayName": "Ine Winters",
      "photoUrl": "",
      "userId": "11267554535649979995"
     },
     "user_tz": -120
    },
    "id": "OQVpke-mOt1g",
    "outputId": "13926345-a3fa-4f71-ad60-bd974ce41508"
   },
   "outputs": [],
   "source": [
    "''' Detection of the scale-free property in the Swiss railway system:\n",
    "A PTN with the scale-free property consists of a large number of vertices \n",
    "that exhibit low degree and a few number of vertices that exhibit very high degree. '''\n",
    "print(\"The scale-free property is present in the Swiss railway network because the majority of nodes exhibit a low degree value equal to 2 and almost none of the nodes exhibit a degree value equal to 5 or higher\")"
   ]
  },
  {
   "cell_type": "code",
   "execution_count": null,
   "metadata": {},
   "outputs": [],
   "source": [
    "'''Separate all the connected subgraphs of Switzerland. And see what we lose by only taking the largest one.'''\n",
    "all_connected_graphs = nx.connected_components(S)\n",
    "largest_component = max(nx.connected_components(S), key=len)\n",
    "largest_connected_subgraph = S.subgraph(largest_component)\n",
    "lost_number_nodes = len(S.nodes()) - len(largest_connected_subgraph)\n",
    "print(f'lost number of nodes: {lost_number_nodes}')\n",
    "list_subgraphs_except_max = []\n",
    "for sg in all_connected_graphs:\n",
    "    if sg != largest_component:\n",
    "        list_subgraphs_except_max.append(sg)\n",
    "   \n",
    "set_deleted_routes = set()\n",
    "for sg in list_subgraphs_except_max:\n",
    "    for n1, n2, edge_data in S.subgraph(sg).edges(data=True):\n",
    "        set_deleted_routes.update(edge_data['route_id'])\n",
    "        \n",
    "print(f'lost number of routes: {len(set_deleted_routes)}')"
   ]
  },
  {
   "cell_type": "code",
   "execution_count": null,
   "metadata": {
    "colab": {
     "base_uri": "https://localhost:8080/",
     "height": 52
    },
    "executionInfo": {
     "elapsed": 121781,
     "status": "ok",
     "timestamp": 1617437298623,
     "user": {
      "displayName": "Ine Winters",
      "photoUrl": "",
      "userId": "11267554535649979995"
     },
     "user_tz": -120
    },
    "id": "bDnZgAnzOt1l",
    "outputId": "2f509ee9-980c-4cd1-aad0-d02fc4a38d8c"
   },
   "outputs": [],
   "source": [
    "''' The average path length of the Swiss railway system considering only stops in Switzerland:\n",
    "The average path length represents in the space-of-stops the average of all the shortest paths \n",
    "to be transversed between all public transport stop pairs\n",
    "which can be reached by means of one or multiple routes.'''\n",
    "print(nx.average_shortest_path_length(largest_connected_subgraph))"
   ]
  },
  {
   "cell_type": "code",
   "execution_count": null,
   "metadata": {
    "colab": {
     "base_uri": "https://localhost:8080/",
     "height": 69
    },
    "executionInfo": {
     "elapsed": 121760,
     "status": "ok",
     "timestamp": 1617437298627,
     "user": {
      "displayName": "Ine Winters",
      "photoUrl": "",
      "userId": "11267554535649979995"
     },
     "user_tz": -120
    },
    "id": "xtQOzs-NOt1m",
    "outputId": "9f066c94-e829-4310-9ec5-e7a8e14b7193"
   },
   "outputs": [],
   "source": [
    "''' The assortativity of the Swiss railway system considering only stops in Switzerland:\n",
    "In an assortative network, high-degree vertices tend to be connected and low-degree vertices tend to stick together as well. \n",
    "In a disassortative network conversely, high-degree and low-degree vertices tend to be connected to each other instead of being connected to vertices of the same kind.'''\n",
    "print(nx.degree_pearson_correlation_coefficient(S_swiss_stops))"
   ]
  },
  {
   "cell_type": "markdown",
   "metadata": {
    "id": "UMXNqOdIOt1o"
   },
   "source": [
    "# RQ2: Clustering preparation"
   ]
  },
  {
   "cell_type": "code",
   "execution_count": null,
   "metadata": {
    "colab": {
     "base_uri": "https://localhost:8080/",
     "height": 35
    },
    "executionInfo": {
     "elapsed": 121738,
     "status": "ok",
     "timestamp": 1617437298630,
     "user": {
      "displayName": "Ine Winters",
      "photoUrl": "",
      "userId": "11267554535649979995"
     },
     "user_tz": -120
    },
    "id": "8hX5d_mZOt1o",
    "outputId": "c768f2f3-7d18-4492-bbf5-284daf483280"
   },
   "outputs": [],
   "source": [
    "''' To put all the unique route_ids of the df_for_edges in df route_characteristics_Belgium'''\n",
    "def create_route_characteristics(df_for_edges):\n",
    "    # To create a list of all unique route_ids in the df_for_edges dataset\n",
    "    routes_list = list(df_for_edges['route_id'].unique())\n",
    "    routes_list.sort()\n",
    "\n",
    "    # To create a dataframe that contains the values in the route_characteristics_Belgium_dic as the values in the first column'''\n",
    "    route_characteristics = pd.DataFrame(routes_list, columns=['route_id'])\n",
    "    return route_characteristics"
   ]
  },
  {
   "cell_type": "code",
   "execution_count": null,
   "metadata": {
    "colab": {
     "base_uri": "https://localhost:8080/",
     "height": 35
    },
    "executionInfo": {
     "elapsed": 121718,
     "status": "ok",
     "timestamp": 1617437298631,
     "user": {
      "displayName": "Ine Winters",
      "photoUrl": "",
      "userId": "11267554535649979995"
     },
     "user_tz": -120
    },
    "id": "RMYApWoDOt1p",
    "outputId": "2cce624d-1ac0-40f5-cb3f-b89c3b926dd6"
   },
   "outputs": [],
   "source": [
    "''' To put the stations per route_id in df route_characteristics_Belgium'''\n",
    "def put_stations_route_characteristics(G, route_characteristics):\n",
    "    # To construct a new column of the route_characteristics_Belgium dataset that has for every column value an empty set\n",
    "    route_characteristics['nodes'] = [set() for _ in range(len(route_characteristics))]\n",
    "\n",
    "    # To put the two nodes of an edge in the nodes column of the route_characteristics_Belgium dataset if the route_id of the corresponding row \n",
    "    # is present in the set of the list values of the corresponding edge that contains all route_ids that contain the edge\n",
    "    for node1, node2 in G.edges():\n",
    "        route_characteristics[['route_id','nodes']].apply(lambda x: x['nodes'].update((node1, node2)) if x['route_id'] in set(G.get_edge_data(node1, node2)['route_id']) else x, axis = 1)\n",
    "    return route_characteristics"
   ]
  },
  {
   "cell_type": "code",
   "execution_count": null,
   "metadata": {
    "colab": {
     "base_uri": "https://localhost:8080/",
     "height": 35
    },
    "executionInfo": {
     "elapsed": 121702,
     "status": "ok",
     "timestamp": 1617437298643,
     "user": {
      "displayName": "Ine Winters",
      "photoUrl": "",
      "userId": "11267554535649979995"
     },
     "user_tz": -120
    },
    "id": "neKpEnc0s-Ve",
    "outputId": "e6f0a120-7ab4-489f-d081-ea940962223e"
   },
   "outputs": [],
   "source": [
    "'''Deletes every empty route (useful after a inside contry filter)'''\n",
    "def deletes_empty_routes(route_characteristics):\n",
    "    index_empty_routes = route_characteristics_Belgium_belgian_nodes[route_characteristics_Belgium_belgian_nodes['nodes'].map(lambda d: len(d)) == 0].index\n",
    "    return route_characteristics.drop(index_empty_routes)"
   ]
  },
  {
   "cell_type": "code",
   "execution_count": null,
   "metadata": {
    "colab": {
     "base_uri": "https://localhost:8080/",
     "height": 35
    },
    "executionInfo": {
     "elapsed": 121680,
     "status": "ok",
     "timestamp": 1617437298644,
     "user": {
      "displayName": "Ine Winters",
      "photoUrl": "",
      "userId": "11267554535649979995"
     },
     "user_tz": -120
    },
    "id": "sK0yLnZYOt1q",
    "outputId": "ae923385-bdf2-4b64-e80e-e2fd424206e3"
   },
   "outputs": [],
   "source": [
    "''' Definitions to calculate route topological metrics'''\n",
    "\n",
    "# The inputs of the get_metric_list function are a dictionary that contains for all node keys the corresponding metric values and a specific route_id of a column of \n",
    "# the route_characteristics dataset\n",
    "# A new empty list metric_list is created for these inputs\n",
    "# For the nodes that are in the route_characteristics dataset corresponding to this route_id, the corresponding metric values from the dictionary get appended to metric_list\n",
    "\n",
    "from statistics import mean\n",
    "def get_metric_list(route_characteristics, metric_dic, route_id):\n",
    "    \"\"\"this is a sub function that is used in calculate_metric_route_per_node\"\"\"\n",
    "    metric_list = []\n",
    "    for nodes in route_characteristics[route_characteristics['route_id'] == route_id]['nodes']:\n",
    "        for node in nodes:\n",
    "            metric_list.append(metric_dic[node])\n",
    "    return metric_list\n",
    "\n",
    "# For the metric, a new column is created in route_characteristics, where every column value consists of an empty list\n",
    "# The values in the column of the df are determined by giving the metric_dic and the route_id of the row where that value is placed to the get_metric_list function\n",
    "# The metric_list ultimately contains the metric values for a specific metric for all the stations corresponding to that route\n",
    "\n",
    "def calculate_metric_route_per_node(route_characteristics, metric_dic, metric_name):\n",
    "    \"\"\"puts the metrics of each node of a route in a list in the route_characteristics df\"\"\"\n",
    "    route_characteristics[metric_name] = [list for _ in range(len(route_characteristics))]\n",
    "    route_characteristics[metric_name] = route_characteristics.apply(lambda x: get_metric_list(route_characteristics, metric_dic, x['route_id']) , axis = 1)\n",
    "    \n",
    "# The function starts from the metric_name, the original_metric_name and the aggregation_method inputs\n",
    "# A new column named with the metric_name is created: initially it contains all NaN values\n",
    "# Thereafter the aggregation_method is taken into account. The avg aggregation method returns for all column values the mean of the values in the corresponding row\n",
    "# of the original_metric_name list. The max aggregation method returns for all column values the max of the values in the corresponding row of the original_metric_name list.\n",
    "\n",
    "def calculate_metric_aggregation_route(route_characteristics, metric_name, original_metric_name, aggregation_method):\n",
    "    '''calculate the metric aggregation of the routes, only avg and max are supported as string values for aggregation method\n",
    "    metric_name is the aggregation column name and original_metric_name is the node metric column name'''\n",
    "    route_characteristics[metric_name] = np.nan\n",
    "    if aggregation_method == 'avg':\n",
    "        route_characteristics[metric_name] = route_characteristics.apply(lambda x: mean(x[original_metric_name]) , axis = 1)\n",
    "    elif aggregation_method == 'max':\n",
    "        route_characteristics[metric_name] = route_characteristics.apply(lambda x: max(x[original_metric_name]) , axis = 1)"
   ]
  },
  {
   "cell_type": "code",
   "execution_count": null,
   "metadata": {
    "colab": {
     "base_uri": "https://localhost:8080/",
     "height": 35
    },
    "executionInfo": {
     "elapsed": 121672,
     "status": "ok",
     "timestamp": 1617437298656,
     "user": {
      "displayName": "Ine Winters",
      "photoUrl": "",
      "userId": "11267554535649979995"
     },
     "user_tz": -120
    },
    "id": "qkv4iM9LOt1r",
    "outputId": "a328bba2-957e-4257-da85-30f1ab548e5c"
   },
   "outputs": [],
   "source": [
    "'''Calculate the metrics of the route_characteristics df'''\n",
    "def calculate_characteristics (G, route_characteristics):\n",
    "    calculate_metric_route_per_node(route_characteristics, dict(G.degree()), 'node_degree')\n",
    "    calculate_metric_aggregation_route(route_characteristics, 'avg_degree', 'node_degree', 'avg')\n",
    "    calculate_metric_aggregation_route(route_characteristics, 'max_degree', 'node_degree', 'max')\n",
    "    calculate_metric_route_per_node(route_characteristics, dict(nx.clustering(G)), 'node_clustering')\n",
    "    calculate_metric_aggregation_route(route_characteristics, 'avg_clustering', 'node_clustering', 'avg')\n",
    "    calculate_metric_aggregation_route(route_characteristics, 'max_clustering', 'node_clustering', 'max')\n",
    "    calculate_metric_route_per_node(route_characteristics, dict(nx.closeness_centrality(G)), 'node_closeness_centrality')\n",
    "    calculate_metric_aggregation_route(route_characteristics, 'avg_closeness_centrality', 'node_closeness_centrality', 'avg')\n",
    "    calculate_metric_aggregation_route(route_characteristics, 'max_closeness_centrality', 'node_closeness_centrality', 'max')\n",
    "    calculate_metric_route_per_node(route_characteristics, dict(nx.betweenness_centrality(G)), 'node_betweenness_centrality')\n",
    "    calculate_metric_aggregation_route(route_characteristics, 'avg_betweenness_centrality', 'node_betweenness_centrality', 'avg')\n",
    "    calculate_metric_aggregation_route(route_characteristics, 'max_betweenness_centrality', 'node_betweenness_centrality', 'max')\n",
    "    return route_characteristics"
   ]
  },
  {
   "cell_type": "code",
   "execution_count": null,
   "metadata": {
    "colab": {
     "base_uri": "https://localhost:8080/",
     "height": 35
    },
    "executionInfo": {
     "elapsed": 121647,
     "status": "ok",
     "timestamp": 1617437298658,
     "user": {
      "displayName": "Ine Winters",
      "photoUrl": "",
      "userId": "11267554535649979995"
     },
     "user_tz": -120
    },
    "id": "5VsAFCLgOt1r",
    "outputId": "89fe8ee9-90d0-4cae-cf5f-fe1133c653fa"
   },
   "outputs": [],
   "source": [
    "''' To add the number of stations present in the stop sequence of a route_id'''\n",
    "def add_number_stations(route_characteristics):\n",
    "    number_stations = []\n",
    "    for number_stops in route_characteristics['nodes']:\n",
    "        number_stations.append(len(number_stops))\n",
    "\n",
    "    route_characteristics['len_stop_sequence'] = number_stations\n",
    "    return route_characteristics"
   ]
  },
  {
   "cell_type": "code",
   "execution_count": null,
   "metadata": {
    "colab": {
     "base_uri": "https://localhost:8080/",
     "height": 35
    },
    "executionInfo": {
     "elapsed": 121632,
     "status": "ok",
     "timestamp": 1617437298663,
     "user": {
      "displayName": "Ine Winters",
      "photoUrl": "",
      "userId": "11267554535649979995"
     },
     "user_tz": -120
    },
    "id": "WUdOvecyOt1t",
    "outputId": "9e3fa699-6481-4261-ba2a-618d521c4bf1"
   },
   "outputs": [],
   "source": [
    "''' To add the absolute distances between the starting and the ending station of all routes, and waiting and travel time'''\n",
    "\n",
    "def add_absolute_distance_tt_wt(route_characteristics, routes_country):\n",
    "\n",
    "    route_characteristics = route_characteristics.merge(routes_country[['route_id', 'distance','travel_time', 'waiting_time']], on='route_id')\n",
    "    route_characteristics = route_characteristics.rename(columns = {'distance': 'absolute_distance'})\n",
    "    return route_characteristics"
   ]
  },
  {
   "cell_type": "code",
   "execution_count": null,
   "metadata": {
    "colab": {
     "base_uri": "https://localhost:8080/",
     "height": 35
    },
    "executionInfo": {
     "elapsed": 121609,
     "status": "ok",
     "timestamp": 1617437298664,
     "user": {
      "displayName": "Ine Winters",
      "photoUrl": "",
      "userId": "11267554535649979995"
     },
     "user_tz": -120
    },
    "id": "URPLc0xEOt1u",
    "outputId": "64596ec5-0950-4bd7-9cd8-e828a47a936b"
   },
   "outputs": [],
   "source": [
    "''' To calculate the relative distance of the stop sequence of the route by only taking the starting and the ending station into account'''\n",
    "\n",
    "def add_relative_distance (route_characteristics):\n",
    "    # The relative distance of a route is the distance of the route divided by the distance of the route with the longest distance\n",
    "    relative_distance = []\n",
    "\n",
    "    # To calculate the route which stop sequence has the greatest absolute distance\n",
    "    max_distance = route_characteristics['absolute_distance'].max()\n",
    "\n",
    "    # To calculate the relative distance of each route\n",
    "    for abs_distance in route_characteristics['absolute_distance']:\n",
    "        rel_distance = abs_distance / max_distance\n",
    "        relative_distance.append(rel_distance)\n",
    "\n",
    "    # To add the relative_distance list as a column to the route_characteristics dataset\n",
    "    route_characteristics['relative_distance'] = relative_distance\n",
    "    return route_characteristics"
   ]
  },
  {
   "cell_type": "code",
   "execution_count": null,
   "metadata": {},
   "outputs": [],
   "source": [
    "''' To add the absolute distances between the starting and the ending station of all routes'''\n",
    "\n",
    "# Remember that geographical locations that are located further away to the right of the Prime Meridian Greenwich instead of another location that is closer\n",
    "# (but still to the right) of this Meridian Greenwich, have a greater longitute value.\n",
    "# Remember that geographical locations that are higher above the Equator than other geographical locations (that are also above the Equator), have a \n",
    "# higher latitude value\n",
    "\n",
    "def add_absolute_distance_begin_end(route_characteristics, df_for_edges, stops_cleaned):\n",
    "\n",
    "    absolute_distance = []\n",
    "    for route in route_characteristics['route_id']:\n",
    "        subdf_stop_sequence = df_for_edges[df_for_edges['route_id'] == route]\n",
    "        number_of_rows = len(subdf_stop_sequence.index)\n",
    "\n",
    "        # To get the starting station and the ending_station of the stop sequence of a route\n",
    "        starting_station = subdf_stop_sequence['stop_name_1'].iloc[0]\n",
    "        ending_station = subdf_stop_sequence['stop_name_2'].iloc[number_of_rows - 1]\n",
    "\n",
    "        # The radius of the earth\n",
    "        R = 6373.0\n",
    "\n",
    "        # To convert the coordinates in radians \n",
    "        lat_starting_station = math.radians(stops_cleaned[stops_cleaned['stop_name'] == starting_station]['stop_lat'].iloc[0])\n",
    "        lon_starting_station = math.radians(stops_cleaned[stops_cleaned['stop_name'] == starting_station]['stop_lon'].iloc[0])\n",
    "        lat_ending_station = math.radians(stops_cleaned[stops_cleaned['stop_name'] == ending_station]['stop_lat'].iloc[0])\n",
    "        lon_ending_station = math.radians(stops_cleaned[stops_cleaned['stop_name'] == ending_station]['stop_lon'].iloc[0])\n",
    "\n",
    "        # To calculate the change in coordinates\n",
    "        dlon = lon_ending_station - lon_starting_station\n",
    "        dlat = lat_ending_station - lat_starting_station\n",
    "\n",
    "        # To use the Haversine formula to get the distance in kilometers between the starting_station and the ending_station\n",
    "        a = math.sin(dlat / 2)**2 + math.cos(lat_starting_station) * math.cos(lat_ending_station) * math.sin(dlon / 2)**2\n",
    "        c = 2 * math.atan2(math.sqrt(a), math.sqrt(1 - a))\n",
    "\n",
    "        # To calculate the distance\n",
    "        distance = R * c\n",
    "\n",
    "        # To add the distance in the absolute_distance list\n",
    "        absolute_distance.append(distance)\n",
    "\n",
    "    # To add the absolute_distance list as a column to the route_characteristics dataset\n",
    "    route_characteristics['absolute_distance_begin_end'] = absolute_distance\n",
    "    return route_characteristics"
   ]
  },
  {
   "cell_type": "markdown",
   "metadata": {
    "id": "7QKrw5qkOt1v"
   },
   "source": [
    "## Clustering preparation Belgium"
   ]
  },
  {
   "cell_type": "code",
   "execution_count": null,
   "metadata": {
    "executionInfo": {
     "elapsed": 121608,
     "status": "ok",
     "timestamp": 1617437298666,
     "user": {
      "displayName": "Ine Winters",
      "photoUrl": "",
      "userId": "11267554535649979995"
     },
     "user_tz": -120
    },
    "id": "885GUpJKtLv1"
   },
   "outputs": [],
   "source": [
    "'''Calculates the subgraph that contains only stops into Belgium iteself (removes all the stop outside the country)'''\n",
    "belgian_stops = [n for n,v in B.nodes(data=True) if v['country'] == 'Belgium']\n",
    "B_belgian_stops = B.subgraph(belgian_stops)"
   ]
  },
  {
   "cell_type": "code",
   "execution_count": null,
   "metadata": {
    "executionInfo": {
     "elapsed": 152282,
     "status": "ok",
     "timestamp": 1617437329343,
     "user": {
      "displayName": "Ine Winters",
      "photoUrl": "",
      "userId": "11267554535649979995"
     },
     "user_tz": -120
    },
    "id": "dtU8EppuOt2K"
   },
   "outputs": [],
   "source": [
    "route_characteristics_Belgium = create_route_characteristics(df_for_edges_Belgium)\n",
    "route_characteristics_Belgium = put_stations_route_characteristics(B, route_characteristics_Belgium)\n",
    "route_characteristics_Belgium = calculate_characteristics(B, route_characteristics_Belgium)\n",
    "route_characteristics_Belgium = add_number_stations(route_characteristics_Belgium)\n",
    "route_characteristics_Belgium = add_absolute_distance_tt_wt(route_characteristics_Belgium, belgian_routes_Belgium)\n",
    "route_characteristics_Belgium = add_relative_distance (route_characteristics_Belgium)\n",
    "route_characteristics_Belgium = add_absolute_distance_begin_end(route_characteristics_Belgium, df_for_edges_Belgium, stops_cleaned_Belgium)"
   ]
  },
  {
   "cell_type": "code",
   "execution_count": null,
   "metadata": {
    "colab": {
     "base_uri": "https://localhost:8080/",
     "height": 1000
    },
    "executionInfo": {
     "elapsed": 152258,
     "status": "ok",
     "timestamp": 1617437329357,
     "user": {
      "displayName": "Ine Winters",
      "photoUrl": "",
      "userId": "11267554535649979995"
     },
     "user_tz": -120
    },
    "id": "xULOC3DrOt2L",
    "outputId": "c87f1267-6009-4b66-a2c4-2b939ff44e60"
   },
   "outputs": [],
   "source": [
    "route_characteristics_Belgium"
   ]
  },
  {
   "cell_type": "markdown",
   "metadata": {
    "id": "thZ_r9QOOt2P"
   },
   "source": [
    "## Clustering preparation the Netherlands"
   ]
  },
  {
   "cell_type": "code",
   "execution_count": null,
   "metadata": {
    "executionInfo": {
     "elapsed": 152261,
     "status": "ok",
     "timestamp": 1617437329363,
     "user": {
      "displayName": "Ine Winters",
      "photoUrl": "",
      "userId": "11267554535649979995"
     },
     "user_tz": -120
    },
    "id": "eEBASbREtTxW"
   },
   "outputs": [],
   "source": [
    "'''Calculates the subgraph that contains only stops into Netherlands iteself (removes all the stop outside the country)'''\n",
    "dutch_stops = [n for n,v in N.nodes(data=True) if v['country'] == 'Netherlands']\n",
    "N_dutch_stops = N.subgraph(dutch_stops)"
   ]
  },
  {
   "cell_type": "code",
   "execution_count": null,
   "metadata": {
    "executionInfo": {
     "elapsed": 165745,
     "status": "ok",
     "timestamp": 1617437342852,
     "user": {
      "displayName": "Ine Winters",
      "photoUrl": "",
      "userId": "11267554535649979995"
     },
     "user_tz": -120
    },
    "id": "BnGEbtmwOt2Q"
   },
   "outputs": [],
   "source": [
    "route_characteristics_Netherlands = create_route_characteristics(df_for_edges_Netherlands)\n",
    "route_characteristics_Netherlands = put_stations_route_characteristics(N, route_characteristics_Netherlands)\n",
    "route_characteristics_Netherlands = calculate_characteristics(N, route_characteristics_Netherlands)\n",
    "route_characteristics_Netherlands = add_number_stations(route_characteristics_Netherlands)\n",
    "route_characteristics_Netherlands = add_absolute_distance_tt_wt(route_characteristics_Netherlands, dutch_routes_Netherlands)\n",
    "route_characteristics_Netherlands = add_relative_distance (route_characteristics_Netherlands)\n",
    "route_characteristics_Netherlands = add_absolute_distance_begin_end(route_characteristics_Netherlands, df_for_edges_Netherlands, stops_cleaned_Netherlands)"
   ]
  },
  {
   "cell_type": "code",
   "execution_count": null,
   "metadata": {
    "colab": {
     "base_uri": "https://localhost:8080/",
     "height": 1000
    },
    "executionInfo": {
     "elapsed": 165760,
     "status": "ok",
     "timestamp": 1617437342895,
     "user": {
      "displayName": "Ine Winters",
      "photoUrl": "",
      "userId": "11267554535649979995"
     },
     "user_tz": -120
    },
    "id": "JjnNPy44Ot2R",
    "outputId": "1e15f2f8-c472-4419-99e9-a793f162f24a",
    "scrolled": true
   },
   "outputs": [],
   "source": [
    "route_characteristics_Netherlands"
   ]
  },
  {
   "cell_type": "markdown",
   "metadata": {
    "id": "EHGe50UgOt2T"
   },
   "source": [
    "## Clustering preparation the Switzerland"
   ]
  },
  {
   "cell_type": "code",
   "execution_count": null,
   "metadata": {
    "colab": {
     "base_uri": "https://localhost:8080/"
    },
    "executionInfo": {
     "elapsed": 165748,
     "status": "ok",
     "timestamp": 1617437342901,
     "user": {
      "displayName": "Ine Winters",
      "photoUrl": "",
      "userId": "11267554535649979995"
     },
     "user_tz": -120
    },
    "id": "PzbsJJEySkCw",
    "outputId": "d491a8c3-6a60-42c7-825c-e719f89e26d9"
   },
   "outputs": [],
   "source": [
    "len(df_for_edges_Belgium['route_id'].unique())"
   ]
  },
  {
   "cell_type": "code",
   "execution_count": null,
   "metadata": {
    "colab": {
     "base_uri": "https://localhost:8080/"
    },
    "executionInfo": {
     "elapsed": 165736,
     "status": "ok",
     "timestamp": 1617437342904,
     "user": {
      "displayName": "Ine Winters",
      "photoUrl": "",
      "userId": "11267554535649979995"
     },
     "user_tz": -120
    },
    "id": "I-Xx5UCnS1sk",
    "outputId": "a8ddfb46-a1d2-4fab-9936-8a907a46aa2c"
   },
   "outputs": [],
   "source": [
    "len(df_for_edges_Netherlands['route_id'].unique())"
   ]
  },
  {
   "cell_type": "code",
   "execution_count": null,
   "metadata": {
    "colab": {
     "base_uri": "https://localhost:8080/"
    },
    "executionInfo": {
     "elapsed": 165728,
     "status": "ok",
     "timestamp": 1617437342912,
     "user": {
      "displayName": "Ine Winters",
      "photoUrl": "",
      "userId": "11267554535649979995"
     },
     "user_tz": -120
    },
    "id": "YGEU375ZS3j3",
    "outputId": "b9317c0e-4f29-4cd7-dbc9-29dfc148695e"
   },
   "outputs": [],
   "source": [
    "len(df_for_edges_Switzerland['route_id'].unique())"
   ]
  },
  {
   "cell_type": "code",
   "execution_count": null,
   "metadata": {
    "executionInfo": {
     "elapsed": 165736,
     "status": "ok",
     "timestamp": 1617437342922,
     "user": {
      "displayName": "Ine Winters",
      "photoUrl": "",
      "userId": "11267554535649979995"
     },
     "user_tz": -120
    },
    "id": "XSj_OUKBtdSG"
   },
   "outputs": [],
   "source": [
    "'''Calculates the subgraph that contains only stops into Switzerland iteself (removes all the stop outside the country)'''\n",
    "swiss_stops = [n for n,v in S.nodes(data=True) if v['country'] == 'Switzerland']\n",
    "S_swiss_stops = S.subgraph(swiss_stops)"
   ]
  },
  {
   "cell_type": "code",
   "execution_count": null,
   "metadata": {
    "executionInfo": {
     "elapsed": 554010,
     "status": "ok",
     "timestamp": 1617437731199,
     "user": {
      "displayName": "Ine Winters",
      "photoUrl": "",
      "userId": "11267554535649979995"
     },
     "user_tz": -120
    },
    "id": "fIgT7ZM2Ot2V"
   },
   "outputs": [],
   "source": [
    "route_characteristics_Switzerland = create_route_characteristics(df_for_edges_Switzerland)\n",
    "route_characteristics_Switzerland = put_stations_route_characteristics(S, route_characteristics_Switzerland)\n",
    "route_characteristics_Switzerland = calculate_characteristics(S, route_characteristics_Switzerland)\n",
    "route_characteristics_Switzerland = add_number_stations(route_characteristics_Switzerland)\n",
    "route_characteristics_Switzerland = add_absolute_distance_tt_wt(route_characteristics_Switzerland, swiss_routes_Switzerland)\n",
    "route_characteristics_Switzerland = add_relative_distance (route_characteristics_Switzerland)\n",
    "route_characteristics_Switzerland = add_absolute_distance_begin_end(route_characteristics_Switzerland, df_for_edges_Switzerland, stops_cleaned_Switzerland)"
   ]
  },
  {
   "cell_type": "code",
   "execution_count": null,
   "metadata": {
    "colab": {
     "base_uri": "https://localhost:8080/",
     "height": 0
    },
    "executionInfo": {
     "elapsed": 553994,
     "status": "ok",
     "timestamp": 1617437731202,
     "user": {
      "displayName": "Ine Winters",
      "photoUrl": "",
      "userId": "11267554535649979995"
     },
     "user_tz": -120
    },
    "id": "M4u3OBPqOt2W",
    "outputId": "ae664801-d788-4529-ac3b-153733048f99"
   },
   "outputs": [],
   "source": [
    "route_characteristics_Switzerland"
   ]
  },
  {
   "cell_type": "markdown",
   "metadata": {
    "id": "qOU8mVP7XdCv"
   },
   "source": [
    "# Route clustering: NEW"
   ]
  },
  {
   "cell_type": "markdown",
   "metadata": {
    "id": "x6aWWvj0gt3c"
   },
   "source": [
    "The route_id is an identifying but not an explanatory variable and therefore not interesting.\n",
    "\n",
    "The max_degree attribute is chosen because a route that contains a station from which there are many directions of travel may have a longer transfer time at this stop and thus a relatively higher travel_time of the route ceteris paribus.\n",
    "\n",
    "The clustering attribute is not interesting in the context of route clustering. Stations with a high clustering value have immediate neighboring stations that share a link between them. This may indicate that a station is sometimes skipped on this trajectory. However, from the clustering coefficient, it is not possible to tell whether the route represents the route with many or few intermediate stops.\n",
    "\n",
    "The closeness centrality is interesting because stations that have smaller shortests paths lengths to all  other stations are more connected and therefore often more important stations. These important stations have a higher transfer time.\n",
    "\n",
    "The betweenness centrality is interesting because stations that lie more often on the paths between other stations are more connected and therefore often more important stations. These important stations have a higher transfer time.\n",
    "\n",
    "The len_stop_sequence attribute is interesting because a higher number of stops results in a higher total transfer time ceteris paribus.\n",
    "\n",
    "The absolute distance is interesting because trajectories that have a longer length will also typically take more time to travel.\n",
    "\n",
    "The relative distance is not interesting as the scaled absolute distance is the same as the relative distance."
   ]
  },
  {
   "cell_type": "code",
   "execution_count": null,
   "metadata": {
    "colab": {
     "base_uri": "https://localhost:8080/",
     "height": 0
    },
    "executionInfo": {
     "elapsed": 553969,
     "status": "ok",
     "timestamp": 1617437731203,
     "user": {
      "displayName": "Ine Winters",
      "photoUrl": "",
      "userId": "11267554535649979995"
     },
     "user_tz": -120
    },
    "id": "QbapVa0IrRCe",
    "outputId": "da21c1aa-9110-4bf7-be36-650773d8e86a"
   },
   "outputs": [],
   "source": [
    "''' To select the interesting attributes for the clustering '''\n",
    "def select_clustering_attributes(route_characteristics):\n",
    "  clustering_df = route_characteristics[['max_degree', 'max_closeness_centrality', 'max_betweenness_centrality','len_stop_sequence', 'absolute_distance']]\n",
    "  \n",
    "  return clustering_df"
   ]
  },
  {
   "cell_type": "code",
   "execution_count": null,
   "metadata": {
    "colab": {
     "base_uri": "https://localhost:8080/",
     "height": 0
    },
    "executionInfo": {
     "elapsed": 553950,
     "status": "ok",
     "timestamp": 1617437731204,
     "user": {
      "displayName": "Ine Winters",
      "photoUrl": "",
      "userId": "11267554535649979995"
     },
     "user_tz": -120
    },
    "id": "e0nB88EMtLqF",
    "outputId": "53eb5b2c-640f-4b0c-e53d-d5406606298d"
   },
   "outputs": [],
   "source": [
    "''' To scale all attributes such that their values are between 0 and 1 and save the result in a dataframe'''\n",
    "\n",
    "def scale_clustering_attributes_to_df(clustering_df):\n",
    "  scaled_clustering_df = clustering_df.copy()\n",
    "  scaler = MinMaxScaler()\n",
    "  \n",
    "  # To scale the max_degree\n",
    "  scaler.fit(scaled_clustering_df[['max_degree']])\n",
    "  scaled_clustering_df['max_degree'] = scaler.transform(scaled_clustering_df[['max_degree']])\n",
    "\n",
    "  # To scale the max_closeness_centrality\n",
    "  scaler.fit(scaled_clustering_df[['max_closeness_centrality']])\n",
    "  scaled_clustering_df['max_closeness_centrality'] = scaler.transform(scaled_clustering_df[['max_closeness_centrality']])\n",
    "\n",
    "  # To scale the max_betweenness_centrality\n",
    "  scaler.fit(scaled_clustering_df[['max_betweenness_centrality']])\n",
    "  scaled_clustering_df['max_betweenness_centrality'] = scaler.transform(scaled_clustering_df[['max_betweenness_centrality']])\n",
    "\n",
    "  # To scale the len_stop_sequence\n",
    "  scaler.fit(scaled_clustering_df[['len_stop_sequence']])\n",
    "  scaled_clustering_df['len_stop_sequence'] = scaler.transform(scaled_clustering_df[['len_stop_sequence']])\n",
    "\n",
    "  # To scale the absolute distance\n",
    "  scaler.fit(scaled_clustering_df[['absolute_distance']])\n",
    "  scaled_clustering_df['absolute_distance'] = scaler.transform(scaled_clustering_df[['absolute_distance']])\n",
    "\n",
    "  # To verify the ranges of the attributes\n",
    "  scaled_clustering_df.describe()\n",
    "\n",
    "  return scaled_clustering_df"
   ]
  },
  {
   "cell_type": "code",
   "execution_count": null,
   "metadata": {
    "colab": {
     "base_uri": "https://localhost:8080/",
     "height": 0
    },
    "executionInfo": {
     "elapsed": 554390,
     "status": "ok",
     "timestamp": 1617437731669,
     "user": {
      "displayName": "Ine Winters",
      "photoUrl": "",
      "userId": "11267554535649979995"
     },
     "user_tz": -120
    },
    "id": "01vxr_-RunkB",
    "outputId": "bcb71582-6ea7-45d2-dfce-1d05636239ac"
   },
   "outputs": [],
   "source": [
    "''' To scale all attributes such that their values are between 0 and 1 and save the result in an array'''\n",
    "\n",
    "def scale_clustering_attributes_to_arr(clustering_df):\n",
    "\n",
    "  scaler = MinMaxScaler()\n",
    "  # To scale all attributes\n",
    "  scaler.fit(clustering_df)\n",
    "  scaled_clustering_arr = scaler.transform(clustering_df)\n",
    "\n",
    "  return scaled_clustering_arr"
   ]
  },
  {
   "cell_type": "code",
   "execution_count": null,
   "metadata": {
    "colab": {
     "base_uri": "https://localhost:8080/",
     "height": 0
    },
    "executionInfo": {
     "elapsed": 554370,
     "status": "ok",
     "timestamp": 1617437731672,
     "user": {
      "displayName": "Ine Winters",
      "photoUrl": "",
      "userId": "11267554535649979995"
     },
     "user_tz": -120
    },
    "id": "VxGZDU2xStpI",
    "outputId": "8cb465e6-88f8-4248-8f34-74903c1d3881"
   },
   "outputs": [],
   "source": [
    "''' To create a reduced array with two components '''\n",
    "def create_array_two_components(scaled_arr):\n",
    "  # To create the array with the specified amount of desired components from the scaled_clustering_arr\n",
    "  pca = PCA(n_components=2)\n",
    "  pca.fit(scaled_arr)\n",
    "  x_pca = pca.transform(scaled_arr)\n",
    "\n",
    "  return x_pca"
   ]
  },
  {
   "cell_type": "code",
   "execution_count": null,
   "metadata": {
    "colab": {
     "base_uri": "https://localhost:8080/",
     "height": 0
    },
    "executionInfo": {
     "elapsed": 554347,
     "status": "ok",
     "timestamp": 1617437731673,
     "user": {
      "displayName": "Ine Winters",
      "photoUrl": "",
      "userId": "11267554535649979995"
     },
     "user_tz": -120
    },
    "id": "7dtyaoJQTnG4",
    "outputId": "ae9d587c-0196-4196-f25d-28883d34e437"
   },
   "outputs": [],
   "source": [
    "''' To create a PCA plot'''\n",
    "def create_PCA_plot_one_argument(x_pca):\n",
    "  plt.figure(figsize=(8,6))\n",
    "  plt.scatter(x_pca[:,0], x_pca[:,1])\n",
    "  plt.xlabel(\"First principle component\")\n",
    "  plt.ylabel(\"Second principle component\")"
   ]
  },
  {
   "cell_type": "code",
   "execution_count": null,
   "metadata": {
    "colab": {
     "base_uri": "https://localhost:8080/",
     "height": 0
    },
    "executionInfo": {
     "elapsed": 554296,
     "status": "ok",
     "timestamp": 1617437731676,
     "user": {
      "displayName": "Ine Winters",
      "photoUrl": "",
      "userId": "11267554535649979995"
     },
     "user_tz": -120
    },
    "id": "zBwADPVQYQgM",
    "outputId": "51bf3fe5-4c92-4334-9b3c-2757e885b35f"
   },
   "outputs": [],
   "source": [
    "''' To find the optimal number of clusters'''\n",
    "def optimal_number_clusters(scaled_clustering_df):\n",
    "  # The elbow method starts with a certain k and computes the sum of squared errors (sum of the squared distances of points from their cluster centroids).\n",
    "  # Thereafter the elbow method computes this sum of squared errors also for other values of k.\n",
    "  # The optimal k is indicated by the elow on the elbow plot.\n",
    "\n",
    "  # To specify the k range\n",
    "  k_range = range(1,50)\n",
    "\n",
    "  # To introduce the array that will contain the sum of squared errors of all models\n",
    "  sse = []\n",
    "\n",
    "  # For each iteration, a new model is created with the number of clusters equal to k\n",
    "  # The sum of squared error is given by the inertia parameter\n",
    "  for k in k_range:\n",
    "    km = KMeans(n_clusters=k)\n",
    "    km.fit(scaled_clustering_df)\n",
    "    sse.append(km.inertia_)\n",
    "\n",
    "  # To plot the elbow plot\n",
    "  plt.xlabel('k')\n",
    "  plt.ylabel('Sum of squared error')\n",
    "  plt.plot(k_range, sse)\n",
    "\n",
    "  # To calculate the optimal number of clusters\n",
    "  kl = KneeLocator(range(1, 50), sse, curve=\"convex\", direction=\"decreasing\")\n",
    "    \n",
    "  return kl.elbow"
   ]
  },
  {
   "cell_type": "code",
   "execution_count": null,
   "metadata": {
    "colab": {
     "base_uri": "https://localhost:8080/",
     "height": 0
    },
    "executionInfo": {
     "elapsed": 554272,
     "status": "ok",
     "timestamp": 1617437731683,
     "user": {
      "displayName": "Ine Winters",
      "photoUrl": "",
      "userId": "11267554535649979995"
     },
     "user_tz": -120
    },
    "id": "a0wzm2grcixJ",
    "outputId": "14762abf-79fa-46b4-a3e1-478ad94033de"
   },
   "outputs": [],
   "source": [
    "''' To add the cluster group to the scaled_clustering_dfs and the clustering_dfs '''\n",
    "def assign_cluster_group(optimal_number_clusters, clustering_df, scaled_clustering_df, x_pca_clustering_df):\n",
    "  # To apply the clustering prediction\n",
    "  km = KMeans(n_clusters=optimal_number_clusters)\n",
    "  cluster_predicted = km.fit_predict(scaled_clustering_df)\n",
    "\n",
    "  # To add the labels to the dfs\n",
    "  clustering_cluster_groups_df = clustering_df.copy()\n",
    "  clustering_cluster_groups_df['cluster_group'] = cluster_predicted\n",
    "\n",
    "  scaled_clustering_cluster_groups_df = scaled_clustering_df.copy()\n",
    "  scaled_clustering_cluster_groups_df['cluster_group'] = cluster_predicted\n",
    "\n",
    "  x_pca_clustering_cluster_groups_df = x_pca_clustering_df.copy()\n",
    "  x_pca_clustering_cluster_groups_df['cluster_group'] = cluster_predicted\n",
    "\n",
    "  return km, clustering_cluster_groups_df, scaled_clustering_cluster_groups_df, x_pca_clustering_cluster_groups_df"
   ]
  },
  {
   "cell_type": "code",
   "execution_count": null,
   "metadata": {
    "colab": {
     "base_uri": "https://localhost:8080/",
     "height": 0
    },
    "executionInfo": {
     "elapsed": 554251,
     "status": "ok",
     "timestamp": 1617437731693,
     "user": {
      "displayName": "Ine Winters",
      "photoUrl": "",
      "userId": "11267554535649979995"
     },
     "user_tz": -120
    },
    "id": "lFtz83tMcuSd",
    "outputId": "088d0f46-efae-4101-f9a2-505098e8c12f"
   },
   "outputs": [],
   "source": [
    "''' To get the cluster centroids '''\n",
    "def find_cluster_centroids_in_5D(scaled_clustering_cluster_groups):\n",
    "  # To retrieve the scaled attributes and to put them in an array\n",
    "  X_df = scaled_clustering_cluster_groups.drop('cluster_group', axis=1)\n",
    "  X = X_df.to_numpy()\n",
    "\n",
    "  # To retrieve the labels and to put them in an array\n",
    "  Y_df = scaled_clustering_cluster_groups['cluster_group']\n",
    "  Y = Y_df.to_numpy()\n",
    "\n",
    "  clf = NearestCentroid()\n",
    "  clf.fit(X,Y)\n",
    "  \n",
    "  return clf.centroids_"
   ]
  },
  {
   "cell_type": "code",
   "execution_count": null,
   "metadata": {
    "colab": {
     "base_uri": "https://localhost:8080/",
     "height": 0
    },
    "executionInfo": {
     "elapsed": 554205,
     "status": "ok",
     "timestamp": 1617437731695,
     "user": {
      "displayName": "Ine Winters",
      "photoUrl": "",
      "userId": "11267554535649979995"
     },
     "user_tz": -120
    },
    "id": "dsg5DjELcvdD",
    "outputId": "4553c8cb-c224-4175-a290-b78ea0eace38"
   },
   "outputs": [],
   "source": [
    "''' To get the cluster centroids '''\n",
    "def find_cluster_centroids_in_2D(scaled_clustering_cluster_groups):\n",
    "  # To retrieve the scaled attributes and to put them in an array\n",
    "  X_df = scaled_clustering_cluster_groups[['Principal component 1', 'Principal component 2']]\n",
    "  X = X_df.to_numpy()\n",
    "\n",
    "  # To retrieve the labels and to put them in an array\n",
    "  Y_df = scaled_clustering_cluster_groups['cluster_group']\n",
    "  Y = Y_df.to_numpy()\n",
    "\n",
    "  clf = NearestCentroid()\n",
    "  clf.fit(X,Y)\n",
    "  \n",
    "  return clf.centroids_"
   ]
  },
  {
   "cell_type": "code",
   "execution_count": null,
   "metadata": {
    "executionInfo": {
     "elapsed": 554207,
     "status": "ok",
     "timestamp": 1617437731702,
     "user": {
      "displayName": "Ine Winters",
      "photoUrl": "",
      "userId": "11267554535649979995"
     },
     "user_tz": -120
    },
    "id": "wydltuxuega1"
   },
   "outputs": [],
   "source": [
    "def get_cluster_centroids(km):\n",
    "  return km.cluster_centers_"
   ]
  },
  {
   "cell_type": "code",
   "execution_count": null,
   "metadata": {
    "executionInfo": {
     "elapsed": 554203,
     "status": "ok",
     "timestamp": 1617437731704,
     "user": {
      "displayName": "Ine Winters",
      "photoUrl": "",
      "userId": "11267554535649979995"
     },
     "user_tz": -120
    },
    "id": "vC71SK79g_h3"
   },
   "outputs": [],
   "source": [
    "def create_PCA_plot(x_pca, x_pca_centroids, scaled_clustering_cluster_groups_df):\n",
    "  plt.figure(figsize=(8,6))\n",
    "  plt.scatter(x_pca[:,0], x_pca[:,1], c=scaled_clustering_cluster_groups_df['cluster_group'])\n",
    "  plt.scatter(x_pca_centroids[:,0], x_pca_centroids[:,1], color = 'red', marker='*', s=200)\n",
    "  plt.xlabel(\"First principle component\")\n",
    "  plt.ylabel(\"Second principle component\")"
   ]
  },
  {
   "cell_type": "markdown",
   "metadata": {
    "id": "j088bYyrhBH5"
   },
   "source": [
    "## Clustering of Belgium and the Netherlands"
   ]
  },
  {
   "cell_type": "code",
   "execution_count": null,
   "metadata": {
    "colab": {
     "base_uri": "https://localhost:8080/",
     "height": 659
    },
    "executionInfo": {
     "elapsed": 554287,
     "status": "ok",
     "timestamp": 1617437731937,
     "user": {
      "displayName": "Ine Winters",
      "photoUrl": "",
      "userId": "11267554535649979995"
     },
     "user_tz": -120
    },
    "id": "Iy4MzGW5rGcU",
    "outputId": "b675b060-9984-4940-da71-c18cdd09fb54"
   },
   "outputs": [],
   "source": [
    "''' To create the clustering_dfs that contain the interesting attributes for clustering'''\n",
    "clustering_df_Belgium = select_clustering_attributes(route_characteristics_Belgium)\n",
    "clustering_df_Netherlands = select_clustering_attributes(route_characteristics_Netherlands)\n",
    "\n",
    "''' To add a country attribute to the clustering_dfs'''\n",
    "clustering_df_Belgium.loc[:,'country'] = 'Belgium'\n",
    "clustering_df_Netherlands.loc[:,'country'] = 'Netherlands'\n",
    "\n",
    "''' To merge the two clustering_dfs'''\n",
    "clustering_Belgium_Netherlands_df = clustering_df_Belgium.append(clustering_df_Netherlands)\n",
    "\n",
    "# To reset the index\n",
    "clustering_Belgium_Netherlands_df = clustering_Belgium_Netherlands_df.reset_index(drop=True)\n",
    "clustering_Belgium_Netherlands_df"
   ]
  },
  {
   "cell_type": "code",
   "execution_count": null,
   "metadata": {
    "colab": {
     "base_uri": "https://localhost:8080/",
     "height": 1000
    },
    "executionInfo": {
     "elapsed": 554601,
     "status": "ok",
     "timestamp": 1617437732330,
     "user": {
      "displayName": "Ine Winters",
      "photoUrl": "",
      "userId": "11267554535649979995"
     },
     "user_tz": -120
    },
    "id": "yFcWflWws5b0",
    "outputId": "47e4418b-9cc0-4c99-f192-156a147482b2"
   },
   "outputs": [],
   "source": [
    "''' To rescale all numerical attributes of the clustering_Belgium_Netherlands_df '''\n",
    "scaled_clustering_Belgium_Netherlands_df = scale_clustering_attributes_to_df(clustering_Belgium_Netherlands_df)\n",
    "scaled_clustering_Belgium_Netherlands_arr = scale_clustering_attributes_to_arr(clustering_Belgium_Netherlands_df.drop('country', axis=1))\n",
    "scaled_clustering_Belgium_Netherlands_df\n",
    "scaled_clustering_Belgium_Netherlands_arr\n",
    "\n",
    "''' To apply PCA and to go from an array of 5 dimensions to an array of 2 dimensions'''\n",
    "x_pca_clustering_Belgium_Netherlands_arr = create_array_two_components(scaled_clustering_Belgium_Netherlands_arr)\n",
    "x_pca_clustering_Belgium_Netherlands_arr\n",
    "\n",
    "''' To creata a PCA plot from x_pca_clustering_merged'''\n",
    "PCA_plot_before_clustering_Belgium_Netherlands = create_PCA_plot_one_argument(x_pca_clustering_Belgium_Netherlands_arr)\n",
    "PCA_plot_before_clustering_Belgium_Netherlands"
   ]
  },
  {
   "cell_type": "code",
   "execution_count": null,
   "metadata": {
    "colab": {
     "base_uri": "https://localhost:8080/",
     "height": 1000
    },
    "executionInfo": {
     "elapsed": 554985,
     "status": "ok",
     "timestamp": 1617437732734,
     "user": {
      "displayName": "Ine Winters",
      "photoUrl": "",
      "userId": "11267554535649979995"
     },
     "user_tz": -120
    },
    "id": "ARBX3niHSVGh",
    "outputId": "68f0ff04-f548-4e46-ccf8-e4c3bc05789b"
   },
   "outputs": [],
   "source": [
    "''' To split the scaled_clustering_Belgium_Netherlands_df '''\n",
    "scaled_clustering_df_Belgium_from_Belgium_Netherlands = scaled_clustering_Belgium_Netherlands_df[scaled_clustering_Belgium_Netherlands_df['country'] == 'Belgium']\n",
    "scaled_clustering_df_Netherlands_from_Belgium_Netherlands = scaled_clustering_Belgium_Netherlands_df[scaled_clustering_Belgium_Netherlands_df['country'] == 'Netherlands']\n",
    "\n",
    "scaled_clustering_df_Belgium_from_Belgium_Netherlands\n",
    "scaled_clustering_df_Netherlands_from_Belgium_Netherlands\n",
    "\n",
    "''' To convert the x_pca_clustering_merged array to a df and to add the country attribute'''\n",
    "# To convert the x_pca_clustering_merged array to a df\n",
    "x_pca_clustering_Belgium_Netherlands_df = pd.DataFrame({'Principal component 1': x_pca_clustering_Belgium_Netherlands_arr[:, 0], 'Principal component 2': x_pca_clustering_Belgium_Netherlands_arr[:, 1]})\n",
    "\n",
    "# To add the country attribute\n",
    "x_pca_clustering_Belgium_Netherlands_df['country'] = scaled_clustering_Belgium_Netherlands_df['country']\n",
    "x_pca_clustering_Belgium_Netherlands_df\n",
    "\n",
    "''' To split the x_pca_clustering_Belgium_Netherlands_df df into two for both the countries '''\n",
    "x_pca_clustering_df_Belgium_from_Belgium_Netherlands = x_pca_clustering_Belgium_Netherlands_df[x_pca_clustering_Belgium_Netherlands_df['country'] == 'Belgium']\n",
    "x_pca_clustering_df_Netherlands_from_Belgium_Netherlands = x_pca_clustering_Belgium_Netherlands_df[x_pca_clustering_Belgium_Netherlands_df['country'] == 'Netherlands']\n",
    "x_pca_clustering_df_Belgium_from_Belgium_Netherlands\n",
    "x_pca_clustering_df_Netherlands_from_Belgium_Netherlands\n",
    "\n",
    "''' To drop the country attribute and to convert the x_pca_clustering dfs of both countries to an array'''\n",
    "# To drop the country attribute\n",
    "x_pca_clustering_df_Belgium_from_Belgium_Netherlands = x_pca_clustering_df_Belgium_from_Belgium_Netherlands.drop('country', axis=1)\n",
    "x_pca_clustering_df_Netherlands_from_Belgium_Netherlands = x_pca_clustering_df_Netherlands_from_Belgium_Netherlands.drop('country', axis=1)\n",
    "\n",
    "# To convert the x_pca_clustering dfs of both countries to an array\n",
    "x_pca_clustering_arr_Belgium_from_Belgium_Netherlands = x_pca_clustering_df_Belgium_from_Belgium_Netherlands.to_numpy()\n",
    "x_pca_clustering_arr_Netherlands_from_Belgium_Netherlands = x_pca_clustering_df_Netherlands_from_Belgium_Netherlands.to_numpy()\n",
    "\n",
    "x_pca_clustering_arr_Belgium_from_Belgium_Netherlands\n",
    "x_pca_clustering_arr_Netherlands_from_Belgium_Netherlands"
   ]
  },
  {
   "cell_type": "code",
   "execution_count": null,
   "metadata": {
    "colab": {
     "base_uri": "https://localhost:8080/",
     "height": 297
    },
    "executionInfo": {
     "elapsed": 573298,
     "status": "ok",
     "timestamp": 1617437751118,
     "user": {
      "displayName": "Ine Winters",
      "photoUrl": "",
      "userId": "11267554535649979995"
     },
     "user_tz": -120
    },
    "id": "Epu0O5zPXzR4",
    "outputId": "e1a037b0-ffe4-48cf-86ff-bd7bf5d95616"
   },
   "outputs": [],
   "source": [
    "''' To apply the elbow method to get the optimal number of clusters of routes in each railway system'''\n",
    "optimal_number_clusters_Belgium_from_Belgium_Netherlands = optimal_number_clusters(scaled_clustering_df_Belgium_from_Belgium_Netherlands.drop('country', axis=1))\n",
    "optimal_number_clusters_Netherlands_from_Belgium_Netherlands = optimal_number_clusters(scaled_clustering_df_Netherlands_from_Belgium_Netherlands.drop('country', axis=1))\n",
    "\n",
    "optimal_number_clusters_Belgium_from_Belgium_Netherlands\n",
    "optimal_number_clusters_Netherlands_from_Belgium_Netherlands"
   ]
  },
  {
   "cell_type": "code",
   "execution_count": null,
   "metadata": {
    "colab": {
     "base_uri": "https://localhost:8080/",
     "height": 1000
    },
    "executionInfo": {
     "elapsed": 573734,
     "status": "ok",
     "timestamp": 1617437751557,
     "user": {
      "displayName": "Ine Winters",
      "photoUrl": "",
      "userId": "11267554535649979995"
     },
     "user_tz": -120
    },
    "id": "uMRbn4LpVES3",
    "outputId": "1510af31-fcfe-4357-adc6-df4c68969b74"
   },
   "outputs": [],
   "source": [
    "''' To assign the cluster group labels to the non_scaled_5D_df, the scaled_5D_df and the scaled_2D_df'''\n",
    "km_5D_Belgium_from_Belgium_Netherlands, clustering_cluster_groups_5D_Belgium_from_Belgium_Netherlands, scaled_clustering_cluster_groups_5D_Belgium_from_Belgium_Netherlands, scaled_clustering_cluster_groups_2D_Belgium_from_Belgium_Netherlands = assign_cluster_group(optimal_number_clusters_Belgium_from_Belgium_Netherlands, clustering_df_Belgium.drop('country', axis=1), scaled_clustering_df_Belgium_from_Belgium_Netherlands.drop('country', axis=1), x_pca_clustering_df_Belgium_from_Belgium_Netherlands)\n",
    "km_5D_Netherlands_from_Belgium_Netherlands, clustering_cluster_groups_5D_Netherlands_from_Belgium_Netherlands, scaled_clustering_cluster_groups_5D_Netherlands_from_Belgium_Netherlands, scaled_clustering_cluster_groups_2D_Netherlands_from_Belgium_Netherlands = assign_cluster_group(optimal_number_clusters_Netherlands_from_Belgium_Netherlands, clustering_df_Netherlands.drop('country', axis=1), scaled_clustering_df_Netherlands_from_Belgium_Netherlands.drop('country', axis=1), x_pca_clustering_df_Netherlands_from_Belgium_Netherlands)\n",
    "\n",
    "clustering_cluster_groups_5D_Belgium_from_Belgium_Netherlands\n",
    "scaled_clustering_cluster_groups_5D_Belgium_from_Belgium_Netherlands\n",
    "scaled_clustering_cluster_groups_2D_Belgium_from_Belgium_Netherlands\n",
    "clustering_cluster_groups_5D_Netherlands_from_Belgium_Netherlands\n",
    "scaled_clustering_cluster_groups_5D_Netherlands_from_Belgium_Netherlands\n",
    "scaled_clustering_cluster_groups_2D_Netherlands_from_Belgium_Netherlands"
   ]
  },
  {
   "cell_type": "code",
   "execution_count": null,
   "metadata": {
    "colab": {
     "base_uri": "https://localhost:8080/",
     "height": 375
    },
    "executionInfo": {
     "elapsed": 573732,
     "status": "ok",
     "timestamp": 1617437751559,
     "user": {
      "displayName": "Ine Winters",
      "photoUrl": "",
      "userId": "11267554535649979995"
     },
     "user_tz": -120
    },
    "id": "hnHNkBw_YH9o",
    "outputId": "dac694be-450f-4b5e-8b4b-4bc3736837bf"
   },
   "outputs": [],
   "source": [
    "''' To calculate the cluster centroids of the scaled_5D_df and the scaled_2D_df '''\n",
    "cluster_centroids_5D_Belgium_from_Belgium_Netherlands = find_cluster_centroids_in_5D(scaled_clustering_cluster_groups_5D_Belgium_from_Belgium_Netherlands)\n",
    "cluster_centroids_5D_Netherlands_from_Belgium_Netherlands = find_cluster_centroids_in_5D(scaled_clustering_cluster_groups_5D_Netherlands_from_Belgium_Netherlands)\n",
    "cluster_centroids_2D_Belgium_from_Belgium_Netherlands = find_cluster_centroids_in_2D(scaled_clustering_cluster_groups_2D_Belgium_from_Belgium_Netherlands)\n",
    "cluster_centroids_2D_Netherlands_from_Belgium_Netherlands = find_cluster_centroids_in_2D(scaled_clustering_cluster_groups_2D_Netherlands_from_Belgium_Netherlands)\n",
    "\n",
    "cluster_centroids_5D_Belgium_from_Belgium_Netherlands\n",
    "cluster_centroids_5D_Netherlands_from_Belgium_Netherlands\n",
    "cluster_centroids_2D_Belgium_from_Belgium_Netherlands\n",
    "cluster_centroids_2D_Netherlands_from_Belgium_Netherlands\n",
    "\n",
    "# To compare the 5D centroids of the get_cluster_centroids definition to the 5D centroids of the find_cluster_centroids_in_5D definition\n",
    "# These centroids values are almost equal. \n",
    "#centroidtest_5D_scaled = get_cluster_centroids(km_5D_Belgium_from_Belgium_Netherlands)\n",
    "#centroidtest_5D_scaled"
   ]
  },
  {
   "cell_type": "code",
   "execution_count": null,
   "metadata": {
    "colab": {
     "base_uri": "https://localhost:8080/",
     "height": 777
    },
    "executionInfo": {
     "elapsed": 574621,
     "status": "ok",
     "timestamp": 1617437752533,
     "user": {
      "displayName": "Ine Winters",
      "photoUrl": "",
      "userId": "11267554535649979995"
     },
     "user_tz": -120
    },
    "id": "GZcsOLGWhNTR",
    "outputId": "e847acdf-5178-47e8-eafa-24ab7e279f11"
   },
   "outputs": [],
   "source": [
    "''' To make the 2D PCA plot of Belgium with the Belgian cluster centroids'''\n",
    "PCA_plot_clustering_Belgium_from_Belgium_Netherlands_belgian_centroids = create_PCA_plot(x_pca_clustering_arr_Belgium_from_Belgium_Netherlands, cluster_centroids_2D_Belgium_from_Belgium_Netherlands, scaled_clustering_cluster_groups_5D_Belgium_from_Belgium_Netherlands)\n",
    "PCA_plot_clustering_Belgium_from_Belgium_Netherlands_belgian_centroids\n",
    "\n",
    "''' To make the 2D PCA plot of Netherlands with the Dutch cluster centroids'''\n",
    "PCA_plot_clustering_Netherlands_from_Belgium_Netherlands_dutch_centroids = create_PCA_plot(x_pca_clustering_arr_Netherlands_from_Belgium_Netherlands, cluster_centroids_2D_Netherlands_from_Belgium_Netherlands, scaled_clustering_cluster_groups_5D_Netherlands_from_Belgium_Netherlands)\n",
    "PCA_plot_clustering_Netherlands_from_Belgium_Netherlands_dutch_centroids"
   ]
  },
  {
   "cell_type": "code",
   "execution_count": null,
   "metadata": {
    "colab": {
     "base_uri": "https://localhost:8080/",
     "height": 777
    },
    "executionInfo": {
     "elapsed": 574994,
     "status": "ok",
     "timestamp": 1617437752960,
     "user": {
      "displayName": "Ine Winters",
      "photoUrl": "",
      "userId": "11267554535649979995"
     },
     "user_tz": -120
    },
    "id": "elEDeWwee4W1",
    "outputId": "1f60fd81-f42a-4414-a270-ddf4ce97dd23"
   },
   "outputs": [],
   "source": [
    "''' To make the 2D PCA plot of Belgium with the Dutch cluster centroids'''\n",
    "PCA_plot_clustering_Belgium_from_Belgium_Netherlands_dutch_centroids = create_PCA_plot(x_pca_clustering_arr_Belgium_from_Belgium_Netherlands, cluster_centroids_2D_Netherlands_from_Belgium_Netherlands, scaled_clustering_cluster_groups_5D_Belgium_from_Belgium_Netherlands)\n",
    "PCA_plot_clustering_Belgium_from_Belgium_Netherlands_dutch_centroids\n",
    "\n",
    "''' To make the 2D PCA plot of Netherlands with the Belgian cluster centroids'''\n",
    "PCA_plot_clustering_Netherlands_from_Belgium_Netherlands_belgian_centroids = create_PCA_plot(x_pca_clustering_arr_Netherlands_from_Belgium_Netherlands, cluster_centroids_2D_Belgium_from_Belgium_Netherlands, scaled_clustering_cluster_groups_5D_Netherlands_from_Belgium_Netherlands)\n",
    "PCA_plot_clustering_Netherlands_from_Belgium_Netherlands_belgian_centroids"
   ]
  },
  {
   "cell_type": "markdown",
   "metadata": {
    "id": "ZpKkQVWYWfYZ"
   },
   "source": [
    "## Clustering of Belgium and Switzerland"
   ]
  },
  {
   "cell_type": "code",
   "execution_count": null,
   "metadata": {
    "colab": {
     "base_uri": "https://localhost:8080/",
     "height": 659
    },
    "executionInfo": {
     "elapsed": 574883,
     "status": "ok",
     "timestamp": 1617437752964,
     "user": {
      "displayName": "Ine Winters",
      "photoUrl": "",
      "userId": "11267554535649979995"
     },
     "user_tz": -120
    },
    "id": "EJAARS12Whbl",
    "outputId": "1f3666a8-fa67-49fb-9ef3-aa3ebc778007"
   },
   "outputs": [],
   "source": [
    "''' To create the clustering_dfs that contain the interesting attributes for clustering'''\n",
    "clustering_df_Belgium = select_clustering_attributes(route_characteristics_Belgium)\n",
    "clustering_df_Switzerland = select_clustering_attributes(route_characteristics_Switzerland)\n",
    "\n",
    "''' To add a country attribute to the clustering_dfs'''\n",
    "clustering_df_Belgium.loc[:,'country'] = 'Belgium'\n",
    "clustering_df_Switzerland.loc[:,'country'] = 'Switzerland'\n",
    "\n",
    "''' To merge the two clustering_dfs'''\n",
    "clustering_Belgium_Switzerland_df = clustering_df_Belgium.append(clustering_df_Switzerland)\n",
    "\n",
    "# To reset the index\n",
    "clustering_Belgium_Switzerland_df = clustering_Belgium_Switzerland_df.reset_index(drop=True)\n",
    "clustering_Belgium_Switzerland_df"
   ]
  },
  {
   "cell_type": "code",
   "execution_count": null,
   "metadata": {
    "colab": {
     "base_uri": "https://localhost:8080/",
     "height": 1000
    },
    "executionInfo": {
     "elapsed": 575398,
     "status": "ok",
     "timestamp": 1617437753502,
     "user": {
      "displayName": "Ine Winters",
      "photoUrl": "",
      "userId": "11267554535649979995"
     },
     "user_tz": -120
    },
    "id": "l8YZSPF0W-8s",
    "outputId": "c1e55972-605c-4ae2-b803-7b0c2128dd5e"
   },
   "outputs": [],
   "source": [
    "''' To rescale all numerical attributes of the clustering_Belgium_Switzerland_df '''\n",
    "scaled_clustering_Belgium_Switzerland_df = scale_clustering_attributes_to_df(clustering_Belgium_Switzerland_df)\n",
    "scaled_clustering_Belgium_Switzerland_arr = scale_clustering_attributes_to_arr(clustering_Belgium_Switzerland_df.drop('country', axis=1))\n",
    "scaled_clustering_Belgium_Switzerland_df\n",
    "scaled_clustering_Belgium_Switzerland_arr\n",
    "\n",
    "''' To apply PCA and to go from an array of 5 dimensions to an array of 2 dimensions'''\n",
    "x_pca_clustering_Belgium_Switzerland_arr = create_array_two_components(scaled_clustering_Belgium_Switzerland_arr)\n",
    "x_pca_clustering_Belgium_Switzerland_arr\n",
    "\n",
    "''' To creata a PCA plot from x_pca_clustering_merged'''\n",
    "PCA_plot_before_clustering_Belgium_Switzerland = create_PCA_plot_one_argument(x_pca_clustering_Belgium_Switzerland_arr)\n",
    "PCA_plot_before_clustering_Belgium_Switzerland"
   ]
  },
  {
   "cell_type": "code",
   "execution_count": null,
   "metadata": {
    "colab": {
     "base_uri": "https://localhost:8080/",
     "height": 1000
    },
    "executionInfo": {
     "elapsed": 575308,
     "status": "ok",
     "timestamp": 1617437753509,
     "user": {
      "displayName": "Ine Winters",
      "photoUrl": "",
      "userId": "11267554535649979995"
     },
     "user_tz": -120
    },
    "id": "WmR5scwFXv9K",
    "outputId": "0f168578-b9f1-4791-de9a-7343a3b48ed0"
   },
   "outputs": [],
   "source": [
    "''' To split the scaled_clustering_Belgium_Switzerland_df '''\n",
    "scaled_clustering_df_Belgium_from_Belgium_Switzerland = scaled_clustering_Belgium_Switzerland_df[scaled_clustering_Belgium_Switzerland_df['country'] == 'Belgium']\n",
    "scaled_clustering_df_Switzerland_from_Belgium_Switzerland = scaled_clustering_Belgium_Switzerland_df[scaled_clustering_Belgium_Switzerland_df['country'] == 'Switzerland']\n",
    "\n",
    "scaled_clustering_df_Belgium_from_Belgium_Switzerland\n",
    "scaled_clustering_df_Switzerland_from_Belgium_Switzerland\n",
    "\n",
    "''' To convert the x_pca_clustering_merged array to a df and to add the country attribute'''\n",
    "# To convert the x_pca_clustering_merged array to a df\n",
    "x_pca_clustering_Belgium_Switzerland_df = pd.DataFrame({'Principal component 1': x_pca_clustering_Belgium_Switzerland_arr[:, 0], 'Principal component 2': x_pca_clustering_Belgium_Switzerland_arr[:, 1]})\n",
    "\n",
    "# To add the country attribute\n",
    "x_pca_clustering_Belgium_Switzerland_df['country'] = scaled_clustering_Belgium_Switzerland_df['country']\n",
    "x_pca_clustering_Belgium_Switzerland_df\n",
    "\n",
    "''' To split the x_pca_clustering_Belgium_Switzerland_df df into two for both the countries '''\n",
    "x_pca_clustering_df_Belgium_from_Belgium_Switzerland = x_pca_clustering_Belgium_Switzerland_df[x_pca_clustering_Belgium_Switzerland_df['country'] == 'Belgium']\n",
    "x_pca_clustering_df_Switzerland_from_Belgium_Switzerland = x_pca_clustering_Belgium_Switzerland_df[x_pca_clustering_Belgium_Switzerland_df['country'] == 'Switzerland']\n",
    "x_pca_clustering_df_Belgium_from_Belgium_Switzerland\n",
    "x_pca_clustering_df_Switzerland_from_Belgium_Switzerland\n",
    "\n",
    "''' To drop the country attribute and to convert the x_pca_clustering dfs of both countries to an array'''\n",
    "# To drop the country attribute\n",
    "x_pca_clustering_df_Belgium_from_Belgium_Switzerland = x_pca_clustering_df_Belgium_from_Belgium_Switzerland.drop('country', axis=1)\n",
    "x_pca_clustering_df_Switzerland_from_Belgium_Switzerland = x_pca_clustering_df_Switzerland_from_Belgium_Switzerland.drop('country', axis=1)\n",
    "\n",
    "# To convert the x_pca_clustering dfs of both countries to an array\n",
    "x_pca_clustering_arr_Belgium_from_Belgium_Switzerland = x_pca_clustering_df_Belgium_from_Belgium_Switzerland.to_numpy()\n",
    "x_pca_clustering_arr_Switzerland_from_Belgium_Switzerland = x_pca_clustering_df_Switzerland_from_Belgium_Switzerland.to_numpy()\n",
    "\n",
    "x_pca_clustering_arr_Belgium_from_Belgium_Switzerland\n",
    "x_pca_clustering_arr_Switzerland_from_Belgium_Switzerland"
   ]
  },
  {
   "cell_type": "code",
   "execution_count": null,
   "metadata": {
    "colab": {
     "base_uri": "https://localhost:8080/",
     "height": 297
    },
    "executionInfo": {
     "elapsed": 602459,
     "status": "ok",
     "timestamp": 1617437780749,
     "user": {
      "displayName": "Ine Winters",
      "photoUrl": "",
      "userId": "11267554535649979995"
     },
     "user_tz": -120
    },
    "id": "idbmuyt7ZfCL",
    "outputId": "db36a52a-c9e0-4cc8-9bee-b1457ee2ff41"
   },
   "outputs": [],
   "source": [
    "''' To apply the elbow method to get the optimal number of clusters of routes in each railway system'''\n",
    "optimal_number_clusters_Belgium_from_Belgium_Switzerland = optimal_number_clusters(scaled_clustering_df_Belgium_from_Belgium_Switzerland.drop('country', axis=1))\n",
    "optimal_number_clusters_Switzerland_from_Belgium_Switzerland = optimal_number_clusters(scaled_clustering_df_Switzerland_from_Belgium_Switzerland.drop('country', axis=1))\n",
    "\n",
    "optimal_number_clusters_Belgium_from_Belgium_Switzerland\n",
    "optimal_number_clusters_Switzerland_from_Belgium_Switzerland"
   ]
  },
  {
   "cell_type": "code",
   "execution_count": null,
   "metadata": {
    "colab": {
     "base_uri": "https://localhost:8080/",
     "height": 1000
    },
    "executionInfo": {
     "elapsed": 602875,
     "status": "ok",
     "timestamp": 1617437781169,
     "user": {
      "displayName": "Ine Winters",
      "photoUrl": "",
      "userId": "11267554535649979995"
     },
     "user_tz": -120
    },
    "id": "wVOq6wg7amIx",
    "outputId": "dfbd235a-7eb2-4e0a-e2c0-7b9b811a89dd"
   },
   "outputs": [],
   "source": [
    "''' To assign the cluster group labels to the non_scaled_5D_df, the scaled_5D_df and the scaled_2D_df'''\n",
    "km_5D_Belgium_from_Belgium_Switzerland, clustering_cluster_groups_5D_Belgium_from_Belgium_Switzerland, scaled_clustering_cluster_groups_5D_Belgium_from_Belgium_Switzerland, scaled_clustering_cluster_groups_2D_Belgium_from_Belgium_Switzerland = assign_cluster_group(optimal_number_clusters_Belgium_from_Belgium_Switzerland, clustering_df_Belgium.drop('country', axis=1), scaled_clustering_df_Belgium_from_Belgium_Switzerland.drop('country', axis=1), x_pca_clustering_df_Belgium_from_Belgium_Switzerland)\n",
    "km_5D_Switzerland_from_Belgium_Switzerland, clustering_cluster_groups_5D_Switzerland_from_Belgium_Switzerland, scaled_clustering_cluster_groups_5D_Switzerland_from_Belgium_Switzerland, scaled_clustering_cluster_groups_2D_Switzerland_from_Belgium_Switzerland = assign_cluster_group(optimal_number_clusters_Switzerland_from_Belgium_Switzerland, clustering_df_Switzerland.drop('country', axis=1), scaled_clustering_df_Switzerland_from_Belgium_Switzerland.drop('country', axis=1), x_pca_clustering_df_Switzerland_from_Belgium_Switzerland)\n",
    "\n",
    "clustering_cluster_groups_5D_Belgium_from_Belgium_Switzerland\n",
    "scaled_clustering_cluster_groups_5D_Belgium_from_Belgium_Switzerland\n",
    "scaled_clustering_cluster_groups_2D_Belgium_from_Belgium_Switzerland\n",
    "clustering_cluster_groups_5D_Switzerland_from_Belgium_Switzerland\n",
    "scaled_clustering_cluster_groups_5D_Switzerland_from_Belgium_Switzerland\n",
    "scaled_clustering_cluster_groups_2D_Switzerland_from_Belgium_Switzerland"
   ]
  },
  {
   "cell_type": "code",
   "execution_count": null,
   "metadata": {
    "colab": {
     "base_uri": "https://localhost:8080/",
     "height": 341
    },
    "executionInfo": {
     "elapsed": 602855,
     "status": "ok",
     "timestamp": 1617437781179,
     "user": {
      "displayName": "Ine Winters",
      "photoUrl": "",
      "userId": "11267554535649979995"
     },
     "user_tz": -120
    },
    "id": "qvnngWPuc_uT",
    "outputId": "44e84542-705d-4378-803a-3371a2458ea2"
   },
   "outputs": [],
   "source": [
    "''' To calculate the cluster centroids of the scaled_5D_df and the scaled_2D_df '''\n",
    "cluster_centroids_5D_Belgium_from_Belgium_Switzerland = find_cluster_centroids_in_5D(scaled_clustering_cluster_groups_5D_Belgium_from_Belgium_Switzerland)\n",
    "cluster_centroids_5D_Switzerland_from_Belgium_Switzerland = find_cluster_centroids_in_5D(scaled_clustering_cluster_groups_5D_Switzerland_from_Belgium_Switzerland)\n",
    "cluster_centroids_2D_Belgium_from_Belgium_Switzerland = find_cluster_centroids_in_2D(scaled_clustering_cluster_groups_2D_Belgium_from_Belgium_Switzerland)\n",
    "cluster_centroids_2D_Switzerland_from_Belgium_Switzerland = find_cluster_centroids_in_2D(scaled_clustering_cluster_groups_2D_Switzerland_from_Belgium_Switzerland)\n",
    "\n",
    "cluster_centroids_5D_Belgium_from_Belgium_Switzerland\n",
    "cluster_centroids_5D_Switzerland_from_Belgium_Switzerland\n",
    "cluster_centroids_2D_Belgium_from_Belgium_Switzerland\n",
    "cluster_centroids_2D_Switzerland_from_Belgium_Switzerland\n",
    "\n",
    "# To compare the 5D centroids of the get_cluster_centroids definition to the 5D centroids of the find_cluster_centroids_in_5D definition\n",
    "# These centroids values are almost equal. \n",
    "#centroidtest_5D_scaled = get_cluster_centroids(km_5D_Belgium_from_Belgium_Switzerland)\n",
    "#centroidtest_5D_scaled"
   ]
  },
  {
   "cell_type": "code",
   "execution_count": null,
   "metadata": {
    "colab": {
     "base_uri": "https://localhost:8080/",
     "height": 779
    },
    "executionInfo": {
     "elapsed": 603695,
     "status": "ok",
     "timestamp": 1617437782026,
     "user": {
      "displayName": "Ine Winters",
      "photoUrl": "",
      "userId": "11267554535649979995"
     },
     "user_tz": -120
    },
    "id": "Vems4-FidcAU",
    "outputId": "f0f99582-8352-4554-d5d0-6d9d59fd8c1f"
   },
   "outputs": [],
   "source": [
    "''' To make the 2D PCA plot of Belgium with the Belgian cluster centroids'''\n",
    "PCA_plot_clustering_Belgium_from_Belgium_Switzerland_belgian_centroids = create_PCA_plot(x_pca_clustering_arr_Belgium_from_Belgium_Switzerland, cluster_centroids_2D_Belgium_from_Belgium_Switzerland, scaled_clustering_cluster_groups_5D_Belgium_from_Belgium_Switzerland)\n",
    "PCA_plot_clustering_Belgium_from_Belgium_Switzerland_belgian_centroids\n",
    "\n",
    "''' To make the 2D PCA plot of Switzerland with the Swiss cluster centroids'''\n",
    "PCA_plot_clustering_Switzerland_from_Belgium_Switzerland_swiss_centroids = create_PCA_plot(x_pca_clustering_arr_Switzerland_from_Belgium_Switzerland, cluster_centroids_2D_Switzerland_from_Belgium_Switzerland, scaled_clustering_cluster_groups_5D_Switzerland_from_Belgium_Switzerland)\n",
    "PCA_plot_clustering_Switzerland_from_Belgium_Switzerland_swiss_centroids"
   ]
  },
  {
   "cell_type": "code",
   "execution_count": null,
   "metadata": {
    "colab": {
     "base_uri": "https://localhost:8080/",
     "height": 777
    },
    "executionInfo": {
     "elapsed": 604220,
     "status": "ok",
     "timestamp": 1617437782556,
     "user": {
      "displayName": "Ine Winters",
      "photoUrl": "",
      "userId": "11267554535649979995"
     },
     "user_tz": -120
    },
    "id": "VXSOCJd7eEeX",
    "outputId": "16efa4be-6fb5-43eb-b031-db58b41b5f21"
   },
   "outputs": [],
   "source": [
    "''' To make the 2D PCA plot of Belgium with the Swiss cluster centroids'''\n",
    "PCA_plot_clustering_Belgium_from_Belgium_Switzerland_swiss_centroids = create_PCA_plot(x_pca_clustering_arr_Belgium_from_Belgium_Switzerland, cluster_centroids_2D_Switzerland_from_Belgium_Switzerland, scaled_clustering_cluster_groups_5D_Belgium_from_Belgium_Switzerland)\n",
    "PCA_plot_clustering_Belgium_from_Belgium_Switzerland_swiss_centroids\n",
    "\n",
    "''' To make the 2D PCA plot of Switzerland with the Belgian cluster centroids'''\n",
    "PCA_plot_clustering_Switzerland_from_Belgium_Switzerland_belgian_centroids = create_PCA_plot(x_pca_clustering_arr_Switzerland_from_Belgium_Switzerland, cluster_centroids_2D_Belgium_from_Belgium_Switzerland, scaled_clustering_cluster_groups_5D_Switzerland_from_Belgium_Switzerland)\n",
    "PCA_plot_clustering_Switzerland_from_Belgium_Switzerland_belgian_centroids"
   ]
  },
  {
   "cell_type": "markdown",
   "metadata": {
    "id": "Ea3L_LbQetph"
   },
   "source": [
    "## Clustering of the Netherlands and Switzerland"
   ]
  },
  {
   "cell_type": "code",
   "execution_count": null,
   "metadata": {
    "colab": {
     "base_uri": "https://localhost:8080/",
     "height": 659
    },
    "executionInfo": {
     "elapsed": 604222,
     "status": "ok",
     "timestamp": 1617437782562,
     "user": {
      "displayName": "Ine Winters",
      "photoUrl": "",
      "userId": "11267554535649979995"
     },
     "user_tz": -120
    },
    "id": "mYdSKczmevxM",
    "outputId": "66b17fc6-b18c-4f14-f122-536c8f615c23"
   },
   "outputs": [],
   "source": [
    "''' To create the clustering_dfs that contain the interesting attributes for clustering'''\n",
    "clustering_df_Netherlands = select_clustering_attributes(route_characteristics_Netherlands)\n",
    "clustering_df_Switzerland = select_clustering_attributes(route_characteristics_Switzerland)\n",
    "\n",
    "''' To add a country attribute to the clustering_dfs'''\n",
    "clustering_df_Netherlands.loc[:,'country'] = 'Netherlands'\n",
    "clustering_df_Switzerland.loc[:,'country'] = 'Switzerland'\n",
    "\n",
    "''' To merge the two clustering_dfs'''\n",
    "clustering_Netherlands_Switzerland_df = clustering_df_Netherlands.append(clustering_df_Switzerland)\n",
    "\n",
    "# To reset the index\n",
    "clustering_Netherlands_Switzerland_df = clustering_Netherlands_Switzerland_df.reset_index(drop=True)\n",
    "clustering_Netherlands_Switzerland_df"
   ]
  },
  {
   "cell_type": "code",
   "execution_count": null,
   "metadata": {
    "colab": {
     "base_uri": "https://localhost:8080/",
     "height": 0
    },
    "executionInfo": {
     "elapsed": 604644,
     "status": "ok",
     "timestamp": 1617437782989,
     "user": {
      "displayName": "Ine Winters",
      "photoUrl": "",
      "userId": "11267554535649979995"
     },
     "user_tz": -120
    },
    "id": "t3jgV_93gdi1",
    "outputId": "969ddb6d-970b-457e-9c6c-f92d073cb050"
   },
   "outputs": [],
   "source": [
    "''' To rescale all numerical attributes of the clustering_Netherlands_Switzerland_df '''\n",
    "scaled_clustering_Netherlands_Switzerland_df = scale_clustering_attributes_to_df(clustering_Netherlands_Switzerland_df)\n",
    "scaled_clustering_Netherlands_Switzerland_arr = scale_clustering_attributes_to_arr(clustering_Netherlands_Switzerland_df.drop('country', axis=1))\n",
    "scaled_clustering_Netherlands_Switzerland_df\n",
    "scaled_clustering_Netherlands_Switzerland_arr\n",
    "\n",
    "''' To apply PCA and to go from an array of 5 dimensions to an array of 2 dimensions'''\n",
    "x_pca_clustering_Netherlands_Switzerland_arr = create_array_two_components(scaled_clustering_Netherlands_Switzerland_arr)\n",
    "x_pca_clustering_Netherlands_Switzerland_arr\n",
    "\n",
    "''' To creata a PCA plot from x_pca_clustering_merged'''\n",
    "PCA_plot_before_clustering_Netherlands_Switzerland = create_PCA_plot_one_argument(x_pca_clustering_Netherlands_Switzerland_arr)\n",
    "PCA_plot_before_clustering_Netherlands_Switzerland"
   ]
  },
  {
   "cell_type": "code",
   "execution_count": null,
   "metadata": {
    "colab": {
     "base_uri": "https://localhost:8080/",
     "height": 1000
    },
    "executionInfo": {
     "elapsed": 604643,
     "status": "ok",
     "timestamp": 1617437782992,
     "user": {
      "displayName": "Ine Winters",
      "photoUrl": "",
      "userId": "11267554535649979995"
     },
     "user_tz": -120
    },
    "id": "DBoiIhnvg3vD",
    "outputId": "4bc9ff0e-6bc0-4c15-bfd6-0ed16f359881"
   },
   "outputs": [],
   "source": [
    "''' To split the scaled_clustering_Netherlands_Switzerland_df '''\n",
    "scaled_clustering_df_Netherlands_from_Netherlands_Switzerland = scaled_clustering_Netherlands_Switzerland_df[scaled_clustering_Netherlands_Switzerland_df['country'] == 'Netherlands']\n",
    "scaled_clustering_df_Switzerland_from_Netherlands_Switzerland = scaled_clustering_Netherlands_Switzerland_df[scaled_clustering_Netherlands_Switzerland_df['country'] == 'Switzerland']\n",
    "\n",
    "scaled_clustering_df_Netherlands_from_Netherlands_Switzerland\n",
    "scaled_clustering_df_Switzerland_from_Netherlands_Switzerland\n",
    "\n",
    "''' To convert the x_pca_clustering_merged array to a df and to add the country attribute'''\n",
    "# To convert the x_pca_clustering_merged array to a df\n",
    "x_pca_clustering_Netherlands_Switzerland_df = pd.DataFrame({'Principal component 1': x_pca_clustering_Netherlands_Switzerland_arr[:, 0], 'Principal component 2': x_pca_clustering_Netherlands_Switzerland_arr[:, 1]})\n",
    "\n",
    "# To add the country attribute\n",
    "x_pca_clustering_Netherlands_Switzerland_df['country'] = scaled_clustering_Netherlands_Switzerland_df['country']\n",
    "x_pca_clustering_Netherlands_Switzerland_df\n",
    "\n",
    "''' To split the x_pca_clustering_Netherlands_Switzerland_df df into two for both the countries '''\n",
    "x_pca_clustering_df_Netherlands_from_Netherlands_Switzerland = x_pca_clustering_Netherlands_Switzerland_df[x_pca_clustering_Netherlands_Switzerland_df['country'] == 'Netherlands']\n",
    "x_pca_clustering_df_Switzerland_from_Netherlands_Switzerland = x_pca_clustering_Netherlands_Switzerland_df[x_pca_clustering_Netherlands_Switzerland_df['country'] == 'Switzerland']\n",
    "x_pca_clustering_df_Netherlands_from_Netherlands_Switzerland\n",
    "x_pca_clustering_df_Switzerland_from_Netherlands_Switzerland\n",
    "\n",
    "''' To drop the country attribute and to convert the x_pca_clustering dfs of both countries to an array'''\n",
    "# To drop the country attribute\n",
    "x_pca_clustering_df_Netherlands_from_Netherlands_Switzerland = x_pca_clustering_df_Netherlands_from_Netherlands_Switzerland.drop('country', axis=1)\n",
    "x_pca_clustering_df_Switzerland_from_Netherlands_Switzerland = x_pca_clustering_df_Switzerland_from_Netherlands_Switzerland.drop('country', axis=1)\n",
    "\n",
    "# To convert the x_pca_clustering dfs of both countries to an array\n",
    "x_pca_clustering_arr_Netherlands_from_Netherlands_Switzerland = x_pca_clustering_df_Netherlands_from_Netherlands_Switzerland.to_numpy()\n",
    "x_pca_clustering_arr_Switzerland_from_Netherlands_Switzerland = x_pca_clustering_df_Switzerland_from_Netherlands_Switzerland.to_numpy()\n",
    "\n",
    "x_pca_clustering_arr_Netherlands_from_Netherlands_Switzerland\n",
    "x_pca_clustering_arr_Switzerland_from_Netherlands_Switzerland"
   ]
  },
  {
   "cell_type": "code",
   "execution_count": null,
   "metadata": {
    "colab": {
     "base_uri": "https://localhost:8080/",
     "height": 297
    },
    "executionInfo": {
     "elapsed": 630193,
     "status": "ok",
     "timestamp": 1617437808578,
     "user": {
      "displayName": "Ine Winters",
      "photoUrl": "",
      "userId": "11267554535649979995"
     },
     "user_tz": -120
    },
    "id": "p2CH06eKi3f5",
    "outputId": "971b0537-0900-40bd-e177-bef1b2090790"
   },
   "outputs": [],
   "source": [
    "''' To apply the elbow method to get the optimal number of clusters of routes in each railway system'''\n",
    "optimal_number_clusters_Netherlands_from_Netherlands_Switzerland = optimal_number_clusters(scaled_clustering_df_Netherlands_from_Netherlands_Switzerland.drop('country', axis=1))\n",
    "optimal_number_clusters_Switzerland_from_Netherlands_Switzerland = optimal_number_clusters(scaled_clustering_df_Switzerland_from_Netherlands_Switzerland.drop('country', axis=1))\n",
    "\n",
    "optimal_number_clusters_Netherlands_from_Netherlands_Switzerland\n",
    "optimal_number_clusters_Switzerland_from_Netherlands_Switzerland"
   ]
  },
  {
   "cell_type": "code",
   "execution_count": null,
   "metadata": {
    "colab": {
     "base_uri": "https://localhost:8080/",
     "height": 1000
    },
    "executionInfo": {
     "elapsed": 630249,
     "status": "ok",
     "timestamp": 1617437808935,
     "user": {
      "displayName": "Ine Winters",
      "photoUrl": "",
      "userId": "11267554535649979995"
     },
     "user_tz": -120
    },
    "id": "Sw7eprr0jTxt",
    "outputId": "e488233b-70ee-46be-9cac-ed8f8416187e"
   },
   "outputs": [],
   "source": [
    "''' To assign the cluster group labels to the non_scaled_5D_df, the scaled_5D_df and the scaled_2D_df'''\n",
    "km_5D_Netherlands_from_Netherlands_Switzerland, clustering_cluster_groups_5D_Netherlands_from_Netherlands_Switzerland, scaled_clustering_cluster_groups_5D_Netherlands_from_Netherlands_Switzerland, scaled_clustering_cluster_groups_2D_Netherlands_from_Netherlands_Switzerland = assign_cluster_group(optimal_number_clusters_Netherlands_from_Netherlands_Switzerland, clustering_df_Netherlands.drop('country', axis=1), scaled_clustering_df_Netherlands_from_Netherlands_Switzerland.drop('country', axis=1), x_pca_clustering_df_Netherlands_from_Netherlands_Switzerland)\n",
    "km_5D_Switzerland_from_Netherlands_Switzerland, clustering_cluster_groups_5D_Switzerland_from_Netherlands_Switzerland, scaled_clustering_cluster_groups_5D_Switzerland_from_Netherlands_Switzerland, scaled_clustering_cluster_groups_2D_Switzerland_from_Netherlands_Switzerland = assign_cluster_group(optimal_number_clusters_Switzerland_from_Netherlands_Switzerland, clustering_df_Switzerland.drop('country', axis=1), scaled_clustering_df_Switzerland_from_Netherlands_Switzerland.drop('country', axis=1), x_pca_clustering_df_Switzerland_from_Netherlands_Switzerland)\n",
    "\n",
    "clustering_cluster_groups_5D_Netherlands_from_Netherlands_Switzerland\n",
    "scaled_clustering_cluster_groups_5D_Netherlands_from_Netherlands_Switzerland\n",
    "scaled_clustering_cluster_groups_2D_Netherlands_from_Netherlands_Switzerland\n",
    "clustering_cluster_groups_5D_Switzerland_from_Netherlands_Switzerland\n",
    "scaled_clustering_cluster_groups_5D_Switzerland_from_Netherlands_Switzerland\n",
    "scaled_clustering_cluster_groups_2D_Switzerland_from_Netherlands_Switzerland"
   ]
  },
  {
   "cell_type": "code",
   "execution_count": null,
   "metadata": {
    "colab": {
     "base_uri": "https://localhost:8080/",
     "height": 409
    },
    "executionInfo": {
     "elapsed": 630309,
     "status": "ok",
     "timestamp": 1617437809210,
     "user": {
      "displayName": "Ine Winters",
      "photoUrl": "",
      "userId": "11267554535649979995"
     },
     "user_tz": -120
    },
    "id": "a9onTvNEkOMt",
    "outputId": "931cc444-bc9e-4cf8-8214-c2e91481987c"
   },
   "outputs": [],
   "source": [
    "''' To calculate the cluster centroids of the scaled_5D_df and the scaled_2D_df '''\n",
    "cluster_centroids_5D_Netherlands_from_Netherlands_Switzerland = find_cluster_centroids_in_5D(scaled_clustering_cluster_groups_5D_Netherlands_from_Netherlands_Switzerland)\n",
    "cluster_centroids_5D_Switzerland_from_Netherlands_Switzerland = find_cluster_centroids_in_5D(scaled_clustering_cluster_groups_5D_Switzerland_from_Netherlands_Switzerland)\n",
    "cluster_centroids_2D_Netherlands_from_Netherlands_Switzerland = find_cluster_centroids_in_2D(scaled_clustering_cluster_groups_2D_Netherlands_from_Netherlands_Switzerland)\n",
    "cluster_centroids_2D_Switzerland_from_Netherlands_Switzerland = find_cluster_centroids_in_2D(scaled_clustering_cluster_groups_2D_Switzerland_from_Netherlands_Switzerland)\n",
    "\n",
    "cluster_centroids_5D_Netherlands_from_Netherlands_Switzerland\n",
    "cluster_centroids_5D_Switzerland_from_Netherlands_Switzerland\n",
    "cluster_centroids_2D_Netherlands_from_Netherlands_Switzerland\n",
    "cluster_centroids_2D_Switzerland_from_Netherlands_Switzerland\n",
    "\n",
    "# To compare the 5D centroids of the get_cluster_centroids definition to the 5D centroids of the find_cluster_centroids_in_5D definition\n",
    "# These centroids values are almost equal. \n",
    "#centroidtest_5D_scaled = get_cluster_centroids(km_5D_Netherlands_from_Netherlands_Switzerland)\n",
    "#centroidtest_5D_scaled"
   ]
  },
  {
   "cell_type": "code",
   "execution_count": null,
   "metadata": {
    "colab": {
     "base_uri": "https://localhost:8080/",
     "height": 795
    },
    "executionInfo": {
     "elapsed": 630572,
     "status": "ok",
     "timestamp": 1617437810064,
     "user": {
      "displayName": "Ine Winters",
      "photoUrl": "",
      "userId": "11267554535649979995"
     },
     "user_tz": -120
    },
    "id": "PRUOOUNrkuZP",
    "outputId": "daccd6e1-b56c-478c-f508-6b5ca8c72249"
   },
   "outputs": [],
   "source": [
    "''' To make the 2D PCA plot of the Netherlands with the Dutch cluster centroids'''\n",
    "PCA_plot_clustering_Netherlands_from_Netherlands_Switzerland_dutch_centroids = create_PCA_plot(x_pca_clustering_arr_Netherlands_from_Netherlands_Switzerland, cluster_centroids_2D_Netherlands_from_Netherlands_Switzerland, scaled_clustering_cluster_groups_5D_Netherlands_from_Netherlands_Switzerland)\n",
    "PCA_plot_clustering_Netherlands_from_Netherlands_Switzerland_dutch_centroids\n",
    "\n",
    "''' To make the 2D PCA plot of Switzerland with the Swiss cluster centroids'''\n",
    "PCA_plot_clustering_Switzerland_from_Netherlands_Switzerland_swiss_centroids = create_PCA_plot(x_pca_clustering_arr_Switzerland_from_Netherlands_Switzerland, cluster_centroids_2D_Switzerland_from_Netherlands_Switzerland, scaled_clustering_cluster_groups_5D_Switzerland_from_Netherlands_Switzerland)\n",
    "PCA_plot_clustering_Switzerland_from_Netherlands_Switzerland_swiss_centroids"
   ]
  },
  {
   "cell_type": "code",
   "execution_count": null,
   "metadata": {
    "colab": {
     "base_uri": "https://localhost:8080/",
     "height": 795
    },
    "executionInfo": {
     "elapsed": 631267,
     "status": "ok",
     "timestamp": 1617437810936,
     "user": {
      "displayName": "Ine Winters",
      "photoUrl": "",
      "userId": "11267554535649979995"
     },
     "user_tz": -120
    },
    "id": "Jeu4b2bvlZ1p",
    "outputId": "b7c7b52f-948b-4fd1-eb44-3e72f2311f66"
   },
   "outputs": [],
   "source": [
    "''' To make the 2D PCA plot of Netherlands with the Swiss cluster centroids'''\n",
    "PCA_plot_clustering_Netherlands_from_Netherlands_Switzerland_swiss_centroids = create_PCA_plot(x_pca_clustering_arr_Netherlands_from_Netherlands_Switzerland, cluster_centroids_2D_Switzerland_from_Netherlands_Switzerland, scaled_clustering_cluster_groups_5D_Netherlands_from_Netherlands_Switzerland)\n",
    "PCA_plot_clustering_Netherlands_from_Netherlands_Switzerland_swiss_centroids\n",
    "\n",
    "''' To make the 2D PCA plot of Switzerland with the Belgian cluster centroids'''\n",
    "PCA_plot_clustering_Switzerland_from_Netherlands_Switzerland_dutch_centroids = create_PCA_plot(x_pca_clustering_arr_Switzerland_from_Netherlands_Switzerland, cluster_centroids_2D_Netherlands_from_Netherlands_Switzerland, scaled_clustering_cluster_groups_5D_Switzerland_from_Netherlands_Switzerland)\n",
    "PCA_plot_clustering_Switzerland_from_Netherlands_Switzerland_dutch_centroids"
   ]
  },
  {
   "cell_type": "markdown",
   "metadata": {
    "id": "AMUAi4s2rNqb"
   },
   "source": [
    "## K-nearest neighbor method"
   ]
  },
  {
   "cell_type": "code",
   "execution_count": null,
   "metadata": {
    "colab": {
     "base_uri": "https://localhost:8080/",
     "height": 35
    },
    "executionInfo": {
     "elapsed": 631254,
     "status": "ok",
     "timestamp": 1617437810944,
     "user": {
      "displayName": "Ine Winters",
      "photoUrl": "",
      "userId": "11267554535649979995"
     },
     "user_tz": -120
    },
    "id": "2AaAi1bnoOVI",
    "outputId": "48e1b4da-a882-4547-d20b-9a16c0aabdc6"
   },
   "outputs": [],
   "source": [
    "''' To drop the country attribute from the scaled_clustering_df and to convert the result to an array'''\n",
    "def get_array_routes_other_country(scaled_clustering_df):\n",
    "  scaled_clustering_arr = scaled_clustering_df.drop('country', axis=1)\n",
    "  scaled_clustering_arr = scaled_clustering_arr.to_numpy()\n",
    "\n",
    "  return scaled_clustering_arr"
   ]
  },
  {
   "cell_type": "code",
   "execution_count": null,
   "metadata": {
    "colab": {
     "base_uri": "https://localhost:8080/",
     "height": 35
    },
    "executionInfo": {
     "elapsed": 631225,
     "status": "ok",
     "timestamp": 1617437810955,
     "user": {
      "displayName": "Ine Winters",
      "photoUrl": "",
      "userId": "11267554535649979995"
     },
     "user_tz": -120
    },
    "id": "tJZjPFDAod8k",
    "outputId": "8a9f6b53-fdd9-4764-a0a9-e02120eb3d76"
   },
   "outputs": [],
   "source": [
    "'''To split the first centroid in the cluster_centroids_5D array off from the other centroids in that array '''\n",
    "def split_off_the_first_centroid(cluster_centroids_5D):\n",
    "  first_centroid = cluster_centroids_5D[:1]\n",
    "  other_centroids = cluster_centroids_5D[1:]\n",
    "\n",
    "  return first_centroid, other_centroids"
   ]
  },
  {
   "cell_type": "code",
   "execution_count": null,
   "metadata": {
    "colab": {
     "base_uri": "https://localhost:8080/",
     "height": 35
    },
    "executionInfo": {
     "elapsed": 631212,
     "status": "ok",
     "timestamp": 1617437810959,
     "user": {
      "displayName": "Ine Winters",
      "photoUrl": "",
      "userId": "11267554535649979995"
     },
     "user_tz": -120
    },
    "id": "-sZQcBDbhWCM",
    "outputId": "a9c4ccb9-f634-4348-ac5c-a0449db14444"
   },
   "outputs": [],
   "source": [
    "''' To get the array that contains the k nearest neighbors of one centroid'''\n",
    "def get_k_nearest_neighbors_of_centroid(centroid_routes, nearest, k):\n",
    "  for j in nearest[:, 1:k+1]:\n",
    "      return centroid_routes[j]"
   ]
  },
  {
   "cell_type": "code",
   "execution_count": null,
   "metadata": {
    "colab": {
     "base_uri": "https://localhost:8080/",
     "height": 35
    },
    "executionInfo": {
     "elapsed": 631207,
     "status": "ok",
     "timestamp": 1617437810961,
     "user": {
      "displayName": "Ine Winters",
      "photoUrl": "",
      "userId": "11267554535649979995"
     },
     "user_tz": -120
    },
    "id": "qsgPoj2thtro",
    "outputId": "2f3067f5-c285-409b-94b8-1371d768466b"
   },
   "outputs": [],
   "source": [
    "''' To get the list of indices that correspond to the indices of the k nearest neighbors of one centroid in the route_characteristics df'''\n",
    "def get_indices_k_nearest_neighbors_of_centroid(nearest, k):\n",
    "  list_indices = []\n",
    "  for i in nearest[0, 1:k+1]:\n",
    "    list_indices.append(i-1)\n",
    "\n",
    "  return list_indices"
   ]
  },
  {
   "cell_type": "code",
   "execution_count": null,
   "metadata": {
    "colab": {
     "base_uri": "https://localhost:8080/",
     "height": 52
    },
    "executionInfo": {
     "elapsed": 631098,
     "status": "ok",
     "timestamp": 1617437810969,
     "user": {
      "displayName": "Ine Winters",
      "photoUrl": "",
      "userId": "11267554535649979995"
     },
     "user_tz": -120
    },
    "id": "gzAPIyTYiMaK",
    "outputId": "c48ed625-867d-417c-e957-aada2ab90861"
   },
   "outputs": [],
   "source": [
    "''' To create the nearest array that contains for each array element an index that corresponds to an array element index of the centroid_routes_arr together \n",
    "with the k-nearest neighbor indices of the array element indices of the centroid_routes_arr'''\n",
    "def to_get_k_nearest_neighbors_of_centroid(centroid_routes_arr):\n",
    "  D = distance.squareform(distance.pdist(centroid_routes_arr))\n",
    "  nearest = np.argsort(D, axis=1)\n",
    "\n",
    "  nearest_neighbors_centroid = get_k_nearest_neighbors_of_centroid(centroid_routes_arr, nearest, 5)\n",
    "  list_indices_nearest_neighbors = get_indices_k_nearest_neighbors_of_centroid(nearest, 5)\n",
    "\n",
    "  return nearest_neighbors_centroid, list_indices_nearest_neighbors"
   ]
  },
  {
   "cell_type": "code",
   "execution_count": null,
   "metadata": {
    "colab": {
     "base_uri": "https://localhost:8080/",
     "height": 35
    },
    "executionInfo": {
     "elapsed": 631040,
     "status": "ok",
     "timestamp": 1617437810971,
     "user": {
      "displayName": "Ine Winters",
      "photoUrl": "",
      "userId": "11267554535649979995"
     },
     "user_tz": -120
    },
    "id": "WsO7q6fpknKs",
    "outputId": "ddac8074-97fe-43ac-ba4b-f2c022fcdb9c"
   },
   "outputs": [],
   "source": [
    "''' To concatenate the array that contains one centroid with the array that contains the scaled route characteristics of the routes of another country'''\n",
    "def to_get_array_centroid_routes(first_centroid, scaled_clustering_arr):\n",
    "  centroid_routes_arr = np.concatenate((first_centroid, scaled_clustering_arr), axis=0)\n",
    "\n",
    "  return centroid_routes_arr"
   ]
  },
  {
   "cell_type": "code",
   "execution_count": null,
   "metadata": {
    "colab": {
     "base_uri": "https://localhost:8080/",
     "height": 52
    },
    "executionInfo": {
     "elapsed": 630990,
     "status": "ok",
     "timestamp": 1617437810974,
     "user": {
      "displayName": "Ine Winters",
      "photoUrl": "",
      "userId": "11267554535649979995"
     },
     "user_tz": -120
    },
    "id": "BHV9fWCBk4et",
    "outputId": "d0ad654b-53a4-4601-8b17-39c3ad0b5816"
   },
   "outputs": [],
   "source": [
    "''' To activate the definition that add the cluster centroid as the first array element of the array that contains the other routes and\n",
    "to activate the definitions to get the k-nearest neighbors of a centroid as well as the indices of the nearest neighbors in the route_characteristics df'''\n",
    "def find_k_nearest_neighbors_of_one_centroid(first_centroid, scaled_clustering_arr):\n",
    "  centroid_routes_arr = to_get_array_centroid_routes(first_centroid, scaled_clustering_arr)\n",
    "  nearest_neighbors_centroid, list_indices_nearest_neighbors = to_get_k_nearest_neighbors_of_centroid(centroid_routes_arr)\n",
    "  \n",
    "  return nearest_neighbors_centroid, list_indices_nearest_neighbors"
   ]
  },
  {
   "cell_type": "code",
   "execution_count": null,
   "metadata": {
    "colab": {
     "base_uri": "https://localhost:8080/",
     "height": 35
    },
    "executionInfo": {
     "elapsed": 630986,
     "status": "ok",
     "timestamp": 1617437810977,
     "user": {
      "displayName": "Ine Winters",
      "photoUrl": "",
      "userId": "11267554535649979995"
     },
     "user_tz": -120
    },
    "id": "ODDZ8jr_lsJX",
    "outputId": "4ae90b16-bd79-420e-c316-9ad850d1d4d8"
   },
   "outputs": [],
   "source": [
    "''' To find the nearest_neighbors of all centroids and to find the indices of these nearest_neighbors'''\n",
    "def find_k_nearest_neighbors_of_all_centroids(cluster_centroids_5D, scaled_clustering_df):\n",
    "  centroids_list = []\n",
    "  nearest_neighbors_list = []\n",
    "  indices_nearest_neighbors_list = []\n",
    "  number_of_cluster_centroids = len(cluster_centroids_5D)\n",
    "  print(\"Number of centroids:\", number_of_cluster_centroids)\n",
    "  other_centroids = cluster_centroids_5D.copy()\n",
    "  scaled_clustering_arr = get_array_routes_other_country(scaled_clustering_df)\n",
    "  for i in range(0, number_of_cluster_centroids):\n",
    "    centroid, other_centroids = split_off_the_first_centroid(other_centroids)\n",
    "    nearest_neighbors_centroid, list_indices_nearest_neighbors = find_k_nearest_neighbors_of_one_centroid(centroid, scaled_clustering_arr)\n",
    "    nearest_neighbors_list.append(nearest_neighbors_centroid)\n",
    "    indices_nearest_neighbors_list.append(list_indices_nearest_neighbors)\n",
    "    centroids_list.append(centroid)    \n",
    "\n",
    "  return nearest_neighbors_list, indices_nearest_neighbors_list, centroids_list"
   ]
  },
  {
   "cell_type": "code",
   "execution_count": null,
   "metadata": {
    "colab": {
     "base_uri": "https://localhost:8080/",
     "height": 35
    },
    "executionInfo": {
     "elapsed": 630945,
     "status": "ok",
     "timestamp": 1617437810979,
     "user": {
      "displayName": "Ine Winters",
      "photoUrl": "",
      "userId": "11267554535649979995"
     },
     "user_tz": -120
    },
    "id": "1Vp5lsJRkZXK",
    "outputId": "f59cef4f-f59f-45c9-97b9-714b79806e7a"
   },
   "outputs": [],
   "source": [
    "''' To find the nearest neighbors of all centroids and their corresponding route_ids'''\n",
    "def search_k_nearest_neighbors_of_centroids(cluster_centroids_5D, scaled_clustering_df, route_characteristics):\n",
    "  nearest_neighbors_list, indices_nearest_neighbors_list, centroids_list = find_k_nearest_neighbors_of_all_centroids(cluster_centroids_5D, scaled_clustering_df)\n",
    "  k_nearest_neighbors_df = pd.DataFrame(index=range(len(centroids_list)),columns=['centroid', 'nearest_neighbors_centroid', 'route_ids_nearest_neighbors'])\n",
    "  for nr_centroid, centroid in enumerate(centroids_list):\n",
    "    #centroid_list = centroid.flatten().tolist()\n",
    "    k_nearest_neighbors_df.loc[nr_centroid,'centroid'] = centroid\n",
    "    k_nearest_neighbors_df.loc[nr_centroid, 'nearest_neighbors_centroid'] = nearest_neighbors_list[nr_centroid]\n",
    "    sublist = indices_nearest_neighbors_list[nr_centroid]\n",
    "    list_route_ids = []\n",
    "    for listelement in sublist:\n",
    "      route_id = route_characteristics.loc[listelement,'route_id']\n",
    "      list_route_ids.append(route_id)\n",
    "      k_nearest_neighbors_df.loc[nr_centroid, 'route_ids_nearest_neighbors'] = list_route_ids\n",
    "    \n",
    "  return k_nearest_neighbors_df"
   ]
  },
  {
   "cell_type": "markdown",
   "metadata": {
    "id": "Z8Eu5JnQrJQa"
   },
   "source": [
    "### Belgian centroids and Dutch routes"
   ]
  },
  {
   "cell_type": "code",
   "execution_count": null,
   "metadata": {
    "colab": {
     "base_uri": "https://localhost:8080/",
     "height": 252
    },
    "executionInfo": {
     "elapsed": 630895,
     "status": "ok",
     "timestamp": 1617437810980,
     "user": {
      "displayName": "Ine Winters",
      "photoUrl": "",
      "userId": "11267554535649979995"
     },
     "user_tz": -120
    },
    "id": "eAgF3utcrNmk",
    "outputId": "40b1f2db-03c3-4c4e-e8e0-ece5127eba0c"
   },
   "outputs": [],
   "source": [
    "k_nearest_neighbors_df_belgian_centroids_dutch_routes = search_k_nearest_neighbors_of_centroids(cluster_centroids_5D_Belgium_from_Belgium_Netherlands, scaled_clustering_df_Netherlands_from_Belgium_Netherlands, route_characteristics_Netherlands)\n",
    "k_nearest_neighbors_df_belgian_centroids_dutch_routes"
   ]
  },
  {
   "cell_type": "markdown",
   "metadata": {
    "id": "RN5I_QQQu0Jo"
   },
   "source": [
    "### Dutch centroids and Belgian routes"
   ]
  },
  {
   "cell_type": "code",
   "execution_count": null,
   "metadata": {
    "colab": {
     "base_uri": "https://localhost:8080/",
     "height": 252
    },
    "executionInfo": {
     "elapsed": 631265,
     "status": "ok",
     "timestamp": 1617437811353,
     "user": {
      "displayName": "Ine Winters",
      "photoUrl": "",
      "userId": "11267554535649979995"
     },
     "user_tz": -120
    },
    "id": "ajR95vpIux_u",
    "outputId": "d12a6976-2b9b-4359-838e-c04b4900de0c"
   },
   "outputs": [],
   "source": [
    "k_nearest_neighbors_df_dutch_centroids_belgian_routes = search_k_nearest_neighbors_of_centroids(cluster_centroids_5D_Netherlands_from_Belgium_Netherlands, scaled_clustering_df_Belgium_from_Belgium_Netherlands, route_characteristics_Belgium)\n",
    "k_nearest_neighbors_df_dutch_centroids_belgian_routes"
   ]
  },
  {
   "cell_type": "markdown",
   "metadata": {
    "id": "DFzj9quXvK8P"
   },
   "source": [
    "### Belgian centroids and Swiss routes"
   ]
  },
  {
   "cell_type": "code",
   "execution_count": null,
   "metadata": {
    "colab": {
     "base_uri": "https://localhost:8080/",
     "height": 0
    },
    "executionInfo": {
     "elapsed": 631964,
     "status": "ok",
     "timestamp": 1617437812058,
     "user": {
      "displayName": "Ine Winters",
      "photoUrl": "",
      "userId": "11267554535649979995"
     },
     "user_tz": -120
    },
    "id": "YOTip6g9vV6T",
    "outputId": "fad568a4-7d4d-439b-e145-32012505700a"
   },
   "outputs": [],
   "source": [
    "k_nearest_neighbors_df_belgian_centroids_swiss_routes = search_k_nearest_neighbors_of_centroids(cluster_centroids_5D_Belgium_from_Belgium_Switzerland, scaled_clustering_df_Switzerland_from_Belgium_Switzerland, route_characteristics_Switzerland)\n",
    "k_nearest_neighbors_df_belgian_centroids_swiss_routes"
   ]
  },
  {
   "cell_type": "markdown",
   "metadata": {
    "id": "GzXasYRuvxxu"
   },
   "source": [
    "### Swiss centroids and Belgian routes"
   ]
  },
  {
   "cell_type": "code",
   "execution_count": null,
   "metadata": {
    "colab": {
     "base_uri": "https://localhost:8080/",
     "height": 0
    },
    "executionInfo": {
     "elapsed": 632259,
     "status": "ok",
     "timestamp": 1617437812358,
     "user": {
      "displayName": "Ine Winters",
      "photoUrl": "",
      "userId": "11267554535649979995"
     },
     "user_tz": -120
    },
    "id": "-q42-ffFv1K_",
    "outputId": "95d9f2c7-784d-4d94-b956-95a29c893af2"
   },
   "outputs": [],
   "source": [
    "k_nearest_neighbors_df_swiss_centroids_belgian_routes = search_k_nearest_neighbors_of_centroids(cluster_centroids_5D_Switzerland_from_Belgium_Switzerland, scaled_clustering_df_Belgium_from_Belgium_Switzerland, route_characteristics_Belgium)\n",
    "k_nearest_neighbors_df_swiss_centroids_belgian_routes"
   ]
  },
  {
   "cell_type": "markdown",
   "metadata": {
    "id": "U8dH8e1Nw8FH"
   },
   "source": [
    "### Dutch centroids and Swiss routes"
   ]
  },
  {
   "cell_type": "code",
   "execution_count": null,
   "metadata": {
    "colab": {
     "base_uri": "https://localhost:8080/",
     "height": 0
    },
    "executionInfo": {
     "elapsed": 634429,
     "status": "ok",
     "timestamp": 1617437814532,
     "user": {
      "displayName": "Ine Winters",
      "photoUrl": "",
      "userId": "11267554535649979995"
     },
     "user_tz": -120
    },
    "id": "WAv5mbgzxGIS",
    "outputId": "fb139b12-f6b4-4287-e5c1-9ad3f6999836"
   },
   "outputs": [],
   "source": [
    "k_nearest_neighbors_df_dutch_centroids_swiss_routes = search_k_nearest_neighbors_of_centroids(cluster_centroids_5D_Netherlands_from_Netherlands_Switzerland, scaled_clustering_df_Switzerland_from_Netherlands_Switzerland, route_characteristics_Switzerland)\n",
    "k_nearest_neighbors_df_dutch_centroids_swiss_routes"
   ]
  },
  {
   "cell_type": "markdown",
   "metadata": {
    "id": "BcHfwsQvxah4"
   },
   "source": [
    "### Swiss centroids and dutch routes"
   ]
  },
  {
   "cell_type": "code",
   "execution_count": null,
   "metadata": {
    "colab": {
     "base_uri": "https://localhost:8080/",
     "height": 252
    },
    "executionInfo": {
     "elapsed": 634417,
     "status": "ok",
     "timestamp": 1617437814544,
     "user": {
      "displayName": "Ine Winters",
      "photoUrl": "",
      "userId": "11267554535649979995"
     },
     "user_tz": -120
    },
    "id": "pPwDHS1gxdjj",
    "outputId": "70d9052a-a873-4459-fd28-c3c73cbe51e4"
   },
   "outputs": [],
   "source": [
    "k_nearest_neighbors_df_swiss_centroids_dutch_routes = search_k_nearest_neighbors_of_centroids(cluster_centroids_5D_Switzerland_from_Netherlands_Switzerland, scaled_clustering_df_Netherlands_from_Netherlands_Switzerland, route_characteristics_Netherlands)\n",
    "k_nearest_neighbors_df_swiss_centroids_dutch_routes"
   ]
  },
  {
   "cell_type": "markdown",
   "metadata": {
    "id": "USI8BxnkNd9U"
   },
   "source": [
    "# Travel time comparison"
   ]
  },
  {
   "cell_type": "code",
   "execution_count": null,
   "metadata": {
    "colab": {
     "base_uri": "https://localhost:8080/",
     "height": 35
    },
    "executionInfo": {
     "elapsed": 634761,
     "status": "ok",
     "timestamp": 1617437814904,
     "user": {
      "displayName": "Ine Winters",
      "photoUrl": "",
      "userId": "11267554535649979995"
     },
     "user_tz": -120
    },
    "id": "0XYL4lZHvG9n",
    "outputId": "71da9755-f763-4351-ed5b-e51046f3771b"
   },
   "outputs": [],
   "source": [
    "''' To add a new avg_travel_time_centroid attribute to the df'''\n",
    "def add_avg_travel_time_centroid(scaled_clustering_cluster_groups_df, route_characteristics, routes_country, k_nearest_neighbors_df):\n",
    "  # To add the route_id attribute from the route_characteristics_df to the scaled_clustering_cluster_groups_5D_df\n",
    "  travel_time_clustering_cluster_groups_df = scaled_clustering_cluster_groups_df.copy()\n",
    "  travel_time_clustering_cluster_groups_df = travel_time_clustering_cluster_groups_df.reset_index(drop=True)\n",
    "  travel_time_clustering_cluster_groups_df['route_id'] = route_characteristics['route_id']\n",
    "\n",
    "  # To merge the country_routes df with the travel_time_clustering_cluster_groups_df on route_id to get the average travel time of a route\n",
    "  travel_time_clustering_cluster_groups_df = pd.merge(routes_country[['route_id', 'travel_time']], travel_time_clustering_cluster_groups_df, on='route_id')\n",
    "\n",
    "  # To drop the route_id attribute\n",
    "  travel_time_clustering_cluster_groups_df = travel_time_clustering_cluster_groups_df.drop('route_id', axis=1)\n",
    "  \n",
    "  # To search for the centroid values of the travel_time for each cluster\n",
    "  travel_time_centroids_arr = find_cluster_centroids_in_5D(travel_time_clustering_cluster_groups_df)\n",
    "\n",
    "  # To add the average travel times of the centroids in a list\n",
    "  list_avg_travel_time_centroids = []\n",
    "  travel_time_centroids_list = travel_time_centroids_arr.tolist()\n",
    "  for sublist in travel_time_centroids_list:\n",
    "    avg_travel_time_centroid = sublist[0]\n",
    "    list_avg_travel_time_centroids.append(avg_travel_time_centroid)\n",
    "\n",
    "  # To add the list_avg_travel_time_centroids as a new attribute of the df\n",
    "  travel_time_df = k_nearest_neighbors_df.copy()\n",
    "  travel_time_df['avg_travel_time_centroid'] = list_avg_travel_time_centroids\n",
    "  \n",
    "  return travel_time_df"
   ]
  },
  {
   "cell_type": "code",
   "execution_count": null,
   "metadata": {
    "colab": {
     "base_uri": "https://localhost:8080/",
     "height": 35
    },
    "executionInfo": {
     "elapsed": 634795,
     "status": "ok",
     "timestamp": 1617437814943,
     "user": {
      "displayName": "Ine Winters",
      "photoUrl": "",
      "userId": "11267554535649979995"
     },
     "user_tz": -120
    },
    "id": "OLxQJhLyvF6g",
    "outputId": "21c6aec6-3980-4dc5-f093-f33c918b4d2a"
   },
   "outputs": [],
   "source": [
    "''' To add a new avg_travel_time_nearest_neighbors_centroid attribute to the df'''\n",
    "def add_avg_travel_time_nearest_neighbors_centroid(travel_time_df_1, routes_country):\n",
    "  # To copy the travel_time_df_1 and to add a new attribute avg_travel_time_nearest_neighbors_centroid\n",
    "  travel_time_df = travel_time_df_1.copy()\n",
    "  travel_time_df['avg_travel_time_nearest_neighbors_centroid'] = \"\"\n",
    "\n",
    "  # To loop over the row indices of the travel_time_df\n",
    "  for row in range(len(travel_time_df)):\n",
    "    # To select the route_ids_nearest_neighbors attribute value of that row\n",
    "    list_route_ids_nearest_neighbors = travel_time_df.loc[row, 'route_ids_nearest_neighbors']\n",
    "    # To create an empty list list_avg_travel_time_nearest_neighbors_centroid\n",
    "    list_avg_travel_time_nearest_neighbors_centroid = []\n",
    "    # To loop over all elements in the list_route_ids_nearest_neighbors\n",
    "    for route_id in list_route_ids_nearest_neighbors:\n",
    "      # To search for the corresponding average travel time of this route_id\n",
    "      avg_travel_time = routes_country.loc[routes_country['route_id'] == route_id, 'travel_time'].iloc[0]\n",
    "      # To add the corresponding average travel time of the route to the list_avg_travel_time_nearest_neighbors_centroids\n",
    "      list_avg_travel_time_nearest_neighbors_centroid.append(avg_travel_time)\n",
    "    # To add the list_avg_travel_time_nearest_neighbors_centroid as a new value in the avg_travel_time_nearest_neighbors_centroid column\n",
    "    travel_time_df.at[row, 'avg_travel_time_nearest_neighbors_centroid'] = list_avg_travel_time_nearest_neighbors_centroid\n",
    "    \n",
    "  return travel_time_df"
   ]
  },
  {
   "cell_type": "code",
   "execution_count": null,
   "metadata": {
    "executionInfo": {
     "elapsed": 634793,
     "status": "ok",
     "timestamp": 1617437814946,
     "user": {
      "displayName": "Ine Winters",
      "photoUrl": "",
      "userId": "11267554535649979995"
     },
     "user_tz": -120
    },
    "id": "dXJz_8Ai0wJQ"
   },
   "outputs": [],
   "source": [
    "def get_the_average_travel_time(scaled_clustering_cluster_groups_df, route_characteristics, k_nearest_neighbors_df, routes_centroid_country, routes_non_centroid_country):\n",
    "  travel_time_df_1 = add_avg_travel_time_centroid(scaled_clustering_cluster_groups_df, route_characteristics, routes_centroid_country, k_nearest_neighbors_df)\n",
    "  travel_time_df = add_avg_travel_time_nearest_neighbors_centroid(travel_time_df_1, routes_non_centroid_country)\n",
    "\n",
    "  return travel_time_df"
   ]
  },
  {
   "cell_type": "markdown",
   "metadata": {
    "id": "0N7pgdL41I19"
   },
   "source": [
    "Belgian centroids and dutch routes"
   ]
  },
  {
   "cell_type": "code",
   "execution_count": null,
   "metadata": {
    "colab": {
     "base_uri": "https://localhost:8080/",
     "height": 439
    },
    "executionInfo": {
     "elapsed": 634652,
     "status": "ok",
     "timestamp": 1617437814949,
     "user": {
      "displayName": "Ine Winters",
      "photoUrl": "",
      "userId": "11267554535649979995"
     },
     "user_tz": -120
    },
    "id": "KoRCfC1n0Uck",
    "outputId": "772b2330-cdb1-4487-b1aa-88a9de3d82d0"
   },
   "outputs": [],
   "source": [
    "travel_time_df_belgian_centroids_dutch_routes = get_the_average_travel_time(scaled_clustering_cluster_groups_5D_Belgium_from_Belgium_Netherlands, route_characteristics_Belgium, k_nearest_neighbors_df_belgian_centroids_dutch_routes, belgian_routes_Belgium, dutch_routes_Netherlands)\n",
    "travel_time_df_belgian_centroids_dutch_routes"
   ]
  },
  {
   "cell_type": "markdown",
   "metadata": {
    "id": "QSWkGC021KhT"
   },
   "source": [
    "Dutch centroids and belgian routes"
   ]
  },
  {
   "cell_type": "code",
   "execution_count": null,
   "metadata": {
    "colab": {
     "base_uri": "https://localhost:8080/",
     "height": 439
    },
    "executionInfo": {
     "elapsed": 634640,
     "status": "ok",
     "timestamp": 1617437814959,
     "user": {
      "displayName": "Ine Winters",
      "photoUrl": "",
      "userId": "11267554535649979995"
     },
     "user_tz": -120
    },
    "id": "eWCkGHC61OXX",
    "outputId": "8b44de6a-b751-4f40-f7ed-7926da1f1ffb"
   },
   "outputs": [],
   "source": [
    "travel_time_df_dutch_centroids_belgian_routes = get_the_average_travel_time(scaled_clustering_cluster_groups_5D_Netherlands_from_Belgium_Netherlands, route_characteristics_Netherlands, k_nearest_neighbors_df_dutch_centroids_belgian_routes, dutch_routes_Netherlands, belgian_routes_Belgium)\n",
    "travel_time_df_dutch_centroids_belgian_routes"
   ]
  },
  {
   "cell_type": "markdown",
   "metadata": {
    "id": "aMVdJIfJ5pQ-"
   },
   "source": [
    "Belgian centroids and Swiss routes"
   ]
  },
  {
   "cell_type": "code",
   "execution_count": null,
   "metadata": {
    "colab": {
     "base_uri": "https://localhost:8080/",
     "height": 374
    },
    "executionInfo": {
     "elapsed": 634591,
     "status": "ok",
     "timestamp": 1617437814962,
     "user": {
      "displayName": "Ine Winters",
      "photoUrl": "",
      "userId": "11267554535649979995"
     },
     "user_tz": -120
    },
    "id": "u7l5AOs86XBn",
    "outputId": "828a93d5-3e9d-4255-9468-3f80f8c989ff"
   },
   "outputs": [],
   "source": [
    "travel_time_df_belgian_centroids_swiss_routes = get_the_average_travel_time(scaled_clustering_cluster_groups_5D_Belgium_from_Belgium_Switzerland, route_characteristics_Belgium, k_nearest_neighbors_df_belgian_centroids_swiss_routes, belgian_routes_Belgium, swiss_routes_Switzerland)\n",
    "travel_time_df_belgian_centroids_swiss_routes"
   ]
  },
  {
   "cell_type": "markdown",
   "metadata": {
    "id": "D9tRHsm57GLD"
   },
   "source": [
    "Swiss centroids and Belgian routes"
   ]
  },
  {
   "cell_type": "code",
   "execution_count": null,
   "metadata": {
    "colab": {
     "base_uri": "https://localhost:8080/",
     "height": 459
    },
    "executionInfo": {
     "elapsed": 634743,
     "status": "ok",
     "timestamp": 1617437815239,
     "user": {
      "displayName": "Ine Winters",
      "photoUrl": "",
      "userId": "11267554535649979995"
     },
     "user_tz": -120
    },
    "id": "0BRRoa8E7JU9",
    "outputId": "f29c3f1e-82bc-45ad-cb09-d70387f3e154"
   },
   "outputs": [],
   "source": [
    "travel_time_df_swiss_centroids_belgian_routes = get_the_average_travel_time(scaled_clustering_cluster_groups_5D_Switzerland_from_Belgium_Switzerland, route_characteristics_Switzerland, k_nearest_neighbors_df_swiss_centroids_belgian_routes, swiss_routes_Switzerland, belgian_routes_Belgium)\n",
    "travel_time_df_swiss_centroids_belgian_routes"
   ]
  },
  {
   "cell_type": "markdown",
   "metadata": {
    "id": "Oq9GjroQ7hYK"
   },
   "source": [
    "Dutch centroids and Swiss routes"
   ]
  },
  {
   "cell_type": "code",
   "execution_count": null,
   "metadata": {
    "colab": {
     "base_uri": "https://localhost:8080/",
     "height": 524
    },
    "executionInfo": {
     "elapsed": 634725,
     "status": "ok",
     "timestamp": 1617437815243,
     "user": {
      "displayName": "Ine Winters",
      "photoUrl": "",
      "userId": "11267554535649979995"
     },
     "user_tz": -120
    },
    "id": "TcStyICn7l8R",
    "outputId": "1f5cb9c8-cab0-46e5-fe1d-4321e194a628"
   },
   "outputs": [],
   "source": [
    "travel_time_df_dutch_centroids_swiss_routes = get_the_average_travel_time(scaled_clustering_cluster_groups_5D_Netherlands_from_Netherlands_Switzerland, route_characteristics_Netherlands, k_nearest_neighbors_df_dutch_centroids_swiss_routes, dutch_routes_Netherlands, swiss_routes_Switzerland)\n",
    "travel_time_df_dutch_centroids_swiss_routes"
   ]
  },
  {
   "cell_type": "markdown",
   "metadata": {
    "id": "AW13R5N876cu"
   },
   "source": [
    "Swiss centroids and dutch routes"
   ]
  },
  {
   "cell_type": "code",
   "execution_count": null,
   "metadata": {
    "colab": {
     "base_uri": "https://localhost:8080/",
     "height": 459
    },
    "executionInfo": {
     "elapsed": 634672,
     "status": "ok",
     "timestamp": 1617437815255,
     "user": {
      "displayName": "Ine Winters",
      "photoUrl": "",
      "userId": "11267554535649979995"
     },
     "user_tz": -120
    },
    "id": "ddmB0pEt783a",
    "outputId": "ea89cbd8-5a6f-4360-d731-83405d912e51"
   },
   "outputs": [],
   "source": [
    "travel_time_df_swiss_centroids_dutch_routes = get_the_average_travel_time(scaled_clustering_cluster_groups_5D_Switzerland_from_Netherlands_Switzerland, route_characteristics_Switzerland, k_nearest_neighbors_df_swiss_centroids_dutch_routes, swiss_routes_Switzerland, dutch_routes_Netherlands)\n",
    "travel_time_df_swiss_centroids_dutch_routes"
   ]
  },
  {
   "cell_type": "markdown",
   "metadata": {
    "id": "SAogNKM4SUFb"
   },
   "source": [
    "# NEW: to search the k-nearest neighbors of the country of the centroid as wwell"
   ]
  },
  {
   "cell_type": "code",
   "execution_count": null,
   "metadata": {
    "colab": {
     "base_uri": "https://localhost:8080/",
     "height": 0
    },
    "executionInfo": {
     "elapsed": 634856,
     "status": "ok",
     "timestamp": 1617437815443,
     "user": {
      "displayName": "Ine Winters",
      "photoUrl": "",
      "userId": "11267554535649979995"
     },
     "user_tz": -120
    },
    "id": "J5Ra_Reu2j1B",
    "outputId": "f9ef9919-230f-4499-8cba-49b52c0ae241"
   },
   "outputs": [],
   "source": [
    "k_nearest_neighbors_df_belgian_centroids_belgian_routes = search_k_nearest_neighbors_of_centroids(cluster_centroids_5D_Belgium_from_Belgium_Netherlands, scaled_clustering_df_Belgium_from_Belgium_Netherlands, route_characteristics_Belgium)\n",
    "k_nearest_neighbors_df_belgian_centroids_belgian_routes"
   ]
  },
  {
   "cell_type": "code",
   "execution_count": null,
   "metadata": {
    "colab": {
     "base_uri": "https://localhost:8080/",
     "height": 1000
    },
    "executionInfo": {
     "elapsed": 635233,
     "status": "ok",
     "timestamp": 1617437815823,
     "user": {
      "displayName": "Ine Winters",
      "photoUrl": "",
      "userId": "11267554535649979995"
     },
     "user_tz": -120
    },
    "id": "408XAR6k42y6",
    "outputId": "fafbfc77-893c-4d71-ffca-f0f4a6f2dc8e"
   },
   "outputs": [],
   "source": [
    "# Belgische centroids met Nederlandse routes\n",
    "search_k_nearest_neighbors_of_centroids(cluster_centroids_5D_Belgium_from_Belgium_Netherlands, scaled_clustering_df_Netherlands_from_Belgium_Netherlands, route_characteristics_Netherlands)\n",
    "get_the_average_travel_time(scaled_clustering_cluster_groups_5D_Belgium_from_Belgium_Netherlands, route_characteristics_Belgium, k_nearest_neighbors_df_belgian_centroids_dutch_routes, belgian_routes_Belgium, dutch_routes_Netherlands)\n",
    "\n",
    "# Belgische centroids met Belgische routes\n",
    "search_k_nearest_neighbors_of_centroids(cluster_centroids_5D_Belgium_from_Belgium_Netherlands, scaled_clustering_df_Belgium_from_Belgium_Netherlands, route_characteristics_Belgium)\n",
    "get_the_average_travel_time(scaled_clustering_cluster_groups_5D_Belgium_from_Belgium_Netherlands, route_characteristics_Belgium, k_nearest_neighbors_df_belgian_centroids_belgian_routes, belgian_routes_Belgium, belgian_routes_Belgium)"
   ]
  },
  {
   "cell_type": "markdown",
   "metadata": {
    "id": "m53BmOlRrV9P"
   },
   "source": [
    "# Werkt nog niet met definitie ! De versie zonder definitie gebruiken"
   ]
  },
  {
   "cell_type": "code",
   "execution_count": null,
   "metadata": {
    "colab": {
     "base_uri": "https://localhost:8080/",
     "height": 35
    },
    "executionInfo": {
     "elapsed": 635236,
     "status": "ok",
     "timestamp": 1617437815830,
     "user": {
      "displayName": "Ine Winters",
      "photoUrl": "",
      "userId": "11267554535649979995"
     },
     "user_tz": -120
    },
    "id": "xH-D86GbsE14",
    "outputId": "f03c0646-57c7-4cb3-de45-3e9ca896a3c9"
   },
   "outputs": [],
   "source": [
    "''' To get a dataframe with the nearest neighbors and the avg_travel_time of these nearest neighbors'''\n",
    "def get_nearest_neighbors_and_average_travel_time(cluster_centroids_5D_df, scaled_clustering_df_non_centroid_country, route_characteristics_not_country_centroid, scaled_clustering_cluster_groups_5D_df, route_characteristics_country_centroid, routes_country_centroid, routes_not_country_centroid):\n",
    "  k_nearest_neighbors_df = search_k_nearest_neighbors_of_centroids(cluster_centroids_5D_df, scaled_clustering_df_non_centroid_country, route_characteristics_not_country_centroid)\n",
    "  travel_time_df = get_the_average_travel_time(scaled_clustering_cluster_groups_5D_df, route_characteristics_country_centroid, k_nearest_neighbors_df, routes_country_centroid, routes_not_country_centroid)\n",
    "\n",
    "  return travel_time_df"
   ]
  },
  {
   "cell_type": "code",
   "execution_count": null,
   "metadata": {
    "executionInfo": {
     "elapsed": 635232,
     "status": "ok",
     "timestamp": 1617437815834,
     "user": {
      "displayName": "Ine Winters",
      "photoUrl": "",
      "userId": "11267554535649979995"
     },
     "user_tz": -120
    },
    "id": "AEYesgPRrX01"
   },
   "outputs": [],
   "source": [
    "def get_nearest_neighbors_two_countries(cluster_centroids_5D_df, scaled_clustering_df_not_country_centroid, route_characteristics_not_country_centroid, scaled_clustering_cluster_groups_5D_df, route_characteristics_country_centroid, routes_country_centroid, routes_not_country_centroid, scaled_clustering_df_country_centroid):\n",
    "  travel_time_df_not_country_centroid_neighbors = get_nearest_neighbors_and_average_travel_time(cluster_centroids_5D_df, scaled_clustering_df_not_country_centroid, route_characteristics_not_country_centroid, scaled_clustering_cluster_groups_5D_df, route_characteristics_country_centroid, routes_country_centroid, routes_not_country_centroid)\n",
    "  travel_time_df_country_centroid_neighbors = get_nearest_neighbors_and_average_travel_time(cluster_centroids_5D_df, scaled_clustering_df_country_centroid, route_characteristics_country_centroid, scaled_clustering_cluster_groups_5D_df, route_characteristics_country_centroid, routes_country_centroid, routes_country_centroid)\n",
    "\n",
    "  return travel_time_df_not_country_centroid_neighbors, travel_time_df_country_centroid_neighbors"
   ]
  },
  {
   "cell_type": "code",
   "execution_count": null,
   "metadata": {
    "colab": {
     "base_uri": "https://localhost:8080/",
     "height": 0
    },
    "executionInfo": {
     "elapsed": 635518,
     "status": "ok",
     "timestamp": 1617437816143,
     "user": {
      "displayName": "Ine Winters",
      "photoUrl": "",
      "userId": "11267554535649979995"
     },
     "user_tz": -120
    },
    "id": "z4W4vOairkNg",
    "outputId": "0ce50830-ed82-4b4d-f643-9216785dc770"
   },
   "outputs": [],
   "source": [
    "travel_time_df_belgian_centroids_dutch_routes, travel_time_df_belgian_centroids_belgian_routes = get_nearest_neighbors_two_countries(cluster_centroids_5D_Belgium_from_Belgium_Netherlands, scaled_clustering_df_Netherlands_from_Belgium_Netherlands, route_characteristics_Netherlands, scaled_clustering_cluster_groups_5D_Belgium_from_Belgium_Netherlands, route_characteristics_Belgium, belgian_routes_Belgium, dutch_routes_Netherlands, scaled_clustering_df_Netherlands_from_Belgium_Netherlands)\n",
    "travel_time_df_belgian_centroids_dutch_routes\n",
    "travel_time_df_belgian_centroids_belgian_routes"
   ]
  },
  {
   "cell_type": "markdown",
   "metadata": {
    "id": "hXDNCaIqu55r"
   },
   "source": [
    "# Werkt hieronder maar geen definitie gebruikt"
   ]
  },
  {
   "cell_type": "markdown",
   "metadata": {
    "id": "As8FSAIYxRqB"
   },
   "source": [
    "Belgian centroids + Dutch and Belgian nearest neighbors"
   ]
  },
  {
   "cell_type": "code",
   "execution_count": null,
   "metadata": {
    "executionInfo": {
     "elapsed": 635514,
     "status": "ok",
     "timestamp": 1617437816144,
     "user": {
      "displayName": "Ine Winters",
      "photoUrl": "",
      "userId": "11267554535649979995"
     },
     "user_tz": -120
    },
    "id": "7Bzcqq1IvSZE"
   },
   "outputs": [],
   "source": [
    "# Belgian centroids + Dutch nearest neighbors\n",
    "travel_time_df_belgian_centroids_dutch_routes = get_the_average_travel_time(scaled_clustering_cluster_groups_5D_Belgium_from_Belgium_Netherlands, route_characteristics_Belgium, k_nearest_neighbors_df_belgian_centroids_dutch_routes, belgian_routes_Belgium, dutch_routes_Netherlands)\n",
    "#travel_time_df_belgian_centroids_dutch_routes"
   ]
  },
  {
   "cell_type": "code",
   "execution_count": null,
   "metadata": {
    "colab": {
     "base_uri": "https://localhost:8080/"
    },
    "executionInfo": {
     "elapsed": 635724,
     "status": "ok",
     "timestamp": 1617437816375,
     "user": {
      "displayName": "Ine Winters",
      "photoUrl": "",
      "userId": "11267554535649979995"
     },
     "user_tz": -120
    },
    "id": "6oBNjUsGSVIv",
    "outputId": "eeca5836-b401-4aa8-e2c3-60e4078ac007"
   },
   "outputs": [],
   "source": [
    "#focus op Belgische routes vanaf hier\n",
    "k_nearest_neighbors_df_belgian_centroids_belgian_routes_from_Belgium_Netherlands = search_k_nearest_neighbors_of_centroids(cluster_centroids_5D_Belgium_from_Belgium_Netherlands, scaled_clustering_df_Belgium_from_Belgium_Netherlands, route_characteristics_Belgium)\n",
    "#k_nearest_neighbors_df_belgian_centroids_belgian_routes_from_Belgium_Netherlands"
   ]
  },
  {
   "cell_type": "code",
   "execution_count": null,
   "metadata": {
    "executionInfo": {
     "elapsed": 635722,
     "status": "ok",
     "timestamp": 1617437816381,
     "user": {
      "displayName": "Ine Winters",
      "photoUrl": "",
      "userId": "11267554535649979995"
     },
     "user_tz": -120
    },
    "id": "kTNZlmWrSxKe"
   },
   "outputs": [],
   "source": [
    "travel_time_df_belgian_centroids_belgian_routes_from_Belgium_Netherlands = get_the_average_travel_time(scaled_clustering_cluster_groups_5D_Belgium_from_Belgium_Netherlands, route_characteristics_Belgium, k_nearest_neighbors_df_belgian_centroids_belgian_routes_from_Belgium_Netherlands, belgian_routes_Belgium, belgian_routes_Belgium)\n",
    "#travel_time_df_belgian_centroids_belgian_routes_from_Belgium_Netherlands"
   ]
  },
  {
   "cell_type": "code",
   "execution_count": null,
   "metadata": {
    "colab": {
     "base_uri": "https://localhost:8080/",
     "height": 0
    },
    "executionInfo": {
     "elapsed": 635718,
     "status": "ok",
     "timestamp": 1617437816383,
     "user": {
      "displayName": "Ine Winters",
      "photoUrl": "",
      "userId": "11267554535649979995"
     },
     "user_tz": -120
    },
    "id": "F4LSPwM8XJAr",
    "outputId": "b35a35fb-9a6f-4045-dc8a-c104681cebdc"
   },
   "outputs": [],
   "source": [
    "travel_time_df_belgian_centroids_from_Belgium_Netherlands =     pd.merge(travel_time_df_belgian_centroids_dutch_routes, travel_time_df_belgian_centroids_belgian_routes_from_Belgium_Netherlands[['centroid', 'avg_travel_time_nearest_neighbors_centroid']], \n",
    "                    left_index = True, right_index = True, \n",
    "                    suffixes=('_dutch_neighbors', '_belgian_neighbors'), on='centroid',\n",
    "                    how='inner')\n",
    "travel_time_df_belgian_centroids_from_Belgium_Netherlands"
   ]
  },
  {
   "cell_type": "markdown",
   "metadata": {
    "id": "N8kAIASOxdF6"
   },
   "source": [
    "Dutch centroids + Belgian and Dutch nearest neighbors"
   ]
  },
  {
   "cell_type": "code",
   "execution_count": null,
   "metadata": {
    "executionInfo": {
     "elapsed": 635714,
     "status": "ok",
     "timestamp": 1617437816385,
     "user": {
      "displayName": "Ine Winters",
      "photoUrl": "",
      "userId": "11267554535649979995"
     },
     "user_tz": -120
    },
    "id": "tj8Jt0ywxiuU"
   },
   "outputs": [],
   "source": [
    "#Dutch centroids with Belgian nearest neighbors\n",
    "travel_time_df_dutch_centroids_belgian_routes = get_the_average_travel_time(scaled_clustering_cluster_groups_5D_Netherlands_from_Belgium_Netherlands, route_characteristics_Netherlands, k_nearest_neighbors_df_dutch_centroids_belgian_routes, dutch_routes_Netherlands, belgian_routes_Belgium)\n",
    "#travel_time_df_dutch_centroids_belgian_routes"
   ]
  },
  {
   "cell_type": "code",
   "execution_count": null,
   "metadata": {
    "colab": {
     "base_uri": "https://localhost:8080/"
    },
    "executionInfo": {
     "elapsed": 635965,
     "status": "ok",
     "timestamp": 1617437816645,
     "user": {
      "displayName": "Ine Winters",
      "photoUrl": "",
      "userId": "11267554535649979995"
     },
     "user_tz": -120
    },
    "id": "tB2x4H85x5x7",
    "outputId": "3138058c-e340-4340-dc73-f0fd778aebf8"
   },
   "outputs": [],
   "source": [
    "#To search the Dutch nearest neighbors with the Dutch centroid\n",
    "k_nearest_neighbors_df_dutch_centroids_dutch_routes_from_Belgium_Netherlands = search_k_nearest_neighbors_of_centroids(cluster_centroids_5D_Netherlands_from_Belgium_Netherlands, scaled_clustering_df_Netherlands_from_Belgium_Netherlands, route_characteristics_Netherlands)\n",
    "#k_nearest_neighbors_df_dutch_centroids_dutch_routes_from_Belgium_Netherlands"
   ]
  },
  {
   "cell_type": "code",
   "execution_count": null,
   "metadata": {
    "executionInfo": {
     "elapsed": 635963,
     "status": "ok",
     "timestamp": 1617437816648,
     "user": {
      "displayName": "Ine Winters",
      "photoUrl": "",
      "userId": "11267554535649979995"
     },
     "user_tz": -120
    },
    "id": "xnPJ8WJ0y3M8"
   },
   "outputs": [],
   "source": [
    "# To search the avg_travel_time of the Dutch nearest neighbors\n",
    "travel_time_df_dutch_centroids_dutch_routes_from_Belgium_Netherlands = get_the_average_travel_time(scaled_clustering_cluster_groups_5D_Netherlands_from_Belgium_Netherlands, route_characteristics_Netherlands, k_nearest_neighbors_df_dutch_centroids_dutch_routes_from_Belgium_Netherlands, dutch_routes_Netherlands, dutch_routes_Netherlands)\n",
    "#travel_time_df_dutch_centroids_dutch_routes_from_Belgium_Netherlands "
   ]
  },
  {
   "cell_type": "code",
   "execution_count": null,
   "metadata": {
    "colab": {
     "base_uri": "https://localhost:8080/",
     "height": 0
    },
    "executionInfo": {
     "elapsed": 635962,
     "status": "ok",
     "timestamp": 1617437816652,
     "user": {
      "displayName": "Ine Winters",
      "photoUrl": "",
      "userId": "11267554535649979995"
     },
     "user_tz": -120
    },
    "id": "iv0-aCuoznnc",
    "outputId": "b2a5f4f6-ff8d-462e-a512-018b9d1b22b4"
   },
   "outputs": [],
   "source": [
    "# To get the dataframe with the Belgian and the Dutch nearest neighbors searched with the Dutch centroids\n",
    "travel_time_df_dutch_centroids_from_Belgium_Netherlands =     pd.merge(travel_time_df_dutch_centroids_belgian_routes, travel_time_df_dutch_centroids_dutch_routes_from_Belgium_Netherlands[['centroid', 'avg_travel_time_nearest_neighbors_centroid']], \n",
    "                    left_index = True, right_index = True, \n",
    "                    suffixes=('_Belgian_neighbors', '_Dutch_neighbors'), on='centroid',\n",
    "                    how='inner')\n",
    "travel_time_df_dutch_centroids_from_Belgium_Netherlands"
   ]
  },
  {
   "cell_type": "markdown",
   "metadata": {
    "id": "I5Dbssf00KGo"
   },
   "source": [
    "Belgian centroids and Swiss and Belgian nearest neighbors"
   ]
  },
  {
   "cell_type": "code",
   "execution_count": null,
   "metadata": {
    "executionInfo": {
     "elapsed": 635947,
     "status": "ok",
     "timestamp": 1617437816658,
     "user": {
      "displayName": "Ine Winters",
      "photoUrl": "",
      "userId": "11267554535649979995"
     },
     "user_tz": -120
    },
    "id": "Y858uNZV8j49"
   },
   "outputs": [],
   "source": [
    "#Belgian centroids with Swiss nearest neighbors\n",
    "travel_time_df_belgian_centroids_swiss_routes = get_the_average_travel_time(scaled_clustering_cluster_groups_5D_Belgium_from_Belgium_Switzerland, route_characteristics_Belgium, k_nearest_neighbors_df_belgian_centroids_swiss_routes, belgian_routes_Belgium, swiss_routes_Switzerland)\n",
    "#travel_time_df_belgian_centroids_swiss_routes"
   ]
  },
  {
   "cell_type": "code",
   "execution_count": null,
   "metadata": {
    "colab": {
     "base_uri": "https://localhost:8080/"
    },
    "executionInfo": {
     "elapsed": 636061,
     "status": "ok",
     "timestamp": 1617437816788,
     "user": {
      "displayName": "Ine Winters",
      "photoUrl": "",
      "userId": "11267554535649979995"
     },
     "user_tz": -120
    },
    "id": "a8ndaZZJ-yhJ",
    "outputId": "7b602741-120a-4a59-aee5-e3318bcb4373"
   },
   "outputs": [],
   "source": [
    "#To search the Belgian nearest neighbors with the Belgian centroids\n",
    "k_nearest_neighbors_df_belgian_centroids_belgian_routes_from_Belgium_Switzerland = search_k_nearest_neighbors_of_centroids(cluster_centroids_5D_Belgium_from_Belgium_Switzerland, scaled_clustering_df_Belgium_from_Belgium_Switzerland, route_characteristics_Belgium)\n",
    "#k_nearest_neighbors_df_belgian_centroids_belgian_routes_from_Belgium_Switzerland"
   ]
  },
  {
   "cell_type": "code",
   "execution_count": null,
   "metadata": {
    "executionInfo": {
     "elapsed": 636073,
     "status": "ok",
     "timestamp": 1617437816804,
     "user": {
      "displayName": "Ine Winters",
      "photoUrl": "",
      "userId": "11267554535649979995"
     },
     "user_tz": -120
    },
    "id": "X9SNwMEH_apZ"
   },
   "outputs": [],
   "source": [
    "# To search the avg_travel_time of the Belgian nearest neighbors\n",
    "travel_time_df_belgian_centroids_belgian_routes_from_Belgium_Switzerland = get_the_average_travel_time(scaled_clustering_cluster_groups_5D_Belgium_from_Belgium_Switzerland, route_characteristics_Belgium, k_nearest_neighbors_df_belgian_centroids_belgian_routes_from_Belgium_Switzerland, belgian_routes_Belgium, belgian_routes_Belgium)\n",
    "#travel_time_df_belgian_centroids_belgian_routes_from_Belgium_Switzerland"
   ]
  },
  {
   "cell_type": "code",
   "execution_count": null,
   "metadata": {
    "colab": {
     "base_uri": "https://localhost:8080/",
     "height": 0
    },
    "executionInfo": {
     "elapsed": 636071,
     "status": "ok",
     "timestamp": 1617437816806,
     "user": {
      "displayName": "Ine Winters",
      "photoUrl": "",
      "userId": "11267554535649979995"
     },
     "user_tz": -120
    },
    "id": "Q03f8WYZABSM",
    "outputId": "724d9f6e-5ff2-4b0b-feb1-11d8dd96a2eb"
   },
   "outputs": [],
   "source": [
    "# To get the dataframe with the Swiss and the Belgian nearest neighbors searched with the Belgian centroids\n",
    "travel_time_df_belgian_centroids_from_Belgium_Switzerland =     pd.merge(travel_time_df_belgian_centroids_swiss_routes, travel_time_df_belgian_centroids_belgian_routes_from_Belgium_Switzerland[['centroid', 'avg_travel_time_nearest_neighbors_centroid']], \n",
    "                    left_index = True, right_index = True, \n",
    "                    suffixes=('_Swiss_neighbors', '_Belgian_neighbors'), on='centroid',\n",
    "                    how='inner')\n",
    "travel_time_df_belgian_centroids_from_Belgium_Switzerland"
   ]
  },
  {
   "cell_type": "markdown",
   "metadata": {
    "id": "D7yq3K5b33ei"
   },
   "source": [
    "Swiss centroids and Belgian and Swiss nearest neighbors"
   ]
  },
  {
   "cell_type": "code",
   "execution_count": null,
   "metadata": {
    "executionInfo": {
     "elapsed": 636301,
     "status": "ok",
     "timestamp": 1617437817040,
     "user": {
      "displayName": "Ine Winters",
      "photoUrl": "",
      "userId": "11267554535649979995"
     },
     "user_tz": -120
    },
    "id": "hMXnTaIfDMzz"
   },
   "outputs": [],
   "source": [
    "#Swiss centroids with Belgian nearest neighbors\n",
    "travel_time_df_swiss_centroids_belgian_routes = get_the_average_travel_time(scaled_clustering_cluster_groups_5D_Switzerland_from_Belgium_Switzerland, route_characteristics_Switzerland, k_nearest_neighbors_df_swiss_centroids_belgian_routes, swiss_routes_Switzerland, belgian_routes_Belgium)\n",
    "#travel_time_df_swiss_centroids_belgian_routes"
   ]
  },
  {
   "cell_type": "code",
   "execution_count": null,
   "metadata": {
    "colab": {
     "base_uri": "https://localhost:8080/"
    },
    "executionInfo": {
     "elapsed": 637913,
     "status": "ok",
     "timestamp": 1617437818665,
     "user": {
      "displayName": "Ine Winters",
      "photoUrl": "",
      "userId": "11267554535649979995"
     },
     "user_tz": -120
    },
    "id": "Kc4z980fDNNq",
    "outputId": "47f62d06-4116-4e7d-d8ec-4defff7c2ecc"
   },
   "outputs": [],
   "source": [
    "#To search the Swiss nearest neighbors with the Swiss centroids\n",
    "k_nearest_neighbors_df_swiss_centroids_swiss_routes_from_Belgium_Switzerland = search_k_nearest_neighbors_of_centroids(cluster_centroids_5D_Switzerland_from_Belgium_Switzerland, scaled_clustering_df_Switzerland_from_Belgium_Switzerland, route_characteristics_Switzerland)\n",
    "#k_nearest_neighbors_df_swiss_centroids_swiss_routes_from_Belgium_Switzerland"
   ]
  },
  {
   "cell_type": "code",
   "execution_count": null,
   "metadata": {
    "executionInfo": {
     "elapsed": 638226,
     "status": "ok",
     "timestamp": 1617437819009,
     "user": {
      "displayName": "Ine Winters",
      "photoUrl": "",
      "userId": "11267554535649979995"
     },
     "user_tz": -120
    },
    "id": "NgLtiAQeDNgV"
   },
   "outputs": [],
   "source": [
    "# To search the avg_travel_time of the Swiss nearest neighbors\n",
    "travel_time_df_swiss_centroids_swiss_routes_from_Belgium_Switzerland = get_the_average_travel_time(scaled_clustering_cluster_groups_5D_Switzerland_from_Belgium_Switzerland, route_characteristics_Switzerland, k_nearest_neighbors_df_swiss_centroids_swiss_routes_from_Belgium_Switzerland, swiss_routes_Switzerland, swiss_routes_Switzerland)\n",
    "#travel_time_df_swiss_centroids_swiss_routes_from_Belgium_Switzerland"
   ]
  },
  {
   "cell_type": "code",
   "execution_count": null,
   "metadata": {
    "colab": {
     "base_uri": "https://localhost:8080/",
     "height": 0
    },
    "executionInfo": {
     "elapsed": 638221,
     "status": "ok",
     "timestamp": 1617437819010,
     "user": {
      "displayName": "Ine Winters",
      "photoUrl": "",
      "userId": "11267554535649979995"
     },
     "user_tz": -120
    },
    "id": "WMCiUdWRDNxl",
    "outputId": "f284f346-ec79-4b6b-ffd3-56203a349c1c"
   },
   "outputs": [],
   "source": [
    "# To get the dataframe with the Belgian and the Swiss nearest neighbors searched with the Swiss centroids\n",
    "travel_time_df_swiss_centroids_from_Belgium_Switzerland =     pd.merge(travel_time_df_swiss_centroids_belgian_routes, travel_time_df_swiss_centroids_swiss_routes_from_Belgium_Switzerland[['centroid', 'avg_travel_time_nearest_neighbors_centroid']], \n",
    "                    left_index = True, right_index = True, \n",
    "                    suffixes=('_Belgian_neighbors', '_Swiss_neighbors'), on='centroid',\n",
    "                    how='inner')\n",
    "travel_time_df_swiss_centroids_from_Belgium_Switzerland"
   ]
  },
  {
   "cell_type": "markdown",
   "metadata": {
    "id": "Z_8agFG95Dxc"
   },
   "source": [
    "Dutch centroids and Swiss and Dutch nearest neighbors"
   ]
  },
  {
   "cell_type": "code",
   "execution_count": null,
   "metadata": {
    "executionInfo": {
     "elapsed": 638221,
     "status": "ok",
     "timestamp": 1617437819014,
     "user": {
      "displayName": "Ine Winters",
      "photoUrl": "",
      "userId": "11267554535649979995"
     },
     "user_tz": -120
    },
    "id": "FwjMRcWE0Wy7"
   },
   "outputs": [],
   "source": [
    "#Dutch centroids with Swiss nearest neighbors\n",
    "travel_time_df_dutch_centroids_swiss_routes = get_the_average_travel_time(scaled_clustering_cluster_groups_5D_Netherlands_from_Netherlands_Switzerland, route_characteristics_Netherlands, k_nearest_neighbors_df_dutch_centroids_swiss_routes, dutch_routes_Netherlands, swiss_routes_Switzerland)\n",
    "#travel_time_df_dutch_centroids_swiss_routes"
   ]
  },
  {
   "cell_type": "code",
   "execution_count": null,
   "metadata": {
    "colab": {
     "base_uri": "https://localhost:8080/"
    },
    "executionInfo": {
     "elapsed": 638239,
     "status": "ok",
     "timestamp": 1617437819036,
     "user": {
      "displayName": "Ine Winters",
      "photoUrl": "",
      "userId": "11267554535649979995"
     },
     "user_tz": -120
    },
    "id": "jw4-9UGu0Y0L",
    "outputId": "aa08717e-a095-49c5-bb84-4262f615c41b"
   },
   "outputs": [],
   "source": [
    "#To search the Dutch nearest neighbors with the Dutch centroid\n",
    "k_nearest_neighbors_df_dutch_centroids_dutch_routes_from_Netherlands_Switzerland = search_k_nearest_neighbors_of_centroids(cluster_centroids_5D_Netherlands_from_Netherlands_Switzerland, scaled_clustering_df_Netherlands_from_Netherlands_Switzerland, route_characteristics_Netherlands)\n",
    "#k_nearest_neighbors_df_dutch_centroids_dutch_routes_from_Netherlands_Switzerland"
   ]
  },
  {
   "cell_type": "code",
   "execution_count": null,
   "metadata": {
    "executionInfo": {
     "elapsed": 638214,
     "status": "ok",
     "timestamp": 1617437819037,
     "user": {
      "displayName": "Ine Winters",
      "photoUrl": "",
      "userId": "11267554535649979995"
     },
     "user_tz": -120
    },
    "id": "H6jDGdAo0a_s"
   },
   "outputs": [],
   "source": [
    "# To search the avg_travel_time of the Dutch nearest neighbors\n",
    "travel_time_df_dutch_centroids_dutch_routes_from_Netherlands_Switzerland = get_the_average_travel_time(scaled_clustering_cluster_groups_5D_Netherlands_from_Netherlands_Switzerland, route_characteristics_Netherlands, k_nearest_neighbors_df_dutch_centroids_dutch_routes_from_Netherlands_Switzerland, dutch_routes_Netherlands, dutch_routes_Netherlands)\n",
    "#travel_time_df_dutch_centroids_dutch_routes_from_Netherlands_Switzerland"
   ]
  },
  {
   "cell_type": "code",
   "execution_count": null,
   "metadata": {
    "colab": {
     "base_uri": "https://localhost:8080/",
     "height": 0
    },
    "executionInfo": {
     "elapsed": 638211,
     "status": "ok",
     "timestamp": 1617437819038,
     "user": {
      "displayName": "Ine Winters",
      "photoUrl": "",
      "userId": "11267554535649979995"
     },
     "user_tz": -120
    },
    "id": "3mSvvR7Q0c-b",
    "outputId": "139fd3a4-4a95-4f6e-ff5e-0deb7408f58f"
   },
   "outputs": [],
   "source": [
    "# To get the dataframe with the Swiss and the Dutch nearest neighbors searched with the Dutch centroids\n",
    "travel_time_df_dutch_centroids_from_Netherlands_Switzerland =     pd.merge(travel_time_df_dutch_centroids_swiss_routes, travel_time_df_dutch_centroids_dutch_routes_from_Netherlands_Switzerland[['centroid', 'avg_travel_time_nearest_neighbors_centroid']], \n",
    "                    left_index = True, right_index = True, \n",
    "                    suffixes=('_Swiss_neighbors', '_Dutch_neighbors'), on='centroid',\n",
    "                    how='inner')\n",
    "travel_time_df_dutch_centroids_from_Netherlands_Switzerland"
   ]
  },
  {
   "cell_type": "markdown",
   "metadata": {
    "id": "e-3ssKZV5HMI"
   },
   "source": [
    "Swiss centroids and Dutch and Swiss neighbors"
   ]
  },
  {
   "cell_type": "code",
   "execution_count": null,
   "metadata": {
    "executionInfo": {
     "elapsed": 638342,
     "status": "ok",
     "timestamp": 1617437819174,
     "user": {
      "displayName": "Ine Winters",
      "photoUrl": "",
      "userId": "11267554535649979995"
     },
     "user_tz": -120
    },
    "id": "P14St8XhJpWD"
   },
   "outputs": [],
   "source": [
    "#Swiss centroids with Dutch nearest neighbors\n",
    "travel_time_df_swiss_centroids_dutch_routes = get_the_average_travel_time(scaled_clustering_cluster_groups_5D_Switzerland_from_Netherlands_Switzerland, route_characteristics_Switzerland, k_nearest_neighbors_df_swiss_centroids_dutch_routes, swiss_routes_Switzerland, dutch_routes_Netherlands)\n",
    "#travel_time_df_swiss_centroids_dutch_routes"
   ]
  },
  {
   "cell_type": "code",
   "execution_count": null,
   "metadata": {
    "colab": {
     "base_uri": "https://localhost:8080/"
    },
    "executionInfo": {
     "elapsed": 640078,
     "status": "ok",
     "timestamp": 1617437820914,
     "user": {
      "displayName": "Ine Winters",
      "photoUrl": "",
      "userId": "11267554535649979995"
     },
     "user_tz": -120
    },
    "id": "bSqWmo5MJpph",
    "outputId": "e922309f-92c5-4bb9-c9e4-c1c8d7684d71"
   },
   "outputs": [],
   "source": [
    "#To search the Swiss nearest neighbors with the Swiss centroids\n",
    "k_nearest_neighbors_df_swiss_centroids_swiss_routes_from_Netherlands_Switzerland = search_k_nearest_neighbors_of_centroids(cluster_centroids_5D_Switzerland_from_Netherlands_Switzerland, scaled_clustering_df_Switzerland_from_Netherlands_Switzerland, route_characteristics_Switzerland)\n",
    "#k_nearest_neighbors_df_swiss_centroids_swiss_routes_from_Netherlands_Switzerland"
   ]
  },
  {
   "cell_type": "code",
   "execution_count": null,
   "metadata": {
    "executionInfo": {
     "elapsed": 640063,
     "status": "ok",
     "timestamp": 1617437820920,
     "user": {
      "displayName": "Ine Winters",
      "photoUrl": "",
      "userId": "11267554535649979995"
     },
     "user_tz": -120
    },
    "id": "a6XcIkyuJp8I"
   },
   "outputs": [],
   "source": [
    "# To search the avg_travel_time of the Swiss nearest neighbors\n",
    "travel_time_df_swiss_centroids_swiss_routes_from_Netherlands_Switzerland = get_the_average_travel_time(scaled_clustering_cluster_groups_5D_Switzerland_from_Netherlands_Switzerland, route_characteristics_Switzerland, k_nearest_neighbors_df_swiss_centroids_swiss_routes_from_Netherlands_Switzerland, swiss_routes_Switzerland, swiss_routes_Switzerland)\n",
    "#travel_time_df_swiss_centroids_swiss_routes_from_Netherlands_Switzerland"
   ]
  },
  {
   "cell_type": "code",
   "execution_count": null,
   "metadata": {
    "colab": {
     "base_uri": "https://localhost:8080/",
     "height": 0
    },
    "executionInfo": {
     "elapsed": 639987,
     "status": "ok",
     "timestamp": 1617437820927,
     "user": {
      "displayName": "Ine Winters",
      "photoUrl": "",
      "userId": "11267554535649979995"
     },
     "user_tz": -120
    },
    "id": "w2fvHO_jJqS8",
    "outputId": "a83ac5cf-00c2-4a25-e28c-4b5d65deb35a"
   },
   "outputs": [],
   "source": [
    "# To get the dataframe with the Dutch and the Swiss nearest neighbors searched with the Swiss centroids\n",
    "travel_time_df_swiss_centroids_from_Netherlands_Switzerland =     pd.merge(travel_time_df_swiss_centroids_dutch_routes, travel_time_df_swiss_centroids_swiss_routes_from_Netherlands_Switzerland[['centroid', 'avg_travel_time_nearest_neighbors_centroid']], \n",
    "                    left_index = True, right_index = True, \n",
    "                    suffixes=('_Dutch_neighbors', '_Swiss_neighbors'), on='centroid',\n",
    "                    how='inner')\n",
    "travel_time_df_swiss_centroids_from_Netherlands_Switzerland"
   ]
  }
 ],
 "metadata": {
  "colab": {
   "collapsed_sections": [],
   "name": "Main_analysis.ipynb",
   "provenance": []
  },
  "kernelspec": {
   "display_name": "Python 3",
   "language": "python",
   "name": "python3"
  },
  "language_info": {
   "codemirror_mode": {
    "name": "ipython",
    "version": 3
   },
   "file_extension": ".py",
   "mimetype": "text/x-python",
   "name": "python",
   "nbconvert_exporter": "python",
   "pygments_lexer": "ipython3",
   "version": "3.8.5"
  }
 },
 "nbformat": 4,
 "nbformat_minor": 1
}
